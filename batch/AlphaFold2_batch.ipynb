{
  "nbformat": 4,
  "nbformat_minor": 0,
  "metadata": {
    "accelerator": "GPU",
    "colab": {
      "name": "AlphaFold2_batch.ipynb",
      "provenance": [],
      "include_colab_link": true
    },
    "kernelspec": {
      "name": "python3",
      "language": "python",
      "display_name": "Python 3 (ipykernel)"
    },
    "language_info": {
      "name": "python"
    }
  },
  "cells": [
    {
      "cell_type": "markdown",
      "metadata": {
        "id": "view-in-github",
        "colab_type": "text"
      },
      "source": [
        "<a href=\"https://colab.research.google.com/github/Bharathikoruprolu245/EodPaymentSystem-/blob/main/batch/AlphaFold2_batch.ipynb\" target=\"_parent\"><img src=\"https://colab.research.google.com/assets/colab-badge.svg\" alt=\"Open In Colab\"/></a>"
      ]
    },
    {
      "cell_type": "markdown",
      "metadata": {
        "id": "G4yBrceuFbf3"
      },
      "source": [
        "#ColabFold v1.5.5: AlphaFold2 w/ MMseqs2 BATCH\n",
        "\n",
        "<img src=\"https://raw.githubusercontent.com/sokrypton/ColabFold/main/.github/ColabFold_Marv_Logo_Small.png\" height=\"256\" align=\"right\" style=\"height:256px\">\n",
        "\n",
        "Easy to use AlphaFold2 protein structure [(Jumper et al. 2021)](https://www.nature.com/articles/s41586-021-03819-2) and complex [(Evans et al. 2021)](https://www.biorxiv.org/content/10.1101/2021.10.04.463034v1) prediction using multiple sequence alignments generated through MMseqs2. For details, refer to our manuscript:\n",
        "\n",
        "[Mirdita M, Schütze K, Moriwaki Y, Heo L, Ovchinnikov S, Steinegger M. ColabFold: Making protein folding accessible to all.\n",
        "*Nature Methods*, 2022](https://www.nature.com/articles/s41592-022-01488-1)\n",
        "\n",
        "**Usage**\n",
        "\n",
        "`input_dir` directory with only fasta files or MSAs stored in Google Drive. MSAs need to be A3M formatted and have an `.a3m` extention. For MSAs MMseqs2 will not be called.\n",
        "\n",
        "`result_dir` results will be written to the result directory in Google Drive\n",
        "\n",
        "Old versions: [v1.4](https://colab.research.google.com/github/sokrypton/ColabFold/blob/v1.4.0/batch/AlphaFold2_batch.ipynb), [v1.5.1](https://colab.research.google.com/github/sokrypton/ColabFold/blob/v1.5.1/batch/AlphaFold2_batch.ipynb), [v1.5.2](https://colab.research.google.com/github/sokrypton/ColabFold/blob/v1.5.2/batch/AlphaFold2_batch.ipynb), [v1.5.3-patch](https://colab.research.google.com/github/sokrypton/ColabFold/blob/56c72044c7d51a311ca99b953a71e552fdc042e1/batch/AlphaFold2_batch.ipynb)\n",
        "\n",
        "<strong>For more details, see <a href=\"#Instructions\">bottom</a> of the notebook and checkout the [ColabFold GitHub](https://github.com/sokrypton/ColabFold). </strong>\n",
        "\n",
        "-----------\n",
        "\n",
        "### News\n",
        "- <b><font color='green'>2023/07/31: The ColabFold MSA server is back to normal. It was using older DB (UniRef30 2202/PDB70 220313) from 27th ~8:30 AM CEST to 31st ~11:10 AM CEST.</font></b>\n",
        "- <b><font color='green'>2023/06/12: New databases! UniRef30 updated to 2023_02 and PDB to 230517. We now use PDB100 instead of PDB70 (see notes in the [main](https://colabfold.com) notebook).</font></b>\n",
        "- <b><font color='green'>2023/06/12: We introduced a new default pairing strategy: Previously, for multimer predictions with more than 2 chains, we only pair if all sequences taxonomically match (\"complete\" pairing). The new default \"greedy\" strategy pairs any taxonomically matching subsets.</font></b>"
      ]
    },
    {
      "cell_type": "code",
      "metadata": {
        "id": "AwvIWN3HDyUJ",
        "cellView": "form",
        "outputId": "cd8fa384-d1cd-4de6-a9eb-b7d53e96e05b",
        "colab": {
          "base_uri": "https://localhost:8080/"
        }
      },
      "source": [
        "#@title Mount google drive\n",
        "from google.colab import drive\n",
        "drive.mount('/content/drive')\n",
        "from sys import version_info\n",
        "python_version = f\"{version_info.major}.{version_info.minor}\""
      ],
      "execution_count": 1,
      "outputs": [
        {
          "output_type": "stream",
          "name": "stdout",
          "text": [
            "Mounted at /content/drive\n"
          ]
        }
      ]
    },
    {
      "cell_type": "code",
      "metadata": {
        "id": "kOblAo-xetgx"
      },
      "source": [
        "#@title Input protein sequence, then hit `Runtime` -> `Run all`\n",
        "\n",
        "input_dir = '/content/drive/MyDrive/individual_fastas/batch2' #@param {type:\"string\"}\n",
        "result_dir = '/content/drive/MyDrive/result2' #@param {type:\"string\"}\n",
        "\n",
        "# number of models to use\n",
        "#@markdown ---\n",
        "#@markdown ### Advanced settings\n",
        "msa_mode = \"MMseqs2 (UniRef+Environmental)\" #@param [\"MMseqs2 (UniRef+Environmental)\", \"MMseqs2 (UniRef only)\",\"single_sequence\",\"custom\"]\n",
        "num_models = 3 #@param [1,2,3,4,5] {type:\"raw\"}\n",
        "num_recycles = 3 #@param [1,3,6,12,24,48] {type:\"raw\"}\n",
        "stop_at_score = 100 #@param {type:\"string\"}\n",
        "#@markdown - early stop computing models once score > threshold (avg. plddt for \"structures\" and ptmscore for \"complexes\")\n",
        "use_custom_msa = False\n",
        "num_relax = 0 #@param [0, 1, 5] {type:\"raw\"}\n",
        "use_amber = num_relax > 0\n",
        "relax_max_iterations = 0 #@param [0,200,2000] {type:\"raw\"}\n",
        "use_templates = True #@param {type:\"boolean\"}\n",
        "do_not_overwrite_results = True #@param {type:\"boolean\"}\n",
        "zip_results = True #@param {type:\"boolean\"}\n"
      ],
      "execution_count": 2,
      "outputs": []
    },
    {
      "cell_type": "code",
      "source": [
        "!pip install appdirs biopython tqdm"
      ],
      "metadata": {
        "id": "9333otUK6gNn",
        "outputId": "125af8fe-89b3-4e2d-a47f-95f941e529b4",
        "colab": {
          "base_uri": "https://localhost:8080/"
        }
      },
      "execution_count": 3,
      "outputs": [
        {
          "output_type": "stream",
          "name": "stdout",
          "text": [
            "Collecting appdirs\n",
            "  Downloading appdirs-1.4.4-py2.py3-none-any.whl.metadata (9.0 kB)\n",
            "Collecting biopython\n",
            "  Downloading biopython-1.85-cp311-cp311-manylinux_2_17_x86_64.manylinux2014_x86_64.whl.metadata (13 kB)\n",
            "Requirement already satisfied: tqdm in /usr/local/lib/python3.11/dist-packages (4.67.1)\n",
            "Requirement already satisfied: numpy in /usr/local/lib/python3.11/dist-packages (from biopython) (2.0.2)\n",
            "Downloading appdirs-1.4.4-py2.py3-none-any.whl (9.6 kB)\n",
            "Downloading biopython-1.85-cp311-cp311-manylinux_2_17_x86_64.manylinux2014_x86_64.whl (3.3 MB)\n",
            "\u001b[2K   \u001b[90m━━━━━━━━━━━━━━━━━━━━━━━━━━━━━━━━━━━━━━━━\u001b[0m \u001b[32m3.3/3.3 MB\u001b[0m \u001b[31m103.2 MB/s\u001b[0m eta \u001b[36m0:00:00\u001b[0m\n",
            "\u001b[?25hInstalling collected packages: appdirs, biopython\n",
            "Successfully installed appdirs-1.4.4 biopython-1.85\n"
          ]
        }
      ]
    },
    {
      "cell_type": "code",
      "metadata": {
        "id": "iccGdbe_Pmt9",
        "outputId": "57ecc107-715f-491f-d46b-6b33ddac332b",
        "colab": {
          "base_uri": "https://localhost:8080/"
        }
      },
      "source": [
        "#@title Install dependencies\n",
        "%%bash -s $use_amber $use_templates $python_version\n",
        "\n",
        "set -e\n",
        "\n",
        "USE_AMBER=$1\n",
        "USE_TEMPLATES=$2\n",
        "PYTHON_VERSION=$3\n",
        "\n",
        "if [ ! -f COLABFOLD_READY ]; then\n",
        "  # install ColabFold\n",
        "  pip install -q --no-warn-conflicts \"colabfold[alphafold-minus-jax] @ git+https://github.com/sokrypton/ColabFold\"\n",
        "\n",
        "  if [ -n \"${TPU_NAME}\" ]; then\n",
        "    pip install -q --no-warn-conflicts -U dm-haiku==0.0.10 jax==0.3.25\n",
        "  fi\n",
        "\n",
        "  ln -s /usr/local/lib/python3.*/dist-packages/colabfold colabfold\n",
        "  ln -s /usr/local/lib/python3.*/dist-packages/alphafold alphafold\n",
        "\n",
        "  # hack to fix TF crash\n",
        "  rm -f /usr/local/lib/python3.*/dist-packages/tensorflow/core/kernels/libtfkernel_sobol_op.so\n",
        "\n",
        "  touch COLABFOLD_READY\n",
        "fi\n",
        "\n",
        "# Download params (~1min)\n",
        "python3 -m colabfold.download\n",
        "\n",
        "# setup conda if needed\n",
        "if [ ${USE_AMBER} == \"True\" ] || [ ${USE_TEMPLATES} == \"True\" ]; then\n",
        "  if [ ! -f CONDA_READY ]; then\n",
        "    wget -qnc https://github.com/conda-forge/miniforge/releases/download/25.3.1-0/Miniforge3-25.3.1-0-Linux-x86_64.sh\n",
        "    bash Miniforge3-25.3.1-0-Linux-x86_64.sh -bfp /usr/local 2>&1 1>/dev/null\n",
        "    rm Miniforge3-25.3.1-0-Linux-x86_64.sh\n",
        "    conda config --set auto_update_conda false\n",
        "    touch CONDA_READY\n",
        "  fi\n",
        "fi\n",
        "\n",
        "# setup template search\n",
        "if [ ${USE_TEMPLATES} == \"True\" ] && [ ! -f HH_READY ]; then\n",
        "  conda install -y -q -c conda-forge -c bioconda kalign2=2.04 hhsuite=3.3.0 python=\"${PYTHON_VERSION}\" 2>&1 1>/dev/null\n",
        "  touch HH_READY\n",
        "fi\n",
        "\n",
        "# setup openmm for amber refinement\n",
        "if [ ${USE_AMBER} == \"True\" ] && [ ! -f AMBER_READY ]; then\n",
        "  conda install -y -q -c conda-forge openmm=8.2.0 python=\"${PYTHON_VERSION}\" pdbfixer 2>&1 1>/dev/null\n",
        "  touch AMBER_READY\n",
        "fi\n"
      ],
      "execution_count": 4,
      "outputs": [
        {
          "output_type": "stream",
          "name": "stdout",
          "text": [
            "   ━━━━━━━━━━━━━━━━━━━━━━━━━━━━━━━━━━━━━━━━ 248.2/248.2 kB 9.3 MB/s eta 0:00:00\n",
            "   ━━━━━━━━━━━━━━━━━━━━━━━━━━━━━━━━━━━━━━━━ 373.9/373.9 kB 30.1 MB/s eta 0:00:00\n",
            "   ━━━━━━━━━━━━━━━━━━━━━━━━━━━━━━━━━━━━━━━━ 258.9/258.9 MB 3.5 MB/s eta 0:00:00\n",
            "   ━━━━━━━━━━━━━━━━━━━━━━━━━━━━━━━━━━━━━━━━ 5.5/5.5 MB 100.2 MB/s eta 0:00:00\n",
            "   ━━━━━━━━━━━━━━━━━━━━━━━━━━━━━━━━━━━━━━━━ 76.7/76.7 kB 7.9 MB/s eta 0:00:00\n",
            "warning  libmamba [python-3.12.11-h9e4cc4f_0_cpython] The following files were already present in the environment:\n",
            "    - bin/python\n",
            "warning  libmamba [charset-normalizer-3.4.2-pyhd8ed1ab_0] The following files were already present in the environment:\n",
            "    - bin/normalizer\n",
            "warning  libmamba [distro-1.9.0-pyhd8ed1ab_1] The following files were already present in the environment:\n",
            "    - bin/distro\n",
            "warning  libmamba [jsonpointer-3.0.0-py312h7900ff3_1] The following files were already present in the environment:\n",
            "    - bin/jsonpointer\n",
            "warning  libmamba [wheel-0.45.1-pyhd8ed1ab_1] The following files were already present in the environment:\n",
            "    - bin/wheel\n",
            "warning  libmamba [jsonpatch-1.33-pyhd8ed1ab_1] The following files were already present in the environment:\n",
            "    - bin/jsondiff\n",
            "    - bin/jsonpatch\n",
            "warning  libmamba [pip-25.1.1-pyh8b19718_0] The following files were already present in the environment:\n",
            "    - bin/pip\n",
            "    - bin/pip3\n",
            "warning  libmamba [tqdm-4.67.1-pyhd8ed1ab_1] The following files were already present in the environment:\n",
            "    - bin/tqdm\n"
          ]
        },
        {
          "output_type": "stream",
          "name": "stderr",
          "text": [
            "\rDownloading alphafold2_multimer_v3 weights to /root/.cache/colabfold:   0%|          | 0/4099624960 [00:00<?, ?it/s]\rDownloading alphafold2_multimer_v3 weights to /root/.cache/colabfold:   0%|          | 50.0k/3.82G [00:00<4:33:15, 250kB/s]\rDownloading alphafold2_multimer_v3 weights to /root/.cache/colabfold:   0%|          | 80.0k/3.82G [00:00<5:31:22, 206kB/s]\rDownloading alphafold2_multimer_v3 weights to /root/.cache/colabfold:   0%|          | 160k/3.82G [00:00<3:16:51, 347kB/s] \rDownloading alphafold2_multimer_v3 weights to /root/.cache/colabfold:   0%|          | 240k/3.82G [00:00<2:25:29, 470kB/s]\rDownloading alphafold2_multimer_v3 weights to /root/.cache/colabfold:   0%|          | 360k/3.82G [00:00<1:40:06, 683kB/s]\rDownloading alphafold2_multimer_v3 weights to /root/.cache/colabfold:   0%|          | 530k/3.82G [00:00<1:10:16, 972kB/s]\rDownloading alphafold2_multimer_v3 weights to /root/.cache/colabfold:   0%|          | 770k/3.82G [00:00<48:57, 1.40MB/s] \rDownloading alphafold2_multimer_v3 weights to /root/.cache/colabfold:   0%|          | 1.14M/3.82G [00:01<31:32, 2.17MB/s]\rDownloading alphafold2_multimer_v3 weights to /root/.cache/colabfold:   0%|          | 1.69M/3.82G [00:01<21:22, 3.20MB/s]\rDownloading alphafold2_multimer_v3 weights to /root/.cache/colabfold:   0%|          | 2.55M/3.82G [00:01<13:55, 4.90MB/s]\rDownloading alphafold2_multimer_v3 weights to /root/.cache/colabfold:   0%|          | 3.85M/3.82G [00:01<09:07, 7.47MB/s]\rDownloading alphafold2_multimer_v3 weights to /root/.cache/colabfold:   0%|          | 5.81M/3.82G [00:01<06:01, 11.3MB/s]\rDownloading alphafold2_multimer_v3 weights to /root/.cache/colabfold:   0%|          | 8.14M/3.82G [00:01<04:28, 15.2MB/s]\rDownloading alphafold2_multimer_v3 weights to /root/.cache/colabfold:   0%|          | 10.5M/3.82G [00:01<03:46, 18.0MB/s]\rDownloading alphafold2_multimer_v3 weights to /root/.cache/colabfold:   0%|          | 12.6M/3.82G [00:01<03:33, 19.1MB/s]\rDownloading alphafold2_multimer_v3 weights to /root/.cache/colabfold:   0%|          | 15.1M/3.82G [00:01<03:13, 21.1MB/s]\rDownloading alphafold2_multimer_v3 weights to /root/.cache/colabfold:   0%|          | 17.3M/3.82G [00:01<03:06, 21.9MB/s]\rDownloading alphafold2_multimer_v3 weights to /root/.cache/colabfold:   0%|          | 19.5M/3.82G [00:02<03:08, 21.7MB/s]\rDownloading alphafold2_multimer_v3 weights to /root/.cache/colabfold:   1%|          | 22.1M/3.82G [00:02<02:52, 23.6MB/s]\rDownloading alphafold2_multimer_v3 weights to /root/.cache/colabfold:   1%|          | 24.4M/3.82G [00:02<03:00, 22.5MB/s]\rDownloading alphafold2_multimer_v3 weights to /root/.cache/colabfold:   1%|          | 26.8M/3.82G [00:02<03:00, 22.6MB/s]\rDownloading alphafold2_multimer_v3 weights to /root/.cache/colabfold:   1%|          | 29.5M/3.82G [00:02<02:48, 24.2MB/s]\rDownloading alphafold2_multimer_v3 weights to /root/.cache/colabfold:   1%|          | 31.8M/3.82G [00:02<02:56, 23.1MB/s]\rDownloading alphafold2_multimer_v3 weights to /root/.cache/colabfold:   1%|          | 34.1M/3.82G [00:02<02:57, 22.8MB/s]\rDownloading alphafold2_multimer_v3 weights to /root/.cache/colabfold:   1%|          | 36.8M/3.82G [00:02<02:46, 24.3MB/s]\rDownloading alphafold2_multimer_v3 weights to /root/.cache/colabfold:   1%|          | 39.1M/3.82G [00:02<02:54, 23.2MB/s]\rDownloading alphafold2_multimer_v3 weights to /root/.cache/colabfold:   1%|          | 41.4M/3.82G [00:03<02:57, 22.9MB/s]\rDownloading alphafold2_multimer_v3 weights to /root/.cache/colabfold:   1%|          | 44.0M/3.82G [00:03<02:46, 24.4MB/s]\rDownloading alphafold2_multimer_v3 weights to /root/.cache/colabfold:   1%|          | 46.4M/3.82G [00:03<02:54, 23.2MB/s]\rDownloading alphafold2_multimer_v3 weights to /root/.cache/colabfold:   1%|          | 48.7M/3.82G [00:03<02:56, 22.9MB/s]\rDownloading alphafold2_multimer_v3 weights to /root/.cache/colabfold:   1%|▏         | 51.3M/3.82G [00:03<02:45, 24.4MB/s]\rDownloading alphafold2_multimer_v3 weights to /root/.cache/colabfold:   1%|▏         | 53.7M/3.82G [00:03<02:53, 23.3MB/s]\rDownloading alphafold2_multimer_v3 weights to /root/.cache/colabfold:   1%|▏         | 56.0M/3.82G [00:03<02:56, 22.9MB/s]\rDownloading alphafold2_multimer_v3 weights to /root/.cache/colabfold:   2%|▏         | 58.7M/3.82G [00:03<02:45, 24.4MB/s]\rDownloading alphafold2_multimer_v3 weights to /root/.cache/colabfold:   2%|▏         | 61.0M/3.82G [00:03<02:53, 23.3MB/s]\rDownloading alphafold2_multimer_v3 weights to /root/.cache/colabfold:   2%|▏         | 63.3M/3.82G [00:04<02:55, 22.9MB/s]\rDownloading alphafold2_multimer_v3 weights to /root/.cache/colabfold:   2%|▏         | 65.9M/3.82G [00:04<02:45, 24.3MB/s]\rDownloading alphafold2_multimer_v3 weights to /root/.cache/colabfold:   2%|▏         | 68.3M/3.82G [00:04<02:53, 23.2MB/s]\rDownloading alphafold2_multimer_v3 weights to /root/.cache/colabfold:   2%|▏         | 70.5M/3.82G [00:04<03:30, 19.2MB/s]\rDownloading alphafold2_multimer_v3 weights to /root/.cache/colabfold:   2%|▏         | 72.5M/3.82G [00:04<03:57, 16.9MB/s]\rDownloading alphafold2_multimer_v3 weights to /root/.cache/colabfold:   2%|▏         | 75.4M/3.82G [00:04<03:33, 18.8MB/s]\rDownloading alphafold2_multimer_v3 weights to /root/.cache/colabfold:   2%|▏         | 79.1M/3.82G [00:04<03:16, 20.4MB/s]\rDownloading alphafold2_multimer_v3 weights to /root/.cache/colabfold:   2%|▏         | 82.7M/3.82G [00:05<03:07, 21.4MB/s]\rDownloading alphafold2_multimer_v3 weights to /root/.cache/colabfold:   2%|▏         | 86.4M/3.82G [00:05<03:01, 22.1MB/s]\rDownloading alphafold2_multimer_v3 weights to /root/.cache/colabfold:   2%|▏         | 90.0M/3.82G [00:05<03:14, 20.5MB/s]\rDownloading alphafold2_multimer_v3 weights to /root/.cache/colabfold:   2%|▏         | 93.2M/3.82G [00:05<03:13, 20.7MB/s]\rDownloading alphafold2_multimer_v3 weights to /root/.cache/colabfold:   2%|▏         | 96.9M/3.82G [00:05<03:05, 21.6MB/s]\rDownloading alphafold2_multimer_v3 weights to /root/.cache/colabfold:   3%|▎         | 101M/3.82G [00:05<03:00, 22.1MB/s] \rDownloading alphafold2_multimer_v3 weights to /root/.cache/colabfold:   3%|▎         | 104M/3.82G [00:06<02:57, 22.5MB/s]\rDownloading alphafold2_multimer_v3 weights to /root/.cache/colabfold:   3%|▎         | 108M/3.82G [00:06<02:54, 22.8MB/s]\rDownloading alphafold2_multimer_v3 weights to /root/.cache/colabfold:   3%|▎         | 111M/3.82G [00:06<02:52, 23.0MB/s]\rDownloading alphafold2_multimer_v3 weights to /root/.cache/colabfold:   3%|▎         | 115M/3.82G [00:06<02:51, 23.2MB/s]\rDownloading alphafold2_multimer_v3 weights to /root/.cache/colabfold:   3%|▎         | 119M/3.82G [00:06<02:50, 23.3MB/s]\rDownloading alphafold2_multimer_v3 weights to /root/.cache/colabfold:   3%|▎         | 122M/3.82G [00:06<02:50, 23.4MB/s]\rDownloading alphafold2_multimer_v3 weights to /root/.cache/colabfold:   3%|▎         | 126M/3.82G [00:07<02:49, 23.4MB/s]\rDownloading alphafold2_multimer_v3 weights to /root/.cache/colabfold:   3%|▎         | 130M/3.82G [00:07<02:49, 23.4MB/s]\rDownloading alphafold2_multimer_v3 weights to /root/.cache/colabfold:   3%|▎         | 133M/3.82G [00:07<02:48, 23.5MB/s]\rDownloading alphafold2_multimer_v3 weights to /root/.cache/colabfold:   4%|▎         | 137M/3.82G [00:07<02:48, 23.5MB/s]\rDownloading alphafold2_multimer_v3 weights to /root/.cache/colabfold:   4%|▎         | 141M/3.82G [00:07<02:48, 23.5MB/s]\rDownloading alphafold2_multimer_v3 weights to /root/.cache/colabfold:   4%|▎         | 144M/3.82G [00:07<02:47, 23.5MB/s]\rDownloading alphafold2_multimer_v3 weights to /root/.cache/colabfold:   4%|▍         | 148M/3.82G [00:07<02:47, 23.5MB/s]\rDownloading alphafold2_multimer_v3 weights to /root/.cache/colabfold:   4%|▍         | 152M/3.82G [00:08<02:47, 23.5MB/s]\rDownloading alphafold2_multimer_v3 weights to /root/.cache/colabfold:   4%|▍         | 155M/3.82G [00:08<02:47, 23.5MB/s]\rDownloading alphafold2_multimer_v3 weights to /root/.cache/colabfold:   4%|▍         | 159M/3.82G [00:08<02:47, 23.5MB/s]\rDownloading alphafold2_multimer_v3 weights to /root/.cache/colabfold:   4%|▍         | 163M/3.82G [00:08<02:46, 23.5MB/s]\rDownloading alphafold2_multimer_v3 weights to /root/.cache/colabfold:   4%|▍         | 166M/3.82G [00:08<02:46, 23.5MB/s]\rDownloading alphafold2_multimer_v3 weights to /root/.cache/colabfold:   4%|▍         | 170M/3.82G [00:08<02:46, 23.5MB/s]\rDownloading alphafold2_multimer_v3 weights to /root/.cache/colabfold:   4%|▍         | 174M/3.82G [00:09<02:46, 23.5MB/s]\rDownloading alphafold2_multimer_v3 weights to /root/.cache/colabfold:   5%|▍         | 177M/3.82G [00:09<02:46, 23.6MB/s]\rDownloading alphafold2_multimer_v3 weights to /root/.cache/colabfold:   5%|▍         | 181M/3.82G [00:09<02:46, 23.5MB/s]\rDownloading alphafold2_multimer_v3 weights to /root/.cache/colabfold:   5%|▍         | 184M/3.82G [00:09<02:46, 23.5MB/s]\rDownloading alphafold2_multimer_v3 weights to /root/.cache/colabfold:   5%|▍         | 188M/3.82G [00:09<02:46, 23.5MB/s]\rDownloading alphafold2_multimer_v3 weights to /root/.cache/colabfold:   5%|▍         | 192M/3.82G [00:09<02:45, 23.5MB/s]\rDownloading alphafold2_multimer_v3 weights to /root/.cache/colabfold:   5%|▍         | 195M/3.82G [00:10<02:45, 23.5MB/s]\rDownloading alphafold2_multimer_v3 weights to /root/.cache/colabfold:   5%|▌         | 199M/3.82G [00:10<02:45, 23.5MB/s]\rDownloading alphafold2_multimer_v3 weights to /root/.cache/colabfold:   5%|▌         | 203M/3.82G [00:10<02:45, 23.5MB/s]\rDownloading alphafold2_multimer_v3 weights to /root/.cache/colabfold:   5%|▌         | 206M/3.82G [00:10<02:44, 23.6MB/s]\rDownloading alphafold2_multimer_v3 weights to /root/.cache/colabfold:   5%|▌         | 210M/3.82G [00:10<02:45, 23.5MB/s]\rDownloading alphafold2_multimer_v3 weights to /root/.cache/colabfold:   5%|▌         | 214M/3.82G [00:10<02:45, 23.5MB/s]\rDownloading alphafold2_multimer_v3 weights to /root/.cache/colabfold:   6%|▌         | 217M/3.82G [00:11<02:44, 23.5MB/s]\rDownloading alphafold2_multimer_v3 weights to /root/.cache/colabfold:   6%|▌         | 221M/3.82G [00:11<02:44, 23.5MB/s]\rDownloading alphafold2_multimer_v3 weights to /root/.cache/colabfold:   6%|▌         | 225M/3.82G [00:11<02:44, 23.5MB/s]\rDownloading alphafold2_multimer_v3 weights to /root/.cache/colabfold:   6%|▌         | 228M/3.82G [00:11<02:44, 23.5MB/s]\rDownloading alphafold2_multimer_v3 weights to /root/.cache/colabfold:   6%|▌         | 232M/3.82G [00:11<02:44, 23.5MB/s]\rDownloading alphafold2_multimer_v3 weights to /root/.cache/colabfold:   6%|▌         | 235M/3.82G [00:11<02:44, 23.5MB/s]\rDownloading alphafold2_multimer_v3 weights to /root/.cache/colabfold:   6%|▌         | 239M/3.82G [00:12<02:43, 23.5MB/s]\rDownloading alphafold2_multimer_v3 weights to /root/.cache/colabfold:   6%|▌         | 243M/3.82G [00:12<02:43, 23.5MB/s]\rDownloading alphafold2_multimer_v3 weights to /root/.cache/colabfold:   6%|▋         | 246M/3.82G [00:12<02:43, 23.5MB/s]\rDownloading alphafold2_multimer_v3 weights to /root/.cache/colabfold:   6%|▋         | 250M/3.82G [00:12<02:43, 23.5MB/s]\rDownloading alphafold2_multimer_v3 weights to /root/.cache/colabfold:   6%|▋         | 254M/3.82G [00:12<02:51, 22.3MB/s]\rDownloading alphafold2_multimer_v3 weights to /root/.cache/colabfold:   7%|▋         | 257M/3.82G [00:12<02:54, 21.9MB/s]\rDownloading alphafold2_multimer_v3 weights to /root/.cache/colabfold:   7%|▋         | 261M/3.82G [00:13<02:50, 22.4MB/s]\rDownloading alphafold2_multimer_v3 weights to /root/.cache/colabfold:   7%|▋         | 264M/3.82G [00:13<02:48, 22.8MB/s]\rDownloading alphafold2_multimer_v3 weights to /root/.cache/colabfold:   7%|▋         | 268M/3.82G [00:13<02:46, 22.9MB/s]\rDownloading alphafold2_multimer_v3 weights to /root/.cache/colabfold:   7%|▋         | 272M/3.82G [00:13<02:44, 23.1MB/s]\rDownloading alphafold2_multimer_v3 weights to /root/.cache/colabfold:   7%|▋         | 275M/3.82G [00:13<02:44, 23.2MB/s]\rDownloading alphafold2_multimer_v3 weights to /root/.cache/colabfold:   7%|▋         | 279M/3.82G [00:13<02:43, 23.3MB/s]\rDownloading alphafold2_multimer_v3 weights to /root/.cache/colabfold:   7%|▋         | 282M/3.82G [00:14<02:42, 23.4MB/s]\rDownloading alphafold2_multimer_v3 weights to /root/.cache/colabfold:   7%|▋         | 286M/3.82G [00:14<02:42, 23.4MB/s]\rDownloading alphafold2_multimer_v3 weights to /root/.cache/colabfold:   7%|▋         | 290M/3.82G [00:14<02:41, 23.5MB/s]\rDownloading alphafold2_multimer_v3 weights to /root/.cache/colabfold:   8%|▊         | 293M/3.82G [00:14<02:41, 23.5MB/s]\rDownloading alphafold2_multimer_v3 weights to /root/.cache/colabfold:   8%|▊         | 297M/3.82G [00:14<02:41, 23.5MB/s]\rDownloading alphafold2_multimer_v3 weights to /root/.cache/colabfold:   8%|▊         | 301M/3.82G [00:14<02:41, 23.5MB/s]\rDownloading alphafold2_multimer_v3 weights to /root/.cache/colabfold:   8%|▊         | 304M/3.82G [00:15<02:40, 23.5MB/s]\rDownloading alphafold2_multimer_v3 weights to /root/.cache/colabfold:   8%|▊         | 308M/3.82G [00:15<02:40, 23.5MB/s]\rDownloading alphafold2_multimer_v3 weights to /root/.cache/colabfold:   8%|▊         | 312M/3.82G [00:15<02:40, 23.5MB/s]\rDownloading alphafold2_multimer_v3 weights to /root/.cache/colabfold:   8%|▊         | 315M/3.82G [00:15<02:40, 23.5MB/s]\rDownloading alphafold2_multimer_v3 weights to /root/.cache/colabfold:   8%|▊         | 319M/3.82G [00:15<02:48, 22.3MB/s]\rDownloading alphafold2_multimer_v3 weights to /root/.cache/colabfold:   8%|▊         | 321M/3.82G [00:15<03:09, 19.8MB/s]\rDownloading alphafold2_multimer_v3 weights to /root/.cache/colabfold:   8%|▊         | 323M/3.82G [00:16<03:32, 17.7MB/s]\rDownloading alphafold2_multimer_v3 weights to /root/.cache/colabfold:   8%|▊         | 327M/3.82G [00:16<03:13, 19.5MB/s]\rDownloading alphafold2_multimer_v3 weights to /root/.cache/colabfold:   8%|▊         | 330M/3.82G [00:16<03:01, 20.6MB/s]\rDownloading alphafold2_multimer_v3 weights to /root/.cache/colabfold:   9%|▊         | 334M/3.82G [00:16<02:54, 21.5MB/s]\rDownloading alphafold2_multimer_v3 weights to /root/.cache/colabfold:   9%|▊         | 338M/3.82G [00:16<02:49, 22.1MB/s]\rDownloading alphafold2_multimer_v3 weights to /root/.cache/colabfold:   9%|▊         | 341M/3.82G [00:16<02:46, 22.5MB/s]\rDownloading alphafold2_multimer_v3 weights to /root/.cache/colabfold:   9%|▉         | 345M/3.82G [00:16<02:43, 22.8MB/s]\rDownloading alphafold2_multimer_v3 weights to /root/.cache/colabfold:   9%|▉         | 349M/3.82G [00:17<02:42, 23.0MB/s]\rDownloading alphafold2_multimer_v3 weights to /root/.cache/colabfold:   9%|▉         | 352M/3.82G [00:17<02:40, 23.2MB/s]\rDownloading alphafold2_multimer_v3 weights to /root/.cache/colabfold:   9%|▉         | 356M/3.82G [00:17<02:40, 23.3MB/s]\rDownloading alphafold2_multimer_v3 weights to /root/.cache/colabfold:   9%|▉         | 360M/3.82G [00:17<02:39, 23.4MB/s]\rDownloading alphafold2_multimer_v3 weights to /root/.cache/colabfold:   9%|▉         | 363M/3.82G [00:17<02:38, 23.4MB/s]\rDownloading alphafold2_multimer_v3 weights to /root/.cache/colabfold:   9%|▉         | 367M/3.82G [00:17<02:38, 23.5MB/s]\rDownloading alphafold2_multimer_v3 weights to /root/.cache/colabfold:   9%|▉         | 370M/3.82G [00:18<02:38, 23.5MB/s]\rDownloading alphafold2_multimer_v3 weights to /root/.cache/colabfold:  10%|▉         | 374M/3.82G [00:18<02:37, 23.5MB/s]\rDownloading alphafold2_multimer_v3 weights to /root/.cache/colabfold:  10%|▉         | 378M/3.82G [00:18<02:37, 23.5MB/s]\rDownloading alphafold2_multimer_v3 weights to /root/.cache/colabfold:  10%|▉         | 381M/3.82G [00:18<02:37, 23.5MB/s]\rDownloading alphafold2_multimer_v3 weights to /root/.cache/colabfold:  10%|▉         | 385M/3.82G [00:18<02:37, 23.5MB/s]\rDownloading alphafold2_multimer_v3 weights to /root/.cache/colabfold:  10%|▉         | 389M/3.82G [00:18<02:36, 23.5MB/s]\rDownloading alphafold2_multimer_v3 weights to /root/.cache/colabfold:  10%|█         | 392M/3.82G [00:19<02:36, 23.5MB/s]\rDownloading alphafold2_multimer_v3 weights to /root/.cache/colabfold:  10%|█         | 396M/3.82G [00:19<02:36, 23.5MB/s]\rDownloading alphafold2_multimer_v3 weights to /root/.cache/colabfold:  10%|█         | 400M/3.82G [00:19<02:36, 23.6MB/s]\rDownloading alphafold2_multimer_v3 weights to /root/.cache/colabfold:  10%|█         | 403M/3.82G [00:19<02:36, 23.6MB/s]\rDownloading alphafold2_multimer_v3 weights to /root/.cache/colabfold:  10%|█         | 407M/3.82G [00:19<02:36, 23.5MB/s]\rDownloading alphafold2_multimer_v3 weights to /root/.cache/colabfold:  11%|█         | 411M/3.82G [00:19<02:35, 23.6MB/s]\rDownloading alphafold2_multimer_v3 weights to /root/.cache/colabfold:  11%|█         | 414M/3.82G [00:20<02:35, 23.6MB/s]\rDownloading alphafold2_multimer_v3 weights to /root/.cache/colabfold:  11%|█         | 418M/3.82G [00:20<02:35, 23.6MB/s]\rDownloading alphafold2_multimer_v3 weights to /root/.cache/colabfold:  11%|█         | 422M/3.82G [00:20<02:34, 23.6MB/s]\rDownloading alphafold2_multimer_v3 weights to /root/.cache/colabfold:  11%|█         | 425M/3.82G [00:20<02:35, 23.6MB/s]\rDownloading alphafold2_multimer_v3 weights to /root/.cache/colabfold:  11%|█         | 429M/3.82G [00:20<02:35, 23.5MB/s]\rDownloading alphafold2_multimer_v3 weights to /root/.cache/colabfold:  11%|█         | 433M/3.82G [00:20<02:34, 23.5MB/s]\rDownloading alphafold2_multimer_v3 weights to /root/.cache/colabfold:  11%|█         | 436M/3.82G [00:21<02:34, 23.5MB/s]\rDownloading alphafold2_multimer_v3 weights to /root/.cache/colabfold:  11%|█         | 440M/3.82G [00:21<02:34, 23.6MB/s]\rDownloading alphafold2_multimer_v3 weights to /root/.cache/colabfold:  11%|█▏        | 443M/3.82G [00:21<02:34, 23.5MB/s]\rDownloading alphafold2_multimer_v3 weights to /root/.cache/colabfold:  11%|█▏        | 447M/3.82G [00:21<02:34, 23.5MB/s]\rDownloading alphafold2_multimer_v3 weights to /root/.cache/colabfold:  12%|█▏        | 451M/3.82G [00:21<02:34, 23.5MB/s]\rDownloading alphafold2_multimer_v3 weights to /root/.cache/colabfold:  12%|█▏        | 454M/3.82G [00:21<02:34, 23.5MB/s]\rDownloading alphafold2_multimer_v3 weights to /root/.cache/colabfold:  12%|█▏        | 458M/3.82G [00:22<02:33, 23.5MB/s]\rDownloading alphafold2_multimer_v3 weights to /root/.cache/colabfold:  12%|█▏        | 462M/3.82G [00:22<02:33, 23.5MB/s]\rDownloading alphafold2_multimer_v3 weights to /root/.cache/colabfold:  12%|█▏        | 465M/3.82G [00:22<02:33, 23.5MB/s]\rDownloading alphafold2_multimer_v3 weights to /root/.cache/colabfold:  12%|█▏        | 469M/3.82G [00:22<02:33, 23.5MB/s]\rDownloading alphafold2_multimer_v3 weights to /root/.cache/colabfold:  12%|█▏        | 473M/3.82G [00:22<02:33, 23.5MB/s]\rDownloading alphafold2_multimer_v3 weights to /root/.cache/colabfold:  12%|█▏        | 476M/3.82G [00:22<02:32, 23.6MB/s]\rDownloading alphafold2_multimer_v3 weights to /root/.cache/colabfold:  12%|█▏        | 480M/3.82G [00:23<02:32, 23.5MB/s]\rDownloading alphafold2_multimer_v3 weights to /root/.cache/colabfold:  12%|█▏        | 484M/3.82G [00:23<02:32, 23.6MB/s]\rDownloading alphafold2_multimer_v3 weights to /root/.cache/colabfold:  12%|█▏        | 487M/3.82G [00:23<02:32, 23.5MB/s]\rDownloading alphafold2_multimer_v3 weights to /root/.cache/colabfold:  13%|█▎        | 491M/3.82G [00:23<02:32, 23.5MB/s]\rDownloading alphafold2_multimer_v3 weights to /root/.cache/colabfold:  13%|█▎        | 495M/3.82G [00:23<02:32, 23.5MB/s]\rDownloading alphafold2_multimer_v3 weights to /root/.cache/colabfold:  13%|█▎        | 498M/3.82G [00:23<02:32, 23.5MB/s]\rDownloading alphafold2_multimer_v3 weights to /root/.cache/colabfold:  13%|█▎        | 502M/3.82G [00:23<02:31, 23.5MB/s]\rDownloading alphafold2_multimer_v3 weights to /root/.cache/colabfold:  13%|█▎        | 505M/3.82G [00:24<02:31, 23.5MB/s]\rDownloading alphafold2_multimer_v3 weights to /root/.cache/colabfold:  13%|█▎        | 509M/3.82G [00:24<02:31, 23.5MB/s]\rDownloading alphafold2_multimer_v3 weights to /root/.cache/colabfold:  13%|█▎        | 513M/3.82G [00:24<02:38, 22.5MB/s]\rDownloading alphafold2_multimer_v3 weights to /root/.cache/colabfold:  13%|█▎        | 516M/3.82G [00:24<02:41, 22.1MB/s]\rDownloading alphafold2_multimer_v3 weights to /root/.cache/colabfold:  13%|█▎        | 520M/3.82G [00:24<02:37, 22.5MB/s]\rDownloading alphafold2_multimer_v3 weights to /root/.cache/colabfold:  13%|█▎        | 523M/3.82G [00:24<02:35, 22.8MB/s]\rDownloading alphafold2_multimer_v3 weights to /root/.cache/colabfold:  13%|█▎        | 527M/3.82G [00:25<02:33, 23.1MB/s]\rDownloading alphafold2_multimer_v3 weights to /root/.cache/colabfold:  14%|█▎        | 531M/3.82G [00:25<02:32, 23.2MB/s]\rDownloading alphafold2_multimer_v3 weights to /root/.cache/colabfold:  14%|█▎        | 534M/3.82G [00:25<02:31, 23.3MB/s]\rDownloading alphafold2_multimer_v3 weights to /root/.cache/colabfold:  14%|█▍        | 538M/3.82G [00:25<02:31, 23.4MB/s]\rDownloading alphafold2_multimer_v3 weights to /root/.cache/colabfold:  14%|█▍        | 542M/3.82G [00:25<02:30, 23.4MB/s]\rDownloading alphafold2_multimer_v3 weights to /root/.cache/colabfold:  14%|█▍        | 545M/3.82G [00:25<02:30, 23.5MB/s]\rDownloading alphafold2_multimer_v3 weights to /root/.cache/colabfold:  14%|█▍        | 549M/3.82G [00:26<02:30, 23.5MB/s]\rDownloading alphafold2_multimer_v3 weights to /root/.cache/colabfold:  14%|█▍        | 553M/3.82G [00:26<02:29, 23.5MB/s]\rDownloading alphafold2_multimer_v3 weights to /root/.cache/colabfold:  14%|█▍        | 556M/3.82G [00:26<02:29, 23.5MB/s]\rDownloading alphafold2_multimer_v3 weights to /root/.cache/colabfold:  14%|█▍        | 560M/3.82G [00:26<02:29, 23.5MB/s]\rDownloading alphafold2_multimer_v3 weights to /root/.cache/colabfold:  14%|█▍        | 563M/3.82G [00:26<02:29, 23.5MB/s]\rDownloading alphafold2_multimer_v3 weights to /root/.cache/colabfold:  15%|█▍        | 567M/3.82G [00:26<02:29, 23.5MB/s]\rDownloading alphafold2_multimer_v3 weights to /root/.cache/colabfold:  15%|█▍        | 571M/3.82G [00:27<02:28, 23.5MB/s]\rDownloading alphafold2_multimer_v3 weights to /root/.cache/colabfold:  15%|█▍        | 574M/3.82G [00:27<02:28, 23.5MB/s]\rDownloading alphafold2_multimer_v3 weights to /root/.cache/colabfold:  15%|█▍        | 578M/3.82G [00:27<02:28, 23.5MB/s]\rDownloading alphafold2_multimer_v3 weights to /root/.cache/colabfold:  15%|█▍        | 582M/3.82G [00:27<02:28, 23.5MB/s]\rDownloading alphafold2_multimer_v3 weights to /root/.cache/colabfold:  15%|█▍        | 585M/3.82G [00:27<02:28, 23.5MB/s]\rDownloading alphafold2_multimer_v3 weights to /root/.cache/colabfold:  15%|█▌        | 589M/3.82G [00:27<02:27, 23.5MB/s]\rDownloading alphafold2_multimer_v3 weights to /root/.cache/colabfold:  15%|█▌        | 593M/3.82G [00:28<02:27, 23.5MB/s]\rDownloading alphafold2_multimer_v3 weights to /root/.cache/colabfold:  15%|█▌        | 596M/3.82G [00:28<02:27, 23.5MB/s]\rDownloading alphafold2_multimer_v3 weights to /root/.cache/colabfold:  15%|█▌        | 600M/3.82G [00:28<02:28, 23.4MB/s]\rDownloading alphafold2_multimer_v3 weights to /root/.cache/colabfold:  15%|█▌        | 604M/3.82G [00:28<02:27, 23.5MB/s]\rDownloading alphafold2_multimer_v3 weights to /root/.cache/colabfold:  16%|█▌        | 607M/3.82G [00:28<02:27, 23.5MB/s]\rDownloading alphafold2_multimer_v3 weights to /root/.cache/colabfold:  16%|█▌        | 611M/3.82G [00:28<02:27, 23.5MB/s]\rDownloading alphafold2_multimer_v3 weights to /root/.cache/colabfold:  16%|█▌        | 615M/3.82G [00:29<02:26, 23.5MB/s]\rDownloading alphafold2_multimer_v3 weights to /root/.cache/colabfold:  16%|█▌        | 618M/3.82G [00:29<02:27, 23.5MB/s]\rDownloading alphafold2_multimer_v3 weights to /root/.cache/colabfold:  16%|█▌        | 622M/3.82G [00:29<02:26, 23.6MB/s]\rDownloading alphafold2_multimer_v3 weights to /root/.cache/colabfold:  16%|█▌        | 626M/3.82G [00:29<02:26, 23.6MB/s]\rDownloading alphafold2_multimer_v3 weights to /root/.cache/colabfold:  16%|█▌        | 629M/3.82G [00:29<02:26, 23.5MB/s]\rDownloading alphafold2_multimer_v3 weights to /root/.cache/colabfold:  16%|█▌        | 633M/3.82G [00:29<02:26, 23.5MB/s]\rDownloading alphafold2_multimer_v3 weights to /root/.cache/colabfold:  16%|█▋        | 636M/3.82G [00:30<02:25, 23.5MB/s]\rDownloading alphafold2_multimer_v3 weights to /root/.cache/colabfold:  16%|█▋        | 640M/3.82G [00:30<02:25, 23.5MB/s]\rDownloading alphafold2_multimer_v3 weights to /root/.cache/colabfold:  16%|█▋        | 644M/3.82G [00:30<02:25, 23.5MB/s]\rDownloading alphafold2_multimer_v3 weights to /root/.cache/colabfold:  17%|█▋        | 647M/3.82G [00:30<02:25, 23.5MB/s]\rDownloading alphafold2_multimer_v3 weights to /root/.cache/colabfold:  17%|█▋        | 651M/3.82G [00:30<02:25, 23.5MB/s]\rDownloading alphafold2_multimer_v3 weights to /root/.cache/colabfold:  17%|█▋        | 655M/3.82G [00:30<02:25, 23.5MB/s]\rDownloading alphafold2_multimer_v3 weights to /root/.cache/colabfold:  17%|█▋        | 658M/3.82G [00:31<02:24, 23.5MB/s]\rDownloading alphafold2_multimer_v3 weights to /root/.cache/colabfold:  17%|█▋        | 662M/3.82G [00:31<02:24, 23.5MB/s]\rDownloading alphafold2_multimer_v3 weights to /root/.cache/colabfold:  17%|█▋        | 666M/3.82G [00:31<02:24, 23.5MB/s]\rDownloading alphafold2_multimer_v3 weights to /root/.cache/colabfold:  17%|█▋        | 669M/3.82G [00:31<02:24, 23.5MB/s]\rDownloading alphafold2_multimer_v3 weights to /root/.cache/colabfold:  17%|█▋        | 673M/3.82G [00:31<02:24, 23.5MB/s]\rDownloading alphafold2_multimer_v3 weights to /root/.cache/colabfold:  17%|█▋        | 677M/3.82G [00:31<02:24, 23.5MB/s]\rDownloading alphafold2_multimer_v3 weights to /root/.cache/colabfold:  17%|█▋        | 680M/3.82G [00:31<02:23, 23.5MB/s]\rDownloading alphafold2_multimer_v3 weights to /root/.cache/colabfold:  17%|█▋        | 684M/3.82G [00:32<02:23, 23.5MB/s]\rDownloading alphafold2_multimer_v3 weights to /root/.cache/colabfold:  18%|█▊        | 687M/3.82G [00:32<02:23, 23.5MB/s]\rDownloading alphafold2_multimer_v3 weights to /root/.cache/colabfold:  18%|█▊        | 691M/3.82G [00:32<02:23, 23.5MB/s]\rDownloading alphafold2_multimer_v3 weights to /root/.cache/colabfold:  18%|█▊        | 695M/3.82G [00:32<02:23, 23.5MB/s]\rDownloading alphafold2_multimer_v3 weights to /root/.cache/colabfold:  18%|█▊        | 698M/3.82G [00:32<02:23, 23.5MB/s]\rDownloading alphafold2_multimer_v3 weights to /root/.cache/colabfold:  18%|█▊        | 702M/3.82G [00:32<02:23, 23.5MB/s]\rDownloading alphafold2_multimer_v3 weights to /root/.cache/colabfold:  18%|█▊        | 706M/3.82G [00:33<02:22, 23.5MB/s]\rDownloading alphafold2_multimer_v3 weights to /root/.cache/colabfold:  18%|█▊        | 709M/3.82G [00:33<02:29, 22.5MB/s]\rDownloading alphafold2_multimer_v3 weights to /root/.cache/colabfold:  18%|█▊        | 713M/3.82G [00:33<02:31, 22.1MB/s]\rDownloading alphafold2_multimer_v3 weights to /root/.cache/colabfold:  18%|█▊        | 716M/3.82G [00:33<02:28, 22.5MB/s]\rDownloading alphafold2_multimer_v3 weights to /root/.cache/colabfold:  18%|█▊        | 720M/3.82G [00:33<02:26, 22.8MB/s]\rDownloading alphafold2_multimer_v3 weights to /root/.cache/colabfold:  19%|█▊        | 724M/3.82G [00:33<02:25, 23.0MB/s]\rDownloading alphafold2_multimer_v3 weights to /root/.cache/colabfold:  19%|█▊        | 727M/3.82G [00:34<02:24, 23.2MB/s]\rDownloading alphafold2_multimer_v3 weights to /root/.cache/colabfold:  19%|█▊        | 731M/3.82G [00:34<02:23, 23.3MB/s]\rDownloading alphafold2_multimer_v3 weights to /root/.cache/colabfold:  19%|█▉        | 734M/3.82G [00:34<02:22, 23.4MB/s]\rDownloading alphafold2_multimer_v3 weights to /root/.cache/colabfold:  19%|█▉        | 738M/3.82G [00:34<02:22, 23.4MB/s]\rDownloading alphafold2_multimer_v3 weights to /root/.cache/colabfold:  19%|█▉        | 742M/3.82G [00:34<02:21, 23.4MB/s]\rDownloading alphafold2_multimer_v3 weights to /root/.cache/colabfold:  19%|█▉        | 745M/3.82G [00:34<02:21, 23.4MB/s]\rDownloading alphafold2_multimer_v3 weights to /root/.cache/colabfold:  19%|█▉        | 749M/3.82G [00:35<02:21, 23.5MB/s]\rDownloading alphafold2_multimer_v3 weights to /root/.cache/colabfold:  19%|█▉        | 753M/3.82G [00:35<02:20, 23.5MB/s]\rDownloading alphafold2_multimer_v3 weights to /root/.cache/colabfold:  19%|█▉        | 756M/3.82G [00:35<02:20, 23.5MB/s]\rDownloading alphafold2_multimer_v3 weights to /root/.cache/colabfold:  19%|█▉        | 760M/3.82G [00:35<02:20, 23.5MB/s]\rDownloading alphafold2_multimer_v3 weights to /root/.cache/colabfold:  20%|█▉        | 764M/3.82G [00:35<02:20, 23.5MB/s]\rDownloading alphafold2_multimer_v3 weights to /root/.cache/colabfold:  20%|█▉        | 767M/3.82G [00:35<02:20, 23.4MB/s]\rDownloading alphafold2_multimer_v3 weights to /root/.cache/colabfold:  20%|█▉        | 771M/3.82G [00:36<02:20, 23.4MB/s]\rDownloading alphafold2_multimer_v3 weights to /root/.cache/colabfold:  20%|█▉        | 775M/3.82G [00:36<02:19, 23.5MB/s]\rDownloading alphafold2_multimer_v3 weights to /root/.cache/colabfold:  20%|█▉        | 778M/3.82G [00:36<02:19, 23.5MB/s]\rDownloading alphafold2_multimer_v3 weights to /root/.cache/colabfold:  20%|█▉        | 782M/3.82G [00:36<02:19, 23.5MB/s]\rDownloading alphafold2_multimer_v3 weights to /root/.cache/colabfold:  20%|██        | 786M/3.82G [00:36<02:19, 23.5MB/s]\rDownloading alphafold2_multimer_v3 weights to /root/.cache/colabfold:  20%|██        | 789M/3.82G [00:36<02:19, 23.5MB/s]\rDownloading alphafold2_multimer_v3 weights to /root/.cache/colabfold:  20%|██        | 793M/3.82G [00:37<02:19, 23.5MB/s]\rDownloading alphafold2_multimer_v3 weights to /root/.cache/colabfold:  20%|██        | 797M/3.82G [00:37<02:18, 23.5MB/s]\rDownloading alphafold2_multimer_v3 weights to /root/.cache/colabfold:  20%|██        | 800M/3.82G [00:37<02:18, 23.5MB/s]\rDownloading alphafold2_multimer_v3 weights to /root/.cache/colabfold:  21%|██        | 804M/3.82G [00:37<02:18, 23.5MB/s]\rDownloading alphafold2_multimer_v3 weights to /root/.cache/colabfold:  21%|██        | 807M/3.82G [00:37<02:18, 23.5MB/s]\rDownloading alphafold2_multimer_v3 weights to /root/.cache/colabfold:  21%|██        | 811M/3.82G [00:37<02:17, 23.6MB/s]\rDownloading alphafold2_multimer_v3 weights to /root/.cache/colabfold:  21%|██        | 815M/3.82G [00:38<02:18, 23.5MB/s]\rDownloading alphafold2_multimer_v3 weights to /root/.cache/colabfold:  21%|██        | 818M/3.82G [00:38<02:17, 23.5MB/s]\rDownloading alphafold2_multimer_v3 weights to /root/.cache/colabfold:  21%|██        | 822M/3.82G [00:38<02:24, 22.4MB/s]\rDownloading alphafold2_multimer_v3 weights to /root/.cache/colabfold:  21%|██        | 824M/3.82G [00:38<02:42, 19.9MB/s]\rDownloading alphafold2_multimer_v3 weights to /root/.cache/colabfold:  21%|██        | 826M/3.82G [00:38<03:02, 17.7MB/s]\rDownloading alphafold2_multimer_v3 weights to /root/.cache/colabfold:  21%|██        | 830M/3.82G [00:38<02:45, 19.5MB/s]\rDownloading alphafold2_multimer_v3 weights to /root/.cache/colabfold:  21%|██▏       | 833M/3.82G [00:39<02:36, 20.6MB/s]\rDownloading alphafold2_multimer_v3 weights to /root/.cache/colabfold:  21%|██▏       | 837M/3.82G [00:39<02:29, 21.5MB/s]\rDownloading alphafold2_multimer_v3 weights to /root/.cache/colabfold:  22%|██▏       | 841M/3.82G [00:39<02:25, 22.1MB/s]\rDownloading alphafold2_multimer_v3 weights to /root/.cache/colabfold:  22%|██▏       | 844M/3.82G [00:39<02:22, 22.6MB/s]\rDownloading alphafold2_multimer_v3 weights to /root/.cache/colabfold:  22%|██▏       | 848M/3.82G [00:39<02:20, 22.8MB/s]\rDownloading alphafold2_multimer_v3 weights to /root/.cache/colabfold:  22%|██▏       | 852M/3.82G [00:39<02:19, 23.0MB/s]\rDownloading alphafold2_multimer_v3 weights to /root/.cache/colabfold:  22%|██▏       | 855M/3.82G [00:39<02:18, 23.2MB/s]\rDownloading alphafold2_multimer_v3 weights to /root/.cache/colabfold:  22%|██▏       | 859M/3.82G [00:40<02:17, 23.3MB/s]\rDownloading alphafold2_multimer_v3 weights to /root/.cache/colabfold:  22%|██▏       | 863M/3.82G [00:40<02:16, 23.4MB/s]\rDownloading alphafold2_multimer_v3 weights to /root/.cache/colabfold:  22%|██▏       | 866M/3.82G [00:40<02:16, 23.5MB/s]\rDownloading alphafold2_multimer_v3 weights to /root/.cache/colabfold:  22%|██▏       | 870M/3.82G [00:40<02:15, 23.5MB/s]\rDownloading alphafold2_multimer_v3 weights to /root/.cache/colabfold:  22%|██▏       | 874M/3.82G [00:40<02:15, 23.5MB/s]\rDownloading alphafold2_multimer_v3 weights to /root/.cache/colabfold:  22%|██▏       | 877M/3.82G [00:40<02:15, 23.5MB/s]\rDownloading alphafold2_multimer_v3 weights to /root/.cache/colabfold:  23%|██▎       | 881M/3.82G [00:41<02:15, 23.5MB/s]\rDownloading alphafold2_multimer_v3 weights to /root/.cache/colabfold:  23%|██▎       | 885M/3.82G [00:41<02:14, 23.5MB/s]\rDownloading alphafold2_multimer_v3 weights to /root/.cache/colabfold:  23%|██▎       | 888M/3.82G [00:41<02:14, 23.5MB/s]\rDownloading alphafold2_multimer_v3 weights to /root/.cache/colabfold:  23%|██▎       | 892M/3.82G [00:41<02:14, 23.5MB/s]\rDownloading alphafold2_multimer_v3 weights to /root/.cache/colabfold:  23%|██▎       | 895M/3.82G [00:41<02:14, 23.5MB/s]\rDownloading alphafold2_multimer_v3 weights to /root/.cache/colabfold:  23%|██▎       | 899M/3.82G [00:41<02:14, 23.5MB/s]\rDownloading alphafold2_multimer_v3 weights to /root/.cache/colabfold:  23%|██▎       | 903M/3.82G [00:42<02:13, 23.5MB/s]\rDownloading alphafold2_multimer_v3 weights to /root/.cache/colabfold:  23%|██▎       | 906M/3.82G [00:42<02:13, 23.5MB/s]\rDownloading alphafold2_multimer_v3 weights to /root/.cache/colabfold:  23%|██▎       | 910M/3.82G [00:42<02:13, 23.5MB/s]\rDownloading alphafold2_multimer_v3 weights to /root/.cache/colabfold:  23%|██▎       | 914M/3.82G [00:42<02:13, 23.5MB/s]\rDownloading alphafold2_multimer_v3 weights to /root/.cache/colabfold:  23%|██▎       | 917M/3.82G [00:42<02:13, 23.5MB/s]\rDownloading alphafold2_multimer_v3 weights to /root/.cache/colabfold:  24%|██▎       | 921M/3.82G [00:42<02:13, 23.6MB/s]\rDownloading alphafold2_multimer_v3 weights to /root/.cache/colabfold:  24%|██▎       | 925M/3.82G [00:43<02:13, 23.5MB/s]\rDownloading alphafold2_multimer_v3 weights to /root/.cache/colabfold:  24%|██▎       | 928M/3.82G [00:43<02:12, 23.5MB/s]\rDownloading alphafold2_multimer_v3 weights to /root/.cache/colabfold:  24%|██▍       | 932M/3.82G [00:43<02:12, 23.5MB/s]\rDownloading alphafold2_multimer_v3 weights to /root/.cache/colabfold:  24%|██▍       | 936M/3.82G [00:43<02:18, 22.5MB/s]\rDownloading alphafold2_multimer_v3 weights to /root/.cache/colabfold:  24%|██▍       | 939M/3.82G [00:43<02:20, 22.1MB/s]\rDownloading alphafold2_multimer_v3 weights to /root/.cache/colabfold:  24%|██▍       | 942M/3.82G [00:43<02:18, 22.5MB/s]\rDownloading alphafold2_multimer_v3 weights to /root/.cache/colabfold:  24%|██▍       | 946M/3.82G [00:44<02:16, 22.8MB/s]\rDownloading alphafold2_multimer_v3 weights to /root/.cache/colabfold:  24%|██▍       | 950M/3.82G [00:44<02:14, 23.0MB/s]\rDownloading alphafold2_multimer_v3 weights to /root/.cache/colabfold:  24%|██▍       | 953M/3.82G [00:44<02:13, 23.2MB/s]\rDownloading alphafold2_multimer_v3 weights to /root/.cache/colabfold:  24%|██▍       | 957M/3.82G [00:44<02:13, 23.3MB/s]\rDownloading alphafold2_multimer_v3 weights to /root/.cache/colabfold:  25%|██▍       | 961M/3.82G [00:44<02:12, 23.3MB/s]\rDownloading alphafold2_multimer_v3 weights to /root/.cache/colabfold:  25%|██▍       | 964M/3.82G [00:44<02:11, 23.4MB/s]\rDownloading alphafold2_multimer_v3 weights to /root/.cache/colabfold:  25%|██▍       | 968M/3.82G [00:45<02:11, 23.5MB/s]\rDownloading alphafold2_multimer_v3 weights to /root/.cache/colabfold:  25%|██▍       | 972M/3.82G [00:45<02:11, 23.5MB/s]\rDownloading alphafold2_multimer_v3 weights to /root/.cache/colabfold:  25%|██▍       | 975M/3.82G [00:45<02:10, 23.5MB/s]\rDownloading alphafold2_multimer_v3 weights to /root/.cache/colabfold:  25%|██▌       | 979M/3.82G [00:45<02:10, 23.5MB/s]\rDownloading alphafold2_multimer_v3 weights to /root/.cache/colabfold:  25%|██▌       | 983M/3.82G [00:45<02:10, 23.6MB/s]\rDownloading alphafold2_multimer_v3 weights to /root/.cache/colabfold:  25%|██▌       | 986M/3.82G [00:45<02:10, 23.6MB/s]\rDownloading alphafold2_multimer_v3 weights to /root/.cache/colabfold:  25%|██▌       | 990M/3.82G [00:46<02:10, 23.5MB/s]\rDownloading alphafold2_multimer_v3 weights to /root/.cache/colabfold:  25%|██▌       | 994M/3.82G [00:46<02:09, 23.6MB/s]\rDownloading alphafold2_multimer_v3 weights to /root/.cache/colabfold:  26%|██▌       | 997M/3.82G [00:46<02:09, 23.6MB/s]\rDownloading alphafold2_multimer_v3 weights to /root/.cache/colabfold:  26%|██▌       | 0.98G/3.82G [00:46<02:09, 23.6MB/s]\rDownloading alphafold2_multimer_v3 weights to /root/.cache/colabfold:  26%|██▌       | 0.98G/3.82G [00:46<02:09, 23.6MB/s]\rDownloading alphafold2_multimer_v3 weights to /root/.cache/colabfold:  26%|██▌       | 0.98G/3.82G [00:46<02:09, 23.6MB/s]\rDownloading alphafold2_multimer_v3 weights to /root/.cache/colabfold:  26%|██▌       | 0.99G/3.82G [00:47<02:15, 22.4MB/s]\rDownloading alphafold2_multimer_v3 weights to /root/.cache/colabfold:  26%|██▌       | 0.99G/3.82G [00:47<02:32, 19.9MB/s]\rDownloading alphafold2_multimer_v3 weights to /root/.cache/colabfold:  26%|██▌       | 0.99G/3.82G [00:47<02:50, 17.8MB/s]\rDownloading alphafold2_multimer_v3 weights to /root/.cache/colabfold:  26%|██▌       | 1.00G/3.82G [00:47<02:35, 19.5MB/s]\rDownloading alphafold2_multimer_v3 weights to /root/.cache/colabfold:  26%|██▌       | 1.00G/3.82G [00:47<02:26, 20.7MB/s]\rDownloading alphafold2_multimer_v3 weights to /root/.cache/colabfold:  26%|██▋       | 1.00G/3.82G [00:47<02:20, 21.5MB/s]\rDownloading alphafold2_multimer_v3 weights to /root/.cache/colabfold:  26%|██▋       | 1.01G/3.82G [00:48<02:16, 22.1MB/s]\rDownloading alphafold2_multimer_v3 weights to /root/.cache/colabfold:  26%|██▋       | 1.01G/3.82G [00:48<02:13, 22.5MB/s]\rDownloading alphafold2_multimer_v3 weights to /root/.cache/colabfold:  27%|██▋       | 1.01G/3.82G [00:48<02:11, 22.8MB/s]\rDownloading alphafold2_multimer_v3 weights to /root/.cache/colabfold:  27%|██▋       | 1.02G/3.82G [00:48<02:10, 23.0MB/s]\rDownloading alphafold2_multimer_v3 weights to /root/.cache/colabfold:  27%|██▋       | 1.02G/3.82G [00:48<02:09, 23.2MB/s]\rDownloading alphafold2_multimer_v3 weights to /root/.cache/colabfold:  27%|██▋       | 1.02G/3.82G [00:48<02:08, 23.3MB/s]\rDownloading alphafold2_multimer_v3 weights to /root/.cache/colabfold:  27%|██▋       | 1.03G/3.82G [00:48<02:08, 23.4MB/s]\rDownloading alphafold2_multimer_v3 weights to /root/.cache/colabfold:  27%|██▋       | 1.03G/3.82G [00:49<02:07, 23.4MB/s]\rDownloading alphafold2_multimer_v3 weights to /root/.cache/colabfold:  27%|██▋       | 1.03G/3.82G [00:49<02:07, 23.4MB/s]\rDownloading alphafold2_multimer_v3 weights to /root/.cache/colabfold:  27%|██▋       | 1.04G/3.82G [00:49<02:07, 23.5MB/s]\rDownloading alphafold2_multimer_v3 weights to /root/.cache/colabfold:  27%|██▋       | 1.04G/3.82G [00:49<02:07, 23.5MB/s]\rDownloading alphafold2_multimer_v3 weights to /root/.cache/colabfold:  27%|██▋       | 1.05G/3.82G [00:49<02:06, 23.5MB/s]\rDownloading alphafold2_multimer_v3 weights to /root/.cache/colabfold:  27%|██▋       | 1.05G/3.82G [00:49<02:06, 23.5MB/s]\rDownloading alphafold2_multimer_v3 weights to /root/.cache/colabfold:  28%|██▊       | 1.05G/3.82G [00:50<02:06, 23.5MB/s]\rDownloading alphafold2_multimer_v3 weights to /root/.cache/colabfold:  28%|██▊       | 1.06G/3.82G [00:50<02:06, 23.5MB/s]\rDownloading alphafold2_multimer_v3 weights to /root/.cache/colabfold:  28%|██▊       | 1.06G/3.82G [00:50<02:05, 23.5MB/s]\rDownloading alphafold2_multimer_v3 weights to /root/.cache/colabfold:  28%|██▊       | 1.06G/3.82G [00:50<02:05, 23.5MB/s]\rDownloading alphafold2_multimer_v3 weights to /root/.cache/colabfold:  28%|██▊       | 1.07G/3.82G [00:50<02:05, 23.5MB/s]\rDownloading alphafold2_multimer_v3 weights to /root/.cache/colabfold:  28%|██▊       | 1.07G/3.82G [00:50<02:05, 23.5MB/s]\rDownloading alphafold2_multimer_v3 weights to /root/.cache/colabfold:  28%|██▊       | 1.07G/3.82G [00:51<02:11, 22.5MB/s]\rDownloading alphafold2_multimer_v3 weights to /root/.cache/colabfold:  28%|██▊       | 1.08G/3.82G [00:51<02:13, 22.0MB/s]\rDownloading alphafold2_multimer_v3 weights to /root/.cache/colabfold:  28%|██▊       | 1.08G/3.82G [00:51<02:10, 22.5MB/s]\rDownloading alphafold2_multimer_v3 weights to /root/.cache/colabfold:  28%|██▊       | 1.08G/3.82G [00:51<02:08, 22.8MB/s]\rDownloading alphafold2_multimer_v3 weights to /root/.cache/colabfold:  28%|██▊       | 1.09G/3.82G [00:51<02:07, 23.0MB/s]\rDownloading alphafold2_multimer_v3 weights to /root/.cache/colabfold:  29%|██▊       | 1.09G/3.82G [00:51<02:06, 23.2MB/s]\rDownloading alphafold2_multimer_v3 weights to /root/.cache/colabfold:  29%|██▊       | 1.09G/3.82G [00:52<02:05, 23.3MB/s]\rDownloading alphafold2_multimer_v3 weights to /root/.cache/colabfold:  29%|██▉       | 1.10G/3.82G [00:52<02:05, 23.3MB/s]\rDownloading alphafold2_multimer_v3 weights to /root/.cache/colabfold:  29%|██▉       | 1.10G/3.82G [00:52<02:04, 23.4MB/s]\rDownloading alphafold2_multimer_v3 weights to /root/.cache/colabfold:  29%|██▉       | 1.11G/3.82G [00:52<02:04, 23.4MB/s]\rDownloading alphafold2_multimer_v3 weights to /root/.cache/colabfold:  29%|██▉       | 1.11G/3.82G [00:52<02:04, 23.5MB/s]\rDownloading alphafold2_multimer_v3 weights to /root/.cache/colabfold:  29%|██▉       | 1.11G/3.82G [00:52<02:03, 23.5MB/s]\rDownloading alphafold2_multimer_v3 weights to /root/.cache/colabfold:  29%|██▉       | 1.12G/3.82G [00:53<02:03, 23.5MB/s]\rDownloading alphafold2_multimer_v3 weights to /root/.cache/colabfold:  29%|██▉       | 1.12G/3.82G [00:53<02:03, 23.5MB/s]\rDownloading alphafold2_multimer_v3 weights to /root/.cache/colabfold:  29%|██▉       | 1.12G/3.82G [00:53<02:02, 23.5MB/s]\rDownloading alphafold2_multimer_v3 weights to /root/.cache/colabfold:  30%|██▉       | 1.13G/3.82G [00:53<02:02, 23.5MB/s]\rDownloading alphafold2_multimer_v3 weights to /root/.cache/colabfold:  30%|██▉       | 1.13G/3.82G [00:53<02:02, 23.5MB/s]\rDownloading alphafold2_multimer_v3 weights to /root/.cache/colabfold:  30%|██▉       | 1.13G/3.82G [00:53<02:02, 23.5MB/s]\rDownloading alphafold2_multimer_v3 weights to /root/.cache/colabfold:  30%|██▉       | 1.14G/3.82G [00:54<02:02, 23.5MB/s]\rDownloading alphafold2_multimer_v3 weights to /root/.cache/colabfold:  30%|██▉       | 1.14G/3.82G [00:54<02:02, 23.5MB/s]\rDownloading alphafold2_multimer_v3 weights to /root/.cache/colabfold:  30%|██▉       | 1.14G/3.82G [00:54<02:01, 23.6MB/s]\rDownloading alphafold2_multimer_v3 weights to /root/.cache/colabfold:  30%|███       | 1.15G/3.82G [00:54<02:01, 23.5MB/s]\rDownloading alphafold2_multimer_v3 weights to /root/.cache/colabfold:  30%|███       | 1.15G/3.82G [00:54<02:01, 23.5MB/s]\rDownloading alphafold2_multimer_v3 weights to /root/.cache/colabfold:  30%|███       | 1.16G/3.82G [00:54<02:02, 23.4MB/s]\rDownloading alphafold2_multimer_v3 weights to /root/.cache/colabfold:  30%|███       | 1.16G/3.82G [00:55<02:01, 23.5MB/s]\rDownloading alphafold2_multimer_v3 weights to /root/.cache/colabfold:  30%|███       | 1.16G/3.82G [00:55<02:01, 23.6MB/s]\rDownloading alphafold2_multimer_v3 weights to /root/.cache/colabfold:  31%|███       | 1.17G/3.82G [00:55<02:00, 23.5MB/s]\rDownloading alphafold2_multimer_v3 weights to /root/.cache/colabfold:  31%|███       | 1.17G/3.82G [00:55<02:00, 23.5MB/s]\rDownloading alphafold2_multimer_v3 weights to /root/.cache/colabfold:  31%|███       | 1.17G/3.82G [00:55<02:00, 23.5MB/s]\rDownloading alphafold2_multimer_v3 weights to /root/.cache/colabfold:  31%|███       | 1.18G/3.82G [00:55<02:00, 23.5MB/s]\rDownloading alphafold2_multimer_v3 weights to /root/.cache/colabfold:  31%|███       | 1.18G/3.82G [00:56<02:00, 23.5MB/s]\rDownloading alphafold2_multimer_v3 weights to /root/.cache/colabfold:  31%|███       | 1.18G/3.82G [00:56<02:00, 23.5MB/s]\rDownloading alphafold2_multimer_v3 weights to /root/.cache/colabfold:  31%|███       | 1.19G/3.82G [00:56<02:00, 23.5MB/s]\rDownloading alphafold2_multimer_v3 weights to /root/.cache/colabfold:  31%|███       | 1.19G/3.82G [00:56<01:59, 23.5MB/s]\rDownloading alphafold2_multimer_v3 weights to /root/.cache/colabfold:  31%|███▏      | 1.19G/3.82G [00:56<01:59, 23.5MB/s]\rDownloading alphafold2_multimer_v3 weights to /root/.cache/colabfold:  31%|███▏      | 1.20G/3.82G [00:56<01:59, 23.5MB/s]\rDownloading alphafold2_multimer_v3 weights to /root/.cache/colabfold:  31%|███▏      | 1.20G/3.82G [00:56<01:59, 23.5MB/s]\rDownloading alphafold2_multimer_v3 weights to /root/.cache/colabfold:  32%|███▏      | 1.21G/3.82G [00:57<01:59, 23.5MB/s]\rDownloading alphafold2_multimer_v3 weights to /root/.cache/colabfold:  32%|███▏      | 1.21G/3.82G [00:57<01:59, 23.5MB/s]\rDownloading alphafold2_multimer_v3 weights to /root/.cache/colabfold:  32%|███▏      | 1.21G/3.82G [00:57<02:15, 20.7MB/s]\rDownloading alphafold2_multimer_v3 weights to /root/.cache/colabfold:  32%|███▏      | 1.21G/3.82G [00:57<02:32, 18.3MB/s]\rDownloading alphafold2_multimer_v3 weights to /root/.cache/colabfold:  32%|███▏      | 1.22G/3.82G [00:57<02:21, 19.7MB/s]\rDownloading alphafold2_multimer_v3 weights to /root/.cache/colabfold:  32%|███▏      | 1.22G/3.82G [00:57<02:13, 20.9MB/s]\rDownloading alphafold2_multimer_v3 weights to /root/.cache/colabfold:  32%|███▏      | 1.22G/3.82G [00:58<02:08, 21.7MB/s]\rDownloading alphafold2_multimer_v3 weights to /root/.cache/colabfold:  32%|███▏      | 1.23G/3.82G [00:58<02:05, 22.2MB/s]\rDownloading alphafold2_multimer_v3 weights to /root/.cache/colabfold:  32%|███▏      | 1.23G/3.82G [00:58<02:02, 22.7MB/s]\rDownloading alphafold2_multimer_v3 weights to /root/.cache/colabfold:  32%|███▏      | 1.23G/3.82G [00:58<02:00, 23.0MB/s]\rDownloading alphafold2_multimer_v3 weights to /root/.cache/colabfold:  32%|███▏      | 1.24G/3.82G [00:58<01:59, 23.1MB/s]\rDownloading alphafold2_multimer_v3 weights to /root/.cache/colabfold:  33%|███▎      | 1.24G/3.82G [00:58<01:59, 23.2MB/s]\rDownloading alphafold2_multimer_v3 weights to /root/.cache/colabfold:  33%|███▎      | 1.25G/3.82G [00:59<01:58, 23.3MB/s]\rDownloading alphafold2_multimer_v3 weights to /root/.cache/colabfold:  33%|███▎      | 1.25G/3.82G [00:59<02:01, 22.6MB/s]\rDownloading alphafold2_multimer_v3 weights to /root/.cache/colabfold:  33%|███▎      | 1.25G/3.82G [00:59<02:00, 22.9MB/s]\rDownloading alphafold2_multimer_v3 weights to /root/.cache/colabfold:  33%|███▎      | 1.26G/3.82G [00:59<01:59, 23.1MB/s]\rDownloading alphafold2_multimer_v3 weights to /root/.cache/colabfold:  33%|███▎      | 1.26G/3.82G [00:59<01:58, 23.2MB/s]\rDownloading alphafold2_multimer_v3 weights to /root/.cache/colabfold:  33%|███▎      | 1.26G/3.82G [00:59<01:57, 23.4MB/s]\rDownloading alphafold2_multimer_v3 weights to /root/.cache/colabfold:  33%|███▎      | 1.27G/3.82G [01:00<01:57, 23.4MB/s]\rDownloading alphafold2_multimer_v3 weights to /root/.cache/colabfold:  33%|███▎      | 1.27G/3.82G [01:00<01:56, 23.5MB/s]\rDownloading alphafold2_multimer_v3 weights to /root/.cache/colabfold:  33%|███▎      | 1.27G/3.82G [01:00<01:56, 23.5MB/s]\rDownloading alphafold2_multimer_v3 weights to /root/.cache/colabfold:  33%|███▎      | 1.28G/3.82G [01:00<01:56, 23.5MB/s]\rDownloading alphafold2_multimer_v3 weights to /root/.cache/colabfold:  34%|███▎      | 1.28G/3.82G [01:00<01:55, 23.5MB/s]\rDownloading alphafold2_multimer_v3 weights to /root/.cache/colabfold:  34%|███▎      | 1.28G/3.82G [01:00<01:55, 23.5MB/s]\rDownloading alphafold2_multimer_v3 weights to /root/.cache/colabfold:  34%|███▎      | 1.29G/3.82G [01:01<01:55, 23.5MB/s]\rDownloading alphafold2_multimer_v3 weights to /root/.cache/colabfold:  34%|███▍      | 1.29G/3.82G [01:01<01:55, 23.5MB/s]\rDownloading alphafold2_multimer_v3 weights to /root/.cache/colabfold:  34%|███▍      | 1.29G/3.82G [01:01<01:55, 23.5MB/s]\rDownloading alphafold2_multimer_v3 weights to /root/.cache/colabfold:  34%|███▍      | 1.30G/3.82G [01:01<01:55, 23.5MB/s]\rDownloading alphafold2_multimer_v3 weights to /root/.cache/colabfold:  34%|███▍      | 1.30G/3.82G [01:01<01:54, 23.5MB/s]\rDownloading alphafold2_multimer_v3 weights to /root/.cache/colabfold:  34%|███▍      | 1.31G/3.82G [01:01<01:54, 23.5MB/s]\rDownloading alphafold2_multimer_v3 weights to /root/.cache/colabfold:  34%|███▍      | 1.31G/3.82G [01:02<01:54, 23.5MB/s]\rDownloading alphafold2_multimer_v3 weights to /root/.cache/colabfold:  34%|███▍      | 1.31G/3.82G [01:02<01:54, 23.6MB/s]\rDownloading alphafold2_multimer_v3 weights to /root/.cache/colabfold:  34%|███▍      | 1.32G/3.82G [01:02<01:54, 23.5MB/s]\rDownloading alphafold2_multimer_v3 weights to /root/.cache/colabfold:  35%|███▍      | 1.32G/3.82G [01:02<01:54, 23.5MB/s]\rDownloading alphafold2_multimer_v3 weights to /root/.cache/colabfold:  35%|███▍      | 1.32G/3.82G [01:02<01:53, 23.5MB/s]\rDownloading alphafold2_multimer_v3 weights to /root/.cache/colabfold:  35%|███▍      | 1.33G/3.82G [01:02<01:53, 23.5MB/s]\rDownloading alphafold2_multimer_v3 weights to /root/.cache/colabfold:  35%|███▍      | 1.33G/3.82G [01:02<01:53, 23.5MB/s]\rDownloading alphafold2_multimer_v3 weights to /root/.cache/colabfold:  35%|███▍      | 1.33G/3.82G [01:03<01:53, 23.5MB/s]\rDownloading alphafold2_multimer_v3 weights to /root/.cache/colabfold:  35%|███▌      | 1.34G/3.82G [01:03<01:53, 23.5MB/s]\rDownloading alphafold2_multimer_v3 weights to /root/.cache/colabfold:  35%|███▌      | 1.34G/3.82G [01:03<02:04, 21.3MB/s]\rDownloading alphafold2_multimer_v3 weights to /root/.cache/colabfold:  35%|███▌      | 1.34G/3.82G [01:03<02:19, 19.1MB/s]\rDownloading alphafold2_multimer_v3 weights to /root/.cache/colabfold:  35%|███▌      | 1.34G/3.82G [01:03<02:33, 17.3MB/s]\rDownloading alphafold2_multimer_v3 weights to /root/.cache/colabfold:  35%|███▌      | 1.35G/3.82G [01:04<02:18, 19.2MB/s]\rDownloading alphafold2_multimer_v3 weights to /root/.cache/colabfold:  35%|███▌      | 1.35G/3.82G [01:04<02:09, 20.4MB/s]\rDownloading alphafold2_multimer_v3 weights to /root/.cache/colabfold:  36%|███▌      | 1.36G/3.82G [01:04<02:03, 21.3MB/s]\rDownloading alphafold2_multimer_v3 weights to /root/.cache/colabfold:  36%|███▌      | 1.36G/3.82G [01:04<01:59, 22.0MB/s]\rDownloading alphafold2_multimer_v3 weights to /root/.cache/colabfold:  36%|███▌      | 1.36G/3.82G [01:04<01:57, 22.5MB/s]\rDownloading alphafold2_multimer_v3 weights to /root/.cache/colabfold:  36%|███▌      | 1.37G/3.82G [01:04<01:55, 22.8MB/s]\rDownloading alphafold2_multimer_v3 weights to /root/.cache/colabfold:  36%|███▌      | 1.37G/3.82G [01:04<01:54, 23.0MB/s]\rDownloading alphafold2_multimer_v3 weights to /root/.cache/colabfold:  36%|███▌      | 1.37G/3.82G [01:05<01:58, 22.2MB/s]\rDownloading alphafold2_multimer_v3 weights to /root/.cache/colabfold:  36%|███▌      | 1.38G/3.82G [01:05<01:59, 21.9MB/s]\rDownloading alphafold2_multimer_v3 weights to /root/.cache/colabfold:  36%|███▌      | 1.38G/3.82G [01:05<01:57, 22.4MB/s]\rDownloading alphafold2_multimer_v3 weights to /root/.cache/colabfold:  36%|███▌      | 1.38G/3.82G [01:05<01:55, 22.7MB/s]\rDownloading alphafold2_multimer_v3 weights to /root/.cache/colabfold:  36%|███▋      | 1.39G/3.82G [01:05<01:53, 22.9MB/s]\rDownloading alphafold2_multimer_v3 weights to /root/.cache/colabfold:  36%|███▋      | 1.39G/3.82G [01:05<01:52, 23.1MB/s]\rDownloading alphafold2_multimer_v3 weights to /root/.cache/colabfold:  37%|███▋      | 1.39G/3.82G [01:06<01:52, 23.2MB/s]\rDownloading alphafold2_multimer_v3 weights to /root/.cache/colabfold:  37%|███▋      | 1.40G/3.82G [01:06<01:51, 23.3MB/s]\rDownloading alphafold2_multimer_v3 weights to /root/.cache/colabfold:  37%|███▋      | 1.40G/3.82G [01:06<01:50, 23.4MB/s]\rDownloading alphafold2_multimer_v3 weights to /root/.cache/colabfold:  37%|███▋      | 1.40G/3.82G [01:06<01:50, 23.4MB/s]\rDownloading alphafold2_multimer_v3 weights to /root/.cache/colabfold:  37%|███▋      | 1.41G/3.82G [01:06<01:50, 23.5MB/s]\rDownloading alphafold2_multimer_v3 weights to /root/.cache/colabfold:  37%|███▋      | 1.41G/3.82G [01:06<01:50, 23.5MB/s]\rDownloading alphafold2_multimer_v3 weights to /root/.cache/colabfold:  37%|███▋      | 1.42G/3.82G [01:07<01:49, 23.5MB/s]\rDownloading alphafold2_multimer_v3 weights to /root/.cache/colabfold:  37%|███▋      | 1.42G/3.82G [01:07<01:49, 23.5MB/s]\rDownloading alphafold2_multimer_v3 weights to /root/.cache/colabfold:  37%|███▋      | 1.42G/3.82G [01:07<01:49, 23.5MB/s]\rDownloading alphafold2_multimer_v3 weights to /root/.cache/colabfold:  37%|███▋      | 1.43G/3.82G [01:07<01:49, 23.5MB/s]\rDownloading alphafold2_multimer_v3 weights to /root/.cache/colabfold:  37%|███▋      | 1.43G/3.82G [01:07<01:48, 23.5MB/s]\rDownloading alphafold2_multimer_v3 weights to /root/.cache/colabfold:  38%|███▊      | 1.43G/3.82G [01:07<01:48, 23.5MB/s]\rDownloading alphafold2_multimer_v3 weights to /root/.cache/colabfold:  38%|███▊      | 1.44G/3.82G [01:08<01:48, 23.5MB/s]\rDownloading alphafold2_multimer_v3 weights to /root/.cache/colabfold:  38%|███▊      | 1.44G/3.82G [01:08<01:48, 23.5MB/s]\rDownloading alphafold2_multimer_v3 weights to /root/.cache/colabfold:  38%|███▊      | 1.44G/3.82G [01:08<01:48, 23.5MB/s]\rDownloading alphafold2_multimer_v3 weights to /root/.cache/colabfold:  38%|███▊      | 1.45G/3.82G [01:08<01:48, 23.6MB/s]\rDownloading alphafold2_multimer_v3 weights to /root/.cache/colabfold:  38%|███▊      | 1.45G/3.82G [01:08<01:47, 23.5MB/s]\rDownloading alphafold2_multimer_v3 weights to /root/.cache/colabfold:  38%|███▊      | 1.45G/3.82G [01:08<01:47, 23.5MB/s]\rDownloading alphafold2_multimer_v3 weights to /root/.cache/colabfold:  38%|███▊      | 1.46G/3.82G [01:09<01:47, 23.5MB/s]\rDownloading alphafold2_multimer_v3 weights to /root/.cache/colabfold:  38%|███▊      | 1.46G/3.82G [01:09<01:47, 23.5MB/s]\rDownloading alphafold2_multimer_v3 weights to /root/.cache/colabfold:  38%|███▊      | 1.47G/3.82G [01:09<01:47, 23.5MB/s]\rDownloading alphafold2_multimer_v3 weights to /root/.cache/colabfold:  38%|███▊      | 1.47G/3.82G [01:09<01:47, 23.5MB/s]\rDownloading alphafold2_multimer_v3 weights to /root/.cache/colabfold:  39%|███▊      | 1.47G/3.82G [01:09<01:47, 23.5MB/s]\rDownloading alphafold2_multimer_v3 weights to /root/.cache/colabfold:  39%|███▊      | 1.48G/3.82G [01:09<01:46, 23.5MB/s]\rDownloading alphafold2_multimer_v3 weights to /root/.cache/colabfold:  39%|███▉      | 1.48G/3.82G [01:10<01:46, 23.6MB/s]\rDownloading alphafold2_multimer_v3 weights to /root/.cache/colabfold:  39%|███▉      | 1.48G/3.82G [01:10<01:46, 23.6MB/s]\rDownloading alphafold2_multimer_v3 weights to /root/.cache/colabfold:  39%|███▉      | 1.49G/3.82G [01:10<01:46, 23.6MB/s]\rDownloading alphafold2_multimer_v3 weights to /root/.cache/colabfold:  39%|███▉      | 1.49G/3.82G [01:10<01:46, 23.6MB/s]\rDownloading alphafold2_multimer_v3 weights to /root/.cache/colabfold:  39%|███▉      | 1.49G/3.82G [01:10<01:45, 23.6MB/s]\rDownloading alphafold2_multimer_v3 weights to /root/.cache/colabfold:  39%|███▉      | 1.50G/3.82G [01:10<01:45, 23.6MB/s]\rDownloading alphafold2_multimer_v3 weights to /root/.cache/colabfold:  39%|███▉      | 1.50G/3.82G [01:11<01:59, 20.8MB/s]\rDownloading alphafold2_multimer_v3 weights to /root/.cache/colabfold:  39%|███▉      | 1.50G/3.82G [01:11<02:14, 18.4MB/s]\rDownloading alphafold2_multimer_v3 weights to /root/.cache/colabfold:  39%|███▉      | 1.51G/3.82G [01:11<02:06, 19.7MB/s]\rDownloading alphafold2_multimer_v3 weights to /root/.cache/colabfold:  40%|███▉      | 1.51G/3.82G [01:11<01:58, 20.8MB/s]\rDownloading alphafold2_multimer_v3 weights to /root/.cache/colabfold:  40%|███▉      | 1.51G/3.82G [01:11<01:54, 21.7MB/s]\rDownloading alphafold2_multimer_v3 weights to /root/.cache/colabfold:  40%|███▉      | 1.52G/3.82G [01:11<01:51, 22.2MB/s]\rDownloading alphafold2_multimer_v3 weights to /root/.cache/colabfold:  40%|███▉      | 1.52G/3.82G [01:12<01:49, 22.6MB/s]\rDownloading alphafold2_multimer_v3 weights to /root/.cache/colabfold:  40%|███▉      | 1.52G/3.82G [01:12<01:47, 22.9MB/s]\rDownloading alphafold2_multimer_v3 weights to /root/.cache/colabfold:  40%|███▉      | 1.53G/3.82G [01:12<01:46, 23.1MB/s]\rDownloading alphafold2_multimer_v3 weights to /root/.cache/colabfold:  40%|████      | 1.53G/3.82G [01:12<01:45, 23.2MB/s]\rDownloading alphafold2_multimer_v3 weights to /root/.cache/colabfold:  40%|████      | 1.53G/3.82G [01:12<01:45, 23.3MB/s]\rDownloading alphafold2_multimer_v3 weights to /root/.cache/colabfold:  40%|████      | 1.54G/3.82G [01:12<01:44, 23.4MB/s]\rDownloading alphafold2_multimer_v3 weights to /root/.cache/colabfold:  40%|████      | 1.54G/3.82G [01:12<01:44, 23.4MB/s]\rDownloading alphafold2_multimer_v3 weights to /root/.cache/colabfold:  40%|████      | 1.54G/3.82G [01:13<01:44, 23.5MB/s]\rDownloading alphafold2_multimer_v3 weights to /root/.cache/colabfold:  41%|████      | 1.55G/3.82G [01:13<01:43, 23.5MB/s]\rDownloading alphafold2_multimer_v3 weights to /root/.cache/colabfold:  41%|████      | 1.55G/3.82G [01:13<01:43, 23.5MB/s]\rDownloading alphafold2_multimer_v3 weights to /root/.cache/colabfold:  41%|████      | 1.56G/3.82G [01:13<01:43, 23.5MB/s]\rDownloading alphafold2_multimer_v3 weights to /root/.cache/colabfold:  41%|████      | 1.56G/3.82G [01:13<01:43, 23.5MB/s]\rDownloading alphafold2_multimer_v3 weights to /root/.cache/colabfold:  41%|████      | 1.56G/3.82G [01:13<01:43, 23.5MB/s]\rDownloading alphafold2_multimer_v3 weights to /root/.cache/colabfold:  41%|████      | 1.57G/3.82G [01:14<01:42, 23.5MB/s]\rDownloading alphafold2_multimer_v3 weights to /root/.cache/colabfold:  41%|████      | 1.57G/3.82G [01:14<01:42, 23.5MB/s]\rDownloading alphafold2_multimer_v3 weights to /root/.cache/colabfold:  41%|████      | 1.57G/3.82G [01:14<01:42, 23.6MB/s]\rDownloading alphafold2_multimer_v3 weights to /root/.cache/colabfold:  41%|████▏     | 1.58G/3.82G [01:14<01:42, 23.5MB/s]\rDownloading alphafold2_multimer_v3 weights to /root/.cache/colabfold:  41%|████▏     | 1.58G/3.82G [01:14<01:42, 23.5MB/s]\rDownloading alphafold2_multimer_v3 weights to /root/.cache/colabfold:  41%|████▏     | 1.58G/3.82G [01:14<01:41, 23.5MB/s]\rDownloading alphafold2_multimer_v3 weights to /root/.cache/colabfold:  42%|████▏     | 1.59G/3.82G [01:15<01:41, 23.5MB/s]\rDownloading alphafold2_multimer_v3 weights to /root/.cache/colabfold:  42%|████▏     | 1.59G/3.82G [01:15<01:41, 23.5MB/s]\rDownloading alphafold2_multimer_v3 weights to /root/.cache/colabfold:  42%|████▏     | 1.59G/3.82G [01:15<01:41, 23.5MB/s]\rDownloading alphafold2_multimer_v3 weights to /root/.cache/colabfold:  42%|████▏     | 1.60G/3.82G [01:15<01:41, 23.5MB/s]\rDownloading alphafold2_multimer_v3 weights to /root/.cache/colabfold:  42%|████▏     | 1.60G/3.82G [01:15<01:41, 23.5MB/s]\rDownloading alphafold2_multimer_v3 weights to /root/.cache/colabfold:  42%|████▏     | 1.60G/3.82G [01:15<01:41, 23.5MB/s]\rDownloading alphafold2_multimer_v3 weights to /root/.cache/colabfold:  42%|████▏     | 1.61G/3.82G [01:16<01:40, 23.6MB/s]\rDownloading alphafold2_multimer_v3 weights to /root/.cache/colabfold:  42%|████▏     | 1.61G/3.82G [01:16<01:40, 23.5MB/s]\rDownloading alphafold2_multimer_v3 weights to /root/.cache/colabfold:  42%|████▏     | 1.62G/3.82G [01:16<01:40, 23.5MB/s]\rDownloading alphafold2_multimer_v3 weights to /root/.cache/colabfold:  42%|████▏     | 1.62G/3.82G [01:16<01:40, 23.5MB/s]\rDownloading alphafold2_multimer_v3 weights to /root/.cache/colabfold:  43%|████▎     | 1.62G/3.82G [01:16<01:40, 23.6MB/s]\rDownloading alphafold2_multimer_v3 weights to /root/.cache/colabfold:  43%|████▎     | 1.63G/3.82G [01:16<01:39, 23.5MB/s]\rDownloading alphafold2_multimer_v3 weights to /root/.cache/colabfold:  43%|████▎     | 1.63G/3.82G [01:17<01:39, 23.5MB/s]\rDownloading alphafold2_multimer_v3 weights to /root/.cache/colabfold:  43%|████▎     | 1.63G/3.82G [01:17<01:39, 23.6MB/s]\rDownloading alphafold2_multimer_v3 weights to /root/.cache/colabfold:  43%|████▎     | 1.64G/3.82G [01:17<01:39, 23.6MB/s]\rDownloading alphafold2_multimer_v3 weights to /root/.cache/colabfold:  43%|████▎     | 1.64G/3.82G [01:17<01:39, 23.6MB/s]\rDownloading alphafold2_multimer_v3 weights to /root/.cache/colabfold:  43%|████▎     | 1.64G/3.82G [01:17<01:39, 23.6MB/s]\rDownloading alphafold2_multimer_v3 weights to /root/.cache/colabfold:  43%|████▎     | 1.65G/3.82G [01:17<01:39, 23.5MB/s]\rDownloading alphafold2_multimer_v3 weights to /root/.cache/colabfold:  43%|████▎     | 1.65G/3.82G [01:18<01:38, 23.5MB/s]\rDownloading alphafold2_multimer_v3 weights to /root/.cache/colabfold:  43%|████▎     | 1.65G/3.82G [01:18<01:38, 23.5MB/s]\rDownloading alphafold2_multimer_v3 weights to /root/.cache/colabfold:  43%|████▎     | 1.66G/3.82G [01:18<01:38, 23.5MB/s]\rDownloading alphafold2_multimer_v3 weights to /root/.cache/colabfold:  44%|████▎     | 1.66G/3.82G [01:18<01:38, 23.5MB/s]\rDownloading alphafold2_multimer_v3 weights to /root/.cache/colabfold:  44%|████▎     | 1.67G/3.82G [01:18<01:38, 23.5MB/s]\rDownloading alphafold2_multimer_v3 weights to /root/.cache/colabfold:  44%|████▎     | 1.67G/3.82G [01:18<01:38, 23.5MB/s]\rDownloading alphafold2_multimer_v3 weights to /root/.cache/colabfold:  44%|████▍     | 1.67G/3.82G [01:19<01:37, 23.5MB/s]\rDownloading alphafold2_multimer_v3 weights to /root/.cache/colabfold:  44%|████▍     | 1.68G/3.82G [01:19<01:37, 23.5MB/s]\rDownloading alphafold2_multimer_v3 weights to /root/.cache/colabfold:  44%|████▍     | 1.68G/3.82G [01:19<01:37, 23.5MB/s]\rDownloading alphafold2_multimer_v3 weights to /root/.cache/colabfold:  44%|████▍     | 1.68G/3.82G [01:19<01:37, 23.5MB/s]\rDownloading alphafold2_multimer_v3 weights to /root/.cache/colabfold:  44%|████▍     | 1.69G/3.82G [01:19<01:37, 23.5MB/s]\rDownloading alphafold2_multimer_v3 weights to /root/.cache/colabfold:  44%|████▍     | 1.69G/3.82G [01:19<01:37, 23.5MB/s]\rDownloading alphafold2_multimer_v3 weights to /root/.cache/colabfold:  44%|████▍     | 1.69G/3.82G [01:19<01:37, 23.5MB/s]\rDownloading alphafold2_multimer_v3 weights to /root/.cache/colabfold:  44%|████▍     | 1.70G/3.82G [01:20<01:36, 23.5MB/s]\rDownloading alphafold2_multimer_v3 weights to /root/.cache/colabfold:  45%|████▍     | 1.70G/3.82G [01:20<01:36, 23.5MB/s]\rDownloading alphafold2_multimer_v3 weights to /root/.cache/colabfold:  45%|████▍     | 1.70G/3.82G [01:20<01:36, 23.6MB/s]\rDownloading alphafold2_multimer_v3 weights to /root/.cache/colabfold:  45%|████▍     | 1.71G/3.82G [01:20<01:36, 23.5MB/s]\rDownloading alphafold2_multimer_v3 weights to /root/.cache/colabfold:  45%|████▍     | 1.71G/3.82G [01:20<01:36, 23.5MB/s]\rDownloading alphafold2_multimer_v3 weights to /root/.cache/colabfold:  45%|████▍     | 1.72G/3.82G [01:20<01:36, 23.5MB/s]\rDownloading alphafold2_multimer_v3 weights to /root/.cache/colabfold:  45%|████▌     | 1.72G/3.82G [01:21<01:35, 23.5MB/s]\rDownloading alphafold2_multimer_v3 weights to /root/.cache/colabfold:  45%|████▌     | 1.72G/3.82G [01:21<01:35, 23.5MB/s]\rDownloading alphafold2_multimer_v3 weights to /root/.cache/colabfold:  45%|████▌     | 1.73G/3.82G [01:21<01:35, 23.5MB/s]\rDownloading alphafold2_multimer_v3 weights to /root/.cache/colabfold:  45%|████▌     | 1.73G/3.82G [01:21<01:35, 23.6MB/s]\rDownloading alphafold2_multimer_v3 weights to /root/.cache/colabfold:  45%|████▌     | 1.73G/3.82G [01:21<01:35, 23.5MB/s]\rDownloading alphafold2_multimer_v3 weights to /root/.cache/colabfold:  45%|████▌     | 1.74G/3.82G [01:21<01:39, 22.5MB/s]\rDownloading alphafold2_multimer_v3 weights to /root/.cache/colabfold:  46%|████▌     | 1.74G/3.82G [01:22<01:40, 22.1MB/s]\rDownloading alphafold2_multimer_v3 weights to /root/.cache/colabfold:  46%|████▌     | 1.74G/3.82G [01:22<01:38, 22.5MB/s]\rDownloading alphafold2_multimer_v3 weights to /root/.cache/colabfold:  46%|████▌     | 1.75G/3.82G [01:22<01:37, 22.8MB/s]\rDownloading alphafold2_multimer_v3 weights to /root/.cache/colabfold:  46%|████▌     | 1.75G/3.82G [01:22<01:36, 23.1MB/s]\rDownloading alphafold2_multimer_v3 weights to /root/.cache/colabfold:  46%|████▌     | 1.75G/3.82G [01:22<01:35, 23.2MB/s]\rDownloading alphafold2_multimer_v3 weights to /root/.cache/colabfold:  46%|████▌     | 1.76G/3.82G [01:22<01:34, 23.3MB/s]\rDownloading alphafold2_multimer_v3 weights to /root/.cache/colabfold:  46%|████▌     | 1.76G/3.82G [01:23<01:34, 23.4MB/s]\rDownloading alphafold2_multimer_v3 weights to /root/.cache/colabfold:  46%|████▌     | 1.76G/3.82G [01:23<01:34, 23.4MB/s]\rDownloading alphafold2_multimer_v3 weights to /root/.cache/colabfold:  46%|████▋     | 1.77G/3.82G [01:23<01:33, 23.5MB/s]\rDownloading alphafold2_multimer_v3 weights to /root/.cache/colabfold:  46%|████▋     | 1.77G/3.82G [01:23<01:33, 23.5MB/s]\rDownloading alphafold2_multimer_v3 weights to /root/.cache/colabfold:  47%|████▋     | 1.78G/3.82G [01:23<01:33, 23.5MB/s]\rDownloading alphafold2_multimer_v3 weights to /root/.cache/colabfold:  47%|████▋     | 1.78G/3.82G [01:23<01:32, 23.5MB/s]\rDownloading alphafold2_multimer_v3 weights to /root/.cache/colabfold:  47%|████▋     | 1.78G/3.82G [01:24<01:32, 23.6MB/s]\rDownloading alphafold2_multimer_v3 weights to /root/.cache/colabfold:  47%|████▋     | 1.79G/3.82G [01:24<01:32, 23.5MB/s]\rDownloading alphafold2_multimer_v3 weights to /root/.cache/colabfold:  47%|████▋     | 1.79G/3.82G [01:24<01:32, 23.6MB/s]\rDownloading alphafold2_multimer_v3 weights to /root/.cache/colabfold:  47%|████▋     | 1.79G/3.82G [01:24<01:32, 23.6MB/s]\rDownloading alphafold2_multimer_v3 weights to /root/.cache/colabfold:  47%|████▋     | 1.80G/3.82G [01:24<01:32, 23.5MB/s]\rDownloading alphafold2_multimer_v3 weights to /root/.cache/colabfold:  47%|████▋     | 1.80G/3.82G [01:24<01:32, 23.5MB/s]\rDownloading alphafold2_multimer_v3 weights to /root/.cache/colabfold:  47%|████▋     | 1.80G/3.82G [01:25<01:31, 23.5MB/s]\rDownloading alphafold2_multimer_v3 weights to /root/.cache/colabfold:  47%|████▋     | 1.81G/3.82G [01:25<01:31, 23.5MB/s]\rDownloading alphafold2_multimer_v3 weights to /root/.cache/colabfold:  47%|████▋     | 1.81G/3.82G [01:25<01:31, 23.5MB/s]\rDownloading alphafold2_multimer_v3 weights to /root/.cache/colabfold:  48%|████▊     | 1.81G/3.82G [01:25<01:31, 23.5MB/s]\rDownloading alphafold2_multimer_v3 weights to /root/.cache/colabfold:  48%|████▊     | 1.82G/3.82G [01:25<01:31, 23.5MB/s]\rDownloading alphafold2_multimer_v3 weights to /root/.cache/colabfold:  48%|████▊     | 1.82G/3.82G [01:25<01:30, 23.6MB/s]\rDownloading alphafold2_multimer_v3 weights to /root/.cache/colabfold:  48%|████▊     | 1.83G/3.82G [01:26<01:35, 22.3MB/s]\rDownloading alphafold2_multimer_v3 weights to /root/.cache/colabfold:  48%|████▊     | 1.83G/3.82G [01:26<01:47, 19.9MB/s]\rDownloading alphafold2_multimer_v3 weights to /root/.cache/colabfold:  48%|████▊     | 1.83G/3.82G [01:26<02:00, 17.7MB/s]\rDownloading alphafold2_multimer_v3 weights to /root/.cache/colabfold:  48%|████▊     | 1.83G/3.82G [01:26<01:49, 19.5MB/s]\rDownloading alphafold2_multimer_v3 weights to /root/.cache/colabfold:  48%|████▊     | 1.84G/3.82G [01:26<01:43, 20.6MB/s]\rDownloading alphafold2_multimer_v3 weights to /root/.cache/colabfold:  48%|████▊     | 1.84G/3.82G [01:26<01:38, 21.5MB/s]\rDownloading alphafold2_multimer_v3 weights to /root/.cache/colabfold:  48%|████▊     | 1.84G/3.82G [01:27<01:35, 22.1MB/s]\rDownloading alphafold2_multimer_v3 weights to /root/.cache/colabfold:  48%|████▊     | 1.85G/3.82G [01:27<01:33, 22.6MB/s]\rDownloading alphafold2_multimer_v3 weights to /root/.cache/colabfold:  48%|████▊     | 1.85G/3.82G [01:27<01:32, 22.8MB/s]\rDownloading alphafold2_multimer_v3 weights to /root/.cache/colabfold:  49%|████▊     | 1.85G/3.82G [01:27<01:31, 23.0MB/s]\rDownloading alphafold2_multimer_v3 weights to /root/.cache/colabfold:  49%|████▊     | 1.86G/3.82G [01:27<01:30, 23.2MB/s]\rDownloading alphafold2_multimer_v3 weights to /root/.cache/colabfold:  49%|████▉     | 1.86G/3.82G [01:27<01:30, 23.3MB/s]\rDownloading alphafold2_multimer_v3 weights to /root/.cache/colabfold:  49%|████▉     | 1.87G/3.82G [01:27<01:29, 23.3MB/s]\rDownloading alphafold2_multimer_v3 weights to /root/.cache/colabfold:  49%|████▉     | 1.87G/3.82G [01:28<01:33, 22.4MB/s]\rDownloading alphafold2_multimer_v3 weights to /root/.cache/colabfold:  49%|████▉     | 1.87G/3.82G [01:28<01:35, 22.0MB/s]\rDownloading alphafold2_multimer_v3 weights to /root/.cache/colabfold:  49%|████▉     | 1.88G/3.82G [01:28<01:32, 22.4MB/s]\rDownloading alphafold2_multimer_v3 weights to /root/.cache/colabfold:  49%|████▉     | 1.88G/3.82G [01:28<01:31, 22.8MB/s]\rDownloading alphafold2_multimer_v3 weights to /root/.cache/colabfold:  49%|████▉     | 1.88G/3.82G [01:28<01:30, 23.0MB/s]\rDownloading alphafold2_multimer_v3 weights to /root/.cache/colabfold:  49%|████▉     | 1.89G/3.82G [01:28<01:29, 23.1MB/s]\rDownloading alphafold2_multimer_v3 weights to /root/.cache/colabfold:  49%|████▉     | 1.89G/3.82G [01:29<01:29, 23.2MB/s]\rDownloading alphafold2_multimer_v3 weights to /root/.cache/colabfold:  50%|████▉     | 1.89G/3.82G [01:29<01:28, 23.3MB/s]\rDownloading alphafold2_multimer_v3 weights to /root/.cache/colabfold:  50%|████▉     | 1.90G/3.82G [01:29<01:28, 23.4MB/s]\rDownloading alphafold2_multimer_v3 weights to /root/.cache/colabfold:  50%|████▉     | 1.90G/3.82G [01:29<01:27, 23.4MB/s]\rDownloading alphafold2_multimer_v3 weights to /root/.cache/colabfold:  50%|████▉     | 1.90G/3.82G [01:29<01:27, 23.4MB/s]\rDownloading alphafold2_multimer_v3 weights to /root/.cache/colabfold:  50%|████▉     | 1.91G/3.82G [01:29<01:27, 23.5MB/s]\rDownloading alphafold2_multimer_v3 weights to /root/.cache/colabfold:  50%|█████     | 1.91G/3.82G [01:30<01:27, 23.5MB/s]\rDownloading alphafold2_multimer_v3 weights to /root/.cache/colabfold:  50%|█████     | 1.91G/3.82G [01:30<01:27, 23.5MB/s]\rDownloading alphafold2_multimer_v3 weights to /root/.cache/colabfold:  50%|█████     | 1.92G/3.82G [01:30<01:26, 23.5MB/s]\rDownloading alphafold2_multimer_v3 weights to /root/.cache/colabfold:  50%|█████     | 1.92G/3.82G [01:30<01:26, 23.5MB/s]\rDownloading alphafold2_multimer_v3 weights to /root/.cache/colabfold:  50%|█████     | 1.93G/3.82G [01:30<01:26, 23.5MB/s]\rDownloading alphafold2_multimer_v3 weights to /root/.cache/colabfold:  51%|█████     | 1.93G/3.82G [01:30<01:26, 23.5MB/s]\rDownloading alphafold2_multimer_v3 weights to /root/.cache/colabfold:  51%|█████     | 1.93G/3.82G [01:31<01:26, 23.5MB/s]\rDownloading alphafold2_multimer_v3 weights to /root/.cache/colabfold:  51%|█████     | 1.94G/3.82G [01:31<01:26, 23.5MB/s]\rDownloading alphafold2_multimer_v3 weights to /root/.cache/colabfold:  51%|█████     | 1.94G/3.82G [01:31<01:25, 23.5MB/s]\rDownloading alphafold2_multimer_v3 weights to /root/.cache/colabfold:  51%|█████     | 1.94G/3.82G [01:31<01:25, 23.5MB/s]\rDownloading alphafold2_multimer_v3 weights to /root/.cache/colabfold:  51%|█████     | 1.95G/3.82G [01:31<01:25, 23.5MB/s]\rDownloading alphafold2_multimer_v3 weights to /root/.cache/colabfold:  51%|█████     | 1.95G/3.82G [01:31<01:25, 23.5MB/s]\rDownloading alphafold2_multimer_v3 weights to /root/.cache/colabfold:  51%|█████     | 1.95G/3.82G [01:32<01:25, 23.5MB/s]\rDownloading alphafold2_multimer_v3 weights to /root/.cache/colabfold:  51%|█████▏    | 1.96G/3.82G [01:32<01:25, 23.5MB/s]\rDownloading alphafold2_multimer_v3 weights to /root/.cache/colabfold:  51%|█████▏    | 1.96G/3.82G [01:32<01:25, 23.5MB/s]\rDownloading alphafold2_multimer_v3 weights to /root/.cache/colabfold:  51%|█████▏    | 1.96G/3.82G [01:32<01:24, 23.5MB/s]\rDownloading alphafold2_multimer_v3 weights to /root/.cache/colabfold:  52%|█████▏    | 1.97G/3.82G [01:32<01:24, 23.5MB/s]\rDownloading alphafold2_multimer_v3 weights to /root/.cache/colabfold:  52%|█████▏    | 1.97G/3.82G [01:32<01:24, 23.5MB/s]\rDownloading alphafold2_multimer_v3 weights to /root/.cache/colabfold:  52%|█████▏    | 1.97G/3.82G [01:33<01:24, 23.5MB/s]\rDownloading alphafold2_multimer_v3 weights to /root/.cache/colabfold:  52%|█████▏    | 1.98G/3.82G [01:33<01:28, 22.3MB/s]\rDownloading alphafold2_multimer_v3 weights to /root/.cache/colabfold:  52%|█████▏    | 1.98G/3.82G [01:33<01:39, 19.8MB/s]\rDownloading alphafold2_multimer_v3 weights to /root/.cache/colabfold:  52%|█████▏    | 1.98G/3.82G [01:33<01:51, 17.7MB/s]\rDownloading alphafold2_multimer_v3 weights to /root/.cache/colabfold:  52%|█████▏    | 1.99G/3.82G [01:33<01:41, 19.4MB/s]\rDownloading alphafold2_multimer_v3 weights to /root/.cache/colabfold:  52%|█████▏    | 1.99G/3.82G [01:33<01:35, 20.6MB/s]\rDownloading alphafold2_multimer_v3 weights to /root/.cache/colabfold:  52%|█████▏    | 1.99G/3.82G [01:34<01:31, 21.5MB/s]\rDownloading alphafold2_multimer_v3 weights to /root/.cache/colabfold:  52%|█████▏    | 2.00G/3.82G [01:34<01:28, 22.1MB/s]\rDownloading alphafold2_multimer_v3 weights to /root/.cache/colabfold:  52%|█████▏    | 2.00G/3.82G [01:34<01:26, 22.5MB/s]\rDownloading alphafold2_multimer_v3 weights to /root/.cache/colabfold:  52%|█████▏    | 2.00G/3.82G [01:34<01:25, 22.8MB/s]\rDownloading alphafold2_multimer_v3 weights to /root/.cache/colabfold:  53%|█████▎    | 2.01G/3.82G [01:34<01:24, 23.1MB/s]\rDownloading alphafold2_multimer_v3 weights to /root/.cache/colabfold:  53%|█████▎    | 2.01G/3.82G [01:34<01:23, 23.2MB/s]\rDownloading alphafold2_multimer_v3 weights to /root/.cache/colabfold:  53%|█████▎    | 2.01G/3.82G [01:35<01:23, 23.3MB/s]\rDownloading alphafold2_multimer_v3 weights to /root/.cache/colabfold:  53%|█████▎    | 2.02G/3.82G [01:35<01:22, 23.3MB/s]\rDownloading alphafold2_multimer_v3 weights to /root/.cache/colabfold:  53%|█████▎    | 2.02G/3.82G [01:35<01:22, 23.4MB/s]\rDownloading alphafold2_multimer_v3 weights to /root/.cache/colabfold:  53%|█████▎    | 2.02G/3.82G [01:35<01:22, 23.4MB/s]\rDownloading alphafold2_multimer_v3 weights to /root/.cache/colabfold:  53%|█████▎    | 2.03G/3.82G [01:35<01:21, 23.4MB/s]\rDownloading alphafold2_multimer_v3 weights to /root/.cache/colabfold:  53%|█████▎    | 2.03G/3.82G [01:35<01:21, 23.5MB/s]\rDownloading alphafold2_multimer_v3 weights to /root/.cache/colabfold:  53%|█████▎    | 2.04G/3.82G [01:35<01:21, 23.5MB/s]\rDownloading alphafold2_multimer_v3 weights to /root/.cache/colabfold:  53%|█████▎    | 2.04G/3.82G [01:36<01:21, 23.5MB/s]\rDownloading alphafold2_multimer_v3 weights to /root/.cache/colabfold:  54%|█████▎    | 2.04G/3.82G [01:36<01:20, 23.5MB/s]\rDownloading alphafold2_multimer_v3 weights to /root/.cache/colabfold:  54%|█████▎    | 2.05G/3.82G [01:36<01:20, 23.5MB/s]\rDownloading alphafold2_multimer_v3 weights to /root/.cache/colabfold:  54%|█████▎    | 2.05G/3.82G [01:36<01:20, 23.5MB/s]\rDownloading alphafold2_multimer_v3 weights to /root/.cache/colabfold:  54%|█████▍    | 2.05G/3.82G [01:36<01:20, 23.5MB/s]\rDownloading alphafold2_multimer_v3 weights to /root/.cache/colabfold:  54%|█████▍    | 2.06G/3.82G [01:36<01:20, 23.5MB/s]\rDownloading alphafold2_multimer_v3 weights to /root/.cache/colabfold:  54%|█████▍    | 2.06G/3.82G [01:37<01:20, 23.5MB/s]\rDownloading alphafold2_multimer_v3 weights to /root/.cache/colabfold:  54%|█████▍    | 2.06G/3.82G [01:37<01:20, 23.5MB/s]\rDownloading alphafold2_multimer_v3 weights to /root/.cache/colabfold:  54%|█████▍    | 2.07G/3.82G [01:37<01:19, 23.5MB/s]\rDownloading alphafold2_multimer_v3 weights to /root/.cache/colabfold:  54%|█████▍    | 2.07G/3.82G [01:37<01:19, 23.5MB/s]\rDownloading alphafold2_multimer_v3 weights to /root/.cache/colabfold:  54%|█████▍    | 2.07G/3.82G [01:37<01:19, 23.5MB/s]\rDownloading alphafold2_multimer_v3 weights to /root/.cache/colabfold:  54%|█████▍    | 2.08G/3.82G [01:37<01:19, 23.5MB/s]\rDownloading alphafold2_multimer_v3 weights to /root/.cache/colabfold:  55%|█████▍    | 2.08G/3.82G [01:38<01:19, 23.4MB/s]\rDownloading alphafold2_multimer_v3 weights to /root/.cache/colabfold:  55%|█████▍    | 2.09G/3.82G [01:38<01:18, 23.6MB/s]\rDownloading alphafold2_multimer_v3 weights to /root/.cache/colabfold:  55%|█████▍    | 2.09G/3.82G [01:38<01:18, 23.5MB/s]\rDownloading alphafold2_multimer_v3 weights to /root/.cache/colabfold:  55%|█████▍    | 2.09G/3.82G [01:38<01:18, 23.5MB/s]\rDownloading alphafold2_multimer_v3 weights to /root/.cache/colabfold:  55%|█████▍    | 2.10G/3.82G [01:38<01:18, 23.5MB/s]\rDownloading alphafold2_multimer_v3 weights to /root/.cache/colabfold:  55%|█████▍    | 2.10G/3.82G [01:38<01:18, 23.5MB/s]\rDownloading alphafold2_multimer_v3 weights to /root/.cache/colabfold:  55%|█████▌    | 2.10G/3.82G [01:39<01:18, 23.5MB/s]\rDownloading alphafold2_multimer_v3 weights to /root/.cache/colabfold:  55%|█████▌    | 2.11G/3.82G [01:39<01:18, 23.5MB/s]\rDownloading alphafold2_multimer_v3 weights to /root/.cache/colabfold:  55%|█████▌    | 2.11G/3.82G [01:39<01:17, 23.5MB/s]\rDownloading alphafold2_multimer_v3 weights to /root/.cache/colabfold:  55%|█████▌    | 2.11G/3.82G [01:39<01:17, 23.5MB/s]\rDownloading alphafold2_multimer_v3 weights to /root/.cache/colabfold:  55%|█████▌    | 2.12G/3.82G [01:39<01:17, 23.5MB/s]\rDownloading alphafold2_multimer_v3 weights to /root/.cache/colabfold:  56%|█████▌    | 2.12G/3.82G [01:39<01:17, 23.5MB/s]\rDownloading alphafold2_multimer_v3 weights to /root/.cache/colabfold:  56%|█████▌    | 2.12G/3.82G [01:40<01:17, 23.5MB/s]\rDownloading alphafold2_multimer_v3 weights to /root/.cache/colabfold:  56%|█████▌    | 2.13G/3.82G [01:40<01:20, 22.4MB/s]\rDownloading alphafold2_multimer_v3 weights to /root/.cache/colabfold:  56%|█████▌    | 2.13G/3.82G [01:40<01:31, 19.9MB/s]\rDownloading alphafold2_multimer_v3 weights to /root/.cache/colabfold:  56%|█████▌    | 2.13G/3.82G [01:40<01:38, 18.3MB/s]\rDownloading alphafold2_multimer_v3 weights to /root/.cache/colabfold:  56%|█████▌    | 2.14G/3.82G [01:40<01:30, 19.9MB/s]\rDownloading alphafold2_multimer_v3 weights to /root/.cache/colabfold:  56%|█████▌    | 2.14G/3.82G [01:40<01:26, 21.0MB/s]\rDownloading alphafold2_multimer_v3 weights to /root/.cache/colabfold:  56%|█████▌    | 2.14G/3.82G [01:41<01:22, 21.7MB/s]\rDownloading alphafold2_multimer_v3 weights to /root/.cache/colabfold:  56%|█████▌    | 2.15G/3.82G [01:41<01:20, 22.3MB/s]\rDownloading alphafold2_multimer_v3 weights to /root/.cache/colabfold:  56%|█████▋    | 2.15G/3.82G [01:41<01:19, 22.6MB/s]\rDownloading alphafold2_multimer_v3 weights to /root/.cache/colabfold:  56%|█████▋    | 2.15G/3.82G [01:41<01:18, 22.9MB/s]\rDownloading alphafold2_multimer_v3 weights to /root/.cache/colabfold:  56%|█████▋    | 2.16G/3.82G [01:41<01:17, 23.1MB/s]\rDownloading alphafold2_multimer_v3 weights to /root/.cache/colabfold:  57%|█████▋    | 2.16G/3.82G [01:41<01:16, 23.2MB/s]\rDownloading alphafold2_multimer_v3 weights to /root/.cache/colabfold:  57%|█████▋    | 2.16G/3.82G [01:42<01:16, 23.3MB/s]\rDownloading alphafold2_multimer_v3 weights to /root/.cache/colabfold:  57%|█████▋    | 2.17G/3.82G [01:42<01:15, 23.3MB/s]\rDownloading alphafold2_multimer_v3 weights to /root/.cache/colabfold:  57%|█████▋    | 2.17G/3.82G [01:42<01:15, 23.4MB/s]\rDownloading alphafold2_multimer_v3 weights to /root/.cache/colabfold:  57%|█████▋    | 2.17G/3.82G [01:42<01:15, 23.4MB/s]\rDownloading alphafold2_multimer_v3 weights to /root/.cache/colabfold:  57%|█████▋    | 2.18G/3.82G [01:42<01:15, 23.5MB/s]\rDownloading alphafold2_multimer_v3 weights to /root/.cache/colabfold:  57%|█████▋    | 2.18G/3.82G [01:42<01:14, 23.5MB/s]\rDownloading alphafold2_multimer_v3 weights to /root/.cache/colabfold:  57%|█████▋    | 2.19G/3.82G [01:42<01:14, 23.5MB/s]\rDownloading alphafold2_multimer_v3 weights to /root/.cache/colabfold:  57%|█████▋    | 2.19G/3.82G [01:43<01:14, 23.5MB/s]\rDownloading alphafold2_multimer_v3 weights to /root/.cache/colabfold:  57%|█████▋    | 2.19G/3.82G [01:43<01:14, 23.5MB/s]\rDownloading alphafold2_multimer_v3 weights to /root/.cache/colabfold:  58%|█████▊    | 2.20G/3.82G [01:43<01:14, 23.5MB/s]\rDownloading alphafold2_multimer_v3 weights to /root/.cache/colabfold:  58%|█████▊    | 2.20G/3.82G [01:43<01:13, 23.6MB/s]\rDownloading alphafold2_multimer_v3 weights to /root/.cache/colabfold:  58%|█████▊    | 2.20G/3.82G [01:43<01:13, 23.5MB/s]\rDownloading alphafold2_multimer_v3 weights to /root/.cache/colabfold:  58%|█████▊    | 2.21G/3.82G [01:43<01:13, 23.6MB/s]\rDownloading alphafold2_multimer_v3 weights to /root/.cache/colabfold:  58%|█████▊    | 2.21G/3.82G [01:44<01:13, 23.5MB/s]\rDownloading alphafold2_multimer_v3 weights to /root/.cache/colabfold:  58%|█████▊    | 2.21G/3.82G [01:44<01:13, 23.6MB/s]\rDownloading alphafold2_multimer_v3 weights to /root/.cache/colabfold:  58%|█████▊    | 2.22G/3.82G [01:44<01:12, 23.6MB/s]\rDownloading alphafold2_multimer_v3 weights to /root/.cache/colabfold:  58%|█████▊    | 2.22G/3.82G [01:44<01:12, 23.5MB/s]\rDownloading alphafold2_multimer_v3 weights to /root/.cache/colabfold:  58%|█████▊    | 2.22G/3.82G [01:44<01:12, 23.5MB/s]\rDownloading alphafold2_multimer_v3 weights to /root/.cache/colabfold:  58%|█████▊    | 2.23G/3.82G [01:44<01:12, 23.5MB/s]\rDownloading alphafold2_multimer_v3 weights to /root/.cache/colabfold:  58%|█████▊    | 2.23G/3.82G [01:45<01:12, 23.5MB/s]\rDownloading alphafold2_multimer_v3 weights to /root/.cache/colabfold:  59%|█████▊    | 2.24G/3.82G [01:45<01:12, 23.6MB/s]\rDownloading alphafold2_multimer_v3 weights to /root/.cache/colabfold:  59%|█████▊    | 2.24G/3.82G [01:45<01:11, 23.6MB/s]\rDownloading alphafold2_multimer_v3 weights to /root/.cache/colabfold:  59%|█████▊    | 2.24G/3.82G [01:45<01:11, 23.5MB/s]\rDownloading alphafold2_multimer_v3 weights to /root/.cache/colabfold:  59%|█████▉    | 2.25G/3.82G [01:45<01:11, 23.5MB/s]\rDownloading alphafold2_multimer_v3 weights to /root/.cache/colabfold:  59%|█████▉    | 2.25G/3.82G [01:45<01:11, 23.5MB/s]\rDownloading alphafold2_multimer_v3 weights to /root/.cache/colabfold:  59%|█████▉    | 2.25G/3.82G [01:46<01:11, 23.6MB/s]\rDownloading alphafold2_multimer_v3 weights to /root/.cache/colabfold:  59%|█████▉    | 2.26G/3.82G [01:46<01:11, 23.5MB/s]\rDownloading alphafold2_multimer_v3 weights to /root/.cache/colabfold:  59%|█████▉    | 2.26G/3.82G [01:46<01:11, 23.5MB/s]\rDownloading alphafold2_multimer_v3 weights to /root/.cache/colabfold:  59%|█████▉    | 2.26G/3.82G [01:46<01:10, 23.5MB/s]\rDownloading alphafold2_multimer_v3 weights to /root/.cache/colabfold:  59%|█████▉    | 2.27G/3.82G [01:46<01:10, 23.5MB/s]\rDownloading alphafold2_multimer_v3 weights to /root/.cache/colabfold:  59%|█████▉    | 2.27G/3.82G [01:46<01:10, 23.5MB/s]\rDownloading alphafold2_multimer_v3 weights to /root/.cache/colabfold:  60%|█████▉    | 2.27G/3.82G [01:47<01:10, 23.5MB/s]\rDownloading alphafold2_multimer_v3 weights to /root/.cache/colabfold:  60%|█████▉    | 2.28G/3.82G [01:47<01:10, 23.5MB/s]\rDownloading alphafold2_multimer_v3 weights to /root/.cache/colabfold:  60%|█████▉    | 2.28G/3.82G [01:47<01:13, 22.4MB/s]\rDownloading alphafold2_multimer_v3 weights to /root/.cache/colabfold:  60%|█████▉    | 2.28G/3.82G [01:47<01:22, 19.9MB/s]\rDownloading alphafold2_multimer_v3 weights to /root/.cache/colabfold:  60%|█████▉    | 2.29G/3.82G [01:47<01:32, 17.7MB/s]\rDownloading alphafold2_multimer_v3 weights to /root/.cache/colabfold:  60%|█████▉    | 2.29G/3.82G [01:47<01:24, 19.5MB/s]\rDownloading alphafold2_multimer_v3 weights to /root/.cache/colabfold:  60%|██████    | 2.29G/3.82G [01:48<01:19, 20.7MB/s]\rDownloading alphafold2_multimer_v3 weights to /root/.cache/colabfold:  60%|██████    | 2.30G/3.82G [01:48<01:15, 21.5MB/s]\rDownloading alphafold2_multimer_v3 weights to /root/.cache/colabfold:  60%|██████    | 2.30G/3.82G [01:48<01:13, 22.1MB/s]\rDownloading alphafold2_multimer_v3 weights to /root/.cache/colabfold:  60%|██████    | 2.30G/3.82G [01:48<01:12, 22.6MB/s]\rDownloading alphafold2_multimer_v3 weights to /root/.cache/colabfold:  60%|██████    | 2.31G/3.82G [01:48<01:11, 22.8MB/s]\rDownloading alphafold2_multimer_v3 weights to /root/.cache/colabfold:  61%|██████    | 2.31G/3.82G [01:48<01:10, 23.0MB/s]\rDownloading alphafold2_multimer_v3 weights to /root/.cache/colabfold:  61%|██████    | 2.31G/3.82G [01:49<01:09, 23.2MB/s]\rDownloading alphafold2_multimer_v3 weights to /root/.cache/colabfold:  61%|██████    | 2.32G/3.82G [01:49<01:12, 22.4MB/s]\rDownloading alphafold2_multimer_v3 weights to /root/.cache/colabfold:  61%|██████    | 2.32G/3.82G [01:49<01:13, 22.0MB/s]\rDownloading alphafold2_multimer_v3 weights to /root/.cache/colabfold:  61%|██████    | 2.32G/3.82G [01:49<01:11, 22.4MB/s]\rDownloading alphafold2_multimer_v3 weights to /root/.cache/colabfold:  61%|██████    | 2.33G/3.82G [01:49<01:10, 22.7MB/s]\rDownloading alphafold2_multimer_v3 weights to /root/.cache/colabfold:  61%|██████    | 2.33G/3.82G [01:49<01:09, 23.0MB/s]\rDownloading alphafold2_multimer_v3 weights to /root/.cache/colabfold:  61%|██████    | 2.34G/3.82G [01:50<01:08, 23.1MB/s]\rDownloading alphafold2_multimer_v3 weights to /root/.cache/colabfold:  61%|██████▏   | 2.34G/3.82G [01:50<01:08, 23.2MB/s]\rDownloading alphafold2_multimer_v3 weights to /root/.cache/colabfold:  61%|██████▏   | 2.34G/3.82G [01:50<01:07, 23.3MB/s]\rDownloading alphafold2_multimer_v3 weights to /root/.cache/colabfold:  61%|██████▏   | 2.35G/3.82G [01:50<01:07, 23.4MB/s]\rDownloading alphafold2_multimer_v3 weights to /root/.cache/colabfold:  62%|██████▏   | 2.35G/3.82G [01:50<01:07, 23.4MB/s]\rDownloading alphafold2_multimer_v3 weights to /root/.cache/colabfold:  62%|██████▏   | 2.35G/3.82G [01:50<01:07, 23.5MB/s]\rDownloading alphafold2_multimer_v3 weights to /root/.cache/colabfold:  62%|██████▏   | 2.36G/3.82G [01:51<01:06, 23.5MB/s]\rDownloading alphafold2_multimer_v3 weights to /root/.cache/colabfold:  62%|██████▏   | 2.36G/3.82G [01:51<01:06, 23.5MB/s]\rDownloading alphafold2_multimer_v3 weights to /root/.cache/colabfold:  62%|██████▏   | 2.36G/3.82G [01:51<01:06, 23.5MB/s]\rDownloading alphafold2_multimer_v3 weights to /root/.cache/colabfold:  62%|██████▏   | 2.37G/3.82G [01:51<01:06, 23.5MB/s]\rDownloading alphafold2_multimer_v3 weights to /root/.cache/colabfold:  62%|██████▏   | 2.37G/3.82G [01:51<01:06, 23.5MB/s]\rDownloading alphafold2_multimer_v3 weights to /root/.cache/colabfold:  62%|██████▏   | 2.37G/3.82G [01:51<01:05, 23.5MB/s]\rDownloading alphafold2_multimer_v3 weights to /root/.cache/colabfold:  62%|██████▏   | 2.38G/3.82G [01:51<01:05, 23.5MB/s]\rDownloading alphafold2_multimer_v3 weights to /root/.cache/colabfold:  62%|██████▏   | 2.38G/3.82G [01:52<01:05, 23.5MB/s]\rDownloading alphafold2_multimer_v3 weights to /root/.cache/colabfold:  62%|██████▏   | 2.38G/3.82G [01:52<01:05, 23.5MB/s]\rDownloading alphafold2_multimer_v3 weights to /root/.cache/colabfold:  63%|██████▎   | 2.39G/3.82G [01:52<01:05, 23.5MB/s]\rDownloading alphafold2_multimer_v3 weights to /root/.cache/colabfold:  63%|██████▎   | 2.39G/3.82G [01:52<01:05, 23.5MB/s]\rDownloading alphafold2_multimer_v3 weights to /root/.cache/colabfold:  63%|██████▎   | 2.40G/3.82G [01:52<01:04, 23.5MB/s]\rDownloading alphafold2_multimer_v3 weights to /root/.cache/colabfold:  63%|██████▎   | 2.40G/3.82G [01:52<01:04, 23.5MB/s]\rDownloading alphafold2_multimer_v3 weights to /root/.cache/colabfold:  63%|██████▎   | 2.40G/3.82G [01:53<01:04, 23.5MB/s]\rDownloading alphafold2_multimer_v3 weights to /root/.cache/colabfold:  63%|██████▎   | 2.41G/3.82G [01:53<01:04, 23.5MB/s]\rDownloading alphafold2_multimer_v3 weights to /root/.cache/colabfold:  63%|██████▎   | 2.41G/3.82G [01:53<01:04, 23.5MB/s]\rDownloading alphafold2_multimer_v3 weights to /root/.cache/colabfold:  63%|██████▎   | 2.41G/3.82G [01:53<01:04, 23.5MB/s]\rDownloading alphafold2_multimer_v3 weights to /root/.cache/colabfold:  63%|██████▎   | 2.42G/3.82G [01:53<01:03, 23.5MB/s]\rDownloading alphafold2_multimer_v3 weights to /root/.cache/colabfold:  63%|██████▎   | 2.42G/3.82G [01:53<01:03, 23.5MB/s]\rDownloading alphafold2_multimer_v3 weights to /root/.cache/colabfold:  63%|██████▎   | 2.42G/3.82G [01:54<01:06, 22.4MB/s]\rDownloading alphafold2_multimer_v3 weights to /root/.cache/colabfold:  64%|██████▎   | 2.43G/3.82G [01:54<01:14, 19.9MB/s]\rDownloading alphafold2_multimer_v3 weights to /root/.cache/colabfold:  64%|██████▎   | 2.43G/3.82G [01:54<01:23, 17.8MB/s]\rDownloading alphafold2_multimer_v3 weights to /root/.cache/colabfold:  64%|██████▎   | 2.43G/3.82G [01:54<01:16, 19.4MB/s]\rDownloading alphafold2_multimer_v3 weights to /root/.cache/colabfold:  64%|██████▍   | 2.44G/3.82G [01:54<01:11, 20.6MB/s]\rDownloading alphafold2_multimer_v3 weights to /root/.cache/colabfold:  64%|██████▍   | 2.44G/3.82G [01:54<01:08, 21.5MB/s]\rDownloading alphafold2_multimer_v3 weights to /root/.cache/colabfold:  64%|██████▍   | 2.44G/3.82G [01:55<01:06, 22.1MB/s]\rDownloading alphafold2_multimer_v3 weights to /root/.cache/colabfold:  64%|██████▍   | 2.45G/3.82G [01:55<01:05, 22.5MB/s]\rDownloading alphafold2_multimer_v3 weights to /root/.cache/colabfold:  64%|██████▍   | 2.45G/3.82G [01:55<01:04, 22.8MB/s]\rDownloading alphafold2_multimer_v3 weights to /root/.cache/colabfold:  64%|██████▍   | 2.45G/3.82G [01:55<01:03, 23.0MB/s]\rDownloading alphafold2_multimer_v3 weights to /root/.cache/colabfold:  64%|██████▍   | 2.46G/3.82G [01:55<01:03, 23.2MB/s]\rDownloading alphafold2_multimer_v3 weights to /root/.cache/colabfold:  64%|██████▍   | 2.46G/3.82G [01:55<01:02, 23.3MB/s]\rDownloading alphafold2_multimer_v3 weights to /root/.cache/colabfold:  65%|██████▍   | 2.46G/3.82G [01:56<01:02, 23.4MB/s]\rDownloading alphafold2_multimer_v3 weights to /root/.cache/colabfold:  65%|██████▍   | 2.47G/3.82G [01:56<01:01, 23.4MB/s]\rDownloading alphafold2_multimer_v3 weights to /root/.cache/colabfold:  65%|██████▍   | 2.47G/3.82G [01:56<01:01, 23.5MB/s]\rDownloading alphafold2_multimer_v3 weights to /root/.cache/colabfold:  65%|██████▍   | 2.47G/3.82G [01:56<01:01, 23.5MB/s]\rDownloading alphafold2_multimer_v3 weights to /root/.cache/colabfold:  65%|██████▍   | 2.48G/3.82G [01:56<01:01, 23.5MB/s]\rDownloading alphafold2_multimer_v3 weights to /root/.cache/colabfold:  65%|██████▍   | 2.48G/3.82G [01:56<01:00, 23.6MB/s]\rDownloading alphafold2_multimer_v3 weights to /root/.cache/colabfold:  65%|██████▌   | 2.49G/3.82G [01:57<01:00, 23.5MB/s]\rDownloading alphafold2_multimer_v3 weights to /root/.cache/colabfold:  65%|██████▌   | 2.49G/3.82G [01:57<01:00, 23.5MB/s]\rDownloading alphafold2_multimer_v3 weights to /root/.cache/colabfold:  65%|██████▌   | 2.49G/3.82G [01:57<01:00, 23.5MB/s]\rDownloading alphafold2_multimer_v3 weights to /root/.cache/colabfold:  65%|██████▌   | 2.50G/3.82G [01:57<01:00, 23.5MB/s]\rDownloading alphafold2_multimer_v3 weights to /root/.cache/colabfold:  65%|██████▌   | 2.50G/3.82G [01:57<01:00, 23.5MB/s]\rDownloading alphafold2_multimer_v3 weights to /root/.cache/colabfold:  66%|██████▌   | 2.50G/3.82G [01:57<01:00, 23.5MB/s]\rDownloading alphafold2_multimer_v3 weights to /root/.cache/colabfold:  66%|██████▌   | 2.51G/3.82G [01:58<00:59, 23.5MB/s]\rDownloading alphafold2_multimer_v3 weights to /root/.cache/colabfold:  66%|██████▌   | 2.51G/3.82G [01:58<00:59, 23.5MB/s]\rDownloading alphafold2_multimer_v3 weights to /root/.cache/colabfold:  66%|██████▌   | 2.51G/3.82G [01:58<00:59, 23.5MB/s]\rDownloading alphafold2_multimer_v3 weights to /root/.cache/colabfold:  66%|██████▌   | 2.52G/3.82G [01:58<00:59, 23.6MB/s]\rDownloading alphafold2_multimer_v3 weights to /root/.cache/colabfold:  66%|██████▌   | 2.52G/3.82G [01:58<00:59, 23.5MB/s]\rDownloading alphafold2_multimer_v3 weights to /root/.cache/colabfold:  66%|██████▌   | 2.52G/3.82G [01:58<00:58, 23.5MB/s]\rDownloading alphafold2_multimer_v3 weights to /root/.cache/colabfold:  66%|██████▌   | 2.53G/3.82G [01:58<00:58, 23.5MB/s]\rDownloading alphafold2_multimer_v3 weights to /root/.cache/colabfold:  66%|██████▋   | 2.53G/3.82G [01:59<00:58, 23.5MB/s]\rDownloading alphafold2_multimer_v3 weights to /root/.cache/colabfold:  66%|██████▋   | 2.54G/3.82G [01:59<01:01, 22.6MB/s]\rDownloading alphafold2_multimer_v3 weights to /root/.cache/colabfold:  66%|██████▋   | 2.54G/3.82G [01:59<01:02, 22.1MB/s]\rDownloading alphafold2_multimer_v3 weights to /root/.cache/colabfold:  67%|██████▋   | 2.54G/3.82G [01:59<01:00, 22.5MB/s]\rDownloading alphafold2_multimer_v3 weights to /root/.cache/colabfold:  67%|██████▋   | 2.55G/3.82G [01:59<00:59, 22.8MB/s]\rDownloading alphafold2_multimer_v3 weights to /root/.cache/colabfold:  67%|██████▋   | 2.55G/3.82G [01:59<00:59, 23.0MB/s]\rDownloading alphafold2_multimer_v3 weights to /root/.cache/colabfold:  67%|██████▋   | 2.55G/3.82G [02:00<00:58, 23.2MB/s]\rDownloading alphafold2_multimer_v3 weights to /root/.cache/colabfold:  67%|██████▋   | 2.56G/3.82G [02:00<00:58, 23.3MB/s]\rDownloading alphafold2_multimer_v3 weights to /root/.cache/colabfold:  67%|██████▋   | 2.56G/3.82G [02:00<00:57, 23.4MB/s]\rDownloading alphafold2_multimer_v3 weights to /root/.cache/colabfold:  67%|██████▋   | 2.56G/3.82G [02:00<00:57, 23.4MB/s]\rDownloading alphafold2_multimer_v3 weights to /root/.cache/colabfold:  67%|██████▋   | 2.57G/3.82G [02:00<00:57, 23.4MB/s]\rDownloading alphafold2_multimer_v3 weights to /root/.cache/colabfold:  67%|██████▋   | 2.57G/3.82G [02:00<00:57, 23.4MB/s]\rDownloading alphafold2_multimer_v3 weights to /root/.cache/colabfold:  67%|██████▋   | 2.57G/3.82G [02:01<00:56, 23.5MB/s]\rDownloading alphafold2_multimer_v3 weights to /root/.cache/colabfold:  68%|██████▊   | 2.58G/3.82G [02:01<00:56, 23.5MB/s]\rDownloading alphafold2_multimer_v3 weights to /root/.cache/colabfold:  68%|██████▊   | 2.58G/3.82G [02:01<00:56, 23.5MB/s]\rDownloading alphafold2_multimer_v3 weights to /root/.cache/colabfold:  68%|██████▊   | 2.58G/3.82G [02:01<00:56, 23.5MB/s]\rDownloading alphafold2_multimer_v3 weights to /root/.cache/colabfold:  68%|██████▊   | 2.59G/3.82G [02:01<00:56, 23.5MB/s]\rDownloading alphafold2_multimer_v3 weights to /root/.cache/colabfold:  68%|██████▊   | 2.59G/3.82G [02:01<00:56, 23.5MB/s]\rDownloading alphafold2_multimer_v3 weights to /root/.cache/colabfold:  68%|██████▊   | 2.60G/3.82G [02:02<00:55, 23.5MB/s]\rDownloading alphafold2_multimer_v3 weights to /root/.cache/colabfold:  68%|██████▊   | 2.60G/3.82G [02:02<00:55, 23.5MB/s]\rDownloading alphafold2_multimer_v3 weights to /root/.cache/colabfold:  68%|██████▊   | 2.60G/3.82G [02:02<00:55, 23.5MB/s]\rDownloading alphafold2_multimer_v3 weights to /root/.cache/colabfold:  68%|██████▊   | 2.61G/3.82G [02:02<00:55, 23.5MB/s]\rDownloading alphafold2_multimer_v3 weights to /root/.cache/colabfold:  68%|██████▊   | 2.61G/3.82G [02:02<00:55, 23.5MB/s]\rDownloading alphafold2_multimer_v3 weights to /root/.cache/colabfold:  68%|██████▊   | 2.61G/3.82G [02:02<00:55, 23.5MB/s]\rDownloading alphafold2_multimer_v3 weights to /root/.cache/colabfold:  69%|██████▊   | 2.62G/3.82G [02:03<00:54, 23.5MB/s]\rDownloading alphafold2_multimer_v3 weights to /root/.cache/colabfold:  69%|██████▊   | 2.62G/3.82G [02:03<00:54, 23.5MB/s]\rDownloading alphafold2_multimer_v3 weights to /root/.cache/colabfold:  69%|██████▊   | 2.62G/3.82G [02:03<00:54, 23.5MB/s]\rDownloading alphafold2_multimer_v3 weights to /root/.cache/colabfold:  69%|██████▉   | 2.63G/3.82G [02:03<00:54, 23.5MB/s]\rDownloading alphafold2_multimer_v3 weights to /root/.cache/colabfold:  69%|██████▉   | 2.63G/3.82G [02:03<00:54, 23.5MB/s]\rDownloading alphafold2_multimer_v3 weights to /root/.cache/colabfold:  69%|██████▉   | 2.63G/3.82G [02:03<00:54, 23.5MB/s]\rDownloading alphafold2_multimer_v3 weights to /root/.cache/colabfold:  69%|██████▉   | 2.64G/3.82G [02:04<00:54, 23.5MB/s]\rDownloading alphafold2_multimer_v3 weights to /root/.cache/colabfold:  69%|██████▉   | 2.64G/3.82G [02:04<00:53, 23.5MB/s]\rDownloading alphafold2_multimer_v3 weights to /root/.cache/colabfold:  69%|██████▉   | 2.64G/3.82G [02:04<00:53, 23.5MB/s]\rDownloading alphafold2_multimer_v3 weights to /root/.cache/colabfold:  69%|██████▉   | 2.65G/3.82G [02:04<00:53, 23.5MB/s]\rDownloading alphafold2_multimer_v3 weights to /root/.cache/colabfold:  69%|██████▉   | 2.65G/3.82G [02:04<00:53, 23.5MB/s]\rDownloading alphafold2_multimer_v3 weights to /root/.cache/colabfold:  70%|██████▉   | 2.66G/3.82G [02:04<00:53, 23.5MB/s]\rDownloading alphafold2_multimer_v3 weights to /root/.cache/colabfold:  70%|██████▉   | 2.66G/3.82G [02:05<00:53, 23.5MB/s]\rDownloading alphafold2_multimer_v3 weights to /root/.cache/colabfold:  70%|██████▉   | 2.66G/3.82G [02:05<00:52, 23.5MB/s]\rDownloading alphafold2_multimer_v3 weights to /root/.cache/colabfold:  70%|██████▉   | 2.67G/3.82G [02:05<00:52, 23.5MB/s]\rDownloading alphafold2_multimer_v3 weights to /root/.cache/colabfold:  70%|██████▉   | 2.67G/3.82G [02:05<00:52, 23.5MB/s]\rDownloading alphafold2_multimer_v3 weights to /root/.cache/colabfold:  70%|███████   | 2.67G/3.82G [02:05<00:52, 23.5MB/s]\rDownloading alphafold2_multimer_v3 weights to /root/.cache/colabfold:  70%|███████   | 2.68G/3.82G [02:05<00:52, 23.5MB/s]\rDownloading alphafold2_multimer_v3 weights to /root/.cache/colabfold:  70%|███████   | 2.68G/3.82G [02:06<00:59, 20.7MB/s]\rDownloading alphafold2_multimer_v3 weights to /root/.cache/colabfold:  70%|███████   | 2.68G/3.82G [02:06<01:06, 18.4MB/s]\rDownloading alphafold2_multimer_v3 weights to /root/.cache/colabfold:  70%|███████   | 2.68G/3.82G [02:06<01:01, 19.7MB/s]\rDownloading alphafold2_multimer_v3 weights to /root/.cache/colabfold:  70%|███████   | 2.69G/3.82G [02:06<00:58, 20.8MB/s]\rDownloading alphafold2_multimer_v3 weights to /root/.cache/colabfold:  70%|███████   | 2.69G/3.82G [02:06<00:55, 21.6MB/s]\rDownloading alphafold2_multimer_v3 weights to /root/.cache/colabfold:  71%|███████   | 2.70G/3.82G [02:06<00:54, 22.2MB/s]\rDownloading alphafold2_multimer_v3 weights to /root/.cache/colabfold:  71%|███████   | 2.70G/3.82G [02:06<00:55, 21.8MB/s]\rDownloading alphafold2_multimer_v3 weights to /root/.cache/colabfold:  71%|███████   | 2.70G/3.82G [02:07<00:53, 22.3MB/s]\rDownloading alphafold2_multimer_v3 weights to /root/.cache/colabfold:  71%|███████   | 2.71G/3.82G [02:07<00:52, 22.7MB/s]\rDownloading alphafold2_multimer_v3 weights to /root/.cache/colabfold:  71%|███████   | 2.71G/3.82G [02:07<00:51, 22.9MB/s]\rDownloading alphafold2_multimer_v3 weights to /root/.cache/colabfold:  71%|███████   | 2.71G/3.82G [02:07<00:51, 23.1MB/s]\rDownloading alphafold2_multimer_v3 weights to /root/.cache/colabfold:  71%|███████   | 2.72G/3.82G [02:07<00:50, 23.2MB/s]\rDownloading alphafold2_multimer_v3 weights to /root/.cache/colabfold:  71%|███████   | 2.72G/3.82G [02:07<00:50, 23.3MB/s]\rDownloading alphafold2_multimer_v3 weights to /root/.cache/colabfold:  71%|███████▏  | 2.72G/3.82G [02:08<00:50, 23.4MB/s]\rDownloading alphafold2_multimer_v3 weights to /root/.cache/colabfold:  71%|███████▏  | 2.73G/3.82G [02:08<00:50, 23.4MB/s]\rDownloading alphafold2_multimer_v3 weights to /root/.cache/colabfold:  72%|███████▏  | 2.73G/3.82G [02:08<00:49, 23.4MB/s]\rDownloading alphafold2_multimer_v3 weights to /root/.cache/colabfold:  72%|███████▏  | 2.73G/3.82G [02:08<00:49, 23.5MB/s]\rDownloading alphafold2_multimer_v3 weights to /root/.cache/colabfold:  72%|███████▏  | 2.74G/3.82G [02:08<00:49, 23.5MB/s]\rDownloading alphafold2_multimer_v3 weights to /root/.cache/colabfold:  72%|███████▏  | 2.74G/3.82G [02:08<00:49, 23.5MB/s]\rDownloading alphafold2_multimer_v3 weights to /root/.cache/colabfold:  72%|███████▏  | 2.74G/3.82G [02:09<00:49, 23.5MB/s]\rDownloading alphafold2_multimer_v3 weights to /root/.cache/colabfold:  72%|███████▏  | 2.75G/3.82G [02:09<00:48, 23.5MB/s]\rDownloading alphafold2_multimer_v3 weights to /root/.cache/colabfold:  72%|███████▏  | 2.75G/3.82G [02:09<00:48, 23.5MB/s]\rDownloading alphafold2_multimer_v3 weights to /root/.cache/colabfold:  72%|███████▏  | 2.76G/3.82G [02:09<00:48, 23.5MB/s]\rDownloading alphafold2_multimer_v3 weights to /root/.cache/colabfold:  72%|███████▏  | 2.76G/3.82G [02:09<00:48, 23.5MB/s]\rDownloading alphafold2_multimer_v3 weights to /root/.cache/colabfold:  72%|███████▏  | 2.76G/3.82G [02:09<00:48, 23.5MB/s]\rDownloading alphafold2_multimer_v3 weights to /root/.cache/colabfold:  72%|███████▏  | 2.77G/3.82G [02:10<00:48, 23.5MB/s]\rDownloading alphafold2_multimer_v3 weights to /root/.cache/colabfold:  73%|███████▎  | 2.77G/3.82G [02:10<00:47, 23.5MB/s]\rDownloading alphafold2_multimer_v3 weights to /root/.cache/colabfold:  73%|███████▎  | 2.77G/3.82G [02:10<00:47, 23.5MB/s]\rDownloading alphafold2_multimer_v3 weights to /root/.cache/colabfold:  73%|███████▎  | 2.78G/3.82G [02:10<00:47, 23.5MB/s]\rDownloading alphafold2_multimer_v3 weights to /root/.cache/colabfold:  73%|███████▎  | 2.78G/3.82G [02:10<00:47, 23.5MB/s]\rDownloading alphafold2_multimer_v3 weights to /root/.cache/colabfold:  73%|███████▎  | 2.78G/3.82G [02:10<00:47, 23.5MB/s]\rDownloading alphafold2_multimer_v3 weights to /root/.cache/colabfold:  73%|███████▎  | 2.79G/3.82G [02:11<00:47, 23.5MB/s]\rDownloading alphafold2_multimer_v3 weights to /root/.cache/colabfold:  73%|███████▎  | 2.79G/3.82G [02:11<00:46, 23.5MB/s]\rDownloading alphafold2_multimer_v3 weights to /root/.cache/colabfold:  73%|███████▎  | 2.79G/3.82G [02:11<00:46, 23.5MB/s]\rDownloading alphafold2_multimer_v3 weights to /root/.cache/colabfold:  73%|███████▎  | 2.80G/3.82G [02:11<00:46, 23.5MB/s]\rDownloading alphafold2_multimer_v3 weights to /root/.cache/colabfold:  73%|███████▎  | 2.80G/3.82G [02:11<00:46, 23.5MB/s]\rDownloading alphafold2_multimer_v3 weights to /root/.cache/colabfold:  73%|███████▎  | 2.80G/3.82G [02:11<00:46, 23.5MB/s]\rDownloading alphafold2_multimer_v3 weights to /root/.cache/colabfold:  74%|███████▎  | 2.81G/3.82G [02:12<00:46, 23.5MB/s]\rDownloading alphafold2_multimer_v3 weights to /root/.cache/colabfold:  74%|███████▎  | 2.81G/3.82G [02:12<00:45, 23.5MB/s]\rDownloading alphafold2_multimer_v3 weights to /root/.cache/colabfold:  74%|███████▎  | 2.82G/3.82G [02:12<00:45, 23.5MB/s]\rDownloading alphafold2_multimer_v3 weights to /root/.cache/colabfold:  74%|███████▍  | 2.82G/3.82G [02:12<00:45, 23.5MB/s]\rDownloading alphafold2_multimer_v3 weights to /root/.cache/colabfold:  74%|███████▍  | 2.82G/3.82G [02:12<00:45, 23.5MB/s]\rDownloading alphafold2_multimer_v3 weights to /root/.cache/colabfold:  74%|███████▍  | 2.83G/3.82G [02:12<00:45, 23.5MB/s]\rDownloading alphafold2_multimer_v3 weights to /root/.cache/colabfold:  74%|███████▍  | 2.83G/3.82G [02:12<00:45, 23.5MB/s]\rDownloading alphafold2_multimer_v3 weights to /root/.cache/colabfold:  74%|███████▍  | 2.83G/3.82G [02:13<00:44, 23.5MB/s]\rDownloading alphafold2_multimer_v3 weights to /root/.cache/colabfold:  74%|███████▍  | 2.84G/3.82G [02:13<00:44, 23.5MB/s]\rDownloading alphafold2_multimer_v3 weights to /root/.cache/colabfold:  74%|███████▍  | 2.84G/3.82G [02:13<00:44, 23.5MB/s]\rDownloading alphafold2_multimer_v3 weights to /root/.cache/colabfold:  74%|███████▍  | 2.84G/3.82G [02:13<00:44, 23.5MB/s]\rDownloading alphafold2_multimer_v3 weights to /root/.cache/colabfold:  75%|███████▍  | 2.85G/3.82G [02:13<00:41, 25.3MB/s]\rDownloading alphafold2_multimer_v3 weights to /root/.cache/colabfold:  75%|███████▍  | 2.85G/3.82G [02:13<00:45, 22.7MB/s]\rDownloading alphafold2_multimer_v3 weights to /root/.cache/colabfold:  75%|███████▍  | 2.85G/3.82G [02:14<00:49, 21.0MB/s]\rDownloading alphafold2_multimer_v3 weights to /root/.cache/colabfold:  75%|███████▍  | 2.85G/3.82G [02:14<00:46, 22.5MB/s]\rDownloading alphafold2_multimer_v3 weights to /root/.cache/colabfold:  75%|███████▍  | 2.86G/3.82G [02:14<00:44, 23.4MB/s]\rDownloading alphafold2_multimer_v3 weights to /root/.cache/colabfold:  75%|███████▍  | 2.86G/3.82G [02:14<00:43, 23.9MB/s]\rDownloading alphafold2_multimer_v3 weights to /root/.cache/colabfold:  75%|███████▍  | 2.86G/3.82G [02:14<00:46, 22.1MB/s]\rDownloading alphafold2_multimer_v3 weights to /root/.cache/colabfold:  75%|███████▌  | 2.87G/3.82G [02:14<00:44, 23.1MB/s]\rDownloading alphafold2_multimer_v3 weights to /root/.cache/colabfold:  75%|███████▌  | 2.87G/3.82G [02:14<00:42, 23.9MB/s]\rDownloading alphafold2_multimer_v3 weights to /root/.cache/colabfold:  75%|███████▌  | 2.87G/3.82G [02:14<00:41, 24.3MB/s]\rDownloading alphafold2_multimer_v3 weights to /root/.cache/colabfold:  75%|███████▌  | 2.87G/3.82G [02:15<00:45, 22.4MB/s]\rDownloading alphafold2_multimer_v3 weights to /root/.cache/colabfold:  75%|███████▌  | 2.88G/3.82G [02:15<00:43, 23.2MB/s]\rDownloading alphafold2_multimer_v3 weights to /root/.cache/colabfold:  75%|███████▌  | 2.88G/3.82G [02:15<00:42, 24.0MB/s]\rDownloading alphafold2_multimer_v3 weights to /root/.cache/colabfold:  75%|███████▌  | 2.88G/3.82G [02:15<00:41, 24.3MB/s]\rDownloading alphafold2_multimer_v3 weights to /root/.cache/colabfold:  76%|███████▌  | 2.88G/3.82G [02:15<00:44, 22.4MB/s]\rDownloading alphafold2_multimer_v3 weights to /root/.cache/colabfold:  76%|███████▌  | 2.89G/3.82G [02:15<00:43, 23.2MB/s]\rDownloading alphafold2_multimer_v3 weights to /root/.cache/colabfold:  76%|███████▌  | 2.89G/3.82G [02:15<00:41, 24.0MB/s]\rDownloading alphafold2_multimer_v3 weights to /root/.cache/colabfold:  76%|███████▌  | 2.89G/3.82G [02:15<00:48, 20.6MB/s]\rDownloading alphafold2_multimer_v3 weights to /root/.cache/colabfold:  76%|███████▌  | 2.89G/3.82G [02:16<00:54, 18.0MB/s]\rDownloading alphafold2_multimer_v3 weights to /root/.cache/colabfold:  76%|███████▌  | 2.90G/3.82G [02:16<00:50, 19.6MB/s]\rDownloading alphafold2_multimer_v3 weights to /root/.cache/colabfold:  76%|███████▌  | 2.90G/3.82G [02:16<00:48, 20.2MB/s]\rDownloading alphafold2_multimer_v3 weights to /root/.cache/colabfold:  76%|███████▌  | 2.90G/3.82G [02:16<00:40, 24.4MB/s]\rDownloading alphafold2_multimer_v3 weights to /root/.cache/colabfold:  76%|███████▌  | 2.91G/3.82G [02:16<00:44, 22.3MB/s]\rDownloading alphafold2_multimer_v3 weights to /root/.cache/colabfold:  76%|███████▌  | 2.91G/3.82G [02:16<00:42, 22.8MB/s]\rDownloading alphafold2_multimer_v3 weights to /root/.cache/colabfold:  76%|███████▌  | 2.91G/3.82G [02:16<00:45, 21.4MB/s]\rDownloading alphafold2_multimer_v3 weights to /root/.cache/colabfold:  76%|███████▋  | 2.91G/3.82G [02:16<00:43, 22.1MB/s]\rDownloading alphafold2_multimer_v3 weights to /root/.cache/colabfold:  76%|███████▋  | 2.92G/3.82G [02:17<00:42, 22.6MB/s]\rDownloading alphafold2_multimer_v3 weights to /root/.cache/colabfold:  76%|███████▋  | 2.92G/3.82G [02:17<00:42, 22.9MB/s]\rDownloading alphafold2_multimer_v3 weights to /root/.cache/colabfold:  77%|███████▋  | 2.92G/3.82G [02:17<00:36, 26.3MB/s]\rDownloading alphafold2_multimer_v3 weights to /root/.cache/colabfold:  77%|███████▋  | 2.93G/3.82G [02:17<00:40, 23.9MB/s]\rDownloading alphafold2_multimer_v3 weights to /root/.cache/colabfold:  77%|███████▋  | 2.93G/3.82G [02:17<00:39, 24.1MB/s]\rDownloading alphafold2_multimer_v3 weights to /root/.cache/colabfold:  77%|███████▋  | 2.93G/3.82G [02:17<00:43, 22.0MB/s]\rDownloading alphafold2_multimer_v3 weights to /root/.cache/colabfold:  77%|███████▋  | 2.93G/3.82G [02:17<00:42, 22.4MB/s]\rDownloading alphafold2_multimer_v3 weights to /root/.cache/colabfold:  77%|███████▋  | 2.94G/3.82G [02:18<00:41, 22.8MB/s]\rDownloading alphafold2_multimer_v3 weights to /root/.cache/colabfold:  77%|███████▋  | 2.94G/3.82G [02:18<00:40, 23.1MB/s]\rDownloading alphafold2_multimer_v3 weights to /root/.cache/colabfold:  77%|███████▋  | 2.95G/3.82G [02:18<00:40, 23.2MB/s]\rDownloading alphafold2_multimer_v3 weights to /root/.cache/colabfold:  77%|███████▋  | 2.95G/3.82G [02:18<00:40, 23.3MB/s]\rDownloading alphafold2_multimer_v3 weights to /root/.cache/colabfold:  77%|███████▋  | 2.95G/3.82G [02:18<00:39, 23.4MB/s]\rDownloading alphafold2_multimer_v3 weights to /root/.cache/colabfold:  77%|███████▋  | 2.96G/3.82G [02:18<00:39, 23.4MB/s]\rDownloading alphafold2_multimer_v3 weights to /root/.cache/colabfold:  78%|███████▊  | 2.96G/3.82G [02:19<00:39, 23.5MB/s]\rDownloading alphafold2_multimer_v3 weights to /root/.cache/colabfold:  78%|███████▊  | 2.96G/3.82G [02:19<00:39, 23.5MB/s]\rDownloading alphafold2_multimer_v3 weights to /root/.cache/colabfold:  78%|███████▊  | 2.97G/3.82G [02:19<00:38, 23.5MB/s]\rDownloading alphafold2_multimer_v3 weights to /root/.cache/colabfold:  78%|███████▊  | 2.97G/3.82G [02:19<00:38, 23.5MB/s]\rDownloading alphafold2_multimer_v3 weights to /root/.cache/colabfold:  78%|███████▊  | 2.97G/3.82G [02:19<00:38, 23.5MB/s]\rDownloading alphafold2_multimer_v3 weights to /root/.cache/colabfold:  78%|███████▊  | 2.98G/3.82G [02:19<00:38, 23.5MB/s]\rDownloading alphafold2_multimer_v3 weights to /root/.cache/colabfold:  78%|███████▊  | 2.98G/3.82G [02:20<00:38, 23.5MB/s]\rDownloading alphafold2_multimer_v3 weights to /root/.cache/colabfold:  78%|███████▊  | 2.98G/3.82G [02:20<00:38, 23.5MB/s]\rDownloading alphafold2_multimer_v3 weights to /root/.cache/colabfold:  78%|███████▊  | 2.99G/3.82G [02:20<00:37, 23.5MB/s]\rDownloading alphafold2_multimer_v3 weights to /root/.cache/colabfold:  78%|███████▊  | 2.99G/3.82G [02:20<00:37, 23.5MB/s]\rDownloading alphafold2_multimer_v3 weights to /root/.cache/colabfold:  78%|███████▊  | 3.00G/3.82G [02:20<00:37, 23.5MB/s]\rDownloading alphafold2_multimer_v3 weights to /root/.cache/colabfold:  79%|███████▊  | 3.00G/3.82G [02:20<00:37, 23.6MB/s]\rDownloading alphafold2_multimer_v3 weights to /root/.cache/colabfold:  79%|███████▊  | 3.00G/3.82G [02:21<00:37, 23.5MB/s]\rDownloading alphafold2_multimer_v3 weights to /root/.cache/colabfold:  79%|███████▊  | 3.00G/3.82G [02:21<00:42, 20.6MB/s]\rDownloading alphafold2_multimer_v3 weights to /root/.cache/colabfold:  79%|███████▉  | 3.01G/3.82G [02:21<00:47, 18.4MB/s]\rDownloading alphafold2_multimer_v3 weights to /root/.cache/colabfold:  79%|███████▉  | 3.01G/3.82G [02:21<00:44, 19.7MB/s]\rDownloading alphafold2_multimer_v3 weights to /root/.cache/colabfold:  79%|███████▉  | 3.01G/3.82G [02:21<00:36, 23.5MB/s]\rDownloading alphafold2_multimer_v3 weights to /root/.cache/colabfold:  79%|███████▉  | 3.02G/3.82G [02:21<00:35, 24.4MB/s]\rDownloading alphafold2_multimer_v3 weights to /root/.cache/colabfold:  79%|███████▉  | 3.02G/3.82G [02:21<00:38, 22.2MB/s]\rDownloading alphafold2_multimer_v3 weights to /root/.cache/colabfold:  79%|███████▉  | 3.02G/3.82G [02:22<00:41, 20.5MB/s]\rDownloading alphafold2_multimer_v3 weights to /root/.cache/colabfold:  79%|███████▉  | 3.02G/3.82G [02:22<00:45, 18.7MB/s]\rDownloading alphafold2_multimer_v3 weights to /root/.cache/colabfold:  79%|███████▉  | 3.03G/3.82G [02:22<00:43, 19.4MB/s]\rDownloading alphafold2_multimer_v3 weights to /root/.cache/colabfold:  79%|███████▉  | 3.03G/3.82G [02:22<00:40, 20.7MB/s]\rDownloading alphafold2_multimer_v3 weights to /root/.cache/colabfold:  79%|███████▉  | 3.03G/3.82G [02:22<00:39, 21.6MB/s]\rDownloading alphafold2_multimer_v3 weights to /root/.cache/colabfold:  80%|███████▉  | 3.04G/3.82G [02:22<00:37, 22.2MB/s]\rDownloading alphafold2_multimer_v3 weights to /root/.cache/colabfold:  80%|███████▉  | 3.04G/3.82G [02:23<00:36, 22.6MB/s]\rDownloading alphafold2_multimer_v3 weights to /root/.cache/colabfold:  80%|███████▉  | 3.04G/3.82G [02:23<00:36, 22.9MB/s]\rDownloading alphafold2_multimer_v3 weights to /root/.cache/colabfold:  80%|███████▉  | 3.05G/3.82G [02:23<00:35, 23.1MB/s]\rDownloading alphafold2_multimer_v3 weights to /root/.cache/colabfold:  80%|███████▉  | 3.05G/3.82G [02:23<00:35, 23.2MB/s]\rDownloading alphafold2_multimer_v3 weights to /root/.cache/colabfold:  80%|████████  | 3.05G/3.82G [02:23<00:35, 23.3MB/s]\rDownloading alphafold2_multimer_v3 weights to /root/.cache/colabfold:  80%|████████  | 3.06G/3.82G [02:23<00:34, 23.4MB/s]\rDownloading alphafold2_multimer_v3 weights to /root/.cache/colabfold:  80%|████████  | 3.06G/3.82G [02:23<00:34, 23.4MB/s]\rDownloading alphafold2_multimer_v3 weights to /root/.cache/colabfold:  80%|████████  | 3.07G/3.82G [02:24<00:34, 23.5MB/s]\rDownloading alphafold2_multimer_v3 weights to /root/.cache/colabfold:  80%|████████  | 3.07G/3.82G [02:24<00:34, 23.5MB/s]\rDownloading alphafold2_multimer_v3 weights to /root/.cache/colabfold:  80%|████████  | 3.07G/3.82G [02:24<00:34, 23.5MB/s]\rDownloading alphafold2_multimer_v3 weights to /root/.cache/colabfold:  81%|████████  | 3.08G/3.82G [02:24<00:33, 23.5MB/s]\rDownloading alphafold2_multimer_v3 weights to /root/.cache/colabfold:  81%|████████  | 3.08G/3.82G [02:24<00:33, 23.6MB/s]\rDownloading alphafold2_multimer_v3 weights to /root/.cache/colabfold:  81%|████████  | 3.08G/3.82G [02:24<00:33, 23.6MB/s]\rDownloading alphafold2_multimer_v3 weights to /root/.cache/colabfold:  81%|████████  | 3.09G/3.82G [02:25<00:33, 23.5MB/s]\rDownloading alphafold2_multimer_v3 weights to /root/.cache/colabfold:  81%|████████  | 3.09G/3.82G [02:25<00:33, 23.5MB/s]\rDownloading alphafold2_multimer_v3 weights to /root/.cache/colabfold:  81%|████████  | 3.09G/3.82G [02:25<00:33, 23.5MB/s]\rDownloading alphafold2_multimer_v3 weights to /root/.cache/colabfold:  81%|████████  | 3.10G/3.82G [02:25<00:32, 23.5MB/s]\rDownloading alphafold2_multimer_v3 weights to /root/.cache/colabfold:  81%|████████  | 3.10G/3.82G [02:25<00:32, 23.6MB/s]\rDownloading alphafold2_multimer_v3 weights to /root/.cache/colabfold:  81%|████████▏ | 3.10G/3.82G [02:25<00:32, 23.5MB/s]\rDownloading alphafold2_multimer_v3 weights to /root/.cache/colabfold:  81%|████████▏ | 3.11G/3.82G [02:26<00:32, 23.5MB/s]\rDownloading alphafold2_multimer_v3 weights to /root/.cache/colabfold:  82%|████████▏ | 3.11G/3.82G [02:26<00:32, 23.5MB/s]\rDownloading alphafold2_multimer_v3 weights to /root/.cache/colabfold:  82%|████████▏ | 3.12G/3.82G [02:26<00:32, 23.5MB/s]\rDownloading alphafold2_multimer_v3 weights to /root/.cache/colabfold:  82%|████████▏ | 3.12G/3.82G [02:26<00:31, 23.5MB/s]\rDownloading alphafold2_multimer_v3 weights to /root/.cache/colabfold:  82%|████████▏ | 3.12G/3.82G [02:26<00:31, 23.5MB/s]\rDownloading alphafold2_multimer_v3 weights to /root/.cache/colabfold:  82%|████████▏ | 3.13G/3.82G [02:26<00:31, 23.5MB/s]\rDownloading alphafold2_multimer_v3 weights to /root/.cache/colabfold:  82%|████████▏ | 3.13G/3.82G [02:27<00:31, 23.5MB/s]\rDownloading alphafold2_multimer_v3 weights to /root/.cache/colabfold:  82%|████████▏ | 3.13G/3.82G [02:27<00:31, 23.5MB/s]\rDownloading alphafold2_multimer_v3 weights to /root/.cache/colabfold:  82%|████████▏ | 3.14G/3.82G [02:27<00:32, 22.5MB/s]\rDownloading alphafold2_multimer_v3 weights to /root/.cache/colabfold:  82%|████████▏ | 3.14G/3.82G [02:27<00:32, 22.1MB/s]\rDownloading alphafold2_multimer_v3 weights to /root/.cache/colabfold:  82%|████████▏ | 3.14G/3.82G [02:27<00:32, 22.5MB/s]\rDownloading alphafold2_multimer_v3 weights to /root/.cache/colabfold:  82%|████████▏ | 3.15G/3.82G [02:27<00:31, 22.8MB/s]\rDownloading alphafold2_multimer_v3 weights to /root/.cache/colabfold:  83%|████████▎ | 3.15G/3.82G [02:28<00:31, 23.0MB/s]\rDownloading alphafold2_multimer_v3 weights to /root/.cache/colabfold:  83%|████████▎ | 3.15G/3.82G [02:28<00:30, 23.1MB/s]\rDownloading alphafold2_multimer_v3 weights to /root/.cache/colabfold:  83%|████████▎ | 3.16G/3.82G [02:28<00:30, 23.3MB/s]\rDownloading alphafold2_multimer_v3 weights to /root/.cache/colabfold:  83%|████████▎ | 3.16G/3.82G [02:28<00:30, 23.3MB/s]\rDownloading alphafold2_multimer_v3 weights to /root/.cache/colabfold:  83%|████████▎ | 3.17G/3.82G [02:28<00:29, 23.4MB/s]\rDownloading alphafold2_multimer_v3 weights to /root/.cache/colabfold:  83%|████████▎ | 3.17G/3.82G [02:28<00:29, 23.4MB/s]\rDownloading alphafold2_multimer_v3 weights to /root/.cache/colabfold:  83%|████████▎ | 3.17G/3.82G [02:29<00:29, 23.5MB/s]\rDownloading alphafold2_multimer_v3 weights to /root/.cache/colabfold:  83%|████████▎ | 3.18G/3.82G [02:29<00:29, 23.5MB/s]\rDownloading alphafold2_multimer_v3 weights to /root/.cache/colabfold:  83%|████████▎ | 3.18G/3.82G [02:29<00:29, 23.5MB/s]\rDownloading alphafold2_multimer_v3 weights to /root/.cache/colabfold:  83%|████████▎ | 3.18G/3.82G [02:29<00:28, 23.5MB/s]\rDownloading alphafold2_multimer_v3 weights to /root/.cache/colabfold:  83%|████████▎ | 3.19G/3.82G [02:29<00:28, 23.5MB/s]\rDownloading alphafold2_multimer_v3 weights to /root/.cache/colabfold:  84%|████████▎ | 3.19G/3.82G [02:29<00:28, 23.5MB/s]\rDownloading alphafold2_multimer_v3 weights to /root/.cache/colabfold:  84%|████████▎ | 3.19G/3.82G [02:30<00:28, 23.5MB/s]\rDownloading alphafold2_multimer_v3 weights to /root/.cache/colabfold:  84%|████████▎ | 3.20G/3.82G [02:30<00:28, 23.5MB/s]\rDownloading alphafold2_multimer_v3 weights to /root/.cache/colabfold:  84%|████████▍ | 3.20G/3.82G [02:30<00:28, 23.5MB/s]\rDownloading alphafold2_multimer_v3 weights to /root/.cache/colabfold:  84%|████████▍ | 3.20G/3.82G [02:30<00:28, 23.5MB/s]\rDownloading alphafold2_multimer_v3 weights to /root/.cache/colabfold:  84%|████████▍ | 3.21G/3.82G [02:30<00:27, 23.5MB/s]\rDownloading alphafold2_multimer_v3 weights to /root/.cache/colabfold:  84%|████████▍ | 3.21G/3.82G [02:30<00:27, 23.5MB/s]\rDownloading alphafold2_multimer_v3 weights to /root/.cache/colabfold:  84%|████████▍ | 3.21G/3.82G [02:30<00:27, 23.6MB/s]\rDownloading alphafold2_multimer_v3 weights to /root/.cache/colabfold:  84%|████████▍ | 3.22G/3.82G [02:31<00:27, 23.6MB/s]\rDownloading alphafold2_multimer_v3 weights to /root/.cache/colabfold:  84%|████████▍ | 3.22G/3.82G [02:31<00:27, 23.5MB/s]\rDownloading alphafold2_multimer_v3 weights to /root/.cache/colabfold:  84%|████████▍ | 3.23G/3.82G [02:31<00:27, 23.5MB/s]\rDownloading alphafold2_multimer_v3 weights to /root/.cache/colabfold:  85%|████████▍ | 3.23G/3.82G [02:31<00:26, 23.5MB/s]\rDownloading alphafold2_multimer_v3 weights to /root/.cache/colabfold:  85%|████████▍ | 3.23G/3.82G [02:31<00:26, 23.5MB/s]\rDownloading alphafold2_multimer_v3 weights to /root/.cache/colabfold:  85%|████████▍ | 3.24G/3.82G [02:31<00:26, 23.5MB/s]\rDownloading alphafold2_multimer_v3 weights to /root/.cache/colabfold:  85%|████████▍ | 3.24G/3.82G [02:32<00:26, 23.5MB/s]\rDownloading alphafold2_multimer_v3 weights to /root/.cache/colabfold:  85%|████████▍ | 3.24G/3.82G [02:32<00:26, 23.6MB/s]\rDownloading alphafold2_multimer_v3 weights to /root/.cache/colabfold:  85%|████████▌ | 3.25G/3.82G [02:32<00:26, 23.5MB/s]\rDownloading alphafold2_multimer_v3 weights to /root/.cache/colabfold:  85%|████████▌ | 3.25G/3.82G [02:32<00:27, 22.5MB/s]\rDownloading alphafold2_multimer_v3 weights to /root/.cache/colabfold:  85%|████████▌ | 3.25G/3.82G [02:32<00:27, 22.1MB/s]\rDownloading alphafold2_multimer_v3 weights to /root/.cache/colabfold:  85%|████████▌ | 3.26G/3.82G [02:32<00:27, 21.6MB/s]\rDownloading alphafold2_multimer_v3 weights to /root/.cache/colabfold:  85%|████████▌ | 3.26G/3.82G [02:33<00:31, 19.2MB/s]\rDownloading alphafold2_multimer_v3 weights to /root/.cache/colabfold:  85%|████████▌ | 3.26G/3.82G [02:33<00:34, 17.4MB/s]\rDownloading alphafold2_multimer_v3 weights to /root/.cache/colabfold:  86%|████████▌ | 3.26G/3.82G [02:33<00:30, 19.2MB/s]\rDownloading alphafold2_multimer_v3 weights to /root/.cache/colabfold:  86%|████████▌ | 3.27G/3.82G [02:33<00:28, 20.5MB/s]\rDownloading alphafold2_multimer_v3 weights to /root/.cache/colabfold:  86%|████████▌ | 3.27G/3.82G [02:33<00:27, 21.4MB/s]\rDownloading alphafold2_multimer_v3 weights to /root/.cache/colabfold:  86%|████████▌ | 3.28G/3.82G [02:33<00:26, 22.1MB/s]\rDownloading alphafold2_multimer_v3 weights to /root/.cache/colabfold:  86%|████████▌ | 3.28G/3.82G [02:34<00:25, 22.5MB/s]\rDownloading alphafold2_multimer_v3 weights to /root/.cache/colabfold:  86%|████████▌ | 3.28G/3.82G [02:34<00:25, 22.9MB/s]\rDownloading alphafold2_multimer_v3 weights to /root/.cache/colabfold:  86%|████████▌ | 3.29G/3.82G [02:34<00:24, 23.1MB/s]\rDownloading alphafold2_multimer_v3 weights to /root/.cache/colabfold:  86%|████████▌ | 3.29G/3.82G [02:34<00:24, 23.2MB/s]\rDownloading alphafold2_multimer_v3 weights to /root/.cache/colabfold:  86%|████████▋ | 3.29G/3.82G [02:34<00:24, 23.3MB/s]\rDownloading alphafold2_multimer_v3 weights to /root/.cache/colabfold:  86%|████████▋ | 3.30G/3.82G [02:34<00:23, 23.4MB/s]\rDownloading alphafold2_multimer_v3 weights to /root/.cache/colabfold:  86%|████████▋ | 3.30G/3.82G [02:35<00:23, 23.4MB/s]\rDownloading alphafold2_multimer_v3 weights to /root/.cache/colabfold:  87%|████████▋ | 3.30G/3.82G [02:35<00:23, 23.5MB/s]\rDownloading alphafold2_multimer_v3 weights to /root/.cache/colabfold:  87%|████████▋ | 3.31G/3.82G [02:35<00:23, 23.5MB/s]\rDownloading alphafold2_multimer_v3 weights to /root/.cache/colabfold:  87%|████████▋ | 3.31G/3.82G [02:35<00:23, 23.5MB/s]\rDownloading alphafold2_multimer_v3 weights to /root/.cache/colabfold:  87%|████████▋ | 3.31G/3.82G [02:35<00:22, 23.5MB/s]\rDownloading alphafold2_multimer_v3 weights to /root/.cache/colabfold:  87%|████████▋ | 3.32G/3.82G [02:35<00:22, 23.5MB/s]\rDownloading alphafold2_multimer_v3 weights to /root/.cache/colabfold:  87%|████████▋ | 3.32G/3.82G [02:36<00:22, 23.5MB/s]\rDownloading alphafold2_multimer_v3 weights to /root/.cache/colabfold:  87%|████████▋ | 3.33G/3.82G [02:36<00:22, 23.5MB/s]\rDownloading alphafold2_multimer_v3 weights to /root/.cache/colabfold:  87%|████████▋ | 3.33G/3.82G [02:36<00:22, 23.5MB/s]\rDownloading alphafold2_multimer_v3 weights to /root/.cache/colabfold:  87%|████████▋ | 3.33G/3.82G [02:36<00:22, 23.5MB/s]\rDownloading alphafold2_multimer_v3 weights to /root/.cache/colabfold:  87%|████████▋ | 3.34G/3.82G [02:36<00:21, 23.5MB/s]\rDownloading alphafold2_multimer_v3 weights to /root/.cache/colabfold:  87%|████████▋ | 3.34G/3.82G [02:36<00:21, 23.5MB/s]\rDownloading alphafold2_multimer_v3 weights to /root/.cache/colabfold:  88%|████████▊ | 3.34G/3.82G [02:37<00:21, 23.6MB/s]\rDownloading alphafold2_multimer_v3 weights to /root/.cache/colabfold:  88%|████████▊ | 3.35G/3.82G [02:37<00:21, 23.5MB/s]\rDownloading alphafold2_multimer_v3 weights to /root/.cache/colabfold:  88%|████████▊ | 3.35G/3.82G [02:37<00:21, 23.5MB/s]\rDownloading alphafold2_multimer_v3 weights to /root/.cache/colabfold:  88%|████████▊ | 3.35G/3.82G [02:37<00:21, 23.5MB/s]\rDownloading alphafold2_multimer_v3 weights to /root/.cache/colabfold:  88%|████████▊ | 3.36G/3.82G [02:37<00:21, 23.5MB/s]\rDownloading alphafold2_multimer_v3 weights to /root/.cache/colabfold:  88%|████████▊ | 3.36G/3.82G [02:37<00:20, 23.5MB/s]\rDownloading alphafold2_multimer_v3 weights to /root/.cache/colabfold:  88%|████████▊ | 3.36G/3.82G [02:38<00:20, 23.5MB/s]\rDownloading alphafold2_multimer_v3 weights to /root/.cache/colabfold:  88%|████████▊ | 3.37G/3.82G [02:38<00:20, 23.5MB/s]\rDownloading alphafold2_multimer_v3 weights to /root/.cache/colabfold:  88%|████████▊ | 3.37G/3.82G [02:38<00:20, 23.5MB/s]\rDownloading alphafold2_multimer_v3 weights to /root/.cache/colabfold:  88%|████████▊ | 3.38G/3.82G [02:38<00:20, 23.5MB/s]\rDownloading alphafold2_multimer_v3 weights to /root/.cache/colabfold:  88%|████████▊ | 3.38G/3.82G [02:38<00:20, 23.5MB/s]\rDownloading alphafold2_multimer_v3 weights to /root/.cache/colabfold:  89%|████████▊ | 3.38G/3.82G [02:38<00:19, 23.6MB/s]\rDownloading alphafold2_multimer_v3 weights to /root/.cache/colabfold:  89%|████████▊ | 3.39G/3.82G [02:39<00:19, 23.6MB/s]\rDownloading alphafold2_multimer_v3 weights to /root/.cache/colabfold:  89%|████████▉ | 3.39G/3.82G [02:39<00:19, 23.5MB/s]\rDownloading alphafold2_multimer_v3 weights to /root/.cache/colabfold:  89%|████████▉ | 3.39G/3.82G [02:39<00:19, 23.6MB/s]\rDownloading alphafold2_multimer_v3 weights to /root/.cache/colabfold:  89%|████████▉ | 3.40G/3.82G [02:39<00:19, 23.6MB/s]\rDownloading alphafold2_multimer_v3 weights to /root/.cache/colabfold:  89%|████████▉ | 3.40G/3.82G [02:39<00:19, 23.6MB/s]\rDownloading alphafold2_multimer_v3 weights to /root/.cache/colabfold:  89%|████████▉ | 3.40G/3.82G [02:39<00:18, 23.5MB/s]\rDownloading alphafold2_multimer_v3 weights to /root/.cache/colabfold:  89%|████████▉ | 3.41G/3.82G [02:39<00:18, 23.6MB/s]\rDownloading alphafold2_multimer_v3 weights to /root/.cache/colabfold:  89%|████████▉ | 3.41G/3.82G [02:40<00:18, 23.5MB/s]\rDownloading alphafold2_multimer_v3 weights to /root/.cache/colabfold:  89%|████████▉ | 3.41G/3.82G [02:40<00:18, 23.5MB/s]\rDownloading alphafold2_multimer_v3 weights to /root/.cache/colabfold:  90%|████████▉ | 3.42G/3.82G [02:40<00:18, 23.6MB/s]\rDownloading alphafold2_multimer_v3 weights to /root/.cache/colabfold:  90%|████████▉ | 3.42G/3.82G [02:40<00:18, 23.6MB/s]\rDownloading alphafold2_multimer_v3 weights to /root/.cache/colabfold:  90%|████████▉ | 3.43G/3.82G [02:40<00:17, 23.5MB/s]\rDownloading alphafold2_multimer_v3 weights to /root/.cache/colabfold:  90%|████████▉ | 3.43G/3.82G [02:40<00:17, 23.5MB/s]\rDownloading alphafold2_multimer_v3 weights to /root/.cache/colabfold:  90%|████████▉ | 3.43G/3.82G [02:41<00:18, 22.4MB/s]\rDownloading alphafold2_multimer_v3 weights to /root/.cache/colabfold:  90%|████████▉ | 3.43G/3.82G [02:41<00:20, 19.9MB/s]\rDownloading alphafold2_multimer_v3 weights to /root/.cache/colabfold:  90%|█████████ | 3.44G/3.82G [02:41<00:23, 17.8MB/s]\rDownloading alphafold2_multimer_v3 weights to /root/.cache/colabfold:  90%|█████████ | 3.44G/3.82G [02:41<00:20, 19.4MB/s]\rDownloading alphafold2_multimer_v3 weights to /root/.cache/colabfold:  90%|█████████ | 3.44G/3.82G [02:41<00:19, 20.7MB/s]\rDownloading alphafold2_multimer_v3 weights to /root/.cache/colabfold:  90%|█████████ | 3.45G/3.82G [02:41<00:18, 21.5MB/s]\rDownloading alphafold2_multimer_v3 weights to /root/.cache/colabfold:  90%|█████████ | 3.45G/3.82G [02:42<00:17, 22.1MB/s]\rDownloading alphafold2_multimer_v3 weights to /root/.cache/colabfold:  90%|█████████ | 3.45G/3.82G [02:42<00:17, 22.5MB/s]\rDownloading alphafold2_multimer_v3 weights to /root/.cache/colabfold:  91%|█████████ | 3.46G/3.82G [02:42<00:16, 22.8MB/s]\rDownloading alphafold2_multimer_v3 weights to /root/.cache/colabfold:  91%|█████████ | 3.46G/3.82G [02:42<00:16, 23.0MB/s]\rDownloading alphafold2_multimer_v3 weights to /root/.cache/colabfold:  91%|█████████ | 3.46G/3.82G [02:42<00:16, 23.2MB/s]\rDownloading alphafold2_multimer_v3 weights to /root/.cache/colabfold:  91%|█████████ | 3.47G/3.82G [02:42<00:16, 23.3MB/s]\rDownloading alphafold2_multimer_v3 weights to /root/.cache/colabfold:  91%|█████████ | 3.47G/3.82G [02:43<00:15, 23.4MB/s]\rDownloading alphafold2_multimer_v3 weights to /root/.cache/colabfold:  91%|█████████ | 3.48G/3.82G [02:43<00:15, 23.4MB/s]\rDownloading alphafold2_multimer_v3 weights to /root/.cache/colabfold:  91%|█████████ | 3.48G/3.82G [02:43<00:15, 23.5MB/s]\rDownloading alphafold2_multimer_v3 weights to /root/.cache/colabfold:  91%|█████████ | 3.48G/3.82G [02:43<00:15, 23.5MB/s]\rDownloading alphafold2_multimer_v3 weights to /root/.cache/colabfold:  91%|█████████▏| 3.49G/3.82G [02:43<00:15, 23.5MB/s]\rDownloading alphafold2_multimer_v3 weights to /root/.cache/colabfold:  91%|█████████▏| 3.49G/3.82G [02:43<00:15, 23.5MB/s]\rDownloading alphafold2_multimer_v3 weights to /root/.cache/colabfold:  91%|█████████▏| 3.49G/3.82G [02:44<00:14, 23.5MB/s]\rDownloading alphafold2_multimer_v3 weights to /root/.cache/colabfold:  92%|█████████▏| 3.50G/3.82G [02:44<00:14, 23.5MB/s]\rDownloading alphafold2_multimer_v3 weights to /root/.cache/colabfold:  92%|█████████▏| 3.50G/3.82G [02:44<00:14, 23.5MB/s]\rDownloading alphafold2_multimer_v3 weights to /root/.cache/colabfold:  92%|█████████▏| 3.50G/3.82G [02:44<00:14, 23.5MB/s]\rDownloading alphafold2_multimer_v3 weights to /root/.cache/colabfold:  92%|█████████▏| 3.51G/3.82G [02:44<00:14, 23.5MB/s]\rDownloading alphafold2_multimer_v3 weights to /root/.cache/colabfold:  92%|█████████▏| 3.51G/3.82G [02:44<00:14, 23.5MB/s]\rDownloading alphafold2_multimer_v3 weights to /root/.cache/colabfold:  92%|█████████▏| 3.51G/3.82G [02:45<00:13, 23.5MB/s]\rDownloading alphafold2_multimer_v3 weights to /root/.cache/colabfold:  92%|█████████▏| 3.52G/3.82G [02:45<00:13, 23.5MB/s]\rDownloading alphafold2_multimer_v3 weights to /root/.cache/colabfold:  92%|█████████▏| 3.52G/3.82G [02:45<00:13, 23.6MB/s]\rDownloading alphafold2_multimer_v3 weights to /root/.cache/colabfold:  92%|█████████▏| 3.53G/3.82G [02:45<00:13, 23.6MB/s]\rDownloading alphafold2_multimer_v3 weights to /root/.cache/colabfold:  92%|█████████▏| 3.53G/3.82G [02:45<00:13, 23.5MB/s]\rDownloading alphafold2_multimer_v3 weights to /root/.cache/colabfold:  93%|█████████▎| 3.53G/3.82G [02:45<00:13, 23.5MB/s]\rDownloading alphafold2_multimer_v3 weights to /root/.cache/colabfold:  93%|█████████▎| 3.54G/3.82G [02:46<00:12, 23.5MB/s]\rDownloading alphafold2_multimer_v3 weights to /root/.cache/colabfold:  93%|█████████▎| 3.54G/3.82G [02:46<00:12, 23.5MB/s]\rDownloading alphafold2_multimer_v3 weights to /root/.cache/colabfold:  93%|█████████▎| 3.54G/3.82G [02:46<00:13, 22.6MB/s]\rDownloading alphafold2_multimer_v3 weights to /root/.cache/colabfold:  93%|█████████▎| 3.55G/3.82G [02:46<00:13, 22.1MB/s]\rDownloading alphafold2_multimer_v3 weights to /root/.cache/colabfold:  93%|█████████▎| 3.55G/3.82G [02:46<00:12, 22.6MB/s]\rDownloading alphafold2_multimer_v3 weights to /root/.cache/colabfold:  93%|█████████▎| 3.55G/3.82G [02:46<00:12, 22.8MB/s]\rDownloading alphafold2_multimer_v3 weights to /root/.cache/colabfold:  93%|█████████▎| 3.56G/3.82G [02:47<00:12, 23.0MB/s]\rDownloading alphafold2_multimer_v3 weights to /root/.cache/colabfold:  93%|█████████▎| 3.56G/3.82G [02:47<00:11, 23.2MB/s]\rDownloading alphafold2_multimer_v3 weights to /root/.cache/colabfold:  93%|█████████▎| 3.56G/3.82G [02:47<00:11, 23.3MB/s]\rDownloading alphafold2_multimer_v3 weights to /root/.cache/colabfold:  93%|█████████▎| 3.57G/3.82G [02:47<00:11, 23.3MB/s]\rDownloading alphafold2_multimer_v3 weights to /root/.cache/colabfold:  94%|█████████▎| 3.57G/3.82G [02:47<00:11, 23.4MB/s]\rDownloading alphafold2_multimer_v3 weights to /root/.cache/colabfold:  94%|█████████▎| 3.57G/3.82G [02:47<00:11, 23.4MB/s]\rDownloading alphafold2_multimer_v3 weights to /root/.cache/colabfold:  94%|█████████▎| 3.58G/3.82G [02:48<00:10, 23.5MB/s]\rDownloading alphafold2_multimer_v3 weights to /root/.cache/colabfold:  94%|█████████▍| 3.58G/3.82G [02:48<00:10, 23.5MB/s]\rDownloading alphafold2_multimer_v3 weights to /root/.cache/colabfold:  94%|█████████▍| 3.59G/3.82G [02:48<00:10, 23.5MB/s]\rDownloading alphafold2_multimer_v3 weights to /root/.cache/colabfold:  94%|█████████▍| 3.59G/3.82G [02:48<00:10, 23.5MB/s]\rDownloading alphafold2_multimer_v3 weights to /root/.cache/colabfold:  94%|█████████▍| 3.59G/3.82G [02:48<00:10, 23.5MB/s]\rDownloading alphafold2_multimer_v3 weights to /root/.cache/colabfold:  94%|█████████▍| 3.60G/3.82G [02:48<00:10, 23.5MB/s]\rDownloading alphafold2_multimer_v3 weights to /root/.cache/colabfold:  94%|█████████▍| 3.60G/3.82G [02:48<00:09, 23.5MB/s]\rDownloading alphafold2_multimer_v3 weights to /root/.cache/colabfold:  94%|█████████▍| 3.60G/3.82G [02:49<00:09, 23.5MB/s]\rDownloading alphafold2_multimer_v3 weights to /root/.cache/colabfold:  94%|█████████▍| 3.61G/3.82G [02:49<00:09, 23.5MB/s]\rDownloading alphafold2_multimer_v3 weights to /root/.cache/colabfold:  95%|█████████▍| 3.61G/3.82G [02:49<00:09, 23.5MB/s]\rDownloading alphafold2_multimer_v3 weights to /root/.cache/colabfold:  95%|█████████▍| 3.61G/3.82G [02:49<00:09, 23.5MB/s]\rDownloading alphafold2_multimer_v3 weights to /root/.cache/colabfold:  95%|█████████▍| 3.62G/3.82G [02:49<00:09, 23.6MB/s]\rDownloading alphafold2_multimer_v3 weights to /root/.cache/colabfold:  95%|█████████▍| 3.62G/3.82G [02:49<00:08, 23.5MB/s]\rDownloading alphafold2_multimer_v3 weights to /root/.cache/colabfold:  95%|█████████▍| 3.62G/3.82G [02:50<00:08, 23.6MB/s]\rDownloading alphafold2_multimer_v3 weights to /root/.cache/colabfold:  95%|█████████▌| 3.63G/3.82G [02:50<00:08, 23.5MB/s]\rDownloading alphafold2_multimer_v3 weights to /root/.cache/colabfold:  95%|█████████▌| 3.63G/3.82G [02:50<00:08, 23.5MB/s]\rDownloading alphafold2_multimer_v3 weights to /root/.cache/colabfold:  95%|█████████▌| 3.64G/3.82G [02:50<00:08, 23.5MB/s]\rDownloading alphafold2_multimer_v3 weights to /root/.cache/colabfold:  95%|█████████▌| 3.64G/3.82G [02:50<00:08, 23.6MB/s]\rDownloading alphafold2_multimer_v3 weights to /root/.cache/colabfold:  95%|█████████▌| 3.64G/3.82G [02:50<00:07, 23.6MB/s]\rDownloading alphafold2_multimer_v3 weights to /root/.cache/colabfold:  96%|█████████▌| 3.65G/3.82G [02:51<00:07, 23.6MB/s]\rDownloading alphafold2_multimer_v3 weights to /root/.cache/colabfold:  96%|█████████▌| 3.65G/3.82G [02:51<00:07, 23.6MB/s]\rDownloading alphafold2_multimer_v3 weights to /root/.cache/colabfold:  96%|█████████▌| 3.65G/3.82G [02:51<00:07, 23.6MB/s]\rDownloading alphafold2_multimer_v3 weights to /root/.cache/colabfold:  96%|█████████▌| 3.66G/3.82G [02:51<00:07, 23.5MB/s]\rDownloading alphafold2_multimer_v3 weights to /root/.cache/colabfold:  96%|█████████▌| 3.66G/3.82G [02:51<00:07, 23.5MB/s]\rDownloading alphafold2_multimer_v3 weights to /root/.cache/colabfold:  96%|█████████▌| 3.66G/3.82G [02:51<00:07, 23.6MB/s]\rDownloading alphafold2_multimer_v3 weights to /root/.cache/colabfold:  96%|█████████▌| 3.67G/3.82G [02:52<00:06, 23.6MB/s]\rDownloading alphafold2_multimer_v3 weights to /root/.cache/colabfold:  96%|█████████▌| 3.67G/3.82G [02:52<00:06, 23.5MB/s]\rDownloading alphafold2_multimer_v3 weights to /root/.cache/colabfold:  96%|█████████▌| 3.67G/3.82G [02:52<00:06, 23.6MB/s]\rDownloading alphafold2_multimer_v3 weights to /root/.cache/colabfold:  96%|█████████▋| 3.68G/3.82G [02:52<00:06, 22.5MB/s]\rDownloading alphafold2_multimer_v3 weights to /root/.cache/colabfold:  96%|█████████▋| 3.68G/3.82G [02:52<00:07, 19.9MB/s]\rDownloading alphafold2_multimer_v3 weights to /root/.cache/colabfold:  96%|█████████▋| 3.68G/3.82G [02:52<00:08, 17.8MB/s]\rDownloading alphafold2_multimer_v3 weights to /root/.cache/colabfold:  97%|█████████▋| 3.69G/3.82G [02:53<00:07, 19.5MB/s]\rDownloading alphafold2_multimer_v3 weights to /root/.cache/colabfold:  97%|█████████▋| 3.69G/3.82G [02:53<00:06, 20.7MB/s]\rDownloading alphafold2_multimer_v3 weights to /root/.cache/colabfold:  97%|█████████▋| 3.69G/3.82G [02:53<00:06, 21.5MB/s]\rDownloading alphafold2_multimer_v3 weights to /root/.cache/colabfold:  97%|█████████▋| 3.70G/3.82G [02:53<00:05, 22.1MB/s]\rDownloading alphafold2_multimer_v3 weights to /root/.cache/colabfold:  97%|█████████▋| 3.70G/3.82G [02:53<00:05, 22.6MB/s]\rDownloading alphafold2_multimer_v3 weights to /root/.cache/colabfold:  97%|█████████▋| 3.70G/3.82G [02:53<00:05, 22.8MB/s]\rDownloading alphafold2_multimer_v3 weights to /root/.cache/colabfold:  97%|█████████▋| 3.71G/3.82G [02:54<00:05, 23.1MB/s]\rDownloading alphafold2_multimer_v3 weights to /root/.cache/colabfold:  97%|█████████▋| 3.71G/3.82G [02:54<00:04, 23.2MB/s]\rDownloading alphafold2_multimer_v3 weights to /root/.cache/colabfold:  97%|█████████▋| 3.71G/3.82G [02:54<00:04, 23.3MB/s]\rDownloading alphafold2_multimer_v3 weights to /root/.cache/colabfold:  97%|█████████▋| 3.72G/3.82G [02:54<00:04, 23.4MB/s]\rDownloading alphafold2_multimer_v3 weights to /root/.cache/colabfold:  97%|█████████▋| 3.72G/3.82G [02:54<00:04, 22.4MB/s]\rDownloading alphafold2_multimer_v3 weights to /root/.cache/colabfold:  98%|█████████▊| 3.72G/3.82G [02:54<00:04, 22.0MB/s]\rDownloading alphafold2_multimer_v3 weights to /root/.cache/colabfold:  98%|█████████▊| 3.73G/3.82G [02:55<00:04, 22.5MB/s]\rDownloading alphafold2_multimer_v3 weights to /root/.cache/colabfold:  98%|█████████▊| 3.73G/3.82G [02:55<00:04, 22.8MB/s]\rDownloading alphafold2_multimer_v3 weights to /root/.cache/colabfold:  98%|█████████▊| 3.74G/3.82G [02:55<00:03, 23.0MB/s]\rDownloading alphafold2_multimer_v3 weights to /root/.cache/colabfold:  98%|█████████▊| 3.74G/3.82G [02:55<00:03, 23.1MB/s]\rDownloading alphafold2_multimer_v3 weights to /root/.cache/colabfold:  98%|█████████▊| 3.74G/3.82G [02:55<00:03, 23.3MB/s]\rDownloading alphafold2_multimer_v3 weights to /root/.cache/colabfold:  98%|█████████▊| 3.75G/3.82G [02:55<00:03, 23.4MB/s]\rDownloading alphafold2_multimer_v3 weights to /root/.cache/colabfold:  98%|█████████▊| 3.75G/3.82G [02:56<00:03, 23.4MB/s]\rDownloading alphafold2_multimer_v3 weights to /root/.cache/colabfold:  98%|█████████▊| 3.75G/3.82G [02:56<00:02, 23.4MB/s]\rDownloading alphafold2_multimer_v3 weights to /root/.cache/colabfold:  98%|█████████▊| 3.76G/3.82G [02:56<00:02, 23.4MB/s]\rDownloading alphafold2_multimer_v3 weights to /root/.cache/colabfold:  98%|█████████▊| 3.76G/3.82G [02:56<00:02, 23.4MB/s]\rDownloading alphafold2_multimer_v3 weights to /root/.cache/colabfold:  99%|█████████▊| 3.76G/3.82G [02:56<00:02, 23.5MB/s]\rDownloading alphafold2_multimer_v3 weights to /root/.cache/colabfold:  99%|█████████▊| 3.77G/3.82G [02:56<00:02, 23.4MB/s]\rDownloading alphafold2_multimer_v3 weights to /root/.cache/colabfold:  99%|█████████▉| 3.77G/3.82G [02:56<00:02, 23.4MB/s]\rDownloading alphafold2_multimer_v3 weights to /root/.cache/colabfold:  99%|█████████▉| 3.77G/3.82G [02:57<00:01, 23.4MB/s]\rDownloading alphafold2_multimer_v3 weights to /root/.cache/colabfold:  99%|█████████▉| 3.78G/3.82G [02:57<00:01, 23.5MB/s]\rDownloading alphafold2_multimer_v3 weights to /root/.cache/colabfold:  99%|█████████▉| 3.78G/3.82G [02:57<00:01, 23.5MB/s]\rDownloading alphafold2_multimer_v3 weights to /root/.cache/colabfold:  99%|█████████▉| 3.79G/3.82G [02:57<00:01, 23.5MB/s]\rDownloading alphafold2_multimer_v3 weights to /root/.cache/colabfold:  99%|█████████▉| 3.79G/3.82G [02:57<00:01, 23.4MB/s]\rDownloading alphafold2_multimer_v3 weights to /root/.cache/colabfold:  99%|█████████▉| 3.79G/3.82G [02:57<00:01, 23.5MB/s]\rDownloading alphafold2_multimer_v3 weights to /root/.cache/colabfold:  99%|█████████▉| 3.80G/3.82G [02:58<00:01, 23.5MB/s]\rDownloading alphafold2_multimer_v3 weights to /root/.cache/colabfold: 100%|█████████▉| 3.80G/3.82G [02:58<00:00, 23.5MB/s]\rDownloading alphafold2_multimer_v3 weights to /root/.cache/colabfold: 100%|█████████▉| 3.80G/3.82G [02:58<00:00, 23.5MB/s]\rDownloading alphafold2_multimer_v3 weights to /root/.cache/colabfold: 100%|█████████▉| 3.81G/3.82G [02:58<00:00, 23.5MB/s]\rDownloading alphafold2_multimer_v3 weights to /root/.cache/colabfold: 100%|█████████▉| 3.81G/3.82G [02:58<00:00, 23.5MB/s]\rDownloading alphafold2_multimer_v3 weights to /root/.cache/colabfold: 100%|█████████▉| 3.81G/3.82G [02:58<00:00, 23.5MB/s]\rDownloading alphafold2_multimer_v3 weights to /root/.cache/colabfold: 100%|█████████▉| 3.82G/3.82G [02:59<00:00, 23.5MB/s]\rDownloading alphafold2_multimer_v3 weights to /root/.cache/colabfold: 100%|██████████| 3.82G/3.82G [02:59<00:00, 22.9MB/s]\n",
            "\rDownloading AlphaFold2-ptm weights to /root/.cache/colabfold:   0%|          | 0/3722752000 [00:00<?, ?it/s]\rDownloading AlphaFold2-ptm weights to /root/.cache/colabfold:   0%|          | 50.0k/3.47G [00:00<4:14:43, 244kB/s]\rDownloading AlphaFold2-ptm weights to /root/.cache/colabfold:   0%|          | 80.0k/3.47G [00:00<5:06:15, 203kB/s]\rDownloading AlphaFold2-ptm weights to /root/.cache/colabfold:   0%|          | 160k/3.47G [00:00<3:01:15, 342kB/s] \rDownloading AlphaFold2-ptm weights to /root/.cache/colabfold:   0%|          | 240k/3.47G [00:00<2:13:59, 463kB/s]\rDownloading AlphaFold2-ptm weights to /root/.cache/colabfold:   0%|          | 360k/3.47G [00:00<1:32:04, 674kB/s]\rDownloading AlphaFold2-ptm weights to /root/.cache/colabfold:   0%|          | 530k/3.47G [00:00<1:04:36, 960kB/s]\rDownloading AlphaFold2-ptm weights to /root/.cache/colabfold:   0%|          | 770k/3.47G [00:00<44:58, 1.38MB/s] \rDownloading AlphaFold2-ptm weights to /root/.cache/colabfold:   0%|          | 1.14M/3.47G [00:01<28:56, 2.14MB/s]\rDownloading AlphaFold2-ptm weights to /root/.cache/colabfold:   0%|          | 1.68M/3.47G [00:01<19:40, 3.15MB/s]\rDownloading AlphaFold2-ptm weights to /root/.cache/colabfold:   0%|          | 2.52M/3.47G [00:01<12:55, 4.80MB/s]\rDownloading AlphaFold2-ptm weights to /root/.cache/colabfold:   0%|          | 3.80M/3.47G [00:01<08:27, 7.32MB/s]\rDownloading AlphaFold2-ptm weights to /root/.cache/colabfold:   0%|          | 5.70M/3.47G [00:01<05:36, 11.0MB/s]\rDownloading AlphaFold2-ptm weights to /root/.cache/colabfold:   0%|          | 8.09M/3.47G [00:01<04:07, 15.0MB/s]\rDownloading AlphaFold2-ptm weights to /root/.cache/colabfold:   0%|          | 10.5M/3.47G [00:01<03:28, 17.8MB/s]\rDownloading AlphaFold2-ptm weights to /root/.cache/colabfold:   0%|          | 12.6M/3.47G [00:01<03:17, 18.8MB/s]\rDownloading AlphaFold2-ptm weights to /root/.cache/colabfold:   0%|          | 15.0M/3.47G [00:01<02:59, 20.7MB/s]\rDownloading AlphaFold2-ptm weights to /root/.cache/colabfold:   0%|          | 17.3M/3.47G [00:01<02:49, 21.8MB/s]\rDownloading AlphaFold2-ptm weights to /root/.cache/colabfold:   1%|          | 19.5M/3.47G [00:02<02:51, 21.6MB/s]\rDownloading AlphaFold2-ptm weights to /root/.cache/colabfold:   1%|          | 22.1M/3.47G [00:02<02:39, 23.2MB/s]\rDownloading AlphaFold2-ptm weights to /root/.cache/colabfold:   1%|          | 24.3M/3.47G [00:02<02:43, 22.7MB/s]\rDownloading AlphaFold2-ptm weights to /root/.cache/colabfold:   1%|          | 26.4M/3.47G [00:02<02:42, 22.7MB/s]\rDownloading AlphaFold2-ptm weights to /root/.cache/colabfold:   1%|          | 28.8M/3.47G [00:02<02:40, 23.0MB/s]\rDownloading AlphaFold2-ptm weights to /root/.cache/colabfold:   1%|          | 31.0M/3.47G [00:02<02:41, 22.9MB/s]\rDownloading AlphaFold2-ptm weights to /root/.cache/colabfold:   1%|          | 33.3M/3.47G [00:02<02:39, 23.2MB/s]\rDownloading AlphaFold2-ptm weights to /root/.cache/colabfold:   1%|          | 35.6M/3.47G [00:02<02:36, 23.5MB/s]\rDownloading AlphaFold2-ptm weights to /root/.cache/colabfold:   1%|          | 37.9M/3.47G [00:02<02:40, 23.0MB/s]\rDownloading AlphaFold2-ptm weights to /root/.cache/colabfold:   1%|          | 40.4M/3.47G [00:03<02:32, 24.1MB/s]\rDownloading AlphaFold2-ptm weights to /root/.cache/colabfold:   1%|          | 42.7M/3.47G [00:03<02:40, 23.0MB/s]\rDownloading AlphaFold2-ptm weights to /root/.cache/colabfold:   1%|▏         | 45.0M/3.47G [00:03<02:42, 22.6MB/s]\rDownloading AlphaFold2-ptm weights to /root/.cache/colabfold:   1%|▏         | 47.6M/3.47G [00:03<02:33, 23.9MB/s]\rDownloading AlphaFold2-ptm weights to /root/.cache/colabfold:   1%|▏         | 49.9M/3.47G [00:03<02:40, 22.8MB/s]\rDownloading AlphaFold2-ptm weights to /root/.cache/colabfold:   1%|▏         | 52.3M/3.47G [00:03<02:40, 22.8MB/s]\rDownloading AlphaFold2-ptm weights to /root/.cache/colabfold:   2%|▏         | 54.9M/3.47G [00:03<02:32, 24.0MB/s]\rDownloading AlphaFold2-ptm weights to /root/.cache/colabfold:   2%|▏         | 57.2M/3.47G [00:03<02:40, 22.9MB/s]\rDownloading AlphaFold2-ptm weights to /root/.cache/colabfold:   2%|▏         | 59.6M/3.47G [00:03<02:41, 22.7MB/s]\rDownloading AlphaFold2-ptm weights to /root/.cache/colabfold:   2%|▏         | 62.4M/3.47G [00:03<02:29, 24.5MB/s]\rDownloading AlphaFold2-ptm weights to /root/.cache/colabfold:   2%|▏         | 64.7M/3.47G [00:04<02:37, 23.3MB/s]\rDownloading AlphaFold2-ptm weights to /root/.cache/colabfold:   2%|▏         | 67.0M/3.47G [00:04<02:40, 22.7MB/s]\rDownloading AlphaFold2-ptm weights to /root/.cache/colabfold:   2%|▏         | 69.7M/3.47G [00:04<02:36, 23.2MB/s]\rDownloading AlphaFold2-ptm weights to /root/.cache/colabfold:   2%|▏         | 72.0M/3.47G [00:04<02:36, 23.3MB/s]\rDownloading AlphaFold2-ptm weights to /root/.cache/colabfold:   2%|▏         | 74.2M/3.47G [00:04<02:40, 22.7MB/s]\rDownloading AlphaFold2-ptm weights to /root/.cache/colabfold:   2%|▏         | 77.0M/3.47G [00:04<02:28, 24.5MB/s]\rDownloading AlphaFold2-ptm weights to /root/.cache/colabfold:   2%|▏         | 79.3M/3.47G [00:04<02:36, 23.2MB/s]\rDownloading AlphaFold2-ptm weights to /root/.cache/colabfold:   2%|▏         | 81.6M/3.47G [00:04<02:40, 22.7MB/s]\rDownloading AlphaFold2-ptm weights to /root/.cache/colabfold:   2%|▏         | 84.3M/3.47G [00:04<02:29, 24.3MB/s]\rDownloading AlphaFold2-ptm weights to /root/.cache/colabfold:   2%|▏         | 86.7M/3.47G [00:05<02:36, 23.2MB/s]\rDownloading AlphaFold2-ptm weights to /root/.cache/colabfold:   3%|▎         | 88.9M/3.47G [00:05<02:40, 22.6MB/s]\rDownloading AlphaFold2-ptm weights to /root/.cache/colabfold:   3%|▎         | 91.4M/3.47G [00:05<02:32, 23.7MB/s]\rDownloading AlphaFold2-ptm weights to /root/.cache/colabfold:   3%|▎         | 93.7M/3.47G [00:05<02:53, 20.9MB/s]\rDownloading AlphaFold2-ptm weights to /root/.cache/colabfold:   3%|▎         | 95.8M/3.47G [00:05<03:12, 18.8MB/s]\rDownloading AlphaFold2-ptm weights to /root/.cache/colabfold:   3%|▎         | 99.3M/3.47G [00:05<02:58, 20.3MB/s]\rDownloading AlphaFold2-ptm weights to /root/.cache/colabfold:   3%|▎         | 103M/3.47G [00:05<02:50, 21.3MB/s] \rDownloading AlphaFold2-ptm weights to /root/.cache/colabfold:   3%|▎         | 107M/3.47G [00:06<02:44, 21.9MB/s]\rDownloading AlphaFold2-ptm weights to /root/.cache/colabfold:   3%|▎         | 110M/3.47G [00:06<02:41, 22.3MB/s]\rDownloading AlphaFold2-ptm weights to /root/.cache/colabfold:   3%|▎         | 114M/3.47G [00:06<02:39, 22.6MB/s]\rDownloading AlphaFold2-ptm weights to /root/.cache/colabfold:   3%|▎         | 116M/3.47G [00:06<03:01, 19.8MB/s]\rDownloading AlphaFold2-ptm weights to /root/.cache/colabfold:   3%|▎         | 119M/3.47G [00:06<02:38, 22.8MB/s]\rDownloading AlphaFold2-ptm weights to /root/.cache/colabfold:   3%|▎         | 122M/3.47G [00:06<02:51, 20.9MB/s]\rDownloading AlphaFold2-ptm weights to /root/.cache/colabfold:   3%|▎         | 124M/3.47G [00:06<02:59, 20.0MB/s]\rDownloading AlphaFold2-ptm weights to /root/.cache/colabfold:   4%|▎         | 127M/3.47G [00:07<02:42, 22.1MB/s]\rDownloading AlphaFold2-ptm weights to /root/.cache/colabfold:   4%|▎         | 130M/3.47G [00:07<02:24, 24.8MB/s]\rDownloading AlphaFold2-ptm weights to /root/.cache/colabfold:   4%|▎         | 133M/3.47G [00:07<02:40, 22.4MB/s]\rDownloading AlphaFold2-ptm weights to /root/.cache/colabfold:   4%|▍         | 135M/3.47G [00:07<02:48, 21.3MB/s]\rDownloading AlphaFold2-ptm weights to /root/.cache/colabfold:   4%|▍         | 138M/3.47G [00:07<02:36, 22.8MB/s]\rDownloading AlphaFold2-ptm weights to /root/.cache/colabfold:   4%|▍         | 141M/3.47G [00:07<02:21, 25.3MB/s]\rDownloading AlphaFold2-ptm weights to /root/.cache/colabfold:   4%|▍         | 143M/3.47G [00:07<02:37, 22.7MB/s]\rDownloading AlphaFold2-ptm weights to /root/.cache/colabfold:   4%|▍         | 146M/3.47G [00:07<02:45, 21.6MB/s]\rDownloading AlphaFold2-ptm weights to /root/.cache/colabfold:   4%|▍         | 149M/3.47G [00:08<02:34, 23.1MB/s]\rDownloading AlphaFold2-ptm weights to /root/.cache/colabfold:   4%|▍         | 152M/3.47G [00:08<02:21, 25.2MB/s]\rDownloading AlphaFold2-ptm weights to /root/.cache/colabfold:   4%|▍         | 154M/3.47G [00:08<02:36, 22.7MB/s]\rDownloading AlphaFold2-ptm weights to /root/.cache/colabfold:   4%|▍         | 156M/3.47G [00:08<02:45, 21.5MB/s]\rDownloading AlphaFold2-ptm weights to /root/.cache/colabfold:   4%|▍         | 160M/3.47G [00:08<02:32, 23.3MB/s]\rDownloading AlphaFold2-ptm weights to /root/.cache/colabfold:   5%|▍         | 163M/3.47G [00:08<02:19, 25.5MB/s]\rDownloading AlphaFold2-ptm weights to /root/.cache/colabfold:   5%|▍         | 165M/3.47G [00:08<02:34, 23.0MB/s]\rDownloading AlphaFold2-ptm weights to /root/.cache/colabfold:   5%|▍         | 168M/3.47G [00:08<02:43, 21.7MB/s]\rDownloading AlphaFold2-ptm weights to /root/.cache/colabfold:   5%|▍         | 171M/3.47G [00:09<02:32, 23.3MB/s]\rDownloading AlphaFold2-ptm weights to /root/.cache/colabfold:   5%|▍         | 174M/3.47G [00:09<02:19, 25.3MB/s]\rDownloading AlphaFold2-ptm weights to /root/.cache/colabfold:   5%|▍         | 176M/3.47G [00:09<02:35, 22.8MB/s]\rDownloading AlphaFold2-ptm weights to /root/.cache/colabfold:   5%|▌         | 178M/3.47G [00:09<02:43, 21.6MB/s]\rDownloading AlphaFold2-ptm weights to /root/.cache/colabfold:   5%|▌         | 182M/3.47G [00:09<02:31, 23.3MB/s]\rDownloading AlphaFold2-ptm weights to /root/.cache/colabfold:   5%|▌         | 185M/3.47G [00:09<02:18, 25.4MB/s]\rDownloading AlphaFold2-ptm weights to /root/.cache/colabfold:   5%|▌         | 187M/3.47G [00:09<02:34, 22.9MB/s]\rDownloading AlphaFold2-ptm weights to /root/.cache/colabfold:   5%|▌         | 189M/3.47G [00:09<02:42, 21.7MB/s]\rDownloading AlphaFold2-ptm weights to /root/.cache/colabfold:   5%|▌         | 193M/3.47G [00:10<02:30, 23.3MB/s]\rDownloading AlphaFold2-ptm weights to /root/.cache/colabfold:   6%|▌         | 196M/3.47G [00:10<02:18, 25.5MB/s]\rDownloading AlphaFold2-ptm weights to /root/.cache/colabfold:   6%|▌         | 198M/3.47G [00:10<02:33, 22.9MB/s]\rDownloading AlphaFold2-ptm weights to /root/.cache/colabfold:   6%|▌         | 200M/3.47G [00:10<02:43, 21.4MB/s]\rDownloading AlphaFold2-ptm weights to /root/.cache/colabfold:   6%|▌         | 203M/3.47G [00:10<02:30, 23.4MB/s]\rDownloading AlphaFold2-ptm weights to /root/.cache/colabfold:   6%|▌         | 206M/3.47G [00:10<02:17, 25.4MB/s]\rDownloading AlphaFold2-ptm weights to /root/.cache/colabfold:   6%|▌         | 209M/3.47G [00:10<02:32, 22.9MB/s]\rDownloading AlphaFold2-ptm weights to /root/.cache/colabfold:   6%|▌         | 211M/3.47G [00:10<02:41, 21.7MB/s]\rDownloading AlphaFold2-ptm weights to /root/.cache/colabfold:   6%|▌         | 214M/3.47G [00:11<02:29, 23.3MB/s]\rDownloading AlphaFold2-ptm weights to /root/.cache/colabfold:   6%|▌         | 217M/3.47G [00:11<02:17, 25.4MB/s]\rDownloading AlphaFold2-ptm weights to /root/.cache/colabfold:   6%|▌         | 220M/3.47G [00:11<02:32, 22.9MB/s]\rDownloading AlphaFold2-ptm weights to /root/.cache/colabfold:   6%|▋         | 222M/3.47G [00:11<02:41, 21.6MB/s]\rDownloading AlphaFold2-ptm weights to /root/.cache/colabfold:   6%|▋         | 225M/3.47G [00:11<02:29, 23.3MB/s]\rDownloading AlphaFold2-ptm weights to /root/.cache/colabfold:   6%|▋         | 228M/3.47G [00:11<02:17, 25.3MB/s]\rDownloading AlphaFold2-ptm weights to /root/.cache/colabfold:   6%|▋         | 231M/3.47G [00:11<02:41, 21.6MB/s]\rDownloading AlphaFold2-ptm weights to /root/.cache/colabfold:   7%|▋         | 233M/3.47G [00:11<02:58, 19.5MB/s]\rDownloading AlphaFold2-ptm weights to /root/.cache/colabfold:   7%|▋         | 236M/3.47G [00:12<02:56, 19.7MB/s]\rDownloading AlphaFold2-ptm weights to /root/.cache/colabfold:   7%|▋         | 239M/3.47G [00:12<02:45, 20.9MB/s]\rDownloading AlphaFold2-ptm weights to /root/.cache/colabfold:   7%|▋         | 243M/3.47G [00:12<02:40, 21.6MB/s]\rDownloading AlphaFold2-ptm weights to /root/.cache/colabfold:   7%|▋         | 247M/3.47G [00:12<02:36, 22.2MB/s]\rDownloading AlphaFold2-ptm weights to /root/.cache/colabfold:   7%|▋         | 250M/3.47G [00:12<02:33, 22.5MB/s]\rDownloading AlphaFold2-ptm weights to /root/.cache/colabfold:   7%|▋         | 254M/3.47G [00:12<02:32, 22.7MB/s]\rDownloading AlphaFold2-ptm weights to /root/.cache/colabfold:   7%|▋         | 258M/3.47G [00:13<02:31, 22.8MB/s]\rDownloading AlphaFold2-ptm weights to /root/.cache/colabfold:   7%|▋         | 261M/3.47G [00:13<02:30, 23.0MB/s]\rDownloading AlphaFold2-ptm weights to /root/.cache/colabfold:   7%|▋         | 265M/3.47G [00:13<02:29, 23.1MB/s]\rDownloading AlphaFold2-ptm weights to /root/.cache/colabfold:   8%|▊         | 269M/3.47G [00:13<02:28, 23.1MB/s]\rDownloading AlphaFold2-ptm weights to /root/.cache/colabfold:   8%|▊         | 272M/3.47G [00:13<02:28, 23.2MB/s]\rDownloading AlphaFold2-ptm weights to /root/.cache/colabfold:   8%|▊         | 276M/3.47G [00:13<02:27, 23.2MB/s]\rDownloading AlphaFold2-ptm weights to /root/.cache/colabfold:   8%|▊         | 280M/3.47G [00:14<02:27, 23.2MB/s]\rDownloading AlphaFold2-ptm weights to /root/.cache/colabfold:   8%|▊         | 283M/3.47G [00:14<02:27, 23.2MB/s]\rDownloading AlphaFold2-ptm weights to /root/.cache/colabfold:   8%|▊         | 287M/3.47G [00:14<02:27, 23.3MB/s]\rDownloading AlphaFold2-ptm weights to /root/.cache/colabfold:   8%|▊         | 290M/3.47G [00:14<02:26, 23.3MB/s]\rDownloading AlphaFold2-ptm weights to /root/.cache/colabfold:   8%|▊         | 294M/3.47G [00:14<02:26, 23.3MB/s]\rDownloading AlphaFold2-ptm weights to /root/.cache/colabfold:   8%|▊         | 298M/3.47G [00:14<02:26, 23.3MB/s]\rDownloading AlphaFold2-ptm weights to /root/.cache/colabfold:   8%|▊         | 301M/3.47G [00:15<02:26, 23.3MB/s]\rDownloading AlphaFold2-ptm weights to /root/.cache/colabfold:   9%|▊         | 305M/3.47G [00:15<02:26, 23.3MB/s]\rDownloading AlphaFold2-ptm weights to /root/.cache/colabfold:   9%|▊         | 309M/3.47G [00:15<02:26, 23.3MB/s]\rDownloading AlphaFold2-ptm weights to /root/.cache/colabfold:   9%|▉         | 312M/3.47G [00:15<02:25, 23.3MB/s]\rDownloading AlphaFold2-ptm weights to /root/.cache/colabfold:   9%|▉         | 316M/3.47G [00:15<02:25, 23.3MB/s]\rDownloading AlphaFold2-ptm weights to /root/.cache/colabfold:   9%|▉         | 320M/3.47G [00:15<02:25, 23.3MB/s]\rDownloading AlphaFold2-ptm weights to /root/.cache/colabfold:   9%|▉         | 323M/3.47G [00:16<02:25, 23.3MB/s]\rDownloading AlphaFold2-ptm weights to /root/.cache/colabfold:   9%|▉         | 327M/3.47G [00:16<02:25, 23.2MB/s]\rDownloading AlphaFold2-ptm weights to /root/.cache/colabfold:   9%|▉         | 331M/3.47G [00:16<02:25, 23.2MB/s]\rDownloading AlphaFold2-ptm weights to /root/.cache/colabfold:   9%|▉         | 334M/3.47G [00:16<02:25, 23.2MB/s]\rDownloading AlphaFold2-ptm weights to /root/.cache/colabfold:  10%|▉         | 338M/3.47G [00:16<02:24, 23.3MB/s]\rDownloading AlphaFold2-ptm weights to /root/.cache/colabfold:  10%|▉         | 342M/3.47G [00:16<02:33, 21.9MB/s]\rDownloading AlphaFold2-ptm weights to /root/.cache/colabfold:  10%|▉         | 344M/3.47G [00:17<02:52, 19.4MB/s]\rDownloading AlphaFold2-ptm weights to /root/.cache/colabfold:  10%|▉         | 346M/3.47G [00:17<03:13, 17.4MB/s]\rDownloading AlphaFold2-ptm weights to /root/.cache/colabfold:  10%|▉         | 349M/3.47G [00:17<02:54, 19.2MB/s]\rDownloading AlphaFold2-ptm weights to /root/.cache/colabfold:  10%|▉         | 353M/3.47G [00:17<02:44, 20.4MB/s]\rDownloading AlphaFold2-ptm weights to /root/.cache/colabfold:  10%|█         | 357M/3.47G [00:17<02:37, 21.2MB/s]\rDownloading AlphaFold2-ptm weights to /root/.cache/colabfold:  10%|█         | 360M/3.47G [00:17<02:32, 21.9MB/s]\rDownloading AlphaFold2-ptm weights to /root/.cache/colabfold:  10%|█         | 364M/3.47G [00:18<02:30, 22.3MB/s]\rDownloading AlphaFold2-ptm weights to /root/.cache/colabfold:  10%|█         | 367M/3.47G [00:18<02:27, 22.6MB/s]\rDownloading AlphaFold2-ptm weights to /root/.cache/colabfold:  10%|█         | 371M/3.47G [00:18<02:26, 22.8MB/s]\rDownloading AlphaFold2-ptm weights to /root/.cache/colabfold:  11%|█         | 375M/3.47G [00:18<02:25, 22.9MB/s]\rDownloading AlphaFold2-ptm weights to /root/.cache/colabfold:  11%|█         | 378M/3.47G [00:18<02:24, 23.0MB/s]\rDownloading AlphaFold2-ptm weights to /root/.cache/colabfold:  11%|█         | 382M/3.47G [00:18<02:23, 23.1MB/s]\rDownloading AlphaFold2-ptm weights to /root/.cache/colabfold:  11%|█         | 386M/3.47G [00:19<02:23, 23.2MB/s]\rDownloading AlphaFold2-ptm weights to /root/.cache/colabfold:  11%|█         | 389M/3.47G [00:19<02:22, 23.2MB/s]\rDownloading AlphaFold2-ptm weights to /root/.cache/colabfold:  11%|█         | 393M/3.47G [00:19<02:22, 23.2MB/s]\rDownloading AlphaFold2-ptm weights to /root/.cache/colabfold:  11%|█         | 397M/3.47G [00:19<02:22, 23.2MB/s]\rDownloading AlphaFold2-ptm weights to /root/.cache/colabfold:  11%|█▏        | 400M/3.47G [00:19<02:21, 23.3MB/s]\rDownloading AlphaFold2-ptm weights to /root/.cache/colabfold:  11%|█▏        | 404M/3.47G [00:19<02:21, 23.3MB/s]\rDownloading AlphaFold2-ptm weights to /root/.cache/colabfold:  11%|█▏        | 408M/3.47G [00:19<02:21, 23.3MB/s]\rDownloading AlphaFold2-ptm weights to /root/.cache/colabfold:  12%|█▏        | 411M/3.47G [00:20<02:21, 23.3MB/s]\rDownloading AlphaFold2-ptm weights to /root/.cache/colabfold:  12%|█▏        | 415M/3.47G [00:20<02:21, 23.2MB/s]\rDownloading AlphaFold2-ptm weights to /root/.cache/colabfold:  12%|█▏        | 419M/3.47G [00:20<02:20, 23.3MB/s]\rDownloading AlphaFold2-ptm weights to /root/.cache/colabfold:  12%|█▏        | 422M/3.47G [00:20<02:20, 23.3MB/s]\rDownloading AlphaFold2-ptm weights to /root/.cache/colabfold:  12%|█▏        | 426M/3.47G [00:20<02:20, 23.3MB/s]\rDownloading AlphaFold2-ptm weights to /root/.cache/colabfold:  12%|█▏        | 429M/3.47G [00:20<02:20, 23.3MB/s]\rDownloading AlphaFold2-ptm weights to /root/.cache/colabfold:  12%|█▏        | 433M/3.47G [00:21<02:20, 23.3MB/s]\rDownloading AlphaFold2-ptm weights to /root/.cache/colabfold:  12%|█▏        | 437M/3.47G [00:21<02:20, 23.3MB/s]\rDownloading AlphaFold2-ptm weights to /root/.cache/colabfold:  12%|█▏        | 440M/3.47G [00:21<02:20, 23.3MB/s]\rDownloading AlphaFold2-ptm weights to /root/.cache/colabfold:  13%|█▎        | 444M/3.47G [00:21<02:19, 23.3MB/s]\rDownloading AlphaFold2-ptm weights to /root/.cache/colabfold:  13%|█▎        | 448M/3.47G [00:21<02:19, 23.3MB/s]\rDownloading AlphaFold2-ptm weights to /root/.cache/colabfold:  13%|█▎        | 451M/3.47G [00:21<02:19, 23.3MB/s]\rDownloading AlphaFold2-ptm weights to /root/.cache/colabfold:  13%|█▎        | 455M/3.47G [00:22<02:19, 23.3MB/s]\rDownloading AlphaFold2-ptm weights to /root/.cache/colabfold:  13%|█▎        | 459M/3.47G [00:22<02:18, 23.3MB/s]\rDownloading AlphaFold2-ptm weights to /root/.cache/colabfold:  13%|█▎        | 462M/3.47G [00:22<02:18, 23.3MB/s]\rDownloading AlphaFold2-ptm weights to /root/.cache/colabfold:  13%|█▎        | 466M/3.47G [00:22<02:18, 23.3MB/s]\rDownloading AlphaFold2-ptm weights to /root/.cache/colabfold:  13%|█▎        | 470M/3.47G [00:22<02:18, 23.3MB/s]\rDownloading AlphaFold2-ptm weights to /root/.cache/colabfold:  13%|█▎        | 473M/3.47G [00:22<02:18, 23.3MB/s]\rDownloading AlphaFold2-ptm weights to /root/.cache/colabfold:  13%|█▎        | 477M/3.47G [00:23<02:18, 23.3MB/s]\rDownloading AlphaFold2-ptm weights to /root/.cache/colabfold:  14%|█▎        | 481M/3.47G [00:23<02:18, 23.3MB/s]\rDownloading AlphaFold2-ptm weights to /root/.cache/colabfold:  14%|█▎        | 484M/3.47G [00:23<02:25, 22.1MB/s]\rDownloading AlphaFold2-ptm weights to /root/.cache/colabfold:  14%|█▎        | 487M/3.47G [00:23<02:27, 21.7MB/s]\rDownloading AlphaFold2-ptm weights to /root/.cache/colabfold:  14%|█▍        | 491M/3.47G [00:23<02:24, 22.2MB/s]\rDownloading AlphaFold2-ptm weights to /root/.cache/colabfold:  14%|█▍        | 495M/3.47G [00:23<02:22, 22.5MB/s]\rDownloading AlphaFold2-ptm weights to /root/.cache/colabfold:  14%|█▍        | 498M/3.47G [00:24<02:20, 22.7MB/s]\rDownloading AlphaFold2-ptm weights to /root/.cache/colabfold:  14%|█▍        | 502M/3.47G [00:24<02:19, 22.8MB/s]\rDownloading AlphaFold2-ptm weights to /root/.cache/colabfold:  14%|█▍        | 506M/3.47G [00:24<02:19, 23.0MB/s]\rDownloading AlphaFold2-ptm weights to /root/.cache/colabfold:  14%|█▍        | 509M/3.47G [00:24<02:18, 23.1MB/s]\rDownloading AlphaFold2-ptm weights to /root/.cache/colabfold:  14%|█▍        | 513M/3.47G [00:24<02:17, 23.1MB/s]\rDownloading AlphaFold2-ptm weights to /root/.cache/colabfold:  15%|█▍        | 517M/3.47G [00:24<02:17, 23.2MB/s]\rDownloading AlphaFold2-ptm weights to /root/.cache/colabfold:  15%|█▍        | 519M/3.47G [00:25<02:38, 20.1MB/s]\rDownloading AlphaFold2-ptm weights to /root/.cache/colabfold:  15%|█▍        | 521M/3.47G [00:25<02:56, 17.9MB/s]\rDownloading AlphaFold2-ptm weights to /root/.cache/colabfold:  15%|█▍        | 523M/3.47G [00:25<03:12, 16.5MB/s]\rDownloading AlphaFold2-ptm weights to /root/.cache/colabfold:  15%|█▍        | 527M/3.47G [00:25<02:49, 18.7MB/s]\rDownloading AlphaFold2-ptm weights to /root/.cache/colabfold:  15%|█▍        | 530M/3.47G [00:25<02:38, 20.0MB/s]\rDownloading AlphaFold2-ptm weights to /root/.cache/colabfold:  15%|█▌        | 534M/3.47G [00:25<02:30, 21.0MB/s]\rDownloading AlphaFold2-ptm weights to /root/.cache/colabfold:  15%|█▌        | 538M/3.47G [00:26<02:25, 21.7MB/s]\rDownloading AlphaFold2-ptm weights to /root/.cache/colabfold:  15%|█▌        | 541M/3.47G [00:26<02:22, 22.2MB/s]\rDownloading AlphaFold2-ptm weights to /root/.cache/colabfold:  15%|█▌        | 545M/3.47G [00:26<02:19, 22.5MB/s]\rDownloading AlphaFold2-ptm weights to /root/.cache/colabfold:  15%|█▌        | 549M/3.47G [00:26<02:18, 22.7MB/s]\rDownloading AlphaFold2-ptm weights to /root/.cache/colabfold:  16%|█▌        | 552M/3.47G [00:26<02:17, 22.9MB/s]\rDownloading AlphaFold2-ptm weights to /root/.cache/colabfold:  16%|█▌        | 556M/3.47G [00:26<02:16, 23.0MB/s]\rDownloading AlphaFold2-ptm weights to /root/.cache/colabfold:  16%|█▌        | 560M/3.47G [00:27<02:15, 23.1MB/s]\rDownloading AlphaFold2-ptm weights to /root/.cache/colabfold:  16%|█▌        | 563M/3.47G [00:27<02:15, 23.2MB/s]\rDownloading AlphaFold2-ptm weights to /root/.cache/colabfold:  16%|█▌        | 567M/3.47G [00:27<02:15, 23.1MB/s]\rDownloading AlphaFold2-ptm weights to /root/.cache/colabfold:  16%|█▌        | 571M/3.47G [00:27<02:15, 23.1MB/s]\rDownloading AlphaFold2-ptm weights to /root/.cache/colabfold:  16%|█▌        | 574M/3.47G [00:27<02:14, 23.1MB/s]\rDownloading AlphaFold2-ptm weights to /root/.cache/colabfold:  16%|█▋        | 578M/3.47G [00:27<02:14, 23.2MB/s]\rDownloading AlphaFold2-ptm weights to /root/.cache/colabfold:  16%|█▋        | 582M/3.47G [00:28<02:14, 23.2MB/s]\rDownloading AlphaFold2-ptm weights to /root/.cache/colabfold:  16%|█▋        | 585M/3.47G [00:28<02:13, 23.3MB/s]\rDownloading AlphaFold2-ptm weights to /root/.cache/colabfold:  17%|█▋        | 589M/3.47G [00:28<02:13, 23.2MB/s]\rDownloading AlphaFold2-ptm weights to /root/.cache/colabfold:  17%|█▋        | 592M/3.47G [00:28<02:13, 23.3MB/s]\rDownloading AlphaFold2-ptm weights to /root/.cache/colabfold:  17%|█▋        | 596M/3.47G [00:28<02:13, 23.3MB/s]\rDownloading AlphaFold2-ptm weights to /root/.cache/colabfold:  17%|█▋        | 600M/3.47G [00:28<02:12, 23.3MB/s]\rDownloading AlphaFold2-ptm weights to /root/.cache/colabfold:  17%|█▋        | 603M/3.47G [00:29<02:13, 23.2MB/s]\rDownloading AlphaFold2-ptm weights to /root/.cache/colabfold:  17%|█▋        | 607M/3.47G [00:29<02:12, 23.3MB/s]\rDownloading AlphaFold2-ptm weights to /root/.cache/colabfold:  17%|█▋        | 611M/3.47G [00:29<02:19, 22.1MB/s]\rDownloading AlphaFold2-ptm weights to /root/.cache/colabfold:  17%|█▋        | 614M/3.47G [00:29<02:21, 21.7MB/s]\rDownloading AlphaFold2-ptm weights to /root/.cache/colabfold:  17%|█▋        | 618M/3.47G [00:29<02:18, 22.2MB/s]\rDownloading AlphaFold2-ptm weights to /root/.cache/colabfold:  17%|█▋        | 621M/3.47G [00:29<02:16, 22.5MB/s]\rDownloading AlphaFold2-ptm weights to /root/.cache/colabfold:  18%|█▊        | 625M/3.47G [00:30<02:14, 22.8MB/s]\rDownloading AlphaFold2-ptm weights to /root/.cache/colabfold:  18%|█▊        | 628M/3.47G [00:30<02:13, 22.9MB/s]\rDownloading AlphaFold2-ptm weights to /root/.cache/colabfold:  18%|█▊        | 632M/3.47G [00:30<02:13, 23.0MB/s]\rDownloading AlphaFold2-ptm weights to /root/.cache/colabfold:  18%|█▊        | 636M/3.47G [00:30<02:12, 23.1MB/s]\rDownloading AlphaFold2-ptm weights to /root/.cache/colabfold:  18%|█▊        | 639M/3.47G [00:30<02:11, 23.1MB/s]\rDownloading AlphaFold2-ptm weights to /root/.cache/colabfold:  18%|█▊        | 643M/3.47G [00:30<02:11, 23.2MB/s]\rDownloading AlphaFold2-ptm weights to /root/.cache/colabfold:  18%|█▊        | 647M/3.47G [00:31<02:11, 23.2MB/s]\rDownloading AlphaFold2-ptm weights to /root/.cache/colabfold:  18%|█▊        | 650M/3.47G [00:31<02:17, 22.1MB/s]\rDownloading AlphaFold2-ptm weights to /root/.cache/colabfold:  18%|█▊        | 652M/3.47G [00:31<02:34, 19.6MB/s]\rDownloading AlphaFold2-ptm weights to /root/.cache/colabfold:  18%|█▊        | 654M/3.47G [00:31<02:54, 17.4MB/s]\rDownloading AlphaFold2-ptm weights to /root/.cache/colabfold:  19%|█▊        | 658M/3.47G [00:31<02:37, 19.2MB/s]\rDownloading AlphaFold2-ptm weights to /root/.cache/colabfold:  19%|█▊        | 662M/3.47G [00:31<02:28, 20.4MB/s]\rDownloading AlphaFold2-ptm weights to /root/.cache/colabfold:  19%|█▊        | 665M/3.47G [00:32<02:22, 21.3MB/s]\rDownloading AlphaFold2-ptm weights to /root/.cache/colabfold:  19%|█▉        | 669M/3.47G [00:32<02:18, 21.9MB/s]\rDownloading AlphaFold2-ptm weights to /root/.cache/colabfold:  19%|█▉        | 673M/3.47G [00:32<02:15, 22.3MB/s]\rDownloading AlphaFold2-ptm weights to /root/.cache/colabfold:  19%|█▉        | 676M/3.47G [00:32<02:13, 22.6MB/s]\rDownloading AlphaFold2-ptm weights to /root/.cache/colabfold:  19%|█▉        | 680M/3.47G [00:32<02:12, 22.8MB/s]\rDownloading AlphaFold2-ptm weights to /root/.cache/colabfold:  19%|█▉        | 683M/3.47G [00:32<02:11, 22.9MB/s]\rDownloading AlphaFold2-ptm weights to /root/.cache/colabfold:  19%|█▉        | 687M/3.47G [00:33<02:10, 23.0MB/s]\rDownloading AlphaFold2-ptm weights to /root/.cache/colabfold:  19%|█▉        | 691M/3.47G [00:33<02:09, 23.1MB/s]\rDownloading AlphaFold2-ptm weights to /root/.cache/colabfold:  20%|█▉        | 694M/3.47G [00:33<02:09, 23.2MB/s]\rDownloading AlphaFold2-ptm weights to /root/.cache/colabfold:  20%|█▉        | 698M/3.47G [00:33<02:09, 23.2MB/s]\rDownloading AlphaFold2-ptm weights to /root/.cache/colabfold:  20%|█▉        | 702M/3.47G [00:33<02:08, 23.2MB/s]\rDownloading AlphaFold2-ptm weights to /root/.cache/colabfold:  20%|█▉        | 705M/3.47G [00:33<02:08, 23.2MB/s]\rDownloading AlphaFold2-ptm weights to /root/.cache/colabfold:  20%|█▉        | 709M/3.47G [00:34<02:08, 23.2MB/s]\rDownloading AlphaFold2-ptm weights to /root/.cache/colabfold:  20%|██        | 713M/3.47G [00:34<02:08, 23.1MB/s]\rDownloading AlphaFold2-ptm weights to /root/.cache/colabfold:  20%|██        | 716M/3.47G [00:34<02:08, 23.2MB/s]\rDownloading AlphaFold2-ptm weights to /root/.cache/colabfold:  20%|██        | 720M/3.47G [00:34<02:07, 23.2MB/s]\rDownloading AlphaFold2-ptm weights to /root/.cache/colabfold:  20%|██        | 723M/3.47G [00:34<02:07, 23.2MB/s]\rDownloading AlphaFold2-ptm weights to /root/.cache/colabfold:  20%|██        | 727M/3.47G [00:34<02:07, 23.2MB/s]\rDownloading AlphaFold2-ptm weights to /root/.cache/colabfold:  21%|██        | 731M/3.47G [00:35<02:07, 23.2MB/s]\rDownloading AlphaFold2-ptm weights to /root/.cache/colabfold:  21%|██        | 734M/3.47G [00:35<02:07, 23.2MB/s]\rDownloading AlphaFold2-ptm weights to /root/.cache/colabfold:  21%|██        | 738M/3.47G [00:35<02:06, 23.2MB/s]\rDownloading AlphaFold2-ptm weights to /root/.cache/colabfold:  21%|██        | 742M/3.47G [00:35<02:07, 23.1MB/s]\rDownloading AlphaFold2-ptm weights to /root/.cache/colabfold:  21%|██        | 745M/3.47G [00:35<02:06, 23.2MB/s]\rDownloading AlphaFold2-ptm weights to /root/.cache/colabfold:  21%|██        | 749M/3.47G [00:35<02:06, 23.2MB/s]\rDownloading AlphaFold2-ptm weights to /root/.cache/colabfold:  21%|██        | 753M/3.47G [00:36<02:06, 23.2MB/s]\rDownloading AlphaFold2-ptm weights to /root/.cache/colabfold:  21%|██▏       | 756M/3.47G [00:36<02:05, 23.3MB/s]\rDownloading AlphaFold2-ptm weights to /root/.cache/colabfold:  21%|██▏       | 760M/3.47G [00:36<02:05, 23.2MB/s]\rDownloading AlphaFold2-ptm weights to /root/.cache/colabfold:  22%|██▏       | 763M/3.47G [00:36<02:13, 21.9MB/s]\rDownloading AlphaFold2-ptm weights to /root/.cache/colabfold:  22%|██▏       | 767M/3.47G [00:36<02:15, 21.6MB/s]\rDownloading AlphaFold2-ptm weights to /root/.cache/colabfold:  22%|██▏       | 770M/3.47G [00:36<02:11, 22.1MB/s]\rDownloading AlphaFold2-ptm weights to /root/.cache/colabfold:  22%|██▏       | 774M/3.47G [00:37<02:09, 22.4MB/s]\rDownloading AlphaFold2-ptm weights to /root/.cache/colabfold:  22%|██▏       | 778M/3.47G [00:37<02:08, 22.7MB/s]\rDownloading AlphaFold2-ptm weights to /root/.cache/colabfold:  22%|██▏       | 781M/3.47G [00:37<02:07, 22.8MB/s]\rDownloading AlphaFold2-ptm weights to /root/.cache/colabfold:  22%|██▏       | 785M/3.47G [00:37<02:06, 23.0MB/s]\rDownloading AlphaFold2-ptm weights to /root/.cache/colabfold:  22%|██▏       | 789M/3.47G [00:37<02:06, 22.8MB/s]\rDownloading AlphaFold2-ptm weights to /root/.cache/colabfold:  22%|██▏       | 792M/3.47G [00:37<02:05, 23.1MB/s]\rDownloading AlphaFold2-ptm weights to /root/.cache/colabfold:  22%|██▏       | 796M/3.47G [00:38<02:04, 23.2MB/s]\rDownloading AlphaFold2-ptm weights to /root/.cache/colabfold:  23%|██▎       | 799M/3.47G [00:38<02:04, 23.2MB/s]\rDownloading AlphaFold2-ptm weights to /root/.cache/colabfold:  23%|██▎       | 803M/3.47G [00:38<02:04, 23.2MB/s]\rDownloading AlphaFold2-ptm weights to /root/.cache/colabfold:  23%|██▎       | 807M/3.47G [00:38<02:03, 23.2MB/s]\rDownloading AlphaFold2-ptm weights to /root/.cache/colabfold:  23%|██▎       | 810M/3.47G [00:38<02:03, 23.2MB/s]\rDownloading AlphaFold2-ptm weights to /root/.cache/colabfold:  23%|██▎       | 814M/3.47G [00:38<02:03, 23.3MB/s]\rDownloading AlphaFold2-ptm weights to /root/.cache/colabfold:  23%|██▎       | 818M/3.47G [00:39<02:03, 23.3MB/s]\rDownloading AlphaFold2-ptm weights to /root/.cache/colabfold:  23%|██▎       | 821M/3.47G [00:39<02:03, 23.3MB/s]\rDownloading AlphaFold2-ptm weights to /root/.cache/colabfold:  23%|██▎       | 825M/3.47G [00:39<02:02, 23.3MB/s]\rDownloading AlphaFold2-ptm weights to /root/.cache/colabfold:  23%|██▎       | 829M/3.47G [00:39<02:02, 23.3MB/s]\rDownloading AlphaFold2-ptm weights to /root/.cache/colabfold:  23%|██▎       | 832M/3.47G [00:39<02:02, 23.3MB/s]\rDownloading AlphaFold2-ptm weights to /root/.cache/colabfold:  24%|██▎       | 836M/3.47G [00:39<02:02, 23.3MB/s]\rDownloading AlphaFold2-ptm weights to /root/.cache/colabfold:  24%|██▎       | 840M/3.47G [00:40<02:02, 23.3MB/s]\rDownloading AlphaFold2-ptm weights to /root/.cache/colabfold:  24%|██▎       | 843M/3.47G [00:40<02:02, 23.3MB/s]\rDownloading AlphaFold2-ptm weights to /root/.cache/colabfold:  24%|██▍       | 847M/3.47G [00:40<02:01, 23.3MB/s]\rDownloading AlphaFold2-ptm weights to /root/.cache/colabfold:  24%|██▍       | 850M/3.47G [00:40<02:01, 23.3MB/s]\rDownloading AlphaFold2-ptm weights to /root/.cache/colabfold:  24%|██▍       | 854M/3.47G [00:40<02:07, 22.2MB/s]\rDownloading AlphaFold2-ptm weights to /root/.cache/colabfold:  24%|██▍       | 856M/3.47G [00:40<02:23, 19.7MB/s]\rDownloading AlphaFold2-ptm weights to /root/.cache/colabfold:  24%|██▍       | 858M/3.47G [00:41<02:41, 17.5MB/s]\rDownloading AlphaFold2-ptm weights to /root/.cache/colabfold:  24%|██▍       | 862M/3.47G [00:41<02:26, 19.3MB/s]\rDownloading AlphaFold2-ptm weights to /root/.cache/colabfold:  24%|██▍       | 865M/3.47G [00:41<02:17, 20.5MB/s]\rDownloading AlphaFold2-ptm weights to /root/.cache/colabfold:  24%|██▍       | 869M/3.47G [00:41<02:12, 21.3MB/s]\rDownloading AlphaFold2-ptm weights to /root/.cache/colabfold:  25%|██▍       | 873M/3.47G [00:41<02:08, 21.9MB/s]\rDownloading AlphaFold2-ptm weights to /root/.cache/colabfold:  25%|██▍       | 876M/3.47G [00:41<02:05, 22.3MB/s]\rDownloading AlphaFold2-ptm weights to /root/.cache/colabfold:  25%|██▍       | 880M/3.47G [00:42<02:03, 22.6MB/s]\rDownloading AlphaFold2-ptm weights to /root/.cache/colabfold:  25%|██▍       | 884M/3.47G [00:42<02:02, 22.8MB/s]\rDownloading AlphaFold2-ptm weights to /root/.cache/colabfold:  25%|██▍       | 887M/3.47G [00:42<02:07, 22.0MB/s]\rDownloading AlphaFold2-ptm weights to /root/.cache/colabfold:  25%|██▌       | 891M/3.47G [00:42<02:08, 21.6MB/s]\rDownloading AlphaFold2-ptm weights to /root/.cache/colabfold:  25%|██▌       | 894M/3.47G [00:42<02:05, 22.1MB/s]\rDownloading AlphaFold2-ptm weights to /root/.cache/colabfold:  25%|██▌       | 898M/3.47G [00:42<02:03, 22.5MB/s]\rDownloading AlphaFold2-ptm weights to /root/.cache/colabfold:  25%|██▌       | 901M/3.47G [00:43<02:02, 22.7MB/s]\rDownloading AlphaFold2-ptm weights to /root/.cache/colabfold:  25%|██▌       | 905M/3.47G [00:43<02:01, 22.9MB/s]\rDownloading AlphaFold2-ptm weights to /root/.cache/colabfold:  26%|██▌       | 909M/3.47G [00:43<02:00, 23.0MB/s]\rDownloading AlphaFold2-ptm weights to /root/.cache/colabfold:  26%|██▌       | 912M/3.47G [00:43<02:00, 23.0MB/s]\rDownloading AlphaFold2-ptm weights to /root/.cache/colabfold:  26%|██▌       | 916M/3.47G [00:43<01:59, 23.2MB/s]\rDownloading AlphaFold2-ptm weights to /root/.cache/colabfold:  26%|██▌       | 920M/3.47G [00:43<01:59, 23.2MB/s]\rDownloading AlphaFold2-ptm weights to /root/.cache/colabfold:  26%|██▌       | 923M/3.47G [00:43<01:59, 23.1MB/s]\rDownloading AlphaFold2-ptm weights to /root/.cache/colabfold:  26%|██▌       | 927M/3.47G [00:44<01:58, 23.2MB/s]\rDownloading AlphaFold2-ptm weights to /root/.cache/colabfold:  26%|██▌       | 931M/3.47G [00:44<01:58, 23.2MB/s]\rDownloading AlphaFold2-ptm weights to /root/.cache/colabfold:  26%|██▋       | 934M/3.47G [00:44<01:58, 23.2MB/s]\rDownloading AlphaFold2-ptm weights to /root/.cache/colabfold:  26%|██▋       | 938M/3.47G [00:44<01:57, 23.2MB/s]\rDownloading AlphaFold2-ptm weights to /root/.cache/colabfold:  27%|██▋       | 941M/3.47G [00:44<01:57, 23.2MB/s]\rDownloading AlphaFold2-ptm weights to /root/.cache/colabfold:  27%|██▋       | 945M/3.47G [00:44<01:57, 23.2MB/s]\rDownloading AlphaFold2-ptm weights to /root/.cache/colabfold:  27%|██▋       | 949M/3.47G [00:45<01:57, 23.2MB/s]\rDownloading AlphaFold2-ptm weights to /root/.cache/colabfold:  27%|██▋       | 952M/3.47G [00:45<01:57, 23.2MB/s]\rDownloading AlphaFold2-ptm weights to /root/.cache/colabfold:  27%|██▋       | 956M/3.47G [00:45<01:56, 23.3MB/s]\rDownloading AlphaFold2-ptm weights to /root/.cache/colabfold:  27%|██▋       | 960M/3.47G [00:45<01:56, 23.2MB/s]\rDownloading AlphaFold2-ptm weights to /root/.cache/colabfold:  27%|██▋       | 963M/3.47G [00:45<01:56, 23.3MB/s]\rDownloading AlphaFold2-ptm weights to /root/.cache/colabfold:  27%|██▋       | 967M/3.47G [00:45<01:56, 23.3MB/s]\rDownloading AlphaFold2-ptm weights to /root/.cache/colabfold:  27%|██▋       | 971M/3.47G [00:46<01:56, 23.3MB/s]\rDownloading AlphaFold2-ptm weights to /root/.cache/colabfold:  27%|██▋       | 974M/3.47G [00:46<01:55, 23.3MB/s]\rDownloading AlphaFold2-ptm weights to /root/.cache/colabfold:  28%|██▊       | 978M/3.47G [00:46<01:55, 23.3MB/s]\rDownloading AlphaFold2-ptm weights to /root/.cache/colabfold:  28%|██▊       | 981M/3.47G [00:46<01:55, 23.3MB/s]\rDownloading AlphaFold2-ptm weights to /root/.cache/colabfold:  28%|██▊       | 985M/3.47G [00:46<01:55, 23.3MB/s]\rDownloading AlphaFold2-ptm weights to /root/.cache/colabfold:  28%|██▊       | 989M/3.47G [00:46<01:55, 23.3MB/s]\rDownloading AlphaFold2-ptm weights to /root/.cache/colabfold:  28%|██▊       | 992M/3.47G [00:47<01:55, 23.3MB/s]\rDownloading AlphaFold2-ptm weights to /root/.cache/colabfold:  28%|██▊       | 996M/3.47G [00:47<01:55, 23.3MB/s]\rDownloading AlphaFold2-ptm weights to /root/.cache/colabfold:  28%|██▊       | 0.98G/3.47G [00:47<02:01, 22.1MB/s]\rDownloading AlphaFold2-ptm weights to /root/.cache/colabfold:  28%|██▊       | 0.98G/3.47G [00:47<02:16, 19.6MB/s]\rDownloading AlphaFold2-ptm weights to /root/.cache/colabfold:  28%|██▊       | 0.98G/3.47G [00:47<02:33, 17.4MB/s]\rDownloading AlphaFold2-ptm weights to /root/.cache/colabfold:  28%|██▊       | 0.98G/3.47G [00:47<02:18, 19.3MB/s]\rDownloading AlphaFold2-ptm weights to /root/.cache/colabfold:  28%|██▊       | 0.99G/3.47G [00:48<02:10, 20.4MB/s]\rDownloading AlphaFold2-ptm weights to /root/.cache/colabfold:  29%|██▊       | 0.99G/3.47G [00:48<02:04, 21.3MB/s]\rDownloading AlphaFold2-ptm weights to /root/.cache/colabfold:  29%|██▊       | 0.99G/3.47G [00:48<02:01, 21.8MB/s]\rDownloading AlphaFold2-ptm weights to /root/.cache/colabfold:  29%|██▉       | 1.00G/3.47G [00:48<01:58, 22.3MB/s]\rDownloading AlphaFold2-ptm weights to /root/.cache/colabfold:  29%|██▉       | 1.00G/3.47G [00:48<01:57, 22.6MB/s]\rDownloading AlphaFold2-ptm weights to /root/.cache/colabfold:  29%|██▉       | 1.01G/3.47G [00:48<01:56, 22.7MB/s]\rDownloading AlphaFold2-ptm weights to /root/.cache/colabfold:  29%|██▉       | 1.01G/3.47G [00:49<01:55, 22.9MB/s]\rDownloading AlphaFold2-ptm weights to /root/.cache/colabfold:  29%|██▉       | 1.01G/3.47G [00:49<01:54, 23.0MB/s]\rDownloading AlphaFold2-ptm weights to /root/.cache/colabfold:  29%|██▉       | 1.02G/3.47G [00:49<01:54, 23.1MB/s]\rDownloading AlphaFold2-ptm weights to /root/.cache/colabfold:  29%|██▉       | 1.02G/3.47G [00:49<01:53, 23.1MB/s]\rDownloading AlphaFold2-ptm weights to /root/.cache/colabfold:  30%|██▉       | 1.02G/3.47G [00:49<01:53, 23.1MB/s]\rDownloading AlphaFold2-ptm weights to /root/.cache/colabfold:  30%|██▉       | 1.03G/3.47G [00:49<01:53, 23.1MB/s]\rDownloading AlphaFold2-ptm weights to /root/.cache/colabfold:  30%|██▉       | 1.03G/3.47G [00:50<01:52, 23.2MB/s]\rDownloading AlphaFold2-ptm weights to /root/.cache/colabfold:  30%|██▉       | 1.03G/3.47G [00:50<01:52, 23.2MB/s]\rDownloading AlphaFold2-ptm weights to /root/.cache/colabfold:  30%|██▉       | 1.04G/3.47G [00:50<01:58, 22.0MB/s]\rDownloading AlphaFold2-ptm weights to /root/.cache/colabfold:  30%|███       | 1.04G/3.47G [00:50<02:00, 21.7MB/s]\rDownloading AlphaFold2-ptm weights to /root/.cache/colabfold:  30%|███       | 1.04G/3.47G [00:50<01:57, 22.2MB/s]\rDownloading AlphaFold2-ptm weights to /root/.cache/colabfold:  30%|███       | 1.05G/3.47G [00:50<01:55, 22.5MB/s]\rDownloading AlphaFold2-ptm weights to /root/.cache/colabfold:  30%|███       | 1.05G/3.47G [00:51<01:54, 22.7MB/s]\rDownloading AlphaFold2-ptm weights to /root/.cache/colabfold:  30%|███       | 1.05G/3.47G [00:51<01:53, 22.9MB/s]\rDownloading AlphaFold2-ptm weights to /root/.cache/colabfold:  31%|███       | 1.06G/3.47G [00:51<01:52, 23.0MB/s]\rDownloading AlphaFold2-ptm weights to /root/.cache/colabfold:  31%|███       | 1.06G/3.47G [00:51<01:52, 23.0MB/s]\rDownloading AlphaFold2-ptm weights to /root/.cache/colabfold:  31%|███       | 1.07G/3.47G [00:51<01:51, 23.1MB/s]\rDownloading AlphaFold2-ptm weights to /root/.cache/colabfold:  31%|███       | 1.07G/3.47G [00:51<01:51, 23.1MB/s]\rDownloading AlphaFold2-ptm weights to /root/.cache/colabfold:  31%|███       | 1.07G/3.47G [00:52<01:50, 23.2MB/s]\rDownloading AlphaFold2-ptm weights to /root/.cache/colabfold:  31%|███       | 1.08G/3.47G [00:52<01:50, 23.2MB/s]\rDownloading AlphaFold2-ptm weights to /root/.cache/colabfold:  31%|███       | 1.08G/3.47G [00:52<01:50, 23.2MB/s]\rDownloading AlphaFold2-ptm weights to /root/.cache/colabfold:  31%|███       | 1.08G/3.47G [00:52<01:50, 23.2MB/s]\rDownloading AlphaFold2-ptm weights to /root/.cache/colabfold:  31%|███▏      | 1.09G/3.47G [00:52<01:49, 23.3MB/s]\rDownloading AlphaFold2-ptm weights to /root/.cache/colabfold:  31%|███▏      | 1.09G/3.47G [00:52<01:49, 23.3MB/s]\rDownloading AlphaFold2-ptm weights to /root/.cache/colabfold:  32%|███▏      | 1.09G/3.47G [00:53<01:49, 23.3MB/s]\rDownloading AlphaFold2-ptm weights to /root/.cache/colabfold:  32%|███▏      | 1.10G/3.47G [00:53<01:49, 23.3MB/s]\rDownloading AlphaFold2-ptm weights to /root/.cache/colabfold:  32%|███▏      | 1.10G/3.47G [00:53<01:49, 23.2MB/s]\rDownloading AlphaFold2-ptm weights to /root/.cache/colabfold:  32%|███▏      | 1.10G/3.47G [00:53<01:49, 23.2MB/s]\rDownloading AlphaFold2-ptm weights to /root/.cache/colabfold:  32%|███▏      | 1.11G/3.47G [00:53<01:48, 23.3MB/s]\rDownloading AlphaFold2-ptm weights to /root/.cache/colabfold:  32%|███▏      | 1.11G/3.47G [00:53<01:48, 23.3MB/s]\rDownloading AlphaFold2-ptm weights to /root/.cache/colabfold:  32%|███▏      | 1.12G/3.47G [00:54<01:48, 23.3MB/s]\rDownloading AlphaFold2-ptm weights to /root/.cache/colabfold:  32%|███▏      | 1.12G/3.47G [00:54<01:48, 23.3MB/s]\rDownloading AlphaFold2-ptm weights to /root/.cache/colabfold:  32%|███▏      | 1.12G/3.47G [00:54<01:47, 23.3MB/s]\rDownloading AlphaFold2-ptm weights to /root/.cache/colabfold:  32%|███▏      | 1.13G/3.47G [00:54<01:47, 23.3MB/s]\rDownloading AlphaFold2-ptm weights to /root/.cache/colabfold:  33%|███▎      | 1.13G/3.47G [00:54<01:47, 23.3MB/s]\rDownloading AlphaFold2-ptm weights to /root/.cache/colabfold:  33%|███▎      | 1.13G/3.47G [00:54<01:48, 23.1MB/s]\rDownloading AlphaFold2-ptm weights to /root/.cache/colabfold:  33%|███▎      | 1.14G/3.47G [00:55<01:47, 23.2MB/s]\rDownloading AlphaFold2-ptm weights to /root/.cache/colabfold:  33%|███▎      | 1.14G/3.47G [00:55<01:47, 23.2MB/s]\rDownloading AlphaFold2-ptm weights to /root/.cache/colabfold:  33%|███▎      | 1.14G/3.47G [00:55<01:47, 23.3MB/s]\rDownloading AlphaFold2-ptm weights to /root/.cache/colabfold:  33%|███▎      | 1.15G/3.47G [00:55<01:47, 23.3MB/s]\rDownloading AlphaFold2-ptm weights to /root/.cache/colabfold:  33%|███▎      | 1.15G/3.47G [00:55<01:46, 23.3MB/s]\rDownloading AlphaFold2-ptm weights to /root/.cache/colabfold:  33%|███▎      | 1.15G/3.47G [00:55<01:46, 23.3MB/s]\rDownloading AlphaFold2-ptm weights to /root/.cache/colabfold:  33%|███▎      | 1.16G/3.47G [00:56<01:46, 23.3MB/s]\rDownloading AlphaFold2-ptm weights to /root/.cache/colabfold:  33%|███▎      | 1.16G/3.47G [00:56<01:46, 23.3MB/s]\rDownloading AlphaFold2-ptm weights to /root/.cache/colabfold:  34%|███▎      | 1.16G/3.47G [00:56<01:46, 23.3MB/s]\rDownloading AlphaFold2-ptm weights to /root/.cache/colabfold:  34%|███▎      | 1.17G/3.47G [00:56<01:46, 23.2MB/s]\rDownloading AlphaFold2-ptm weights to /root/.cache/colabfold:  34%|███▍      | 1.17G/3.47G [00:56<01:45, 23.3MB/s]\rDownloading AlphaFold2-ptm weights to /root/.cache/colabfold:  34%|███▍      | 1.18G/3.47G [00:56<01:45, 23.3MB/s]\rDownloading AlphaFold2-ptm weights to /root/.cache/colabfold:  34%|███▍      | 1.18G/3.47G [00:57<01:45, 23.3MB/s]\rDownloading AlphaFold2-ptm weights to /root/.cache/colabfold:  34%|███▍      | 1.18G/3.47G [00:57<01:45, 23.3MB/s]\rDownloading AlphaFold2-ptm weights to /root/.cache/colabfold:  34%|███▍      | 1.19G/3.47G [00:57<01:45, 23.2MB/s]\rDownloading AlphaFold2-ptm weights to /root/.cache/colabfold:  34%|███▍      | 1.19G/3.47G [00:57<01:45, 23.3MB/s]\rDownloading AlphaFold2-ptm weights to /root/.cache/colabfold:  34%|███▍      | 1.19G/3.47G [00:57<01:44, 23.3MB/s]\rDownloading AlphaFold2-ptm weights to /root/.cache/colabfold:  35%|███▍      | 1.20G/3.47G [00:57<01:44, 23.3MB/s]\rDownloading AlphaFold2-ptm weights to /root/.cache/colabfold:  35%|███▍      | 1.20G/3.47G [00:58<01:44, 23.3MB/s]\rDownloading AlphaFold2-ptm weights to /root/.cache/colabfold:  35%|███▍      | 1.20G/3.47G [00:58<01:44, 23.3MB/s]\rDownloading AlphaFold2-ptm weights to /root/.cache/colabfold:  35%|███▍      | 1.21G/3.47G [00:58<01:51, 21.8MB/s]\rDownloading AlphaFold2-ptm weights to /root/.cache/colabfold:  35%|███▍      | 1.21G/3.47G [00:58<02:05, 19.3MB/s]\rDownloading AlphaFold2-ptm weights to /root/.cache/colabfold:  35%|███▍      | 1.21G/3.47G [00:58<02:20, 17.3MB/s]\rDownloading AlphaFold2-ptm weights to /root/.cache/colabfold:  35%|███▌      | 1.22G/3.47G [00:58<02:06, 19.2MB/s]\rDownloading AlphaFold2-ptm weights to /root/.cache/colabfold:  35%|███▌      | 1.22G/3.47G [00:59<01:58, 20.4MB/s]\rDownloading AlphaFold2-ptm weights to /root/.cache/colabfold:  35%|███▌      | 1.22G/3.47G [00:59<01:53, 21.2MB/s]\rDownloading AlphaFold2-ptm weights to /root/.cache/colabfold:  35%|███▌      | 1.23G/3.47G [00:59<01:50, 21.9MB/s]\rDownloading AlphaFold2-ptm weights to /root/.cache/colabfold:  35%|███▌      | 1.23G/3.47G [00:59<01:47, 22.3MB/s]\rDownloading AlphaFold2-ptm weights to /root/.cache/colabfold:  36%|███▌      | 1.23G/3.47G [00:59<01:46, 22.5MB/s]\rDownloading AlphaFold2-ptm weights to /root/.cache/colabfold:  36%|███▌      | 1.24G/3.47G [00:59<01:45, 22.8MB/s]\rDownloading AlphaFold2-ptm weights to /root/.cache/colabfold:  36%|███▌      | 1.24G/3.47G [01:00<01:44, 22.9MB/s]\rDownloading AlphaFold2-ptm weights to /root/.cache/colabfold:  36%|███▌      | 1.24G/3.47G [01:00<01:43, 23.0MB/s]\rDownloading AlphaFold2-ptm weights to /root/.cache/colabfold:  36%|███▌      | 1.25G/3.47G [01:00<01:43, 23.1MB/s]\rDownloading AlphaFold2-ptm weights to /root/.cache/colabfold:  36%|███▌      | 1.25G/3.47G [01:00<01:42, 23.1MB/s]\rDownloading AlphaFold2-ptm weights to /root/.cache/colabfold:  36%|███▌      | 1.25G/3.47G [01:00<01:42, 23.2MB/s]\rDownloading AlphaFold2-ptm weights to /root/.cache/colabfold:  36%|███▋      | 1.26G/3.47G [01:00<01:42, 23.2MB/s]\rDownloading AlphaFold2-ptm weights to /root/.cache/colabfold:  36%|███▋      | 1.26G/3.47G [01:01<01:41, 23.2MB/s]\rDownloading AlphaFold2-ptm weights to /root/.cache/colabfold:  36%|███▋      | 1.27G/3.47G [01:01<01:41, 23.3MB/s]\rDownloading AlphaFold2-ptm weights to /root/.cache/colabfold:  37%|███▋      | 1.27G/3.47G [01:01<01:41, 23.3MB/s]\rDownloading AlphaFold2-ptm weights to /root/.cache/colabfold:  37%|███▋      | 1.27G/3.47G [01:01<01:41, 23.3MB/s]\rDownloading AlphaFold2-ptm weights to /root/.cache/colabfold:  37%|███▋      | 1.28G/3.47G [01:01<01:40, 23.3MB/s]\rDownloading AlphaFold2-ptm weights to /root/.cache/colabfold:  37%|███▋      | 1.28G/3.47G [01:01<01:40, 23.3MB/s]\rDownloading AlphaFold2-ptm weights to /root/.cache/colabfold:  37%|███▋      | 1.28G/3.47G [01:01<01:40, 23.3MB/s]\rDownloading AlphaFold2-ptm weights to /root/.cache/colabfold:  37%|███▋      | 1.29G/3.47G [01:02<01:40, 23.3MB/s]\rDownloading AlphaFold2-ptm weights to /root/.cache/colabfold:  37%|███▋      | 1.29G/3.47G [01:02<01:40, 23.3MB/s]\rDownloading AlphaFold2-ptm weights to /root/.cache/colabfold:  37%|███▋      | 1.29G/3.47G [01:02<01:40, 23.3MB/s]\rDownloading AlphaFold2-ptm weights to /root/.cache/colabfold:  37%|███▋      | 1.30G/3.47G [01:02<01:39, 23.3MB/s]\rDownloading AlphaFold2-ptm weights to /root/.cache/colabfold:  38%|███▊      | 1.30G/3.47G [01:02<01:40, 23.2MB/s]\rDownloading AlphaFold2-ptm weights to /root/.cache/colabfold:  38%|███▊      | 1.30G/3.47G [01:02<01:39, 23.3MB/s]\rDownloading AlphaFold2-ptm weights to /root/.cache/colabfold:  38%|███▊      | 1.31G/3.47G [01:03<01:39, 23.3MB/s]\rDownloading AlphaFold2-ptm weights to /root/.cache/colabfold:  38%|███▊      | 1.31G/3.47G [01:03<01:39, 23.3MB/s]\rDownloading AlphaFold2-ptm weights to /root/.cache/colabfold:  38%|███▊      | 1.31G/3.47G [01:03<01:39, 23.2MB/s]\rDownloading AlphaFold2-ptm weights to /root/.cache/colabfold:  38%|███▊      | 1.32G/3.47G [01:03<01:48, 21.2MB/s]\rDownloading AlphaFold2-ptm weights to /root/.cache/colabfold:  38%|███▊      | 1.32G/3.47G [01:03<01:49, 21.1MB/s]\rDownloading AlphaFold2-ptm weights to /root/.cache/colabfold:  38%|███▊      | 1.32G/3.47G [01:03<01:45, 21.8MB/s]\rDownloading AlphaFold2-ptm weights to /root/.cache/colabfold:  38%|███▊      | 1.33G/3.47G [01:04<01:43, 22.2MB/s]\rDownloading AlphaFold2-ptm weights to /root/.cache/colabfold:  38%|███▊      | 1.33G/3.47G [01:04<01:41, 22.5MB/s]\rDownloading AlphaFold2-ptm weights to /root/.cache/colabfold:  39%|███▊      | 1.34G/3.47G [01:04<01:40, 22.7MB/s]\rDownloading AlphaFold2-ptm weights to /root/.cache/colabfold:  39%|███▊      | 1.34G/3.47G [01:04<01:39, 22.9MB/s]\rDownloading AlphaFold2-ptm weights to /root/.cache/colabfold:  39%|███▊      | 1.34G/3.47G [01:04<01:39, 23.0MB/s]\rDownloading AlphaFold2-ptm weights to /root/.cache/colabfold:  39%|███▉      | 1.35G/3.47G [01:04<01:43, 22.0MB/s]\rDownloading AlphaFold2-ptm weights to /root/.cache/colabfold:  39%|███▉      | 1.35G/3.47G [01:05<01:56, 19.5MB/s]\rDownloading AlphaFold2-ptm weights to /root/.cache/colabfold:  39%|███▉      | 1.35G/3.47G [01:05<02:11, 17.4MB/s]\rDownloading AlphaFold2-ptm weights to /root/.cache/colabfold:  39%|███▉      | 1.35G/3.47G [01:05<01:58, 19.2MB/s]\rDownloading AlphaFold2-ptm weights to /root/.cache/colabfold:  39%|███▉      | 1.36G/3.47G [01:05<01:51, 20.4MB/s]\rDownloading AlphaFold2-ptm weights to /root/.cache/colabfold:  39%|███▉      | 1.36G/3.47G [01:05<01:46, 21.2MB/s]\rDownloading AlphaFold2-ptm weights to /root/.cache/colabfold:  39%|███▉      | 1.36G/3.47G [01:05<01:43, 21.8MB/s]\rDownloading AlphaFold2-ptm weights to /root/.cache/colabfold:  39%|███▉      | 1.37G/3.47G [01:06<01:41, 22.2MB/s]\rDownloading AlphaFold2-ptm weights to /root/.cache/colabfold:  40%|███▉      | 1.37G/3.47G [01:06<01:39, 22.5MB/s]\rDownloading AlphaFold2-ptm weights to /root/.cache/colabfold:  40%|███▉      | 1.37G/3.47G [01:06<01:38, 22.7MB/s]\rDownloading AlphaFold2-ptm weights to /root/.cache/colabfold:  40%|███▉      | 1.38G/3.47G [01:06<01:37, 22.9MB/s]\rDownloading AlphaFold2-ptm weights to /root/.cache/colabfold:  40%|███▉      | 1.38G/3.47G [01:06<01:37, 23.0MB/s]\rDownloading AlphaFold2-ptm weights to /root/.cache/colabfold:  40%|███▉      | 1.39G/3.47G [01:06<01:36, 23.1MB/s]\rDownloading AlphaFold2-ptm weights to /root/.cache/colabfold:  40%|████      | 1.39G/3.47G [01:07<01:36, 23.1MB/s]\rDownloading AlphaFold2-ptm weights to /root/.cache/colabfold:  40%|████      | 1.39G/3.47G [01:07<01:36, 23.2MB/s]\rDownloading AlphaFold2-ptm weights to /root/.cache/colabfold:  40%|████      | 1.40G/3.47G [01:07<01:36, 23.1MB/s]\rDownloading AlphaFold2-ptm weights to /root/.cache/colabfold:  40%|████      | 1.40G/3.47G [01:07<01:35, 23.2MB/s]\rDownloading AlphaFold2-ptm weights to /root/.cache/colabfold:  40%|████      | 1.40G/3.47G [01:07<01:35, 23.2MB/s]\rDownloading AlphaFold2-ptm weights to /root/.cache/colabfold:  41%|████      | 1.41G/3.47G [01:07<01:35, 23.2MB/s]\rDownloading AlphaFold2-ptm weights to /root/.cache/colabfold:  41%|████      | 1.41G/3.47G [01:08<01:35, 23.2MB/s]\rDownloading AlphaFold2-ptm weights to /root/.cache/colabfold:  41%|████      | 1.41G/3.47G [01:08<01:35, 23.2MB/s]\rDownloading AlphaFold2-ptm weights to /root/.cache/colabfold:  41%|████      | 1.42G/3.47G [01:08<01:34, 23.2MB/s]\rDownloading AlphaFold2-ptm weights to /root/.cache/colabfold:  41%|████      | 1.42G/3.47G [01:08<01:34, 23.2MB/s]\rDownloading AlphaFold2-ptm weights to /root/.cache/colabfold:  41%|████      | 1.42G/3.47G [01:08<01:34, 23.2MB/s]\rDownloading AlphaFold2-ptm weights to /root/.cache/colabfold:  41%|████      | 1.43G/3.47G [01:08<01:34, 23.1MB/s]\rDownloading AlphaFold2-ptm weights to /root/.cache/colabfold:  41%|████▏     | 1.43G/3.47G [01:09<01:34, 23.2MB/s]\rDownloading AlphaFold2-ptm weights to /root/.cache/colabfold:  41%|████▏     | 1.43G/3.47G [01:09<01:34, 23.2MB/s]\rDownloading AlphaFold2-ptm weights to /root/.cache/colabfold:  41%|████▏     | 1.44G/3.47G [01:09<01:33, 23.2MB/s]\rDownloading AlphaFold2-ptm weights to /root/.cache/colabfold:  42%|████▏     | 1.44G/3.47G [01:09<01:33, 23.2MB/s]\rDownloading AlphaFold2-ptm weights to /root/.cache/colabfold:  42%|████▏     | 1.45G/3.47G [01:09<01:33, 23.2MB/s]\rDownloading AlphaFold2-ptm weights to /root/.cache/colabfold:  42%|████▏     | 1.45G/3.47G [01:09<01:33, 23.2MB/s]\rDownloading AlphaFold2-ptm weights to /root/.cache/colabfold:  42%|████▏     | 1.45G/3.47G [01:10<01:33, 23.2MB/s]\rDownloading AlphaFold2-ptm weights to /root/.cache/colabfold:  42%|████▏     | 1.46G/3.47G [01:10<01:39, 21.6MB/s]\rDownloading AlphaFold2-ptm weights to /root/.cache/colabfold:  42%|████▏     | 1.46G/3.47G [01:10<01:41, 21.3MB/s]\rDownloading AlphaFold2-ptm weights to /root/.cache/colabfold:  42%|████▏     | 1.46G/3.47G [01:10<01:38, 21.9MB/s]\rDownloading AlphaFold2-ptm weights to /root/.cache/colabfold:  42%|████▏     | 1.47G/3.47G [01:10<01:36, 22.3MB/s]\rDownloading AlphaFold2-ptm weights to /root/.cache/colabfold:  42%|████▏     | 1.47G/3.47G [01:10<01:34, 22.6MB/s]\rDownloading AlphaFold2-ptm weights to /root/.cache/colabfold:  42%|████▏     | 1.47G/3.47G [01:11<01:33, 22.8MB/s]\rDownloading AlphaFold2-ptm weights to /root/.cache/colabfold:  43%|████▎     | 1.48G/3.47G [01:11<01:33, 22.9MB/s]\rDownloading AlphaFold2-ptm weights to /root/.cache/colabfold:  43%|████▎     | 1.48G/3.47G [01:11<01:32, 23.0MB/s]\rDownloading AlphaFold2-ptm weights to /root/.cache/colabfold:  43%|████▎     | 1.48G/3.47G [01:11<01:32, 23.1MB/s]\rDownloading AlphaFold2-ptm weights to /root/.cache/colabfold:  43%|████▎     | 1.49G/3.47G [01:11<01:31, 23.2MB/s]\rDownloading AlphaFold2-ptm weights to /root/.cache/colabfold:  43%|████▎     | 1.49G/3.47G [01:11<01:32, 22.8MB/s]\rDownloading AlphaFold2-ptm weights to /root/.cache/colabfold:  43%|████▎     | 1.49G/3.47G [01:12<01:32, 23.0MB/s]\rDownloading AlphaFold2-ptm weights to /root/.cache/colabfold:  43%|████▎     | 1.50G/3.47G [01:12<01:31, 23.0MB/s]\rDownloading AlphaFold2-ptm weights to /root/.cache/colabfold:  43%|████▎     | 1.50G/3.47G [01:12<01:31, 23.1MB/s]\rDownloading AlphaFold2-ptm weights to /root/.cache/colabfold:  43%|████▎     | 1.51G/3.47G [01:12<01:30, 23.2MB/s]\rDownloading AlphaFold2-ptm weights to /root/.cache/colabfold:  44%|████▎     | 1.51G/3.47G [01:12<01:30, 23.2MB/s]\rDownloading AlphaFold2-ptm weights to /root/.cache/colabfold:  44%|████▎     | 1.51G/3.47G [01:12<01:30, 23.2MB/s]\rDownloading AlphaFold2-ptm weights to /root/.cache/colabfold:  44%|████▎     | 1.52G/3.47G [01:13<01:30, 23.2MB/s]\rDownloading AlphaFold2-ptm weights to /root/.cache/colabfold:  44%|████▍     | 1.52G/3.47G [01:13<01:30, 23.2MB/s]\rDownloading AlphaFold2-ptm weights to /root/.cache/colabfold:  44%|████▍     | 1.52G/3.47G [01:13<01:30, 23.2MB/s]\rDownloading AlphaFold2-ptm weights to /root/.cache/colabfold:  44%|████▍     | 1.53G/3.47G [01:13<01:29, 23.2MB/s]\rDownloading AlphaFold2-ptm weights to /root/.cache/colabfold:  44%|████▍     | 1.53G/3.47G [01:13<01:29, 23.2MB/s]\rDownloading AlphaFold2-ptm weights to /root/.cache/colabfold:  44%|████▍     | 1.53G/3.47G [01:13<01:29, 23.2MB/s]\rDownloading AlphaFold2-ptm weights to /root/.cache/colabfold:  44%|████▍     | 1.54G/3.47G [01:14<01:29, 23.2MB/s]\rDownloading AlphaFold2-ptm weights to /root/.cache/colabfold:  44%|████▍     | 1.54G/3.47G [01:14<01:29, 23.2MB/s]\rDownloading AlphaFold2-ptm weights to /root/.cache/colabfold:  45%|████▍     | 1.54G/3.47G [01:14<01:28, 23.2MB/s]\rDownloading AlphaFold2-ptm weights to /root/.cache/colabfold:  45%|████▍     | 1.55G/3.47G [01:14<01:28, 23.2MB/s]\rDownloading AlphaFold2-ptm weights to /root/.cache/colabfold:  45%|████▍     | 1.55G/3.47G [01:14<01:28, 23.3MB/s]\rDownloading AlphaFold2-ptm weights to /root/.cache/colabfold:  45%|████▍     | 1.55G/3.47G [01:14<01:28, 23.3MB/s]\rDownloading AlphaFold2-ptm weights to /root/.cache/colabfold:  45%|████▍     | 1.56G/3.47G [01:15<01:28, 23.3MB/s]\rDownloading AlphaFold2-ptm weights to /root/.cache/colabfold:  45%|████▌     | 1.56G/3.47G [01:15<01:28, 23.2MB/s]\rDownloading AlphaFold2-ptm weights to /root/.cache/colabfold:  45%|████▌     | 1.57G/3.47G [01:15<01:28, 23.1MB/s]\rDownloading AlphaFold2-ptm weights to /root/.cache/colabfold:  45%|████▌     | 1.57G/3.47G [01:15<01:28, 23.2MB/s]\rDownloading AlphaFold2-ptm weights to /root/.cache/colabfold:  45%|████▌     | 1.57G/3.47G [01:15<01:27, 23.2MB/s]\rDownloading AlphaFold2-ptm weights to /root/.cache/colabfold:  45%|████▌     | 1.58G/3.47G [01:15<01:27, 23.2MB/s]\rDownloading AlphaFold2-ptm weights to /root/.cache/colabfold:  46%|████▌     | 1.58G/3.47G [01:16<01:27, 23.2MB/s]\rDownloading AlphaFold2-ptm weights to /root/.cache/colabfold:  46%|████▌     | 1.58G/3.47G [01:16<01:31, 22.2MB/s]\rDownloading AlphaFold2-ptm weights to /root/.cache/colabfold:  46%|████▌     | 1.59G/3.47G [01:16<01:42, 19.7MB/s]\rDownloading AlphaFold2-ptm weights to /root/.cache/colabfold:  46%|████▌     | 1.59G/3.47G [01:16<01:55, 17.5MB/s]\rDownloading AlphaFold2-ptm weights to /root/.cache/colabfold:  46%|████▌     | 1.59G/3.47G [01:16<01:44, 19.3MB/s]\rDownloading AlphaFold2-ptm weights to /root/.cache/colabfold:  46%|████▌     | 1.59G/3.47G [01:16<01:38, 20.5MB/s]\rDownloading AlphaFold2-ptm weights to /root/.cache/colabfold:  46%|████▌     | 1.60G/3.47G [01:17<01:34, 21.3MB/s]\rDownloading AlphaFold2-ptm weights to /root/.cache/colabfold:  46%|████▌     | 1.60G/3.47G [01:17<01:31, 21.9MB/s]\rDownloading AlphaFold2-ptm weights to /root/.cache/colabfold:  46%|████▋     | 1.61G/3.47G [01:17<01:29, 22.3MB/s]\rDownloading AlphaFold2-ptm weights to /root/.cache/colabfold:  46%|████▋     | 1.61G/3.47G [01:17<01:28, 22.6MB/s]\rDownloading AlphaFold2-ptm weights to /root/.cache/colabfold:  47%|████▋     | 1.61G/3.47G [01:17<01:27, 22.8MB/s]\rDownloading AlphaFold2-ptm weights to /root/.cache/colabfold:  47%|████▋     | 1.62G/3.47G [01:17<01:26, 22.9MB/s]\rDownloading AlphaFold2-ptm weights to /root/.cache/colabfold:  47%|████▋     | 1.62G/3.47G [01:18<01:26, 23.1MB/s]\rDownloading AlphaFold2-ptm weights to /root/.cache/colabfold:  47%|████▋     | 1.62G/3.47G [01:18<01:25, 23.1MB/s]\rDownloading AlphaFold2-ptm weights to /root/.cache/colabfold:  47%|████▋     | 1.63G/3.47G [01:18<01:25, 23.2MB/s]\rDownloading AlphaFold2-ptm weights to /root/.cache/colabfold:  47%|████▋     | 1.63G/3.47G [01:18<01:24, 23.2MB/s]\rDownloading AlphaFold2-ptm weights to /root/.cache/colabfold:  47%|████▋     | 1.63G/3.47G [01:18<01:24, 23.2MB/s]\rDownloading AlphaFold2-ptm weights to /root/.cache/colabfold:  47%|████▋     | 1.64G/3.47G [01:18<01:24, 23.2MB/s]\rDownloading AlphaFold2-ptm weights to /root/.cache/colabfold:  47%|████▋     | 1.64G/3.47G [01:19<01:24, 23.3MB/s]\rDownloading AlphaFold2-ptm weights to /root/.cache/colabfold:  47%|████▋     | 1.64G/3.47G [01:19<01:24, 23.3MB/s]\rDownloading AlphaFold2-ptm weights to /root/.cache/colabfold:  48%|████▊     | 1.65G/3.47G [01:19<01:23, 23.3MB/s]\rDownloading AlphaFold2-ptm weights to /root/.cache/colabfold:  48%|████▊     | 1.65G/3.47G [01:19<01:23, 23.3MB/s]\rDownloading AlphaFold2-ptm weights to /root/.cache/colabfold:  48%|████▊     | 1.66G/3.47G [01:19<01:23, 23.3MB/s]\rDownloading AlphaFold2-ptm weights to /root/.cache/colabfold:  48%|████▊     | 1.66G/3.47G [01:19<01:23, 23.3MB/s]\rDownloading AlphaFold2-ptm weights to /root/.cache/colabfold:  48%|████▊     | 1.66G/3.47G [01:19<01:23, 23.3MB/s]\rDownloading AlphaFold2-ptm weights to /root/.cache/colabfold:  48%|████▊     | 1.67G/3.47G [01:20<01:23, 23.3MB/s]\rDownloading AlphaFold2-ptm weights to /root/.cache/colabfold:  48%|████▊     | 1.67G/3.47G [01:20<01:22, 23.3MB/s]\rDownloading AlphaFold2-ptm weights to /root/.cache/colabfold:  48%|████▊     | 1.67G/3.47G [01:20<01:22, 23.3MB/s]\rDownloading AlphaFold2-ptm weights to /root/.cache/colabfold:  48%|████▊     | 1.68G/3.47G [01:20<01:22, 23.3MB/s]\rDownloading AlphaFold2-ptm weights to /root/.cache/colabfold:  48%|████▊     | 1.68G/3.47G [01:20<01:22, 23.3MB/s]\rDownloading AlphaFold2-ptm weights to /root/.cache/colabfold:  49%|████▊     | 1.68G/3.47G [01:20<01:22, 23.3MB/s]\rDownloading AlphaFold2-ptm weights to /root/.cache/colabfold:  49%|████▊     | 1.69G/3.47G [01:21<01:22, 23.3MB/s]\rDownloading AlphaFold2-ptm weights to /root/.cache/colabfold:  49%|████▉     | 1.69G/3.47G [01:21<01:21, 23.3MB/s]\rDownloading AlphaFold2-ptm weights to /root/.cache/colabfold:  49%|████▉     | 1.69G/3.47G [01:21<01:21, 23.3MB/s]\rDownloading AlphaFold2-ptm weights to /root/.cache/colabfold:  49%|████▉     | 1.70G/3.47G [01:21<01:21, 23.3MB/s]\rDownloading AlphaFold2-ptm weights to /root/.cache/colabfold:  49%|████▉     | 1.70G/3.47G [01:21<01:21, 23.3MB/s]\rDownloading AlphaFold2-ptm weights to /root/.cache/colabfold:  49%|████▉     | 1.70G/3.47G [01:21<01:21, 23.3MB/s]\rDownloading AlphaFold2-ptm weights to /root/.cache/colabfold:  49%|████▉     | 1.71G/3.47G [01:22<01:21, 23.3MB/s]\rDownloading AlphaFold2-ptm weights to /root/.cache/colabfold:  49%|████▉     | 1.71G/3.47G [01:22<01:20, 23.3MB/s]\rDownloading AlphaFold2-ptm weights to /root/.cache/colabfold:  49%|████▉     | 1.72G/3.47G [01:22<01:20, 23.3MB/s]\rDownloading AlphaFold2-ptm weights to /root/.cache/colabfold:  50%|████▉     | 1.72G/3.47G [01:22<01:20, 23.3MB/s]\rDownloading AlphaFold2-ptm weights to /root/.cache/colabfold:  50%|████▉     | 1.72G/3.47G [01:22<01:20, 23.3MB/s]\rDownloading AlphaFold2-ptm weights to /root/.cache/colabfold:  50%|████▉     | 1.73G/3.47G [01:22<01:20, 23.3MB/s]\rDownloading AlphaFold2-ptm weights to /root/.cache/colabfold:  50%|████▉     | 1.73G/3.47G [01:23<01:20, 23.3MB/s]\rDownloading AlphaFold2-ptm weights to /root/.cache/colabfold:  50%|████▉     | 1.73G/3.47G [01:23<01:20, 23.2MB/s]\rDownloading AlphaFold2-ptm weights to /root/.cache/colabfold:  50%|█████     | 1.74G/3.47G [01:23<01:19, 23.3MB/s]\rDownloading AlphaFold2-ptm weights to /root/.cache/colabfold:  50%|█████     | 1.74G/3.47G [01:23<01:19, 23.3MB/s]\rDownloading AlphaFold2-ptm weights to /root/.cache/colabfold:  50%|█████     | 1.74G/3.47G [01:23<01:19, 23.3MB/s]\rDownloading AlphaFold2-ptm weights to /root/.cache/colabfold:  50%|█████     | 1.75G/3.47G [01:23<01:19, 23.3MB/s]\rDownloading AlphaFold2-ptm weights to /root/.cache/colabfold:  51%|█████     | 1.75G/3.47G [01:24<01:19, 23.3MB/s]\rDownloading AlphaFold2-ptm weights to /root/.cache/colabfold:  51%|█████     | 1.75G/3.47G [01:24<01:18, 23.3MB/s]\rDownloading AlphaFold2-ptm weights to /root/.cache/colabfold:  51%|█████     | 1.76G/3.47G [01:24<01:18, 23.3MB/s]\rDownloading AlphaFold2-ptm weights to /root/.cache/colabfold:  51%|█████     | 1.76G/3.47G [01:24<01:18, 23.3MB/s]\rDownloading AlphaFold2-ptm weights to /root/.cache/colabfold:  51%|█████     | 1.77G/3.47G [01:24<01:18, 23.3MB/s]\rDownloading AlphaFold2-ptm weights to /root/.cache/colabfold:  51%|█████     | 1.77G/3.47G [01:24<01:18, 23.3MB/s]\rDownloading AlphaFold2-ptm weights to /root/.cache/colabfold:  51%|█████     | 1.77G/3.47G [01:25<01:18, 23.3MB/s]\rDownloading AlphaFold2-ptm weights to /root/.cache/colabfold:  51%|█████     | 1.78G/3.47G [01:25<01:17, 23.3MB/s]\rDownloading AlphaFold2-ptm weights to /root/.cache/colabfold:  51%|█████▏    | 1.78G/3.47G [01:25<01:17, 23.3MB/s]\rDownloading AlphaFold2-ptm weights to /root/.cache/colabfold:  51%|█████▏    | 1.78G/3.47G [01:25<01:17, 23.3MB/s]\rDownloading AlphaFold2-ptm weights to /root/.cache/colabfold:  52%|█████▏    | 1.79G/3.47G [01:25<01:17, 23.3MB/s]\rDownloading AlphaFold2-ptm weights to /root/.cache/colabfold:  52%|█████▏    | 1.79G/3.47G [01:25<01:17, 23.3MB/s]\rDownloading AlphaFold2-ptm weights to /root/.cache/colabfold:  52%|█████▏    | 1.79G/3.47G [01:26<01:17, 23.3MB/s]\rDownloading AlphaFold2-ptm weights to /root/.cache/colabfold:  52%|█████▏    | 1.80G/3.47G [01:26<01:16, 23.3MB/s]\rDownloading AlphaFold2-ptm weights to /root/.cache/colabfold:  52%|█████▏    | 1.80G/3.47G [01:26<01:16, 23.3MB/s]\rDownloading AlphaFold2-ptm weights to /root/.cache/colabfold:  52%|█████▏    | 1.80G/3.47G [01:26<01:16, 23.3MB/s]\rDownloading AlphaFold2-ptm weights to /root/.cache/colabfold:  52%|█████▏    | 1.81G/3.47G [01:26<01:16, 23.3MB/s]\rDownloading AlphaFold2-ptm weights to /root/.cache/colabfold:  52%|█████▏    | 1.81G/3.47G [01:26<01:16, 23.3MB/s]\rDownloading AlphaFold2-ptm weights to /root/.cache/colabfold:  52%|█████▏    | 1.82G/3.47G [01:27<01:16, 23.3MB/s]\rDownloading AlphaFold2-ptm weights to /root/.cache/colabfold:  52%|█████▏    | 1.82G/3.47G [01:27<01:16, 23.3MB/s]\rDownloading AlphaFold2-ptm weights to /root/.cache/colabfold:  53%|█████▎    | 1.82G/3.47G [01:27<01:15, 23.3MB/s]\rDownloading AlphaFold2-ptm weights to /root/.cache/colabfold:  53%|█████▎    | 1.83G/3.47G [01:27<01:15, 23.3MB/s]\rDownloading AlphaFold2-ptm weights to /root/.cache/colabfold:  53%|█████▎    | 1.83G/3.47G [01:27<01:15, 23.3MB/s]\rDownloading AlphaFold2-ptm weights to /root/.cache/colabfold:  53%|█████▎    | 1.83G/3.47G [01:27<01:15, 23.3MB/s]\rDownloading AlphaFold2-ptm weights to /root/.cache/colabfold:  53%|█████▎    | 1.84G/3.47G [01:28<01:15, 23.3MB/s]\rDownloading AlphaFold2-ptm weights to /root/.cache/colabfold:  53%|█████▎    | 1.84G/3.47G [01:28<01:15, 23.3MB/s]\rDownloading AlphaFold2-ptm weights to /root/.cache/colabfold:  53%|█████▎    | 1.84G/3.47G [01:28<01:14, 23.3MB/s]\rDownloading AlphaFold2-ptm weights to /root/.cache/colabfold:  53%|█████▎    | 1.85G/3.47G [01:28<01:14, 23.3MB/s]\rDownloading AlphaFold2-ptm weights to /root/.cache/colabfold:  53%|█████▎    | 1.85G/3.47G [01:28<01:14, 23.3MB/s]\rDownloading AlphaFold2-ptm weights to /root/.cache/colabfold:  53%|█████▎    | 1.85G/3.47G [01:28<01:14, 23.3MB/s]\rDownloading AlphaFold2-ptm weights to /root/.cache/colabfold:  54%|█████▎    | 1.86G/3.47G [01:29<01:14, 23.3MB/s]\rDownloading AlphaFold2-ptm weights to /root/.cache/colabfold:  54%|█████▎    | 1.86G/3.47G [01:29<01:14, 23.3MB/s]\rDownloading AlphaFold2-ptm weights to /root/.cache/colabfold:  54%|█████▍    | 1.87G/3.47G [01:29<01:13, 23.3MB/s]\rDownloading AlphaFold2-ptm weights to /root/.cache/colabfold:  54%|█████▍    | 1.87G/3.47G [01:29<01:13, 23.3MB/s]\rDownloading AlphaFold2-ptm weights to /root/.cache/colabfold:  54%|█████▍    | 1.87G/3.47G [01:29<01:13, 23.3MB/s]\rDownloading AlphaFold2-ptm weights to /root/.cache/colabfold:  54%|█████▍    | 1.88G/3.47G [01:29<01:13, 23.3MB/s]\rDownloading AlphaFold2-ptm weights to /root/.cache/colabfold:  54%|█████▍    | 1.88G/3.47G [01:30<01:13, 23.3MB/s]\rDownloading AlphaFold2-ptm weights to /root/.cache/colabfold:  54%|█████▍    | 1.88G/3.47G [01:30<01:16, 22.1MB/s]\rDownloading AlphaFold2-ptm weights to /root/.cache/colabfold:  54%|█████▍    | 1.88G/3.47G [01:30<01:26, 19.6MB/s]\rDownloading AlphaFold2-ptm weights to /root/.cache/colabfold:  54%|█████▍    | 1.89G/3.47G [01:30<01:22, 20.6MB/s]\rDownloading AlphaFold2-ptm weights to /root/.cache/colabfold:  55%|█████▍    | 1.89G/3.47G [01:30<01:19, 21.4MB/s]\rDownloading AlphaFold2-ptm weights to /root/.cache/colabfold:  55%|█████▍    | 1.90G/3.47G [01:30<01:16, 22.0MB/s]\rDownloading AlphaFold2-ptm weights to /root/.cache/colabfold:  55%|█████▍    | 1.90G/3.47G [01:31<01:15, 22.4MB/s]\rDownloading AlphaFold2-ptm weights to /root/.cache/colabfold:  55%|█████▍    | 1.90G/3.47G [01:31<01:14, 22.7MB/s]\rDownloading AlphaFold2-ptm weights to /root/.cache/colabfold:  55%|█████▍    | 1.91G/3.47G [01:31<01:13, 22.8MB/s]\rDownloading AlphaFold2-ptm weights to /root/.cache/colabfold:  55%|█████▌    | 1.91G/3.47G [01:31<01:12, 23.0MB/s]\rDownloading AlphaFold2-ptm weights to /root/.cache/colabfold:  55%|█████▌    | 1.91G/3.47G [01:31<01:12, 23.1MB/s]\rDownloading AlphaFold2-ptm weights to /root/.cache/colabfold:  55%|█████▌    | 1.92G/3.47G [01:31<01:12, 23.1MB/s]\rDownloading AlphaFold2-ptm weights to /root/.cache/colabfold:  55%|█████▌    | 1.92G/3.47G [01:32<01:11, 23.1MB/s]\rDownloading AlphaFold2-ptm weights to /root/.cache/colabfold:  55%|█████▌    | 1.92G/3.47G [01:32<01:11, 23.2MB/s]\rDownloading AlphaFold2-ptm weights to /root/.cache/colabfold:  56%|█████▌    | 1.93G/3.47G [01:32<01:11, 23.2MB/s]\rDownloading AlphaFold2-ptm weights to /root/.cache/colabfold:  56%|█████▌    | 1.93G/3.47G [01:32<01:15, 21.8MB/s]\rDownloading AlphaFold2-ptm weights to /root/.cache/colabfold:  56%|█████▌    | 1.93G/3.47G [01:32<01:16, 21.5MB/s]\rDownloading AlphaFold2-ptm weights to /root/.cache/colabfold:  56%|█████▌    | 1.94G/3.47G [01:32<01:14, 22.1MB/s]\rDownloading AlphaFold2-ptm weights to /root/.cache/colabfold:  56%|█████▌    | 1.94G/3.47G [01:33<01:13, 22.4MB/s]\rDownloading AlphaFold2-ptm weights to /root/.cache/colabfold:  56%|█████▌    | 1.95G/3.47G [01:33<01:12, 22.7MB/s]\rDownloading AlphaFold2-ptm weights to /root/.cache/colabfold:  56%|█████▌    | 1.95G/3.47G [01:33<01:11, 22.9MB/s]\rDownloading AlphaFold2-ptm weights to /root/.cache/colabfold:  56%|█████▋    | 1.95G/3.47G [01:33<01:10, 23.0MB/s]\rDownloading AlphaFold2-ptm weights to /root/.cache/colabfold:  56%|█████▋    | 1.96G/3.47G [01:33<01:10, 23.1MB/s]\rDownloading AlphaFold2-ptm weights to /root/.cache/colabfold:  57%|█████▋    | 1.96G/3.47G [01:33<01:09, 23.2MB/s]\rDownloading AlphaFold2-ptm weights to /root/.cache/colabfold:  57%|█████▋    | 1.96G/3.47G [01:34<01:09, 23.2MB/s]\rDownloading AlphaFold2-ptm weights to /root/.cache/colabfold:  57%|█████▋    | 1.97G/3.47G [01:34<01:09, 23.3MB/s]\rDownloading AlphaFold2-ptm weights to /root/.cache/colabfold:  57%|█████▋    | 1.97G/3.47G [01:34<01:09, 23.3MB/s]\rDownloading AlphaFold2-ptm weights to /root/.cache/colabfold:  57%|█████▋    | 1.97G/3.47G [01:34<01:08, 23.3MB/s]\rDownloading AlphaFold2-ptm weights to /root/.cache/colabfold:  57%|█████▋    | 1.98G/3.47G [01:34<01:08, 23.3MB/s]\rDownloading AlphaFold2-ptm weights to /root/.cache/colabfold:  57%|█████▋    | 1.98G/3.47G [01:34<01:08, 23.3MB/s]\rDownloading AlphaFold2-ptm weights to /root/.cache/colabfold:  57%|█████▋    | 1.98G/3.47G [01:34<01:08, 23.3MB/s]\rDownloading AlphaFold2-ptm weights to /root/.cache/colabfold:  57%|█████▋    | 1.99G/3.47G [01:35<01:08, 23.3MB/s]\rDownloading AlphaFold2-ptm weights to /root/.cache/colabfold:  57%|█████▋    | 1.99G/3.47G [01:35<01:08, 23.3MB/s]\rDownloading AlphaFold2-ptm weights to /root/.cache/colabfold:  58%|█████▊    | 2.00G/3.47G [01:35<01:07, 23.3MB/s]\rDownloading AlphaFold2-ptm weights to /root/.cache/colabfold:  58%|█████▊    | 2.00G/3.47G [01:35<01:07, 23.3MB/s]\rDownloading AlphaFold2-ptm weights to /root/.cache/colabfold:  58%|█████▊    | 2.00G/3.47G [01:35<01:07, 23.3MB/s]\rDownloading AlphaFold2-ptm weights to /root/.cache/colabfold:  58%|█████▊    | 2.01G/3.47G [01:35<01:07, 23.3MB/s]\rDownloading AlphaFold2-ptm weights to /root/.cache/colabfold:  58%|█████▊    | 2.01G/3.47G [01:36<01:07, 23.3MB/s]\rDownloading AlphaFold2-ptm weights to /root/.cache/colabfold:  58%|█████▊    | 2.01G/3.47G [01:36<01:07, 23.3MB/s]\rDownloading AlphaFold2-ptm weights to /root/.cache/colabfold:  58%|█████▊    | 2.02G/3.47G [01:36<01:06, 23.3MB/s]\rDownloading AlphaFold2-ptm weights to /root/.cache/colabfold:  58%|█████▊    | 2.02G/3.47G [01:36<01:06, 23.3MB/s]\rDownloading AlphaFold2-ptm weights to /root/.cache/colabfold:  58%|█████▊    | 2.02G/3.47G [01:36<01:06, 23.3MB/s]\rDownloading AlphaFold2-ptm weights to /root/.cache/colabfold:  58%|█████▊    | 2.03G/3.47G [01:36<01:06, 23.3MB/s]\rDownloading AlphaFold2-ptm weights to /root/.cache/colabfold:  59%|█████▊    | 2.03G/3.47G [01:37<01:06, 23.3MB/s]\rDownloading AlphaFold2-ptm weights to /root/.cache/colabfold:  59%|█████▊    | 2.03G/3.47G [01:37<01:06, 23.3MB/s]\rDownloading AlphaFold2-ptm weights to /root/.cache/colabfold:  59%|█████▉    | 2.04G/3.47G [01:37<01:05, 23.3MB/s]\rDownloading AlphaFold2-ptm weights to /root/.cache/colabfold:  59%|█████▉    | 2.04G/3.47G [01:37<01:05, 23.3MB/s]\rDownloading AlphaFold2-ptm weights to /root/.cache/colabfold:  59%|█████▉    | 2.04G/3.47G [01:37<01:05, 23.3MB/s]\rDownloading AlphaFold2-ptm weights to /root/.cache/colabfold:  59%|█████▉    | 2.05G/3.47G [01:37<01:05, 23.3MB/s]\rDownloading AlphaFold2-ptm weights to /root/.cache/colabfold:  59%|█████▉    | 2.05G/3.47G [01:38<01:05, 23.3MB/s]\rDownloading AlphaFold2-ptm weights to /root/.cache/colabfold:  59%|█████▉    | 2.06G/3.47G [01:38<01:05, 23.3MB/s]\rDownloading AlphaFold2-ptm weights to /root/.cache/colabfold:  59%|█████▉    | 2.06G/3.47G [01:38<01:04, 23.3MB/s]\rDownloading AlphaFold2-ptm weights to /root/.cache/colabfold:  59%|█████▉    | 2.06G/3.47G [01:38<01:08, 22.1MB/s]\rDownloading AlphaFold2-ptm weights to /root/.cache/colabfold:  60%|█████▉    | 2.06G/3.47G [01:38<01:16, 19.6MB/s]\rDownloading AlphaFold2-ptm weights to /root/.cache/colabfold:  60%|█████▉    | 2.07G/3.47G [01:38<01:26, 17.5MB/s]\rDownloading AlphaFold2-ptm weights to /root/.cache/colabfold:  60%|█████▉    | 2.07G/3.47G [01:39<01:17, 19.3MB/s]\rDownloading AlphaFold2-ptm weights to /root/.cache/colabfold:  60%|█████▉    | 2.07G/3.47G [01:39<01:13, 20.5MB/s]\rDownloading AlphaFold2-ptm weights to /root/.cache/colabfold:  60%|█████▉    | 2.08G/3.47G [01:39<01:10, 21.3MB/s]\rDownloading AlphaFold2-ptm weights to /root/.cache/colabfold:  60%|██████    | 2.08G/3.47G [01:39<01:07, 21.9MB/s]\rDownloading AlphaFold2-ptm weights to /root/.cache/colabfold:  60%|██████    | 2.08G/3.47G [01:39<01:06, 22.3MB/s]\rDownloading AlphaFold2-ptm weights to /root/.cache/colabfold:  60%|██████    | 2.09G/3.47G [01:39<01:05, 22.6MB/s]\rDownloading AlphaFold2-ptm weights to /root/.cache/colabfold:  60%|██████    | 2.09G/3.47G [01:40<01:04, 22.8MB/s]\rDownloading AlphaFold2-ptm weights to /root/.cache/colabfold:  60%|██████    | 2.10G/3.47G [01:40<01:04, 22.9MB/s]\rDownloading AlphaFold2-ptm weights to /root/.cache/colabfold:  61%|██████    | 2.10G/3.47G [01:40<01:03, 23.1MB/s]\rDownloading AlphaFold2-ptm weights to /root/.cache/colabfold:  61%|██████    | 2.10G/3.47G [01:40<01:03, 23.2MB/s]\rDownloading AlphaFold2-ptm weights to /root/.cache/colabfold:  61%|██████    | 2.11G/3.47G [01:40<01:02, 23.2MB/s]\rDownloading AlphaFold2-ptm weights to /root/.cache/colabfold:  61%|██████    | 2.11G/3.47G [01:40<01:02, 23.2MB/s]\rDownloading AlphaFold2-ptm weights to /root/.cache/colabfold:  61%|██████    | 2.11G/3.47G [01:41<01:02, 23.3MB/s]\rDownloading AlphaFold2-ptm weights to /root/.cache/colabfold:  61%|██████    | 2.12G/3.47G [01:41<01:02, 23.3MB/s]\rDownloading AlphaFold2-ptm weights to /root/.cache/colabfold:  61%|██████    | 2.12G/3.47G [01:41<01:02, 23.3MB/s]\rDownloading AlphaFold2-ptm weights to /root/.cache/colabfold:  61%|██████▏   | 2.12G/3.47G [01:41<01:01, 23.3MB/s]\rDownloading AlphaFold2-ptm weights to /root/.cache/colabfold:  61%|██████▏   | 2.13G/3.47G [01:41<01:01, 23.3MB/s]\rDownloading AlphaFold2-ptm weights to /root/.cache/colabfold:  61%|██████▏   | 2.13G/3.47G [01:41<01:01, 23.3MB/s]\rDownloading AlphaFold2-ptm weights to /root/.cache/colabfold:  62%|██████▏   | 2.13G/3.47G [01:42<01:01, 23.3MB/s]\rDownloading AlphaFold2-ptm weights to /root/.cache/colabfold:  62%|██████▏   | 2.14G/3.47G [01:42<01:01, 23.3MB/s]\rDownloading AlphaFold2-ptm weights to /root/.cache/colabfold:  62%|██████▏   | 2.14G/3.47G [01:42<01:00, 23.3MB/s]\rDownloading AlphaFold2-ptm weights to /root/.cache/colabfold:  62%|██████▏   | 2.15G/3.47G [01:42<01:00, 23.4MB/s]\rDownloading AlphaFold2-ptm weights to /root/.cache/colabfold:  62%|██████▏   | 2.15G/3.47G [01:42<01:00, 23.3MB/s]\rDownloading AlphaFold2-ptm weights to /root/.cache/colabfold:  62%|██████▏   | 2.15G/3.47G [01:42<01:00, 23.3MB/s]\rDownloading AlphaFold2-ptm weights to /root/.cache/colabfold:  62%|██████▏   | 2.16G/3.47G [01:43<01:00, 23.3MB/s]\rDownloading AlphaFold2-ptm weights to /root/.cache/colabfold:  62%|██████▏   | 2.16G/3.47G [01:43<01:00, 23.3MB/s]\rDownloading AlphaFold2-ptm weights to /root/.cache/colabfold:  62%|██████▏   | 2.16G/3.47G [01:43<01:00, 23.3MB/s]\rDownloading AlphaFold2-ptm weights to /root/.cache/colabfold:  62%|██████▏   | 2.17G/3.47G [01:43<00:59, 23.3MB/s]\rDownloading AlphaFold2-ptm weights to /root/.cache/colabfold:  63%|██████▎   | 2.17G/3.47G [01:43<00:59, 23.3MB/s]\rDownloading AlphaFold2-ptm weights to /root/.cache/colabfold:  63%|██████▎   | 2.17G/3.47G [01:43<01:02, 22.3MB/s]\rDownloading AlphaFold2-ptm weights to /root/.cache/colabfold:  63%|██████▎   | 2.18G/3.47G [01:44<01:03, 21.9MB/s]\rDownloading AlphaFold2-ptm weights to /root/.cache/colabfold:  63%|██████▎   | 2.18G/3.47G [01:44<01:01, 22.3MB/s]\rDownloading AlphaFold2-ptm weights to /root/.cache/colabfold:  63%|██████▎   | 2.18G/3.47G [01:44<01:00, 22.6MB/s]\rDownloading AlphaFold2-ptm weights to /root/.cache/colabfold:  63%|██████▎   | 2.19G/3.47G [01:44<01:00, 22.8MB/s]\rDownloading AlphaFold2-ptm weights to /root/.cache/colabfold:  63%|██████▎   | 2.19G/3.47G [01:44<00:59, 23.0MB/s]\rDownloading AlphaFold2-ptm weights to /root/.cache/colabfold:  63%|██████▎   | 2.19G/3.47G [01:44<00:59, 23.0MB/s]\rDownloading AlphaFold2-ptm weights to /root/.cache/colabfold:  63%|██████▎   | 2.20G/3.47G [01:45<00:58, 23.1MB/s]\rDownloading AlphaFold2-ptm weights to /root/.cache/colabfold:  64%|██████▎   | 2.20G/3.47G [01:45<00:58, 23.2MB/s]\rDownloading AlphaFold2-ptm weights to /root/.cache/colabfold:  64%|██████▎   | 2.21G/3.47G [01:45<00:58, 23.2MB/s]\rDownloading AlphaFold2-ptm weights to /root/.cache/colabfold:  64%|██████▎   | 2.21G/3.47G [01:45<00:58, 23.2MB/s]\rDownloading AlphaFold2-ptm weights to /root/.cache/colabfold:  64%|██████▍   | 2.21G/3.47G [01:45<00:57, 23.2MB/s]\rDownloading AlphaFold2-ptm weights to /root/.cache/colabfold:  64%|██████▍   | 2.22G/3.47G [01:45<01:00, 22.1MB/s]\rDownloading AlphaFold2-ptm weights to /root/.cache/colabfold:  64%|██████▍   | 2.22G/3.47G [01:46<01:08, 19.6MB/s]\rDownloading AlphaFold2-ptm weights to /root/.cache/colabfold:  64%|██████▍   | 2.22G/3.47G [01:46<01:17, 17.4MB/s]\rDownloading AlphaFold2-ptm weights to /root/.cache/colabfold:  64%|██████▍   | 2.22G/3.47G [01:46<01:09, 19.3MB/s]\rDownloading AlphaFold2-ptm weights to /root/.cache/colabfold:  64%|██████▍   | 2.23G/3.47G [01:46<01:05, 20.4MB/s]\rDownloading AlphaFold2-ptm weights to /root/.cache/colabfold:  64%|██████▍   | 2.23G/3.47G [01:46<01:02, 21.3MB/s]\rDownloading AlphaFold2-ptm weights to /root/.cache/colabfold:  64%|██████▍   | 2.23G/3.47G [01:46<01:00, 21.9MB/s]\rDownloading AlphaFold2-ptm weights to /root/.cache/colabfold:  65%|██████▍   | 2.24G/3.47G [01:47<00:59, 22.3MB/s]\rDownloading AlphaFold2-ptm weights to /root/.cache/colabfold:  65%|██████▍   | 2.24G/3.47G [01:47<00:58, 22.6MB/s]\rDownloading AlphaFold2-ptm weights to /root/.cache/colabfold:  65%|██████▍   | 2.24G/3.47G [01:47<00:57, 22.8MB/s]\rDownloading AlphaFold2-ptm weights to /root/.cache/colabfold:  65%|██████▍   | 2.25G/3.47G [01:47<00:56, 23.0MB/s]\rDownloading AlphaFold2-ptm weights to /root/.cache/colabfold:  65%|██████▍   | 2.25G/3.47G [01:47<00:56, 23.0MB/s]\rDownloading AlphaFold2-ptm weights to /root/.cache/colabfold:  65%|██████▌   | 2.26G/3.47G [01:47<00:56, 23.1MB/s]\rDownloading AlphaFold2-ptm weights to /root/.cache/colabfold:  65%|██████▌   | 2.26G/3.47G [01:48<00:55, 23.2MB/s]\rDownloading AlphaFold2-ptm weights to /root/.cache/colabfold:  65%|██████▌   | 2.26G/3.47G [01:48<00:55, 23.2MB/s]\rDownloading AlphaFold2-ptm weights to /root/.cache/colabfold:  65%|██████▌   | 2.27G/3.47G [01:48<00:55, 23.2MB/s]\rDownloading AlphaFold2-ptm weights to /root/.cache/colabfold:  65%|██████▌   | 2.27G/3.47G [01:48<00:55, 23.3MB/s]\rDownloading AlphaFold2-ptm weights to /root/.cache/colabfold:  66%|██████▌   | 2.27G/3.47G [01:48<00:55, 23.3MB/s]\rDownloading AlphaFold2-ptm weights to /root/.cache/colabfold:  66%|██████▌   | 2.28G/3.47G [01:48<00:54, 23.3MB/s]\rDownloading AlphaFold2-ptm weights to /root/.cache/colabfold:  66%|██████▌   | 2.28G/3.47G [01:49<00:54, 23.3MB/s]\rDownloading AlphaFold2-ptm weights to /root/.cache/colabfold:  66%|██████▌   | 2.28G/3.47G [01:49<00:54, 23.3MB/s]\rDownloading AlphaFold2-ptm weights to /root/.cache/colabfold:  66%|██████▌   | 2.29G/3.47G [01:49<00:54, 23.3MB/s]\rDownloading AlphaFold2-ptm weights to /root/.cache/colabfold:  66%|██████▌   | 2.29G/3.47G [01:49<00:54, 23.3MB/s]\rDownloading AlphaFold2-ptm weights to /root/.cache/colabfold:  66%|██████▌   | 2.29G/3.47G [01:49<00:54, 23.3MB/s]\rDownloading AlphaFold2-ptm weights to /root/.cache/colabfold:  66%|██████▋   | 2.30G/3.47G [01:49<00:53, 23.3MB/s]\rDownloading AlphaFold2-ptm weights to /root/.cache/colabfold:  66%|██████▋   | 2.30G/3.47G [01:50<00:53, 23.3MB/s]\rDownloading AlphaFold2-ptm weights to /root/.cache/colabfold:  66%|██████▋   | 2.31G/3.47G [01:50<00:53, 23.3MB/s]\rDownloading AlphaFold2-ptm weights to /root/.cache/colabfold:  67%|██████▋   | 2.31G/3.47G [01:50<00:53, 23.3MB/s]\rDownloading AlphaFold2-ptm weights to /root/.cache/colabfold:  67%|██████▋   | 2.31G/3.47G [01:50<00:53, 23.3MB/s]\rDownloading AlphaFold2-ptm weights to /root/.cache/colabfold:  67%|██████▋   | 2.32G/3.47G [01:50<00:53, 23.3MB/s]\rDownloading AlphaFold2-ptm weights to /root/.cache/colabfold:  67%|██████▋   | 2.32G/3.47G [01:50<00:52, 23.3MB/s]\rDownloading AlphaFold2-ptm weights to /root/.cache/colabfold:  67%|██████▋   | 2.32G/3.47G [01:51<00:52, 23.3MB/s]\rDownloading AlphaFold2-ptm weights to /root/.cache/colabfold:  67%|██████▋   | 2.33G/3.47G [01:51<00:55, 22.2MB/s]\rDownloading AlphaFold2-ptm weights to /root/.cache/colabfold:  67%|██████▋   | 2.33G/3.47G [01:51<00:55, 21.8MB/s]\rDownloading AlphaFold2-ptm weights to /root/.cache/colabfold:  67%|██████▋   | 2.33G/3.47G [01:51<00:54, 22.2MB/s]\rDownloading AlphaFold2-ptm weights to /root/.cache/colabfold:  67%|██████▋   | 2.34G/3.47G [01:51<00:53, 22.6MB/s]\rDownloading AlphaFold2-ptm weights to /root/.cache/colabfold:  68%|██████▊   | 2.34G/3.47G [01:51<00:53, 22.8MB/s]\rDownloading AlphaFold2-ptm weights to /root/.cache/colabfold:  68%|██████▊   | 2.34G/3.47G [01:52<00:52, 22.9MB/s]\rDownloading AlphaFold2-ptm weights to /root/.cache/colabfold:  68%|██████▊   | 2.35G/3.47G [01:52<00:52, 23.0MB/s]\rDownloading AlphaFold2-ptm weights to /root/.cache/colabfold:  68%|██████▊   | 2.35G/3.47G [01:52<00:51, 23.1MB/s]\rDownloading AlphaFold2-ptm weights to /root/.cache/colabfold:  68%|██████▊   | 2.35G/3.47G [01:52<00:51, 23.2MB/s]\rDownloading AlphaFold2-ptm weights to /root/.cache/colabfold:  68%|██████▊   | 2.36G/3.47G [01:52<00:51, 23.2MB/s]\rDownloading AlphaFold2-ptm weights to /root/.cache/colabfold:  68%|██████▊   | 2.36G/3.47G [01:52<00:51, 23.2MB/s]\rDownloading AlphaFold2-ptm weights to /root/.cache/colabfold:  68%|██████▊   | 2.37G/3.47G [01:53<00:50, 23.3MB/s]\rDownloading AlphaFold2-ptm weights to /root/.cache/colabfold:  68%|██████▊   | 2.37G/3.47G [01:53<00:50, 23.3MB/s]\rDownloading AlphaFold2-ptm weights to /root/.cache/colabfold:  68%|██████▊   | 2.37G/3.47G [01:53<00:50, 23.3MB/s]\rDownloading AlphaFold2-ptm weights to /root/.cache/colabfold:  69%|██████▊   | 2.38G/3.47G [01:53<00:50, 23.3MB/s]\rDownloading AlphaFold2-ptm weights to /root/.cache/colabfold:  69%|██████▊   | 2.38G/3.47G [01:53<00:50, 23.3MB/s]\rDownloading AlphaFold2-ptm weights to /root/.cache/colabfold:  69%|██████▊   | 2.38G/3.47G [01:53<00:49, 23.3MB/s]\rDownloading AlphaFold2-ptm weights to /root/.cache/colabfold:  69%|██████▉   | 2.39G/3.47G [01:53<00:49, 23.2MB/s]\rDownloading AlphaFold2-ptm weights to /root/.cache/colabfold:  69%|██████▉   | 2.39G/3.47G [01:54<00:49, 23.3MB/s]\rDownloading AlphaFold2-ptm weights to /root/.cache/colabfold:  69%|██████▉   | 2.39G/3.47G [01:54<00:49, 23.3MB/s]\rDownloading AlphaFold2-ptm weights to /root/.cache/colabfold:  69%|██████▉   | 2.40G/3.47G [01:54<00:49, 23.3MB/s]\rDownloading AlphaFold2-ptm weights to /root/.cache/colabfold:  69%|██████▉   | 2.40G/3.47G [01:54<00:49, 23.3MB/s]\rDownloading AlphaFold2-ptm weights to /root/.cache/colabfold:  69%|██████▉   | 2.40G/3.47G [01:54<00:49, 23.2MB/s]\rDownloading AlphaFold2-ptm weights to /root/.cache/colabfold:  69%|██████▉   | 2.41G/3.47G [01:54<00:48, 23.3MB/s]\rDownloading AlphaFold2-ptm weights to /root/.cache/colabfold:  70%|██████▉   | 2.41G/3.47G [01:55<00:48, 23.3MB/s]\rDownloading AlphaFold2-ptm weights to /root/.cache/colabfold:  70%|██████▉   | 2.42G/3.47G [01:55<00:48, 23.2MB/s]\rDownloading AlphaFold2-ptm weights to /root/.cache/colabfold:  70%|██████▉   | 2.42G/3.47G [01:55<00:50, 22.1MB/s]\rDownloading AlphaFold2-ptm weights to /root/.cache/colabfold:  70%|██████▉   | 2.42G/3.47G [01:55<00:57, 19.6MB/s]\rDownloading AlphaFold2-ptm weights to /root/.cache/colabfold:  70%|██████▉   | 2.42G/3.47G [01:55<01:04, 17.5MB/s]\rDownloading AlphaFold2-ptm weights to /root/.cache/colabfold:  70%|██████▉   | 2.43G/3.47G [01:55<00:55, 20.1MB/s]\rDownloading AlphaFold2-ptm weights to /root/.cache/colabfold:  70%|███████   | 2.43G/3.47G [01:56<00:45, 24.6MB/s]\rDownloading AlphaFold2-ptm weights to /root/.cache/colabfold:  70%|███████   | 2.43G/3.47G [01:56<00:49, 22.6MB/s]\rDownloading AlphaFold2-ptm weights to /root/.cache/colabfold:  70%|███████   | 2.43G/3.47G [01:56<00:53, 20.8MB/s]\rDownloading AlphaFold2-ptm weights to /root/.cache/colabfold:  70%|███████   | 2.44G/3.47G [01:56<00:54, 20.2MB/s]\rDownloading AlphaFold2-ptm weights to /root/.cache/colabfold:  70%|███████   | 2.44G/3.47G [01:56<00:52, 21.2MB/s]\rDownloading AlphaFold2-ptm weights to /root/.cache/colabfold:  70%|███████   | 2.44G/3.47G [01:56<00:50, 21.9MB/s]\rDownloading AlphaFold2-ptm weights to /root/.cache/colabfold:  71%|███████   | 2.45G/3.47G [01:56<00:49, 22.3MB/s]\rDownloading AlphaFold2-ptm weights to /root/.cache/colabfold:  71%|███████   | 2.45G/3.47G [01:57<00:48, 22.6MB/s]\rDownloading AlphaFold2-ptm weights to /root/.cache/colabfold:  71%|███████   | 2.45G/3.47G [01:57<00:47, 22.8MB/s]\rDownloading AlphaFold2-ptm weights to /root/.cache/colabfold:  71%|███████   | 2.46G/3.47G [01:57<00:47, 22.9MB/s]\rDownloading AlphaFold2-ptm weights to /root/.cache/colabfold:  71%|███████   | 2.46G/3.47G [01:57<00:46, 23.0MB/s]\rDownloading AlphaFold2-ptm weights to /root/.cache/colabfold:  71%|███████   | 2.47G/3.47G [01:57<00:46, 23.1MB/s]\rDownloading AlphaFold2-ptm weights to /root/.cache/colabfold:  71%|███████   | 2.47G/3.47G [01:57<00:46, 23.2MB/s]\rDownloading AlphaFold2-ptm weights to /root/.cache/colabfold:  71%|███████▏  | 2.47G/3.47G [01:58<00:46, 23.2MB/s]\rDownloading AlphaFold2-ptm weights to /root/.cache/colabfold:  71%|███████▏  | 2.48G/3.47G [01:58<00:45, 23.2MB/s]\rDownloading AlphaFold2-ptm weights to /root/.cache/colabfold:  72%|███████▏  | 2.48G/3.47G [01:58<00:45, 23.2MB/s]\rDownloading AlphaFold2-ptm weights to /root/.cache/colabfold:  72%|███████▏  | 2.48G/3.47G [01:58<00:45, 23.2MB/s]\rDownloading AlphaFold2-ptm weights to /root/.cache/colabfold:  72%|███████▏  | 2.49G/3.47G [01:58<00:45, 23.2MB/s]\rDownloading AlphaFold2-ptm weights to /root/.cache/colabfold:  72%|███████▏  | 2.49G/3.47G [01:58<00:45, 23.2MB/s]\rDownloading AlphaFold2-ptm weights to /root/.cache/colabfold:  72%|███████▏  | 2.49G/3.47G [01:59<00:45, 23.1MB/s]\rDownloading AlphaFold2-ptm weights to /root/.cache/colabfold:  72%|███████▏  | 2.50G/3.47G [01:59<00:44, 23.2MB/s]\rDownloading AlphaFold2-ptm weights to /root/.cache/colabfold:  72%|███████▏  | 2.50G/3.47G [01:59<00:44, 23.2MB/s]\rDownloading AlphaFold2-ptm weights to /root/.cache/colabfold:  72%|███████▏  | 2.50G/3.47G [01:59<00:44, 23.2MB/s]\rDownloading AlphaFold2-ptm weights to /root/.cache/colabfold:  72%|███████▏  | 2.51G/3.47G [01:59<00:44, 23.2MB/s]\rDownloading AlphaFold2-ptm weights to /root/.cache/colabfold:  72%|███████▏  | 2.51G/3.47G [01:59<00:44, 23.2MB/s]\rDownloading AlphaFold2-ptm weights to /root/.cache/colabfold:  73%|███████▎  | 2.52G/3.47G [02:00<00:43, 23.3MB/s]\rDownloading AlphaFold2-ptm weights to /root/.cache/colabfold:  73%|███████▎  | 2.52G/3.47G [02:00<00:43, 23.2MB/s]\rDownloading AlphaFold2-ptm weights to /root/.cache/colabfold:  73%|███████▎  | 2.52G/3.47G [02:00<00:43, 23.2MB/s]\rDownloading AlphaFold2-ptm weights to /root/.cache/colabfold:  73%|███████▎  | 2.53G/3.47G [02:00<00:43, 23.2MB/s]\rDownloading AlphaFold2-ptm weights to /root/.cache/colabfold:  73%|███████▎  | 2.53G/3.47G [02:00<00:45, 22.3MB/s]\rDownloading AlphaFold2-ptm weights to /root/.cache/colabfold:  73%|███████▎  | 2.53G/3.47G [02:00<00:45, 21.8MB/s]\rDownloading AlphaFold2-ptm weights to /root/.cache/colabfold:  73%|███████▎  | 2.54G/3.47G [02:01<00:44, 22.3MB/s]\rDownloading AlphaFold2-ptm weights to /root/.cache/colabfold:  73%|███████▎  | 2.54G/3.47G [02:01<00:44, 22.5MB/s]\rDownloading AlphaFold2-ptm weights to /root/.cache/colabfold:  73%|███████▎  | 2.54G/3.47G [02:01<00:43, 22.7MB/s]\rDownloading AlphaFold2-ptm weights to /root/.cache/colabfold:  73%|███████▎  | 2.55G/3.47G [02:01<00:43, 22.9MB/s]\rDownloading AlphaFold2-ptm weights to /root/.cache/colabfold:  74%|███████▎  | 2.55G/3.47G [02:01<00:42, 23.0MB/s]\rDownloading AlphaFold2-ptm weights to /root/.cache/colabfold:  74%|███████▎  | 2.55G/3.47G [02:01<00:42, 23.1MB/s]\rDownloading AlphaFold2-ptm weights to /root/.cache/colabfold:  74%|███████▍  | 2.56G/3.47G [02:02<00:42, 23.1MB/s]\rDownloading AlphaFold2-ptm weights to /root/.cache/colabfold:  74%|███████▍  | 2.56G/3.47G [02:02<00:42, 23.1MB/s]\rDownloading AlphaFold2-ptm weights to /root/.cache/colabfold:  74%|███████▍  | 2.56G/3.47G [02:02<00:41, 23.2MB/s]\rDownloading AlphaFold2-ptm weights to /root/.cache/colabfold:  74%|███████▍  | 2.57G/3.47G [02:02<00:41, 23.2MB/s]\rDownloading AlphaFold2-ptm weights to /root/.cache/colabfold:  74%|███████▍  | 2.57G/3.47G [02:02<00:41, 23.2MB/s]\rDownloading AlphaFold2-ptm weights to /root/.cache/colabfold:  74%|███████▍  | 2.58G/3.47G [02:02<00:41, 23.2MB/s]\rDownloading AlphaFold2-ptm weights to /root/.cache/colabfold:  74%|███████▍  | 2.58G/3.47G [02:03<00:41, 23.2MB/s]\rDownloading AlphaFold2-ptm weights to /root/.cache/colabfold:  74%|███████▍  | 2.58G/3.47G [02:03<00:43, 22.1MB/s]\rDownloading AlphaFold2-ptm weights to /root/.cache/colabfold:  75%|███████▍  | 2.58G/3.47G [02:03<00:48, 19.6MB/s]\rDownloading AlphaFold2-ptm weights to /root/.cache/colabfold:  75%|███████▍  | 2.59G/3.47G [02:03<00:54, 17.4MB/s]\rDownloading AlphaFold2-ptm weights to /root/.cache/colabfold:  75%|███████▍  | 2.59G/3.47G [02:03<00:48, 19.2MB/s]\rDownloading AlphaFold2-ptm weights to /root/.cache/colabfold:  75%|███████▍  | 2.59G/3.47G [02:03<00:45, 20.4MB/s]\rDownloading AlphaFold2-ptm weights to /root/.cache/colabfold:  75%|███████▍  | 2.60G/3.47G [02:04<00:43, 21.3MB/s]\rDownloading AlphaFold2-ptm weights to /root/.cache/colabfold:  75%|███████▌  | 2.60G/3.47G [02:04<00:42, 21.8MB/s]\rDownloading AlphaFold2-ptm weights to /root/.cache/colabfold:  75%|███████▌  | 2.60G/3.47G [02:04<00:41, 22.3MB/s]\rDownloading AlphaFold2-ptm weights to /root/.cache/colabfold:  75%|███████▌  | 2.61G/3.47G [02:04<00:40, 22.6MB/s]\rDownloading AlphaFold2-ptm weights to /root/.cache/colabfold:  75%|███████▌  | 2.61G/3.47G [02:04<00:40, 22.8MB/s]\rDownloading AlphaFold2-ptm weights to /root/.cache/colabfold:  75%|███████▌  | 2.61G/3.47G [02:04<00:39, 22.9MB/s]\rDownloading AlphaFold2-ptm weights to /root/.cache/colabfold:  76%|███████▌  | 2.62G/3.47G [02:05<00:39, 23.1MB/s]\rDownloading AlphaFold2-ptm weights to /root/.cache/colabfold:  76%|███████▌  | 2.62G/3.47G [02:05<00:39, 23.1MB/s]\rDownloading AlphaFold2-ptm weights to /root/.cache/colabfold:  76%|███████▌  | 2.63G/3.47G [02:05<00:38, 23.2MB/s]\rDownloading AlphaFold2-ptm weights to /root/.cache/colabfold:  76%|███████▌  | 2.63G/3.47G [02:05<00:38, 23.2MB/s]\rDownloading AlphaFold2-ptm weights to /root/.cache/colabfold:  76%|███████▌  | 2.63G/3.47G [02:05<00:38, 23.3MB/s]\rDownloading AlphaFold2-ptm weights to /root/.cache/colabfold:  76%|███████▌  | 2.64G/3.47G [02:05<00:38, 23.2MB/s]\rDownloading AlphaFold2-ptm weights to /root/.cache/colabfold:  76%|███████▌  | 2.64G/3.47G [02:06<00:38, 23.2MB/s]\rDownloading AlphaFold2-ptm weights to /root/.cache/colabfold:  76%|███████▌  | 2.64G/3.47G [02:06<00:38, 23.3MB/s]\rDownloading AlphaFold2-ptm weights to /root/.cache/colabfold:  76%|███████▋  | 2.65G/3.47G [02:06<00:37, 23.3MB/s]\rDownloading AlphaFold2-ptm weights to /root/.cache/colabfold:  76%|███████▋  | 2.65G/3.47G [02:06<00:37, 23.3MB/s]\rDownloading AlphaFold2-ptm weights to /root/.cache/colabfold:  77%|███████▋  | 2.65G/3.47G [02:06<00:37, 23.3MB/s]\rDownloading AlphaFold2-ptm weights to /root/.cache/colabfold:  77%|███████▋  | 2.66G/3.47G [02:06<00:37, 23.3MB/s]\rDownloading AlphaFold2-ptm weights to /root/.cache/colabfold:  77%|███████▋  | 2.66G/3.47G [02:07<00:37, 23.3MB/s]\rDownloading AlphaFold2-ptm weights to /root/.cache/colabfold:  77%|███████▋  | 2.66G/3.47G [02:07<00:36, 23.3MB/s]\rDownloading AlphaFold2-ptm weights to /root/.cache/colabfold:  77%|███████▋  | 2.67G/3.47G [02:07<00:36, 23.3MB/s]\rDownloading AlphaFold2-ptm weights to /root/.cache/colabfold:  77%|███████▋  | 2.67G/3.47G [02:07<00:36, 23.3MB/s]\rDownloading AlphaFold2-ptm weights to /root/.cache/colabfold:  77%|███████▋  | 2.68G/3.47G [02:07<00:36, 23.3MB/s]\rDownloading AlphaFold2-ptm weights to /root/.cache/colabfold:  77%|███████▋  | 2.68G/3.47G [02:07<00:36, 23.3MB/s]\rDownloading AlphaFold2-ptm weights to /root/.cache/colabfold:  77%|███████▋  | 2.68G/3.47G [02:08<00:36, 23.3MB/s]\rDownloading AlphaFold2-ptm weights to /root/.cache/colabfold:  77%|███████▋  | 2.69G/3.47G [02:08<00:38, 21.7MB/s]\rDownloading AlphaFold2-ptm weights to /root/.cache/colabfold:  78%|███████▊  | 2.69G/3.47G [02:08<00:38, 21.4MB/s]\rDownloading AlphaFold2-ptm weights to /root/.cache/colabfold:  78%|███████▊  | 2.69G/3.47G [02:08<00:37, 22.0MB/s]\rDownloading AlphaFold2-ptm weights to /root/.cache/colabfold:  78%|███████▊  | 2.70G/3.47G [02:08<00:36, 22.4MB/s]\rDownloading AlphaFold2-ptm weights to /root/.cache/colabfold:  78%|███████▊  | 2.70G/3.47G [02:08<00:36, 22.7MB/s]\rDownloading AlphaFold2-ptm weights to /root/.cache/colabfold:  78%|███████▊  | 2.70G/3.47G [02:09<00:35, 22.9MB/s]\rDownloading AlphaFold2-ptm weights to /root/.cache/colabfold:  78%|███████▊  | 2.71G/3.47G [02:09<00:35, 23.0MB/s]\rDownloading AlphaFold2-ptm weights to /root/.cache/colabfold:  78%|███████▊  | 2.71G/3.47G [02:09<00:35, 23.1MB/s]\rDownloading AlphaFold2-ptm weights to /root/.cache/colabfold:  78%|███████▊  | 2.71G/3.47G [02:09<00:34, 23.2MB/s]\rDownloading AlphaFold2-ptm weights to /root/.cache/colabfold:  78%|███████▊  | 2.72G/3.47G [02:09<00:34, 23.2MB/s]\rDownloading AlphaFold2-ptm weights to /root/.cache/colabfold:  78%|███████▊  | 2.72G/3.47G [02:09<00:34, 23.3MB/s]\rDownloading AlphaFold2-ptm weights to /root/.cache/colabfold:  79%|███████▊  | 2.72G/3.47G [02:09<00:34, 23.3MB/s]\rDownloading AlphaFold2-ptm weights to /root/.cache/colabfold:  79%|███████▊  | 2.73G/3.47G [02:10<00:34, 23.3MB/s]\rDownloading AlphaFold2-ptm weights to /root/.cache/colabfold:  79%|███████▉  | 2.73G/3.47G [02:10<00:33, 23.3MB/s]\rDownloading AlphaFold2-ptm weights to /root/.cache/colabfold:  79%|███████▉  | 2.74G/3.47G [02:10<00:33, 23.3MB/s]\rDownloading AlphaFold2-ptm weights to /root/.cache/colabfold:  79%|███████▉  | 2.74G/3.47G [02:10<00:33, 23.3MB/s]\rDownloading AlphaFold2-ptm weights to /root/.cache/colabfold:  79%|███████▉  | 2.74G/3.47G [02:10<00:33, 23.3MB/s]\rDownloading AlphaFold2-ptm weights to /root/.cache/colabfold:  79%|███████▉  | 2.75G/3.47G [02:10<00:33, 23.3MB/s]\rDownloading AlphaFold2-ptm weights to /root/.cache/colabfold:  79%|███████▉  | 2.75G/3.47G [02:11<00:33, 23.3MB/s]\rDownloading AlphaFold2-ptm weights to /root/.cache/colabfold:  79%|███████▉  | 2.75G/3.47G [02:11<00:32, 23.3MB/s]\rDownloading AlphaFold2-ptm weights to /root/.cache/colabfold:  80%|███████▉  | 2.76G/3.47G [02:11<00:33, 23.0MB/s]\rDownloading AlphaFold2-ptm weights to /root/.cache/colabfold:  80%|███████▉  | 2.76G/3.47G [02:11<00:32, 23.1MB/s]\rDownloading AlphaFold2-ptm weights to /root/.cache/colabfold:  80%|███████▉  | 2.76G/3.47G [02:11<00:32, 23.2MB/s]\rDownloading AlphaFold2-ptm weights to /root/.cache/colabfold:  80%|███████▉  | 2.77G/3.47G [02:11<00:32, 23.2MB/s]\rDownloading AlphaFold2-ptm weights to /root/.cache/colabfold:  80%|███████▉  | 2.77G/3.47G [02:12<00:32, 23.2MB/s]\rDownloading AlphaFold2-ptm weights to /root/.cache/colabfold:  80%|████████  | 2.77G/3.47G [02:12<00:32, 23.2MB/s]\rDownloading AlphaFold2-ptm weights to /root/.cache/colabfold:  80%|████████  | 2.78G/3.47G [02:12<00:31, 23.3MB/s]\rDownloading AlphaFold2-ptm weights to /root/.cache/colabfold:  80%|████████  | 2.78G/3.47G [02:12<00:31, 23.3MB/s]\rDownloading AlphaFold2-ptm weights to /root/.cache/colabfold:  80%|████████  | 2.78G/3.47G [02:12<00:31, 23.3MB/s]\rDownloading AlphaFold2-ptm weights to /root/.cache/colabfold:  80%|████████  | 2.79G/3.47G [02:12<00:31, 23.3MB/s]\rDownloading AlphaFold2-ptm weights to /root/.cache/colabfold:  81%|████████  | 2.79G/3.47G [02:13<00:31, 23.3MB/s]\rDownloading AlphaFold2-ptm weights to /root/.cache/colabfold:  81%|████████  | 2.80G/3.47G [02:13<00:32, 22.1MB/s]\rDownloading AlphaFold2-ptm weights to /root/.cache/colabfold:  81%|████████  | 2.80G/3.47G [02:13<00:36, 19.6MB/s]\rDownloading AlphaFold2-ptm weights to /root/.cache/colabfold:  81%|████████  | 2.80G/3.47G [02:13<00:41, 17.5MB/s]\rDownloading AlphaFold2-ptm weights to /root/.cache/colabfold:  81%|████████  | 2.80G/3.47G [02:13<00:37, 19.2MB/s]\rDownloading AlphaFold2-ptm weights to /root/.cache/colabfold:  81%|████████  | 2.81G/3.47G [02:13<00:34, 20.4MB/s]\rDownloading AlphaFold2-ptm weights to /root/.cache/colabfold:  81%|████████  | 2.81G/3.47G [02:14<00:33, 21.3MB/s]\rDownloading AlphaFold2-ptm weights to /root/.cache/colabfold:  81%|████████  | 2.81G/3.47G [02:14<00:32, 21.8MB/s]\rDownloading AlphaFold2-ptm weights to /root/.cache/colabfold:  81%|████████▏ | 2.82G/3.47G [02:14<00:31, 22.3MB/s]\rDownloading AlphaFold2-ptm weights to /root/.cache/colabfold:  81%|████████▏ | 2.82G/3.47G [02:14<00:30, 22.6MB/s]\rDownloading AlphaFold2-ptm weights to /root/.cache/colabfold:  81%|████████▏ | 2.82G/3.47G [02:14<00:30, 22.8MB/s]\rDownloading AlphaFold2-ptm weights to /root/.cache/colabfold:  82%|████████▏ | 2.83G/3.47G [02:14<00:29, 22.9MB/s]\rDownloading AlphaFold2-ptm weights to /root/.cache/colabfold:  82%|████████▏ | 2.83G/3.47G [02:15<00:29, 23.0MB/s]\rDownloading AlphaFold2-ptm weights to /root/.cache/colabfold:  82%|████████▏ | 2.84G/3.47G [02:15<00:29, 23.1MB/s]\rDownloading AlphaFold2-ptm weights to /root/.cache/colabfold:  82%|████████▏ | 2.84G/3.47G [02:15<00:30, 22.2MB/s]\rDownloading AlphaFold2-ptm weights to /root/.cache/colabfold:  82%|████████▏ | 2.84G/3.47G [02:15<00:30, 21.8MB/s]\rDownloading AlphaFold2-ptm weights to /root/.cache/colabfold:  82%|████████▏ | 2.85G/3.47G [02:15<00:30, 22.2MB/s]\rDownloading AlphaFold2-ptm weights to /root/.cache/colabfold:  82%|████████▏ | 2.85G/3.47G [02:15<00:29, 22.6MB/s]\rDownloading AlphaFold2-ptm weights to /root/.cache/colabfold:  82%|████████▏ | 2.85G/3.47G [02:16<00:28, 22.8MB/s]\rDownloading AlphaFold2-ptm weights to /root/.cache/colabfold:  82%|████████▏ | 2.86G/3.47G [02:16<00:28, 23.0MB/s]\rDownloading AlphaFold2-ptm weights to /root/.cache/colabfold:  82%|████████▏ | 2.86G/3.47G [02:16<00:28, 23.1MB/s]\rDownloading AlphaFold2-ptm weights to /root/.cache/colabfold:  83%|████████▎ | 2.86G/3.47G [02:16<00:27, 23.2MB/s]\rDownloading AlphaFold2-ptm weights to /root/.cache/colabfold:  83%|████████▎ | 2.87G/3.47G [02:16<00:27, 23.2MB/s]\rDownloading AlphaFold2-ptm weights to /root/.cache/colabfold:  83%|████████▎ | 2.87G/3.47G [02:16<00:27, 23.3MB/s]\rDownloading AlphaFold2-ptm weights to /root/.cache/colabfold:  83%|████████▎ | 2.87G/3.47G [02:17<00:27, 23.3MB/s]\rDownloading AlphaFold2-ptm weights to /root/.cache/colabfold:  83%|████████▎ | 2.88G/3.47G [02:17<00:27, 23.3MB/s]\rDownloading AlphaFold2-ptm weights to /root/.cache/colabfold:  83%|████████▎ | 2.88G/3.47G [02:17<00:26, 23.3MB/s]\rDownloading AlphaFold2-ptm weights to /root/.cache/colabfold:  83%|████████▎ | 2.88G/3.47G [02:17<00:26, 23.3MB/s]\rDownloading AlphaFold2-ptm weights to /root/.cache/colabfold:  83%|████████▎ | 2.89G/3.47G [02:17<00:26, 23.3MB/s]\rDownloading AlphaFold2-ptm weights to /root/.cache/colabfold:  83%|████████▎ | 2.89G/3.47G [02:17<00:26, 23.4MB/s]\rDownloading AlphaFold2-ptm weights to /root/.cache/colabfold:  84%|████████▎ | 2.90G/3.47G [02:18<00:26, 23.3MB/s]\rDownloading AlphaFold2-ptm weights to /root/.cache/colabfold:  84%|████████▎ | 2.90G/3.47G [02:18<00:26, 23.3MB/s]\rDownloading AlphaFold2-ptm weights to /root/.cache/colabfold:  84%|████████▎ | 2.90G/3.47G [02:18<00:26, 23.3MB/s]\rDownloading AlphaFold2-ptm weights to /root/.cache/colabfold:  84%|████████▍ | 2.91G/3.47G [02:18<00:25, 23.3MB/s]\rDownloading AlphaFold2-ptm weights to /root/.cache/colabfold:  84%|████████▍ | 2.91G/3.47G [02:18<00:25, 23.3MB/s]\rDownloading AlphaFold2-ptm weights to /root/.cache/colabfold:  84%|████████▍ | 2.91G/3.47G [02:18<00:25, 23.3MB/s]\rDownloading AlphaFold2-ptm weights to /root/.cache/colabfold:  84%|████████▍ | 2.92G/3.47G [02:19<00:25, 23.3MB/s]\rDownloading AlphaFold2-ptm weights to /root/.cache/colabfold:  84%|████████▍ | 2.92G/3.47G [02:19<00:25, 23.3MB/s]\rDownloading AlphaFold2-ptm weights to /root/.cache/colabfold:  84%|████████▍ | 2.92G/3.47G [02:19<00:25, 23.3MB/s]\rDownloading AlphaFold2-ptm weights to /root/.cache/colabfold:  84%|████████▍ | 2.93G/3.47G [02:19<00:24, 23.3MB/s]\rDownloading AlphaFold2-ptm weights to /root/.cache/colabfold:  85%|████████▍ | 2.93G/3.47G [02:19<00:24, 23.3MB/s]\rDownloading AlphaFold2-ptm weights to /root/.cache/colabfold:  85%|████████▍ | 2.93G/3.47G [02:19<00:24, 23.3MB/s]\rDownloading AlphaFold2-ptm weights to /root/.cache/colabfold:  85%|████████▍ | 2.94G/3.47G [02:20<00:24, 23.3MB/s]\rDownloading AlphaFold2-ptm weights to /root/.cache/colabfold:  85%|████████▍ | 2.94G/3.47G [02:20<00:24, 23.3MB/s]\rDownloading AlphaFold2-ptm weights to /root/.cache/colabfold:  85%|████████▍ | 2.95G/3.47G [02:20<00:24, 23.3MB/s]\rDownloading AlphaFold2-ptm weights to /root/.cache/colabfold:  85%|████████▌ | 2.95G/3.47G [02:20<00:23, 23.3MB/s]\rDownloading AlphaFold2-ptm weights to /root/.cache/colabfold:  85%|████████▌ | 2.95G/3.47G [02:20<00:23, 23.3MB/s]\rDownloading AlphaFold2-ptm weights to /root/.cache/colabfold:  85%|████████▌ | 2.96G/3.47G [02:20<00:23, 23.3MB/s]\rDownloading AlphaFold2-ptm weights to /root/.cache/colabfold:  85%|████████▌ | 2.96G/3.47G [02:21<00:23, 23.3MB/s]\rDownloading AlphaFold2-ptm weights to /root/.cache/colabfold:  85%|████████▌ | 2.96G/3.47G [02:21<00:23, 23.3MB/s]\rDownloading AlphaFold2-ptm weights to /root/.cache/colabfold:  86%|████████▌ | 2.97G/3.47G [02:21<00:23, 23.3MB/s]\rDownloading AlphaFold2-ptm weights to /root/.cache/colabfold:  86%|████████▌ | 2.97G/3.47G [02:21<00:22, 23.3MB/s]\rDownloading AlphaFold2-ptm weights to /root/.cache/colabfold:  86%|████████▌ | 2.97G/3.47G [02:21<00:22, 23.3MB/s]\rDownloading AlphaFold2-ptm weights to /root/.cache/colabfold:  86%|████████▌ | 2.98G/3.47G [02:21<00:22, 23.3MB/s]\rDownloading AlphaFold2-ptm weights to /root/.cache/colabfold:  86%|████████▌ | 2.98G/3.47G [02:22<00:22, 23.3MB/s]\rDownloading AlphaFold2-ptm weights to /root/.cache/colabfold:  86%|████████▌ | 2.98G/3.47G [02:22<00:22, 23.3MB/s]\rDownloading AlphaFold2-ptm weights to /root/.cache/colabfold:  86%|████████▌ | 2.99G/3.47G [02:22<00:22, 23.3MB/s]\rDownloading AlphaFold2-ptm weights to /root/.cache/colabfold:  86%|████████▋ | 2.99G/3.47G [02:22<00:21, 23.3MB/s]\rDownloading AlphaFold2-ptm weights to /root/.cache/colabfold:  86%|████████▋ | 2.99G/3.47G [02:22<00:21, 23.3MB/s]\rDownloading AlphaFold2-ptm weights to /root/.cache/colabfold:  86%|████████▋ | 3.00G/3.47G [02:22<00:21, 23.3MB/s]\rDownloading AlphaFold2-ptm weights to /root/.cache/colabfold:  87%|████████▋ | 3.00G/3.47G [02:23<00:21, 23.3MB/s]\rDownloading AlphaFold2-ptm weights to /root/.cache/colabfold:  87%|████████▋ | 3.01G/3.47G [02:23<00:21, 23.3MB/s]\rDownloading AlphaFold2-ptm weights to /root/.cache/colabfold:  87%|████████▋ | 3.01G/3.47G [02:23<00:22, 22.2MB/s]\rDownloading AlphaFold2-ptm weights to /root/.cache/colabfold:  87%|████████▋ | 3.01G/3.47G [02:23<00:24, 19.6MB/s]\rDownloading AlphaFold2-ptm weights to /root/.cache/colabfold:  87%|████████▋ | 3.01G/3.47G [02:23<00:27, 17.5MB/s]\rDownloading AlphaFold2-ptm weights to /root/.cache/colabfold:  87%|████████▋ | 3.02G/3.47G [02:23<00:25, 19.3MB/s]\rDownloading AlphaFold2-ptm weights to /root/.cache/colabfold:  87%|████████▋ | 3.02G/3.47G [02:24<00:23, 20.5MB/s]\rDownloading AlphaFold2-ptm weights to /root/.cache/colabfold:  87%|████████▋ | 3.02G/3.47G [02:24<00:22, 21.3MB/s]\rDownloading AlphaFold2-ptm weights to /root/.cache/colabfold:  87%|████████▋ | 3.03G/3.47G [02:24<00:21, 21.9MB/s]\rDownloading AlphaFold2-ptm weights to /root/.cache/colabfold:  87%|████████▋ | 3.03G/3.47G [02:24<00:20, 22.3MB/s]\rDownloading AlphaFold2-ptm weights to /root/.cache/colabfold:  88%|████████▊ | 3.03G/3.47G [02:24<00:20, 22.6MB/s]\rDownloading AlphaFold2-ptm weights to /root/.cache/colabfold:  88%|████████▊ | 3.04G/3.47G [02:24<00:20, 22.8MB/s]\rDownloading AlphaFold2-ptm weights to /root/.cache/colabfold:  88%|████████▊ | 3.04G/3.47G [02:25<00:19, 23.0MB/s]\rDownloading AlphaFold2-ptm weights to /root/.cache/colabfold:  88%|████████▊ | 3.05G/3.47G [02:25<00:19, 23.1MB/s]\rDownloading AlphaFold2-ptm weights to /root/.cache/colabfold:  88%|████████▊ | 3.05G/3.47G [02:25<00:19, 23.1MB/s]\rDownloading AlphaFold2-ptm weights to /root/.cache/colabfold:  88%|████████▊ | 3.05G/3.47G [02:25<00:19, 23.2MB/s]\rDownloading AlphaFold2-ptm weights to /root/.cache/colabfold:  88%|████████▊ | 3.06G/3.47G [02:25<00:19, 23.2MB/s]\rDownloading AlphaFold2-ptm weights to /root/.cache/colabfold:  88%|████████▊ | 3.06G/3.47G [02:25<00:19, 22.2MB/s]\rDownloading AlphaFold2-ptm weights to /root/.cache/colabfold:  88%|████████▊ | 3.06G/3.47G [02:26<00:19, 21.8MB/s]\rDownloading AlphaFold2-ptm weights to /root/.cache/colabfold:  88%|████████▊ | 3.07G/3.47G [02:26<00:19, 22.2MB/s]\rDownloading AlphaFold2-ptm weights to /root/.cache/colabfold:  89%|████████▊ | 3.07G/3.47G [02:26<00:18, 22.5MB/s]\rDownloading AlphaFold2-ptm weights to /root/.cache/colabfold:  89%|████████▊ | 3.07G/3.47G [02:26<00:18, 22.8MB/s]\rDownloading AlphaFold2-ptm weights to /root/.cache/colabfold:  89%|████████▊ | 3.08G/3.47G [02:26<00:18, 22.9MB/s]\rDownloading AlphaFold2-ptm weights to /root/.cache/colabfold:  89%|████████▉ | 3.08G/3.47G [02:26<00:18, 23.0MB/s]\rDownloading AlphaFold2-ptm weights to /root/.cache/colabfold:  89%|████████▉ | 3.08G/3.47G [02:27<00:17, 23.1MB/s]\rDownloading AlphaFold2-ptm weights to /root/.cache/colabfold:  89%|████████▉ | 3.09G/3.47G [02:27<00:17, 23.2MB/s]\rDownloading AlphaFold2-ptm weights to /root/.cache/colabfold:  89%|████████▉ | 3.09G/3.47G [02:27<00:17, 23.2MB/s]\rDownloading AlphaFold2-ptm weights to /root/.cache/colabfold:  89%|████████▉ | 3.09G/3.47G [02:27<00:17, 23.2MB/s]\rDownloading AlphaFold2-ptm weights to /root/.cache/colabfold:  89%|████████▉ | 3.10G/3.47G [02:27<00:17, 23.3MB/s]\rDownloading AlphaFold2-ptm weights to /root/.cache/colabfold:  89%|████████▉ | 3.10G/3.47G [02:27<00:16, 23.3MB/s]\rDownloading AlphaFold2-ptm weights to /root/.cache/colabfold:  90%|████████▉ | 3.11G/3.47G [02:27<00:16, 23.3MB/s]\rDownloading AlphaFold2-ptm weights to /root/.cache/colabfold:  90%|████████▉ | 3.11G/3.47G [02:28<00:16, 23.3MB/s]\rDownloading AlphaFold2-ptm weights to /root/.cache/colabfold:  90%|████████▉ | 3.11G/3.47G [02:28<00:16, 23.3MB/s]\rDownloading AlphaFold2-ptm weights to /root/.cache/colabfold:  90%|████████▉ | 3.12G/3.47G [02:28<00:16, 23.3MB/s]\rDownloading AlphaFold2-ptm weights to /root/.cache/colabfold:  90%|████████▉ | 3.12G/3.47G [02:28<00:16, 23.3MB/s]\rDownloading AlphaFold2-ptm weights to /root/.cache/colabfold:  90%|█████████ | 3.12G/3.47G [02:28<00:15, 23.3MB/s]\rDownloading AlphaFold2-ptm weights to /root/.cache/colabfold:  90%|█████████ | 3.13G/3.47G [02:28<00:15, 23.3MB/s]\rDownloading AlphaFold2-ptm weights to /root/.cache/colabfold:  90%|█████████ | 3.13G/3.47G [02:29<00:15, 23.3MB/s]\rDownloading AlphaFold2-ptm weights to /root/.cache/colabfold:  90%|█████████ | 3.13G/3.47G [02:29<00:15, 23.3MB/s]\rDownloading AlphaFold2-ptm weights to /root/.cache/colabfold:  90%|█████████ | 3.14G/3.47G [02:29<00:15, 23.3MB/s]\rDownloading AlphaFold2-ptm weights to /root/.cache/colabfold:  91%|█████████ | 3.14G/3.47G [02:29<00:15, 23.3MB/s]\rDownloading AlphaFold2-ptm weights to /root/.cache/colabfold:  91%|█████████ | 3.14G/3.47G [02:29<00:14, 23.3MB/s]\rDownloading AlphaFold2-ptm weights to /root/.cache/colabfold:  91%|█████████ | 3.15G/3.47G [02:29<00:14, 23.3MB/s]\rDownloading AlphaFold2-ptm weights to /root/.cache/colabfold:  91%|█████████ | 3.15G/3.47G [02:30<00:14, 23.3MB/s]\rDownloading AlphaFold2-ptm weights to /root/.cache/colabfold:  91%|█████████ | 3.16G/3.47G [02:30<00:14, 23.4MB/s]\rDownloading AlphaFold2-ptm weights to /root/.cache/colabfold:  91%|█████████ | 3.16G/3.47G [02:30<00:14, 23.3MB/s]\rDownloading AlphaFold2-ptm weights to /root/.cache/colabfold:  91%|█████████ | 3.16G/3.47G [02:30<00:14, 23.4MB/s]\rDownloading AlphaFold2-ptm weights to /root/.cache/colabfold:  91%|█████████▏| 3.17G/3.47G [02:30<00:13, 23.3MB/s]\rDownloading AlphaFold2-ptm weights to /root/.cache/colabfold:  91%|█████████▏| 3.17G/3.47G [02:30<00:13, 23.3MB/s]\rDownloading AlphaFold2-ptm weights to /root/.cache/colabfold:  92%|█████████▏| 3.17G/3.47G [02:31<00:13, 23.3MB/s]\rDownloading AlphaFold2-ptm weights to /root/.cache/colabfold:  92%|█████████▏| 3.18G/3.47G [02:31<00:13, 23.3MB/s]\rDownloading AlphaFold2-ptm weights to /root/.cache/colabfold:  92%|█████████▏| 3.18G/3.47G [02:31<00:13, 23.3MB/s]\rDownloading AlphaFold2-ptm weights to /root/.cache/colabfold:  92%|█████████▏| 3.18G/3.47G [02:31<00:13, 23.3MB/s]\rDownloading AlphaFold2-ptm weights to /root/.cache/colabfold:  92%|█████████▏| 3.19G/3.47G [02:31<00:12, 23.3MB/s]\rDownloading AlphaFold2-ptm weights to /root/.cache/colabfold:  92%|█████████▏| 3.19G/3.47G [02:31<00:12, 23.3MB/s]\rDownloading AlphaFold2-ptm weights to /root/.cache/colabfold:  92%|█████████▏| 3.19G/3.47G [02:32<00:12, 23.2MB/s]\rDownloading AlphaFold2-ptm weights to /root/.cache/colabfold:  92%|█████████▏| 3.20G/3.47G [02:32<00:12, 23.3MB/s]\rDownloading AlphaFold2-ptm weights to /root/.cache/colabfold:  92%|█████████▏| 3.20G/3.47G [02:32<00:12, 23.3MB/s]\rDownloading AlphaFold2-ptm weights to /root/.cache/colabfold:  92%|█████████▏| 3.21G/3.47G [02:32<00:12, 22.1MB/s]\rDownloading AlphaFold2-ptm weights to /root/.cache/colabfold:  93%|█████████▎| 3.21G/3.47G [02:32<00:12, 21.7MB/s]\rDownloading AlphaFold2-ptm weights to /root/.cache/colabfold:  93%|█████████▎| 3.21G/3.47G [02:32<00:12, 22.2MB/s]\rDownloading AlphaFold2-ptm weights to /root/.cache/colabfold:  93%|█████████▎| 3.22G/3.47G [02:33<00:12, 22.5MB/s]\rDownloading AlphaFold2-ptm weights to /root/.cache/colabfold:  93%|█████████▎| 3.22G/3.47G [02:33<00:11, 22.7MB/s]\rDownloading AlphaFold2-ptm weights to /root/.cache/colabfold:  93%|█████████▎| 3.22G/3.47G [02:33<00:11, 22.9MB/s]\rDownloading AlphaFold2-ptm weights to /root/.cache/colabfold:  93%|█████████▎| 3.23G/3.47G [02:33<00:11, 23.0MB/s]\rDownloading AlphaFold2-ptm weights to /root/.cache/colabfold:  93%|█████████▎| 3.23G/3.47G [02:33<00:11, 23.1MB/s]\rDownloading AlphaFold2-ptm weights to /root/.cache/colabfold:  93%|█████████▎| 3.23G/3.47G [02:33<00:10, 23.1MB/s]\rDownloading AlphaFold2-ptm weights to /root/.cache/colabfold:  93%|█████████▎| 3.24G/3.47G [02:34<00:10, 23.2MB/s]\rDownloading AlphaFold2-ptm weights to /root/.cache/colabfold:  93%|█████████▎| 3.24G/3.47G [02:34<00:10, 23.2MB/s]\rDownloading AlphaFold2-ptm weights to /root/.cache/colabfold:  94%|█████████▎| 3.24G/3.47G [02:34<00:10, 21.9MB/s]\rDownloading AlphaFold2-ptm weights to /root/.cache/colabfold:  94%|█████████▎| 3.25G/3.47G [02:34<00:12, 19.4MB/s]\rDownloading AlphaFold2-ptm weights to /root/.cache/colabfold:  94%|█████████▎| 3.25G/3.47G [02:34<00:13, 17.3MB/s]\rDownloading AlphaFold2-ptm weights to /root/.cache/colabfold:  94%|█████████▍| 3.25G/3.47G [02:34<00:12, 19.2MB/s]\rDownloading AlphaFold2-ptm weights to /root/.cache/colabfold:  94%|█████████▍| 3.25G/3.47G [02:35<00:11, 20.4MB/s]\rDownloading AlphaFold2-ptm weights to /root/.cache/colabfold:  94%|█████████▍| 3.26G/3.47G [02:35<00:10, 21.3MB/s]\rDownloading AlphaFold2-ptm weights to /root/.cache/colabfold:  94%|█████████▍| 3.26G/3.47G [02:35<00:10, 21.7MB/s]\rDownloading AlphaFold2-ptm weights to /root/.cache/colabfold:  94%|█████████▍| 3.27G/3.47G [02:35<00:09, 22.2MB/s]\rDownloading AlphaFold2-ptm weights to /root/.cache/colabfold:  94%|█████████▍| 3.27G/3.47G [02:35<00:09, 22.5MB/s]\rDownloading AlphaFold2-ptm weights to /root/.cache/colabfold:  94%|█████████▍| 3.27G/3.47G [02:35<00:09, 22.7MB/s]\rDownloading AlphaFold2-ptm weights to /root/.cache/colabfold:  94%|█████████▍| 3.28G/3.47G [02:36<00:08, 22.9MB/s]\rDownloading AlphaFold2-ptm weights to /root/.cache/colabfold:  95%|█████████▍| 3.28G/3.47G [02:36<00:08, 23.0MB/s]\rDownloading AlphaFold2-ptm weights to /root/.cache/colabfold:  95%|█████████▍| 3.28G/3.47G [02:36<00:08, 23.1MB/s]\rDownloading AlphaFold2-ptm weights to /root/.cache/colabfold:  95%|█████████▍| 3.29G/3.47G [02:36<00:08, 23.2MB/s]\rDownloading AlphaFold2-ptm weights to /root/.cache/colabfold:  95%|█████████▍| 3.29G/3.47G [02:36<00:08, 23.2MB/s]\rDownloading AlphaFold2-ptm weights to /root/.cache/colabfold:  95%|█████████▌| 3.29G/3.47G [02:36<00:08, 23.1MB/s]\rDownloading AlphaFold2-ptm weights to /root/.cache/colabfold:  95%|█████████▌| 3.30G/3.47G [02:37<00:07, 23.2MB/s]\rDownloading AlphaFold2-ptm weights to /root/.cache/colabfold:  95%|█████████▌| 3.30G/3.47G [02:37<00:07, 23.2MB/s]\rDownloading AlphaFold2-ptm weights to /root/.cache/colabfold:  95%|█████████▌| 3.30G/3.47G [02:37<00:07, 23.2MB/s]\rDownloading AlphaFold2-ptm weights to /root/.cache/colabfold:  95%|█████████▌| 3.31G/3.47G [02:37<00:07, 23.3MB/s]\rDownloading AlphaFold2-ptm weights to /root/.cache/colabfold:  96%|█████████▌| 3.31G/3.47G [02:37<00:07, 23.3MB/s]\rDownloading AlphaFold2-ptm weights to /root/.cache/colabfold:  96%|█████████▌| 3.32G/3.47G [02:37<00:06, 23.3MB/s]\rDownloading AlphaFold2-ptm weights to /root/.cache/colabfold:  96%|█████████▌| 3.32G/3.47G [02:38<00:06, 23.3MB/s]\rDownloading AlphaFold2-ptm weights to /root/.cache/colabfold:  96%|█████████▌| 3.32G/3.47G [02:38<00:06, 23.3MB/s]\rDownloading AlphaFold2-ptm weights to /root/.cache/colabfold:  96%|█████████▌| 3.33G/3.47G [02:38<00:06, 23.3MB/s]\rDownloading AlphaFold2-ptm weights to /root/.cache/colabfold:  96%|█████████▌| 3.33G/3.47G [02:38<00:06, 23.3MB/s]\rDownloading AlphaFold2-ptm weights to /root/.cache/colabfold:  96%|█████████▌| 3.33G/3.47G [02:38<00:06, 23.3MB/s]\rDownloading AlphaFold2-ptm weights to /root/.cache/colabfold:  96%|█████████▌| 3.34G/3.47G [02:38<00:06, 23.3MB/s]\rDownloading AlphaFold2-ptm weights to /root/.cache/colabfold:  96%|█████████▋| 3.34G/3.47G [02:39<00:05, 23.3MB/s]\rDownloading AlphaFold2-ptm weights to /root/.cache/colabfold:  96%|█████████▋| 3.34G/3.47G [02:39<00:05, 23.3MB/s]\rDownloading AlphaFold2-ptm weights to /root/.cache/colabfold:  97%|█████████▋| 3.35G/3.47G [02:39<00:05, 23.3MB/s]\rDownloading AlphaFold2-ptm weights to /root/.cache/colabfold:  97%|█████████▋| 3.35G/3.47G [02:39<00:05, 23.3MB/s]\rDownloading AlphaFold2-ptm weights to /root/.cache/colabfold:  97%|█████████▋| 3.35G/3.47G [02:39<00:05, 23.3MB/s]\rDownloading AlphaFold2-ptm weights to /root/.cache/colabfold:  97%|█████████▋| 3.36G/3.47G [02:39<00:05, 23.3MB/s]\rDownloading AlphaFold2-ptm weights to /root/.cache/colabfold:  97%|█████████▋| 3.36G/3.47G [02:40<00:04, 23.3MB/s]\rDownloading AlphaFold2-ptm weights to /root/.cache/colabfold:  97%|█████████▋| 3.37G/3.47G [02:40<00:04, 23.3MB/s]\rDownloading AlphaFold2-ptm weights to /root/.cache/colabfold:  97%|█████████▋| 3.37G/3.47G [02:40<00:04, 23.3MB/s]\rDownloading AlphaFold2-ptm weights to /root/.cache/colabfold:  97%|█████████▋| 3.37G/3.47G [02:40<00:04, 23.3MB/s]\rDownloading AlphaFold2-ptm weights to /root/.cache/colabfold:  97%|█████████▋| 3.38G/3.47G [02:40<00:04, 22.0MB/s]\rDownloading AlphaFold2-ptm weights to /root/.cache/colabfold:  97%|█████████▋| 3.38G/3.47G [02:40<00:04, 21.7MB/s]\rDownloading AlphaFold2-ptm weights to /root/.cache/colabfold:  98%|█████████▊| 3.38G/3.47G [02:41<00:04, 22.1MB/s]\rDownloading AlphaFold2-ptm weights to /root/.cache/colabfold:  98%|█████████▊| 3.39G/3.47G [02:41<00:03, 22.5MB/s]\rDownloading AlphaFold2-ptm weights to /root/.cache/colabfold:  98%|█████████▊| 3.39G/3.47G [02:41<00:03, 22.7MB/s]\rDownloading AlphaFold2-ptm weights to /root/.cache/colabfold:  98%|█████████▊| 3.39G/3.47G [02:41<00:03, 22.9MB/s]\rDownloading AlphaFold2-ptm weights to /root/.cache/colabfold:  98%|█████████▊| 3.40G/3.47G [02:41<00:03, 23.0MB/s]\rDownloading AlphaFold2-ptm weights to /root/.cache/colabfold:  98%|█████████▊| 3.40G/3.47G [02:41<00:03, 23.1MB/s]\rDownloading AlphaFold2-ptm weights to /root/.cache/colabfold:  98%|█████████▊| 3.40G/3.47G [02:42<00:02, 23.2MB/s]\rDownloading AlphaFold2-ptm weights to /root/.cache/colabfold:  98%|█████████▊| 3.41G/3.47G [02:42<00:02, 23.2MB/s]\rDownloading AlphaFold2-ptm weights to /root/.cache/colabfold:  98%|█████████▊| 3.41G/3.47G [02:42<00:02, 23.2MB/s]\rDownloading AlphaFold2-ptm weights to /root/.cache/colabfold:  98%|█████████▊| 3.41G/3.47G [02:42<00:02, 23.2MB/s]\rDownloading AlphaFold2-ptm weights to /root/.cache/colabfold:  99%|█████████▊| 3.42G/3.47G [02:42<00:02, 23.2MB/s]\rDownloading AlphaFold2-ptm weights to /root/.cache/colabfold:  99%|█████████▊| 3.42G/3.47G [02:42<00:02, 23.3MB/s]\rDownloading AlphaFold2-ptm weights to /root/.cache/colabfold:  99%|█████████▉| 3.43G/3.47G [02:43<00:01, 23.3MB/s]\rDownloading AlphaFold2-ptm weights to /root/.cache/colabfold:  99%|█████████▉| 3.43G/3.47G [02:43<00:01, 23.2MB/s]\rDownloading AlphaFold2-ptm weights to /root/.cache/colabfold:  99%|█████████▉| 3.43G/3.47G [02:43<00:01, 23.2MB/s]\rDownloading AlphaFold2-ptm weights to /root/.cache/colabfold:  99%|█████████▉| 3.44G/3.47G [02:43<00:01, 23.2MB/s]\rDownloading AlphaFold2-ptm weights to /root/.cache/colabfold:  99%|█████████▉| 3.44G/3.47G [02:43<00:01, 23.2MB/s]\rDownloading AlphaFold2-ptm weights to /root/.cache/colabfold:  99%|█████████▉| 3.44G/3.47G [02:43<00:01, 23.3MB/s]\rDownloading AlphaFold2-ptm weights to /root/.cache/colabfold:  99%|█████████▉| 3.45G/3.47G [02:44<00:00, 21.9MB/s]\rDownloading AlphaFold2-ptm weights to /root/.cache/colabfold:  99%|█████████▉| 3.45G/3.47G [02:44<00:01, 19.5MB/s]\rDownloading AlphaFold2-ptm weights to /root/.cache/colabfold: 100%|█████████▉| 3.45G/3.47G [02:44<00:01, 17.4MB/s]\rDownloading AlphaFold2-ptm weights to /root/.cache/colabfold: 100%|█████████▉| 3.45G/3.47G [02:44<00:00, 19.3MB/s]\rDownloading AlphaFold2-ptm weights to /root/.cache/colabfold: 100%|█████████▉| 3.46G/3.47G [02:44<00:00, 20.5MB/s]\rDownloading AlphaFold2-ptm weights to /root/.cache/colabfold: 100%|█████████▉| 3.46G/3.47G [02:44<00:00, 21.3MB/s]\rDownloading AlphaFold2-ptm weights to /root/.cache/colabfold: 100%|█████████▉| 3.47G/3.47G [02:45<00:00, 21.9MB/s]\rDownloading AlphaFold2-ptm weights to /root/.cache/colabfold: 100%|██████████| 3.47G/3.47G [02:45<00:00, 22.5MB/s]\n"
          ]
        }
      ]
    },
    {
      "cell_type": "code",
      "metadata": {
        "id": "hUYApPElB30u",
        "cellView": "form",
        "outputId": "9ebc74e9-8774-4cd6-9268-99337b8ee5e3",
        "colab": {
          "base_uri": "https://localhost:8080/"
        }
      },
      "source": [
        "#@title Run Prediction\n",
        "\n",
        "import sys\n",
        "\n",
        "from colabfold.batch import get_queries, run\n",
        "from colabfold.download import default_data_dir\n",
        "from colabfold.utils import setup_logging\n",
        "from pathlib import Path\n",
        "\n",
        "# For some reason we need that to get pdbfixer to import\n",
        "if use_amber and f\"/usr/local/lib/python{python_version}/site-packages/\" not in sys.path:\n",
        "    sys.path.insert(0, f\"/usr/local/lib/python{python_version}/site-packages/\")\n",
        "\n",
        "setup_logging(Path(result_dir).joinpath(\"log.txt\"))\n",
        "\n",
        "queries, is_complex = get_queries(input_dir)\n",
        "run(\n",
        "    queries=queries,\n",
        "    result_dir=result_dir,\n",
        "    use_templates=use_templates,\n",
        "    num_relax=num_relax,\n",
        "    relax_max_iterations=relax_max_iterations,\n",
        "    msa_mode=msa_mode,\n",
        "    model_type=\"auto\",\n",
        "    num_models=num_models,\n",
        "    num_recycles=num_recycles,\n",
        "    model_order=[1, 2, 3, 4, 5],\n",
        "    is_complex=is_complex,\n",
        "    data_dir=default_data_dir,\n",
        "    keep_existing_results=do_not_overwrite_results,\n",
        "    rank_by=\"auto\",\n",
        "    pair_mode=\"unpaired+paired\",\n",
        "    stop_at_score=stop_at_score,\n",
        "    zip_results=zip_results,\n",
        "    user_agent=\"colabfold/google-colab-batch\",\n",
        ")"
      ],
      "execution_count": 5,
      "outputs": [
        {
          "output_type": "stream",
          "name": "stdout",
          "text": [
            "2025-08-17 12:13:43,042 Running on GPU\n",
            "2025-08-17 12:13:43,401 Found 8 citations for tools or databases\n",
            "2025-08-17 12:13:43,402 Query 1/9: pilin_WP_011051752.1 (length 143)\n"
          ]
        },
        {
          "output_type": "stream",
          "name": "stderr",
          "text": [
            "COMPLETE: 100%|██████████| 150/150 [elapsed: 00:03 remaining: 00:00]\n"
          ]
        },
        {
          "output_type": "stream",
          "name": "stdout",
          "text": [
            "2025-08-17 12:13:53,659 Sequence 0 found templates: ['6vk9_A', '2m7g_A', '5vxx_A', '2pil_A', '2hi2_A']\n",
            "2025-08-17 12:14:16,942 Padding length to 153\n",
            "2025-08-17 12:15:03,266 alphafold2_ptm_model_1_seed_000 recycle=0 pLDDT=91.2 pTM=0.753\n",
            "2025-08-17 12:15:43,709 alphafold2_ptm_model_1_seed_000 recycle=1 pLDDT=91.4 pTM=0.761 tol=0.236\n",
            "2025-08-17 12:15:55,319 alphafold2_ptm_model_1_seed_000 recycle=2 pLDDT=91.6 pTM=0.758 tol=0.238\n",
            "2025-08-17 12:16:07,098 alphafold2_ptm_model_1_seed_000 recycle=3 pLDDT=91.5 pTM=0.756 tol=0.0913\n",
            "2025-08-17 12:16:07,099 alphafold2_ptm_model_1_seed_000 took 110.2s (3 recycles)\n",
            "2025-08-17 12:16:18,974 alphafold2_ptm_model_2_seed_000 recycle=0 pLDDT=91 pTM=0.756\n",
            "2025-08-17 12:16:30,692 alphafold2_ptm_model_2_seed_000 recycle=1 pLDDT=91.1 pTM=0.762 tol=0.364\n",
            "2025-08-17 12:16:42,378 alphafold2_ptm_model_2_seed_000 recycle=2 pLDDT=91.1 pTM=0.761 tol=0.133\n",
            "2025-08-17 12:16:53,988 alphafold2_ptm_model_2_seed_000 recycle=3 pLDDT=91.2 pTM=0.765 tol=0.141\n",
            "2025-08-17 12:16:53,989 alphafold2_ptm_model_2_seed_000 took 46.8s (3 recycles)\n",
            "2025-08-17 12:17:25,574 alphafold2_ptm_model_3_seed_000 recycle=0 pLDDT=91.9 pTM=0.762\n",
            "2025-08-17 12:17:55,715 alphafold2_ptm_model_3_seed_000 recycle=1 pLDDT=92.1 pTM=0.765 tol=0.457\n",
            "2025-08-17 12:18:07,538 alphafold2_ptm_model_3_seed_000 recycle=2 pLDDT=92.9 pTM=0.778 tol=0.337\n",
            "2025-08-17 12:18:19,161 alphafold2_ptm_model_3_seed_000 recycle=3 pLDDT=93.1 pTM=0.775 tol=0.115\n",
            "2025-08-17 12:18:19,162 alphafold2_ptm_model_3_seed_000 took 85.1s (3 recycles)\n",
            "2025-08-17 12:18:19,197 reranking models by 'plddt' metric\n",
            "2025-08-17 12:18:19,198 rank_001_alphafold2_ptm_model_3_seed_000 pLDDT=93.1 pTM=0.775\n",
            "2025-08-17 12:18:19,201 rank_002_alphafold2_ptm_model_1_seed_000 pLDDT=91.5 pTM=0.756\n",
            "2025-08-17 12:18:19,204 rank_003_alphafold2_ptm_model_2_seed_000 pLDDT=91.2 pTM=0.765\n",
            "2025-08-17 12:18:20,069 Query 2/9: peptidoglycan_associated_WP_003482562.1 (length 172)\n"
          ]
        },
        {
          "output_type": "stream",
          "name": "stderr",
          "text": [
            "COMPLETE: 100%|██████████| 150/150 [elapsed: 00:02 remaining: 00:00]\n"
          ]
        },
        {
          "output_type": "stream",
          "name": "stdout",
          "text": [
            "2025-08-17 12:18:41,634 Sequence 0 found templates: ['4b5c_C', '4g4x_A', '2hqs_H', '2lca_A', '4pwt_A', '4pwt_A', '5lkw_A', '2lbt_A', '2l26_A', '2k1s_A', '6jfw_A', '5u1h_A', '5wtl_C', '5eaz_A', '6iki_A', '5wtp_B', '4rha_A', '2mqe_A', '7rjj_A']\n",
            "2025-08-17 12:18:51,128 Padding length to 182\n",
            "2025-08-17 12:19:41,977 alphafold2_ptm_model_1_seed_000 recycle=0 pLDDT=83.6 pTM=0.688\n",
            "2025-08-17 12:20:27,149 alphafold2_ptm_model_1_seed_000 recycle=1 pLDDT=83.7 pTM=0.691 tol=1.95\n",
            "2025-08-17 12:20:41,474 alphafold2_ptm_model_1_seed_000 recycle=2 pLDDT=83.7 pTM=0.689 tol=1.37\n",
            "2025-08-17 12:20:55,657 alphafold2_ptm_model_1_seed_000 recycle=3 pLDDT=84 pTM=0.694 tol=1.46\n",
            "2025-08-17 12:20:55,658 alphafold2_ptm_model_1_seed_000 took 124.5s (3 recycles)\n",
            "2025-08-17 12:21:09,697 alphafold2_ptm_model_2_seed_000 recycle=0 pLDDT=84.1 pTM=0.692\n",
            "2025-08-17 12:21:23,588 alphafold2_ptm_model_2_seed_000 recycle=1 pLDDT=84.1 pTM=0.696 tol=2.19\n",
            "2025-08-17 12:21:37,491 alphafold2_ptm_model_2_seed_000 recycle=2 pLDDT=84.4 pTM=0.697 tol=0.805\n",
            "2025-08-17 12:21:51,472 alphafold2_ptm_model_2_seed_000 recycle=3 pLDDT=84.8 pTM=0.698 tol=1.36\n",
            "2025-08-17 12:21:51,473 alphafold2_ptm_model_2_seed_000 took 55.8s (3 recycles)\n",
            "2025-08-17 12:22:27,286 alphafold2_ptm_model_3_seed_000 recycle=0 pLDDT=83 pTM=0.698\n",
            "2025-08-17 12:23:03,233 alphafold2_ptm_model_3_seed_000 recycle=1 pLDDT=83.3 pTM=0.701 tol=1.86\n",
            "2025-08-17 12:23:17,411 alphafold2_ptm_model_3_seed_000 recycle=2 pLDDT=83.4 pTM=0.7 tol=1.43\n",
            "2025-08-17 12:23:31,376 alphafold2_ptm_model_3_seed_000 recycle=3 pLDDT=83.6 pTM=0.701 tol=1.98\n",
            "2025-08-17 12:23:31,377 alphafold2_ptm_model_3_seed_000 took 99.9s (3 recycles)\n",
            "2025-08-17 12:23:31,421 reranking models by 'plddt' metric\n",
            "2025-08-17 12:23:31,421 rank_001_alphafold2_ptm_model_2_seed_000 pLDDT=84.8 pTM=0.698\n",
            "2025-08-17 12:23:31,433 rank_002_alphafold2_ptm_model_1_seed_000 pLDDT=84 pTM=0.694\n",
            "2025-08-17 12:23:31,436 rank_003_alphafold2_ptm_model_3_seed_000 pLDDT=83.6 pTM=0.701\n",
            "2025-08-17 12:23:32,266 Query 3/9: binding_proteins_WP_011052220.1 (length 258)\n"
          ]
        },
        {
          "output_type": "stream",
          "name": "stderr",
          "text": [
            "COMPLETE: 100%|██████████| 150/150 [elapsed: 00:02 remaining: 00:00]\n"
          ]
        },
        {
          "output_type": "stream",
          "name": "stdout",
          "text": [
            "2025-08-17 12:23:47,449 Sequence 0 found templates: ['3gzg_B', '2h5y_C', '4xxu_B', '3axf_C', '6nio_A', '4rxl_A', '7t50_B', '1atg_A', '4kd5_C', '7tav_B', '7tav_F', '7tav_E', '7tav_A', '3cfx_B', '3k6w_A', '3cij_B', '2onk_J', '3cfz_A', '6ddn_B', '3fir_B']\n",
            "2025-08-17 12:23:58,227 Padding length to 268\n",
            "2025-08-17 12:25:00,315 alphafold2_ptm_model_1_seed_000 recycle=0 pLDDT=93.4 pTM=0.861\n",
            "2025-08-17 12:25:49,712 alphafold2_ptm_model_1_seed_000 recycle=1 pLDDT=93.6 pTM=0.865 tol=0.269\n",
            "2025-08-17 12:26:14,202 alphafold2_ptm_model_1_seed_000 recycle=2 pLDDT=93.8 pTM=0.866 tol=0.398\n",
            "2025-08-17 12:26:38,337 alphafold2_ptm_model_1_seed_000 recycle=3 pLDDT=93.7 pTM=0.868 tol=0.365\n",
            "2025-08-17 12:26:38,338 alphafold2_ptm_model_1_seed_000 took 160.1s (3 recycles)\n",
            "2025-08-17 12:27:02,477 alphafold2_ptm_model_2_seed_000 recycle=0 pLDDT=93.2 pTM=0.858\n",
            "2025-08-17 12:27:26,593 alphafold2_ptm_model_2_seed_000 recycle=1 pLDDT=93.4 pTM=0.864 tol=0.868\n",
            "2025-08-17 12:27:50,820 alphafold2_ptm_model_2_seed_000 recycle=2 pLDDT=93.4 pTM=0.865 tol=0.239\n",
            "2025-08-17 12:28:15,117 alphafold2_ptm_model_2_seed_000 recycle=3 pLDDT=93.6 pTM=0.868 tol=0.268\n",
            "2025-08-17 12:28:15,118 alphafold2_ptm_model_2_seed_000 took 96.7s (3 recycles)\n",
            "2025-08-17 12:28:57,766 alphafold2_ptm_model_3_seed_000 recycle=0 pLDDT=91.8 pTM=0.827\n",
            "2025-08-17 12:29:38,620 alphafold2_ptm_model_3_seed_000 recycle=1 pLDDT=93.2 pTM=0.857 tol=0.912\n",
            "2025-08-17 12:30:02,465 alphafold2_ptm_model_3_seed_000 recycle=2 pLDDT=93.4 pTM=0.864 tol=0.392\n",
            "2025-08-17 12:30:26,245 alphafold2_ptm_model_3_seed_000 recycle=3 pLDDT=93.6 pTM=0.867 tol=0.697\n",
            "2025-08-17 12:30:26,246 alphafold2_ptm_model_3_seed_000 took 131.0s (3 recycles)\n",
            "2025-08-17 12:30:26,390 reranking models by 'plddt' metric\n",
            "2025-08-17 12:30:26,390 rank_001_alphafold2_ptm_model_1_seed_000 pLDDT=93.7 pTM=0.868\n",
            "2025-08-17 12:30:26,393 rank_002_alphafold2_ptm_model_3_seed_000 pLDDT=93.6 pTM=0.867\n",
            "2025-08-17 12:30:26,396 rank_003_alphafold2_ptm_model_2_seed_000 pLDDT=93.6 pTM=0.868\n",
            "2025-08-17 12:30:27,329 Query 4/9: peptidoglycan_associated_WP_011051533.1 (length 280)\n"
          ]
        },
        {
          "output_type": "stream",
          "name": "stderr",
          "text": [
            "COMPLETE: 100%|██████████| 150/150 [elapsed: 00:02 remaining: 00:00]\n"
          ]
        },
        {
          "output_type": "stream",
          "name": "stdout",
          "text": [
            "2025-08-17 12:30:44,059 Sequence 0 found templates: ['7e64_A', '6jmx_A', '6jn7_B', '2hsi_B', '2hsi_A', '6ue4_B', '3slu_B', '6ue4_A', '2gu1_A', '3slu_A', '6muk_A', '5kvp_A', '5nmy_A', '4lxc_C', '4qpb_A', '5j1m_C', '4lxc_D', '5j1l_C', '5j1l_A', '5j1m_A']\n",
            "2025-08-17 12:31:00,217 Padding length to 290\n",
            "2025-08-17 12:32:09,129 alphafold2_ptm_model_1_seed_000 recycle=0 pLDDT=89.6 pTM=0.836\n",
            "2025-08-17 12:33:09,260 alphafold2_ptm_model_1_seed_000 recycle=1 pLDDT=90.8 pTM=0.844 tol=1.56\n",
            "2025-08-17 12:33:37,151 alphafold2_ptm_model_1_seed_000 recycle=2 pLDDT=90.9 pTM=0.845 tol=3.36\n",
            "2025-08-17 12:34:04,350 alphafold2_ptm_model_1_seed_000 recycle=3 pLDDT=91.1 pTM=0.846 tol=1.6\n",
            "2025-08-17 12:34:04,351 alphafold2_ptm_model_1_seed_000 took 184.1s (3 recycles)\n",
            "2025-08-17 12:34:31,843 alphafold2_ptm_model_2_seed_000 recycle=0 pLDDT=89.1 pTM=0.831\n",
            "2025-08-17 12:34:59,367 alphafold2_ptm_model_2_seed_000 recycle=1 pLDDT=90.3 pTM=0.841 tol=2.65\n",
            "2025-08-17 12:35:26,891 alphafold2_ptm_model_2_seed_000 recycle=2 pLDDT=90.1 pTM=0.842 tol=0.168\n",
            "2025-08-17 12:35:54,232 alphafold2_ptm_model_2_seed_000 recycle=3 pLDDT=90.3 pTM=0.843 tol=0.13\n",
            "2025-08-17 12:35:54,233 alphafold2_ptm_model_2_seed_000 took 109.7s (3 recycles)\n",
            "2025-08-17 12:36:43,037 alphafold2_ptm_model_3_seed_000 recycle=0 pLDDT=88.9 pTM=0.832\n",
            "2025-08-17 12:37:31,148 alphafold2_ptm_model_3_seed_000 recycle=1 pLDDT=90 pTM=0.841 tol=4.49\n",
            "2025-08-17 12:37:57,913 alphafold2_ptm_model_3_seed_000 recycle=2 pLDDT=90.2 pTM=0.844 tol=0.774\n",
            "2025-08-17 12:38:24,554 alphafold2_ptm_model_3_seed_000 recycle=3 pLDDT=90.8 pTM=0.846 tol=3.46\n",
            "2025-08-17 12:38:24,555 alphafold2_ptm_model_3_seed_000 took 150.2s (3 recycles)\n",
            "2025-08-17 12:38:24,655 reranking models by 'plddt' metric\n",
            "2025-08-17 12:38:24,655 rank_001_alphafold2_ptm_model_1_seed_000 pLDDT=91.1 pTM=0.846\n",
            "2025-08-17 12:38:24,658 rank_002_alphafold2_ptm_model_3_seed_000 pLDDT=90.8 pTM=0.846\n",
            "2025-08-17 12:38:24,661 rank_003_alphafold2_ptm_model_2_seed_000 pLDDT=90.3 pTM=0.843\n",
            "2025-08-17 12:38:25,641 Query 5/9: porin_WP_005915855.1 (length 365)\n"
          ]
        },
        {
          "output_type": "stream",
          "name": "stderr",
          "text": [
            "COMPLETE: 100%|██████████| 150/150 [elapsed: 00:02 remaining: 00:00]\n"
          ]
        },
        {
          "output_type": "stream",
          "name": "stdout",
          "text": [
            "2025-08-17 12:38:48,443 Sequence 0 found templates: ['5wtl_C', '2l26_A', '2lca_A', '2lbt_A', '6jfw_A', '2k1s_A', '5u1h_A', '5wtp_B', '4g88_G', '5eb1_D', '4zhw_A', '5ves_A', '4g4x_A', '4rha_A', '2mqe_A', '5nhx_A', '7rjj_A', '6top_A', '7bba_D', '5wtl_C']\n",
            "2025-08-17 12:39:16,540 Padding length to 375\n",
            "2025-08-17 12:40:50,047 alphafold2_ptm_model_1_seed_000 recycle=0 pLDDT=83.5 pTM=0.524\n",
            "2025-08-17 12:41:59,814 alphafold2_ptm_model_1_seed_000 recycle=1 pLDDT=83.6 pTM=0.534 tol=1.83\n",
            "2025-08-17 12:42:40,390 alphafold2_ptm_model_1_seed_000 recycle=2 pLDDT=84.9 pTM=0.535 tol=0.915\n",
            "2025-08-17 12:43:20,622 alphafold2_ptm_model_1_seed_000 recycle=3 pLDDT=84.8 pTM=0.535 tol=0.521\n",
            "2025-08-17 12:43:20,624 alphafold2_ptm_model_1_seed_000 took 244.1s (3 recycles)\n",
            "2025-08-17 12:44:01,263 alphafold2_ptm_model_2_seed_000 recycle=0 pLDDT=82.4 pTM=0.508\n",
            "2025-08-17 12:44:41,587 alphafold2_ptm_model_2_seed_000 recycle=1 pLDDT=83.6 pTM=0.519 tol=2.29\n",
            "2025-08-17 12:45:21,881 alphafold2_ptm_model_2_seed_000 recycle=2 pLDDT=84.2 pTM=0.518 tol=1.71\n",
            "2025-08-17 12:46:02,211 alphafold2_ptm_model_2_seed_000 recycle=3 pLDDT=84.1 pTM=0.518 tol=0.994\n",
            "2025-08-17 12:46:02,212 alphafold2_ptm_model_2_seed_000 took 161.4s (3 recycles)\n",
            "2025-08-17 12:47:03,762 alphafold2_ptm_model_3_seed_000 recycle=0 pLDDT=84.7 pTM=0.504\n",
            "2025-08-17 12:48:02,005 alphafold2_ptm_model_3_seed_000 recycle=1 pLDDT=86.2 pTM=0.518 tol=4.59\n",
            "2025-08-17 12:48:41,068 alphafold2_ptm_model_3_seed_000 recycle=2 pLDDT=86.4 pTM=0.52 tol=2.15\n",
            "2025-08-17 12:49:19,993 alphafold2_ptm_model_3_seed_000 recycle=3 pLDDT=86.4 pTM=0.522 tol=1.37\n",
            "2025-08-17 12:49:19,995 alphafold2_ptm_model_3_seed_000 took 197.6s (3 recycles)\n",
            "2025-08-17 12:49:20,140 reranking models by 'plddt' metric\n",
            "2025-08-17 12:49:20,140 rank_001_alphafold2_ptm_model_3_seed_000 pLDDT=86.4 pTM=0.522\n",
            "2025-08-17 12:49:20,143 rank_002_alphafold2_ptm_model_1_seed_000 pLDDT=84.8 pTM=0.535\n",
            "2025-08-17 12:49:20,146 rank_003_alphafold2_ptm_model_2_seed_000 pLDDT=84.1 pTM=0.518\n",
            "2025-08-17 12:49:21,298 Query 6/9: binding_proteins_WP_015463507.1 (length 370)\n"
          ]
        },
        {
          "output_type": "stream",
          "name": "stderr",
          "text": [
            "COMPLETE: 100%|██████████| 150/150 [elapsed: 00:02 remaining: 00:00]\n"
          ]
        },
        {
          "output_type": "stream",
          "name": "stdout",
          "text": [
            "2025-08-17 12:49:34,956 Sequence 0 found templates: ['3e4r_A', '2x26_A', '2x26_B', '3uif_A', '6stl_B', '3qsl_A', '3ix1_B', '4h6d_H', '4h6d_A', '4h6d_D', '4h6d_F', '4h6d_E', '4h6d_C', '4nmy_A', '4h6d_B', '4h67_H', '4h67_G', '4h67_E', '4h67_B', '4h67_A']\n",
            "2025-08-17 12:49:43,422 Padding length to 375\n",
            "2025-08-17 12:50:24,774 alphafold2_ptm_model_1_seed_000 recycle=0 pLDDT=86.5 pTM=0.764\n",
            "2025-08-17 12:51:05,473 alphafold2_ptm_model_1_seed_000 recycle=1 pLDDT=86.6 pTM=0.765 tol=3.2\n",
            "2025-08-17 12:51:45,818 alphafold2_ptm_model_1_seed_000 recycle=2 pLDDT=86.8 pTM=0.765 tol=1.46\n",
            "2025-08-17 12:52:26,697 alphafold2_ptm_model_1_seed_000 recycle=3 pLDDT=86.9 pTM=0.769 tol=1.52\n",
            "2025-08-17 12:52:26,699 alphafold2_ptm_model_1_seed_000 took 163.3s (3 recycles)\n",
            "2025-08-17 12:53:07,824 alphafold2_ptm_model_2_seed_000 recycle=0 pLDDT=85.9 pTM=0.759\n",
            "2025-08-17 12:53:48,379 alphafold2_ptm_model_2_seed_000 recycle=1 pLDDT=85.6 pTM=0.757 tol=1.33\n",
            "2025-08-17 12:54:28,909 alphafold2_ptm_model_2_seed_000 recycle=2 pLDDT=85.8 pTM=0.759 tol=1.61\n",
            "2025-08-17 12:55:09,416 alphafold2_ptm_model_2_seed_000 recycle=3 pLDDT=85.9 pTM=0.762 tol=1.14\n",
            "2025-08-17 12:55:09,417 alphafold2_ptm_model_2_seed_000 took 162.5s (3 recycles)\n",
            "2025-08-17 12:55:48,681 alphafold2_ptm_model_3_seed_000 recycle=0 pLDDT=84.1 pTM=0.744\n",
            "2025-08-17 12:56:27,972 alphafold2_ptm_model_3_seed_000 recycle=1 pLDDT=85.3 pTM=0.759 tol=1.54\n",
            "2025-08-17 12:57:07,166 alphafold2_ptm_model_3_seed_000 recycle=2 pLDDT=85.5 pTM=0.763 tol=5.03\n",
            "2025-08-17 12:57:46,341 alphafold2_ptm_model_3_seed_000 recycle=3 pLDDT=85.6 pTM=0.763 tol=1.63\n",
            "2025-08-17 12:57:46,342 alphafold2_ptm_model_3_seed_000 took 156.8s (3 recycles)\n",
            "2025-08-17 12:57:46,478 reranking models by 'plddt' metric\n",
            "2025-08-17 12:57:46,479 rank_001_alphafold2_ptm_model_1_seed_000 pLDDT=86.9 pTM=0.769\n",
            "2025-08-17 12:57:46,482 rank_002_alphafold2_ptm_model_2_seed_000 pLDDT=85.9 pTM=0.762\n",
            "2025-08-17 12:57:46,485 rank_003_alphafold2_ptm_model_3_seed_000 pLDDT=85.6 pTM=0.763\n",
            "2025-08-17 12:57:47,528 Query 7/9: peptidoglycan_associated_WP_011051267.1 (length 392)\n"
          ]
        },
        {
          "output_type": "stream",
          "name": "stderr",
          "text": [
            "COMPLETE: 100%|██████████| 150/150 [elapsed: 00:02 remaining: 00:00]\n"
          ]
        },
        {
          "output_type": "stream",
          "name": "stdout",
          "text": [
            "2025-08-17 12:57:59,130 Sequence 0 found templates: ['3vwo_A', '5t1q_A', '5t1q_A', '5t1q_A', '5t1q_A', '2zyc_A', '7qfu_A', '5dn5_B', '3k3t_A', '3fi7_A', '5dn4_A', '5dn5_C', '4qdn_A', '6fxo_A', '4pia_A', '4pi8_A', '4pi9_A', '7pj6_AAA', '7pod_A', '4q2w_A']\n",
            "2025-08-17 12:58:14,340 Padding length to 402\n",
            "2025-08-17 12:59:47,623 alphafold2_ptm_model_1_seed_000 recycle=0 pLDDT=68.1 pTM=0.527\n",
            "2025-08-17 13:01:07,813 alphafold2_ptm_model_1_seed_000 recycle=1 pLDDT=68.2 pTM=0.526 tol=7.76\n",
            "2025-08-17 13:01:52,480 alphafold2_ptm_model_1_seed_000 recycle=2 pLDDT=67.6 pTM=0.522 tol=6.53\n",
            "2025-08-17 13:02:37,621 alphafold2_ptm_model_1_seed_000 recycle=3 pLDDT=66.2 pTM=0.521 tol=3.06\n",
            "2025-08-17 13:02:37,625 alphafold2_ptm_model_1_seed_000 took 263.3s (3 recycles)\n",
            "2025-08-17 13:03:23,055 alphafold2_ptm_model_2_seed_000 recycle=0 pLDDT=69.1 pTM=0.508\n",
            "2025-08-17 13:04:07,855 alphafold2_ptm_model_2_seed_000 recycle=1 pLDDT=69.5 pTM=0.505 tol=6.84\n",
            "2025-08-17 13:04:52,705 alphafold2_ptm_model_2_seed_000 recycle=2 pLDDT=69.2 pTM=0.502 tol=3.13\n",
            "2025-08-17 13:05:37,626 alphafold2_ptm_model_2_seed_000 recycle=3 pLDDT=68.6 pTM=0.499 tol=1.87\n",
            "2025-08-17 13:05:37,632 alphafold2_ptm_model_2_seed_000 took 179.4s (3 recycles)\n",
            "2025-08-17 13:06:44,478 alphafold2_ptm_model_3_seed_000 recycle=0 pLDDT=67.7 pTM=0.511\n",
            "2025-08-17 13:07:49,793 alphafold2_ptm_model_3_seed_000 recycle=1 pLDDT=68.9 pTM=0.52 tol=7.88\n",
            "2025-08-17 13:08:32,911 alphafold2_ptm_model_3_seed_000 recycle=2 pLDDT=70.2 pTM=0.53 tol=6.45\n",
            "2025-08-17 13:09:16,042 alphafold2_ptm_model_3_seed_000 recycle=3 pLDDT=69.6 pTM=0.527 tol=4.5\n",
            "2025-08-17 13:09:16,043 alphafold2_ptm_model_3_seed_000 took 218.2s (3 recycles)\n",
            "2025-08-17 13:09:16,196 reranking models by 'plddt' metric\n",
            "2025-08-17 13:09:16,196 rank_001_alphafold2_ptm_model_3_seed_000 pLDDT=69.6 pTM=0.527\n",
            "2025-08-17 13:09:16,199 rank_002_alphafold2_ptm_model_2_seed_000 pLDDT=68.6 pTM=0.499\n",
            "2025-08-17 13:09:16,202 rank_003_alphafold2_ptm_model_1_seed_000 pLDDT=66.2 pTM=0.521\n",
            "2025-08-17 13:09:17,350 Query 8/9: peptidoglycan_associated_WP_011052589.1 (length 472)\n"
          ]
        },
        {
          "output_type": "stream",
          "name": "stderr",
          "text": [
            "PENDING:   0%|          | 0/150 [elapsed: 00:00 remaining: ?]"
          ]
        },
        {
          "output_type": "stream",
          "name": "stdout",
          "text": [
            "2025-08-17 13:09:18,105 Sleeping for 8s. Reason: PENDING\n"
          ]
        },
        {
          "output_type": "stream",
          "name": "stderr",
          "text": [
            "RUNNING:   5%|▌         | 8/150 [elapsed: 00:09 remaining: 02:47]"
          ]
        },
        {
          "output_type": "stream",
          "name": "stdout",
          "text": [
            "2025-08-17 13:09:26,812 Sleeping for 8s. Reason: RUNNING\n"
          ]
        },
        {
          "output_type": "stream",
          "name": "stderr",
          "text": [
            "RUNNING:  11%|█         | 16/150 [elapsed: 00:18 remaining: 02:30]"
          ]
        },
        {
          "output_type": "stream",
          "name": "stdout",
          "text": [
            "2025-08-17 13:09:35,515 Sleeping for 7s. Reason: RUNNING\n"
          ]
        },
        {
          "output_type": "stream",
          "name": "stderr",
          "text": [
            "RUNNING:  15%|█▌        | 23/150 [elapsed: 00:25 remaining: 02:21]"
          ]
        },
        {
          "output_type": "stream",
          "name": "stdout",
          "text": [
            "2025-08-17 13:09:43,199 Sleeping for 8s. Reason: RUNNING\n"
          ]
        },
        {
          "output_type": "stream",
          "name": "stderr",
          "text": [
            "RUNNING:  21%|██        | 31/150 [elapsed: 00:34 remaining: 02:11]"
          ]
        },
        {
          "output_type": "stream",
          "name": "stdout",
          "text": [
            "2025-08-17 13:09:51,896 Sleeping for 10s. Reason: RUNNING\n"
          ]
        },
        {
          "output_type": "stream",
          "name": "stderr",
          "text": [
            "RUNNING:  27%|██▋       | 41/150 [elapsed: 00:45 remaining: 01:58]"
          ]
        },
        {
          "output_type": "stream",
          "name": "stdout",
          "text": [
            "2025-08-17 13:10:02,594 Sleeping for 10s. Reason: RUNNING\n"
          ]
        },
        {
          "output_type": "stream",
          "name": "stderr",
          "text": [
            "RUNNING:  34%|███▍      | 51/150 [elapsed: 00:55 remaining: 01:47]"
          ]
        },
        {
          "output_type": "stream",
          "name": "stdout",
          "text": [
            "2025-08-17 13:10:13,288 Sleeping for 8s. Reason: RUNNING\n"
          ]
        },
        {
          "output_type": "stream",
          "name": "stderr",
          "text": [
            "RUNNING:  39%|███▉      | 59/150 [elapsed: 01:04 remaining: 01:38]"
          ]
        },
        {
          "output_type": "stream",
          "name": "stdout",
          "text": [
            "2025-08-17 13:10:21,981 Sleeping for 5s. Reason: RUNNING\n"
          ]
        },
        {
          "output_type": "stream",
          "name": "stderr",
          "text": [
            "RUNNING:  43%|████▎     | 64/150 [elapsed: 01:10 remaining: 01:34]"
          ]
        },
        {
          "output_type": "stream",
          "name": "stdout",
          "text": [
            "2025-08-17 13:10:27,687 Sleeping for 6s. Reason: RUNNING\n"
          ]
        },
        {
          "output_type": "stream",
          "name": "stderr",
          "text": [
            "RUNNING:  47%|████▋     | 70/150 [elapsed: 01:17 remaining: 01:28]"
          ]
        },
        {
          "output_type": "stream",
          "name": "stdout",
          "text": [
            "2025-08-17 13:10:34,372 Sleeping for 6s. Reason: RUNNING\n"
          ]
        },
        {
          "output_type": "stream",
          "name": "stderr",
          "text": [
            "RUNNING:  51%|█████     | 76/150 [elapsed: 01:23 remaining: 01:21]"
          ]
        },
        {
          "output_type": "stream",
          "name": "stdout",
          "text": [
            "2025-08-17 13:10:41,061 Sleeping for 7s. Reason: RUNNING\n"
          ]
        },
        {
          "output_type": "stream",
          "name": "stderr",
          "text": [
            "RUNNING:  55%|█████▌    | 83/150 [elapsed: 01:31 remaining: 01:13]"
          ]
        },
        {
          "output_type": "stream",
          "name": "stdout",
          "text": [
            "2025-08-17 13:10:48,762 Sleeping for 5s. Reason: RUNNING\n"
          ]
        },
        {
          "output_type": "stream",
          "name": "stderr",
          "text": [
            "RUNNING:  59%|█████▊    | 88/150 [elapsed: 01:37 remaining: 01:08]"
          ]
        },
        {
          "output_type": "stream",
          "name": "stdout",
          "text": [
            "2025-08-17 13:10:54,463 Sleeping for 6s. Reason: RUNNING\n"
          ]
        },
        {
          "output_type": "stream",
          "name": "stderr",
          "text": [
            "RUNNING:  63%|██████▎   | 94/150 [elapsed: 01:43 remaining: 01:02]"
          ]
        },
        {
          "output_type": "stream",
          "name": "stdout",
          "text": [
            "2025-08-17 13:11:01,160 Sleeping for 8s. Reason: RUNNING\n"
          ]
        },
        {
          "output_type": "stream",
          "name": "stderr",
          "text": [
            "RUNNING:  68%|██████▊   | 102/150 [elapsed: 01:52 remaining: 00:52]"
          ]
        },
        {
          "output_type": "stream",
          "name": "stdout",
          "text": [
            "2025-08-17 13:11:09,852 Sleeping for 8s. Reason: RUNNING\n"
          ]
        },
        {
          "output_type": "stream",
          "name": "stderr",
          "text": [
            "RUNNING:  73%|███████▎  | 110/150 [elapsed: 02:01 remaining: 00:43]"
          ]
        },
        {
          "output_type": "stream",
          "name": "stdout",
          "text": [
            "2025-08-17 13:11:18,572 Sleeping for 9s. Reason: RUNNING\n"
          ]
        },
        {
          "output_type": "stream",
          "name": "stderr",
          "text": [
            "RUNNING:  79%|███████▉  | 119/150 [elapsed: 02:10 remaining: 00:33]"
          ]
        },
        {
          "output_type": "stream",
          "name": "stdout",
          "text": [
            "2025-08-17 13:11:28,271 Sleeping for 8s. Reason: RUNNING\n"
          ]
        },
        {
          "output_type": "stream",
          "name": "stderr",
          "text": [
            "RUNNING:  85%|████████▍ | 127/150 [elapsed: 02:19 remaining: 00:25]"
          ]
        },
        {
          "output_type": "stream",
          "name": "stdout",
          "text": [
            "2025-08-17 13:11:36,965 Sleeping for 6s. Reason: RUNNING\n"
          ]
        },
        {
          "output_type": "stream",
          "name": "stderr",
          "text": [
            "RUNNING:  89%|████████▊ | 133/150 [elapsed: 02:26 remaining: 00:18]"
          ]
        },
        {
          "output_type": "stream",
          "name": "stdout",
          "text": [
            "2025-08-17 13:11:43,668 Sleeping for 5s. Reason: RUNNING\n"
          ]
        },
        {
          "output_type": "stream",
          "name": "stderr",
          "text": [
            "RUNNING:  92%|█████████▏| 138/150 [elapsed: 02:32 remaining: 00:13]"
          ]
        },
        {
          "output_type": "stream",
          "name": "stdout",
          "text": [
            "2025-08-17 13:11:49,389 Sleeping for 7s. Reason: RUNNING\n"
          ]
        },
        {
          "output_type": "stream",
          "name": "stderr",
          "text": [
            "RUNNING:  97%|█████████▋| 145/150 [elapsed: 02:39 remaining: 00:05]"
          ]
        },
        {
          "output_type": "stream",
          "name": "stdout",
          "text": [
            "2025-08-17 13:11:57,132 Sleeping for 6s. Reason: RUNNING\n"
          ]
        },
        {
          "output_type": "stream",
          "name": "stderr",
          "text": [
            "RUNNING: |          | 151/? [elapsed: 02:46 remaining: 00:00]"
          ]
        },
        {
          "output_type": "stream",
          "name": "stdout",
          "text": [
            "2025-08-17 13:12:03,909 Sleeping for 6s. Reason: RUNNING\n"
          ]
        },
        {
          "output_type": "stream",
          "name": "stderr",
          "text": [
            "RUNNING: |          | 157/? [elapsed: 02:53 remaining: 00:00]"
          ]
        },
        {
          "output_type": "stream",
          "name": "stdout",
          "text": [
            "2025-08-17 13:12:10,612 Sleeping for 9s. Reason: RUNNING\n"
          ]
        },
        {
          "output_type": "stream",
          "name": "stderr",
          "text": [
            "RUNNING: |          | 166/? [elapsed: 03:03 remaining: 00:00]"
          ]
        },
        {
          "output_type": "stream",
          "name": "stdout",
          "text": [
            "2025-08-17 13:12:20,374 Sleeping for 7s. Reason: RUNNING\n"
          ]
        },
        {
          "output_type": "stream",
          "name": "stderr",
          "text": [
            "RUNNING: |          | 173/? [elapsed: 03:10 remaining: 00:00]"
          ]
        },
        {
          "output_type": "stream",
          "name": "stdout",
          "text": [
            "2025-08-17 13:12:28,081 Sleeping for 7s. Reason: RUNNING\n"
          ]
        },
        {
          "output_type": "stream",
          "name": "stderr",
          "text": [
            "RUNNING: |          | 180/? [elapsed: 03:18 remaining: 00:00]"
          ]
        },
        {
          "output_type": "stream",
          "name": "stdout",
          "text": [
            "2025-08-17 13:12:35,775 Sleeping for 7s. Reason: RUNNING\n"
          ]
        },
        {
          "output_type": "stream",
          "name": "stderr",
          "text": [
            "RUNNING: |          | 187/? [elapsed: 03:26 remaining: 00:00]"
          ]
        },
        {
          "output_type": "stream",
          "name": "stdout",
          "text": [
            "2025-08-17 13:12:43,479 Sleeping for 6s. Reason: RUNNING\n"
          ]
        },
        {
          "output_type": "stream",
          "name": "stderr",
          "text": [
            "RUNNING: |          | 193/? [elapsed: 03:32 remaining: 00:00]"
          ]
        },
        {
          "output_type": "stream",
          "name": "stdout",
          "text": [
            "2025-08-17 13:12:50,168 Sleeping for 5s. Reason: RUNNING\n"
          ]
        },
        {
          "output_type": "stream",
          "name": "stderr",
          "text": [
            "RUNNING: |          | 198/? [elapsed: 03:38 remaining: 00:00]"
          ]
        },
        {
          "output_type": "stream",
          "name": "stdout",
          "text": [
            "2025-08-17 13:12:55,881 Sleeping for 7s. Reason: RUNNING\n"
          ]
        },
        {
          "output_type": "stream",
          "name": "stderr",
          "text": [
            "RUNNING: |          | 205/? [elapsed: 03:46 remaining: 00:00]"
          ]
        },
        {
          "output_type": "stream",
          "name": "stdout",
          "text": [
            "2025-08-17 13:13:03,585 Sleeping for 7s. Reason: RUNNING\n"
          ]
        },
        {
          "output_type": "stream",
          "name": "stderr",
          "text": [
            "RUNNING: |          | 212/? [elapsed: 03:53 remaining: 00:00]"
          ]
        },
        {
          "output_type": "stream",
          "name": "stdout",
          "text": [
            "2025-08-17 13:13:11,288 Sleeping for 6s. Reason: RUNNING\n"
          ]
        },
        {
          "output_type": "stream",
          "name": "stderr",
          "text": [
            "RUNNING: |          | 218/? [elapsed: 04:00 remaining: 00:00]"
          ]
        },
        {
          "output_type": "stream",
          "name": "stdout",
          "text": [
            "2025-08-17 13:13:17,986 Sleeping for 10s. Reason: RUNNING\n"
          ]
        },
        {
          "output_type": "stream",
          "name": "stderr",
          "text": [
            "RUNNING: |          | 228/? [elapsed: 04:11 remaining: 00:00]"
          ]
        },
        {
          "output_type": "stream",
          "name": "stdout",
          "text": [
            "2025-08-17 13:13:28,697 Sleeping for 6s. Reason: RUNNING\n"
          ]
        },
        {
          "output_type": "stream",
          "name": "stderr",
          "text": [
            "RUNNING: |          | 234/? [elapsed: 04:18 remaining: 00:00]"
          ]
        },
        {
          "output_type": "stream",
          "name": "stdout",
          "text": [
            "2025-08-17 13:13:35,405 Sleeping for 9s. Reason: RUNNING\n"
          ]
        },
        {
          "output_type": "stream",
          "name": "stderr",
          "text": [
            "RUNNING: |          | 243/? [elapsed: 04:27 remaining: 00:00]"
          ]
        },
        {
          "output_type": "stream",
          "name": "stdout",
          "text": [
            "2025-08-17 13:13:45,094 Sleeping for 8s. Reason: RUNNING\n"
          ]
        },
        {
          "output_type": "stream",
          "name": "stderr",
          "text": [
            "RUNNING: |          | 251/? [elapsed: 04:36 remaining: 00:00]"
          ]
        },
        {
          "output_type": "stream",
          "name": "stdout",
          "text": [
            "2025-08-17 13:13:53,802 Sleeping for 9s. Reason: RUNNING\n"
          ]
        },
        {
          "output_type": "stream",
          "name": "stderr",
          "text": [
            "RUNNING: |          | 260/? [elapsed: 04:46 remaining: 00:00]"
          ]
        },
        {
          "output_type": "stream",
          "name": "stdout",
          "text": [
            "2025-08-17 13:14:03,508 Sleeping for 9s. Reason: RUNNING\n"
          ]
        },
        {
          "output_type": "stream",
          "name": "stderr",
          "text": [
            "RUNNING: |          | 269/? [elapsed: 04:55 remaining: 00:00]"
          ]
        },
        {
          "output_type": "stream",
          "name": "stdout",
          "text": [
            "2025-08-17 13:14:13,209 Sleeping for 7s. Reason: RUNNING\n"
          ]
        },
        {
          "output_type": "stream",
          "name": "stderr",
          "text": [
            "RUNNING: |          | 276/? [elapsed: 05:03 remaining: 00:00]"
          ]
        },
        {
          "output_type": "stream",
          "name": "stdout",
          "text": [
            "2025-08-17 13:14:20,891 Sleeping for 10s. Reason: RUNNING\n"
          ]
        },
        {
          "output_type": "stream",
          "name": "stderr",
          "text": [
            "RUNNING: |          | 286/? [elapsed: 05:14 remaining: 00:00]"
          ]
        },
        {
          "output_type": "stream",
          "name": "stdout",
          "text": [
            "2025-08-17 13:14:31,597 Sleeping for 8s. Reason: RUNNING\n"
          ]
        },
        {
          "output_type": "stream",
          "name": "stderr",
          "text": [
            "RUNNING: |          | 294/? [elapsed: 05:22 remaining: 00:00]"
          ]
        },
        {
          "output_type": "stream",
          "name": "stdout",
          "text": [
            "2025-08-17 13:14:40,299 Sleeping for 10s. Reason: RUNNING\n"
          ]
        },
        {
          "output_type": "stream",
          "name": "stderr",
          "text": [
            "RUNNING: |          | 304/? [elapsed: 05:33 remaining: 00:00]"
          ]
        },
        {
          "output_type": "stream",
          "name": "stdout",
          "text": [
            "2025-08-17 13:14:51,138 Sleeping for 7s. Reason: RUNNING\n"
          ]
        },
        {
          "output_type": "stream",
          "name": "stderr",
          "text": [
            "COMPLETE: |          | 304/? [elapsed: 05:43 remaining: 00:00]\n"
          ]
        },
        {
          "output_type": "stream",
          "name": "stdout",
          "text": [
            "2025-08-17 13:15:15,684 Sequence 0 found templates: ['6muk_A', '3slu_B', '3slu_A', '6ue4_A', '2gu1_A', '6ue4_B', '4rny_B', '4rnz_A', '6jn7_B', '2hsi_B', '6jmx_A', '7e64_A', '2hsi_A', '5kvp_A', '5j1m_A', '4lxc_D', '5nmy_A', '5j1m_C', '5j1l_C', '5j1l_A']\n",
            "2025-08-17 13:15:52,414 Padding length to 475\n",
            "2025-08-17 13:17:46,999 alphafold2_ptm_model_1_seed_000 recycle=0 pLDDT=81.1 pTM=0.559\n",
            "2025-08-17 13:19:15,910 alphafold2_ptm_model_1_seed_000 recycle=1 pLDDT=81.8 pTM=0.558 tol=3.57\n",
            "2025-08-17 13:20:15,802 alphafold2_ptm_model_1_seed_000 recycle=2 pLDDT=81.4 pTM=0.551 tol=1.7\n",
            "2025-08-17 13:21:15,868 alphafold2_ptm_model_1_seed_000 recycle=3 pLDDT=82.2 pTM=0.561 tol=0.678\n",
            "2025-08-17 13:21:15,869 alphafold2_ptm_model_1_seed_000 took 323.5s (3 recycles)\n",
            "2025-08-17 13:22:16,592 alphafold2_ptm_model_2_seed_000 recycle=0 pLDDT=80.9 pTM=0.544\n",
            "2025-08-17 13:23:16,980 alphafold2_ptm_model_2_seed_000 recycle=1 pLDDT=81.5 pTM=0.542 tol=6.85\n",
            "2025-08-17 13:24:17,245 alphafold2_ptm_model_2_seed_000 recycle=2 pLDDT=81.9 pTM=0.553 tol=2.15\n",
            "2025-08-17 13:25:17,295 alphafold2_ptm_model_2_seed_000 recycle=3 pLDDT=82.5 pTM=0.564 tol=1.54\n",
            "2025-08-17 13:25:17,296 alphafold2_ptm_model_2_seed_000 took 240.5s (3 recycles)\n",
            "2025-08-17 13:26:37,278 alphafold2_ptm_model_3_seed_000 recycle=0 pLDDT=82 pTM=0.58\n",
            "2025-08-17 13:27:57,443 alphafold2_ptm_model_3_seed_000 recycle=1 pLDDT=82.8 pTM=0.606 tol=3.43\n",
            "2025-08-17 13:28:54,981 alphafold2_ptm_model_3_seed_000 recycle=2 pLDDT=83.1 pTM=0.617 tol=2\n",
            "2025-08-17 13:29:53,000 alphafold2_ptm_model_3_seed_000 recycle=3 pLDDT=83.7 pTM=0.626 tol=1.17\n",
            "2025-08-17 13:29:53,001 alphafold2_ptm_model_3_seed_000 took 274.9s (3 recycles)\n",
            "2025-08-17 13:29:53,239 reranking models by 'plddt' metric\n",
            "2025-08-17 13:29:53,239 rank_001_alphafold2_ptm_model_3_seed_000 pLDDT=83.7 pTM=0.626\n",
            "2025-08-17 13:29:53,243 rank_002_alphafold2_ptm_model_2_seed_000 pLDDT=82.5 pTM=0.564\n",
            "2025-08-17 13:29:53,254 rank_003_alphafold2_ptm_model_1_seed_000 pLDDT=82.2 pTM=0.561\n",
            "2025-08-17 13:29:54,672 Query 9/9: peptidoglycan_associated_WP_011050464.1 (length 475)\n"
          ]
        },
        {
          "output_type": "stream",
          "name": "stderr",
          "text": [
            "PENDING:   0%|          | 0/150 [elapsed: 00:00 remaining: ?]"
          ]
        },
        {
          "output_type": "stream",
          "name": "stdout",
          "text": [
            "2025-08-17 13:29:55,382 Sleeping for 10s. Reason: PENDING\n"
          ]
        },
        {
          "output_type": "stream",
          "name": "stderr",
          "text": [
            "PENDING:   0%|          | 0/150 [elapsed: 00:11 remaining: ?]"
          ]
        },
        {
          "output_type": "stream",
          "name": "stdout",
          "text": [
            "2025-08-17 13:30:06,068 Sleeping for 5s. Reason: PENDING\n"
          ]
        },
        {
          "output_type": "stream",
          "name": "stderr",
          "text": [
            "PENDING:   0%|          | 0/150 [elapsed: 00:17 remaining: ?]"
          ]
        },
        {
          "output_type": "stream",
          "name": "stdout",
          "text": [
            "2025-08-17 13:30:11,790 Sleeping for 10s. Reason: PENDING\n"
          ]
        },
        {
          "output_type": "stream",
          "name": "stderr",
          "text": [
            "PENDING:   0%|          | 0/150 [elapsed: 00:27 remaining: ?]"
          ]
        },
        {
          "output_type": "stream",
          "name": "stdout",
          "text": [
            "2025-08-17 13:30:22,639 Sleeping for 5s. Reason: PENDING\n"
          ]
        },
        {
          "output_type": "stream",
          "name": "stderr",
          "text": [
            "PENDING:   0%|          | 0/150 [elapsed: 00:33 remaining: ?]"
          ]
        },
        {
          "output_type": "stream",
          "name": "stdout",
          "text": [
            "2025-08-17 13:30:28,342 Sleeping for 10s. Reason: PENDING\n"
          ]
        },
        {
          "output_type": "stream",
          "name": "stderr",
          "text": [
            "PENDING:   0%|          | 0/150 [elapsed: 00:44 remaining: ?]"
          ]
        },
        {
          "output_type": "stream",
          "name": "stdout",
          "text": [
            "2025-08-17 13:30:39,047 Sleeping for 10s. Reason: PENDING\n"
          ]
        },
        {
          "output_type": "stream",
          "name": "stderr",
          "text": [
            "PENDING:   0%|          | 0/150 [elapsed: 00:55 remaining: ?]"
          ]
        },
        {
          "output_type": "stream",
          "name": "stdout",
          "text": [
            "2025-08-17 13:30:49,736 Sleeping for 9s. Reason: PENDING\n"
          ]
        },
        {
          "output_type": "stream",
          "name": "stderr",
          "text": [
            "PENDING:   0%|          | 0/150 [elapsed: 01:04 remaining: ?]"
          ]
        },
        {
          "output_type": "stream",
          "name": "stdout",
          "text": [
            "2025-08-17 13:30:59,442 Sleeping for 7s. Reason: PENDING\n"
          ]
        },
        {
          "output_type": "stream",
          "name": "stderr",
          "text": [
            "PENDING:   0%|          | 0/150 [elapsed: 01:12 remaining: ?]"
          ]
        },
        {
          "output_type": "stream",
          "name": "stdout",
          "text": [
            "2025-08-17 13:31:07,145 Sleeping for 5s. Reason: PENDING\n"
          ]
        },
        {
          "output_type": "stream",
          "name": "stderr",
          "text": [
            "PENDING:   0%|          | 0/150 [elapsed: 01:18 remaining: ?]"
          ]
        },
        {
          "output_type": "stream",
          "name": "stdout",
          "text": [
            "2025-08-17 13:31:12,843 Sleeping for 5s. Reason: PENDING\n"
          ]
        },
        {
          "output_type": "stream",
          "name": "stderr",
          "text": [
            "PENDING:   0%|          | 0/150 [elapsed: 01:23 remaining: ?]"
          ]
        },
        {
          "output_type": "stream",
          "name": "stdout",
          "text": [
            "2025-08-17 13:31:18,539 Sleeping for 9s. Reason: PENDING\n"
          ]
        },
        {
          "output_type": "stream",
          "name": "stderr",
          "text": [
            "PENDING:   0%|          | 0/150 [elapsed: 01:33 remaining: ?]"
          ]
        },
        {
          "output_type": "stream",
          "name": "stdout",
          "text": [
            "2025-08-17 13:31:28,239 Sleeping for 7s. Reason: PENDING\n"
          ]
        },
        {
          "output_type": "stream",
          "name": "stderr",
          "text": [
            "PENDING:   0%|          | 0/150 [elapsed: 01:41 remaining: ?]"
          ]
        },
        {
          "output_type": "stream",
          "name": "stdout",
          "text": [
            "2025-08-17 13:31:35,923 Sleeping for 9s. Reason: PENDING\n"
          ]
        },
        {
          "output_type": "stream",
          "name": "stderr",
          "text": [
            "PENDING:   0%|          | 0/150 [elapsed: 01:51 remaining: ?]"
          ]
        },
        {
          "output_type": "stream",
          "name": "stdout",
          "text": [
            "2025-08-17 13:31:45,801 Sleeping for 7s. Reason: PENDING\n"
          ]
        },
        {
          "output_type": "stream",
          "name": "stderr",
          "text": [
            "PENDING:   0%|          | 0/150 [elapsed: 01:58 remaining: ?]"
          ]
        },
        {
          "output_type": "stream",
          "name": "stdout",
          "text": [
            "2025-08-17 13:31:53,483 Sleeping for 9s. Reason: PENDING\n"
          ]
        },
        {
          "output_type": "stream",
          "name": "stderr",
          "text": [
            "PENDING:   0%|          | 0/150 [elapsed: 02:08 remaining: ?]"
          ]
        },
        {
          "output_type": "stream",
          "name": "stdout",
          "text": [
            "2025-08-17 13:32:03,183 Sleeping for 5s. Reason: PENDING\n"
          ]
        },
        {
          "output_type": "stream",
          "name": "stderr",
          "text": [
            "PENDING:   0%|          | 0/150 [elapsed: 02:14 remaining: ?]"
          ]
        },
        {
          "output_type": "stream",
          "name": "stdout",
          "text": [
            "2025-08-17 13:32:08,884 Sleeping for 9s. Reason: PENDING\n"
          ]
        },
        {
          "output_type": "stream",
          "name": "stderr",
          "text": [
            "RUNNING:   6%|▌         | 9/150 [elapsed: 02:23 remaining: 37:34]"
          ]
        },
        {
          "output_type": "stream",
          "name": "stdout",
          "text": [
            "2025-08-17 13:32:18,592 Sleeping for 9s. Reason: RUNNING\n"
          ]
        },
        {
          "output_type": "stream",
          "name": "stderr",
          "text": [
            "RUNNING:  12%|█▏        | 18/150 [elapsed: 02:33 remaining: 15:52]"
          ]
        },
        {
          "output_type": "stream",
          "name": "stdout",
          "text": [
            "2025-08-17 13:32:28,299 Sleeping for 8s. Reason: RUNNING\n"
          ]
        },
        {
          "output_type": "stream",
          "name": "stderr",
          "text": [
            "RUNNING:  17%|█▋        | 26/150 [elapsed: 02:42 remaining: 09:29]"
          ]
        },
        {
          "output_type": "stream",
          "name": "stdout",
          "text": [
            "2025-08-17 13:32:36,988 Sleeping for 9s. Reason: RUNNING\n"
          ]
        },
        {
          "output_type": "stream",
          "name": "stderr",
          "text": [
            "RUNNING:  23%|██▎       | 35/150 [elapsed: 02:52 remaining: 06:03]"
          ]
        },
        {
          "output_type": "stream",
          "name": "stdout",
          "text": [
            "2025-08-17 13:32:46,689 Sleeping for 5s. Reason: RUNNING\n"
          ]
        },
        {
          "output_type": "stream",
          "name": "stderr",
          "text": [
            "RUNNING:  27%|██▋       | 40/150 [elapsed: 02:57 remaining: 04:53]"
          ]
        },
        {
          "output_type": "stream",
          "name": "stdout",
          "text": [
            "2025-08-17 13:32:52,393 Sleeping for 6s. Reason: RUNNING\n"
          ]
        },
        {
          "output_type": "stream",
          "name": "stderr",
          "text": [
            "RUNNING:  31%|███       | 46/150 [elapsed: 03:04 remaining: 03:49]"
          ]
        },
        {
          "output_type": "stream",
          "name": "stdout",
          "text": [
            "2025-08-17 13:32:59,103 Sleeping for 8s. Reason: RUNNING\n"
          ]
        },
        {
          "output_type": "stream",
          "name": "stderr",
          "text": [
            "RUNNING:  36%|███▌      | 54/150 [elapsed: 03:13 remaining: 02:53]"
          ]
        },
        {
          "output_type": "stream",
          "name": "stdout",
          "text": [
            "2025-08-17 13:33:07,794 Sleeping for 6s. Reason: RUNNING\n"
          ]
        },
        {
          "output_type": "stream",
          "name": "stderr",
          "text": [
            "RUNNING:  40%|████      | 60/150 [elapsed: 03:19 remaining: 02:25]"
          ]
        },
        {
          "output_type": "stream",
          "name": "stdout",
          "text": [
            "2025-08-17 13:33:14,510 Sleeping for 10s. Reason: RUNNING\n"
          ]
        },
        {
          "output_type": "stream",
          "name": "stderr",
          "text": [
            "RUNNING:  47%|████▋     | 70/150 [elapsed: 03:30 remaining: 01:51]"
          ]
        },
        {
          "output_type": "stream",
          "name": "stdout",
          "text": [
            "2025-08-17 13:33:25,204 Sleeping for 5s. Reason: RUNNING\n"
          ]
        },
        {
          "output_type": "stream",
          "name": "stderr",
          "text": [
            "RUNNING:  50%|█████     | 75/150 [elapsed: 03:36 remaining: 01:40]"
          ]
        },
        {
          "output_type": "stream",
          "name": "stdout",
          "text": [
            "2025-08-17 13:33:30,913 Sleeping for 8s. Reason: RUNNING\n"
          ]
        },
        {
          "output_type": "stream",
          "name": "stderr",
          "text": [
            "COMPLETE: 100%|██████████| 150/150 [elapsed: 03:47 remaining: 00:00]\n"
          ]
        },
        {
          "output_type": "stream",
          "name": "stdout",
          "text": [
            "2025-08-17 13:33:49,559 Sequence 0 found templates: ['4avr_B', '5ntb_B', '6i05_A', '4jjo_A', '1x60_A', '4fer_A', '7wvr_A', '1x60_A', '6i05_A', '4avr_B']\n",
            "2025-08-17 13:35:26,291 alphafold2_ptm_model_1_seed_000 recycle=0 pLDDT=68.6 pTM=0.474\n",
            "2025-08-17 13:36:26,338 alphafold2_ptm_model_1_seed_000 recycle=1 pLDDT=69.2 pTM=0.485 tol=11.7\n",
            "2025-08-17 13:37:26,542 alphafold2_ptm_model_1_seed_000 recycle=2 pLDDT=69.2 pTM=0.479 tol=5.1\n",
            "2025-08-17 13:38:26,527 alphafold2_ptm_model_1_seed_000 recycle=3 pLDDT=69.6 pTM=0.481 tol=3.98\n",
            "2025-08-17 13:38:26,528 alphafold2_ptm_model_1_seed_000 took 240.6s (3 recycles)\n",
            "2025-08-17 13:39:27,021 alphafold2_ptm_model_2_seed_000 recycle=0 pLDDT=66.6 pTM=0.458\n",
            "2025-08-17 13:40:27,345 alphafold2_ptm_model_2_seed_000 recycle=1 pLDDT=67.7 pTM=0.465 tol=11.3\n",
            "2025-08-17 13:41:27,520 alphafold2_ptm_model_2_seed_000 recycle=2 pLDDT=67.6 pTM=0.466 tol=6.28\n",
            "2025-08-17 13:42:28,031 alphafold2_ptm_model_2_seed_000 recycle=3 pLDDT=68.4 pTM=0.469 tol=2.92\n",
            "2025-08-17 13:42:28,032 alphafold2_ptm_model_2_seed_000 took 241.1s (3 recycles)\n",
            "2025-08-17 13:43:26,075 alphafold2_ptm_model_3_seed_000 recycle=0 pLDDT=67.8 pTM=0.472\n",
            "2025-08-17 13:44:24,080 alphafold2_ptm_model_3_seed_000 recycle=1 pLDDT=68.5 pTM=0.463 tol=9.7\n",
            "2025-08-17 13:45:22,383 alphafold2_ptm_model_3_seed_000 recycle=2 pLDDT=68.7 pTM=0.461 tol=4.96\n",
            "2025-08-17 13:46:20,626 alphafold2_ptm_model_3_seed_000 recycle=3 pLDDT=69.1 pTM=0.465 tol=4.8\n",
            "2025-08-17 13:46:20,628 alphafold2_ptm_model_3_seed_000 took 232.4s (3 recycles)\n",
            "2025-08-17 13:46:20,840 reranking models by 'plddt' metric\n",
            "2025-08-17 13:46:20,841 rank_001_alphafold2_ptm_model_1_seed_000 pLDDT=69.6 pTM=0.481\n",
            "2025-08-17 13:46:20,844 rank_002_alphafold2_ptm_model_3_seed_000 pLDDT=69.1 pTM=0.465\n",
            "2025-08-17 13:46:20,847 rank_003_alphafold2_ptm_model_2_seed_000 pLDDT=68.4 pTM=0.469\n",
            "2025-08-17 13:46:22,210 Done\n"
          ]
        },
        {
          "output_type": "execute_result",
          "data": {
            "text/plain": [
              "{'rank': [['rank_001_alphafold2_ptm_model_3_seed_000',\n",
              "   'rank_002_alphafold2_ptm_model_1_seed_000',\n",
              "   'rank_003_alphafold2_ptm_model_2_seed_000'],\n",
              "  ['rank_001_alphafold2_ptm_model_2_seed_000',\n",
              "   'rank_002_alphafold2_ptm_model_1_seed_000',\n",
              "   'rank_003_alphafold2_ptm_model_3_seed_000'],\n",
              "  ['rank_001_alphafold2_ptm_model_1_seed_000',\n",
              "   'rank_002_alphafold2_ptm_model_3_seed_000',\n",
              "   'rank_003_alphafold2_ptm_model_2_seed_000'],\n",
              "  ['rank_001_alphafold2_ptm_model_1_seed_000',\n",
              "   'rank_002_alphafold2_ptm_model_3_seed_000',\n",
              "   'rank_003_alphafold2_ptm_model_2_seed_000'],\n",
              "  ['rank_001_alphafold2_ptm_model_3_seed_000',\n",
              "   'rank_002_alphafold2_ptm_model_1_seed_000',\n",
              "   'rank_003_alphafold2_ptm_model_2_seed_000'],\n",
              "  ['rank_001_alphafold2_ptm_model_1_seed_000',\n",
              "   'rank_002_alphafold2_ptm_model_2_seed_000',\n",
              "   'rank_003_alphafold2_ptm_model_3_seed_000'],\n",
              "  ['rank_001_alphafold2_ptm_model_3_seed_000',\n",
              "   'rank_002_alphafold2_ptm_model_2_seed_000',\n",
              "   'rank_003_alphafold2_ptm_model_1_seed_000'],\n",
              "  ['rank_001_alphafold2_ptm_model_3_seed_000',\n",
              "   'rank_002_alphafold2_ptm_model_2_seed_000',\n",
              "   'rank_003_alphafold2_ptm_model_1_seed_000'],\n",
              "  ['rank_001_alphafold2_ptm_model_1_seed_000',\n",
              "   'rank_002_alphafold2_ptm_model_3_seed_000',\n",
              "   'rank_003_alphafold2_ptm_model_2_seed_000']],\n",
              " 'metric': [[{'mean_plddt': 93.0625,\n",
              "    'ptm': 0.775390625,\n",
              "    'print_line': ' pLDDT=93.1 pTM=0.775'},\n",
              "   {'mean_plddt': 91.5,\n",
              "    'ptm': 0.755859375,\n",
              "    'print_line': ' pLDDT=91.5 pTM=0.756'},\n",
              "   {'mean_plddt': 91.1875,\n",
              "    'ptm': 0.7646484375,\n",
              "    'print_line': ' pLDDT=91.2 pTM=0.765'}],\n",
              "  [{'mean_plddt': 84.75,\n",
              "    'ptm': 0.69775390625,\n",
              "    'print_line': ' pLDDT=84.8 pTM=0.698'},\n",
              "   {'mean_plddt': 84.0,\n",
              "    'ptm': 0.69384765625,\n",
              "    'print_line': ' pLDDT=84 pTM=0.694'},\n",
              "   {'mean_plddt': 83.625,\n",
              "    'ptm': 0.70068359375,\n",
              "    'print_line': ' pLDDT=83.6 pTM=0.701'}],\n",
              "  [{'mean_plddt': 93.6875,\n",
              "    'ptm': 0.86767578125,\n",
              "    'print_line': ' pLDDT=93.7 pTM=0.868'},\n",
              "   {'mean_plddt': 93.5625,\n",
              "    'ptm': 0.86669921875,\n",
              "    'print_line': ' pLDDT=93.6 pTM=0.867'},\n",
              "   {'mean_plddt': 93.5625,\n",
              "    'ptm': 0.86767578125,\n",
              "    'print_line': ' pLDDT=93.6 pTM=0.868'}],\n",
              "  [{'mean_plddt': 91.0625,\n",
              "    'ptm': 0.845703125,\n",
              "    'print_line': ' pLDDT=91.1 pTM=0.846'},\n",
              "   {'mean_plddt': 90.75,\n",
              "    'ptm': 0.84619140625,\n",
              "    'print_line': ' pLDDT=90.8 pTM=0.846'},\n",
              "   {'mean_plddt': 90.3125,\n",
              "    'ptm': 0.8427734375,\n",
              "    'print_line': ' pLDDT=90.3 pTM=0.843'}],\n",
              "  [{'mean_plddt': 86.4375,\n",
              "    'ptm': 0.52197265625,\n",
              "    'print_line': ' pLDDT=86.4 pTM=0.522'},\n",
              "   {'mean_plddt': 84.75,\n",
              "    'ptm': 0.53515625,\n",
              "    'print_line': ' pLDDT=84.8 pTM=0.535'},\n",
              "   {'mean_plddt': 84.0625,\n",
              "    'ptm': 0.51806640625,\n",
              "    'print_line': ' pLDDT=84.1 pTM=0.518'}],\n",
              "  [{'mean_plddt': 86.9375,\n",
              "    'ptm': 0.7685546875,\n",
              "    'print_line': ' pLDDT=86.9 pTM=0.769'},\n",
              "   {'mean_plddt': 85.9375,\n",
              "    'ptm': 0.76220703125,\n",
              "    'print_line': ' pLDDT=85.9 pTM=0.762'},\n",
              "   {'mean_plddt': 85.625,\n",
              "    'ptm': 0.76318359375,\n",
              "    'print_line': ' pLDDT=85.6 pTM=0.763'}],\n",
              "  [{'mean_plddt': 69.625,\n",
              "    'ptm': 0.52685546875,\n",
              "    'print_line': ' pLDDT=69.6 pTM=0.527'},\n",
              "   {'mean_plddt': 68.625,\n",
              "    'ptm': 0.499267578125,\n",
              "    'print_line': ' pLDDT=68.6 pTM=0.499'},\n",
              "   {'mean_plddt': 66.1875,\n",
              "    'ptm': 0.521484375,\n",
              "    'print_line': ' pLDDT=66.2 pTM=0.521'}],\n",
              "  [{'mean_plddt': 83.6875,\n",
              "    'ptm': 0.62646484375,\n",
              "    'print_line': ' pLDDT=83.7 pTM=0.626'},\n",
              "   {'mean_plddt': 82.5,\n",
              "    'ptm': 0.564453125,\n",
              "    'print_line': ' pLDDT=82.5 pTM=0.564'},\n",
              "   {'mean_plddt': 82.25,\n",
              "    'ptm': 0.56103515625,\n",
              "    'print_line': ' pLDDT=82.2 pTM=0.561'}],\n",
              "  [{'mean_plddt': 69.625,\n",
              "    'ptm': 0.48095703125,\n",
              "    'print_line': ' pLDDT=69.6 pTM=0.481'},\n",
              "   {'mean_plddt': 69.125,\n",
              "    'ptm': 0.465087890625,\n",
              "    'print_line': ' pLDDT=69.1 pTM=0.465'},\n",
              "   {'mean_plddt': 68.4375,\n",
              "    'ptm': 0.46875,\n",
              "    'print_line': ' pLDDT=68.4 pTM=0.469'}]]}"
            ]
          },
          "metadata": {},
          "execution_count": 5
        }
      ]
    },
    {
      "cell_type": "markdown",
      "metadata": {
        "id": "UGUBLzB3C6WN"
      },
      "source": [
        "# Instructions <a name=\"Instructions\"></a>\n",
        "**Quick start**\n",
        "1. Upload your single fasta files to a folder in your Google Drive\n",
        "2. Define path to the fold containing the fasta files (`input_dir`) define an outdir (`output_dir`)\n",
        "3. Press \"Runtime\" -> \"Run all\".\n",
        "\n",
        "**Result zip file contents**\n",
        "\n",
        "At the end of the job a all results `jobname.result.zip` will be uploaded to your (`output_dir`) Google Drive. Each zip contains one protein.\n",
        "\n",
        "1. PDB formatted structures sorted by avg. pIDDT. (unrelaxed and relaxed if `use_amber` is enabled).\n",
        "2. Plots of the model quality.\n",
        "3. Plots of the MSA coverage.\n",
        "4. Parameter log file.\n",
        "5. A3M formatted input MSA.\n",
        "6. BibTeX file with citations for all used tools and databases.\n",
        "\n",
        "\n",
        "**Troubleshooting**\n",
        "* Check that the runtime type is set to GPU at \"Runtime\" -> \"Change runtime type\".\n",
        "* Try to restart the session \"Runtime\" -> \"Factory reset runtime\".\n",
        "* Check your input sequence.\n",
        "\n",
        "**Known issues**\n",
        "* Google Colab assigns different types of GPUs with varying amount of memory. Some might not have enough memory to predict the structure for a long sequence.\n",
        "* Google Colab assigns different types of GPUs with varying amount of memory. Some might not have enough memory to predict the structure for a long sequence.\n",
        "* Your browser can block the pop-up for downloading the result file. You can choose the `save_to_google_drive` option to upload to Google Drive instead or manually download the result file: Click on the little folder icon to the left, navigate to file: `jobname.result.zip`, right-click and select \\\"Download\\\" (see [screenshot](https://pbs.twimg.com/media/E6wRW2lWUAEOuoe?format=jpg&name=small)).\n",
        "\n",
        "**Limitations**\n",
        "* Computing resources: Our MMseqs2 API can handle ~20-50k requests per day.\n",
        "* MSAs: MMseqs2 is very precise and sensitive but might find less hits compared to HHblits/HMMer searched against BFD or Mgnify.\n",
        "* We recommend to additionally use the full [AlphaFold2 pipeline](https://github.com/deepmind/alphafold).\n",
        "\n",
        "**Description of the plots**\n",
        "*   **Number of sequences per position** - We want to see at least 30 sequences per position, for best performance, ideally 100 sequences.\n",
        "*   **Predicted lDDT per position** - model confidence (out of 100) at each position. The higher the better.\n",
        "*   **Predicted Alignment Error** - For homooligomers, this could be a useful metric to assess how confident the model is about the interface. The lower the better.\n",
        "\n",
        "**Bugs**\n",
        "- If you encounter any bugs, please report the issue to https://github.com/sokrypton/ColabFold/issues\n",
        "\n",
        "**License**\n",
        "\n",
        "The source code of ColabFold is licensed under [MIT](https://raw.githubusercontent.com/sokrypton/ColabFold/main/LICENSE). Additionally, this notebook uses AlphaFold2 source code and its parameters licensed under [Apache 2.0](https://raw.githubusercontent.com/deepmind/alphafold/main/LICENSE) and  [CC BY 4.0](https://creativecommons.org/licenses/by-sa/4.0/) respectively. Read more about the AlphaFold license [here](https://github.com/deepmind/alphafold).\n",
        "\n",
        "**Acknowledgments**\n",
        "- We thank the AlphaFold team for developing an excellent model and open sourcing the software.\n",
        "\n",
        "- Do-Yoon Kim for creating the ColabFold logo.\n",
        "\n",
        "- A colab by Sergey Ovchinnikov ([@sokrypton](https://twitter.com/sokrypton)), Milot Mirdita ([@milot_mirdita](https://twitter.com/milot_mirdita)) and Martin Steinegger ([@thesteinegger](https://twitter.com/thesteinegger)).\n"
      ]
    }
  ]
}