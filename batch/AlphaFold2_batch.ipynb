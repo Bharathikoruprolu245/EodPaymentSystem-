{
  "nbformat": 4,
  "nbformat_minor": 0,
  "metadata": {
    "accelerator": "GPU",
    "colab": {
      "name": "AlphaFold2_batch.ipynb",
      "provenance": [],
      "include_colab_link": true
    },
    "kernelspec": {
      "name": "python3",
      "language": "python",
      "display_name": "Python 3 (ipykernel)"
    },
    "language_info": {
      "name": "python"
    }
  },
  "cells": [
    {
      "cell_type": "markdown",
      "metadata": {
        "id": "view-in-github",
        "colab_type": "text"
      },
      "source": [
        "<a href=\"https://colab.research.google.com/github/Bharathikoruprolu245/EodPaymentSystem-/blob/main/batch/AlphaFold2_batch.ipynb\" target=\"_parent\"><img src=\"https://colab.research.google.com/assets/colab-badge.svg\" alt=\"Open In Colab\"/></a>"
      ]
    },
    {
      "cell_type": "markdown",
      "metadata": {
        "id": "G4yBrceuFbf3"
      },
      "source": [
        "#ColabFold v1.5.5: AlphaFold2 w/ MMseqs2 BATCH\n",
        "\n",
        "<img src=\"https://raw.githubusercontent.com/sokrypton/ColabFold/main/.github/ColabFold_Marv_Logo_Small.png\" height=\"256\" align=\"right\" style=\"height:256px\">\n",
        "\n",
        "Easy to use AlphaFold2 protein structure [(Jumper et al. 2021)](https://www.nature.com/articles/s41586-021-03819-2) and complex [(Evans et al. 2021)](https://www.biorxiv.org/content/10.1101/2021.10.04.463034v1) prediction using multiple sequence alignments generated through MMseqs2. For details, refer to our manuscript:\n",
        "\n",
        "[Mirdita M, Schütze K, Moriwaki Y, Heo L, Ovchinnikov S, Steinegger M. ColabFold: Making protein folding accessible to all.\n",
        "*Nature Methods*, 2022](https://www.nature.com/articles/s41592-022-01488-1)\n",
        "\n",
        "**Usage**\n",
        "\n",
        "`input_dir` directory with only fasta files or MSAs stored in Google Drive. MSAs need to be A3M formatted and have an `.a3m` extention. For MSAs MMseqs2 will not be called.\n",
        "\n",
        "`result_dir` results will be written to the result directory in Google Drive\n",
        "\n",
        "Old versions: [v1.4](https://colab.research.google.com/github/sokrypton/ColabFold/blob/v1.4.0/batch/AlphaFold2_batch.ipynb), [v1.5.1](https://colab.research.google.com/github/sokrypton/ColabFold/blob/v1.5.1/batch/AlphaFold2_batch.ipynb), [v1.5.2](https://colab.research.google.com/github/sokrypton/ColabFold/blob/v1.5.2/batch/AlphaFold2_batch.ipynb), [v1.5.3-patch](https://colab.research.google.com/github/sokrypton/ColabFold/blob/56c72044c7d51a311ca99b953a71e552fdc042e1/batch/AlphaFold2_batch.ipynb)\n",
        "\n",
        "<strong>For more details, see <a href=\"#Instructions\">bottom</a> of the notebook and checkout the [ColabFold GitHub](https://github.com/sokrypton/ColabFold). </strong>\n",
        "\n",
        "-----------\n",
        "\n",
        "### News\n",
        "- <b><font color='green'>2023/07/31: The ColabFold MSA server is back to normal. It was using older DB (UniRef30 2202/PDB70 220313) from 27th ~8:30 AM CEST to 31st ~11:10 AM CEST.</font></b>\n",
        "- <b><font color='green'>2023/06/12: New databases! UniRef30 updated to 2023_02 and PDB to 230517. We now use PDB100 instead of PDB70 (see notes in the [main](https://colabfold.com) notebook).</font></b>\n",
        "- <b><font color='green'>2023/06/12: We introduced a new default pairing strategy: Previously, for multimer predictions with more than 2 chains, we only pair if all sequences taxonomically match (\"complete\" pairing). The new default \"greedy\" strategy pairs any taxonomically matching subsets.</font></b>"
      ]
    },
    {
      "cell_type": "code",
      "metadata": {
        "id": "AwvIWN3HDyUJ",
        "cellView": "form",
        "outputId": "a354dc18-2b54-4088-bdc4-f7b19e4bbd73",
        "colab": {
          "base_uri": "https://localhost:8080/"
        }
      },
      "source": [
        "#@title Mount google drive\n",
        "from google.colab import drive\n",
        "drive.mount('/content/drive')\n",
        "from sys import version_info\n",
        "python_version = f\"{version_info.major}.{version_info.minor}\""
      ],
      "execution_count": 1,
      "outputs": [
        {
          "output_type": "stream",
          "name": "stdout",
          "text": [
            "Mounted at /content/drive\n"
          ]
        }
      ]
    },
    {
      "cell_type": "code",
      "source": [
        "from google.colab import drive\n",
        "drive.mount('/content/drive')"
      ],
      "metadata": {
        "id": "t7eAbPgMBlAP",
        "outputId": "91816b48-2579-4144-aab0-31cfc6d7d74b",
        "colab": {
          "base_uri": "https://localhost:8080/"
        }
      },
      "execution_count": 2,
      "outputs": [
        {
          "output_type": "stream",
          "name": "stdout",
          "text": [
            "Drive already mounted at /content/drive; to attempt to forcibly remount, call drive.mount(\"/content/drive\", force_remount=True).\n"
          ]
        }
      ]
    },
    {
      "cell_type": "code",
      "metadata": {
        "id": "kOblAo-xetgx",
        "cellView": "form"
      },
      "source": [
        "#@title Input protein sequence, then hit `Runtime` -> `Run all`\n",
        "\n",
        "input_dir = '/content/drive/MyDrive/individual_fastas/batch5' #@param {type:\"string\"}\n",
        "result_dir = '/content/drive/MyDrive/result5' #@param {type:\"string\"}\n",
        "\n",
        "# number of models to use\n",
        "#@markdown ---\n",
        "#@markdown ### Advanced settings\n",
        "msa_mode = \"MMseqs2 (UniRef+Environmental)\" #@param [\"MMseqs2 (UniRef+Environmental)\", \"MMseqs2 (UniRef only)\",\"single_sequence\",\"custom\"]\n",
        "num_models = 3 #@param [1,2,3,4,5] {type:\"raw\"}\n",
        "num_recycles = 3 #@param [1,3,6,12,24,48] {type:\"raw\"}\n",
        "stop_at_score = 100 #@param {type:\"string\"}\n",
        "#@markdown - early stop computing models once score > threshold (avg. plddt for \"structures\" and ptmscore for \"complexes\")\n",
        "use_custom_msa = False\n",
        "num_relax = 0 #@param [0, 1, 5] {type:\"raw\"}\n",
        "use_amber = num_relax > 0\n",
        "relax_max_iterations = 0 #@param [0,200,2000] {type:\"raw\"}\n",
        "use_templates = True #@param {type:\"boolean\"}\n",
        "do_not_overwrite_results = True #@param {type:\"boolean\"}\n",
        "zip_results = True #@param {type:\"boolean\"}\n"
      ],
      "execution_count": 3,
      "outputs": []
    },
    {
      "cell_type": "code",
      "metadata": {
        "id": "iccGdbe_Pmt9",
        "cellView": "form",
        "outputId": "3b298b73-3ea3-4705-8c4d-96d0f2e40c64",
        "colab": {
          "base_uri": "https://localhost:8080/"
        }
      },
      "source": [
        "#@title Install dependencies\n",
        "%%bash -s $use_amber $use_templates $python_version\n",
        "\n",
        "set -e\n",
        "\n",
        "USE_AMBER=$1\n",
        "USE_TEMPLATES=$2\n",
        "PYTHON_VERSION=$3\n",
        "\n",
        "if [ ! -f COLABFOLD_READY ]; then\n",
        "  # install dependencies\n",
        "  # We have to use \"--no-warn-conflicts\" because colab already has a lot preinstalled with requirements different to ours\n",
        "  pip install -q --no-warn-conflicts \"colabfold[alphafold-minus-jax] @ git+https://github.com/sokrypton/ColabFold\"\n",
        "  if [ -n \"${TPU_NAME}\" ]; then\n",
        "    pip install -q --no-warn-conflicts -U dm-haiku==0.0.10 jax==0.3.25\n",
        "  fi\n",
        "  ln -s /usr/local/lib/python3.*/dist-packages/colabfold colabfold\n",
        "  ln -s /usr/local/lib/python3.*/dist-packages/alphafold alphafold\n",
        "  # hack to fix TF crash\n",
        "  rm -f /usr/local/lib/python3.*/dist-packages/tensorflow/core/kernels/libtfkernel_sobol_op.so\n",
        "  touch COLABFOLD_READY\n",
        "fi\n",
        "\n",
        "# Download params (~1min)\n",
        "python -m colabfold.download\n",
        "\n",
        "# setup conda\n",
        "if [ ${USE_AMBER} == \"True\" ] || [ ${USE_TEMPLATES} == \"True\" ]; then\n",
        "  if [ ! -f CONDA_READY ]; then\n",
        "    wget -qnc https://github.com/conda-forge/miniforge/releases/download/25.3.1-0/Miniforge3-25.3.1-0-Linux-x86_64.sh\n",
        "    bash Miniforge3-25.3.1-0-Linux-x86_64.sh -bfp /usr/local 2>&1 1>/dev/null\n",
        "    rm Miniforge3-25.3.1-0-Linux-x86_64.sh\n",
        "    conda config --set auto_update_conda false\n",
        "    touch CONDA_READY\n",
        "  fi\n",
        "fi\n",
        "# setup template search\n",
        "if [ ${USE_TEMPLATES} == \"True\" ] && [ ! -f HH_READY ]; then\n",
        "  conda install -y -q -c conda-forge -c bioconda kalign2=2.04 hhsuite=3.3.0 python=\"${PYTHON_VERSION}\" 2>&1 1>/dev/null\n",
        "  touch HH_READY\n",
        "fi\n",
        "# setup openmm for amber refinement\n",
        "if [ ${USE_AMBER} == \"True\" ] && [ ! -f AMBER_READY ]; then\n",
        "  conda install -y -q -c conda-forge openmm=8.2.0 python=\"${PYTHON_VERSION}\" pdbfixer 2>&1 1>/dev/null\n",
        "  touch AMBER_READY\n",
        "fi"
      ],
      "execution_count": 4,
      "outputs": [
        {
          "output_type": "stream",
          "name": "stdout",
          "text": [
            "   ━━━━━━━━━━━━━━━━━━━━━━━━━━━━━━━━━━━━━━━━ 248.2/248.2 kB 18.9 MB/s eta 0:00:00\n",
            "   ━━━━━━━━━━━━━━━━━━━━━━━━━━━━━━━━━━━━━━━━ 3.3/3.3 MB 104.3 MB/s eta 0:00:00\n",
            "   ━━━━━━━━━━━━━━━━━━━━━━━━━━━━━━━━━━━━━━━━ 373.9/373.9 kB 30.8 MB/s eta 0:00:00\n",
            "   ━━━━━━━━━━━━━━━━━━━━━━━━━━━━━━━━━━━━━━━━ 258.9/258.9 MB 5.4 MB/s eta 0:00:00\n",
            "   ━━━━━━━━━━━━━━━━━━━━━━━━━━━━━━━━━━━━━━━━ 5.5/5.5 MB 75.6 MB/s eta 0:00:00\n",
            "   ━━━━━━━━━━━━━━━━━━━━━━━━━━━━━━━━━━━━━━━━ 76.7/76.7 kB 7.5 MB/s eta 0:00:00\n",
            "warning  libmamba [python-3.12.11-h9e4cc4f_0_cpython] The following files were already present in the environment:\n",
            "    - bin/python\n",
            "warning  libmamba [charset-normalizer-3.4.2-pyhd8ed1ab_0] The following files were already present in the environment:\n",
            "    - bin/normalizer\n",
            "warning  libmamba [distro-1.9.0-pyhd8ed1ab_1] The following files were already present in the environment:\n",
            "    - bin/distro\n",
            "warning  libmamba [jsonpointer-3.0.0-py312h7900ff3_1] The following files were already present in the environment:\n",
            "    - bin/jsonpointer\n",
            "warning  libmamba [wheel-0.45.1-pyhd8ed1ab_1] The following files were already present in the environment:\n",
            "    - bin/wheel\n",
            "warning  libmamba [jsonpatch-1.33-pyhd8ed1ab_1] The following files were already present in the environment:\n",
            "    - bin/jsondiff\n",
            "    - bin/jsonpatch\n",
            "warning  libmamba [pip-25.1.1-pyh8b19718_0] The following files were already present in the environment:\n",
            "    - bin/pip\n",
            "    - bin/pip3\n",
            "warning  libmamba [tqdm-4.67.1-pyhd8ed1ab_1] The following files were already present in the environment:\n",
            "    - bin/tqdm\n"
          ]
        },
        {
          "output_type": "stream",
          "name": "stderr",
          "text": [
            "\rDownloading alphafold2_multimer_v3 weights to /root/.cache/colabfold:   0%|          | 0/4099624960 [00:00<?, ?it/s]\rDownloading alphafold2_multimer_v3 weights to /root/.cache/colabfold:   0%|          | 50.0k/3.82G [00:00<4:29:14, 254kB/s]\rDownloading alphafold2_multimer_v3 weights to /root/.cache/colabfold:   0%|          | 80.0k/3.82G [00:00<5:34:30, 204kB/s]\rDownloading alphafold2_multimer_v3 weights to /root/.cache/colabfold:   0%|          | 160k/3.82G [00:00<3:20:04, 341kB/s] \rDownloading alphafold2_multimer_v3 weights to /root/.cache/colabfold:   0%|          | 240k/3.82G [00:00<2:28:32, 460kB/s]\rDownloading alphafold2_multimer_v3 weights to /root/.cache/colabfold:   0%|          | 360k/3.82G [00:00<1:42:24, 667kB/s]\rDownloading alphafold2_multimer_v3 weights to /root/.cache/colabfold:   0%|          | 530k/3.82G [00:00<1:12:07, 947kB/s]\rDownloading alphafold2_multimer_v3 weights to /root/.cache/colabfold:   0%|          | 760k/3.82G [00:00<50:53, 1.34MB/s] \rDownloading alphafold2_multimer_v3 weights to /root/.cache/colabfold:   0%|          | 1.09M/3.82G [00:01<34:00, 2.01MB/s]\rDownloading alphafold2_multimer_v3 weights to /root/.cache/colabfold:   0%|          | 1.60M/3.82G [00:01<23:02, 2.96MB/s]\rDownloading alphafold2_multimer_v3 weights to /root/.cache/colabfold:   0%|          | 2.38M/3.82G [00:01<15:12, 4.49MB/s]\rDownloading alphafold2_multimer_v3 weights to /root/.cache/colabfold:   0%|          | 3.55M/3.82G [00:01<10:04, 6.77MB/s]\rDownloading alphafold2_multimer_v3 weights to /root/.cache/colabfold:   0%|          | 5.30M/3.82G [00:01<06:42, 10.2MB/s]\rDownloading alphafold2_multimer_v3 weights to /root/.cache/colabfold:   0%|          | 7.68M/3.82G [00:01<04:42, 14.5MB/s]\rDownloading alphafold2_multimer_v3 weights to /root/.cache/colabfold:   0%|          | 9.71M/3.82G [00:01<04:08, 16.5MB/s]\rDownloading alphafold2_multimer_v3 weights to /root/.cache/colabfold:   0%|          | 12.1M/3.82G [00:01<03:40, 18.5MB/s]\rDownloading alphafold2_multimer_v3 weights to /root/.cache/colabfold:   0%|          | 14.6M/3.82G [00:01<03:18, 20.6MB/s]\rDownloading alphafold2_multimer_v3 weights to /root/.cache/colabfold:   0%|          | 16.6M/3.82G [00:01<03:19, 20.5MB/s]\rDownloading alphafold2_multimer_v3 weights to /root/.cache/colabfold:   0%|          | 19.1M/3.82G [00:02<03:10, 21.4MB/s]\rDownloading alphafold2_multimer_v3 weights to /root/.cache/colabfold:   1%|          | 21.3M/3.82G [00:02<03:03, 22.2MB/s]\rDownloading alphafold2_multimer_v3 weights to /root/.cache/colabfold:   1%|          | 23.5M/3.82G [00:02<03:06, 21.9MB/s]\rDownloading alphafold2_multimer_v3 weights to /root/.cache/colabfold:   1%|          | 26.0M/3.82G [00:02<02:59, 22.7MB/s]\rDownloading alphafold2_multimer_v3 weights to /root/.cache/colabfold:   1%|          | 28.1M/3.82G [00:02<02:59, 22.7MB/s]\rDownloading alphafold2_multimer_v3 weights to /root/.cache/colabfold:   1%|          | 30.4M/3.82G [00:02<03:02, 22.3MB/s]\rDownloading alphafold2_multimer_v3 weights to /root/.cache/colabfold:   1%|          | 32.9M/3.82G [00:02<02:54, 23.4MB/s]\rDownloading alphafold2_multimer_v3 weights to /root/.cache/colabfold:   1%|          | 35.1M/3.82G [00:02<02:57, 22.9MB/s]\rDownloading alphafold2_multimer_v3 weights to /root/.cache/colabfold:   1%|          | 37.3M/3.82G [00:02<03:00, 22.5MB/s]\rDownloading alphafold2_multimer_v3 weights to /root/.cache/colabfold:   1%|          | 39.7M/3.82G [00:03<02:57, 22.9MB/s]\rDownloading alphafold2_multimer_v3 weights to /root/.cache/colabfold:   1%|          | 41.9M/3.82G [00:03<02:58, 22.7MB/s]\rDownloading alphafold2_multimer_v3 weights to /root/.cache/colabfold:   1%|          | 44.2M/3.82G [00:03<02:56, 23.0MB/s]\rDownloading alphafold2_multimer_v3 weights to /root/.cache/colabfold:   1%|          | 46.4M/3.82G [00:03<02:56, 23.0MB/s]\rDownloading alphafold2_multimer_v3 weights to /root/.cache/colabfold:   1%|          | 48.7M/3.82G [00:03<03:00, 22.4MB/s]\rDownloading alphafold2_multimer_v3 weights to /root/.cache/colabfold:   1%|▏         | 51.1M/3.82G [00:03<02:54, 23.2MB/s]\rDownloading alphafold2_multimer_v3 weights to /root/.cache/colabfold:   1%|▏         | 53.3M/3.82G [00:03<02:57, 22.8MB/s]\rDownloading alphafold2_multimer_v3 weights to /root/.cache/colabfold:   1%|▏         | 55.5M/3.82G [00:03<02:58, 22.6MB/s]\rDownloading alphafold2_multimer_v3 weights to /root/.cache/colabfold:   1%|▏         | 58.0M/3.82G [00:03<02:55, 23.0MB/s]\rDownloading alphafold2_multimer_v3 weights to /root/.cache/colabfold:   2%|▏         | 60.2M/3.82G [00:03<02:57, 22.8MB/s]\rDownloading alphafold2_multimer_v3 weights to /root/.cache/colabfold:   2%|▏         | 62.5M/3.82G [00:04<02:54, 23.1MB/s]\rDownloading alphafold2_multimer_v3 weights to /root/.cache/colabfold:   2%|▏         | 64.7M/3.82G [00:04<02:55, 23.0MB/s]\rDownloading alphafold2_multimer_v3 weights to /root/.cache/colabfold:   2%|▏         | 66.9M/3.82G [00:04<02:59, 22.5MB/s]\rDownloading alphafold2_multimer_v3 weights to /root/.cache/colabfold:   2%|▏         | 69.3M/3.82G [00:04<02:53, 23.2MB/s]\rDownloading alphafold2_multimer_v3 weights to /root/.cache/colabfold:   2%|▏         | 71.6M/3.82G [00:04<02:56, 22.8MB/s]\rDownloading alphafold2_multimer_v3 weights to /root/.cache/colabfold:   2%|▏         | 73.8M/3.82G [00:04<02:57, 22.6MB/s]\rDownloading alphafold2_multimer_v3 weights to /root/.cache/colabfold:   2%|▏         | 76.2M/3.82G [00:04<02:54, 23.0MB/s]\rDownloading alphafold2_multimer_v3 weights to /root/.cache/colabfold:   2%|▏         | 78.4M/3.82G [00:04<02:56, 22.8MB/s]\rDownloading alphafold2_multimer_v3 weights to /root/.cache/colabfold:   2%|▏         | 80.7M/3.82G [00:04<02:53, 23.1MB/s]\rDownloading alphafold2_multimer_v3 weights to /root/.cache/colabfold:   2%|▏         | 82.9M/3.82G [00:05<02:54, 23.0MB/s]\rDownloading alphafold2_multimer_v3 weights to /root/.cache/colabfold:   2%|▏         | 85.1M/3.82G [00:05<02:58, 22.5MB/s]\rDownloading alphafold2_multimer_v3 weights to /root/.cache/colabfold:   2%|▏         | 87.6M/3.82G [00:05<02:52, 23.2MB/s]\rDownloading alphafold2_multimer_v3 weights to /root/.cache/colabfold:   2%|▏         | 89.8M/3.82G [00:05<02:55, 22.9MB/s]\rDownloading alphafold2_multimer_v3 weights to /root/.cache/colabfold:   2%|▏         | 92.0M/3.82G [00:05<02:56, 22.6MB/s]\rDownloading alphafold2_multimer_v3 weights to /root/.cache/colabfold:   2%|▏         | 94.5M/3.82G [00:05<02:53, 23.1MB/s]\rDownloading alphafold2_multimer_v3 weights to /root/.cache/colabfold:   2%|▏         | 96.7M/3.82G [00:05<02:55, 22.8MB/s]\rDownloading alphafold2_multimer_v3 weights to /root/.cache/colabfold:   3%|▎         | 98.9M/3.82G [00:05<02:53, 23.0MB/s]\rDownloading alphafold2_multimer_v3 weights to /root/.cache/colabfold:   3%|▎         | 101M/3.82G [00:05<02:53, 23.0MB/s] \rDownloading alphafold2_multimer_v3 weights to /root/.cache/colabfold:   3%|▎         | 103M/3.82G [00:05<02:57, 22.5MB/s]\rDownloading alphafold2_multimer_v3 weights to /root/.cache/colabfold:   3%|▎         | 106M/3.82G [00:06<02:51, 23.2MB/s]\rDownloading alphafold2_multimer_v3 weights to /root/.cache/colabfold:   3%|▎         | 108M/3.82G [00:06<02:54, 22.9MB/s]\rDownloading alphafold2_multimer_v3 weights to /root/.cache/colabfold:   3%|▎         | 110M/3.82G [00:06<02:56, 22.6MB/s]\rDownloading alphafold2_multimer_v3 weights to /root/.cache/colabfold:   3%|▎         | 113M/3.82G [00:06<02:53, 23.0MB/s]\rDownloading alphafold2_multimer_v3 weights to /root/.cache/colabfold:   3%|▎         | 115M/3.82G [00:06<02:54, 22.8MB/s]\rDownloading alphafold2_multimer_v3 weights to /root/.cache/colabfold:   3%|▎         | 117M/3.82G [00:06<02:52, 23.1MB/s]\rDownloading alphafold2_multimer_v3 weights to /root/.cache/colabfold:   3%|▎         | 119M/3.82G [00:06<02:52, 23.0MB/s]\rDownloading alphafold2_multimer_v3 weights to /root/.cache/colabfold:   3%|▎         | 122M/3.82G [00:06<02:56, 22.5MB/s]\rDownloading alphafold2_multimer_v3 weights to /root/.cache/colabfold:   3%|▎         | 124M/3.82G [00:06<02:50, 23.3MB/s]\rDownloading alphafold2_multimer_v3 weights to /root/.cache/colabfold:   3%|▎         | 126M/3.82G [00:06<02:53, 22.8MB/s]\rDownloading alphafold2_multimer_v3 weights to /root/.cache/colabfold:   3%|▎         | 129M/3.82G [00:07<02:55, 22.6MB/s]\rDownloading alphafold2_multimer_v3 weights to /root/.cache/colabfold:   3%|▎         | 131M/3.82G [00:07<02:52, 23.0MB/s]\rDownloading alphafold2_multimer_v3 weights to /root/.cache/colabfold:   3%|▎         | 133M/3.82G [00:07<02:53, 22.8MB/s]\rDownloading alphafold2_multimer_v3 weights to /root/.cache/colabfold:   3%|▎         | 135M/3.82G [00:07<02:52, 23.0MB/s]\rDownloading alphafold2_multimer_v3 weights to /root/.cache/colabfold:   4%|▎         | 138M/3.82G [00:07<02:51, 23.0MB/s]\rDownloading alphafold2_multimer_v3 weights to /root/.cache/colabfold:   4%|▎         | 140M/3.82G [00:07<02:55, 22.5MB/s]\rDownloading alphafold2_multimer_v3 weights to /root/.cache/colabfold:   4%|▎         | 142M/3.82G [00:07<03:30, 18.7MB/s]\rDownloading alphafold2_multimer_v3 weights to /root/.cache/colabfold:   4%|▎         | 144M/3.82G [00:07<03:54, 16.8MB/s]\rDownloading alphafold2_multimer_v3 weights to /root/.cache/colabfold:   4%|▎         | 146M/3.82G [00:08<03:35, 18.3MB/s]\rDownloading alphafold2_multimer_v3 weights to /root/.cache/colabfold:   4%|▍         | 150M/3.82G [00:08<03:17, 19.9MB/s]\rDownloading alphafold2_multimer_v3 weights to /root/.cache/colabfold:   4%|▍         | 154M/3.82G [00:08<03:07, 21.0MB/s]\rDownloading alphafold2_multimer_v3 weights to /root/.cache/colabfold:   4%|▍         | 157M/3.82G [00:08<03:02, 21.6MB/s]\rDownloading alphafold2_multimer_v3 weights to /root/.cache/colabfold:   4%|▍         | 160M/3.82G [00:08<03:29, 18.8MB/s]\rDownloading alphafold2_multimer_v3 weights to /root/.cache/colabfold:   4%|▍         | 163M/3.82G [00:08<03:23, 19.3MB/s]\rDownloading alphafold2_multimer_v3 weights to /root/.cache/colabfold:   4%|▍         | 167M/3.82G [00:09<03:12, 20.4MB/s]\rDownloading alphafold2_multimer_v3 weights to /root/.cache/colabfold:   4%|▍         | 170M/3.82G [00:09<03:05, 21.2MB/s]\rDownloading alphafold2_multimer_v3 weights to /root/.cache/colabfold:   4%|▍         | 174M/3.82G [00:09<03:00, 21.7MB/s]\rDownloading alphafold2_multimer_v3 weights to /root/.cache/colabfold:   5%|▍         | 178M/3.82G [00:09<02:57, 22.0MB/s]\rDownloading alphafold2_multimer_v3 weights to /root/.cache/colabfold:   5%|▍         | 181M/3.82G [00:09<02:55, 22.3MB/s]\rDownloading alphafold2_multimer_v3 weights to /root/.cache/colabfold:   5%|▍         | 185M/3.82G [00:09<02:53, 22.5MB/s]\rDownloading alphafold2_multimer_v3 weights to /root/.cache/colabfold:   5%|▍         | 189M/3.82G [00:10<02:52, 22.6MB/s]\rDownloading alphafold2_multimer_v3 weights to /root/.cache/colabfold:   5%|▍         | 192M/3.82G [00:10<02:51, 22.7MB/s]\rDownloading alphafold2_multimer_v3 weights to /root/.cache/colabfold:   5%|▌         | 196M/3.82G [00:10<02:51, 22.8MB/s]\rDownloading alphafold2_multimer_v3 weights to /root/.cache/colabfold:   5%|▌         | 200M/3.82G [00:10<02:51, 22.7MB/s]\rDownloading alphafold2_multimer_v3 weights to /root/.cache/colabfold:   5%|▌         | 203M/3.82G [00:10<02:50, 22.8MB/s]\rDownloading alphafold2_multimer_v3 weights to /root/.cache/colabfold:   5%|▌         | 207M/3.82G [00:10<02:50, 22.8MB/s]\rDownloading alphafold2_multimer_v3 weights to /root/.cache/colabfold:   5%|▌         | 210M/3.82G [00:11<02:49, 22.8MB/s]\rDownloading alphafold2_multimer_v3 weights to /root/.cache/colabfold:   5%|▌         | 214M/3.82G [00:11<02:49, 22.8MB/s]\rDownloading alphafold2_multimer_v3 weights to /root/.cache/colabfold:   6%|▌         | 218M/3.82G [00:11<02:49, 22.9MB/s]\rDownloading alphafold2_multimer_v3 weights to /root/.cache/colabfold:   6%|▌         | 221M/3.82G [00:11<02:49, 22.8MB/s]\rDownloading alphafold2_multimer_v3 weights to /root/.cache/colabfold:   6%|▌         | 225M/3.82G [00:11<02:49, 22.9MB/s]\rDownloading alphafold2_multimer_v3 weights to /root/.cache/colabfold:   6%|▌         | 229M/3.82G [00:11<02:48, 22.9MB/s]\rDownloading alphafold2_multimer_v3 weights to /root/.cache/colabfold:   6%|▌         | 232M/3.82G [00:12<02:48, 22.9MB/s]\rDownloading alphafold2_multimer_v3 weights to /root/.cache/colabfold:   6%|▌         | 236M/3.82G [00:12<02:48, 22.9MB/s]\rDownloading alphafold2_multimer_v3 weights to /root/.cache/colabfold:   6%|▌         | 240M/3.82G [00:12<02:48, 22.9MB/s]\rDownloading alphafold2_multimer_v3 weights to /root/.cache/colabfold:   6%|▌         | 243M/3.82G [00:12<02:47, 22.9MB/s]\rDownloading alphafold2_multimer_v3 weights to /root/.cache/colabfold:   6%|▋         | 247M/3.82G [00:12<02:48, 22.9MB/s]\rDownloading alphafold2_multimer_v3 weights to /root/.cache/colabfold:   6%|▋         | 251M/3.82G [00:12<02:47, 22.9MB/s]\rDownloading alphafold2_multimer_v3 weights to /root/.cache/colabfold:   7%|▋         | 254M/3.82G [00:13<02:47, 22.9MB/s]\rDownloading alphafold2_multimer_v3 weights to /root/.cache/colabfold:   7%|▋         | 258M/3.82G [00:13<02:47, 22.9MB/s]\rDownloading alphafold2_multimer_v3 weights to /root/.cache/colabfold:   7%|▋         | 262M/3.82G [00:13<02:47, 22.9MB/s]\rDownloading alphafold2_multimer_v3 weights to /root/.cache/colabfold:   7%|▋         | 265M/3.82G [00:13<02:46, 22.9MB/s]\rDownloading alphafold2_multimer_v3 weights to /root/.cache/colabfold:   7%|▋         | 269M/3.82G [00:13<02:46, 22.9MB/s]\rDownloading alphafold2_multimer_v3 weights to /root/.cache/colabfold:   7%|▋         | 272M/3.82G [00:13<02:46, 22.9MB/s]\rDownloading alphafold2_multimer_v3 weights to /root/.cache/colabfold:   7%|▋         | 276M/3.82G [00:14<02:46, 22.9MB/s]\rDownloading alphafold2_multimer_v3 weights to /root/.cache/colabfold:   7%|▋         | 280M/3.82G [00:14<02:46, 22.9MB/s]\rDownloading alphafold2_multimer_v3 weights to /root/.cache/colabfold:   7%|▋         | 283M/3.82G [00:14<02:46, 22.9MB/s]\rDownloading alphafold2_multimer_v3 weights to /root/.cache/colabfold:   7%|▋         | 287M/3.82G [00:14<02:45, 22.9MB/s]\rDownloading alphafold2_multimer_v3 weights to /root/.cache/colabfold:   7%|▋         | 291M/3.82G [00:14<02:46, 22.9MB/s]\rDownloading alphafold2_multimer_v3 weights to /root/.cache/colabfold:   8%|▊         | 294M/3.82G [00:14<02:45, 22.9MB/s]\rDownloading alphafold2_multimer_v3 weights to /root/.cache/colabfold:   8%|▊         | 298M/3.82G [00:15<02:45, 22.9MB/s]\rDownloading alphafold2_multimer_v3 weights to /root/.cache/colabfold:   8%|▊         | 302M/3.82G [00:15<02:45, 22.9MB/s]\rDownloading alphafold2_multimer_v3 weights to /root/.cache/colabfold:   8%|▊         | 305M/3.82G [00:15<02:45, 22.9MB/s]\rDownloading alphafold2_multimer_v3 weights to /root/.cache/colabfold:   8%|▊         | 309M/3.82G [00:15<02:44, 22.9MB/s]\rDownloading alphafold2_multimer_v3 weights to /root/.cache/colabfold:   8%|▊         | 313M/3.82G [00:15<02:44, 22.9MB/s]\rDownloading alphafold2_multimer_v3 weights to /root/.cache/colabfold:   8%|▊         | 316M/3.82G [00:15<02:44, 22.9MB/s]\rDownloading alphafold2_multimer_v3 weights to /root/.cache/colabfold:   8%|▊         | 320M/3.82G [00:16<02:44, 22.9MB/s]\rDownloading alphafold2_multimer_v3 weights to /root/.cache/colabfold:   8%|▊         | 324M/3.82G [00:16<02:43, 22.9MB/s]\rDownloading alphafold2_multimer_v3 weights to /root/.cache/colabfold:   8%|▊         | 327M/3.82G [00:16<02:43, 22.9MB/s]\rDownloading alphafold2_multimer_v3 weights to /root/.cache/colabfold:   8%|▊         | 331M/3.82G [00:16<02:43, 22.9MB/s]\rDownloading alphafold2_multimer_v3 weights to /root/.cache/colabfold:   9%|▊         | 335M/3.82G [00:16<02:43, 22.9MB/s]\rDownloading alphafold2_multimer_v3 weights to /root/.cache/colabfold:   9%|▊         | 338M/3.82G [00:16<02:43, 22.9MB/s]\rDownloading alphafold2_multimer_v3 weights to /root/.cache/colabfold:   9%|▊         | 342M/3.82G [00:17<02:43, 22.9MB/s]\rDownloading alphafold2_multimer_v3 weights to /root/.cache/colabfold:   9%|▉         | 345M/3.82G [00:17<02:43, 22.9MB/s]\rDownloading alphafold2_multimer_v3 weights to /root/.cache/colabfold:   9%|▉         | 349M/3.82G [00:17<02:43, 22.9MB/s]\rDownloading alphafold2_multimer_v3 weights to /root/.cache/colabfold:   9%|▉         | 353M/3.82G [00:17<02:43, 22.9MB/s]\rDownloading alphafold2_multimer_v3 weights to /root/.cache/colabfold:   9%|▉         | 356M/3.82G [00:17<02:42, 22.9MB/s]\rDownloading alphafold2_multimer_v3 weights to /root/.cache/colabfold:   9%|▉         | 360M/3.82G [00:17<02:42, 22.9MB/s]\rDownloading alphafold2_multimer_v3 weights to /root/.cache/colabfold:   9%|▉         | 364M/3.82G [00:18<02:42, 22.9MB/s]\rDownloading alphafold2_multimer_v3 weights to /root/.cache/colabfold:   9%|▉         | 367M/3.82G [00:18<02:42, 22.9MB/s]\rDownloading alphafold2_multimer_v3 weights to /root/.cache/colabfold:   9%|▉         | 371M/3.82G [00:18<02:42, 22.9MB/s]\rDownloading alphafold2_multimer_v3 weights to /root/.cache/colabfold:  10%|▉         | 373M/3.82G [00:18<03:05, 20.0MB/s]\rDownloading alphafold2_multimer_v3 weights to /root/.cache/colabfold:  10%|▉         | 375M/3.82G [00:18<03:29, 17.7MB/s]\rDownloading alphafold2_multimer_v3 weights to /root/.cache/colabfold:  10%|▉         | 379M/3.82G [00:18<03:13, 19.2MB/s]\rDownloading alphafold2_multimer_v3 weights to /root/.cache/colabfold:  10%|▉         | 382M/3.82G [00:19<03:02, 20.3MB/s]\rDownloading alphafold2_multimer_v3 weights to /root/.cache/colabfold:  10%|▉         | 386M/3.82G [00:19<02:55, 21.1MB/s]\rDownloading alphafold2_multimer_v3 weights to /root/.cache/colabfold:  10%|▉         | 390M/3.82G [00:19<02:51, 21.6MB/s]\rDownloading alphafold2_multimer_v3 weights to /root/.cache/colabfold:  10%|█         | 393M/3.82G [00:19<02:47, 22.0MB/s]\rDownloading alphafold2_multimer_v3 weights to /root/.cache/colabfold:  10%|█         | 397M/3.82G [00:19<02:45, 22.3MB/s]\rDownloading alphafold2_multimer_v3 weights to /root/.cache/colabfold:  10%|█         | 401M/3.82G [00:19<02:43, 22.4MB/s]\rDownloading alphafold2_multimer_v3 weights to /root/.cache/colabfold:  10%|█         | 404M/3.82G [00:20<02:42, 22.6MB/s]\rDownloading alphafold2_multimer_v3 weights to /root/.cache/colabfold:  10%|█         | 408M/3.82G [00:20<02:41, 22.7MB/s]\rDownloading alphafold2_multimer_v3 weights to /root/.cache/colabfold:  11%|█         | 412M/3.82G [00:20<02:41, 22.8MB/s]\rDownloading alphafold2_multimer_v3 weights to /root/.cache/colabfold:  11%|█         | 415M/3.82G [00:20<02:41, 22.8MB/s]\rDownloading alphafold2_multimer_v3 weights to /root/.cache/colabfold:  11%|█         | 419M/3.82G [00:20<02:40, 22.8MB/s]\rDownloading alphafold2_multimer_v3 weights to /root/.cache/colabfold:  11%|█         | 422M/3.82G [00:20<02:40, 22.8MB/s]\rDownloading alphafold2_multimer_v3 weights to /root/.cache/colabfold:  11%|█         | 426M/3.82G [00:21<02:39, 22.8MB/s]\rDownloading alphafold2_multimer_v3 weights to /root/.cache/colabfold:  11%|█         | 430M/3.82G [00:21<02:39, 22.8MB/s]\rDownloading alphafold2_multimer_v3 weights to /root/.cache/colabfold:  11%|█         | 433M/3.82G [00:21<02:39, 22.8MB/s]\rDownloading alphafold2_multimer_v3 weights to /root/.cache/colabfold:  11%|█         | 437M/3.82G [00:21<02:39, 22.9MB/s]\rDownloading alphafold2_multimer_v3 weights to /root/.cache/colabfold:  11%|█▏        | 441M/3.82G [00:21<02:39, 22.9MB/s]\rDownloading alphafold2_multimer_v3 weights to /root/.cache/colabfold:  11%|█▏        | 444M/3.82G [00:21<02:38, 22.9MB/s]\rDownloading alphafold2_multimer_v3 weights to /root/.cache/colabfold:  11%|█▏        | 448M/3.82G [00:22<02:38, 22.9MB/s]\rDownloading alphafold2_multimer_v3 weights to /root/.cache/colabfold:  12%|█▏        | 452M/3.82G [00:22<02:38, 22.8MB/s]\rDownloading alphafold2_multimer_v3 weights to /root/.cache/colabfold:  12%|█▏        | 455M/3.82G [00:22<02:38, 22.9MB/s]\rDownloading alphafold2_multimer_v3 weights to /root/.cache/colabfold:  12%|█▏        | 459M/3.82G [00:22<02:38, 22.9MB/s]\rDownloading alphafold2_multimer_v3 weights to /root/.cache/colabfold:  12%|█▏        | 463M/3.82G [00:22<02:38, 22.9MB/s]\rDownloading alphafold2_multimer_v3 weights to /root/.cache/colabfold:  12%|█▏        | 466M/3.82G [00:22<02:37, 22.9MB/s]\rDownloading alphafold2_multimer_v3 weights to /root/.cache/colabfold:  12%|█▏        | 470M/3.82G [00:23<02:37, 22.9MB/s]\rDownloading alphafold2_multimer_v3 weights to /root/.cache/colabfold:  12%|█▏        | 474M/3.82G [00:23<02:37, 22.9MB/s]\rDownloading alphafold2_multimer_v3 weights to /root/.cache/colabfold:  12%|█▏        | 477M/3.82G [00:23<02:37, 22.9MB/s]\rDownloading alphafold2_multimer_v3 weights to /root/.cache/colabfold:  12%|█▏        | 481M/3.82G [00:23<02:37, 22.9MB/s]\rDownloading alphafold2_multimer_v3 weights to /root/.cache/colabfold:  12%|█▏        | 484M/3.82G [00:23<02:36, 22.9MB/s]\rDownloading alphafold2_multimer_v3 weights to /root/.cache/colabfold:  12%|█▏        | 488M/3.82G [00:23<02:36, 22.9MB/s]\rDownloading alphafold2_multimer_v3 weights to /root/.cache/colabfold:  13%|█▎        | 492M/3.82G [00:24<02:36, 22.9MB/s]\rDownloading alphafold2_multimer_v3 weights to /root/.cache/colabfold:  13%|█▎        | 495M/3.82G [00:24<02:36, 22.9MB/s]\rDownloading alphafold2_multimer_v3 weights to /root/.cache/colabfold:  13%|█▎        | 498M/3.82G [00:24<02:58, 20.0MB/s]\rDownloading alphafold2_multimer_v3 weights to /root/.cache/colabfold:  13%|█▎        | 500M/3.82G [00:24<03:21, 17.7MB/s]\rDownloading alphafold2_multimer_v3 weights to /root/.cache/colabfold:  13%|█▎        | 503M/3.82G [00:24<03:06, 19.2MB/s]\rDownloading alphafold2_multimer_v3 weights to /root/.cache/colabfold:  13%|█▎        | 506M/3.82G [00:24<03:02, 19.6MB/s]\rDownloading alphafold2_multimer_v3 weights to /root/.cache/colabfold:  13%|█▎        | 510M/3.82G [00:25<02:53, 20.6MB/s]\rDownloading alphafold2_multimer_v3 weights to /root/.cache/colabfold:  13%|█▎        | 514M/3.82G [00:25<02:47, 21.2MB/s]\rDownloading alphafold2_multimer_v3 weights to /root/.cache/colabfold:  13%|█▎        | 517M/3.82G [00:25<02:43, 21.8MB/s]\rDownloading alphafold2_multimer_v3 weights to /root/.cache/colabfold:  13%|█▎        | 521M/3.82G [00:25<02:41, 22.1MB/s]\rDownloading alphafold2_multimer_v3 weights to /root/.cache/colabfold:  13%|█▎        | 525M/3.82G [00:25<02:39, 22.3MB/s]\rDownloading alphafold2_multimer_v3 weights to /root/.cache/colabfold:  14%|█▎        | 528M/3.82G [00:25<02:37, 22.5MB/s]\rDownloading alphafold2_multimer_v3 weights to /root/.cache/colabfold:  14%|█▎        | 532M/3.82G [00:26<02:36, 22.6MB/s]\rDownloading alphafold2_multimer_v3 weights to /root/.cache/colabfold:  14%|█▎        | 536M/3.82G [00:26<02:36, 22.7MB/s]\rDownloading alphafold2_multimer_v3 weights to /root/.cache/colabfold:  14%|█▍        | 539M/3.82G [00:26<02:35, 22.7MB/s]\rDownloading alphafold2_multimer_v3 weights to /root/.cache/colabfold:  14%|█▍        | 543M/3.82G [00:26<02:34, 22.8MB/s]\rDownloading alphafold2_multimer_v3 weights to /root/.cache/colabfold:  14%|█▍        | 546M/3.82G [00:26<02:34, 22.8MB/s]\rDownloading alphafold2_multimer_v3 weights to /root/.cache/colabfold:  14%|█▍        | 550M/3.82G [00:26<02:34, 22.8MB/s]\rDownloading alphafold2_multimer_v3 weights to /root/.cache/colabfold:  14%|█▍        | 554M/3.82G [00:27<02:33, 22.9MB/s]\rDownloading alphafold2_multimer_v3 weights to /root/.cache/colabfold:  14%|█▍        | 557M/3.82G [00:27<02:33, 22.8MB/s]\rDownloading alphafold2_multimer_v3 weights to /root/.cache/colabfold:  14%|█▍        | 561M/3.82G [00:27<02:33, 22.9MB/s]\rDownloading alphafold2_multimer_v3 weights to /root/.cache/colabfold:  14%|█▍        | 565M/3.82G [00:27<02:33, 22.9MB/s]\rDownloading alphafold2_multimer_v3 weights to /root/.cache/colabfold:  15%|█▍        | 568M/3.82G [00:27<02:33, 22.9MB/s]\rDownloading alphafold2_multimer_v3 weights to /root/.cache/colabfold:  15%|█▍        | 572M/3.82G [00:27<02:33, 22.9MB/s]\rDownloading alphafold2_multimer_v3 weights to /root/.cache/colabfold:  15%|█▍        | 576M/3.82G [00:28<02:32, 22.9MB/s]\rDownloading alphafold2_multimer_v3 weights to /root/.cache/colabfold:  15%|█▍        | 579M/3.82G [00:28<02:32, 22.9MB/s]\rDownloading alphafold2_multimer_v3 weights to /root/.cache/colabfold:  15%|█▍        | 583M/3.82G [00:28<02:32, 22.9MB/s]\rDownloading alphafold2_multimer_v3 weights to /root/.cache/colabfold:  15%|█▌        | 587M/3.82G [00:28<02:32, 22.9MB/s]\rDownloading alphafold2_multimer_v3 weights to /root/.cache/colabfold:  15%|█▌        | 590M/3.82G [00:28<02:32, 22.9MB/s]\rDownloading alphafold2_multimer_v3 weights to /root/.cache/colabfold:  15%|█▌        | 594M/3.82G [00:28<02:31, 22.9MB/s]\rDownloading alphafold2_multimer_v3 weights to /root/.cache/colabfold:  15%|█▌        | 598M/3.82G [00:29<02:31, 22.9MB/s]\rDownloading alphafold2_multimer_v3 weights to /root/.cache/colabfold:  15%|█▌        | 601M/3.82G [00:29<02:31, 22.9MB/s]\rDownloading alphafold2_multimer_v3 weights to /root/.cache/colabfold:  15%|█▌        | 605M/3.82G [00:29<02:31, 22.9MB/s]\rDownloading alphafold2_multimer_v3 weights to /root/.cache/colabfold:  16%|█▌        | 608M/3.82G [00:29<02:31, 22.9MB/s]\rDownloading alphafold2_multimer_v3 weights to /root/.cache/colabfold:  16%|█▌        | 612M/3.82G [00:29<02:31, 22.9MB/s]\rDownloading alphafold2_multimer_v3 weights to /root/.cache/colabfold:  16%|█▌        | 616M/3.82G [00:29<02:31, 22.9MB/s]\rDownloading alphafold2_multimer_v3 weights to /root/.cache/colabfold:  16%|█▌        | 619M/3.82G [00:30<02:30, 22.9MB/s]\rDownloading alphafold2_multimer_v3 weights to /root/.cache/colabfold:  16%|█▌        | 623M/3.82G [00:30<02:30, 22.9MB/s]\rDownloading alphafold2_multimer_v3 weights to /root/.cache/colabfold:  16%|█▌        | 627M/3.82G [00:30<02:30, 22.9MB/s]\rDownloading alphafold2_multimer_v3 weights to /root/.cache/colabfold:  16%|█▌        | 629M/3.82G [00:30<02:51, 20.0MB/s]\rDownloading alphafold2_multimer_v3 weights to /root/.cache/colabfold:  16%|█▌        | 631M/3.82G [00:30<03:14, 17.7MB/s]\rDownloading alphafold2_multimer_v3 weights to /root/.cache/colabfold:  16%|█▌        | 634M/3.82G [00:30<02:59, 19.2MB/s]\rDownloading alphafold2_multimer_v3 weights to /root/.cache/colabfold:  16%|█▋        | 638M/3.82G [00:31<02:49, 20.3MB/s]\rDownloading alphafold2_multimer_v3 weights to /root/.cache/colabfold:  16%|█▋        | 642M/3.82G [00:31<02:42, 21.1MB/s]\rDownloading alphafold2_multimer_v3 weights to /root/.cache/colabfold:  17%|█▋        | 645M/3.82G [00:31<02:38, 21.6MB/s]\rDownloading alphafold2_multimer_v3 weights to /root/.cache/colabfold:  17%|█▋        | 649M/3.82G [00:31<02:35, 22.0MB/s]\rDownloading alphafold2_multimer_v3 weights to /root/.cache/colabfold:  17%|█▋        | 653M/3.82G [00:31<02:33, 22.3MB/s]\rDownloading alphafold2_multimer_v3 weights to /root/.cache/colabfold:  17%|█▋        | 656M/3.82G [00:31<02:32, 22.4MB/s]\rDownloading alphafold2_multimer_v3 weights to /root/.cache/colabfold:  17%|█▋        | 660M/3.82G [00:32<02:31, 22.6MB/s]\rDownloading alphafold2_multimer_v3 weights to /root/.cache/colabfold:  17%|█▋        | 664M/3.82G [00:32<02:29, 22.7MB/s]\rDownloading alphafold2_multimer_v3 weights to /root/.cache/colabfold:  17%|█▋        | 667M/3.82G [00:32<02:29, 22.7MB/s]\rDownloading alphafold2_multimer_v3 weights to /root/.cache/colabfold:  17%|█▋        | 671M/3.82G [00:32<02:29, 22.7MB/s]\rDownloading alphafold2_multimer_v3 weights to /root/.cache/colabfold:  17%|█▋        | 675M/3.82G [00:32<02:28, 22.8MB/s]\rDownloading alphafold2_multimer_v3 weights to /root/.cache/colabfold:  17%|█▋        | 678M/3.82G [00:32<02:18, 24.5MB/s]\rDownloading alphafold2_multimer_v3 weights to /root/.cache/colabfold:  17%|█▋        | 680M/3.82G [00:33<02:34, 21.9MB/s]\rDownloading alphafold2_multimer_v3 weights to /root/.cache/colabfold:  17%|█▋        | 682M/3.82G [00:33<02:47, 20.2MB/s]\rDownloading alphafold2_multimer_v3 weights to /root/.cache/colabfold:  18%|█▊        | 685M/3.82G [00:33<02:29, 22.6MB/s]\rDownloading alphafold2_multimer_v3 weights to /root/.cache/colabfold:  18%|█▊        | 688M/3.82G [00:33<02:20, 24.1MB/s]\rDownloading alphafold2_multimer_v3 weights to /root/.cache/colabfold:  18%|█▊        | 690M/3.82G [00:33<02:35, 21.7MB/s]\rDownloading alphafold2_multimer_v3 weights to /root/.cache/colabfold:  18%|█▊        | 693M/3.82G [00:33<02:45, 20.4MB/s]\rDownloading alphafold2_multimer_v3 weights to /root/.cache/colabfold:  18%|█▊        | 696M/3.82G [00:33<02:24, 23.4MB/s]\rDownloading alphafold2_multimer_v3 weights to /root/.cache/colabfold:  18%|█▊        | 699M/3.82G [00:33<02:15, 24.9MB/s]\rDownloading alphafold2_multimer_v3 weights to /root/.cache/colabfold:  18%|█▊        | 701M/3.82G [00:34<02:31, 22.3MB/s]\rDownloading alphafold2_multimer_v3 weights to /root/.cache/colabfold:  18%|█▊        | 704M/3.82G [00:34<02:43, 20.5MB/s]\rDownloading alphafold2_multimer_v3 weights to /root/.cache/colabfold:  18%|█▊        | 707M/3.82G [00:34<02:22, 23.6MB/s]\rDownloading alphafold2_multimer_v3 weights to /root/.cache/colabfold:  18%|█▊        | 710M/3.82G [00:34<02:14, 25.0MB/s]\rDownloading alphafold2_multimer_v3 weights to /root/.cache/colabfold:  18%|█▊        | 712M/3.82G [00:34<02:29, 22.4MB/s]\rDownloading alphafold2_multimer_v3 weights to /root/.cache/colabfold:  18%|█▊        | 715M/3.82G [00:34<02:42, 20.6MB/s]\rDownloading alphafold2_multimer_v3 weights to /root/.cache/colabfold:  18%|█▊        | 718M/3.82G [00:34<02:21, 23.7MB/s]\rDownloading alphafold2_multimer_v3 weights to /root/.cache/colabfold:  18%|█▊        | 721M/3.82G [00:34<02:14, 24.9MB/s]\rDownloading alphafold2_multimer_v3 weights to /root/.cache/colabfold:  18%|█▊        | 723M/3.82G [00:35<02:29, 22.3MB/s]\rDownloading alphafold2_multimer_v3 weights to /root/.cache/colabfold:  19%|█▊        | 726M/3.82G [00:35<02:41, 20.7MB/s]\rDownloading alphafold2_multimer_v3 weights to /root/.cache/colabfold:  19%|█▊        | 729M/3.82G [00:35<02:20, 23.7MB/s]\rDownloading alphafold2_multimer_v3 weights to /root/.cache/colabfold:  19%|█▊        | 732M/3.82G [00:35<02:13, 25.0MB/s]\rDownloading alphafold2_multimer_v3 weights to /root/.cache/colabfold:  19%|█▉        | 734M/3.82G [00:35<02:28, 22.4MB/s]\rDownloading alphafold2_multimer_v3 weights to /root/.cache/colabfold:  19%|█▉        | 736M/3.82G [00:35<02:40, 20.7MB/s]\rDownloading alphafold2_multimer_v3 weights to /root/.cache/colabfold:  19%|█▉        | 740M/3.82G [00:35<02:20, 23.7MB/s]\rDownloading alphafold2_multimer_v3 weights to /root/.cache/colabfold:  19%|█▉        | 742M/3.82G [00:36<02:43, 20.3MB/s]\rDownloading alphafold2_multimer_v3 weights to /root/.cache/colabfold:  19%|█▉        | 744M/3.82G [00:36<03:06, 17.8MB/s]\rDownloading alphafold2_multimer_v3 weights to /root/.cache/colabfold:  19%|█▉        | 747M/3.82G [00:36<02:47, 19.8MB/s]\rDownloading alphafold2_multimer_v3 weights to /root/.cache/colabfold:  19%|█▉        | 749M/3.82G [00:36<02:50, 19.5MB/s]\rDownloading alphafold2_multimer_v3 weights to /root/.cache/colabfold:  19%|█▉        | 753M/3.82G [00:36<02:25, 22.8MB/s]\rDownloading alphafold2_multimer_v3 weights to /root/.cache/colabfold:  19%|█▉        | 755M/3.82G [00:36<02:39, 20.8MB/s]\rDownloading alphafold2_multimer_v3 weights to /root/.cache/colabfold:  19%|█▉        | 758M/3.82G [00:36<02:28, 22.2MB/s]\rDownloading alphafold2_multimer_v3 weights to /root/.cache/colabfold:  19%|█▉        | 760M/3.82G [00:36<02:36, 21.2MB/s]\rDownloading alphafold2_multimer_v3 weights to /root/.cache/colabfold:  20%|█▉        | 763M/3.82G [00:37<02:17, 24.0MB/s]\rDownloading alphafold2_multimer_v3 weights to /root/.cache/colabfold:  20%|█▉        | 766M/3.82G [00:37<02:31, 21.7MB/s]\rDownloading alphafold2_multimer_v3 weights to /root/.cache/colabfold:  20%|█▉        | 768M/3.82G [00:37<02:23, 23.0MB/s]\rDownloading alphafold2_multimer_v3 weights to /root/.cache/colabfold:  20%|█▉        | 771M/3.82G [00:37<02:31, 21.7MB/s]\rDownloading alphafold2_multimer_v3 weights to /root/.cache/colabfold:  20%|█▉        | 774M/3.82G [00:37<02:15, 24.3MB/s]\rDownloading alphafold2_multimer_v3 weights to /root/.cache/colabfold:  20%|█▉        | 777M/3.82G [00:37<02:30, 21.9MB/s]\rDownloading alphafold2_multimer_v3 weights to /root/.cache/colabfold:  20%|█▉        | 779M/3.82G [00:37<02:21, 23.2MB/s]\rDownloading alphafold2_multimer_v3 weights to /root/.cache/colabfold:  20%|██        | 782M/3.82G [00:37<02:30, 21.8MB/s]\rDownloading alphafold2_multimer_v3 weights to /root/.cache/colabfold:  20%|██        | 785M/3.82G [00:38<02:14, 24.4MB/s]\rDownloading alphafold2_multimer_v3 weights to /root/.cache/colabfold:  20%|██        | 788M/3.82G [00:38<02:28, 22.0MB/s]\rDownloading alphafold2_multimer_v3 weights to /root/.cache/colabfold:  20%|██        | 790M/3.82G [00:38<02:20, 23.4MB/s]\rDownloading alphafold2_multimer_v3 weights to /root/.cache/colabfold:  20%|██        | 793M/3.82G [00:38<02:29, 21.8MB/s]\rDownloading alphafold2_multimer_v3 weights to /root/.cache/colabfold:  20%|██        | 796M/3.82G [00:38<02:14, 24.2MB/s]\rDownloading alphafold2_multimer_v3 weights to /root/.cache/colabfold:  20%|██        | 799M/3.82G [00:38<02:29, 21.9MB/s]\rDownloading alphafold2_multimer_v3 weights to /root/.cache/colabfold:  20%|██        | 801M/3.82G [00:38<02:20, 23.3MB/s]\rDownloading alphafold2_multimer_v3 weights to /root/.cache/colabfold:  21%|██        | 804M/3.82G [00:38<02:28, 22.0MB/s]\rDownloading alphafold2_multimer_v3 weights to /root/.cache/colabfold:  21%|██        | 807M/3.82G [00:39<02:14, 24.2MB/s]\rDownloading alphafold2_multimer_v3 weights to /root/.cache/colabfold:  21%|██        | 809M/3.82G [00:39<02:28, 21.9MB/s]\rDownloading alphafold2_multimer_v3 weights to /root/.cache/colabfold:  21%|██        | 812M/3.82G [00:39<02:19, 23.3MB/s]\rDownloading alphafold2_multimer_v3 weights to /root/.cache/colabfold:  21%|██        | 815M/3.82G [00:39<02:27, 22.0MB/s]\rDownloading alphafold2_multimer_v3 weights to /root/.cache/colabfold:  21%|██        | 818M/3.82G [00:39<02:13, 24.3MB/s]\rDownloading alphafold2_multimer_v3 weights to /root/.cache/colabfold:  21%|██        | 820M/3.82G [00:39<02:27, 21.9MB/s]\rDownloading alphafold2_multimer_v3 weights to /root/.cache/colabfold:  21%|██        | 823M/3.82G [00:39<02:18, 23.4MB/s]\rDownloading alphafold2_multimer_v3 weights to /root/.cache/colabfold:  21%|██        | 826M/3.82G [00:39<02:27, 21.9MB/s]\rDownloading alphafold2_multimer_v3 weights to /root/.cache/colabfold:  21%|██        | 829M/3.82G [00:40<02:11, 24.5MB/s]\rDownloading alphafold2_multimer_v3 weights to /root/.cache/colabfold:  21%|██▏       | 831M/3.82G [00:40<02:26, 22.1MB/s]\rDownloading alphafold2_multimer_v3 weights to /root/.cache/colabfold:  21%|██▏       | 834M/3.82G [00:40<02:17, 23.4MB/s]\rDownloading alphafold2_multimer_v3 weights to /root/.cache/colabfold:  21%|██▏       | 837M/3.82G [00:40<02:27, 21.9MB/s]\rDownloading alphafold2_multimer_v3 weights to /root/.cache/colabfold:  21%|██▏       | 840M/3.82G [00:40<02:11, 24.4MB/s]\rDownloading alphafold2_multimer_v3 weights to /root/.cache/colabfold:  22%|██▏       | 842M/3.82G [00:40<02:26, 22.0MB/s]\rDownloading alphafold2_multimer_v3 weights to /root/.cache/colabfold:  22%|██▏       | 845M/3.82G [00:40<02:17, 23.3MB/s]\rDownloading alphafold2_multimer_v3 weights to /root/.cache/colabfold:  22%|██▏       | 848M/3.82G [00:40<02:27, 21.8MB/s]\rDownloading alphafold2_multimer_v3 weights to /root/.cache/colabfold:  22%|██▏       | 851M/3.82G [00:41<02:11, 24.3MB/s]\rDownloading alphafold2_multimer_v3 weights to /root/.cache/colabfold:  22%|██▏       | 853M/3.82G [00:41<02:25, 22.0MB/s]\rDownloading alphafold2_multimer_v3 weights to /root/.cache/colabfold:  22%|██▏       | 856M/3.82G [00:41<02:17, 23.3MB/s]\rDownloading alphafold2_multimer_v3 weights to /root/.cache/colabfold:  22%|██▏       | 859M/3.82G [00:41<02:52, 18.6MB/s]\rDownloading alphafold2_multimer_v3 weights to /root/.cache/colabfold:  22%|██▏       | 861M/3.82G [00:41<03:11, 16.7MB/s]\rDownloading alphafold2_multimer_v3 weights to /root/.cache/colabfold:  22%|██▏       | 863M/3.82G [00:41<03:27, 15.4MB/s]\rDownloading alphafold2_multimer_v3 weights to /root/.cache/colabfold:  22%|██▏       | 866M/3.82G [00:42<02:59, 17.8MB/s]\rDownloading alphafold2_multimer_v3 weights to /root/.cache/colabfold:  22%|██▏       | 870M/3.82G [00:42<02:44, 19.4MB/s]\rDownloading alphafold2_multimer_v3 weights to /root/.cache/colabfold:  22%|██▏       | 874M/3.82G [00:42<02:35, 20.4MB/s]\rDownloading alphafold2_multimer_v3 weights to /root/.cache/colabfold:  22%|██▏       | 877M/3.82G [00:42<02:30, 21.2MB/s]\rDownloading alphafold2_multimer_v3 weights to /root/.cache/colabfold:  23%|██▎       | 881M/3.82G [00:42<02:26, 21.7MB/s]\rDownloading alphafold2_multimer_v3 weights to /root/.cache/colabfold:  23%|██▎       | 885M/3.82G [00:42<02:24, 22.0MB/s]\rDownloading alphafold2_multimer_v3 weights to /root/.cache/colabfold:  23%|██▎       | 888M/3.82G [00:43<02:22, 22.3MB/s]\rDownloading alphafold2_multimer_v3 weights to /root/.cache/colabfold:  23%|██▎       | 892M/3.82G [00:43<02:20, 22.5MB/s]\rDownloading alphafold2_multimer_v3 weights to /root/.cache/colabfold:  23%|██▎       | 895M/3.82G [00:43<02:19, 22.6MB/s]\rDownloading alphafold2_multimer_v3 weights to /root/.cache/colabfold:  23%|██▎       | 899M/3.82G [00:43<02:19, 22.7MB/s]\rDownloading alphafold2_multimer_v3 weights to /root/.cache/colabfold:  23%|██▎       | 903M/3.82G [00:43<02:18, 22.7MB/s]\rDownloading alphafold2_multimer_v3 weights to /root/.cache/colabfold:  23%|██▎       | 906M/3.82G [00:43<02:18, 22.7MB/s]\rDownloading alphafold2_multimer_v3 weights to /root/.cache/colabfold:  23%|██▎       | 910M/3.82G [00:44<02:17, 22.8MB/s]\rDownloading alphafold2_multimer_v3 weights to /root/.cache/colabfold:  23%|██▎       | 914M/3.82G [00:44<02:17, 22.8MB/s]\rDownloading alphafold2_multimer_v3 weights to /root/.cache/colabfold:  23%|██▎       | 917M/3.82G [00:44<02:17, 22.8MB/s]\rDownloading alphafold2_multimer_v3 weights to /root/.cache/colabfold:  24%|██▎       | 921M/3.82G [00:44<02:17, 22.8MB/s]\rDownloading alphafold2_multimer_v3 weights to /root/.cache/colabfold:  24%|██▎       | 925M/3.82G [00:44<02:17, 22.8MB/s]\rDownloading alphafold2_multimer_v3 weights to /root/.cache/colabfold:  24%|██▎       | 928M/3.82G [00:44<02:16, 22.8MB/s]\rDownloading alphafold2_multimer_v3 weights to /root/.cache/colabfold:  24%|██▍       | 932M/3.82G [00:45<02:16, 22.8MB/s]\rDownloading alphafold2_multimer_v3 weights to /root/.cache/colabfold:  24%|██▍       | 936M/3.82G [00:45<02:16, 22.9MB/s]\rDownloading alphafold2_multimer_v3 weights to /root/.cache/colabfold:  24%|██▍       | 939M/3.82G [00:45<02:22, 21.9MB/s]\rDownloading alphafold2_multimer_v3 weights to /root/.cache/colabfold:  24%|██▍       | 942M/3.82G [00:45<02:25, 21.5MB/s]\rDownloading alphafold2_multimer_v3 weights to /root/.cache/colabfold:  24%|██▍       | 946M/3.82G [00:45<02:22, 21.8MB/s]\rDownloading alphafold2_multimer_v3 weights to /root/.cache/colabfold:  24%|██▍       | 950M/3.82G [00:45<02:20, 22.2MB/s]\rDownloading alphafold2_multimer_v3 weights to /root/.cache/colabfold:  24%|██▍       | 953M/3.82G [00:46<02:18, 22.4MB/s]\rDownloading alphafold2_multimer_v3 weights to /root/.cache/colabfold:  24%|██▍       | 957M/3.82G [00:46<02:17, 22.5MB/s]\rDownloading alphafold2_multimer_v3 weights to /root/.cache/colabfold:  25%|██▍       | 961M/3.82G [00:46<02:16, 22.6MB/s]\rDownloading alphafold2_multimer_v3 weights to /root/.cache/colabfold:  25%|██▍       | 964M/3.82G [00:46<02:16, 22.7MB/s]\rDownloading alphafold2_multimer_v3 weights to /root/.cache/colabfold:  25%|██▍       | 968M/3.82G [00:46<02:15, 22.8MB/s]\rDownloading alphafold2_multimer_v3 weights to /root/.cache/colabfold:  25%|██▍       | 972M/3.82G [00:46<02:15, 22.8MB/s]\rDownloading alphafold2_multimer_v3 weights to /root/.cache/colabfold:  25%|██▍       | 975M/3.82G [00:47<02:15, 22.8MB/s]\rDownloading alphafold2_multimer_v3 weights to /root/.cache/colabfold:  25%|██▌       | 979M/3.82G [00:47<02:14, 22.8MB/s]\rDownloading alphafold2_multimer_v3 weights to /root/.cache/colabfold:  25%|██▌       | 983M/3.82G [00:47<02:14, 22.9MB/s]\rDownloading alphafold2_multimer_v3 weights to /root/.cache/colabfold:  25%|██▌       | 986M/3.82G [00:47<02:14, 22.9MB/s]\rDownloading alphafold2_multimer_v3 weights to /root/.cache/colabfold:  25%|██▌       | 990M/3.82G [00:47<02:13, 22.9MB/s]\rDownloading alphafold2_multimer_v3 weights to /root/.cache/colabfold:  25%|██▌       | 994M/3.82G [00:47<02:13, 22.9MB/s]\rDownloading alphafold2_multimer_v3 weights to /root/.cache/colabfold:  26%|██▌       | 997M/3.82G [00:48<02:13, 22.9MB/s]\rDownloading alphafold2_multimer_v3 weights to /root/.cache/colabfold:  26%|██▌       | 0.98G/3.82G [00:48<02:13, 22.9MB/s]\rDownloading alphafold2_multimer_v3 weights to /root/.cache/colabfold:  26%|██▌       | 0.98G/3.82G [00:48<02:12, 22.9MB/s]\rDownloading alphafold2_multimer_v3 weights to /root/.cache/colabfold:  26%|██▌       | 0.98G/3.82G [00:48<02:12, 22.9MB/s]\rDownloading alphafold2_multimer_v3 weights to /root/.cache/colabfold:  26%|██▌       | 0.99G/3.82G [00:48<02:12, 22.9MB/s]\rDownloading alphafold2_multimer_v3 weights to /root/.cache/colabfold:  26%|██▌       | 0.99G/3.82G [00:48<02:12, 22.9MB/s]\rDownloading alphafold2_multimer_v3 weights to /root/.cache/colabfold:  26%|██▌       | 1.00G/3.82G [00:49<02:12, 22.9MB/s]\rDownloading alphafold2_multimer_v3 weights to /root/.cache/colabfold:  26%|██▌       | 1.00G/3.82G [00:49<02:12, 22.9MB/s]\rDownloading alphafold2_multimer_v3 weights to /root/.cache/colabfold:  26%|██▋       | 1.00G/3.82G [00:49<02:11, 22.9MB/s]\rDownloading alphafold2_multimer_v3 weights to /root/.cache/colabfold:  26%|██▋       | 1.01G/3.82G [00:49<02:18, 21.8MB/s]\rDownloading alphafold2_multimer_v3 weights to /root/.cache/colabfold:  26%|██▋       | 1.01G/3.82G [00:49<02:36, 19.3MB/s]\rDownloading alphafold2_multimer_v3 weights to /root/.cache/colabfold:  26%|██▋       | 1.01G/3.82G [00:49<02:55, 17.1MB/s]\rDownloading alphafold2_multimer_v3 weights to /root/.cache/colabfold:  27%|██▋       | 1.01G/3.82G [00:50<02:38, 19.0MB/s]\rDownloading alphafold2_multimer_v3 weights to /root/.cache/colabfold:  27%|██▋       | 1.02G/3.82G [00:50<02:29, 20.1MB/s]\rDownloading alphafold2_multimer_v3 weights to /root/.cache/colabfold:  27%|██▋       | 1.02G/3.82G [00:50<02:23, 20.9MB/s]\rDownloading alphafold2_multimer_v3 weights to /root/.cache/colabfold:  27%|██▋       | 1.02G/3.82G [00:50<02:19, 21.5MB/s]\rDownloading alphafold2_multimer_v3 weights to /root/.cache/colabfold:  27%|██▋       | 1.03G/3.82G [00:50<02:16, 21.9MB/s]\rDownloading alphafold2_multimer_v3 weights to /root/.cache/colabfold:  27%|██▋       | 1.03G/3.82G [00:50<02:14, 22.2MB/s]\rDownloading alphafold2_multimer_v3 weights to /root/.cache/colabfold:  27%|██▋       | 1.03G/3.82G [00:51<02:13, 22.4MB/s]\rDownloading alphafold2_multimer_v3 weights to /root/.cache/colabfold:  27%|██▋       | 1.04G/3.82G [00:51<02:12, 22.6MB/s]\rDownloading alphafold2_multimer_v3 weights to /root/.cache/colabfold:  27%|██▋       | 1.04G/3.82G [00:51<02:11, 22.7MB/s]\rDownloading alphafold2_multimer_v3 weights to /root/.cache/colabfold:  27%|██▋       | 1.05G/3.82G [00:51<02:16, 21.8MB/s]\rDownloading alphafold2_multimer_v3 weights to /root/.cache/colabfold:  27%|██▋       | 1.05G/3.82G [00:51<02:18, 21.4MB/s]\rDownloading alphafold2_multimer_v3 weights to /root/.cache/colabfold:  28%|██▊       | 1.05G/3.82G [00:51<02:16, 21.8MB/s]\rDownloading alphafold2_multimer_v3 weights to /root/.cache/colabfold:  28%|██▊       | 1.06G/3.82G [00:52<02:13, 22.1MB/s]\rDownloading alphafold2_multimer_v3 weights to /root/.cache/colabfold:  28%|██▊       | 1.06G/3.82G [00:52<02:12, 22.4MB/s]\rDownloading alphafold2_multimer_v3 weights to /root/.cache/colabfold:  28%|██▊       | 1.06G/3.82G [00:52<02:11, 22.5MB/s]\rDownloading alphafold2_multimer_v3 weights to /root/.cache/colabfold:  28%|██▊       | 1.07G/3.82G [00:52<02:10, 22.6MB/s]\rDownloading alphafold2_multimer_v3 weights to /root/.cache/colabfold:  28%|██▊       | 1.07G/3.82G [00:52<02:09, 22.7MB/s]\rDownloading alphafold2_multimer_v3 weights to /root/.cache/colabfold:  28%|██▊       | 1.07G/3.82G [00:52<02:09, 22.8MB/s]\rDownloading alphafold2_multimer_v3 weights to /root/.cache/colabfold:  28%|██▊       | 1.08G/3.82G [00:53<02:09, 22.8MB/s]\rDownloading alphafold2_multimer_v3 weights to /root/.cache/colabfold:  28%|██▊       | 1.08G/3.82G [00:53<02:08, 22.8MB/s]\rDownloading alphafold2_multimer_v3 weights to /root/.cache/colabfold:  28%|██▊       | 1.08G/3.82G [00:53<02:08, 22.8MB/s]\rDownloading alphafold2_multimer_v3 weights to /root/.cache/colabfold:  28%|██▊       | 1.09G/3.82G [00:53<02:08, 22.8MB/s]\rDownloading alphafold2_multimer_v3 weights to /root/.cache/colabfold:  29%|██▊       | 1.09G/3.82G [00:53<02:08, 22.8MB/s]\rDownloading alphafold2_multimer_v3 weights to /root/.cache/colabfold:  29%|██▊       | 1.09G/3.82G [00:53<02:08, 22.8MB/s]\rDownloading alphafold2_multimer_v3 weights to /root/.cache/colabfold:  29%|██▉       | 1.10G/3.82G [00:54<02:07, 22.8MB/s]\rDownloading alphafold2_multimer_v3 weights to /root/.cache/colabfold:  29%|██▉       | 1.10G/3.82G [00:54<02:07, 22.8MB/s]\rDownloading alphafold2_multimer_v3 weights to /root/.cache/colabfold:  29%|██▉       | 1.11G/3.82G [00:54<02:07, 22.9MB/s]\rDownloading alphafold2_multimer_v3 weights to /root/.cache/colabfold:  29%|██▉       | 1.11G/3.82G [00:54<02:07, 22.9MB/s]\rDownloading alphafold2_multimer_v3 weights to /root/.cache/colabfold:  29%|██▉       | 1.11G/3.82G [00:54<02:06, 22.9MB/s]\rDownloading alphafold2_multimer_v3 weights to /root/.cache/colabfold:  29%|██▉       | 1.12G/3.82G [00:54<02:06, 22.9MB/s]\rDownloading alphafold2_multimer_v3 weights to /root/.cache/colabfold:  29%|██▉       | 1.12G/3.82G [00:55<02:06, 22.9MB/s]\rDownloading alphafold2_multimer_v3 weights to /root/.cache/colabfold:  29%|██▉       | 1.12G/3.82G [00:55<02:06, 22.9MB/s]\rDownloading alphafold2_multimer_v3 weights to /root/.cache/colabfold:  30%|██▉       | 1.13G/3.82G [00:55<02:06, 22.8MB/s]\rDownloading alphafold2_multimer_v3 weights to /root/.cache/colabfold:  30%|██▉       | 1.13G/3.82G [00:55<02:06, 22.9MB/s]\rDownloading alphafold2_multimer_v3 weights to /root/.cache/colabfold:  30%|██▉       | 1.13G/3.82G [00:55<02:05, 22.9MB/s]\rDownloading alphafold2_multimer_v3 weights to /root/.cache/colabfold:  30%|██▉       | 1.14G/3.82G [00:55<02:05, 22.8MB/s]\rDownloading alphafold2_multimer_v3 weights to /root/.cache/colabfold:  30%|██▉       | 1.14G/3.82G [00:56<02:05, 22.9MB/s]\rDownloading alphafold2_multimer_v3 weights to /root/.cache/colabfold:  30%|██▉       | 1.14G/3.82G [00:56<02:05, 22.9MB/s]\rDownloading alphafold2_multimer_v3 weights to /root/.cache/colabfold:  30%|███       | 1.15G/3.82G [00:56<02:05, 22.9MB/s]\rDownloading alphafold2_multimer_v3 weights to /root/.cache/colabfold:  30%|███       | 1.15G/3.82G [00:56<02:05, 22.9MB/s]\rDownloading alphafold2_multimer_v3 weights to /root/.cache/colabfold:  30%|███       | 1.16G/3.82G [00:56<02:04, 22.9MB/s]\rDownloading alphafold2_multimer_v3 weights to /root/.cache/colabfold:  30%|███       | 1.16G/3.82G [00:56<02:04, 22.9MB/s]\rDownloading alphafold2_multimer_v3 weights to /root/.cache/colabfold:  30%|███       | 1.16G/3.82G [00:57<02:04, 22.9MB/s]\rDownloading alphafold2_multimer_v3 weights to /root/.cache/colabfold:  31%|███       | 1.17G/3.82G [00:57<02:04, 22.9MB/s]\rDownloading alphafold2_multimer_v3 weights to /root/.cache/colabfold:  31%|███       | 1.17G/3.82G [00:57<02:04, 22.9MB/s]\rDownloading alphafold2_multimer_v3 weights to /root/.cache/colabfold:  31%|███       | 1.17G/3.82G [00:57<02:04, 22.9MB/s]\rDownloading alphafold2_multimer_v3 weights to /root/.cache/colabfold:  31%|███       | 1.18G/3.82G [00:57<02:03, 22.9MB/s]\rDownloading alphafold2_multimer_v3 weights to /root/.cache/colabfold:  31%|███       | 1.18G/3.82G [00:57<02:03, 22.9MB/s]\rDownloading alphafold2_multimer_v3 weights to /root/.cache/colabfold:  31%|███       | 1.18G/3.82G [00:58<02:03, 22.9MB/s]\rDownloading alphafold2_multimer_v3 weights to /root/.cache/colabfold:  31%|███       | 1.19G/3.82G [00:58<02:03, 22.9MB/s]\rDownloading alphafold2_multimer_v3 weights to /root/.cache/colabfold:  31%|███       | 1.19G/3.82G [00:58<02:03, 22.9MB/s]\rDownloading alphafold2_multimer_v3 weights to /root/.cache/colabfold:  31%|███▏      | 1.19G/3.82G [00:58<02:02, 22.9MB/s]\rDownloading alphafold2_multimer_v3 weights to /root/.cache/colabfold:  31%|███▏      | 1.20G/3.82G [00:58<02:02, 22.9MB/s]\rDownloading alphafold2_multimer_v3 weights to /root/.cache/colabfold:  31%|███▏      | 1.20G/3.82G [00:58<02:02, 22.9MB/s]\rDownloading alphafold2_multimer_v3 weights to /root/.cache/colabfold:  32%|███▏      | 1.21G/3.82G [00:59<02:02, 22.9MB/s]\rDownloading alphafold2_multimer_v3 weights to /root/.cache/colabfold:  32%|███▏      | 1.21G/3.82G [00:59<02:02, 22.9MB/s]\rDownloading alphafold2_multimer_v3 weights to /root/.cache/colabfold:  32%|███▏      | 1.21G/3.82G [00:59<02:02, 22.9MB/s]\rDownloading alphafold2_multimer_v3 weights to /root/.cache/colabfold:  32%|███▏      | 1.22G/3.82G [00:59<02:02, 22.9MB/s]\rDownloading alphafold2_multimer_v3 weights to /root/.cache/colabfold:  32%|███▏      | 1.22G/3.82G [00:59<02:01, 22.9MB/s]\rDownloading alphafold2_multimer_v3 weights to /root/.cache/colabfold:  32%|███▏      | 1.22G/3.82G [00:59<02:01, 22.9MB/s]\rDownloading alphafold2_multimer_v3 weights to /root/.cache/colabfold:  32%|███▏      | 1.23G/3.82G [01:00<02:01, 22.9MB/s]\rDownloading alphafold2_multimer_v3 weights to /root/.cache/colabfold:  32%|███▏      | 1.23G/3.82G [01:00<02:01, 22.9MB/s]\rDownloading alphafold2_multimer_v3 weights to /root/.cache/colabfold:  32%|███▏      | 1.23G/3.82G [01:00<02:01, 22.9MB/s]\rDownloading alphafold2_multimer_v3 weights to /root/.cache/colabfold:  32%|███▏      | 1.24G/3.82G [01:00<02:01, 22.9MB/s]\rDownloading alphafold2_multimer_v3 weights to /root/.cache/colabfold:  33%|███▎      | 1.24G/3.82G [01:00<02:00, 22.9MB/s]\rDownloading alphafold2_multimer_v3 weights to /root/.cache/colabfold:  33%|███▎      | 1.24G/3.82G [01:00<02:00, 22.9MB/s]\rDownloading alphafold2_multimer_v3 weights to /root/.cache/colabfold:  33%|███▎      | 1.25G/3.82G [01:01<02:00, 22.9MB/s]\rDownloading alphafold2_multimer_v3 weights to /root/.cache/colabfold:  33%|███▎      | 1.25G/3.82G [01:01<02:00, 22.9MB/s]\rDownloading alphafold2_multimer_v3 weights to /root/.cache/colabfold:  33%|███▎      | 1.26G/3.82G [01:01<02:00, 22.9MB/s]\rDownloading alphafold2_multimer_v3 weights to /root/.cache/colabfold:  33%|███▎      | 1.26G/3.82G [01:01<02:00, 22.9MB/s]\rDownloading alphafold2_multimer_v3 weights to /root/.cache/colabfold:  33%|███▎      | 1.26G/3.82G [01:01<02:00, 22.8MB/s]\rDownloading alphafold2_multimer_v3 weights to /root/.cache/colabfold:  33%|███▎      | 1.27G/3.82G [01:01<01:59, 22.9MB/s]\rDownloading alphafold2_multimer_v3 weights to /root/.cache/colabfold:  33%|███▎      | 1.27G/3.82G [01:02<02:03, 22.2MB/s]\rDownloading alphafold2_multimer_v3 weights to /root/.cache/colabfold:  33%|███▎      | 1.27G/3.82G [01:02<02:20, 19.5MB/s]\rDownloading alphafold2_multimer_v3 weights to /root/.cache/colabfold:  33%|███▎      | 1.27G/3.82G [01:02<02:13, 20.4MB/s]\rDownloading alphafold2_multimer_v3 weights to /root/.cache/colabfold:  33%|███▎      | 1.28G/3.82G [01:02<02:08, 21.2MB/s]\rDownloading alphafold2_multimer_v3 weights to /root/.cache/colabfold:  34%|███▎      | 1.28G/3.82G [01:02<02:05, 21.7MB/s]\rDownloading alphafold2_multimer_v3 weights to /root/.cache/colabfold:  34%|███▎      | 1.29G/3.82G [01:02<02:03, 22.1MB/s]\rDownloading alphafold2_multimer_v3 weights to /root/.cache/colabfold:  34%|███▍      | 1.29G/3.82G [01:03<02:01, 22.3MB/s]\rDownloading alphafold2_multimer_v3 weights to /root/.cache/colabfold:  34%|███▍      | 1.29G/3.82G [01:03<02:00, 22.5MB/s]\rDownloading alphafold2_multimer_v3 weights to /root/.cache/colabfold:  34%|███▍      | 1.30G/3.82G [01:03<01:59, 22.6MB/s]\rDownloading alphafold2_multimer_v3 weights to /root/.cache/colabfold:  34%|███▍      | 1.30G/3.82G [01:03<01:59, 22.7MB/s]\rDownloading alphafold2_multimer_v3 weights to /root/.cache/colabfold:  34%|███▍      | 1.30G/3.82G [01:03<01:58, 22.8MB/s]\rDownloading alphafold2_multimer_v3 weights to /root/.cache/colabfold:  34%|███▍      | 1.31G/3.82G [01:03<01:58, 22.8MB/s]\rDownloading alphafold2_multimer_v3 weights to /root/.cache/colabfold:  34%|███▍      | 1.31G/3.82G [01:04<01:57, 22.8MB/s]\rDownloading alphafold2_multimer_v3 weights to /root/.cache/colabfold:  34%|███▍      | 1.31G/3.82G [01:04<01:57, 22.8MB/s]\rDownloading alphafold2_multimer_v3 weights to /root/.cache/colabfold:  35%|███▍      | 1.32G/3.82G [01:04<01:57, 22.8MB/s]\rDownloading alphafold2_multimer_v3 weights to /root/.cache/colabfold:  35%|███▍      | 1.32G/3.82G [01:04<01:57, 22.9MB/s]\rDownloading alphafold2_multimer_v3 weights to /root/.cache/colabfold:  35%|███▍      | 1.32G/3.82G [01:04<01:57, 22.8MB/s]\rDownloading alphafold2_multimer_v3 weights to /root/.cache/colabfold:  35%|███▍      | 1.33G/3.82G [01:04<01:56, 22.9MB/s]\rDownloading alphafold2_multimer_v3 weights to /root/.cache/colabfold:  35%|███▍      | 1.33G/3.82G [01:05<01:56, 22.9MB/s]\rDownloading alphafold2_multimer_v3 weights to /root/.cache/colabfold:  35%|███▍      | 1.34G/3.82G [01:05<01:56, 22.9MB/s]\rDownloading alphafold2_multimer_v3 weights to /root/.cache/colabfold:  35%|███▌      | 1.34G/3.82G [01:05<01:56, 22.9MB/s]\rDownloading alphafold2_multimer_v3 weights to /root/.cache/colabfold:  35%|███▌      | 1.34G/3.82G [01:05<01:56, 22.9MB/s]\rDownloading alphafold2_multimer_v3 weights to /root/.cache/colabfold:  35%|███▌      | 1.35G/3.82G [01:05<01:56, 22.9MB/s]\rDownloading alphafold2_multimer_v3 weights to /root/.cache/colabfold:  35%|███▌      | 1.35G/3.82G [01:06<01:56, 22.8MB/s]\rDownloading alphafold2_multimer_v3 weights to /root/.cache/colabfold:  35%|███▌      | 1.35G/3.82G [01:06<01:55, 22.8MB/s]\rDownloading alphafold2_multimer_v3 weights to /root/.cache/colabfold:  36%|███▌      | 1.36G/3.82G [01:06<01:55, 22.8MB/s]\rDownloading alphafold2_multimer_v3 weights to /root/.cache/colabfold:  36%|███▌      | 1.36G/3.82G [01:06<01:55, 22.9MB/s]\rDownloading alphafold2_multimer_v3 weights to /root/.cache/colabfold:  36%|███▌      | 1.36G/3.82G [01:06<01:55, 22.9MB/s]\rDownloading alphafold2_multimer_v3 weights to /root/.cache/colabfold:  36%|███▌      | 1.37G/3.82G [01:06<02:11, 20.0MB/s]\rDownloading alphafold2_multimer_v3 weights to /root/.cache/colabfold:  36%|███▌      | 1.37G/3.82G [01:07<02:28, 17.7MB/s]\rDownloading alphafold2_multimer_v3 weights to /root/.cache/colabfold:  36%|███▌      | 1.37G/3.82G [01:07<02:43, 16.0MB/s]\rDownloading alphafold2_multimer_v3 weights to /root/.cache/colabfold:  36%|███▌      | 1.37G/3.82G [01:07<02:24, 18.2MB/s]\rDownloading alphafold2_multimer_v3 weights to /root/.cache/colabfold:  36%|███▌      | 1.38G/3.82G [01:07<02:13, 19.6MB/s]\rDownloading alphafold2_multimer_v3 weights to /root/.cache/colabfold:  36%|███▌      | 1.38G/3.82G [01:07<02:07, 20.6MB/s]\rDownloading alphafold2_multimer_v3 weights to /root/.cache/colabfold:  36%|███▋      | 1.38G/3.82G [01:07<02:02, 21.3MB/s]\rDownloading alphafold2_multimer_v3 weights to /root/.cache/colabfold:  36%|███▋      | 1.39G/3.82G [01:08<02:00, 21.7MB/s]\rDownloading alphafold2_multimer_v3 weights to /root/.cache/colabfold:  36%|███▋      | 1.39G/3.82G [01:08<01:58, 22.1MB/s]\rDownloading alphafold2_multimer_v3 weights to /root/.cache/colabfold:  37%|███▋      | 1.39G/3.82G [01:08<01:56, 22.3MB/s]\rDownloading alphafold2_multimer_v3 weights to /root/.cache/colabfold:  37%|███▋      | 1.40G/3.82G [01:08<01:55, 22.5MB/s]\rDownloading alphafold2_multimer_v3 weights to /root/.cache/colabfold:  37%|███▋      | 1.40G/3.82G [01:08<01:54, 22.7MB/s]\rDownloading alphafold2_multimer_v3 weights to /root/.cache/colabfold:  37%|███▋      | 1.41G/3.82G [01:08<01:53, 22.7MB/s]\rDownloading alphafold2_multimer_v3 weights to /root/.cache/colabfold:  37%|███▋      | 1.41G/3.82G [01:09<01:53, 22.8MB/s]\rDownloading alphafold2_multimer_v3 weights to /root/.cache/colabfold:  37%|███▋      | 1.41G/3.82G [01:09<01:53, 22.8MB/s]\rDownloading alphafold2_multimer_v3 weights to /root/.cache/colabfold:  37%|███▋      | 1.42G/3.82G [01:09<01:52, 22.9MB/s]\rDownloading alphafold2_multimer_v3 weights to /root/.cache/colabfold:  37%|███▋      | 1.42G/3.82G [01:09<01:52, 22.8MB/s]\rDownloading alphafold2_multimer_v3 weights to /root/.cache/colabfold:  37%|███▋      | 1.42G/3.82G [01:09<01:57, 21.9MB/s]\rDownloading alphafold2_multimer_v3 weights to /root/.cache/colabfold:  37%|███▋      | 1.43G/3.82G [01:09<01:59, 21.5MB/s]\rDownloading alphafold2_multimer_v3 weights to /root/.cache/colabfold:  37%|███▋      | 1.43G/3.82G [01:10<01:56, 21.9MB/s]\rDownloading alphafold2_multimer_v3 weights to /root/.cache/colabfold:  38%|███▊      | 1.43G/3.82G [01:10<01:55, 22.2MB/s]\rDownloading alphafold2_multimer_v3 weights to /root/.cache/colabfold:  38%|███▊      | 1.44G/3.82G [01:10<01:54, 22.4MB/s]\rDownloading alphafold2_multimer_v3 weights to /root/.cache/colabfold:  38%|███▊      | 1.44G/3.82G [01:10<01:53, 22.5MB/s]\rDownloading alphafold2_multimer_v3 weights to /root/.cache/colabfold:  38%|███▊      | 1.44G/3.82G [01:10<01:52, 22.6MB/s]\rDownloading alphafold2_multimer_v3 weights to /root/.cache/colabfold:  38%|███▊      | 1.45G/3.82G [01:10<01:52, 22.7MB/s]\rDownloading alphafold2_multimer_v3 weights to /root/.cache/colabfold:  38%|███▊      | 1.45G/3.82G [01:11<01:51, 22.7MB/s]\rDownloading alphafold2_multimer_v3 weights to /root/.cache/colabfold:  38%|███▊      | 1.45G/3.82G [01:11<01:51, 22.8MB/s]\rDownloading alphafold2_multimer_v3 weights to /root/.cache/colabfold:  38%|███▊      | 1.46G/3.82G [01:11<01:51, 22.8MB/s]\rDownloading alphafold2_multimer_v3 weights to /root/.cache/colabfold:  38%|███▊      | 1.46G/3.82G [01:11<01:50, 22.8MB/s]\rDownloading alphafold2_multimer_v3 weights to /root/.cache/colabfold:  38%|███▊      | 1.47G/3.82G [01:11<01:50, 22.9MB/s]\rDownloading alphafold2_multimer_v3 weights to /root/.cache/colabfold:  38%|███▊      | 1.47G/3.82G [01:11<01:50, 22.9MB/s]\rDownloading alphafold2_multimer_v3 weights to /root/.cache/colabfold:  39%|███▊      | 1.47G/3.82G [01:12<01:50, 22.9MB/s]\rDownloading alphafold2_multimer_v3 weights to /root/.cache/colabfold:  39%|███▊      | 1.48G/3.82G [01:12<01:49, 22.9MB/s]\rDownloading alphafold2_multimer_v3 weights to /root/.cache/colabfold:  39%|███▉      | 1.48G/3.82G [01:12<01:49, 22.9MB/s]\rDownloading alphafold2_multimer_v3 weights to /root/.cache/colabfold:  39%|███▉      | 1.48G/3.82G [01:12<01:49, 22.9MB/s]\rDownloading alphafold2_multimer_v3 weights to /root/.cache/colabfold:  39%|███▉      | 1.49G/3.82G [01:12<01:49, 22.9MB/s]\rDownloading alphafold2_multimer_v3 weights to /root/.cache/colabfold:  39%|███▉      | 1.49G/3.82G [01:12<01:49, 22.9MB/s]\rDownloading alphafold2_multimer_v3 weights to /root/.cache/colabfold:  39%|███▉      | 1.49G/3.82G [01:13<01:49, 22.8MB/s]\rDownloading alphafold2_multimer_v3 weights to /root/.cache/colabfold:  39%|███▉      | 1.50G/3.82G [01:13<01:48, 22.9MB/s]\rDownloading alphafold2_multimer_v3 weights to /root/.cache/colabfold:  39%|███▉      | 1.50G/3.82G [01:13<01:48, 22.9MB/s]\rDownloading alphafold2_multimer_v3 weights to /root/.cache/colabfold:  39%|███▉      | 1.50G/3.82G [01:13<01:48, 22.9MB/s]\rDownloading alphafold2_multimer_v3 weights to /root/.cache/colabfold:  40%|███▉      | 1.51G/3.82G [01:13<01:48, 22.9MB/s]\rDownloading alphafold2_multimer_v3 weights to /root/.cache/colabfold:  40%|███▉      | 1.51G/3.82G [01:13<01:48, 22.9MB/s]\rDownloading alphafold2_multimer_v3 weights to /root/.cache/colabfold:  40%|███▉      | 1.52G/3.82G [01:14<01:48, 22.9MB/s]\rDownloading alphafold2_multimer_v3 weights to /root/.cache/colabfold:  40%|███▉      | 1.52G/3.82G [01:14<01:47, 22.9MB/s]\rDownloading alphafold2_multimer_v3 weights to /root/.cache/colabfold:  40%|███▉      | 1.52G/3.82G [01:14<01:47, 22.9MB/s]\rDownloading alphafold2_multimer_v3 weights to /root/.cache/colabfold:  40%|███▉      | 1.53G/3.82G [01:14<01:47, 22.9MB/s]\rDownloading alphafold2_multimer_v3 weights to /root/.cache/colabfold:  40%|████      | 1.53G/3.82G [01:14<01:47, 22.9MB/s]\rDownloading alphafold2_multimer_v3 weights to /root/.cache/colabfold:  40%|████      | 1.53G/3.82G [01:14<01:47, 22.9MB/s]\rDownloading alphafold2_multimer_v3 weights to /root/.cache/colabfold:  40%|████      | 1.54G/3.82G [01:15<01:46, 22.9MB/s]\rDownloading alphafold2_multimer_v3 weights to /root/.cache/colabfold:  40%|████      | 1.54G/3.82G [01:15<01:46, 22.9MB/s]\rDownloading alphafold2_multimer_v3 weights to /root/.cache/colabfold:  40%|████      | 1.54G/3.82G [01:15<01:46, 22.9MB/s]\rDownloading alphafold2_multimer_v3 weights to /root/.cache/colabfold:  41%|████      | 1.55G/3.82G [01:15<01:46, 22.9MB/s]\rDownloading alphafold2_multimer_v3 weights to /root/.cache/colabfold:  41%|████      | 1.55G/3.82G [01:15<01:46, 22.9MB/s]\rDownloading alphafold2_multimer_v3 weights to /root/.cache/colabfold:  41%|████      | 1.55G/3.82G [01:15<01:45, 22.9MB/s]\rDownloading alphafold2_multimer_v3 weights to /root/.cache/colabfold:  41%|████      | 1.56G/3.82G [01:16<01:45, 22.9MB/s]\rDownloading alphafold2_multimer_v3 weights to /root/.cache/colabfold:  41%|████      | 1.56G/3.82G [01:16<01:45, 22.9MB/s]\rDownloading alphafold2_multimer_v3 weights to /root/.cache/colabfold:  41%|████      | 1.57G/3.82G [01:16<01:45, 22.9MB/s]\rDownloading alphafold2_multimer_v3 weights to /root/.cache/colabfold:  41%|████      | 1.57G/3.82G [01:16<01:50, 21.9MB/s]\rDownloading alphafold2_multimer_v3 weights to /root/.cache/colabfold:  41%|████      | 1.57G/3.82G [01:16<01:55, 20.8MB/s]\rDownloading alphafold2_multimer_v3 weights to /root/.cache/colabfold:  41%|████      | 1.57G/3.82G [01:16<02:10, 18.5MB/s]\rDownloading alphafold2_multimer_v3 weights to /root/.cache/colabfold:  41%|████▏     | 1.58G/3.82G [01:17<03:06, 12.9MB/s]\rDownloading alphafold2_multimer_v3 weights to /root/.cache/colabfold:  41%|████▏     | 1.58G/3.82G [01:17<02:35, 15.5MB/s]\rDownloading alphafold2_multimer_v3 weights to /root/.cache/colabfold:  41%|████▏     | 1.58G/3.82G [01:17<02:17, 17.4MB/s]\rDownloading alphafold2_multimer_v3 weights to /root/.cache/colabfold:  42%|████▏     | 1.59G/3.82G [01:17<02:06, 18.9MB/s]\rDownloading alphafold2_multimer_v3 weights to /root/.cache/colabfold:  42%|████▏     | 1.59G/3.82G [01:17<01:59, 20.0MB/s]\rDownloading alphafold2_multimer_v3 weights to /root/.cache/colabfold:  42%|████▏     | 1.59G/3.82G [01:18<01:54, 20.8MB/s]\rDownloading alphafold2_multimer_v3 weights to /root/.cache/colabfold:  42%|████▏     | 1.60G/3.82G [01:18<01:51, 21.4MB/s]\rDownloading alphafold2_multimer_v3 weights to /root/.cache/colabfold:  42%|████▏     | 1.60G/3.82G [01:18<01:49, 21.8MB/s]\rDownloading alphafold2_multimer_v3 weights to /root/.cache/colabfold:  42%|████▏     | 1.60G/3.82G [01:18<01:47, 22.1MB/s]\rDownloading alphafold2_multimer_v3 weights to /root/.cache/colabfold:  42%|████▏     | 1.61G/3.82G [01:18<01:46, 22.4MB/s]\rDownloading alphafold2_multimer_v3 weights to /root/.cache/colabfold:  42%|████▏     | 1.61G/3.82G [01:18<01:45, 22.5MB/s]\rDownloading alphafold2_multimer_v3 weights to /root/.cache/colabfold:  42%|████▏     | 1.62G/3.82G [01:19<01:44, 22.6MB/s]\rDownloading alphafold2_multimer_v3 weights to /root/.cache/colabfold:  42%|████▏     | 1.62G/3.82G [01:19<01:44, 22.7MB/s]\rDownloading alphafold2_multimer_v3 weights to /root/.cache/colabfold:  42%|████▏     | 1.62G/3.82G [01:19<01:43, 22.7MB/s]\rDownloading alphafold2_multimer_v3 weights to /root/.cache/colabfold:  43%|████▎     | 1.63G/3.82G [01:19<01:43, 22.8MB/s]\rDownloading alphafold2_multimer_v3 weights to /root/.cache/colabfold:  43%|████▎     | 1.63G/3.82G [01:19<01:43, 22.8MB/s]\rDownloading alphafold2_multimer_v3 weights to /root/.cache/colabfold:  43%|████▎     | 1.63G/3.82G [01:19<01:42, 22.8MB/s]\rDownloading alphafold2_multimer_v3 weights to /root/.cache/colabfold:  43%|████▎     | 1.64G/3.82G [01:20<01:42, 22.8MB/s]\rDownloading alphafold2_multimer_v3 weights to /root/.cache/colabfold:  43%|████▎     | 1.64G/3.82G [01:20<01:42, 22.8MB/s]\rDownloading alphafold2_multimer_v3 weights to /root/.cache/colabfold:  43%|████▎     | 1.64G/3.82G [01:20<01:42, 22.8MB/s]\rDownloading alphafold2_multimer_v3 weights to /root/.cache/colabfold:  43%|████▎     | 1.65G/3.82G [01:20<01:42, 22.8MB/s]\rDownloading alphafold2_multimer_v3 weights to /root/.cache/colabfold:  43%|████▎     | 1.65G/3.82G [01:20<01:41, 22.8MB/s]\rDownloading alphafold2_multimer_v3 weights to /root/.cache/colabfold:  43%|████▎     | 1.65G/3.82G [01:20<01:41, 22.8MB/s]\rDownloading alphafold2_multimer_v3 weights to /root/.cache/colabfold:  43%|████▎     | 1.66G/3.82G [01:21<01:41, 22.8MB/s]\rDownloading alphafold2_multimer_v3 weights to /root/.cache/colabfold:  44%|████▎     | 1.66G/3.82G [01:21<01:41, 22.9MB/s]\rDownloading alphafold2_multimer_v3 weights to /root/.cache/colabfold:  44%|████▎     | 1.67G/3.82G [01:21<01:40, 22.9MB/s]\rDownloading alphafold2_multimer_v3 weights to /root/.cache/colabfold:  44%|████▎     | 1.67G/3.82G [01:21<01:41, 22.8MB/s]\rDownloading alphafold2_multimer_v3 weights to /root/.cache/colabfold:  44%|████▍     | 1.67G/3.82G [01:21<01:40, 22.9MB/s]\rDownloading alphafold2_multimer_v3 weights to /root/.cache/colabfold:  44%|████▍     | 1.68G/3.82G [01:21<01:40, 22.9MB/s]\rDownloading alphafold2_multimer_v3 weights to /root/.cache/colabfold:  44%|████▍     | 1.68G/3.82G [01:22<01:40, 22.9MB/s]\rDownloading alphafold2_multimer_v3 weights to /root/.cache/colabfold:  44%|████▍     | 1.68G/3.82G [01:22<01:40, 22.9MB/s]\rDownloading alphafold2_multimer_v3 weights to /root/.cache/colabfold:  44%|████▍     | 1.69G/3.82G [01:22<01:40, 22.8MB/s]\rDownloading alphafold2_multimer_v3 weights to /root/.cache/colabfold:  44%|████▍     | 1.69G/3.82G [01:22<01:39, 22.9MB/s]\rDownloading alphafold2_multimer_v3 weights to /root/.cache/colabfold:  44%|████▍     | 1.69G/3.82G [01:22<01:39, 22.9MB/s]\rDownloading alphafold2_multimer_v3 weights to /root/.cache/colabfold:  44%|████▍     | 1.70G/3.82G [01:22<01:39, 22.9MB/s]\rDownloading alphafold2_multimer_v3 weights to /root/.cache/colabfold:  45%|████▍     | 1.70G/3.82G [01:23<01:39, 22.9MB/s]\rDownloading alphafold2_multimer_v3 weights to /root/.cache/colabfold:  45%|████▍     | 1.70G/3.82G [01:23<01:39, 22.9MB/s]\rDownloading alphafold2_multimer_v3 weights to /root/.cache/colabfold:  45%|████▍     | 1.71G/3.82G [01:23<01:39, 22.9MB/s]\rDownloading alphafold2_multimer_v3 weights to /root/.cache/colabfold:  45%|████▍     | 1.71G/3.82G [01:23<01:38, 22.9MB/s]\rDownloading alphafold2_multimer_v3 weights to /root/.cache/colabfold:  45%|████▍     | 1.72G/3.82G [01:23<01:38, 22.9MB/s]\rDownloading alphafold2_multimer_v3 weights to /root/.cache/colabfold:  45%|████▌     | 1.72G/3.82G [01:23<01:38, 22.9MB/s]\rDownloading alphafold2_multimer_v3 weights to /root/.cache/colabfold:  45%|████▌     | 1.72G/3.82G [01:24<01:38, 22.9MB/s]\rDownloading alphafold2_multimer_v3 weights to /root/.cache/colabfold:  45%|████▌     | 1.73G/3.82G [01:24<01:42, 21.9MB/s]\rDownloading alphafold2_multimer_v3 weights to /root/.cache/colabfold:  45%|████▌     | 1.73G/3.82G [01:24<01:44, 21.5MB/s]\rDownloading alphafold2_multimer_v3 weights to /root/.cache/colabfold:  45%|████▌     | 1.73G/3.82G [01:24<01:42, 21.9MB/s]\rDownloading alphafold2_multimer_v3 weights to /root/.cache/colabfold:  45%|████▌     | 1.74G/3.82G [01:24<01:40, 22.2MB/s]\rDownloading alphafold2_multimer_v3 weights to /root/.cache/colabfold:  46%|████▌     | 1.74G/3.82G [01:24<01:39, 22.4MB/s]\rDownloading alphafold2_multimer_v3 weights to /root/.cache/colabfold:  46%|████▌     | 1.74G/3.82G [01:25<01:38, 22.5MB/s]\rDownloading alphafold2_multimer_v3 weights to /root/.cache/colabfold:  46%|████▌     | 1.75G/3.82G [01:25<01:38, 22.6MB/s]\rDownloading alphafold2_multimer_v3 weights to /root/.cache/colabfold:  46%|████▌     | 1.75G/3.82G [01:25<01:37, 22.7MB/s]\rDownloading alphafold2_multimer_v3 weights to /root/.cache/colabfold:  46%|████▌     | 1.75G/3.82G [01:25<01:37, 22.7MB/s]\rDownloading alphafold2_multimer_v3 weights to /root/.cache/colabfold:  46%|████▌     | 1.76G/3.82G [01:25<01:37, 22.8MB/s]\rDownloading alphafold2_multimer_v3 weights to /root/.cache/colabfold:  46%|████▌     | 1.76G/3.82G [01:25<01:36, 22.8MB/s]\rDownloading alphafold2_multimer_v3 weights to /root/.cache/colabfold:  46%|████▌     | 1.76G/3.82G [01:26<01:36, 22.8MB/s]\rDownloading alphafold2_multimer_v3 weights to /root/.cache/colabfold:  46%|████▋     | 1.77G/3.82G [01:26<01:36, 22.9MB/s]\rDownloading alphafold2_multimer_v3 weights to /root/.cache/colabfold:  46%|████▋     | 1.77G/3.82G [01:26<01:36, 22.9MB/s]\rDownloading alphafold2_multimer_v3 weights to /root/.cache/colabfold:  46%|████▋     | 1.78G/3.82G [01:26<01:35, 22.9MB/s]\rDownloading alphafold2_multimer_v3 weights to /root/.cache/colabfold:  47%|████▋     | 1.78G/3.82G [01:26<01:35, 22.9MB/s]\rDownloading alphafold2_multimer_v3 weights to /root/.cache/colabfold:  47%|████▋     | 1.78G/3.82G [01:26<01:35, 22.8MB/s]\rDownloading alphafold2_multimer_v3 weights to /root/.cache/colabfold:  47%|████▋     | 1.79G/3.82G [01:27<01:35, 22.8MB/s]\rDownloading alphafold2_multimer_v3 weights to /root/.cache/colabfold:  47%|████▋     | 1.79G/3.82G [01:27<01:35, 22.9MB/s]\rDownloading alphafold2_multimer_v3 weights to /root/.cache/colabfold:  47%|████▋     | 1.79G/3.82G [01:27<01:35, 22.9MB/s]\rDownloading alphafold2_multimer_v3 weights to /root/.cache/colabfold:  47%|████▋     | 1.80G/3.82G [01:27<01:34, 22.9MB/s]\rDownloading alphafold2_multimer_v3 weights to /root/.cache/colabfold:  47%|████▋     | 1.80G/3.82G [01:27<01:34, 22.9MB/s]\rDownloading alphafold2_multimer_v3 weights to /root/.cache/colabfold:  47%|████▋     | 1.80G/3.82G [01:28<01:34, 22.9MB/s]\rDownloading alphafold2_multimer_v3 weights to /root/.cache/colabfold:  47%|████▋     | 1.81G/3.82G [01:28<01:34, 22.9MB/s]\rDownloading alphafold2_multimer_v3 weights to /root/.cache/colabfold:  47%|████▋     | 1.81G/3.82G [01:28<01:34, 22.9MB/s]\rDownloading alphafold2_multimer_v3 weights to /root/.cache/colabfold:  48%|████▊     | 1.81G/3.82G [01:28<01:33, 22.9MB/s]\rDownloading alphafold2_multimer_v3 weights to /root/.cache/colabfold:  48%|████▊     | 1.82G/3.82G [01:28<01:33, 22.9MB/s]\rDownloading alphafold2_multimer_v3 weights to /root/.cache/colabfold:  48%|████▊     | 1.82G/3.82G [01:28<01:33, 22.9MB/s]\rDownloading alphafold2_multimer_v3 weights to /root/.cache/colabfold:  48%|████▊     | 1.83G/3.82G [01:29<01:33, 22.9MB/s]\rDownloading alphafold2_multimer_v3 weights to /root/.cache/colabfold:  48%|████▊     | 1.83G/3.82G [01:29<01:33, 22.9MB/s]\rDownloading alphafold2_multimer_v3 weights to /root/.cache/colabfold:  48%|████▊     | 1.83G/3.82G [01:29<01:33, 22.9MB/s]\rDownloading alphafold2_multimer_v3 weights to /root/.cache/colabfold:  48%|████▊     | 1.84G/3.82G [01:29<01:32, 22.9MB/s]\rDownloading alphafold2_multimer_v3 weights to /root/.cache/colabfold:  48%|████▊     | 1.84G/3.82G [01:29<01:32, 22.9MB/s]\rDownloading alphafold2_multimer_v3 weights to /root/.cache/colabfold:  48%|████▊     | 1.84G/3.82G [01:29<01:32, 22.9MB/s]\rDownloading alphafold2_multimer_v3 weights to /root/.cache/colabfold:  48%|████▊     | 1.85G/3.82G [01:30<01:32, 22.9MB/s]\rDownloading alphafold2_multimer_v3 weights to /root/.cache/colabfold:  48%|████▊     | 1.85G/3.82G [01:30<01:32, 22.9MB/s]\rDownloading alphafold2_multimer_v3 weights to /root/.cache/colabfold:  49%|████▊     | 1.85G/3.82G [01:30<01:32, 22.9MB/s]\rDownloading alphafold2_multimer_v3 weights to /root/.cache/colabfold:  49%|████▊     | 1.86G/3.82G [01:30<01:31, 22.9MB/s]\rDownloading alphafold2_multimer_v3 weights to /root/.cache/colabfold:  49%|████▊     | 1.86G/3.82G [01:30<01:44, 20.1MB/s]\rDownloading alphafold2_multimer_v3 weights to /root/.cache/colabfold:  49%|████▊     | 1.86G/3.82G [01:30<01:58, 17.8MB/s]\rDownloading alphafold2_multimer_v3 weights to /root/.cache/colabfold:  49%|████▉     | 1.86G/3.82G [01:31<01:49, 19.2MB/s]\rDownloading alphafold2_multimer_v3 weights to /root/.cache/colabfold:  49%|████▉     | 1.87G/3.82G [01:31<01:43, 20.3MB/s]\rDownloading alphafold2_multimer_v3 weights to /root/.cache/colabfold:  49%|████▉     | 1.87G/3.82G [01:31<01:39, 21.1MB/s]\rDownloading alphafold2_multimer_v3 weights to /root/.cache/colabfold:  49%|████▉     | 1.88G/3.82G [01:31<01:36, 21.6MB/s]\rDownloading alphafold2_multimer_v3 weights to /root/.cache/colabfold:  49%|████▉     | 1.88G/3.82G [01:31<01:34, 22.0MB/s]\rDownloading alphafold2_multimer_v3 weights to /root/.cache/colabfold:  49%|████▉     | 1.88G/3.82G [01:31<01:33, 22.3MB/s]\rDownloading alphafold2_multimer_v3 weights to /root/.cache/colabfold:  49%|████▉     | 1.89G/3.82G [01:32<01:32, 22.4MB/s]\rDownloading alphafold2_multimer_v3 weights to /root/.cache/colabfold:  49%|████▉     | 1.89G/3.82G [01:32<01:31, 22.6MB/s]\rDownloading alphafold2_multimer_v3 weights to /root/.cache/colabfold:  50%|████▉     | 1.89G/3.82G [01:32<01:31, 22.7MB/s]\rDownloading alphafold2_multimer_v3 weights to /root/.cache/colabfold:  50%|████▉     | 1.90G/3.82G [01:32<01:30, 22.7MB/s]\rDownloading alphafold2_multimer_v3 weights to /root/.cache/colabfold:  50%|████▉     | 1.90G/3.82G [01:32<01:30, 22.8MB/s]\rDownloading alphafold2_multimer_v3 weights to /root/.cache/colabfold:  50%|████▉     | 1.90G/3.82G [01:32<01:30, 22.8MB/s]\rDownloading alphafold2_multimer_v3 weights to /root/.cache/colabfold:  50%|████▉     | 1.91G/3.82G [01:33<01:29, 22.8MB/s]\rDownloading alphafold2_multimer_v3 weights to /root/.cache/colabfold:  50%|█████     | 1.91G/3.82G [01:33<01:29, 22.8MB/s]\rDownloading alphafold2_multimer_v3 weights to /root/.cache/colabfold:  50%|█████     | 1.91G/3.82G [01:33<01:29, 22.8MB/s]\rDownloading alphafold2_multimer_v3 weights to /root/.cache/colabfold:  50%|█████     | 1.92G/3.82G [01:33<01:29, 22.9MB/s]\rDownloading alphafold2_multimer_v3 weights to /root/.cache/colabfold:  50%|█████     | 1.92G/3.82G [01:33<01:31, 22.2MB/s]\rDownloading alphafold2_multimer_v3 weights to /root/.cache/colabfold:  50%|█████     | 1.92G/3.82G [01:33<01:20, 25.2MB/s]\rDownloading alphafold2_multimer_v3 weights to /root/.cache/colabfold:  50%|█████     | 1.93G/3.82G [01:33<01:28, 22.9MB/s]\rDownloading alphafold2_multimer_v3 weights to /root/.cache/colabfold:  51%|█████     | 1.93G/3.82G [01:34<01:34, 21.3MB/s]\rDownloading alphafold2_multimer_v3 weights to /root/.cache/colabfold:  51%|█████     | 1.93G/3.82G [01:34<01:32, 21.9MB/s]\rDownloading alphafold2_multimer_v3 weights to /root/.cache/colabfold:  51%|█████     | 1.94G/3.82G [01:34<01:19, 25.5MB/s]\rDownloading alphafold2_multimer_v3 weights to /root/.cache/colabfold:  51%|█████     | 1.94G/3.82G [01:34<01:28, 22.9MB/s]\rDownloading alphafold2_multimer_v3 weights to /root/.cache/colabfold:  51%|█████     | 1.94G/3.82G [01:34<01:34, 21.3MB/s]\rDownloading alphafold2_multimer_v3 weights to /root/.cache/colabfold:  51%|█████     | 1.94G/3.82G [01:34<01:31, 21.9MB/s]\rDownloading alphafold2_multimer_v3 weights to /root/.cache/colabfold:  51%|█████     | 1.95G/3.82G [01:34<01:18, 25.5MB/s]\rDownloading alphafold2_multimer_v3 weights to /root/.cache/colabfold:  51%|█████     | 1.95G/3.82G [01:34<01:27, 22.8MB/s]\rDownloading alphafold2_multimer_v3 weights to /root/.cache/colabfold:  51%|█████     | 1.95G/3.82G [01:35<01:34, 21.2MB/s]\rDownloading alphafold2_multimer_v3 weights to /root/.cache/colabfold:  51%|█████     | 1.95G/3.82G [01:35<01:31, 22.0MB/s]\rDownloading alphafold2_multimer_v3 weights to /root/.cache/colabfold:  51%|█████▏    | 1.96G/3.82G [01:35<01:18, 25.5MB/s]\rDownloading alphafold2_multimer_v3 weights to /root/.cache/colabfold:  51%|█████▏    | 1.96G/3.82G [01:35<01:27, 22.9MB/s]\rDownloading alphafold2_multimer_v3 weights to /root/.cache/colabfold:  51%|█████▏    | 1.96G/3.82G [01:35<01:33, 21.2MB/s]\rDownloading alphafold2_multimer_v3 weights to /root/.cache/colabfold:  51%|█████▏    | 1.96G/3.82G [01:35<01:30, 22.0MB/s]\rDownloading alphafold2_multimer_v3 weights to /root/.cache/colabfold:  52%|█████▏    | 1.97G/3.82G [01:35<01:17, 25.7MB/s]\rDownloading alphafold2_multimer_v3 weights to /root/.cache/colabfold:  52%|█████▏    | 1.97G/3.82G [01:35<01:26, 22.9MB/s]\rDownloading alphafold2_multimer_v3 weights to /root/.cache/colabfold:  52%|█████▏    | 1.97G/3.82G [01:36<01:33, 21.3MB/s]\rDownloading alphafold2_multimer_v3 weights to /root/.cache/colabfold:  52%|█████▏    | 1.97G/3.82G [01:36<01:30, 21.9MB/s]\rDownloading alphafold2_multimer_v3 weights to /root/.cache/colabfold:  52%|█████▏    | 1.98G/3.82G [01:36<01:16, 25.7MB/s]\rDownloading alphafold2_multimer_v3 weights to /root/.cache/colabfold:  52%|█████▏    | 1.98G/3.82G [01:36<01:25, 22.9MB/s]\rDownloading alphafold2_multimer_v3 weights to /root/.cache/colabfold:  52%|█████▏    | 1.98G/3.82G [01:36<01:32, 21.4MB/s]\rDownloading alphafold2_multimer_v3 weights to /root/.cache/colabfold:  52%|█████▏    | 1.99G/3.82G [01:36<01:29, 21.9MB/s]\rDownloading alphafold2_multimer_v3 weights to /root/.cache/colabfold:  52%|█████▏    | 1.99G/3.82G [01:36<01:16, 25.6MB/s]\rDownloading alphafold2_multimer_v3 weights to /root/.cache/colabfold:  52%|█████▏    | 1.99G/3.82G [01:36<01:25, 22.8MB/s]\rDownloading alphafold2_multimer_v3 weights to /root/.cache/colabfold:  52%|█████▏    | 1.99G/3.82G [01:37<01:32, 21.2MB/s]\rDownloading alphafold2_multimer_v3 weights to /root/.cache/colabfold:  52%|█████▏    | 2.00G/3.82G [01:37<01:29, 21.9MB/s]\rDownloading alphafold2_multimer_v3 weights to /root/.cache/colabfold:  52%|█████▏    | 2.00G/3.82G [01:37<01:16, 25.7MB/s]\rDownloading alphafold2_multimer_v3 weights to /root/.cache/colabfold:  52%|█████▏    | 2.00G/3.82G [01:37<01:25, 22.9MB/s]\rDownloading alphafold2_multimer_v3 weights to /root/.cache/colabfold:  52%|█████▏    | 2.00G/3.82G [01:37<01:31, 21.3MB/s]\rDownloading alphafold2_multimer_v3 weights to /root/.cache/colabfold:  53%|█████▎    | 2.01G/3.82G [01:37<01:28, 21.9MB/s]\rDownloading alphafold2_multimer_v3 weights to /root/.cache/colabfold:  53%|█████▎    | 2.01G/3.82G [01:37<01:18, 24.8MB/s]\rDownloading alphafold2_multimer_v3 weights to /root/.cache/colabfold:  53%|█████▎    | 2.01G/3.82G [01:37<01:26, 22.4MB/s]\rDownloading alphafold2_multimer_v3 weights to /root/.cache/colabfold:  53%|█████▎    | 2.01G/3.82G [01:38<01:24, 22.9MB/s]\rDownloading alphafold2_multimer_v3 weights to /root/.cache/colabfold:  53%|█████▎    | 2.02G/3.82G [01:38<01:28, 21.8MB/s]\rDownloading alphafold2_multimer_v3 weights to /root/.cache/colabfold:  53%|█████▎    | 2.02G/3.82G [01:38<01:18, 24.7MB/s]\rDownloading alphafold2_multimer_v3 weights to /root/.cache/colabfold:  53%|█████▎    | 2.02G/3.82G [01:38<01:26, 22.4MB/s]\rDownloading alphafold2_multimer_v3 weights to /root/.cache/colabfold:  53%|█████▎    | 2.03G/3.82G [01:38<01:24, 22.9MB/s]\rDownloading alphafold2_multimer_v3 weights to /root/.cache/colabfold:  53%|█████▎    | 2.03G/3.82G [01:38<01:55, 16.6MB/s]\rDownloading alphafold2_multimer_v3 weights to /root/.cache/colabfold:  53%|█████▎    | 2.03G/3.82G [01:38<01:39, 19.2MB/s]\rDownloading alphafold2_multimer_v3 weights to /root/.cache/colabfold:  53%|█████▎    | 2.03G/3.82G [01:39<01:46, 18.1MB/s]\rDownloading alphafold2_multimer_v3 weights to /root/.cache/colabfold:  53%|█████▎    | 2.04G/3.82G [01:39<01:29, 21.3MB/s]\rDownloading alphafold2_multimer_v3 weights to /root/.cache/colabfold:  53%|█████▎    | 2.04G/3.82G [01:39<01:22, 23.3MB/s]\rDownloading alphafold2_multimer_v3 weights to /root/.cache/colabfold:  53%|█████▎    | 2.04G/3.82G [01:39<01:30, 21.1MB/s]\rDownloading alphafold2_multimer_v3 weights to /root/.cache/colabfold:  54%|█████▎    | 2.04G/3.82G [01:39<01:35, 19.9MB/s]\rDownloading alphafold2_multimer_v3 weights to /root/.cache/colabfold:  54%|█████▎    | 2.05G/3.82G [01:39<01:22, 23.0MB/s]\rDownloading alphafold2_multimer_v3 weights to /root/.cache/colabfold:  54%|█████▎    | 2.05G/3.82G [01:39<01:18, 24.3MB/s]\rDownloading alphafold2_multimer_v3 weights to /root/.cache/colabfold:  54%|█████▎    | 2.05G/3.82G [01:39<01:26, 21.9MB/s]\rDownloading alphafold2_multimer_v3 weights to /root/.cache/colabfold:  54%|█████▍    | 2.05G/3.82G [01:40<01:31, 20.7MB/s]\rDownloading alphafold2_multimer_v3 weights to /root/.cache/colabfold:  54%|█████▍    | 2.06G/3.82G [01:40<01:20, 23.6MB/s]\rDownloading alphafold2_multimer_v3 weights to /root/.cache/colabfold:  54%|█████▍    | 2.06G/3.82G [01:40<01:16, 24.6MB/s]\rDownloading alphafold2_multimer_v3 weights to /root/.cache/colabfold:  54%|█████▍    | 2.06G/3.82G [01:40<01:25, 22.1MB/s]\rDownloading alphafold2_multimer_v3 weights to /root/.cache/colabfold:  54%|█████▍    | 2.06G/3.82G [01:40<01:30, 20.9MB/s]\rDownloading alphafold2_multimer_v3 weights to /root/.cache/colabfold:  54%|█████▍    | 2.07G/3.82G [01:40<01:19, 23.8MB/s]\rDownloading alphafold2_multimer_v3 weights to /root/.cache/colabfold:  54%|█████▍    | 2.07G/3.82G [01:40<01:15, 24.7MB/s]\rDownloading alphafold2_multimer_v3 weights to /root/.cache/colabfold:  54%|█████▍    | 2.07G/3.82G [01:40<01:24, 22.2MB/s]\rDownloading alphafold2_multimer_v3 weights to /root/.cache/colabfold:  54%|█████▍    | 2.07G/3.82G [01:41<01:29, 20.9MB/s]\rDownloading alphafold2_multimer_v3 weights to /root/.cache/colabfold:  54%|█████▍    | 2.08G/3.82G [01:41<01:18, 23.9MB/s]\rDownloading alphafold2_multimer_v3 weights to /root/.cache/colabfold:  54%|█████▍    | 2.08G/3.82G [01:41<01:15, 24.8MB/s]\rDownloading alphafold2_multimer_v3 weights to /root/.cache/colabfold:  55%|█████▍    | 2.08G/3.82G [01:41<01:28, 21.0MB/s]\rDownloading alphafold2_multimer_v3 weights to /root/.cache/colabfold:  55%|█████▍    | 2.09G/3.82G [01:41<01:38, 19.0MB/s]\rDownloading alphafold2_multimer_v3 weights to /root/.cache/colabfold:  55%|█████▍    | 2.09G/3.82G [01:41<01:39, 18.6MB/s]\rDownloading alphafold2_multimer_v3 weights to /root/.cache/colabfold:  55%|█████▍    | 2.09G/3.82G [01:41<01:32, 20.0MB/s]\rDownloading alphafold2_multimer_v3 weights to /root/.cache/colabfold:  55%|█████▍    | 2.09G/3.82G [01:42<01:28, 21.0MB/s]\rDownloading alphafold2_multimer_v3 weights to /root/.cache/colabfold:  55%|█████▍    | 2.10G/3.82G [01:42<01:25, 21.6MB/s]\rDownloading alphafold2_multimer_v3 weights to /root/.cache/colabfold:  55%|█████▌    | 2.10G/3.82G [01:42<01:24, 21.9MB/s]\rDownloading alphafold2_multimer_v3 weights to /root/.cache/colabfold:  55%|█████▌    | 2.11G/3.82G [01:42<01:22, 22.2MB/s]\rDownloading alphafold2_multimer_v3 weights to /root/.cache/colabfold:  55%|█████▌    | 2.11G/3.82G [01:42<01:21, 22.4MB/s]\rDownloading alphafold2_multimer_v3 weights to /root/.cache/colabfold:  55%|█████▌    | 2.11G/3.82G [01:42<01:21, 22.6MB/s]\rDownloading alphafold2_multimer_v3 weights to /root/.cache/colabfold:  55%|█████▌    | 2.12G/3.82G [01:43<01:20, 22.7MB/s]\rDownloading alphafold2_multimer_v3 weights to /root/.cache/colabfold:  56%|█████▌    | 2.12G/3.82G [01:43<01:20, 22.7MB/s]\rDownloading alphafold2_multimer_v3 weights to /root/.cache/colabfold:  56%|█████▌    | 2.12G/3.82G [01:43<01:19, 22.8MB/s]\rDownloading alphafold2_multimer_v3 weights to /root/.cache/colabfold:  56%|█████▌    | 2.13G/3.82G [01:43<01:19, 22.9MB/s]\rDownloading alphafold2_multimer_v3 weights to /root/.cache/colabfold:  56%|█████▌    | 2.13G/3.82G [01:43<01:19, 22.9MB/s]\rDownloading alphafold2_multimer_v3 weights to /root/.cache/colabfold:  56%|█████▌    | 2.13G/3.82G [01:43<01:36, 18.7MB/s]\rDownloading alphafold2_multimer_v3 weights to /root/.cache/colabfold:  56%|█████▌    | 2.14G/3.82G [01:44<01:31, 19.7MB/s]\rDownloading alphafold2_multimer_v3 weights to /root/.cache/colabfold:  56%|█████▌    | 2.14G/3.82G [01:44<01:27, 20.6MB/s]\rDownloading alphafold2_multimer_v3 weights to /root/.cache/colabfold:  56%|█████▌    | 2.14G/3.82G [01:44<01:24, 21.2MB/s]\rDownloading alphafold2_multimer_v3 weights to /root/.cache/colabfold:  56%|█████▌    | 2.15G/3.82G [01:44<01:22, 21.7MB/s]\rDownloading alphafold2_multimer_v3 weights to /root/.cache/colabfold:  56%|█████▋    | 2.15G/3.82G [01:44<01:21, 22.1MB/s]\rDownloading alphafold2_multimer_v3 weights to /root/.cache/colabfold:  56%|█████▋    | 2.15G/3.82G [01:44<01:20, 22.3MB/s]\rDownloading alphafold2_multimer_v3 weights to /root/.cache/colabfold:  56%|█████▋    | 2.16G/3.82G [01:45<01:19, 22.5MB/s]\rDownloading alphafold2_multimer_v3 weights to /root/.cache/colabfold:  57%|█████▋    | 2.16G/3.82G [01:45<01:18, 22.6MB/s]\rDownloading alphafold2_multimer_v3 weights to /root/.cache/colabfold:  57%|█████▋    | 2.16G/3.82G [01:45<01:28, 20.0MB/s]\rDownloading alphafold2_multimer_v3 weights to /root/.cache/colabfold:  57%|█████▋    | 2.17G/3.82G [01:45<01:39, 17.8MB/s]\rDownloading alphafold2_multimer_v3 weights to /root/.cache/colabfold:  57%|█████▋    | 2.17G/3.82G [01:45<01:48, 16.3MB/s]\rDownloading alphafold2_multimer_v3 weights to /root/.cache/colabfold:  57%|█████▋    | 2.17G/3.82G [01:45<01:35, 18.4MB/s]\rDownloading alphafold2_multimer_v3 weights to /root/.cache/colabfold:  57%|█████▋    | 2.17G/3.82G [01:46<01:29, 19.8MB/s]\rDownloading alphafold2_multimer_v3 weights to /root/.cache/colabfold:  57%|█████▋    | 2.18G/3.82G [01:46<01:25, 20.7MB/s]\rDownloading alphafold2_multimer_v3 weights to /root/.cache/colabfold:  57%|█████▋    | 2.18G/3.82G [01:46<01:22, 21.4MB/s]\rDownloading alphafold2_multimer_v3 weights to /root/.cache/colabfold:  57%|█████▋    | 2.18G/3.82G [01:46<01:20, 21.8MB/s]\rDownloading alphafold2_multimer_v3 weights to /root/.cache/colabfold:  57%|█████▋    | 2.19G/3.82G [01:46<01:19, 22.1MB/s]\rDownloading alphafold2_multimer_v3 weights to /root/.cache/colabfold:  57%|█████▋    | 2.19G/3.82G [01:46<01:17, 22.4MB/s]\rDownloading alphafold2_multimer_v3 weights to /root/.cache/colabfold:  58%|█████▊    | 2.20G/3.82G [01:47<01:17, 22.5MB/s]\rDownloading alphafold2_multimer_v3 weights to /root/.cache/colabfold:  58%|█████▊    | 2.20G/3.82G [01:47<01:20, 21.7MB/s]\rDownloading alphafold2_multimer_v3 weights to /root/.cache/colabfold:  58%|█████▊    | 2.20G/3.82G [01:47<01:21, 21.3MB/s]\rDownloading alphafold2_multimer_v3 weights to /root/.cache/colabfold:  58%|█████▊    | 2.21G/3.82G [01:47<01:19, 21.7MB/s]\rDownloading alphafold2_multimer_v3 weights to /root/.cache/colabfold:  58%|█████▊    | 2.21G/3.82G [01:47<01:18, 22.1MB/s]\rDownloading alphafold2_multimer_v3 weights to /root/.cache/colabfold:  58%|█████▊    | 2.21G/3.82G [01:47<01:17, 22.3MB/s]\rDownloading alphafold2_multimer_v3 weights to /root/.cache/colabfold:  58%|█████▊    | 2.22G/3.82G [01:48<01:16, 22.5MB/s]\rDownloading alphafold2_multimer_v3 weights to /root/.cache/colabfold:  58%|█████▊    | 2.22G/3.82G [01:48<01:15, 22.6MB/s]\rDownloading alphafold2_multimer_v3 weights to /root/.cache/colabfold:  58%|█████▊    | 2.22G/3.82G [01:48<01:15, 22.7MB/s]\rDownloading alphafold2_multimer_v3 weights to /root/.cache/colabfold:  58%|█████▊    | 2.23G/3.82G [01:48<01:15, 22.7MB/s]\rDownloading alphafold2_multimer_v3 weights to /root/.cache/colabfold:  58%|█████▊    | 2.23G/3.82G [01:48<01:14, 22.8MB/s]\rDownloading alphafold2_multimer_v3 weights to /root/.cache/colabfold:  59%|█████▊    | 2.23G/3.82G [01:48<01:14, 22.8MB/s]\rDownloading alphafold2_multimer_v3 weights to /root/.cache/colabfold:  59%|█████▊    | 2.24G/3.82G [01:49<01:14, 22.8MB/s]\rDownloading alphafold2_multimer_v3 weights to /root/.cache/colabfold:  59%|█████▊    | 2.24G/3.82G [01:49<01:14, 22.8MB/s]\rDownloading alphafold2_multimer_v3 weights to /root/.cache/colabfold:  59%|█████▉    | 2.24G/3.82G [01:49<01:13, 22.9MB/s]\rDownloading alphafold2_multimer_v3 weights to /root/.cache/colabfold:  59%|█████▉    | 2.25G/3.82G [01:49<01:13, 22.9MB/s]\rDownloading alphafold2_multimer_v3 weights to /root/.cache/colabfold:  59%|█████▉    | 2.25G/3.82G [01:49<01:13, 22.8MB/s]\rDownloading alphafold2_multimer_v3 weights to /root/.cache/colabfold:  59%|█████▉    | 2.26G/3.82G [01:49<01:13, 22.9MB/s]\rDownloading alphafold2_multimer_v3 weights to /root/.cache/colabfold:  59%|█████▉    | 2.26G/3.82G [01:50<01:13, 22.9MB/s]\rDownloading alphafold2_multimer_v3 weights to /root/.cache/colabfold:  59%|█████▉    | 2.26G/3.82G [01:50<01:13, 22.9MB/s]\rDownloading alphafold2_multimer_v3 weights to /root/.cache/colabfold:  59%|█████▉    | 2.27G/3.82G [01:50<01:12, 22.9MB/s]\rDownloading alphafold2_multimer_v3 weights to /root/.cache/colabfold:  59%|█████▉    | 2.27G/3.82G [01:50<01:12, 22.9MB/s]\rDownloading alphafold2_multimer_v3 weights to /root/.cache/colabfold:  60%|█████▉    | 2.27G/3.82G [01:50<01:12, 22.9MB/s]\rDownloading alphafold2_multimer_v3 weights to /root/.cache/colabfold:  60%|█████▉    | 2.28G/3.82G [01:50<01:12, 22.9MB/s]\rDownloading alphafold2_multimer_v3 weights to /root/.cache/colabfold:  60%|█████▉    | 2.28G/3.82G [01:51<01:12, 22.9MB/s]\rDownloading alphafold2_multimer_v3 weights to /root/.cache/colabfold:  60%|█████▉    | 2.28G/3.82G [01:51<01:11, 22.9MB/s]\rDownloading alphafold2_multimer_v3 weights to /root/.cache/colabfold:  60%|█████▉    | 2.29G/3.82G [01:51<01:11, 22.9MB/s]\rDownloading alphafold2_multimer_v3 weights to /root/.cache/colabfold:  60%|██████    | 2.29G/3.82G [01:51<01:11, 22.9MB/s]\rDownloading alphafold2_multimer_v3 weights to /root/.cache/colabfold:  60%|██████    | 2.29G/3.82G [01:51<01:11, 22.9MB/s]\rDownloading alphafold2_multimer_v3 weights to /root/.cache/colabfold:  60%|██████    | 2.30G/3.82G [01:51<01:11, 22.9MB/s]\rDownloading alphafold2_multimer_v3 weights to /root/.cache/colabfold:  60%|██████    | 2.30G/3.82G [01:52<01:14, 21.7MB/s]\rDownloading alphafold2_multimer_v3 weights to /root/.cache/colabfold:  60%|██████    | 2.30G/3.82G [01:52<01:24, 19.2MB/s]\rDownloading alphafold2_multimer_v3 weights to /root/.cache/colabfold:  60%|██████    | 2.31G/3.82G [01:52<01:34, 17.2MB/s]\rDownloading alphafold2_multimer_v3 weights to /root/.cache/colabfold:  60%|██████    | 2.31G/3.82G [01:52<01:25, 18.9MB/s]\rDownloading alphafold2_multimer_v3 weights to /root/.cache/colabfold:  61%|██████    | 2.31G/3.82G [01:52<01:20, 20.1MB/s]\rDownloading alphafold2_multimer_v3 weights to /root/.cache/colabfold:  61%|██████    | 2.32G/3.82G [01:53<01:17, 20.9MB/s]\rDownloading alphafold2_multimer_v3 weights to /root/.cache/colabfold:  61%|██████    | 2.32G/3.82G [01:53<01:14, 21.5MB/s]\rDownloading alphafold2_multimer_v3 weights to /root/.cache/colabfold:  61%|██████    | 2.32G/3.82G [01:53<01:13, 21.9MB/s]\rDownloading alphafold2_multimer_v3 weights to /root/.cache/colabfold:  61%|██████    | 2.33G/3.82G [01:53<01:12, 22.2MB/s]\rDownloading alphafold2_multimer_v3 weights to /root/.cache/colabfold:  61%|██████    | 2.33G/3.82G [01:53<01:11, 22.4MB/s]\rDownloading alphafold2_multimer_v3 weights to /root/.cache/colabfold:  61%|██████    | 2.33G/3.82G [01:53<01:10, 22.6MB/s]\rDownloading alphafold2_multimer_v3 weights to /root/.cache/colabfold:  61%|██████    | 2.34G/3.82G [01:54<01:10, 22.7MB/s]\rDownloading alphafold2_multimer_v3 weights to /root/.cache/colabfold:  61%|██████▏   | 2.34G/3.82G [01:54<01:09, 22.8MB/s]\rDownloading alphafold2_multimer_v3 weights to /root/.cache/colabfold:  61%|██████▏   | 2.35G/3.82G [01:54<01:09, 22.8MB/s]\rDownloading alphafold2_multimer_v3 weights to /root/.cache/colabfold:  62%|██████▏   | 2.35G/3.82G [01:54<01:09, 22.8MB/s]\rDownloading alphafold2_multimer_v3 weights to /root/.cache/colabfold:  62%|██████▏   | 2.35G/3.82G [01:54<01:08, 22.8MB/s]\rDownloading alphafold2_multimer_v3 weights to /root/.cache/colabfold:  62%|██████▏   | 2.36G/3.82G [01:54<01:08, 22.8MB/s]\rDownloading alphafold2_multimer_v3 weights to /root/.cache/colabfold:  62%|██████▏   | 2.36G/3.82G [01:55<01:08, 22.9MB/s]\rDownloading alphafold2_multimer_v3 weights to /root/.cache/colabfold:  62%|██████▏   | 2.36G/3.82G [01:55<01:08, 22.9MB/s]\rDownloading alphafold2_multimer_v3 weights to /root/.cache/colabfold:  62%|██████▏   | 2.37G/3.82G [01:55<01:08, 22.9MB/s]\rDownloading alphafold2_multimer_v3 weights to /root/.cache/colabfold:  62%|██████▏   | 2.37G/3.82G [01:55<01:07, 22.9MB/s]\rDownloading alphafold2_multimer_v3 weights to /root/.cache/colabfold:  62%|██████▏   | 2.37G/3.82G [01:55<01:10, 21.9MB/s]\rDownloading alphafold2_multimer_v3 weights to /root/.cache/colabfold:  62%|██████▏   | 2.38G/3.82G [01:55<01:11, 21.5MB/s]\rDownloading alphafold2_multimer_v3 weights to /root/.cache/colabfold:  62%|██████▏   | 2.38G/3.82G [01:56<01:10, 21.9MB/s]\rDownloading alphafold2_multimer_v3 weights to /root/.cache/colabfold:  62%|██████▏   | 2.38G/3.82G [01:56<01:09, 22.1MB/s]\rDownloading alphafold2_multimer_v3 weights to /root/.cache/colabfold:  63%|██████▎   | 2.39G/3.82G [01:56<01:08, 22.4MB/s]\rDownloading alphafold2_multimer_v3 weights to /root/.cache/colabfold:  63%|██████▎   | 2.39G/3.82G [01:56<01:08, 22.5MB/s]\rDownloading alphafold2_multimer_v3 weights to /root/.cache/colabfold:  63%|██████▎   | 2.39G/3.82G [01:56<01:07, 22.6MB/s]\rDownloading alphafold2_multimer_v3 weights to /root/.cache/colabfold:  63%|██████▎   | 2.40G/3.82G [01:56<01:07, 22.7MB/s]\rDownloading alphafold2_multimer_v3 weights to /root/.cache/colabfold:  63%|██████▎   | 2.40G/3.82G [01:57<01:06, 22.8MB/s]\rDownloading alphafold2_multimer_v3 weights to /root/.cache/colabfold:  63%|██████▎   | 2.41G/3.82G [01:57<01:06, 22.8MB/s]\rDownloading alphafold2_multimer_v3 weights to /root/.cache/colabfold:  63%|██████▎   | 2.41G/3.82G [01:57<01:06, 22.8MB/s]\rDownloading alphafold2_multimer_v3 weights to /root/.cache/colabfold:  63%|██████▎   | 2.41G/3.82G [01:57<01:06, 22.9MB/s]\rDownloading alphafold2_multimer_v3 weights to /root/.cache/colabfold:  63%|██████▎   | 2.42G/3.82G [01:57<01:05, 22.9MB/s]\rDownloading alphafold2_multimer_v3 weights to /root/.cache/colabfold:  63%|██████▎   | 2.42G/3.82G [01:57<01:05, 22.9MB/s]\rDownloading alphafold2_multimer_v3 weights to /root/.cache/colabfold:  63%|██████▎   | 2.42G/3.82G [01:58<01:05, 22.9MB/s]\rDownloading alphafold2_multimer_v3 weights to /root/.cache/colabfold:  64%|██████▎   | 2.43G/3.82G [01:58<01:05, 22.9MB/s]\rDownloading alphafold2_multimer_v3 weights to /root/.cache/colabfold:  64%|██████▎   | 2.43G/3.82G [01:58<01:05, 22.9MB/s]\rDownloading alphafold2_multimer_v3 weights to /root/.cache/colabfold:  64%|██████▎   | 2.43G/3.82G [01:58<01:04, 22.9MB/s]\rDownloading alphafold2_multimer_v3 weights to /root/.cache/colabfold:  64%|██████▍   | 2.44G/3.82G [01:58<01:04, 22.9MB/s]\rDownloading alphafold2_multimer_v3 weights to /root/.cache/colabfold:  64%|██████▍   | 2.44G/3.82G [01:58<01:04, 22.9MB/s]\rDownloading alphafold2_multimer_v3 weights to /root/.cache/colabfold:  64%|██████▍   | 2.44G/3.82G [01:59<01:04, 22.9MB/s]\rDownloading alphafold2_multimer_v3 weights to /root/.cache/colabfold:  64%|██████▍   | 2.45G/3.82G [01:59<01:04, 22.9MB/s]\rDownloading alphafold2_multimer_v3 weights to /root/.cache/colabfold:  64%|██████▍   | 2.45G/3.82G [01:59<01:04, 22.9MB/s]\rDownloading alphafold2_multimer_v3 weights to /root/.cache/colabfold:  64%|██████▍   | 2.46G/3.82G [01:59<01:03, 22.9MB/s]\rDownloading alphafold2_multimer_v3 weights to /root/.cache/colabfold:  64%|██████▍   | 2.46G/3.82G [01:59<01:03, 22.9MB/s]\rDownloading alphafold2_multimer_v3 weights to /root/.cache/colabfold:  64%|██████▍   | 2.46G/3.82G [01:59<01:03, 22.9MB/s]\rDownloading alphafold2_multimer_v3 weights to /root/.cache/colabfold:  65%|██████▍   | 2.47G/3.82G [02:00<01:03, 22.9MB/s]\rDownloading alphafold2_multimer_v3 weights to /root/.cache/colabfold:  65%|██████▍   | 2.47G/3.82G [02:00<01:03, 22.9MB/s]\rDownloading alphafold2_multimer_v3 weights to /root/.cache/colabfold:  65%|██████▍   | 2.47G/3.82G [02:00<01:03, 22.9MB/s]\rDownloading alphafold2_multimer_v3 weights to /root/.cache/colabfold:  65%|██████▍   | 2.48G/3.82G [02:00<01:02, 22.9MB/s]\rDownloading alphafold2_multimer_v3 weights to /root/.cache/colabfold:  65%|██████▍   | 2.48G/3.82G [02:00<01:02, 22.9MB/s]\rDownloading alphafold2_multimer_v3 weights to /root/.cache/colabfold:  65%|██████▌   | 2.48G/3.82G [02:00<01:11, 20.1MB/s]\rDownloading alphafold2_multimer_v3 weights to /root/.cache/colabfold:  65%|██████▌   | 2.48G/3.82G [02:01<01:20, 17.7MB/s]\rDownloading alphafold2_multimer_v3 weights to /root/.cache/colabfold:  65%|██████▌   | 2.49G/3.82G [02:01<01:14, 19.1MB/s]\rDownloading alphafold2_multimer_v3 weights to /root/.cache/colabfold:  65%|██████▌   | 2.49G/3.82G [02:01<01:10, 20.3MB/s]\rDownloading alphafold2_multimer_v3 weights to /root/.cache/colabfold:  65%|██████▌   | 2.49G/3.82G [02:01<01:07, 21.1MB/s]\rDownloading alphafold2_multimer_v3 weights to /root/.cache/colabfold:  65%|██████▌   | 2.50G/3.82G [02:01<01:05, 21.6MB/s]\rDownloading alphafold2_multimer_v3 weights to /root/.cache/colabfold:  66%|██████▌   | 2.50G/3.82G [02:01<01:04, 22.0MB/s]\rDownloading alphafold2_multimer_v3 weights to /root/.cache/colabfold:  66%|██████▌   | 2.51G/3.82G [02:02<01:03, 22.3MB/s]\rDownloading alphafold2_multimer_v3 weights to /root/.cache/colabfold:  66%|██████▌   | 2.51G/3.82G [02:02<01:02, 22.4MB/s]\rDownloading alphafold2_multimer_v3 weights to /root/.cache/colabfold:  66%|██████▌   | 2.51G/3.82G [02:02<01:02, 22.6MB/s]\rDownloading alphafold2_multimer_v3 weights to /root/.cache/colabfold:  66%|██████▌   | 2.52G/3.82G [02:02<01:01, 22.7MB/s]\rDownloading alphafold2_multimer_v3 weights to /root/.cache/colabfold:  66%|██████▌   | 2.52G/3.82G [02:02<01:01, 22.7MB/s]\rDownloading alphafold2_multimer_v3 weights to /root/.cache/colabfold:  66%|██████▌   | 2.52G/3.82G [02:02<01:01, 22.8MB/s]\rDownloading alphafold2_multimer_v3 weights to /root/.cache/colabfold:  66%|██████▌   | 2.53G/3.82G [02:03<01:00, 22.8MB/s]\rDownloading alphafold2_multimer_v3 weights to /root/.cache/colabfold:  66%|██████▋   | 2.53G/3.82G [02:03<01:00, 22.8MB/s]\rDownloading alphafold2_multimer_v3 weights to /root/.cache/colabfold:  66%|██████▋   | 2.53G/3.82G [02:03<01:00, 22.8MB/s]\rDownloading alphafold2_multimer_v3 weights to /root/.cache/colabfold:  66%|██████▋   | 2.54G/3.82G [02:03<01:00, 22.8MB/s]\rDownloading alphafold2_multimer_v3 weights to /root/.cache/colabfold:  67%|██████▋   | 2.54G/3.82G [02:03<01:00, 22.8MB/s]\rDownloading alphafold2_multimer_v3 weights to /root/.cache/colabfold:  67%|██████▋   | 2.54G/3.82G [02:03<00:59, 22.9MB/s]\rDownloading alphafold2_multimer_v3 weights to /root/.cache/colabfold:  67%|██████▋   | 2.55G/3.82G [02:04<00:59, 22.9MB/s]\rDownloading alphafold2_multimer_v3 weights to /root/.cache/colabfold:  67%|██████▋   | 2.55G/3.82G [02:04<00:59, 22.9MB/s]\rDownloading alphafold2_multimer_v3 weights to /root/.cache/colabfold:  67%|██████▋   | 2.56G/3.82G [02:04<00:59, 22.9MB/s]\rDownloading alphafold2_multimer_v3 weights to /root/.cache/colabfold:  67%|██████▋   | 2.56G/3.82G [02:04<00:59, 22.8MB/s]\rDownloading alphafold2_multimer_v3 weights to /root/.cache/colabfold:  67%|██████▋   | 2.56G/3.82G [02:04<00:58, 22.9MB/s]\rDownloading alphafold2_multimer_v3 weights to /root/.cache/colabfold:  67%|██████▋   | 2.57G/3.82G [02:04<00:58, 22.9MB/s]\rDownloading alphafold2_multimer_v3 weights to /root/.cache/colabfold:  67%|██████▋   | 2.57G/3.82G [02:05<00:58, 22.9MB/s]\rDownloading alphafold2_multimer_v3 weights to /root/.cache/colabfold:  67%|██████▋   | 2.57G/3.82G [02:05<00:58, 22.9MB/s]\rDownloading alphafold2_multimer_v3 weights to /root/.cache/colabfold:  67%|██████▋   | 2.58G/3.82G [02:05<00:58, 22.9MB/s]\rDownloading alphafold2_multimer_v3 weights to /root/.cache/colabfold:  68%|██████▊   | 2.58G/3.82G [02:05<00:58, 22.9MB/s]\rDownloading alphafold2_multimer_v3 weights to /root/.cache/colabfold:  68%|██████▊   | 2.58G/3.82G [02:05<00:57, 22.9MB/s]\rDownloading alphafold2_multimer_v3 weights to /root/.cache/colabfold:  68%|██████▊   | 2.59G/3.82G [02:05<00:57, 22.9MB/s]\rDownloading alphafold2_multimer_v3 weights to /root/.cache/colabfold:  68%|██████▊   | 2.59G/3.82G [02:06<00:57, 22.9MB/s]\rDownloading alphafold2_multimer_v3 weights to /root/.cache/colabfold:  68%|██████▊   | 2.59G/3.82G [02:06<00:57, 22.9MB/s]\rDownloading alphafold2_multimer_v3 weights to /root/.cache/colabfold:  68%|██████▊   | 2.60G/3.82G [02:06<00:57, 22.9MB/s]\rDownloading alphafold2_multimer_v3 weights to /root/.cache/colabfold:  68%|██████▊   | 2.60G/3.82G [02:06<00:57, 22.9MB/s]\rDownloading alphafold2_multimer_v3 weights to /root/.cache/colabfold:  68%|██████▊   | 2.61G/3.82G [02:06<00:56, 22.9MB/s]\rDownloading alphafold2_multimer_v3 weights to /root/.cache/colabfold:  68%|██████▊   | 2.61G/3.82G [02:06<00:56, 22.9MB/s]\rDownloading alphafold2_multimer_v3 weights to /root/.cache/colabfold:  68%|██████▊   | 2.61G/3.82G [02:07<00:56, 22.9MB/s]\rDownloading alphafold2_multimer_v3 weights to /root/.cache/colabfold:  69%|██████▊   | 2.62G/3.82G [02:07<00:56, 22.9MB/s]\rDownloading alphafold2_multimer_v3 weights to /root/.cache/colabfold:  69%|██████▊   | 2.62G/3.82G [02:07<00:56, 22.9MB/s]\rDownloading alphafold2_multimer_v3 weights to /root/.cache/colabfold:  69%|██████▊   | 2.62G/3.82G [02:07<00:56, 22.9MB/s]\rDownloading alphafold2_multimer_v3 weights to /root/.cache/colabfold:  69%|██████▉   | 2.63G/3.82G [02:07<00:55, 22.9MB/s]\rDownloading alphafold2_multimer_v3 weights to /root/.cache/colabfold:  69%|██████▉   | 2.63G/3.82G [02:07<01:03, 20.1MB/s]\rDownloading alphafold2_multimer_v3 weights to /root/.cache/colabfold:  69%|██████▉   | 2.63G/3.82G [02:08<01:11, 17.7MB/s]\rDownloading alphafold2_multimer_v3 weights to /root/.cache/colabfold:  69%|██████▉   | 2.63G/3.82G [02:08<01:06, 19.2MB/s]\rDownloading alphafold2_multimer_v3 weights to /root/.cache/colabfold:  69%|██████▉   | 2.64G/3.82G [02:08<01:02, 20.3MB/s]\rDownloading alphafold2_multimer_v3 weights to /root/.cache/colabfold:  69%|██████▉   | 2.64G/3.82G [02:08<00:59, 21.1MB/s]\rDownloading alphafold2_multimer_v3 weights to /root/.cache/colabfold:  69%|██████▉   | 2.64G/3.82G [02:08<00:58, 21.6MB/s]\rDownloading alphafold2_multimer_v3 weights to /root/.cache/colabfold:  69%|██████▉   | 2.65G/3.82G [02:08<00:57, 22.0MB/s]\rDownloading alphafold2_multimer_v3 weights to /root/.cache/colabfold:  69%|██████▉   | 2.65G/3.82G [02:09<00:56, 22.3MB/s]\rDownloading alphafold2_multimer_v3 weights to /root/.cache/colabfold:  70%|██████▉   | 2.66G/3.82G [02:09<00:55, 22.4MB/s]\rDownloading alphafold2_multimer_v3 weights to /root/.cache/colabfold:  70%|██████▉   | 2.66G/3.82G [02:09<00:55, 22.6MB/s]\rDownloading alphafold2_multimer_v3 weights to /root/.cache/colabfold:  70%|██████▉   | 2.66G/3.82G [02:09<00:54, 22.6MB/s]\rDownloading alphafold2_multimer_v3 weights to /root/.cache/colabfold:  70%|██████▉   | 2.67G/3.82G [02:09<00:54, 22.7MB/s]\rDownloading alphafold2_multimer_v3 weights to /root/.cache/colabfold:  70%|██████▉   | 2.67G/3.82G [02:09<00:54, 22.8MB/s]\rDownloading alphafold2_multimer_v3 weights to /root/.cache/colabfold:  70%|███████   | 2.67G/3.82G [02:10<00:53, 22.8MB/s]\rDownloading alphafold2_multimer_v3 weights to /root/.cache/colabfold:  70%|███████   | 2.68G/3.82G [02:10<00:53, 22.8MB/s]\rDownloading alphafold2_multimer_v3 weights to /root/.cache/colabfold:  70%|███████   | 2.68G/3.82G [02:10<00:53, 22.8MB/s]\rDownloading alphafold2_multimer_v3 weights to /root/.cache/colabfold:  70%|███████   | 2.68G/3.82G [02:10<00:53, 22.8MB/s]\rDownloading alphafold2_multimer_v3 weights to /root/.cache/colabfold:  70%|███████   | 2.69G/3.82G [02:10<00:53, 22.8MB/s]\rDownloading alphafold2_multimer_v3 weights to /root/.cache/colabfold:  70%|███████   | 2.69G/3.82G [02:10<00:52, 22.9MB/s]\rDownloading alphafold2_multimer_v3 weights to /root/.cache/colabfold:  71%|███████   | 2.69G/3.82G [02:11<00:52, 22.9MB/s]\rDownloading alphafold2_multimer_v3 weights to /root/.cache/colabfold:  71%|███████   | 2.70G/3.82G [02:11<00:52, 22.8MB/s]\rDownloading alphafold2_multimer_v3 weights to /root/.cache/colabfold:  71%|███████   | 2.70G/3.82G [02:11<00:52, 22.9MB/s]\rDownloading alphafold2_multimer_v3 weights to /root/.cache/colabfold:  71%|███████   | 2.71G/3.82G [02:11<00:52, 22.9MB/s]\rDownloading alphafold2_multimer_v3 weights to /root/.cache/colabfold:  71%|███████   | 2.71G/3.82G [02:11<00:52, 22.9MB/s]\rDownloading alphafold2_multimer_v3 weights to /root/.cache/colabfold:  71%|███████   | 2.71G/3.82G [02:11<00:51, 22.9MB/s]\rDownloading alphafold2_multimer_v3 weights to /root/.cache/colabfold:  71%|███████   | 2.72G/3.82G [02:12<00:51, 22.9MB/s]\rDownloading alphafold2_multimer_v3 weights to /root/.cache/colabfold:  71%|███████   | 2.72G/3.82G [02:12<00:51, 22.9MB/s]\rDownloading alphafold2_multimer_v3 weights to /root/.cache/colabfold:  71%|███████▏  | 2.72G/3.82G [02:12<00:51, 22.9MB/s]\rDownloading alphafold2_multimer_v3 weights to /root/.cache/colabfold:  71%|███████▏  | 2.73G/3.82G [02:12<00:51, 22.9MB/s]\rDownloading alphafold2_multimer_v3 weights to /root/.cache/colabfold:  72%|███████▏  | 2.73G/3.82G [02:12<00:51, 22.9MB/s]\rDownloading alphafold2_multimer_v3 weights to /root/.cache/colabfold:  72%|███████▏  | 2.73G/3.82G [02:12<00:50, 22.9MB/s]\rDownloading alphafold2_multimer_v3 weights to /root/.cache/colabfold:  72%|███████▏  | 2.74G/3.82G [02:13<00:50, 22.9MB/s]\rDownloading alphafold2_multimer_v3 weights to /root/.cache/colabfold:  72%|███████▏  | 2.74G/3.82G [02:13<00:50, 22.9MB/s]\rDownloading alphafold2_multimer_v3 weights to /root/.cache/colabfold:  72%|███████▏  | 2.74G/3.82G [02:13<00:50, 22.9MB/s]\rDownloading alphafold2_multimer_v3 weights to /root/.cache/colabfold:  72%|███████▏  | 2.75G/3.82G [02:13<00:50, 22.9MB/s]\rDownloading alphafold2_multimer_v3 weights to /root/.cache/colabfold:  72%|███████▏  | 2.75G/3.82G [02:13<00:50, 22.8MB/s]\rDownloading alphafold2_multimer_v3 weights to /root/.cache/colabfold:  72%|███████▏  | 2.76G/3.82G [02:13<00:49, 22.8MB/s]\rDownloading alphafold2_multimer_v3 weights to /root/.cache/colabfold:  72%|███████▏  | 2.76G/3.82G [02:14<00:52, 21.8MB/s]\rDownloading alphafold2_multimer_v3 weights to /root/.cache/colabfold:  72%|███████▏  | 2.76G/3.82G [02:14<00:58, 19.3MB/s]\rDownloading alphafold2_multimer_v3 weights to /root/.cache/colabfold:  72%|███████▏  | 2.76G/3.82G [02:14<00:55, 20.3MB/s]\rDownloading alphafold2_multimer_v3 weights to /root/.cache/colabfold:  72%|███████▏  | 2.77G/3.82G [02:14<00:53, 21.1MB/s]\rDownloading alphafold2_multimer_v3 weights to /root/.cache/colabfold:  73%|███████▎  | 2.77G/3.82G [02:14<00:55, 20.2MB/s]\rDownloading alphafold2_multimer_v3 weights to /root/.cache/colabfold:  73%|███████▎  | 2.77G/3.82G [02:15<00:55, 20.3MB/s]\rDownloading alphafold2_multimer_v3 weights to /root/.cache/colabfold:  73%|███████▎  | 2.78G/3.82G [02:15<00:53, 21.0MB/s]\rDownloading alphafold2_multimer_v3 weights to /root/.cache/colabfold:  73%|███████▎  | 2.78G/3.82G [02:15<00:51, 21.6MB/s]\rDownloading alphafold2_multimer_v3 weights to /root/.cache/colabfold:  73%|███████▎  | 2.79G/3.82G [02:15<00:50, 22.0MB/s]\rDownloading alphafold2_multimer_v3 weights to /root/.cache/colabfold:  73%|███████▎  | 2.79G/3.82G [02:15<00:49, 22.2MB/s]\rDownloading alphafold2_multimer_v3 weights to /root/.cache/colabfold:  73%|███████▎  | 2.79G/3.82G [02:15<00:49, 22.5MB/s]\rDownloading alphafold2_multimer_v3 weights to /root/.cache/colabfold:  73%|███████▎  | 2.80G/3.82G [02:16<00:48, 22.6MB/s]\rDownloading alphafold2_multimer_v3 weights to /root/.cache/colabfold:  73%|███████▎  | 2.80G/3.82G [02:16<00:48, 22.7MB/s]\rDownloading alphafold2_multimer_v3 weights to /root/.cache/colabfold:  73%|███████▎  | 2.80G/3.82G [02:16<00:47, 22.7MB/s]\rDownloading alphafold2_multimer_v3 weights to /root/.cache/colabfold:  74%|███████▎  | 2.81G/3.82G [02:16<00:47, 22.7MB/s]\rDownloading alphafold2_multimer_v3 weights to /root/.cache/colabfold:  74%|███████▎  | 2.81G/3.82G [02:16<00:47, 22.8MB/s]\rDownloading alphafold2_multimer_v3 weights to /root/.cache/colabfold:  74%|███████▎  | 2.81G/3.82G [02:16<00:47, 22.8MB/s]\rDownloading alphafold2_multimer_v3 weights to /root/.cache/colabfold:  74%|███████▍  | 2.82G/3.82G [02:17<00:47, 22.8MB/s]\rDownloading alphafold2_multimer_v3 weights to /root/.cache/colabfold:  74%|███████▍  | 2.82G/3.82G [02:17<00:46, 22.8MB/s]\rDownloading alphafold2_multimer_v3 weights to /root/.cache/colabfold:  74%|███████▍  | 2.82G/3.82G [02:17<00:46, 22.8MB/s]\rDownloading alphafold2_multimer_v3 weights to /root/.cache/colabfold:  74%|███████▍  | 2.83G/3.82G [02:17<00:46, 22.8MB/s]\rDownloading alphafold2_multimer_v3 weights to /root/.cache/colabfold:  74%|███████▍  | 2.83G/3.82G [02:17<00:46, 22.8MB/s]\rDownloading alphafold2_multimer_v3 weights to /root/.cache/colabfold:  74%|███████▍  | 2.84G/3.82G [02:17<00:46, 22.9MB/s]\rDownloading alphafold2_multimer_v3 weights to /root/.cache/colabfold:  74%|███████▍  | 2.84G/3.82G [02:18<00:45, 22.9MB/s]\rDownloading alphafold2_multimer_v3 weights to /root/.cache/colabfold:  74%|███████▍  | 2.84G/3.82G [02:18<00:45, 22.9MB/s]\rDownloading alphafold2_multimer_v3 weights to /root/.cache/colabfold:  75%|███████▍  | 2.85G/3.82G [02:18<00:45, 22.9MB/s]\rDownloading alphafold2_multimer_v3 weights to /root/.cache/colabfold:  75%|███████▍  | 2.85G/3.82G [02:18<00:45, 22.9MB/s]\rDownloading alphafold2_multimer_v3 weights to /root/.cache/colabfold:  75%|███████▍  | 2.85G/3.82G [02:18<00:45, 22.9MB/s]\rDownloading alphafold2_multimer_v3 weights to /root/.cache/colabfold:  75%|███████▍  | 2.86G/3.82G [02:18<00:45, 22.8MB/s]\rDownloading alphafold2_multimer_v3 weights to /root/.cache/colabfold:  75%|███████▍  | 2.86G/3.82G [02:19<00:44, 22.9MB/s]\rDownloading alphafold2_multimer_v3 weights to /root/.cache/colabfold:  75%|███████▌  | 2.86G/3.82G [02:19<00:44, 22.9MB/s]\rDownloading alphafold2_multimer_v3 weights to /root/.cache/colabfold:  75%|███████▌  | 2.87G/3.82G [02:19<00:44, 22.9MB/s]\rDownloading alphafold2_multimer_v3 weights to /root/.cache/colabfold:  75%|███████▌  | 2.87G/3.82G [02:19<00:44, 22.9MB/s]\rDownloading alphafold2_multimer_v3 weights to /root/.cache/colabfold:  75%|███████▌  | 2.87G/3.82G [02:19<00:44, 22.9MB/s]\rDownloading alphafold2_multimer_v3 weights to /root/.cache/colabfold:  75%|███████▌  | 2.88G/3.82G [02:19<00:44, 22.9MB/s]\rDownloading alphafold2_multimer_v3 weights to /root/.cache/colabfold:  75%|███████▌  | 2.88G/3.82G [02:20<00:43, 22.9MB/s]\rDownloading alphafold2_multimer_v3 weights to /root/.cache/colabfold:  76%|███████▌  | 2.89G/3.82G [02:20<00:43, 22.9MB/s]\rDownloading alphafold2_multimer_v3 weights to /root/.cache/colabfold:  76%|███████▌  | 2.89G/3.82G [02:20<00:43, 22.9MB/s]\rDownloading alphafold2_multimer_v3 weights to /root/.cache/colabfold:  76%|███████▌  | 2.89G/3.82G [02:20<00:43, 22.9MB/s]\rDownloading alphafold2_multimer_v3 weights to /root/.cache/colabfold:  76%|███████▌  | 2.90G/3.82G [02:20<00:43, 22.9MB/s]\rDownloading alphafold2_multimer_v3 weights to /root/.cache/colabfold:  76%|███████▌  | 2.90G/3.82G [02:20<00:43, 22.9MB/s]\rDownloading alphafold2_multimer_v3 weights to /root/.cache/colabfold:  76%|███████▌  | 2.90G/3.82G [02:21<00:43, 22.9MB/s]\rDownloading alphafold2_multimer_v3 weights to /root/.cache/colabfold:  76%|███████▌  | 2.91G/3.82G [02:21<00:42, 22.8MB/s]\rDownloading alphafold2_multimer_v3 weights to /root/.cache/colabfold:  76%|███████▌  | 2.91G/3.82G [02:21<00:42, 22.8MB/s]\rDownloading alphafold2_multimer_v3 weights to /root/.cache/colabfold:  76%|███████▋  | 2.91G/3.82G [02:21<00:48, 20.0MB/s]\rDownloading alphafold2_multimer_v3 weights to /root/.cache/colabfold:  76%|███████▋  | 2.91G/3.82G [02:21<00:54, 17.7MB/s]\rDownloading alphafold2_multimer_v3 weights to /root/.cache/colabfold:  76%|███████▋  | 2.92G/3.82G [02:21<00:50, 19.2MB/s]\rDownloading alphafold2_multimer_v3 weights to /root/.cache/colabfold:  77%|███████▋  | 2.92G/3.82G [02:22<00:47, 20.2MB/s]\rDownloading alphafold2_multimer_v3 weights to /root/.cache/colabfold:  77%|███████▋  | 2.92G/3.82G [02:22<00:45, 21.0MB/s]\rDownloading alphafold2_multimer_v3 weights to /root/.cache/colabfold:  77%|███████▋  | 2.93G/3.82G [02:22<00:44, 21.6MB/s]\rDownloading alphafold2_multimer_v3 weights to /root/.cache/colabfold:  77%|███████▋  | 2.93G/3.82G [02:22<00:43, 22.0MB/s]\rDownloading alphafold2_multimer_v3 weights to /root/.cache/colabfold:  77%|███████▋  | 2.94G/3.82G [02:22<00:42, 22.3MB/s]\rDownloading alphafold2_multimer_v3 weights to /root/.cache/colabfold:  77%|███████▋  | 2.94G/3.82G [02:22<00:42, 22.4MB/s]\rDownloading alphafold2_multimer_v3 weights to /root/.cache/colabfold:  77%|███████▋  | 2.94G/3.82G [02:23<00:41, 22.6MB/s]\rDownloading alphafold2_multimer_v3 weights to /root/.cache/colabfold:  77%|███████▋  | 2.95G/3.82G [02:23<00:41, 22.6MB/s]\rDownloading alphafold2_multimer_v3 weights to /root/.cache/colabfold:  77%|███████▋  | 2.95G/3.82G [02:23<00:41, 22.7MB/s]\rDownloading alphafold2_multimer_v3 weights to /root/.cache/colabfold:  77%|███████▋  | 2.95G/3.82G [02:23<00:40, 22.8MB/s]\rDownloading alphafold2_multimer_v3 weights to /root/.cache/colabfold:  77%|███████▋  | 2.96G/3.82G [02:23<00:40, 22.8MB/s]\rDownloading alphafold2_multimer_v3 weights to /root/.cache/colabfold:  78%|███████▊  | 2.96G/3.82G [02:23<00:40, 22.8MB/s]\rDownloading alphafold2_multimer_v3 weights to /root/.cache/colabfold:  78%|███████▊  | 2.96G/3.82G [02:24<00:40, 22.8MB/s]\rDownloading alphafold2_multimer_v3 weights to /root/.cache/colabfold:  78%|███████▊  | 2.97G/3.82G [02:24<00:39, 22.8MB/s]\rDownloading alphafold2_multimer_v3 weights to /root/.cache/colabfold:  78%|███████▊  | 2.97G/3.82G [02:24<00:39, 22.9MB/s]\rDownloading alphafold2_multimer_v3 weights to /root/.cache/colabfold:  78%|███████▊  | 2.97G/3.82G [02:24<00:39, 22.8MB/s]\rDownloading alphafold2_multimer_v3 weights to /root/.cache/colabfold:  78%|███████▊  | 2.98G/3.82G [02:24<00:39, 22.8MB/s]\rDownloading alphafold2_multimer_v3 weights to /root/.cache/colabfold:  78%|███████▊  | 2.98G/3.82G [02:24<00:39, 22.8MB/s]\rDownloading alphafold2_multimer_v3 weights to /root/.cache/colabfold:  78%|███████▊  | 2.99G/3.82G [02:25<00:39, 22.8MB/s]\rDownloading alphafold2_multimer_v3 weights to /root/.cache/colabfold:  78%|███████▊  | 2.99G/3.82G [02:25<00:42, 20.8MB/s]\rDownloading alphafold2_multimer_v3 weights to /root/.cache/colabfold:  78%|███████▊  | 2.99G/3.82G [02:25<00:42, 20.7MB/s]\rDownloading alphafold2_multimer_v3 weights to /root/.cache/colabfold:  78%|███████▊  | 2.99G/3.82G [02:25<00:41, 21.4MB/s]\rDownloading alphafold2_multimer_v3 weights to /root/.cache/colabfold:  79%|███████▊  | 3.00G/3.82G [02:25<00:40, 21.8MB/s]\rDownloading alphafold2_multimer_v3 weights to /root/.cache/colabfold:  79%|███████▊  | 3.00G/3.82G [02:25<00:39, 22.1MB/s]\rDownloading alphafold2_multimer_v3 weights to /root/.cache/colabfold:  79%|███████▊  | 3.01G/3.82G [02:26<00:39, 22.4MB/s]\rDownloading alphafold2_multimer_v3 weights to /root/.cache/colabfold:  79%|███████▉  | 3.01G/3.82G [02:26<00:38, 22.5MB/s]\rDownloading alphafold2_multimer_v3 weights to /root/.cache/colabfold:  79%|███████▉  | 3.01G/3.82G [02:26<00:38, 22.6MB/s]\rDownloading alphafold2_multimer_v3 weights to /root/.cache/colabfold:  79%|███████▉  | 3.02G/3.82G [02:26<00:38, 22.7MB/s]\rDownloading alphafold2_multimer_v3 weights to /root/.cache/colabfold:  79%|███████▉  | 3.02G/3.82G [02:26<00:37, 22.7MB/s]\rDownloading alphafold2_multimer_v3 weights to /root/.cache/colabfold:  79%|███████▉  | 3.02G/3.82G [02:26<00:37, 22.8MB/s]\rDownloading alphafold2_multimer_v3 weights to /root/.cache/colabfold:  79%|███████▉  | 3.03G/3.82G [02:27<00:37, 22.8MB/s]\rDownloading alphafold2_multimer_v3 weights to /root/.cache/colabfold:  79%|███████▉  | 3.03G/3.82G [02:27<00:37, 22.8MB/s]\rDownloading alphafold2_multimer_v3 weights to /root/.cache/colabfold:  79%|███████▉  | 3.03G/3.82G [02:27<00:36, 22.9MB/s]\rDownloading alphafold2_multimer_v3 weights to /root/.cache/colabfold:  80%|███████▉  | 3.04G/3.82G [02:27<00:36, 22.9MB/s]\rDownloading alphafold2_multimer_v3 weights to /root/.cache/colabfold:  80%|███████▉  | 3.04G/3.82G [02:27<00:36, 22.9MB/s]\rDownloading alphafold2_multimer_v3 weights to /root/.cache/colabfold:  80%|███████▉  | 3.04G/3.82G [02:27<00:36, 22.9MB/s]\rDownloading alphafold2_multimer_v3 weights to /root/.cache/colabfold:  80%|███████▉  | 3.05G/3.82G [02:28<00:36, 22.9MB/s]\rDownloading alphafold2_multimer_v3 weights to /root/.cache/colabfold:  80%|███████▉  | 3.05G/3.82G [02:28<00:37, 21.9MB/s]\rDownloading alphafold2_multimer_v3 weights to /root/.cache/colabfold:  80%|███████▉  | 3.05G/3.82G [02:28<00:42, 19.4MB/s]\rDownloading alphafold2_multimer_v3 weights to /root/.cache/colabfold:  80%|████████  | 3.06G/3.82G [02:28<00:47, 17.3MB/s]\rDownloading alphafold2_multimer_v3 weights to /root/.cache/colabfold:  80%|████████  | 3.06G/3.82G [02:28<00:42, 19.0MB/s]\rDownloading alphafold2_multimer_v3 weights to /root/.cache/colabfold:  80%|████████  | 3.06G/3.82G [02:28<00:40, 20.2MB/s]\rDownloading alphafold2_multimer_v3 weights to /root/.cache/colabfold:  80%|████████  | 3.07G/3.82G [02:29<00:38, 20.9MB/s]\rDownloading alphafold2_multimer_v3 weights to /root/.cache/colabfold:  80%|████████  | 3.07G/3.82G [02:29<00:37, 21.5MB/s]\rDownloading alphafold2_multimer_v3 weights to /root/.cache/colabfold:  80%|████████  | 3.07G/3.82G [02:29<00:36, 21.9MB/s]\rDownloading alphafold2_multimer_v3 weights to /root/.cache/colabfold:  81%|████████  | 3.08G/3.82G [02:29<00:35, 22.2MB/s]\rDownloading alphafold2_multimer_v3 weights to /root/.cache/colabfold:  81%|████████  | 3.08G/3.82G [02:29<00:35, 22.4MB/s]\rDownloading alphafold2_multimer_v3 weights to /root/.cache/colabfold:  81%|████████  | 3.08G/3.82G [02:29<00:34, 22.5MB/s]\rDownloading alphafold2_multimer_v3 weights to /root/.cache/colabfold:  81%|████████  | 3.09G/3.82G [02:30<00:34, 22.6MB/s]\rDownloading alphafold2_multimer_v3 weights to /root/.cache/colabfold:  81%|████████  | 3.09G/3.82G [02:30<00:34, 22.7MB/s]\rDownloading alphafold2_multimer_v3 weights to /root/.cache/colabfold:  81%|████████  | 3.09G/3.82G [02:30<00:35, 21.8MB/s]\rDownloading alphafold2_multimer_v3 weights to /root/.cache/colabfold:  81%|████████  | 3.10G/3.82G [02:30<00:36, 21.5MB/s]\rDownloading alphafold2_multimer_v3 weights to /root/.cache/colabfold:  81%|████████  | 3.10G/3.82G [02:30<00:35, 21.9MB/s]\rDownloading alphafold2_multimer_v3 weights to /root/.cache/colabfold:  81%|████████▏ | 3.11G/3.82G [02:30<00:34, 22.2MB/s]\rDownloading alphafold2_multimer_v3 weights to /root/.cache/colabfold:  81%|████████▏ | 3.11G/3.82G [02:31<00:34, 22.4MB/s]\rDownloading alphafold2_multimer_v3 weights to /root/.cache/colabfold:  82%|████████▏ | 3.11G/3.82G [02:31<00:33, 22.5MB/s]\rDownloading alphafold2_multimer_v3 weights to /root/.cache/colabfold:  82%|████████▏ | 3.12G/3.82G [02:31<00:33, 22.6MB/s]\rDownloading alphafold2_multimer_v3 weights to /root/.cache/colabfold:  82%|████████▏ | 3.12G/3.82G [02:31<00:33, 22.7MB/s]\rDownloading alphafold2_multimer_v3 weights to /root/.cache/colabfold:  82%|████████▏ | 3.12G/3.82G [02:31<00:32, 22.6MB/s]\rDownloading alphafold2_multimer_v3 weights to /root/.cache/colabfold:  82%|████████▏ | 3.13G/3.82G [02:31<00:32, 22.9MB/s]\rDownloading alphafold2_multimer_v3 weights to /root/.cache/colabfold:  82%|████████▏ | 3.13G/3.82G [02:32<00:32, 22.9MB/s]\rDownloading alphafold2_multimer_v3 weights to /root/.cache/colabfold:  82%|████████▏ | 3.13G/3.82G [02:32<00:32, 22.9MB/s]\rDownloading alphafold2_multimer_v3 weights to /root/.cache/colabfold:  82%|████████▏ | 3.14G/3.82G [02:32<00:31, 22.9MB/s]\rDownloading alphafold2_multimer_v3 weights to /root/.cache/colabfold:  82%|████████▏ | 3.14G/3.82G [02:32<00:31, 22.9MB/s]\rDownloading alphafold2_multimer_v3 weights to /root/.cache/colabfold:  82%|████████▏ | 3.14G/3.82G [02:32<00:31, 22.8MB/s]\rDownloading alphafold2_multimer_v3 weights to /root/.cache/colabfold:  82%|████████▏ | 3.15G/3.82G [02:32<00:31, 22.9MB/s]\rDownloading alphafold2_multimer_v3 weights to /root/.cache/colabfold:  83%|████████▎ | 3.15G/3.82G [02:33<00:31, 22.8MB/s]\rDownloading alphafold2_multimer_v3 weights to /root/.cache/colabfold:  83%|████████▎ | 3.15G/3.82G [02:33<00:31, 22.9MB/s]\rDownloading alphafold2_multimer_v3 weights to /root/.cache/colabfold:  83%|████████▎ | 3.16G/3.82G [02:33<00:30, 22.9MB/s]\rDownloading alphafold2_multimer_v3 weights to /root/.cache/colabfold:  83%|████████▎ | 3.16G/3.82G [02:33<00:32, 21.8MB/s]\rDownloading alphafold2_multimer_v3 weights to /root/.cache/colabfold:  83%|████████▎ | 3.16G/3.82G [02:33<00:36, 19.3MB/s]\rDownloading alphafold2_multimer_v3 weights to /root/.cache/colabfold:  83%|████████▎ | 3.17G/3.82G [02:33<00:40, 17.3MB/s]\rDownloading alphafold2_multimer_v3 weights to /root/.cache/colabfold:  83%|████████▎ | 3.17G/3.82G [02:34<00:47, 14.7MB/s]\rDownloading alphafold2_multimer_v3 weights to /root/.cache/colabfold:  83%|████████▎ | 3.17G/3.82G [02:34<00:44, 15.7MB/s]\rDownloading alphafold2_multimer_v3 weights to /root/.cache/colabfold:  83%|████████▎ | 3.17G/3.82G [02:34<00:43, 15.8MB/s]\rDownloading alphafold2_multimer_v3 weights to /root/.cache/colabfold:  83%|████████▎ | 3.18G/3.82G [02:34<00:38, 17.7MB/s]\rDownloading alphafold2_multimer_v3 weights to /root/.cache/colabfold:  83%|████████▎ | 3.18G/3.82G [02:34<00:35, 19.2MB/s]\rDownloading alphafold2_multimer_v3 weights to /root/.cache/colabfold:  83%|████████▎ | 3.18G/3.82G [02:35<00:33, 20.3MB/s]\rDownloading alphafold2_multimer_v3 weights to /root/.cache/colabfold:  83%|████████▎ | 3.19G/3.82G [02:35<00:32, 21.1MB/s]\rDownloading alphafold2_multimer_v3 weights to /root/.cache/colabfold:  84%|████████▎ | 3.19G/3.82G [02:35<00:31, 21.6MB/s]\rDownloading alphafold2_multimer_v3 weights to /root/.cache/colabfold:  84%|████████▎ | 3.19G/3.82G [02:35<00:30, 22.0MB/s]\rDownloading alphafold2_multimer_v3 weights to /root/.cache/colabfold:  84%|████████▍ | 3.20G/3.82G [02:35<00:29, 22.2MB/s]\rDownloading alphafold2_multimer_v3 weights to /root/.cache/colabfold:  84%|████████▍ | 3.20G/3.82G [02:35<00:29, 22.4MB/s]\rDownloading alphafold2_multimer_v3 weights to /root/.cache/colabfold:  84%|████████▍ | 3.21G/3.82G [02:36<00:29, 22.6MB/s]\rDownloading alphafold2_multimer_v3 weights to /root/.cache/colabfold:  84%|████████▍ | 3.21G/3.82G [02:36<00:28, 22.6MB/s]\rDownloading alphafold2_multimer_v3 weights to /root/.cache/colabfold:  84%|████████▍ | 3.21G/3.82G [02:36<00:29, 21.7MB/s]\rDownloading alphafold2_multimer_v3 weights to /root/.cache/colabfold:  84%|████████▍ | 3.22G/3.82G [02:36<00:30, 21.3MB/s]\rDownloading alphafold2_multimer_v3 weights to /root/.cache/colabfold:  84%|████████▍ | 3.22G/3.82G [02:36<00:29, 21.8MB/s]\rDownloading alphafold2_multimer_v3 weights to /root/.cache/colabfold:  84%|████████▍ | 3.22G/3.82G [02:36<00:28, 22.1MB/s]\rDownloading alphafold2_multimer_v3 weights to /root/.cache/colabfold:  85%|████████▍ | 3.23G/3.82G [02:37<00:28, 22.3MB/s]\rDownloading alphafold2_multimer_v3 weights to /root/.cache/colabfold:  85%|████████▍ | 3.23G/3.82G [02:37<00:28, 22.5MB/s]\rDownloading alphafold2_multimer_v3 weights to /root/.cache/colabfold:  85%|████████▍ | 3.23G/3.82G [02:37<00:27, 22.6MB/s]\rDownloading alphafold2_multimer_v3 weights to /root/.cache/colabfold:  85%|████████▍ | 3.24G/3.82G [02:37<00:27, 22.7MB/s]\rDownloading alphafold2_multimer_v3 weights to /root/.cache/colabfold:  85%|████████▍ | 3.24G/3.82G [02:37<00:27, 22.7MB/s]\rDownloading alphafold2_multimer_v3 weights to /root/.cache/colabfold:  85%|████████▍ | 3.24G/3.82G [02:37<00:27, 22.8MB/s]\rDownloading alphafold2_multimer_v3 weights to /root/.cache/colabfold:  85%|████████▌ | 3.25G/3.82G [02:38<00:26, 22.8MB/s]\rDownloading alphafold2_multimer_v3 weights to /root/.cache/colabfold:  85%|████████▌ | 3.25G/3.82G [02:38<00:26, 22.8MB/s]\rDownloading alphafold2_multimer_v3 weights to /root/.cache/colabfold:  85%|████████▌ | 3.25G/3.82G [02:38<00:26, 22.8MB/s]\rDownloading alphafold2_multimer_v3 weights to /root/.cache/colabfold:  85%|████████▌ | 3.26G/3.82G [02:38<00:26, 22.8MB/s]\rDownloading alphafold2_multimer_v3 weights to /root/.cache/colabfold:  85%|████████▌ | 3.26G/3.82G [02:38<00:26, 22.9MB/s]\rDownloading alphafold2_multimer_v3 weights to /root/.cache/colabfold:  86%|████████▌ | 3.27G/3.82G [02:38<00:25, 22.9MB/s]\rDownloading alphafold2_multimer_v3 weights to /root/.cache/colabfold:  86%|████████▌ | 3.27G/3.82G [02:39<00:25, 22.8MB/s]\rDownloading alphafold2_multimer_v3 weights to /root/.cache/colabfold:  86%|████████▌ | 3.27G/3.82G [02:39<00:25, 22.8MB/s]\rDownloading alphafold2_multimer_v3 weights to /root/.cache/colabfold:  86%|████████▌ | 3.28G/3.82G [02:39<00:25, 22.9MB/s]\rDownloading alphafold2_multimer_v3 weights to /root/.cache/colabfold:  86%|████████▌ | 3.28G/3.82G [02:39<00:25, 22.9MB/s]\rDownloading alphafold2_multimer_v3 weights to /root/.cache/colabfold:  86%|████████▌ | 3.28G/3.82G [02:39<00:25, 22.9MB/s]\rDownloading alphafold2_multimer_v3 weights to /root/.cache/colabfold:  86%|████████▌ | 3.29G/3.82G [02:39<00:24, 22.9MB/s]\rDownloading alphafold2_multimer_v3 weights to /root/.cache/colabfold:  86%|████████▌ | 3.29G/3.82G [02:40<00:24, 22.9MB/s]\rDownloading alphafold2_multimer_v3 weights to /root/.cache/colabfold:  86%|████████▋ | 3.29G/3.82G [02:40<00:24, 22.9MB/s]\rDownloading alphafold2_multimer_v3 weights to /root/.cache/colabfold:  86%|████████▋ | 3.30G/3.82G [02:40<00:24, 22.9MB/s]\rDownloading alphafold2_multimer_v3 weights to /root/.cache/colabfold:  86%|████████▋ | 3.30G/3.82G [02:40<00:24, 22.9MB/s]\rDownloading alphafold2_multimer_v3 weights to /root/.cache/colabfold:  87%|████████▋ | 3.30G/3.82G [02:40<00:24, 22.8MB/s]\rDownloading alphafold2_multimer_v3 weights to /root/.cache/colabfold:  87%|████████▋ | 3.31G/3.82G [02:40<00:23, 22.9MB/s]\rDownloading alphafold2_multimer_v3 weights to /root/.cache/colabfold:  87%|████████▋ | 3.31G/3.82G [02:41<00:23, 22.9MB/s]\rDownloading alphafold2_multimer_v3 weights to /root/.cache/colabfold:  87%|████████▋ | 3.32G/3.82G [02:41<00:23, 22.8MB/s]\rDownloading alphafold2_multimer_v3 weights to /root/.cache/colabfold:  87%|████████▋ | 3.32G/3.82G [02:41<00:24, 21.8MB/s]\rDownloading alphafold2_multimer_v3 weights to /root/.cache/colabfold:  87%|████████▋ | 3.32G/3.82G [02:41<00:27, 19.3MB/s]\rDownloading alphafold2_multimer_v3 weights to /root/.cache/colabfold:  87%|████████▋ | 3.32G/3.82G [02:41<00:30, 17.3MB/s]\rDownloading alphafold2_multimer_v3 weights to /root/.cache/colabfold:  87%|████████▋ | 3.33G/3.82G [02:41<00:27, 18.9MB/s]\rDownloading alphafold2_multimer_v3 weights to /root/.cache/colabfold:  87%|████████▋ | 3.33G/3.82G [02:42<00:26, 20.1MB/s]\rDownloading alphafold2_multimer_v3 weights to /root/.cache/colabfold:  87%|████████▋ | 3.33G/3.82G [02:42<00:25, 20.2MB/s]\rDownloading alphafold2_multimer_v3 weights to /root/.cache/colabfold:  87%|████████▋ | 3.34G/3.82G [02:42<00:32, 16.2MB/s]\rDownloading alphafold2_multimer_v3 weights to /root/.cache/colabfold:  87%|████████▋ | 3.34G/3.82G [02:42<00:30, 17.1MB/s]\rDownloading alphafold2_multimer_v3 weights to /root/.cache/colabfold:  88%|████████▊ | 3.34G/3.82G [02:42<00:27, 18.8MB/s]\rDownloading alphafold2_multimer_v3 weights to /root/.cache/colabfold:  88%|████████▊ | 3.35G/3.82G [02:42<00:25, 20.0MB/s]\rDownloading alphafold2_multimer_v3 weights to /root/.cache/colabfold:  88%|████████▊ | 3.35G/3.82G [02:43<00:24, 20.8MB/s]\rDownloading alphafold2_multimer_v3 weights to /root/.cache/colabfold:  88%|████████▊ | 3.35G/3.82G [02:43<00:23, 21.5MB/s]\rDownloading alphafold2_multimer_v3 weights to /root/.cache/colabfold:  88%|████████▊ | 3.36G/3.82G [02:43<00:22, 21.9MB/s]\rDownloading alphafold2_multimer_v3 weights to /root/.cache/colabfold:  88%|████████▊ | 3.36G/3.82G [02:43<00:22, 22.2MB/s]\rDownloading alphafold2_multimer_v3 weights to /root/.cache/colabfold:  88%|████████▊ | 3.36G/3.82G [02:43<00:21, 22.4MB/s]\rDownloading alphafold2_multimer_v3 weights to /root/.cache/colabfold:  88%|████████▊ | 3.37G/3.82G [02:44<00:21, 22.6MB/s]\rDownloading alphafold2_multimer_v3 weights to /root/.cache/colabfold:  88%|████████▊ | 3.37G/3.82G [02:44<00:21, 22.6MB/s]\rDownloading alphafold2_multimer_v3 weights to /root/.cache/colabfold:  88%|████████▊ | 3.37G/3.82G [02:44<00:20, 22.7MB/s]\rDownloading alphafold2_multimer_v3 weights to /root/.cache/colabfold:  88%|████████▊ | 3.38G/3.82G [02:44<00:20, 22.8MB/s]\rDownloading alphafold2_multimer_v3 weights to /root/.cache/colabfold:  89%|████████▊ | 3.38G/3.82G [02:44<00:20, 22.8MB/s]\rDownloading alphafold2_multimer_v3 weights to /root/.cache/colabfold:  89%|████████▊ | 3.38G/3.82G [02:44<00:20, 22.8MB/s]\rDownloading alphafold2_multimer_v3 weights to /root/.cache/colabfold:  89%|████████▊ | 3.39G/3.82G [02:45<00:20, 22.8MB/s]\rDownloading alphafold2_multimer_v3 weights to /root/.cache/colabfold:  89%|████████▉ | 3.39G/3.82G [02:45<00:20, 22.9MB/s]\rDownloading alphafold2_multimer_v3 weights to /root/.cache/colabfold:  89%|████████▉ | 3.39G/3.82G [02:45<00:19, 22.8MB/s]\rDownloading alphafold2_multimer_v3 weights to /root/.cache/colabfold:  89%|████████▉ | 3.40G/3.82G [02:45<00:19, 22.8MB/s]\rDownloading alphafold2_multimer_v3 weights to /root/.cache/colabfold:  89%|████████▉ | 3.40G/3.82G [02:45<00:19, 22.8MB/s]\rDownloading alphafold2_multimer_v3 weights to /root/.cache/colabfold:  89%|████████▉ | 3.41G/3.82G [02:45<00:19, 22.8MB/s]\rDownloading alphafold2_multimer_v3 weights to /root/.cache/colabfold:  89%|████████▉ | 3.41G/3.82G [02:46<00:19, 22.8MB/s]\rDownloading alphafold2_multimer_v3 weights to /root/.cache/colabfold:  89%|████████▉ | 3.41G/3.82G [02:46<00:19, 22.8MB/s]\rDownloading alphafold2_multimer_v3 weights to /root/.cache/colabfold:  89%|████████▉ | 3.42G/3.82G [02:46<00:18, 22.8MB/s]\rDownloading alphafold2_multimer_v3 weights to /root/.cache/colabfold:  90%|████████▉ | 3.42G/3.82G [02:46<00:18, 22.8MB/s]\rDownloading alphafold2_multimer_v3 weights to /root/.cache/colabfold:  90%|████████▉ | 3.42G/3.82G [02:46<00:18, 22.8MB/s]\rDownloading alphafold2_multimer_v3 weights to /root/.cache/colabfold:  90%|████████▉ | 3.43G/3.82G [02:46<00:18, 22.8MB/s]\rDownloading alphafold2_multimer_v3 weights to /root/.cache/colabfold:  90%|████████▉ | 3.43G/3.82G [02:47<00:18, 22.8MB/s]\rDownloading alphafold2_multimer_v3 weights to /root/.cache/colabfold:  90%|████████▉ | 3.43G/3.82G [02:47<00:18, 22.8MB/s]\rDownloading alphafold2_multimer_v3 weights to /root/.cache/colabfold:  90%|█████████ | 3.44G/3.82G [02:47<00:17, 22.8MB/s]\rDownloading alphafold2_multimer_v3 weights to /root/.cache/colabfold:  90%|█████████ | 3.44G/3.82G [02:47<00:17, 22.8MB/s]\rDownloading alphafold2_multimer_v3 weights to /root/.cache/colabfold:  90%|█████████ | 3.44G/3.82G [02:47<00:17, 22.8MB/s]\rDownloading alphafold2_multimer_v3 weights to /root/.cache/colabfold:  90%|█████████ | 3.45G/3.82G [02:47<00:17, 22.8MB/s]\rDownloading alphafold2_multimer_v3 weights to /root/.cache/colabfold:  90%|█████████ | 3.45G/3.82G [02:48<00:17, 22.9MB/s]\rDownloading alphafold2_multimer_v3 weights to /root/.cache/colabfold:  90%|█████████ | 3.46G/3.82G [02:48<00:17, 22.8MB/s]\rDownloading alphafold2_multimer_v3 weights to /root/.cache/colabfold:  91%|█████████ | 3.46G/3.82G [02:48<00:16, 22.8MB/s]\rDownloading alphafold2_multimer_v3 weights to /root/.cache/colabfold:  91%|█████████ | 3.46G/3.82G [02:48<00:19, 20.1MB/s]\rDownloading alphafold2_multimer_v3 weights to /root/.cache/colabfold:  91%|█████████ | 3.46G/3.82G [02:48<00:21, 17.7MB/s]\rDownloading alphafold2_multimer_v3 weights to /root/.cache/colabfold:  91%|█████████ | 3.47G/3.82G [02:48<00:19, 19.1MB/s]\rDownloading alphafold2_multimer_v3 weights to /root/.cache/colabfold:  91%|█████████ | 3.47G/3.82G [02:49<00:19, 19.5MB/s]\rDownloading alphafold2_multimer_v3 weights to /root/.cache/colabfold:  91%|█████████ | 3.47G/3.82G [02:49<00:18, 20.5MB/s]\rDownloading alphafold2_multimer_v3 weights to /root/.cache/colabfold:  91%|█████████ | 3.48G/3.82G [02:49<00:17, 21.2MB/s]\rDownloading alphafold2_multimer_v3 weights to /root/.cache/colabfold:  91%|█████████ | 3.48G/3.82G [02:49<00:16, 21.7MB/s]\rDownloading alphafold2_multimer_v3 weights to /root/.cache/colabfold:  91%|█████████ | 3.48G/3.82G [02:49<00:16, 22.0MB/s]\rDownloading alphafold2_multimer_v3 weights to /root/.cache/colabfold:  91%|█████████▏| 3.49G/3.82G [02:49<00:15, 22.3MB/s]\rDownloading alphafold2_multimer_v3 weights to /root/.cache/colabfold:  91%|█████████▏| 3.49G/3.82G [02:50<00:15, 22.5MB/s]\rDownloading alphafold2_multimer_v3 weights to /root/.cache/colabfold:  92%|█████████▏| 3.49G/3.82G [02:50<00:15, 22.6MB/s]\rDownloading alphafold2_multimer_v3 weights to /root/.cache/colabfold:  92%|█████████▏| 3.50G/3.82G [02:50<00:15, 22.7MB/s]\rDownloading alphafold2_multimer_v3 weights to /root/.cache/colabfold:  92%|█████████▏| 3.50G/3.82G [02:50<00:14, 22.7MB/s]\rDownloading alphafold2_multimer_v3 weights to /root/.cache/colabfold:  92%|█████████▏| 3.51G/3.82G [02:50<00:14, 22.8MB/s]\rDownloading alphafold2_multimer_v3 weights to /root/.cache/colabfold:  92%|█████████▏| 3.51G/3.82G [02:50<00:14, 22.8MB/s]\rDownloading alphafold2_multimer_v3 weights to /root/.cache/colabfold:  92%|█████████▏| 3.51G/3.82G [02:51<00:14, 22.8MB/s]\rDownloading alphafold2_multimer_v3 weights to /root/.cache/colabfold:  92%|█████████▏| 3.52G/3.82G [02:51<00:14, 22.8MB/s]\rDownloading alphafold2_multimer_v3 weights to /root/.cache/colabfold:  92%|█████████▏| 3.52G/3.82G [02:51<00:14, 22.9MB/s]\rDownloading alphafold2_multimer_v3 weights to /root/.cache/colabfold:  92%|█████████▏| 3.52G/3.82G [02:51<00:13, 22.8MB/s]\rDownloading alphafold2_multimer_v3 weights to /root/.cache/colabfold:  92%|█████████▏| 3.53G/3.82G [02:51<00:13, 22.9MB/s]\rDownloading alphafold2_multimer_v3 weights to /root/.cache/colabfold:  92%|█████████▏| 3.53G/3.82G [02:51<00:13, 22.9MB/s]\rDownloading alphafold2_multimer_v3 weights to /root/.cache/colabfold:  93%|█████████▎| 3.53G/3.82G [02:52<00:13, 22.8MB/s]\rDownloading alphafold2_multimer_v3 weights to /root/.cache/colabfold:  93%|█████████▎| 3.54G/3.82G [02:52<00:13, 22.9MB/s]\rDownloading alphafold2_multimer_v3 weights to /root/.cache/colabfold:  93%|█████████▎| 3.54G/3.82G [02:52<00:13, 22.8MB/s]\rDownloading alphafold2_multimer_v3 weights to /root/.cache/colabfold:  93%|█████████▎| 3.54G/3.82G [02:52<00:12, 22.9MB/s]\rDownloading alphafold2_multimer_v3 weights to /root/.cache/colabfold:  93%|█████████▎| 3.55G/3.82G [02:52<00:12, 22.8MB/s]\rDownloading alphafold2_multimer_v3 weights to /root/.cache/colabfold:  93%|█████████▎| 3.55G/3.82G [02:52<00:12, 22.9MB/s]\rDownloading alphafold2_multimer_v3 weights to /root/.cache/colabfold:  93%|█████████▎| 3.55G/3.82G [02:53<00:12, 22.9MB/s]\rDownloading alphafold2_multimer_v3 weights to /root/.cache/colabfold:  93%|█████████▎| 3.56G/3.82G [02:53<00:12, 22.9MB/s]\rDownloading alphafold2_multimer_v3 weights to /root/.cache/colabfold:  93%|█████████▎| 3.56G/3.82G [02:53<00:12, 22.8MB/s]\rDownloading alphafold2_multimer_v3 weights to /root/.cache/colabfold:  93%|█████████▎| 3.57G/3.82G [02:53<00:11, 22.9MB/s]\rDownloading alphafold2_multimer_v3 weights to /root/.cache/colabfold:  93%|█████████▎| 3.57G/3.82G [02:53<00:11, 22.9MB/s]\rDownloading alphafold2_multimer_v3 weights to /root/.cache/colabfold:  94%|█████████▎| 3.57G/3.82G [02:53<00:11, 22.9MB/s]\rDownloading alphafold2_multimer_v3 weights to /root/.cache/colabfold:  94%|█████████▎| 3.58G/3.82G [02:54<00:11, 22.9MB/s]\rDownloading alphafold2_multimer_v3 weights to /root/.cache/colabfold:  94%|█████████▍| 3.58G/3.82G [02:54<00:11, 22.9MB/s]\rDownloading alphafold2_multimer_v3 weights to /root/.cache/colabfold:  94%|█████████▍| 3.58G/3.82G [02:54<00:11, 22.9MB/s]\rDownloading alphafold2_multimer_v3 weights to /root/.cache/colabfold:  94%|█████████▍| 3.59G/3.82G [02:54<00:10, 22.9MB/s]\rDownloading alphafold2_multimer_v3 weights to /root/.cache/colabfold:  94%|█████████▍| 3.59G/3.82G [02:54<00:10, 22.9MB/s]\rDownloading alphafold2_multimer_v3 weights to /root/.cache/colabfold:  94%|█████████▍| 3.59G/3.82G [02:54<00:10, 22.9MB/s]\rDownloading alphafold2_multimer_v3 weights to /root/.cache/colabfold:  94%|█████████▍| 3.60G/3.82G [02:55<00:10, 22.9MB/s]\rDownloading alphafold2_multimer_v3 weights to /root/.cache/colabfold:  94%|█████████▍| 3.60G/3.82G [02:55<00:10, 22.9MB/s]\rDownloading alphafold2_multimer_v3 weights to /root/.cache/colabfold:  94%|█████████▍| 3.60G/3.82G [02:55<00:10, 22.9MB/s]\rDownloading alphafold2_multimer_v3 weights to /root/.cache/colabfold:  95%|█████████▍| 3.61G/3.82G [02:55<00:09, 22.9MB/s]\rDownloading alphafold2_multimer_v3 weights to /root/.cache/colabfold:  95%|█████████▍| 3.61G/3.82G [02:55<00:09, 22.9MB/s]\rDownloading alphafold2_multimer_v3 weights to /root/.cache/colabfold:  95%|█████████▍| 3.62G/3.82G [02:55<00:10, 21.0MB/s]\rDownloading alphafold2_multimer_v3 weights to /root/.cache/colabfold:  95%|█████████▍| 3.62G/3.82G [02:56<00:10, 20.9MB/s]\rDownloading alphafold2_multimer_v3 weights to /root/.cache/colabfold:  95%|█████████▍| 3.62G/3.82G [02:56<00:09, 21.5MB/s]\rDownloading alphafold2_multimer_v3 weights to /root/.cache/colabfold:  95%|█████████▍| 3.63G/3.82G [02:56<00:09, 21.9MB/s]\rDownloading alphafold2_multimer_v3 weights to /root/.cache/colabfold:  95%|█████████▌| 3.63G/3.82G [02:56<00:09, 22.1MB/s]\rDownloading alphafold2_multimer_v3 weights to /root/.cache/colabfold:  95%|█████████▌| 3.63G/3.82G [02:56<00:09, 21.3MB/s]\rDownloading alphafold2_multimer_v3 weights to /root/.cache/colabfold:  95%|█████████▌| 3.63G/3.82G [02:56<00:10, 18.9MB/s]\rDownloading alphafold2_multimer_v3 weights to /root/.cache/colabfold:  95%|█████████▌| 3.64G/3.82G [02:57<00:11, 17.1MB/s]\rDownloading alphafold2_multimer_v3 weights to /root/.cache/colabfold:  95%|█████████▌| 3.64G/3.82G [02:57<00:10, 18.8MB/s]\rDownloading alphafold2_multimer_v3 weights to /root/.cache/colabfold:  95%|█████████▌| 3.64G/3.82G [02:57<00:09, 20.0MB/s]\rDownloading alphafold2_multimer_v3 weights to /root/.cache/colabfold:  96%|█████████▌| 3.65G/3.82G [02:57<00:08, 20.9MB/s]\rDownloading alphafold2_multimer_v3 weights to /root/.cache/colabfold:  96%|█████████▌| 3.65G/3.82G [02:57<00:08, 21.5MB/s]\rDownloading alphafold2_multimer_v3 weights to /root/.cache/colabfold:  96%|█████████▌| 3.65G/3.82G [02:57<00:08, 21.9MB/s]\rDownloading alphafold2_multimer_v3 weights to /root/.cache/colabfold:  96%|█████████▌| 3.66G/3.82G [02:58<00:07, 22.2MB/s]\rDownloading alphafold2_multimer_v3 weights to /root/.cache/colabfold:  96%|█████████▌| 3.66G/3.82G [02:58<00:07, 22.4MB/s]\rDownloading alphafold2_multimer_v3 weights to /root/.cache/colabfold:  96%|█████████▌| 3.67G/3.82G [02:58<00:07, 22.6MB/s]\rDownloading alphafold2_multimer_v3 weights to /root/.cache/colabfold:  96%|█████████▌| 3.67G/3.82G [02:58<00:07, 22.6MB/s]\rDownloading alphafold2_multimer_v3 weights to /root/.cache/colabfold:  96%|█████████▌| 3.67G/3.82G [02:58<00:06, 22.7MB/s]\rDownloading alphafold2_multimer_v3 weights to /root/.cache/colabfold:  96%|█████████▋| 3.68G/3.82G [02:58<00:06, 22.7MB/s]\rDownloading alphafold2_multimer_v3 weights to /root/.cache/colabfold:  96%|█████████▋| 3.68G/3.82G [02:59<00:06, 22.7MB/s]\rDownloading alphafold2_multimer_v3 weights to /root/.cache/colabfold:  96%|█████████▋| 3.68G/3.82G [02:59<00:06, 22.8MB/s]\rDownloading alphafold2_multimer_v3 weights to /root/.cache/colabfold:  97%|█████████▋| 3.69G/3.82G [02:59<00:06, 22.9MB/s]\rDownloading alphafold2_multimer_v3 weights to /root/.cache/colabfold:  97%|█████████▋| 3.69G/3.82G [02:59<00:06, 22.9MB/s]\rDownloading alphafold2_multimer_v3 weights to /root/.cache/colabfold:  97%|█████████▋| 3.69G/3.82G [02:59<00:05, 22.9MB/s]\rDownloading alphafold2_multimer_v3 weights to /root/.cache/colabfold:  97%|█████████▋| 3.70G/3.82G [02:59<00:05, 22.8MB/s]\rDownloading alphafold2_multimer_v3 weights to /root/.cache/colabfold:  97%|█████████▋| 3.70G/3.82G [03:00<00:05, 22.9MB/s]\rDownloading alphafold2_multimer_v3 weights to /root/.cache/colabfold:  97%|█████████▋| 3.70G/3.82G [03:00<00:05, 22.8MB/s]\rDownloading alphafold2_multimer_v3 weights to /root/.cache/colabfold:  97%|█████████▋| 3.71G/3.82G [03:00<00:05, 22.9MB/s]\rDownloading alphafold2_multimer_v3 weights to /root/.cache/colabfold:  97%|█████████▋| 3.71G/3.82G [03:00<00:05, 22.9MB/s]\rDownloading alphafold2_multimer_v3 weights to /root/.cache/colabfold:  97%|█████████▋| 3.72G/3.82G [03:00<00:04, 22.8MB/s]\rDownloading alphafold2_multimer_v3 weights to /root/.cache/colabfold:  97%|█████████▋| 3.72G/3.82G [03:00<00:04, 22.9MB/s]\rDownloading alphafold2_multimer_v3 weights to /root/.cache/colabfold:  97%|█████████▋| 3.72G/3.82G [03:01<00:04, 22.9MB/s]\rDownloading alphafold2_multimer_v3 weights to /root/.cache/colabfold:  98%|█████████▊| 3.73G/3.82G [03:01<00:04, 22.9MB/s]\rDownloading alphafold2_multimer_v3 weights to /root/.cache/colabfold:  98%|█████████▊| 3.73G/3.82G [03:01<00:04, 22.9MB/s]\rDownloading alphafold2_multimer_v3 weights to /root/.cache/colabfold:  98%|█████████▊| 3.73G/3.82G [03:01<00:03, 22.9MB/s]\rDownloading alphafold2_multimer_v3 weights to /root/.cache/colabfold:  98%|█████████▊| 3.74G/3.82G [03:01<00:03, 22.9MB/s]\rDownloading alphafold2_multimer_v3 weights to /root/.cache/colabfold:  98%|█████████▊| 3.74G/3.82G [03:01<00:03, 22.9MB/s]\rDownloading alphafold2_multimer_v3 weights to /root/.cache/colabfold:  98%|█████████▊| 3.74G/3.82G [03:02<00:03, 22.9MB/s]\rDownloading alphafold2_multimer_v3 weights to /root/.cache/colabfold:  98%|█████████▊| 3.75G/3.82G [03:02<00:03, 22.9MB/s]\rDownloading alphafold2_multimer_v3 weights to /root/.cache/colabfold:  98%|█████████▊| 3.75G/3.82G [03:02<00:03, 22.9MB/s]\rDownloading alphafold2_multimer_v3 weights to /root/.cache/colabfold:  98%|█████████▊| 3.75G/3.82G [03:02<00:03, 22.2MB/s]\rDownloading alphafold2_multimer_v3 weights to /root/.cache/colabfold:  98%|█████████▊| 3.76G/3.82G [03:02<00:02, 22.4MB/s]\rDownloading alphafold2_multimer_v3 weights to /root/.cache/colabfold:  99%|█████████▊| 3.76G/3.82G [03:02<00:02, 22.6MB/s]\rDownloading alphafold2_multimer_v3 weights to /root/.cache/colabfold:  99%|█████████▊| 3.76G/3.82G [03:03<00:02, 22.6MB/s]\rDownloading alphafold2_multimer_v3 weights to /root/.cache/colabfold:  99%|█████████▊| 3.77G/3.82G [03:03<00:02, 22.7MB/s]\rDownloading alphafold2_multimer_v3 weights to /root/.cache/colabfold:  99%|█████████▉| 3.77G/3.82G [03:03<00:02, 22.8MB/s]\rDownloading alphafold2_multimer_v3 weights to /root/.cache/colabfold:  99%|█████████▉| 3.78G/3.82G [03:03<00:02, 22.8MB/s]\rDownloading alphafold2_multimer_v3 weights to /root/.cache/colabfold:  99%|█████████▉| 3.78G/3.82G [03:03<00:02, 20.0MB/s]\rDownloading alphafold2_multimer_v3 weights to /root/.cache/colabfold:  99%|█████████▉| 3.78G/3.82G [03:03<00:02, 17.7MB/s]\rDownloading alphafold2_multimer_v3 weights to /root/.cache/colabfold:  99%|█████████▉| 3.78G/3.82G [03:04<00:01, 19.3MB/s]\rDownloading alphafold2_multimer_v3 weights to /root/.cache/colabfold:  99%|█████████▉| 3.79G/3.82G [03:04<00:01, 20.4MB/s]\rDownloading alphafold2_multimer_v3 weights to /root/.cache/colabfold:  99%|█████████▉| 3.79G/3.82G [03:04<00:01, 21.1MB/s]\rDownloading alphafold2_multimer_v3 weights to /root/.cache/colabfold:  99%|█████████▉| 3.79G/3.82G [03:04<00:01, 21.7MB/s]\rDownloading alphafold2_multimer_v3 weights to /root/.cache/colabfold:  99%|█████████▉| 3.80G/3.82G [03:04<00:01, 22.0MB/s]\rDownloading alphafold2_multimer_v3 weights to /root/.cache/colabfold: 100%|█████████▉| 3.80G/3.82G [03:04<00:00, 22.3MB/s]\rDownloading alphafold2_multimer_v3 weights to /root/.cache/colabfold: 100%|█████████▉| 3.80G/3.82G [03:05<00:00, 22.5MB/s]\rDownloading alphafold2_multimer_v3 weights to /root/.cache/colabfold: 100%|█████████▉| 3.81G/3.82G [03:05<00:00, 22.6MB/s]\rDownloading alphafold2_multimer_v3 weights to /root/.cache/colabfold: 100%|█████████▉| 3.81G/3.82G [03:05<00:00, 22.7MB/s]\rDownloading alphafold2_multimer_v3 weights to /root/.cache/colabfold: 100%|█████████▉| 3.81G/3.82G [03:05<00:00, 16.4MB/s]\rDownloading alphafold2_multimer_v3 weights to /root/.cache/colabfold: 100%|█████████▉| 3.82G/3.82G [03:05<00:00, 18.0MB/s]\rDownloading alphafold2_multimer_v3 weights to /root/.cache/colabfold: 100%|██████████| 3.82G/3.82G [03:05<00:00, 22.0MB/s]\n",
            "\rDownloading AlphaFold2-ptm weights to /root/.cache/colabfold:   0%|          | 0/3722752000 [00:00<?, ?it/s]\rDownloading AlphaFold2-ptm weights to /root/.cache/colabfold:   0%|          | 50.0k/3.47G [00:00<4:13:57, 244kB/s]\rDownloading AlphaFold2-ptm weights to /root/.cache/colabfold:   0%|          | 80.0k/3.47G [00:00<5:05:46, 203kB/s]\rDownloading AlphaFold2-ptm weights to /root/.cache/colabfold:   0%|          | 160k/3.47G [00:00<3:01:19, 342kB/s] \rDownloading AlphaFold2-ptm weights to /root/.cache/colabfold:   0%|          | 240k/3.47G [00:00<2:13:51, 464kB/s]\rDownloading AlphaFold2-ptm weights to /root/.cache/colabfold:   0%|          | 360k/3.47G [00:00<1:32:09, 673kB/s]\rDownloading AlphaFold2-ptm weights to /root/.cache/colabfold:   0%|          | 530k/3.47G [00:00<1:04:20, 964kB/s]\rDownloading AlphaFold2-ptm weights to /root/.cache/colabfold:   0%|          | 770k/3.47G [00:00<45:00, 1.38MB/s] \rDownloading AlphaFold2-ptm weights to /root/.cache/colabfold:   0%|          | 1.14M/3.47G [00:01<28:55, 2.14MB/s]\rDownloading AlphaFold2-ptm weights to /root/.cache/colabfold:   0%|          | 1.68M/3.47G [00:01<19:40, 3.15MB/s]\rDownloading AlphaFold2-ptm weights to /root/.cache/colabfold:   0%|          | 2.52M/3.47G [00:01<12:54, 4.80MB/s]\rDownloading AlphaFold2-ptm weights to /root/.cache/colabfold:   0%|          | 3.80M/3.47G [00:01<08:28, 7.31MB/s]\rDownloading AlphaFold2-ptm weights to /root/.cache/colabfold:   0%|          | 5.58M/3.47G [00:01<05:48, 10.7MB/s]\rDownloading AlphaFold2-ptm weights to /root/.cache/colabfold:   0%|          | 8.09M/3.47G [00:01<04:10, 14.8MB/s]\rDownloading AlphaFold2-ptm weights to /root/.cache/colabfold:   0%|          | 10.5M/3.47G [00:01<03:28, 17.8MB/s]\rDownloading AlphaFold2-ptm weights to /root/.cache/colabfold:   0%|          | 12.5M/3.47G [00:01<03:18, 18.7MB/s]\rDownloading AlphaFold2-ptm weights to /root/.cache/colabfold:   0%|          | 15.3M/3.47G [00:01<02:52, 21.5MB/s]\rDownloading AlphaFold2-ptm weights to /root/.cache/colabfold:   0%|          | 17.3M/3.47G [00:01<02:52, 21.5MB/s]\rDownloading AlphaFold2-ptm weights to /root/.cache/colabfold:   1%|          | 19.5M/3.47G [00:02<02:53, 21.3MB/s]\rDownloading AlphaFold2-ptm weights to /root/.cache/colabfold:   1%|          | 22.2M/3.47G [00:02<02:38, 23.3MB/s]\rDownloading AlphaFold2-ptm weights to /root/.cache/colabfold:   1%|          | 24.4M/3.47G [00:02<02:46, 22.2MB/s]\rDownloading AlphaFold2-ptm weights to /root/.cache/colabfold:   1%|          | 26.8M/3.47G [00:02<02:45, 22.3MB/s]\rDownloading AlphaFold2-ptm weights to /root/.cache/colabfold:   1%|          | 29.5M/3.47G [00:02<02:32, 24.2MB/s]\rDownloading AlphaFold2-ptm weights to /root/.cache/colabfold:   1%|          | 31.9M/3.47G [00:02<02:41, 22.9MB/s]\rDownloading AlphaFold2-ptm weights to /root/.cache/colabfold:   1%|          | 34.1M/3.47G [00:02<02:44, 22.4MB/s]\rDownloading AlphaFold2-ptm weights to /root/.cache/colabfold:   1%|          | 36.8M/3.47G [00:02<02:32, 24.2MB/s]\rDownloading AlphaFold2-ptm weights to /root/.cache/colabfold:   1%|          | 39.2M/3.47G [00:02<02:39, 23.1MB/s]\rDownloading AlphaFold2-ptm weights to /root/.cache/colabfold:   1%|          | 41.4M/3.47G [00:03<02:42, 22.6MB/s]\rDownloading AlphaFold2-ptm weights to /root/.cache/colabfold:   1%|          | 44.2M/3.47G [00:03<02:31, 24.3MB/s]\rDownloading AlphaFold2-ptm weights to /root/.cache/colabfold:   1%|▏         | 46.5M/3.47G [00:03<02:38, 23.1MB/s]\rDownloading AlphaFold2-ptm weights to /root/.cache/colabfold:   1%|▏         | 48.7M/3.47G [00:03<02:42, 22.6MB/s]\rDownloading AlphaFold2-ptm weights to /root/.cache/colabfold:   1%|▏         | 51.5M/3.47G [00:03<02:30, 24.3MB/s]\rDownloading AlphaFold2-ptm weights to /root/.cache/colabfold:   2%|▏         | 53.8M/3.47G [00:03<02:38, 23.1MB/s]\rDownloading AlphaFold2-ptm weights to /root/.cache/colabfold:   2%|▏         | 56.0M/3.47G [00:03<02:42, 22.6MB/s]\rDownloading AlphaFold2-ptm weights to /root/.cache/colabfold:   2%|▏         | 58.8M/3.47G [00:03<02:30, 24.2MB/s]\rDownloading AlphaFold2-ptm weights to /root/.cache/colabfold:   2%|▏         | 61.1M/3.47G [00:03<02:38, 23.1MB/s]\rDownloading AlphaFold2-ptm weights to /root/.cache/colabfold:   2%|▏         | 63.3M/3.47G [00:04<02:41, 22.6MB/s]\rDownloading AlphaFold2-ptm weights to /root/.cache/colabfold:   2%|▏         | 66.1M/3.47G [00:04<02:29, 24.4MB/s]\rDownloading AlphaFold2-ptm weights to /root/.cache/colabfold:   2%|▏         | 68.4M/3.47G [00:04<02:37, 23.1MB/s]\rDownloading AlphaFold2-ptm weights to /root/.cache/colabfold:   2%|▏         | 70.7M/3.47G [00:04<02:41, 22.7MB/s]\rDownloading AlphaFold2-ptm weights to /root/.cache/colabfold:   2%|▏         | 73.4M/3.47G [00:04<02:35, 23.5MB/s]\rDownloading AlphaFold2-ptm weights to /root/.cache/colabfold:   2%|▏         | 75.6M/3.47G [00:04<02:37, 23.1MB/s]\rDownloading AlphaFold2-ptm weights to /root/.cache/colabfold:   2%|▏         | 77.9M/3.47G [00:04<02:41, 22.6MB/s]\rDownloading AlphaFold2-ptm weights to /root/.cache/colabfold:   2%|▏         | 80.6M/3.47G [00:04<02:29, 24.3MB/s]\rDownloading AlphaFold2-ptm weights to /root/.cache/colabfold:   2%|▏         | 82.9M/3.47G [00:04<02:37, 23.1MB/s]\rDownloading AlphaFold2-ptm weights to /root/.cache/colabfold:   2%|▏         | 85.2M/3.47G [00:05<02:40, 22.6MB/s]\rDownloading AlphaFold2-ptm weights to /root/.cache/colabfold:   2%|▏         | 87.9M/3.47G [00:05<02:28, 24.4MB/s]\rDownloading AlphaFold2-ptm weights to /root/.cache/colabfold:   3%|▎         | 90.3M/3.47G [00:05<02:36, 23.2MB/s]\rDownloading AlphaFold2-ptm weights to /root/.cache/colabfold:   3%|▎         | 92.5M/3.47G [00:05<02:39, 22.7MB/s]\rDownloading AlphaFold2-ptm weights to /root/.cache/colabfold:   3%|▎         | 95.2M/3.47G [00:05<03:39, 16.5MB/s]\rDownloading AlphaFold2-ptm weights to /root/.cache/colabfold:   3%|▎         | 98.9M/3.47G [00:05<03:13, 18.7MB/s]\rDownloading AlphaFold2-ptm weights to /root/.cache/colabfold:   3%|▎         | 103M/3.47G [00:05<02:59, 20.1MB/s] \rDownloading AlphaFold2-ptm weights to /root/.cache/colabfold:   3%|▎         | 106M/3.47G [00:06<02:51, 21.1MB/s]\rDownloading AlphaFold2-ptm weights to /root/.cache/colabfold:   3%|▎         | 110M/3.47G [00:06<02:45, 21.8MB/s]\rDownloading AlphaFold2-ptm weights to /root/.cache/colabfold:   3%|▎         | 113M/3.47G [00:06<02:50, 21.1MB/s]\rDownloading AlphaFold2-ptm weights to /root/.cache/colabfold:   3%|▎         | 116M/3.47G [00:06<03:11, 18.8MB/s]\rDownloading AlphaFold2-ptm weights to /root/.cache/colabfold:   3%|▎         | 117M/3.47G [00:06<03:31, 17.0MB/s]\rDownloading AlphaFold2-ptm weights to /root/.cache/colabfold:   3%|▎         | 121M/3.47G [00:06<03:08, 19.1MB/s]\rDownloading AlphaFold2-ptm weights to /root/.cache/colabfold:   4%|▎         | 125M/3.47G [00:07<02:57, 20.3MB/s]\rDownloading AlphaFold2-ptm weights to /root/.cache/colabfold:   4%|▎         | 129M/3.47G [00:07<02:49, 21.2MB/s]\rDownloading AlphaFold2-ptm weights to /root/.cache/colabfold:   4%|▎         | 132M/3.47G [00:07<02:44, 21.8MB/s]\rDownloading AlphaFold2-ptm weights to /root/.cache/colabfold:   4%|▍         | 136M/3.47G [00:07<02:40, 22.2MB/s]\rDownloading AlphaFold2-ptm weights to /root/.cache/colabfold:   4%|▍         | 139M/3.47G [00:07<02:39, 22.5MB/s]\rDownloading AlphaFold2-ptm weights to /root/.cache/colabfold:   4%|▍         | 143M/3.47G [00:07<02:37, 22.7MB/s]\rDownloading AlphaFold2-ptm weights to /root/.cache/colabfold:   4%|▍         | 147M/3.47G [00:08<02:36, 22.8MB/s]\rDownloading AlphaFold2-ptm weights to /root/.cache/colabfold:   4%|▍         | 150M/3.47G [00:08<02:35, 22.9MB/s]\rDownloading AlphaFold2-ptm weights to /root/.cache/colabfold:   4%|▍         | 154M/3.47G [00:08<02:34, 23.0MB/s]\rDownloading AlphaFold2-ptm weights to /root/.cache/colabfold:   4%|▍         | 158M/3.47G [00:08<02:34, 23.1MB/s]\rDownloading AlphaFold2-ptm weights to /root/.cache/colabfold:   5%|▍         | 161M/3.47G [00:08<02:33, 23.1MB/s]\rDownloading AlphaFold2-ptm weights to /root/.cache/colabfold:   5%|▍         | 165M/3.47G [00:08<02:33, 23.2MB/s]\rDownloading AlphaFold2-ptm weights to /root/.cache/colabfold:   5%|▍         | 168M/3.47G [00:09<03:00, 19.7MB/s]\rDownloading AlphaFold2-ptm weights to /root/.cache/colabfold:   5%|▍         | 171M/3.47G [00:09<02:49, 20.9MB/s]\rDownloading AlphaFold2-ptm weights to /root/.cache/colabfold:   5%|▍         | 175M/3.47G [00:09<02:43, 21.6MB/s]\rDownloading AlphaFold2-ptm weights to /root/.cache/colabfold:   5%|▌         | 179M/3.47G [00:09<02:40, 22.1MB/s]\rDownloading AlphaFold2-ptm weights to /root/.cache/colabfold:   5%|▌         | 182M/3.47G [00:09<02:37, 22.4MB/s]\rDownloading AlphaFold2-ptm weights to /root/.cache/colabfold:   5%|▌         | 186M/3.47G [00:09<02:35, 22.7MB/s]\rDownloading AlphaFold2-ptm weights to /root/.cache/colabfold:   5%|▌         | 190M/3.47G [00:10<02:34, 22.8MB/s]\rDownloading AlphaFold2-ptm weights to /root/.cache/colabfold:   5%|▌         | 193M/3.47G [00:10<02:33, 23.0MB/s]\rDownloading AlphaFold2-ptm weights to /root/.cache/colabfold:   6%|▌         | 197M/3.47G [00:10<02:32, 23.0MB/s]\rDownloading AlphaFold2-ptm weights to /root/.cache/colabfold:   6%|▌         | 201M/3.47G [00:10<02:32, 23.1MB/s]\rDownloading AlphaFold2-ptm weights to /root/.cache/colabfold:   6%|▌         | 204M/3.47G [00:10<02:31, 23.1MB/s]\rDownloading AlphaFold2-ptm weights to /root/.cache/colabfold:   6%|▌         | 208M/3.47G [00:10<02:31, 23.1MB/s]\rDownloading AlphaFold2-ptm weights to /root/.cache/colabfold:   6%|▌         | 212M/3.47G [00:11<02:31, 23.2MB/s]\rDownloading AlphaFold2-ptm weights to /root/.cache/colabfold:   6%|▌         | 215M/3.47G [00:11<02:31, 23.2MB/s]\rDownloading AlphaFold2-ptm weights to /root/.cache/colabfold:   6%|▌         | 219M/3.47G [00:11<02:30, 23.2MB/s]\rDownloading AlphaFold2-ptm weights to /root/.cache/colabfold:   6%|▋         | 222M/3.47G [00:11<02:30, 23.2MB/s]\rDownloading AlphaFold2-ptm weights to /root/.cache/colabfold:   6%|▋         | 226M/3.47G [00:11<02:30, 23.2MB/s]\rDownloading AlphaFold2-ptm weights to /root/.cache/colabfold:   6%|▋         | 230M/3.47G [00:11<02:30, 23.2MB/s]\rDownloading AlphaFold2-ptm weights to /root/.cache/colabfold:   7%|▋         | 233M/3.47G [00:12<02:30, 23.2MB/s]\rDownloading AlphaFold2-ptm weights to /root/.cache/colabfold:   7%|▋         | 237M/3.47G [00:12<02:29, 23.2MB/s]\rDownloading AlphaFold2-ptm weights to /root/.cache/colabfold:   7%|▋         | 241M/3.47G [00:12<02:29, 23.2MB/s]\rDownloading AlphaFold2-ptm weights to /root/.cache/colabfold:   7%|▋         | 244M/3.47G [00:12<02:29, 23.2MB/s]\rDownloading AlphaFold2-ptm weights to /root/.cache/colabfold:   7%|▋         | 248M/3.47G [00:12<02:37, 22.0MB/s]\rDownloading AlphaFold2-ptm weights to /root/.cache/colabfold:   7%|▋         | 250M/3.47G [00:12<02:57, 19.5MB/s]\rDownloading AlphaFold2-ptm weights to /root/.cache/colabfold:   7%|▋         | 252M/3.47G [00:13<03:18, 17.4MB/s]\rDownloading AlphaFold2-ptm weights to /root/.cache/colabfold:   7%|▋         | 256M/3.47G [00:13<03:00, 19.2MB/s]\rDownloading AlphaFold2-ptm weights to /root/.cache/colabfold:   7%|▋         | 259M/3.47G [00:13<02:49, 20.4MB/s]\rDownloading AlphaFold2-ptm weights to /root/.cache/colabfold:   7%|▋         | 263M/3.47G [00:13<02:42, 21.2MB/s]\rDownloading AlphaFold2-ptm weights to /root/.cache/colabfold:   8%|▊         | 267M/3.47G [00:13<02:37, 21.8MB/s]\rDownloading AlphaFold2-ptm weights to /root/.cache/colabfold:   8%|▊         | 270M/3.47G [00:13<02:34, 22.2MB/s]\rDownloading AlphaFold2-ptm weights to /root/.cache/colabfold:   8%|▊         | 274M/3.47G [00:14<02:32, 22.5MB/s]\rDownloading AlphaFold2-ptm weights to /root/.cache/colabfold:   8%|▊         | 278M/3.47G [00:14<02:31, 22.7MB/s]\rDownloading AlphaFold2-ptm weights to /root/.cache/colabfold:   8%|▊         | 281M/3.47G [00:14<02:30, 22.8MB/s]\rDownloading AlphaFold2-ptm weights to /root/.cache/colabfold:   8%|▊         | 285M/3.47G [00:14<02:28, 23.0MB/s]\rDownloading AlphaFold2-ptm weights to /root/.cache/colabfold:   8%|▊         | 288M/3.47G [00:14<02:28, 23.0MB/s]\rDownloading AlphaFold2-ptm weights to /root/.cache/colabfold:   8%|▊         | 292M/3.47G [00:14<02:28, 23.1MB/s]\rDownloading AlphaFold2-ptm weights to /root/.cache/colabfold:   8%|▊         | 296M/3.47G [00:15<02:27, 23.1MB/s]\rDownloading AlphaFold2-ptm weights to /root/.cache/colabfold:   8%|▊         | 299M/3.47G [00:15<02:27, 23.2MB/s]\rDownloading AlphaFold2-ptm weights to /root/.cache/colabfold:   9%|▊         | 303M/3.47G [00:15<02:27, 23.1MB/s]\rDownloading AlphaFold2-ptm weights to /root/.cache/colabfold:   9%|▊         | 307M/3.47G [00:15<02:26, 23.2MB/s]\rDownloading AlphaFold2-ptm weights to /root/.cache/colabfold:   9%|▊         | 310M/3.47G [00:15<02:26, 23.2MB/s]\rDownloading AlphaFold2-ptm weights to /root/.cache/colabfold:   9%|▉         | 314M/3.47G [00:15<02:26, 23.2MB/s]\rDownloading AlphaFold2-ptm weights to /root/.cache/colabfold:   9%|▉         | 318M/3.47G [00:16<02:25, 23.2MB/s]\rDownloading AlphaFold2-ptm weights to /root/.cache/colabfold:   9%|▉         | 321M/3.47G [00:16<02:26, 23.2MB/s]\rDownloading AlphaFold2-ptm weights to /root/.cache/colabfold:   9%|▉         | 325M/3.47G [00:16<02:26, 23.2MB/s]\rDownloading AlphaFold2-ptm weights to /root/.cache/colabfold:   9%|▉         | 328M/3.47G [00:16<02:25, 23.2MB/s]\rDownloading AlphaFold2-ptm weights to /root/.cache/colabfold:   9%|▉         | 332M/3.47G [00:16<02:25, 23.2MB/s]\rDownloading AlphaFold2-ptm weights to /root/.cache/colabfold:   9%|▉         | 336M/3.47G [00:16<02:25, 23.2MB/s]\rDownloading AlphaFold2-ptm weights to /root/.cache/colabfold:  10%|▉         | 339M/3.47G [00:17<02:25, 23.2MB/s]\rDownloading AlphaFold2-ptm weights to /root/.cache/colabfold:  10%|▉         | 343M/3.47G [00:17<02:24, 23.2MB/s]\rDownloading AlphaFold2-ptm weights to /root/.cache/colabfold:  10%|▉         | 347M/3.47G [00:17<02:24, 23.2MB/s]\rDownloading AlphaFold2-ptm weights to /root/.cache/colabfold:  10%|▉         | 350M/3.47G [00:17<02:35, 21.5MB/s]\rDownloading AlphaFold2-ptm weights to /root/.cache/colabfold:  10%|▉         | 353M/3.47G [00:17<02:37, 21.3MB/s]\rDownloading AlphaFold2-ptm weights to /root/.cache/colabfold:  10%|█         | 357M/3.47G [00:17<02:33, 21.8MB/s]\rDownloading AlphaFold2-ptm weights to /root/.cache/colabfold:  10%|█         | 361M/3.47G [00:18<02:30, 22.3MB/s]\rDownloading AlphaFold2-ptm weights to /root/.cache/colabfold:  10%|█         | 364M/3.47G [00:18<02:28, 22.5MB/s]\rDownloading AlphaFold2-ptm weights to /root/.cache/colabfold:  10%|█         | 368M/3.47G [00:18<02:26, 22.7MB/s]\rDownloading AlphaFold2-ptm weights to /root/.cache/colabfold:  10%|█         | 371M/3.47G [00:18<02:25, 22.9MB/s]\rDownloading AlphaFold2-ptm weights to /root/.cache/colabfold:  11%|█         | 375M/3.47G [00:18<02:25, 22.9MB/s]\rDownloading AlphaFold2-ptm weights to /root/.cache/colabfold:  11%|█         | 379M/3.47G [00:18<02:24, 23.0MB/s]\rDownloading AlphaFold2-ptm weights to /root/.cache/colabfold:  11%|█         | 382M/3.47G [00:19<02:23, 23.1MB/s]\rDownloading AlphaFold2-ptm weights to /root/.cache/colabfold:  11%|█         | 386M/3.47G [00:19<02:23, 23.1MB/s]\rDownloading AlphaFold2-ptm weights to /root/.cache/colabfold:  11%|█         | 390M/3.47G [00:19<02:23, 23.2MB/s]\rDownloading AlphaFold2-ptm weights to /root/.cache/colabfold:  11%|█         | 393M/3.47G [00:19<02:22, 23.2MB/s]\rDownloading AlphaFold2-ptm weights to /root/.cache/colabfold:  11%|█         | 397M/3.47G [00:19<02:22, 23.2MB/s]\rDownloading AlphaFold2-ptm weights to /root/.cache/colabfold:  11%|█▏        | 401M/3.47G [00:19<02:21, 23.3MB/s]\rDownloading AlphaFold2-ptm weights to /root/.cache/colabfold:  11%|█▏        | 404M/3.47G [00:20<02:21, 23.3MB/s]\rDownloading AlphaFold2-ptm weights to /root/.cache/colabfold:  11%|█▏        | 408M/3.47G [00:20<02:21, 23.3MB/s]\rDownloading AlphaFold2-ptm weights to /root/.cache/colabfold:  12%|█▏        | 412M/3.47G [00:20<02:22, 23.2MB/s]\rDownloading AlphaFold2-ptm weights to /root/.cache/colabfold:  12%|█▏        | 415M/3.47G [00:20<02:21, 23.2MB/s]\rDownloading AlphaFold2-ptm weights to /root/.cache/colabfold:  12%|█▏        | 419M/3.47G [00:20<02:21, 23.2MB/s]\rDownloading AlphaFold2-ptm weights to /root/.cache/colabfold:  12%|█▏        | 423M/3.47G [00:20<02:21, 23.2MB/s]\rDownloading AlphaFold2-ptm weights to /root/.cache/colabfold:  12%|█▏        | 426M/3.47G [00:21<02:21, 23.2MB/s]\rDownloading AlphaFold2-ptm weights to /root/.cache/colabfold:  12%|█▏        | 430M/3.47G [00:21<02:20, 23.2MB/s]\rDownloading AlphaFold2-ptm weights to /root/.cache/colabfold:  12%|█▏        | 434M/3.47G [00:21<02:20, 23.2MB/s]\rDownloading AlphaFold2-ptm weights to /root/.cache/colabfold:  12%|█▏        | 437M/3.47G [00:21<02:20, 23.2MB/s]\rDownloading AlphaFold2-ptm weights to /root/.cache/colabfold:  12%|█▏        | 441M/3.47G [00:21<02:20, 23.2MB/s]\rDownloading AlphaFold2-ptm weights to /root/.cache/colabfold:  13%|█▎        | 444M/3.47G [00:21<02:27, 22.1MB/s]\rDownloading AlphaFold2-ptm weights to /root/.cache/colabfold:  13%|█▎        | 447M/3.47G [00:22<02:46, 19.6MB/s]\rDownloading AlphaFold2-ptm weights to /root/.cache/colabfold:  13%|█▎        | 448M/3.47G [00:22<03:06, 17.5MB/s]\rDownloading AlphaFold2-ptm weights to /root/.cache/colabfold:  13%|█▎        | 452M/3.47G [00:22<02:49, 19.2MB/s]\rDownloading AlphaFold2-ptm weights to /root/.cache/colabfold:  13%|█▎        | 456M/3.47G [00:22<02:38, 20.4MB/s]\rDownloading AlphaFold2-ptm weights to /root/.cache/colabfold:  13%|█▎        | 459M/3.47G [00:22<02:32, 21.3MB/s]\rDownloading AlphaFold2-ptm weights to /root/.cache/colabfold:  13%|█▎        | 463M/3.47G [00:22<02:27, 21.9MB/s]\rDownloading AlphaFold2-ptm weights to /root/.cache/colabfold:  13%|█▎        | 467M/3.47G [00:23<02:25, 22.2MB/s]\rDownloading AlphaFold2-ptm weights to /root/.cache/colabfold:  13%|█▎        | 470M/3.47G [00:23<02:23, 22.6MB/s]\rDownloading AlphaFold2-ptm weights to /root/.cache/colabfold:  13%|█▎        | 474M/3.47G [00:23<02:21, 22.7MB/s]\rDownloading AlphaFold2-ptm weights to /root/.cache/colabfold:  13%|█▎        | 478M/3.47G [00:23<02:20, 22.9MB/s]\rDownloading AlphaFold2-ptm weights to /root/.cache/colabfold:  14%|█▎        | 481M/3.47G [00:23<02:20, 23.0MB/s]\rDownloading AlphaFold2-ptm weights to /root/.cache/colabfold:  14%|█▎        | 485M/3.47G [00:23<02:19, 23.1MB/s]\rDownloading AlphaFold2-ptm weights to /root/.cache/colabfold:  14%|█▍        | 489M/3.47G [00:24<02:18, 23.1MB/s]\rDownloading AlphaFold2-ptm weights to /root/.cache/colabfold:  14%|█▍        | 492M/3.47G [00:24<02:18, 23.2MB/s]\rDownloading AlphaFold2-ptm weights to /root/.cache/colabfold:  14%|█▍        | 496M/3.47G [00:24<02:18, 23.2MB/s]\rDownloading AlphaFold2-ptm weights to /root/.cache/colabfold:  14%|█▍        | 500M/3.47G [00:24<02:17, 23.2MB/s]\rDownloading AlphaFold2-ptm weights to /root/.cache/colabfold:  14%|█▍        | 503M/3.47G [00:24<02:17, 23.2MB/s]\rDownloading AlphaFold2-ptm weights to /root/.cache/colabfold:  14%|█▍        | 507M/3.47G [00:24<02:17, 23.2MB/s]\rDownloading AlphaFold2-ptm weights to /root/.cache/colabfold:  14%|█▍        | 511M/3.47G [00:25<02:17, 23.2MB/s]\rDownloading AlphaFold2-ptm weights to /root/.cache/colabfold:  14%|█▍        | 514M/3.47G [00:25<02:17, 23.2MB/s]\rDownloading AlphaFold2-ptm weights to /root/.cache/colabfold:  15%|█▍        | 518M/3.47G [00:25<02:17, 23.2MB/s]\rDownloading AlphaFold2-ptm weights to /root/.cache/colabfold:  15%|█▍        | 521M/3.47G [00:25<02:16, 23.2MB/s]\rDownloading AlphaFold2-ptm weights to /root/.cache/colabfold:  15%|█▍        | 525M/3.47G [00:25<02:16, 23.2MB/s]\rDownloading AlphaFold2-ptm weights to /root/.cache/colabfold:  15%|█▍        | 529M/3.47G [00:25<02:16, 23.2MB/s]\rDownloading AlphaFold2-ptm weights to /root/.cache/colabfold:  15%|█▍        | 532M/3.47G [00:26<02:16, 23.2MB/s]\rDownloading AlphaFold2-ptm weights to /root/.cache/colabfold:  15%|█▌        | 536M/3.47G [00:26<02:16, 23.2MB/s]\rDownloading AlphaFold2-ptm weights to /root/.cache/colabfold:  15%|█▌        | 540M/3.47G [00:26<02:15, 23.2MB/s]\rDownloading AlphaFold2-ptm weights to /root/.cache/colabfold:  15%|█▌        | 543M/3.47G [00:26<02:15, 23.2MB/s]\rDownloading AlphaFold2-ptm weights to /root/.cache/colabfold:  15%|█▌        | 547M/3.47G [00:26<02:15, 23.2MB/s]\rDownloading AlphaFold2-ptm weights to /root/.cache/colabfold:  16%|█▌        | 551M/3.47G [00:26<02:15, 23.2MB/s]\rDownloading AlphaFold2-ptm weights to /root/.cache/colabfold:  16%|█▌        | 554M/3.47G [00:27<02:15, 23.2MB/s]\rDownloading AlphaFold2-ptm weights to /root/.cache/colabfold:  16%|█▌        | 558M/3.47G [00:27<02:14, 23.3MB/s]\rDownloading AlphaFold2-ptm weights to /root/.cache/colabfold:  16%|█▌        | 562M/3.47G [00:27<02:15, 23.2MB/s]\rDownloading AlphaFold2-ptm weights to /root/.cache/colabfold:  16%|█▌        | 565M/3.47G [00:27<02:14, 23.2MB/s]\rDownloading AlphaFold2-ptm weights to /root/.cache/colabfold:  16%|█▌        | 569M/3.47G [00:27<02:14, 23.2MB/s]\rDownloading AlphaFold2-ptm weights to /root/.cache/colabfold:  16%|█▌        | 573M/3.47G [00:27<02:14, 23.2MB/s]\rDownloading AlphaFold2-ptm weights to /root/.cache/colabfold:  16%|█▌        | 576M/3.47G [00:28<02:14, 23.2MB/s]\rDownloading AlphaFold2-ptm weights to /root/.cache/colabfold:  16%|█▋        | 580M/3.47G [00:28<02:14, 23.2MB/s]\rDownloading AlphaFold2-ptm weights to /root/.cache/colabfold:  16%|█▋        | 583M/3.47G [00:28<02:14, 23.2MB/s]\rDownloading AlphaFold2-ptm weights to /root/.cache/colabfold:  17%|█▋        | 587M/3.47G [00:28<02:13, 23.2MB/s]\rDownloading AlphaFold2-ptm weights to /root/.cache/colabfold:  17%|█▋        | 591M/3.47G [00:28<02:13, 23.2MB/s]\rDownloading AlphaFold2-ptm weights to /root/.cache/colabfold:  17%|█▋        | 594M/3.47G [00:28<02:20, 22.0MB/s]\rDownloading AlphaFold2-ptm weights to /root/.cache/colabfold:  17%|█▋        | 597M/3.47G [00:29<02:38, 19.5MB/s]\rDownloading AlphaFold2-ptm weights to /root/.cache/colabfold:  17%|█▋        | 600M/3.47G [00:29<02:31, 20.5MB/s]\rDownloading AlphaFold2-ptm weights to /root/.cache/colabfold:  17%|█▋        | 604M/3.47G [00:29<02:24, 21.3MB/s]\rDownloading AlphaFold2-ptm weights to /root/.cache/colabfold:  17%|█▋        | 607M/3.47G [00:29<02:21, 21.9MB/s]\rDownloading AlphaFold2-ptm weights to /root/.cache/colabfold:  17%|█▋        | 611M/3.47G [00:29<02:18, 22.3MB/s]\rDownloading AlphaFold2-ptm weights to /root/.cache/colabfold:  17%|█▋        | 615M/3.47G [00:29<02:16, 22.6MB/s]\rDownloading AlphaFold2-ptm weights to /root/.cache/colabfold:  17%|█▋        | 618M/3.47G [00:30<02:15, 22.8MB/s]\rDownloading AlphaFold2-ptm weights to /root/.cache/colabfold:  18%|█▊        | 622M/3.47G [00:30<02:13, 22.9MB/s]\rDownloading AlphaFold2-ptm weights to /root/.cache/colabfold:  18%|█▊        | 626M/3.47G [00:30<02:13, 23.0MB/s]\rDownloading AlphaFold2-ptm weights to /root/.cache/colabfold:  18%|█▊        | 629M/3.47G [00:30<02:12, 23.1MB/s]\rDownloading AlphaFold2-ptm weights to /root/.cache/colabfold:  18%|█▊        | 633M/3.47G [00:30<02:12, 23.1MB/s]\rDownloading AlphaFold2-ptm weights to /root/.cache/colabfold:  18%|█▊        | 637M/3.47G [00:30<02:11, 23.2MB/s]\rDownloading AlphaFold2-ptm weights to /root/.cache/colabfold:  18%|█▊        | 640M/3.47G [00:31<02:15, 22.5MB/s]\rDownloading AlphaFold2-ptm weights to /root/.cache/colabfold:  18%|█▊        | 642M/3.47G [00:31<02:34, 19.8MB/s]\rDownloading AlphaFold2-ptm weights to /root/.cache/colabfold:  18%|█▊        | 646M/3.47G [00:31<02:27, 20.6MB/s]\rDownloading AlphaFold2-ptm weights to /root/.cache/colabfold:  18%|█▊        | 649M/3.47G [00:31<02:21, 21.4MB/s]\rDownloading AlphaFold2-ptm weights to /root/.cache/colabfold:  18%|█▊        | 653M/3.47G [00:31<02:18, 22.0MB/s]\rDownloading AlphaFold2-ptm weights to /root/.cache/colabfold:  18%|█▊        | 657M/3.47G [00:31<02:15, 22.4MB/s]\rDownloading AlphaFold2-ptm weights to /root/.cache/colabfold:  19%|█▊        | 660M/3.47G [00:32<02:13, 22.6MB/s]\rDownloading AlphaFold2-ptm weights to /root/.cache/colabfold:  19%|█▊        | 664M/3.47G [00:32<02:12, 22.8MB/s]\rDownloading AlphaFold2-ptm weights to /root/.cache/colabfold:  19%|█▉        | 668M/3.47G [00:32<02:11, 23.0MB/s]\rDownloading AlphaFold2-ptm weights to /root/.cache/colabfold:  19%|█▉        | 671M/3.47G [00:32<02:10, 23.1MB/s]\rDownloading AlphaFold2-ptm weights to /root/.cache/colabfold:  19%|█▉        | 675M/3.47G [00:32<02:10, 23.1MB/s]\rDownloading AlphaFold2-ptm weights to /root/.cache/colabfold:  19%|█▉        | 678M/3.47G [00:32<02:10, 23.1MB/s]\rDownloading AlphaFold2-ptm weights to /root/.cache/colabfold:  19%|█▉        | 682M/3.47G [00:32<02:09, 23.2MB/s]\rDownloading AlphaFold2-ptm weights to /root/.cache/colabfold:  19%|█▉        | 686M/3.47G [00:33<02:09, 23.2MB/s]\rDownloading AlphaFold2-ptm weights to /root/.cache/colabfold:  19%|█▉        | 689M/3.47G [00:33<02:09, 23.2MB/s]\rDownloading AlphaFold2-ptm weights to /root/.cache/colabfold:  20%|█▉        | 693M/3.47G [00:33<02:09, 23.2MB/s]\rDownloading AlphaFold2-ptm weights to /root/.cache/colabfold:  20%|█▉        | 697M/3.47G [00:33<02:08, 23.2MB/s]\rDownloading AlphaFold2-ptm weights to /root/.cache/colabfold:  20%|█▉        | 700M/3.47G [00:33<02:08, 23.2MB/s]\rDownloading AlphaFold2-ptm weights to /root/.cache/colabfold:  20%|█▉        | 704M/3.47G [00:33<02:08, 23.2MB/s]\rDownloading AlphaFold2-ptm weights to /root/.cache/colabfold:  20%|█▉        | 708M/3.47G [00:34<02:08, 23.2MB/s]\rDownloading AlphaFold2-ptm weights to /root/.cache/colabfold:  20%|██        | 711M/3.47G [00:34<02:08, 23.2MB/s]\rDownloading AlphaFold2-ptm weights to /root/.cache/colabfold:  20%|██        | 715M/3.47G [00:34<02:08, 23.2MB/s]\rDownloading AlphaFold2-ptm weights to /root/.cache/colabfold:  20%|██        | 719M/3.47G [00:34<02:08, 23.2MB/s]\rDownloading AlphaFold2-ptm weights to /root/.cache/colabfold:  20%|██        | 722M/3.47G [00:34<02:07, 23.2MB/s]\rDownloading AlphaFold2-ptm weights to /root/.cache/colabfold:  20%|██        | 726M/3.47G [00:34<02:07, 23.2MB/s]\rDownloading AlphaFold2-ptm weights to /root/.cache/colabfold:  21%|██        | 729M/3.47G [00:35<02:07, 23.2MB/s]\rDownloading AlphaFold2-ptm weights to /root/.cache/colabfold:  21%|██        | 733M/3.47G [00:35<02:07, 23.2MB/s]\rDownloading AlphaFold2-ptm weights to /root/.cache/colabfold:  21%|██        | 737M/3.47G [00:35<02:07, 23.2MB/s]\rDownloading AlphaFold2-ptm weights to /root/.cache/colabfold:  21%|██        | 740M/3.47G [00:35<02:06, 23.2MB/s]\rDownloading AlphaFold2-ptm weights to /root/.cache/colabfold:  21%|██        | 744M/3.47G [00:35<02:06, 23.2MB/s]\rDownloading AlphaFold2-ptm weights to /root/.cache/colabfold:  21%|██        | 748M/3.47G [00:35<02:06, 23.2MB/s]\rDownloading AlphaFold2-ptm weights to /root/.cache/colabfold:  21%|██        | 751M/3.47G [00:36<02:06, 23.2MB/s]\rDownloading AlphaFold2-ptm weights to /root/.cache/colabfold:  21%|██▏       | 755M/3.47G [00:36<02:06, 23.2MB/s]\rDownloading AlphaFold2-ptm weights to /root/.cache/colabfold:  21%|██▏       | 759M/3.47G [00:36<02:06, 23.2MB/s]\rDownloading AlphaFold2-ptm weights to /root/.cache/colabfold:  21%|██▏       | 762M/3.47G [00:36<02:05, 23.2MB/s]\rDownloading AlphaFold2-ptm weights to /root/.cache/colabfold:  22%|██▏       | 766M/3.47G [00:36<02:05, 23.2MB/s]\rDownloading AlphaFold2-ptm weights to /root/.cache/colabfold:  22%|██▏       | 770M/3.47G [00:36<02:05, 23.2MB/s]\rDownloading AlphaFold2-ptm weights to /root/.cache/colabfold:  22%|██▏       | 773M/3.47G [00:37<02:05, 23.2MB/s]\rDownloading AlphaFold2-ptm weights to /root/.cache/colabfold:  22%|██▏       | 777M/3.47G [00:37<02:13, 21.7MB/s]\rDownloading AlphaFold2-ptm weights to /root/.cache/colabfold:  22%|██▏       | 779M/3.47G [00:37<02:30, 19.3MB/s]\rDownloading AlphaFold2-ptm weights to /root/.cache/colabfold:  22%|██▏       | 781M/3.47G [00:37<02:47, 17.3MB/s]\rDownloading AlphaFold2-ptm weights to /root/.cache/colabfold:  22%|██▏       | 785M/3.47G [00:37<02:31, 19.1MB/s]\rDownloading AlphaFold2-ptm weights to /root/.cache/colabfold:  22%|██▏       | 788M/3.47G [00:37<02:22, 20.3MB/s]\rDownloading AlphaFold2-ptm weights to /root/.cache/colabfold:  22%|██▏       | 792M/3.47G [00:38<02:16, 21.2MB/s]\rDownloading AlphaFold2-ptm weights to /root/.cache/colabfold:  22%|██▏       | 796M/3.47G [00:38<02:12, 21.8MB/s]\rDownloading AlphaFold2-ptm weights to /root/.cache/colabfold:  23%|██▎       | 799M/3.47G [00:38<02:09, 22.2MB/s]\rDownloading AlphaFold2-ptm weights to /root/.cache/colabfold:  23%|██▎       | 803M/3.47G [00:38<02:08, 22.5MB/s]\rDownloading AlphaFold2-ptm weights to /root/.cache/colabfold:  23%|██▎       | 806M/3.47G [00:38<02:06, 22.7MB/s]\rDownloading AlphaFold2-ptm weights to /root/.cache/colabfold:  23%|██▎       | 810M/3.47G [00:38<02:05, 22.8MB/s]\rDownloading AlphaFold2-ptm weights to /root/.cache/colabfold:  23%|██▎       | 814M/3.47G [00:39<02:05, 23.0MB/s]\rDownloading AlphaFold2-ptm weights to /root/.cache/colabfold:  23%|██▎       | 817M/3.47G [00:39<02:04, 23.0MB/s]\rDownloading AlphaFold2-ptm weights to /root/.cache/colabfold:  23%|██▎       | 821M/3.47G [00:39<02:04, 23.1MB/s]\rDownloading AlphaFold2-ptm weights to /root/.cache/colabfold:  23%|██▎       | 825M/3.47G [00:39<02:03, 23.2MB/s]\rDownloading AlphaFold2-ptm weights to /root/.cache/colabfold:  23%|██▎       | 828M/3.47G [00:39<02:03, 23.2MB/s]\rDownloading AlphaFold2-ptm weights to /root/.cache/colabfold:  23%|██▎       | 832M/3.47G [00:39<02:02, 23.2MB/s]\rDownloading AlphaFold2-ptm weights to /root/.cache/colabfold:  24%|██▎       | 836M/3.47G [00:40<02:02, 23.2MB/s]\rDownloading AlphaFold2-ptm weights to /root/.cache/colabfold:  24%|██▎       | 839M/3.47G [00:40<02:02, 23.2MB/s]\rDownloading AlphaFold2-ptm weights to /root/.cache/colabfold:  24%|██▎       | 843M/3.47G [00:40<02:02, 23.2MB/s]\rDownloading AlphaFold2-ptm weights to /root/.cache/colabfold:  24%|██▍       | 847M/3.47G [00:40<02:02, 23.2MB/s]\rDownloading AlphaFold2-ptm weights to /root/.cache/colabfold:  24%|██▍       | 849M/3.47G [00:40<02:18, 20.4MB/s]\rDownloading AlphaFold2-ptm weights to /root/.cache/colabfold:  24%|██▍       | 852M/3.47G [00:40<02:19, 20.3MB/s]\rDownloading AlphaFold2-ptm weights to /root/.cache/colabfold:  24%|██▍       | 856M/3.47G [00:41<02:13, 21.1MB/s]\rDownloading AlphaFold2-ptm weights to /root/.cache/colabfold:  24%|██▍       | 859M/3.47G [00:41<02:09, 21.7MB/s]\rDownloading AlphaFold2-ptm weights to /root/.cache/colabfold:  24%|██▍       | 863M/3.47G [00:41<02:06, 22.2MB/s]\rDownloading AlphaFold2-ptm weights to /root/.cache/colabfold:  24%|██▍       | 866M/3.47G [00:41<02:05, 22.5MB/s]\rDownloading AlphaFold2-ptm weights to /root/.cache/colabfold:  25%|██▍       | 870M/3.47G [00:41<02:03, 22.7MB/s]\rDownloading AlphaFold2-ptm weights to /root/.cache/colabfold:  25%|██▍       | 874M/3.47G [00:41<02:02, 22.8MB/s]\rDownloading AlphaFold2-ptm weights to /root/.cache/colabfold:  25%|██▍       | 877M/3.47G [00:42<02:01, 23.0MB/s]\rDownloading AlphaFold2-ptm weights to /root/.cache/colabfold:  25%|██▍       | 881M/3.47G [00:42<02:01, 23.0MB/s]\rDownloading AlphaFold2-ptm weights to /root/.cache/colabfold:  25%|██▍       | 885M/3.47G [00:42<02:01, 23.1MB/s]\rDownloading AlphaFold2-ptm weights to /root/.cache/colabfold:  25%|██▌       | 888M/3.47G [00:42<02:00, 23.1MB/s]\rDownloading AlphaFold2-ptm weights to /root/.cache/colabfold:  25%|██▌       | 892M/3.47G [00:42<02:00, 23.1MB/s]\rDownloading AlphaFold2-ptm weights to /root/.cache/colabfold:  25%|██▌       | 896M/3.47G [00:42<02:00, 23.1MB/s]\rDownloading AlphaFold2-ptm weights to /root/.cache/colabfold:  25%|██▌       | 899M/3.47G [00:43<02:00, 23.2MB/s]\rDownloading AlphaFold2-ptm weights to /root/.cache/colabfold:  25%|██▌       | 903M/3.47G [00:43<01:59, 23.1MB/s]\rDownloading AlphaFold2-ptm weights to /root/.cache/colabfold:  26%|██▌       | 907M/3.47G [00:43<01:59, 23.2MB/s]\rDownloading AlphaFold2-ptm weights to /root/.cache/colabfold:  26%|██▌       | 910M/3.47G [00:43<01:59, 23.2MB/s]\rDownloading AlphaFold2-ptm weights to /root/.cache/colabfold:  26%|██▌       | 914M/3.47G [00:43<01:59, 23.2MB/s]\rDownloading AlphaFold2-ptm weights to /root/.cache/colabfold:  26%|██▌       | 918M/3.47G [00:43<01:58, 23.2MB/s]\rDownloading AlphaFold2-ptm weights to /root/.cache/colabfold:  26%|██▌       | 921M/3.47G [00:44<01:58, 23.2MB/s]\rDownloading AlphaFold2-ptm weights to /root/.cache/colabfold:  26%|██▌       | 925M/3.47G [00:44<01:58, 23.2MB/s]\rDownloading AlphaFold2-ptm weights to /root/.cache/colabfold:  26%|██▌       | 927M/3.47G [00:44<02:28, 18.5MB/s]\rDownloading AlphaFold2-ptm weights to /root/.cache/colabfold:  26%|██▌       | 931M/3.47G [00:44<02:17, 20.0MB/s]\rDownloading AlphaFold2-ptm weights to /root/.cache/colabfold:  26%|██▋       | 935M/3.47G [00:44<02:10, 20.9MB/s]\rDownloading AlphaFold2-ptm weights to /root/.cache/colabfold:  26%|██▋       | 939M/3.47G [00:44<02:06, 21.6MB/s]\rDownloading AlphaFold2-ptm weights to /root/.cache/colabfold:  27%|██▋       | 942M/3.47G [00:45<02:03, 22.1MB/s]\rDownloading AlphaFold2-ptm weights to /root/.cache/colabfold:  27%|██▋       | 946M/3.47G [00:45<02:01, 22.4MB/s]\rDownloading AlphaFold2-ptm weights to /root/.cache/colabfold:  27%|██▋       | 948M/3.47G [00:45<02:18, 19.7MB/s]\rDownloading AlphaFold2-ptm weights to /root/.cache/colabfold:  27%|██▋       | 950M/3.47G [00:45<02:35, 17.6MB/s]\rDownloading AlphaFold2-ptm weights to /root/.cache/colabfold:  27%|██▋       | 952M/3.47G [00:45<02:48, 16.2MB/s]\rDownloading AlphaFold2-ptm weights to /root/.cache/colabfold:  27%|██▋       | 956M/3.47G [00:45<02:28, 18.3MB/s]\rDownloading AlphaFold2-ptm weights to /root/.cache/colabfold:  27%|██▋       | 959M/3.47G [00:46<02:17, 19.8MB/s]\rDownloading AlphaFold2-ptm weights to /root/.cache/colabfold:  27%|██▋       | 963M/3.47G [00:46<02:10, 20.8MB/s]\rDownloading AlphaFold2-ptm weights to /root/.cache/colabfold:  27%|██▋       | 967M/3.47G [00:46<02:05, 21.5MB/s]\rDownloading AlphaFold2-ptm weights to /root/.cache/colabfold:  27%|██▋       | 970M/3.47G [00:46<02:02, 22.0MB/s]\rDownloading AlphaFold2-ptm weights to /root/.cache/colabfold:  27%|██▋       | 974M/3.47G [00:46<02:00, 22.4MB/s]\rDownloading AlphaFold2-ptm weights to /root/.cache/colabfold:  28%|██▊       | 977M/3.47G [00:46<01:59, 22.6MB/s]\rDownloading AlphaFold2-ptm weights to /root/.cache/colabfold:  28%|██▊       | 981M/3.47G [00:47<01:57, 22.8MB/s]\rDownloading AlphaFold2-ptm weights to /root/.cache/colabfold:  28%|██▊       | 985M/3.47G [00:47<01:57, 23.0MB/s]\rDownloading AlphaFold2-ptm weights to /root/.cache/colabfold:  28%|██▊       | 988M/3.47G [00:47<01:56, 23.0MB/s]\rDownloading AlphaFold2-ptm weights to /root/.cache/colabfold:  28%|██▊       | 992M/3.47G [00:47<01:56, 23.1MB/s]\rDownloading AlphaFold2-ptm weights to /root/.cache/colabfold:  28%|██▊       | 996M/3.47G [00:47<01:56, 23.1MB/s]\rDownloading AlphaFold2-ptm weights to /root/.cache/colabfold:  28%|██▊       | 999M/3.47G [00:47<01:55, 23.1MB/s]\rDownloading AlphaFold2-ptm weights to /root/.cache/colabfold:  28%|██▊       | 0.98G/3.47G [00:48<01:55, 23.1MB/s]\rDownloading AlphaFold2-ptm weights to /root/.cache/colabfold:  28%|██▊       | 0.98G/3.47G [00:48<01:55, 23.2MB/s]\rDownloading AlphaFold2-ptm weights to /root/.cache/colabfold:  28%|██▊       | 0.99G/3.47G [00:48<01:54, 23.2MB/s]\rDownloading AlphaFold2-ptm weights to /root/.cache/colabfold:  29%|██▊       | 0.99G/3.47G [00:48<01:54, 23.2MB/s]\rDownloading AlphaFold2-ptm weights to /root/.cache/colabfold:  29%|██▊       | 0.99G/3.47G [00:48<01:54, 23.2MB/s]\rDownloading AlphaFold2-ptm weights to /root/.cache/colabfold:  29%|██▉       | 1.00G/3.47G [00:48<01:54, 23.1MB/s]\rDownloading AlphaFold2-ptm weights to /root/.cache/colabfold:  29%|██▉       | 1.00G/3.47G [00:49<02:01, 21.9MB/s]\rDownloading AlphaFold2-ptm weights to /root/.cache/colabfold:  29%|██▉       | 1.00G/3.47G [00:49<02:02, 21.5MB/s]\rDownloading AlphaFold2-ptm weights to /root/.cache/colabfold:  29%|██▉       | 1.01G/3.47G [00:49<01:59, 22.0MB/s]\rDownloading AlphaFold2-ptm weights to /root/.cache/colabfold:  29%|██▉       | 1.01G/3.47G [00:49<01:57, 22.4MB/s]\rDownloading AlphaFold2-ptm weights to /root/.cache/colabfold:  29%|██▉       | 1.01G/3.47G [00:49<01:56, 22.6MB/s]\rDownloading AlphaFold2-ptm weights to /root/.cache/colabfold:  29%|██▉       | 1.02G/3.47G [00:49<01:55, 22.8MB/s]\rDownloading AlphaFold2-ptm weights to /root/.cache/colabfold:  29%|██▉       | 1.02G/3.47G [00:50<01:54, 22.9MB/s]\rDownloading AlphaFold2-ptm weights to /root/.cache/colabfold:  30%|██▉       | 1.03G/3.47G [00:50<01:54, 23.0MB/s]\rDownloading AlphaFold2-ptm weights to /root/.cache/colabfold:  30%|██▉       | 1.03G/3.47G [00:50<01:53, 23.0MB/s]\rDownloading AlphaFold2-ptm weights to /root/.cache/colabfold:  30%|██▉       | 1.03G/3.47G [00:50<01:53, 23.1MB/s]\rDownloading AlphaFold2-ptm weights to /root/.cache/colabfold:  30%|██▉       | 1.04G/3.47G [00:50<01:53, 23.1MB/s]\rDownloading AlphaFold2-ptm weights to /root/.cache/colabfold:  30%|██▉       | 1.04G/3.47G [00:50<01:52, 23.1MB/s]\rDownloading AlphaFold2-ptm weights to /root/.cache/colabfold:  30%|███       | 1.04G/3.47G [00:51<01:52, 23.1MB/s]\rDownloading AlphaFold2-ptm weights to /root/.cache/colabfold:  30%|███       | 1.05G/3.47G [00:51<01:52, 23.1MB/s]\rDownloading AlphaFold2-ptm weights to /root/.cache/colabfold:  30%|███       | 1.05G/3.47G [00:51<01:52, 23.2MB/s]\rDownloading AlphaFold2-ptm weights to /root/.cache/colabfold:  30%|███       | 1.05G/3.47G [00:51<01:51, 23.2MB/s]\rDownloading AlphaFold2-ptm weights to /root/.cache/colabfold:  30%|███       | 1.06G/3.47G [00:51<01:51, 23.2MB/s]\rDownloading AlphaFold2-ptm weights to /root/.cache/colabfold:  31%|███       | 1.06G/3.47G [00:51<01:51, 23.1MB/s]\rDownloading AlphaFold2-ptm weights to /root/.cache/colabfold:  31%|███       | 1.06G/3.47G [00:52<01:51, 23.1MB/s]\rDownloading AlphaFold2-ptm weights to /root/.cache/colabfold:  31%|███       | 1.07G/3.47G [00:52<01:51, 23.2MB/s]\rDownloading AlphaFold2-ptm weights to /root/.cache/colabfold:  31%|███       | 1.07G/3.47G [00:52<01:51, 23.2MB/s]\rDownloading AlphaFold2-ptm weights to /root/.cache/colabfold:  31%|███       | 1.08G/3.47G [00:52<01:50, 23.2MB/s]\rDownloading AlphaFold2-ptm weights to /root/.cache/colabfold:  31%|███       | 1.08G/3.47G [00:52<01:50, 23.2MB/s]\rDownloading AlphaFold2-ptm weights to /root/.cache/colabfold:  31%|███       | 1.08G/3.47G [00:52<01:50, 23.2MB/s]\rDownloading AlphaFold2-ptm weights to /root/.cache/colabfold:  31%|███▏      | 1.09G/3.47G [00:53<01:50, 23.2MB/s]\rDownloading AlphaFold2-ptm weights to /root/.cache/colabfold:  31%|███▏      | 1.09G/3.47G [00:53<01:49, 23.2MB/s]\rDownloading AlphaFold2-ptm weights to /root/.cache/colabfold:  32%|███▏      | 1.09G/3.47G [00:53<01:49, 23.2MB/s]\rDownloading AlphaFold2-ptm weights to /root/.cache/colabfold:  32%|███▏      | 1.10G/3.47G [00:53<01:49, 23.2MB/s]\rDownloading AlphaFold2-ptm weights to /root/.cache/colabfold:  32%|███▏      | 1.10G/3.47G [00:53<01:49, 23.2MB/s]\rDownloading AlphaFold2-ptm weights to /root/.cache/colabfold:  32%|███▏      | 1.10G/3.47G [00:53<01:49, 23.2MB/s]\rDownloading AlphaFold2-ptm weights to /root/.cache/colabfold:  32%|███▏      | 1.11G/3.47G [00:54<01:49, 23.2MB/s]\rDownloading AlphaFold2-ptm weights to /root/.cache/colabfold:  32%|███▏      | 1.11G/3.47G [00:54<01:48, 23.2MB/s]\rDownloading AlphaFold2-ptm weights to /root/.cache/colabfold:  32%|███▏      | 1.11G/3.47G [00:54<01:48, 23.2MB/s]\rDownloading AlphaFold2-ptm weights to /root/.cache/colabfold:  32%|███▏      | 1.12G/3.47G [00:54<01:48, 23.2MB/s]\rDownloading AlphaFold2-ptm weights to /root/.cache/colabfold:  32%|███▏      | 1.12G/3.47G [00:54<01:48, 23.3MB/s]\rDownloading AlphaFold2-ptm weights to /root/.cache/colabfold:  32%|███▏      | 1.13G/3.47G [00:54<01:48, 23.2MB/s]\rDownloading AlphaFold2-ptm weights to /root/.cache/colabfold:  33%|███▎      | 1.13G/3.47G [00:55<01:48, 23.2MB/s]\rDownloading AlphaFold2-ptm weights to /root/.cache/colabfold:  33%|███▎      | 1.13G/3.47G [00:55<01:53, 22.2MB/s]\rDownloading AlphaFold2-ptm weights to /root/.cache/colabfold:  33%|███▎      | 1.13G/3.47G [00:55<02:07, 19.6MB/s]\rDownloading AlphaFold2-ptm weights to /root/.cache/colabfold:  33%|███▎      | 1.14G/3.47G [00:55<02:23, 17.5MB/s]\rDownloading AlphaFold2-ptm weights to /root/.cache/colabfold:  33%|███▎      | 1.14G/3.47G [00:55<02:10, 19.2MB/s]\rDownloading AlphaFold2-ptm weights to /root/.cache/colabfold:  33%|███▎      | 1.14G/3.47G [00:55<02:02, 20.4MB/s]\rDownloading AlphaFold2-ptm weights to /root/.cache/colabfold:  33%|███▎      | 1.15G/3.47G [00:56<01:57, 21.2MB/s]\rDownloading AlphaFold2-ptm weights to /root/.cache/colabfold:  33%|███▎      | 1.15G/3.47G [00:56<01:53, 21.9MB/s]\rDownloading AlphaFold2-ptm weights to /root/.cache/colabfold:  33%|███▎      | 1.15G/3.47G [00:56<01:52, 22.2MB/s]\rDownloading AlphaFold2-ptm weights to /root/.cache/colabfold:  33%|███▎      | 1.16G/3.47G [00:56<01:50, 22.5MB/s]\rDownloading AlphaFold2-ptm weights to /root/.cache/colabfold:  33%|███▎      | 1.16G/3.47G [00:56<01:48, 22.8MB/s]\rDownloading AlphaFold2-ptm weights to /root/.cache/colabfold:  34%|███▎      | 1.16G/3.47G [00:56<01:47, 22.9MB/s]\rDownloading AlphaFold2-ptm weights to /root/.cache/colabfold:  34%|███▎      | 1.17G/3.47G [00:57<01:47, 23.0MB/s]\rDownloading AlphaFold2-ptm weights to /root/.cache/colabfold:  34%|███▍      | 1.17G/3.47G [00:57<01:47, 23.0MB/s]\rDownloading AlphaFold2-ptm weights to /root/.cache/colabfold:  34%|███▍      | 1.18G/3.47G [00:57<01:46, 23.0MB/s]\rDownloading AlphaFold2-ptm weights to /root/.cache/colabfold:  34%|███▍      | 1.18G/3.47G [00:57<01:46, 23.1MB/s]\rDownloading AlphaFold2-ptm weights to /root/.cache/colabfold:  34%|███▍      | 1.18G/3.47G [00:57<01:46, 23.1MB/s]\rDownloading AlphaFold2-ptm weights to /root/.cache/colabfold:  34%|███▍      | 1.19G/3.47G [00:57<01:45, 23.1MB/s]\rDownloading AlphaFold2-ptm weights to /root/.cache/colabfold:  34%|███▍      | 1.19G/3.47G [00:58<01:45, 23.2MB/s]\rDownloading AlphaFold2-ptm weights to /root/.cache/colabfold:  34%|███▍      | 1.19G/3.47G [00:58<01:45, 23.2MB/s]\rDownloading AlphaFold2-ptm weights to /root/.cache/colabfold:  35%|███▍      | 1.20G/3.47G [00:58<01:45, 23.2MB/s]\rDownloading AlphaFold2-ptm weights to /root/.cache/colabfold:  35%|███▍      | 1.20G/3.47G [00:58<01:45, 23.2MB/s]\rDownloading AlphaFold2-ptm weights to /root/.cache/colabfold:  35%|███▍      | 1.20G/3.47G [00:58<01:44, 23.2MB/s]\rDownloading AlphaFold2-ptm weights to /root/.cache/colabfold:  35%|███▍      | 1.21G/3.47G [00:58<01:44, 23.2MB/s]\rDownloading AlphaFold2-ptm weights to /root/.cache/colabfold:  35%|███▍      | 1.21G/3.47G [00:59<01:44, 23.2MB/s]\rDownloading AlphaFold2-ptm weights to /root/.cache/colabfold:  35%|███▌      | 1.21G/3.47G [00:59<01:44, 23.2MB/s]\rDownloading AlphaFold2-ptm weights to /root/.cache/colabfold:  35%|███▌      | 1.22G/3.47G [00:59<01:44, 23.2MB/s]\rDownloading AlphaFold2-ptm weights to /root/.cache/colabfold:  35%|███▌      | 1.22G/3.47G [00:59<01:43, 23.2MB/s]\rDownloading AlphaFold2-ptm weights to /root/.cache/colabfold:  35%|███▌      | 1.23G/3.47G [00:59<01:43, 23.2MB/s]\rDownloading AlphaFold2-ptm weights to /root/.cache/colabfold:  35%|███▌      | 1.23G/3.47G [00:59<01:43, 23.2MB/s]\rDownloading AlphaFold2-ptm weights to /root/.cache/colabfold:  36%|███▌      | 1.23G/3.47G [01:00<01:43, 23.2MB/s]\rDownloading AlphaFold2-ptm weights to /root/.cache/colabfold:  36%|███▌      | 1.24G/3.47G [01:00<01:43, 23.2MB/s]\rDownloading AlphaFold2-ptm weights to /root/.cache/colabfold:  36%|███▌      | 1.24G/3.47G [01:00<01:43, 23.2MB/s]\rDownloading AlphaFold2-ptm weights to /root/.cache/colabfold:  36%|███▌      | 1.24G/3.47G [01:00<01:43, 23.2MB/s]\rDownloading AlphaFold2-ptm weights to /root/.cache/colabfold:  36%|███▌      | 1.25G/3.47G [01:00<01:42, 23.2MB/s]\rDownloading AlphaFold2-ptm weights to /root/.cache/colabfold:  36%|███▌      | 1.25G/3.47G [01:00<01:42, 23.2MB/s]\rDownloading AlphaFold2-ptm weights to /root/.cache/colabfold:  36%|███▌      | 1.25G/3.47G [01:01<01:42, 23.2MB/s]\rDownloading AlphaFold2-ptm weights to /root/.cache/colabfold:  36%|███▋      | 1.26G/3.47G [01:01<01:42, 23.2MB/s]\rDownloading AlphaFold2-ptm weights to /root/.cache/colabfold:  36%|███▋      | 1.26G/3.47G [01:01<01:42, 23.1MB/s]\rDownloading AlphaFold2-ptm weights to /root/.cache/colabfold:  36%|███▋      | 1.26G/3.47G [01:01<01:42, 23.1MB/s]\rDownloading AlphaFold2-ptm weights to /root/.cache/colabfold:  37%|███▋      | 1.27G/3.47G [01:01<01:42, 23.1MB/s]\rDownloading AlphaFold2-ptm weights to /root/.cache/colabfold:  37%|███▋      | 1.27G/3.47G [01:01<01:41, 23.1MB/s]\rDownloading AlphaFold2-ptm weights to /root/.cache/colabfold:  37%|███▋      | 1.27G/3.47G [01:02<01:41, 23.2MB/s]\rDownloading AlphaFold2-ptm weights to /root/.cache/colabfold:  37%|███▋      | 1.28G/3.47G [01:02<01:41, 23.1MB/s]\rDownloading AlphaFold2-ptm weights to /root/.cache/colabfold:  37%|███▋      | 1.28G/3.47G [01:02<01:41, 23.1MB/s]\rDownloading AlphaFold2-ptm weights to /root/.cache/colabfold:  37%|███▋      | 1.29G/3.47G [01:02<01:41, 23.0MB/s]\rDownloading AlphaFold2-ptm weights to /root/.cache/colabfold:  37%|███▋      | 1.29G/3.47G [01:02<01:41, 23.0MB/s]\rDownloading AlphaFold2-ptm weights to /root/.cache/colabfold:  37%|███▋      | 1.29G/3.47G [01:02<01:40, 23.1MB/s]\rDownloading AlphaFold2-ptm weights to /root/.cache/colabfold:  37%|███▋      | 1.30G/3.47G [01:02<01:40, 23.1MB/s]\rDownloading AlphaFold2-ptm weights to /root/.cache/colabfold:  37%|███▋      | 1.30G/3.47G [01:03<01:40, 23.1MB/s]\rDownloading AlphaFold2-ptm weights to /root/.cache/colabfold:  38%|███▊      | 1.30G/3.47G [01:03<01:40, 23.1MB/s]\rDownloading AlphaFold2-ptm weights to /root/.cache/colabfold:  38%|███▊      | 1.31G/3.47G [01:03<01:40, 23.2MB/s]\rDownloading AlphaFold2-ptm weights to /root/.cache/colabfold:  38%|███▊      | 1.31G/3.47G [01:03<01:40, 23.1MB/s]\rDownloading AlphaFold2-ptm weights to /root/.cache/colabfold:  38%|███▊      | 1.31G/3.47G [01:03<01:39, 23.2MB/s]\rDownloading AlphaFold2-ptm weights to /root/.cache/colabfold:  38%|███▊      | 1.32G/3.47G [01:03<01:39, 23.2MB/s]\rDownloading AlphaFold2-ptm weights to /root/.cache/colabfold:  38%|███▊      | 1.32G/3.47G [01:04<01:39, 23.1MB/s]\rDownloading AlphaFold2-ptm weights to /root/.cache/colabfold:  38%|███▊      | 1.32G/3.47G [01:04<01:39, 23.1MB/s]\rDownloading AlphaFold2-ptm weights to /root/.cache/colabfold:  38%|███▊      | 1.33G/3.47G [01:04<01:39, 23.1MB/s]\rDownloading AlphaFold2-ptm weights to /root/.cache/colabfold:  38%|███▊      | 1.33G/3.47G [01:04<01:39, 23.1MB/s]\rDownloading AlphaFold2-ptm weights to /root/.cache/colabfold:  39%|███▊      | 1.34G/3.47G [01:04<01:39, 23.1MB/s]\rDownloading AlphaFold2-ptm weights to /root/.cache/colabfold:  39%|███▊      | 1.34G/3.47G [01:04<01:38, 23.2MB/s]\rDownloading AlphaFold2-ptm weights to /root/.cache/colabfold:  39%|███▊      | 1.34G/3.47G [01:05<01:38, 23.2MB/s]\rDownloading AlphaFold2-ptm weights to /root/.cache/colabfold:  39%|███▉      | 1.35G/3.47G [01:05<01:38, 23.2MB/s]\rDownloading AlphaFold2-ptm weights to /root/.cache/colabfold:  39%|███▉      | 1.35G/3.47G [01:05<01:42, 22.1MB/s]\rDownloading AlphaFold2-ptm weights to /root/.cache/colabfold:  39%|███▉      | 1.35G/3.47G [01:05<01:44, 21.7MB/s]\rDownloading AlphaFold2-ptm weights to /root/.cache/colabfold:  39%|███▉      | 1.36G/3.47G [01:05<01:42, 22.2MB/s]\rDownloading AlphaFold2-ptm weights to /root/.cache/colabfold:  39%|███▉      | 1.36G/3.47G [01:05<01:40, 22.5MB/s]\rDownloading AlphaFold2-ptm weights to /root/.cache/colabfold:  39%|███▉      | 1.36G/3.47G [01:06<01:39, 22.7MB/s]\rDownloading AlphaFold2-ptm weights to /root/.cache/colabfold:  39%|███▉      | 1.37G/3.47G [01:06<01:38, 22.8MB/s]\rDownloading AlphaFold2-ptm weights to /root/.cache/colabfold:  40%|███▉      | 1.37G/3.47G [01:06<01:38, 22.9MB/s]\rDownloading AlphaFold2-ptm weights to /root/.cache/colabfold:  40%|███▉      | 1.37G/3.47G [01:06<01:37, 22.9MB/s]\rDownloading AlphaFold2-ptm weights to /root/.cache/colabfold:  40%|███▉      | 1.38G/3.47G [01:06<01:37, 23.0MB/s]\rDownloading AlphaFold2-ptm weights to /root/.cache/colabfold:  40%|███▉      | 1.38G/3.47G [01:06<01:37, 23.1MB/s]\rDownloading AlphaFold2-ptm weights to /root/.cache/colabfold:  40%|███▉      | 1.38G/3.47G [01:07<01:36, 23.1MB/s]\rDownloading AlphaFold2-ptm weights to /root/.cache/colabfold:  40%|████      | 1.39G/3.47G [01:07<01:36, 23.2MB/s]\rDownloading AlphaFold2-ptm weights to /root/.cache/colabfold:  40%|████      | 1.39G/3.47G [01:07<01:36, 23.1MB/s]\rDownloading AlphaFold2-ptm weights to /root/.cache/colabfold:  40%|████      | 1.40G/3.47G [01:07<01:36, 23.1MB/s]\rDownloading AlphaFold2-ptm weights to /root/.cache/colabfold:  40%|████      | 1.40G/3.47G [01:07<01:35, 23.2MB/s]\rDownloading AlphaFold2-ptm weights to /root/.cache/colabfold:  40%|████      | 1.40G/3.47G [01:07<01:35, 23.2MB/s]\rDownloading AlphaFold2-ptm weights to /root/.cache/colabfold:  41%|████      | 1.41G/3.47G [01:08<01:35, 23.2MB/s]\rDownloading AlphaFold2-ptm weights to /root/.cache/colabfold:  41%|████      | 1.41G/3.47G [01:08<01:35, 23.2MB/s]\rDownloading AlphaFold2-ptm weights to /root/.cache/colabfold:  41%|████      | 1.41G/3.47G [01:08<01:35, 23.2MB/s]\rDownloading AlphaFold2-ptm weights to /root/.cache/colabfold:  41%|████      | 1.42G/3.47G [01:08<01:35, 23.2MB/s]\rDownloading AlphaFold2-ptm weights to /root/.cache/colabfold:  41%|████      | 1.42G/3.47G [01:08<01:34, 23.2MB/s]\rDownloading AlphaFold2-ptm weights to /root/.cache/colabfold:  41%|████      | 1.42G/3.47G [01:08<01:39, 22.1MB/s]\rDownloading AlphaFold2-ptm weights to /root/.cache/colabfold:  41%|████      | 1.43G/3.47G [01:09<01:51, 19.6MB/s]\rDownloading AlphaFold2-ptm weights to /root/.cache/colabfold:  41%|████      | 1.43G/3.47G [01:09<02:05, 17.4MB/s]\rDownloading AlphaFold2-ptm weights to /root/.cache/colabfold:  41%|████▏     | 1.43G/3.47G [01:09<01:53, 19.2MB/s]\rDownloading AlphaFold2-ptm weights to /root/.cache/colabfold:  41%|████▏     | 1.43G/3.47G [01:09<01:47, 20.4MB/s]\rDownloading AlphaFold2-ptm weights to /root/.cache/colabfold:  41%|████▏     | 1.44G/3.47G [01:09<01:41, 21.5MB/s]\rDownloading AlphaFold2-ptm weights to /root/.cache/colabfold:  42%|████▏     | 1.44G/3.47G [01:09<01:37, 22.2MB/s]\rDownloading AlphaFold2-ptm weights to /root/.cache/colabfold:  42%|████▏     | 1.44G/3.47G [01:09<01:29, 24.3MB/s]\rDownloading AlphaFold2-ptm weights to /root/.cache/colabfold:  42%|████▏     | 1.45G/3.47G [01:10<01:37, 22.2MB/s]\rDownloading AlphaFold2-ptm weights to /root/.cache/colabfold:  42%|████▏     | 1.45G/3.47G [01:10<01:37, 22.3MB/s]\rDownloading AlphaFold2-ptm weights to /root/.cache/colabfold:  42%|████▏     | 1.45G/3.47G [01:10<01:35, 22.6MB/s]\rDownloading AlphaFold2-ptm weights to /root/.cache/colabfold:  42%|████▏     | 1.45G/3.47G [01:10<01:31, 23.6MB/s]\rDownloading AlphaFold2-ptm weights to /root/.cache/colabfold:  42%|████▏     | 1.46G/3.47G [01:10<01:38, 21.8MB/s]\rDownloading AlphaFold2-ptm weights to /root/.cache/colabfold:  42%|████▏     | 1.46G/3.47G [01:10<01:31, 23.7MB/s]\rDownloading AlphaFold2-ptm weights to /root/.cache/colabfold:  42%|████▏     | 1.46G/3.47G [01:10<01:36, 22.3MB/s]\rDownloading AlphaFold2-ptm weights to /root/.cache/colabfold:  42%|████▏     | 1.46G/3.47G [01:11<02:16, 15.8MB/s]\rDownloading AlphaFold2-ptm weights to /root/.cache/colabfold:  42%|████▏     | 1.47G/3.47G [01:11<02:06, 17.0MB/s]\rDownloading AlphaFold2-ptm weights to /root/.cache/colabfold:  42%|████▏     | 1.47G/3.47G [01:11<01:53, 18.9MB/s]\rDownloading AlphaFold2-ptm weights to /root/.cache/colabfold:  43%|████▎     | 1.47G/3.47G [01:11<01:45, 20.2MB/s]\rDownloading AlphaFold2-ptm weights to /root/.cache/colabfold:  43%|████▎     | 1.48G/3.47G [01:11<01:41, 21.2MB/s]\rDownloading AlphaFold2-ptm weights to /root/.cache/colabfold:  43%|████▎     | 1.48G/3.47G [01:11<01:37, 21.8MB/s]\rDownloading AlphaFold2-ptm weights to /root/.cache/colabfold:  43%|████▎     | 1.48G/3.47G [01:12<01:35, 22.2MB/s]\rDownloading AlphaFold2-ptm weights to /root/.cache/colabfold:  43%|████▎     | 1.49G/3.47G [01:12<01:34, 22.5MB/s]\rDownloading AlphaFold2-ptm weights to /root/.cache/colabfold:  43%|████▎     | 1.49G/3.47G [01:12<01:33, 22.7MB/s]\rDownloading AlphaFold2-ptm weights to /root/.cache/colabfold:  43%|████▎     | 1.49G/3.47G [01:12<01:32, 22.9MB/s]\rDownloading AlphaFold2-ptm weights to /root/.cache/colabfold:  43%|████▎     | 1.50G/3.47G [01:12<01:31, 23.0MB/s]\rDownloading AlphaFold2-ptm weights to /root/.cache/colabfold:  43%|████▎     | 1.50G/3.47G [01:12<01:35, 22.0MB/s]\rDownloading AlphaFold2-ptm weights to /root/.cache/colabfold:  43%|████▎     | 1.51G/3.47G [01:13<01:37, 21.7MB/s]\rDownloading AlphaFold2-ptm weights to /root/.cache/colabfold:  44%|████▎     | 1.51G/3.47G [01:13<01:35, 22.1MB/s]\rDownloading AlphaFold2-ptm weights to /root/.cache/colabfold:  44%|████▎     | 1.51G/3.47G [01:13<01:33, 22.4MB/s]\rDownloading AlphaFold2-ptm weights to /root/.cache/colabfold:  44%|████▎     | 1.52G/3.47G [01:13<01:32, 22.6MB/s]\rDownloading AlphaFold2-ptm weights to /root/.cache/colabfold:  44%|████▍     | 1.52G/3.47G [01:13<01:31, 22.8MB/s]\rDownloading AlphaFold2-ptm weights to /root/.cache/colabfold:  44%|████▍     | 1.52G/3.47G [01:13<01:31, 22.9MB/s]\rDownloading AlphaFold2-ptm weights to /root/.cache/colabfold:  44%|████▍     | 1.53G/3.47G [01:14<01:32, 22.6MB/s]\rDownloading AlphaFold2-ptm weights to /root/.cache/colabfold:  44%|████▍     | 1.53G/3.47G [01:14<01:31, 22.8MB/s]\rDownloading AlphaFold2-ptm weights to /root/.cache/colabfold:  44%|████▍     | 1.53G/3.47G [01:14<01:30, 22.9MB/s]\rDownloading AlphaFold2-ptm weights to /root/.cache/colabfold:  44%|████▍     | 1.54G/3.47G [01:14<01:30, 23.0MB/s]\rDownloading AlphaFold2-ptm weights to /root/.cache/colabfold:  44%|████▍     | 1.54G/3.47G [01:14<01:29, 23.0MB/s]\rDownloading AlphaFold2-ptm weights to /root/.cache/colabfold:  45%|████▍     | 1.54G/3.47G [01:14<01:29, 23.1MB/s]\rDownloading AlphaFold2-ptm weights to /root/.cache/colabfold:  45%|████▍     | 1.55G/3.47G [01:15<01:29, 23.1MB/s]\rDownloading AlphaFold2-ptm weights to /root/.cache/colabfold:  45%|████▍     | 1.55G/3.47G [01:15<01:28, 23.1MB/s]\rDownloading AlphaFold2-ptm weights to /root/.cache/colabfold:  45%|████▍     | 1.55G/3.47G [01:15<01:28, 23.1MB/s]\rDownloading AlphaFold2-ptm weights to /root/.cache/colabfold:  45%|████▍     | 1.56G/3.47G [01:15<01:28, 23.2MB/s]\rDownloading AlphaFold2-ptm weights to /root/.cache/colabfold:  45%|████▌     | 1.56G/3.47G [01:15<01:28, 23.1MB/s]\rDownloading AlphaFold2-ptm weights to /root/.cache/colabfold:  45%|████▌     | 1.57G/3.47G [01:15<01:28, 23.2MB/s]\rDownloading AlphaFold2-ptm weights to /root/.cache/colabfold:  45%|████▌     | 1.57G/3.47G [01:16<01:27, 23.2MB/s]\rDownloading AlphaFold2-ptm weights to /root/.cache/colabfold:  45%|████▌     | 1.57G/3.47G [01:16<01:27, 23.2MB/s]\rDownloading AlphaFold2-ptm weights to /root/.cache/colabfold:  45%|████▌     | 1.58G/3.47G [01:16<01:27, 23.2MB/s]\rDownloading AlphaFold2-ptm weights to /root/.cache/colabfold:  46%|████▌     | 1.58G/3.47G [01:16<01:27, 23.2MB/s]\rDownloading AlphaFold2-ptm weights to /root/.cache/colabfold:  46%|████▌     | 1.58G/3.47G [01:16<01:27, 23.2MB/s]\rDownloading AlphaFold2-ptm weights to /root/.cache/colabfold:  46%|████▌     | 1.59G/3.47G [01:16<01:27, 23.2MB/s]\rDownloading AlphaFold2-ptm weights to /root/.cache/colabfold:  46%|████▌     | 1.59G/3.47G [01:17<01:26, 23.2MB/s]\rDownloading AlphaFold2-ptm weights to /root/.cache/colabfold:  46%|████▌     | 1.59G/3.47G [01:17<01:26, 23.2MB/s]\rDownloading AlphaFold2-ptm weights to /root/.cache/colabfold:  46%|████▌     | 1.60G/3.47G [01:17<01:26, 23.2MB/s]\rDownloading AlphaFold2-ptm weights to /root/.cache/colabfold:  46%|████▌     | 1.60G/3.47G [01:17<01:26, 23.2MB/s]\rDownloading AlphaFold2-ptm weights to /root/.cache/colabfold:  46%|████▋     | 1.60G/3.47G [01:17<01:26, 23.2MB/s]\rDownloading AlphaFold2-ptm weights to /root/.cache/colabfold:  46%|████▋     | 1.61G/3.47G [01:17<01:26, 23.2MB/s]\rDownloading AlphaFold2-ptm weights to /root/.cache/colabfold:  46%|████▋     | 1.61G/3.47G [01:18<01:25, 23.2MB/s]\rDownloading AlphaFold2-ptm weights to /root/.cache/colabfold:  47%|████▋     | 1.62G/3.47G [01:18<01:25, 23.2MB/s]\rDownloading AlphaFold2-ptm weights to /root/.cache/colabfold:  47%|████▋     | 1.62G/3.47G [01:18<01:25, 23.2MB/s]\rDownloading AlphaFold2-ptm weights to /root/.cache/colabfold:  47%|████▋     | 1.62G/3.47G [01:18<01:25, 23.2MB/s]\rDownloading AlphaFold2-ptm weights to /root/.cache/colabfold:  47%|████▋     | 1.63G/3.47G [01:18<01:30, 22.0MB/s]\rDownloading AlphaFold2-ptm weights to /root/.cache/colabfold:  47%|████▋     | 1.63G/3.47G [01:18<01:41, 19.5MB/s]\rDownloading AlphaFold2-ptm weights to /root/.cache/colabfold:  47%|████▋     | 1.63G/3.47G [01:19<01:53, 17.4MB/s]\rDownloading AlphaFold2-ptm weights to /root/.cache/colabfold:  47%|████▋     | 1.63G/3.47G [01:19<01:43, 19.0MB/s]\rDownloading AlphaFold2-ptm weights to /root/.cache/colabfold:  47%|████▋     | 1.64G/3.47G [01:19<01:54, 17.2MB/s]\rDownloading AlphaFold2-ptm weights to /root/.cache/colabfold:  47%|████▋     | 1.64G/3.47G [01:19<01:47, 18.3MB/s]\rDownloading AlphaFold2-ptm weights to /root/.cache/colabfold:  47%|████▋     | 1.64G/3.47G [01:19<01:40, 19.6MB/s]\rDownloading AlphaFold2-ptm weights to /root/.cache/colabfold:  47%|████▋     | 1.65G/3.47G [01:19<01:34, 20.7MB/s]\rDownloading AlphaFold2-ptm weights to /root/.cache/colabfold:  48%|████▊     | 1.65G/3.47G [01:20<01:31, 21.4MB/s]\rDownloading AlphaFold2-ptm weights to /root/.cache/colabfold:  48%|████▊     | 1.65G/3.47G [01:20<01:28, 21.9MB/s]\rDownloading AlphaFold2-ptm weights to /root/.cache/colabfold:  48%|████▊     | 1.66G/3.47G [01:20<01:27, 22.3MB/s]\rDownloading AlphaFold2-ptm weights to /root/.cache/colabfold:  48%|████▊     | 1.66G/3.47G [01:20<01:25, 22.6MB/s]\rDownloading AlphaFold2-ptm weights to /root/.cache/colabfold:  48%|████▊     | 1.66G/3.47G [01:20<01:25, 22.8MB/s]\rDownloading AlphaFold2-ptm weights to /root/.cache/colabfold:  48%|████▊     | 1.67G/3.47G [01:20<01:24, 22.9MB/s]\rDownloading AlphaFold2-ptm weights to /root/.cache/colabfold:  48%|████▊     | 1.67G/3.47G [01:21<01:23, 23.0MB/s]\rDownloading AlphaFold2-ptm weights to /root/.cache/colabfold:  48%|████▊     | 1.67G/3.47G [01:21<01:23, 23.0MB/s]\rDownloading AlphaFold2-ptm weights to /root/.cache/colabfold:  48%|████▊     | 1.68G/3.47G [01:21<01:23, 23.1MB/s]\rDownloading AlphaFold2-ptm weights to /root/.cache/colabfold:  48%|████▊     | 1.68G/3.47G [01:21<01:22, 23.1MB/s]\rDownloading AlphaFold2-ptm weights to /root/.cache/colabfold:  49%|████▊     | 1.69G/3.47G [01:21<01:22, 23.2MB/s]\rDownloading AlphaFold2-ptm weights to /root/.cache/colabfold:  49%|████▊     | 1.69G/3.47G [01:21<01:22, 23.2MB/s]\rDownloading AlphaFold2-ptm weights to /root/.cache/colabfold:  49%|████▉     | 1.69G/3.47G [01:22<01:22, 23.2MB/s]\rDownloading AlphaFold2-ptm weights to /root/.cache/colabfold:  49%|████▉     | 1.70G/3.47G [01:22<01:21, 23.2MB/s]\rDownloading AlphaFold2-ptm weights to /root/.cache/colabfold:  49%|████▉     | 1.70G/3.47G [01:22<01:21, 23.2MB/s]\rDownloading AlphaFold2-ptm weights to /root/.cache/colabfold:  49%|████▉     | 1.70G/3.47G [01:22<01:21, 23.2MB/s]\rDownloading AlphaFold2-ptm weights to /root/.cache/colabfold:  49%|████▉     | 1.71G/3.47G [01:22<01:21, 23.1MB/s]\rDownloading AlphaFold2-ptm weights to /root/.cache/colabfold:  49%|████▉     | 1.71G/3.47G [01:22<01:22, 22.8MB/s]\rDownloading AlphaFold2-ptm weights to /root/.cache/colabfold:  49%|████▉     | 1.71G/3.47G [01:23<01:21, 23.0MB/s]\rDownloading AlphaFold2-ptm weights to /root/.cache/colabfold:  50%|████▉     | 1.72G/3.47G [01:23<01:21, 23.0MB/s]\rDownloading AlphaFold2-ptm weights to /root/.cache/colabfold:  50%|████▉     | 1.72G/3.47G [01:23<01:21, 23.1MB/s]\rDownloading AlphaFold2-ptm weights to /root/.cache/colabfold:  50%|████▉     | 1.72G/3.47G [01:23<01:20, 23.1MB/s]\rDownloading AlphaFold2-ptm weights to /root/.cache/colabfold:  50%|████▉     | 1.73G/3.47G [01:23<01:20, 23.2MB/s]\rDownloading AlphaFold2-ptm weights to /root/.cache/colabfold:  50%|████▉     | 1.73G/3.47G [01:23<01:11, 26.0MB/s]\rDownloading AlphaFold2-ptm weights to /root/.cache/colabfold:  50%|█████     | 1.73G/3.47G [01:24<01:33, 19.9MB/s]\rDownloading AlphaFold2-ptm weights to /root/.cache/colabfold:  50%|█████     | 1.74G/3.47G [01:24<01:19, 23.5MB/s]\rDownloading AlphaFold2-ptm weights to /root/.cache/colabfold:  50%|█████     | 1.74G/3.47G [01:24<01:19, 23.3MB/s]\rDownloading AlphaFold2-ptm weights to /root/.cache/colabfold:  50%|█████     | 1.75G/3.47G [01:24<01:19, 23.3MB/s]\rDownloading AlphaFold2-ptm weights to /root/.cache/colabfold:  50%|█████     | 1.75G/3.47G [01:24<01:19, 23.3MB/s]\rDownloading AlphaFold2-ptm weights to /root/.cache/colabfold:  51%|█████     | 1.75G/3.47G [01:24<01:09, 26.3MB/s]\rDownloading AlphaFold2-ptm weights to /root/.cache/colabfold:  51%|█████     | 1.76G/3.47G [01:24<01:16, 24.1MB/s]\rDownloading AlphaFold2-ptm weights to /root/.cache/colabfold:  51%|█████     | 1.76G/3.47G [01:25<01:22, 22.3MB/s]\rDownloading AlphaFold2-ptm weights to /root/.cache/colabfold:  51%|█████     | 1.76G/3.47G [01:25<01:22, 22.3MB/s]\rDownloading AlphaFold2-ptm weights to /root/.cache/colabfold:  51%|█████     | 1.76G/3.47G [01:25<01:10, 26.0MB/s]\rDownloading AlphaFold2-ptm weights to /root/.cache/colabfold:  51%|█████     | 1.77G/3.47G [01:25<01:22, 22.2MB/s]\rDownloading AlphaFold2-ptm weights to /root/.cache/colabfold:  51%|█████     | 1.77G/3.47G [01:25<01:30, 20.2MB/s]\rDownloading AlphaFold2-ptm weights to /root/.cache/colabfold:  51%|█████     | 1.77G/3.47G [01:25<01:27, 20.9MB/s]\rDownloading AlphaFold2-ptm weights to /root/.cache/colabfold:  51%|█████     | 1.77G/3.47G [01:25<01:19, 22.9MB/s]\rDownloading AlphaFold2-ptm weights to /root/.cache/colabfold:  51%|█████     | 1.78G/3.47G [01:25<01:19, 22.7MB/s]\rDownloading AlphaFold2-ptm weights to /root/.cache/colabfold:  51%|█████▏    | 1.78G/3.47G [01:26<01:21, 22.3MB/s]\rDownloading AlphaFold2-ptm weights to /root/.cache/colabfold:  51%|█████▏    | 1.78G/3.47G [01:26<01:17, 23.4MB/s]\rDownloading AlphaFold2-ptm weights to /root/.cache/colabfold:  51%|█████▏    | 1.78G/3.47G [01:26<01:18, 23.1MB/s]\rDownloading AlphaFold2-ptm weights to /root/.cache/colabfold:  51%|█████▏    | 1.79G/3.47G [01:26<01:20, 22.5MB/s]\rDownloading AlphaFold2-ptm weights to /root/.cache/colabfold:  52%|█████▏    | 1.79G/3.47G [01:26<01:16, 23.5MB/s]\rDownloading AlphaFold2-ptm weights to /root/.cache/colabfold:  52%|█████▏    | 1.79G/3.47G [01:26<01:17, 23.2MB/s]\rDownloading AlphaFold2-ptm weights to /root/.cache/colabfold:  52%|█████▏    | 1.79G/3.47G [01:26<01:20, 22.4MB/s]\rDownloading AlphaFold2-ptm weights to /root/.cache/colabfold:  52%|█████▏    | 1.80G/3.47G [01:26<01:15, 23.7MB/s]\rDownloading AlphaFold2-ptm weights to /root/.cache/colabfold:  52%|█████▏    | 1.80G/3.47G [01:27<01:30, 19.9MB/s]\rDownloading AlphaFold2-ptm weights to /root/.cache/colabfold:  52%|█████▏    | 1.80G/3.47G [01:27<01:43, 17.4MB/s]\rDownloading AlphaFold2-ptm weights to /root/.cache/colabfold:  52%|█████▏    | 1.80G/3.47G [01:27<01:35, 18.7MB/s]\rDownloading AlphaFold2-ptm weights to /root/.cache/colabfold:  52%|█████▏    | 1.81G/3.47G [01:27<01:28, 20.3MB/s]\rDownloading AlphaFold2-ptm weights to /root/.cache/colabfold:  52%|█████▏    | 1.81G/3.47G [01:27<01:23, 21.3MB/s]\rDownloading AlphaFold2-ptm weights to /root/.cache/colabfold:  52%|█████▏    | 1.81G/3.47G [01:27<01:21, 21.9MB/s]\rDownloading AlphaFold2-ptm weights to /root/.cache/colabfold:  52%|█████▏    | 1.82G/3.47G [01:27<01:19, 22.3MB/s]\rDownloading AlphaFold2-ptm weights to /root/.cache/colabfold:  52%|█████▏    | 1.82G/3.47G [01:28<01:18, 22.5MB/s]\rDownloading AlphaFold2-ptm weights to /root/.cache/colabfold:  53%|█████▎    | 1.82G/3.47G [01:28<01:17, 22.7MB/s]\rDownloading AlphaFold2-ptm weights to /root/.cache/colabfold:  53%|█████▎    | 1.83G/3.47G [01:28<01:17, 22.8MB/s]\rDownloading AlphaFold2-ptm weights to /root/.cache/colabfold:  53%|█████▎    | 1.83G/3.47G [01:28<01:16, 23.0MB/s]\rDownloading AlphaFold2-ptm weights to /root/.cache/colabfold:  53%|█████▎    | 1.83G/3.47G [01:28<01:16, 23.0MB/s]\rDownloading AlphaFold2-ptm weights to /root/.cache/colabfold:  53%|█████▎    | 1.84G/3.47G [01:28<01:15, 23.1MB/s]\rDownloading AlphaFold2-ptm weights to /root/.cache/colabfold:  53%|█████▎    | 1.84G/3.47G [01:29<01:15, 23.1MB/s]\rDownloading AlphaFold2-ptm weights to /root/.cache/colabfold:  53%|█████▎    | 1.84G/3.47G [01:29<01:15, 23.2MB/s]\rDownloading AlphaFold2-ptm weights to /root/.cache/colabfold:  53%|█████▎    | 1.85G/3.47G [01:29<01:15, 23.2MB/s]\rDownloading AlphaFold2-ptm weights to /root/.cache/colabfold:  53%|█████▎    | 1.85G/3.47G [01:29<01:14, 23.2MB/s]\rDownloading AlphaFold2-ptm weights to /root/.cache/colabfold:  54%|█████▎    | 1.86G/3.47G [01:29<01:14, 23.1MB/s]\rDownloading AlphaFold2-ptm weights to /root/.cache/colabfold:  54%|█████▎    | 1.86G/3.47G [01:29<01:14, 23.2MB/s]\rDownloading AlphaFold2-ptm weights to /root/.cache/colabfold:  54%|█████▎    | 1.86G/3.47G [01:30<01:14, 23.1MB/s]\rDownloading AlphaFold2-ptm weights to /root/.cache/colabfold:  54%|█████▍    | 1.87G/3.47G [01:30<01:14, 23.2MB/s]\rDownloading AlphaFold2-ptm weights to /root/.cache/colabfold:  54%|█████▍    | 1.87G/3.47G [01:30<01:13, 23.2MB/s]\rDownloading AlphaFold2-ptm weights to /root/.cache/colabfold:  54%|█████▍    | 1.87G/3.47G [01:30<01:13, 23.2MB/s]\rDownloading AlphaFold2-ptm weights to /root/.cache/colabfold:  54%|█████▍    | 1.88G/3.47G [01:30<01:13, 23.2MB/s]\rDownloading AlphaFold2-ptm weights to /root/.cache/colabfold:  54%|█████▍    | 1.88G/3.47G [01:30<01:13, 23.2MB/s]\rDownloading AlphaFold2-ptm weights to /root/.cache/colabfold:  54%|█████▍    | 1.88G/3.47G [01:31<01:13, 23.2MB/s]\rDownloading AlphaFold2-ptm weights to /root/.cache/colabfold:  54%|█████▍    | 1.89G/3.47G [01:31<01:13, 23.2MB/s]\rDownloading AlphaFold2-ptm weights to /root/.cache/colabfold:  55%|█████▍    | 1.89G/3.47G [01:31<01:12, 23.2MB/s]\rDownloading AlphaFold2-ptm weights to /root/.cache/colabfold:  55%|█████▍    | 1.89G/3.47G [01:31<01:12, 23.2MB/s]\rDownloading AlphaFold2-ptm weights to /root/.cache/colabfold:  55%|█████▍    | 1.90G/3.47G [01:31<01:12, 23.2MB/s]\rDownloading AlphaFold2-ptm weights to /root/.cache/colabfold:  55%|█████▍    | 1.90G/3.47G [01:31<01:12, 23.2MB/s]\rDownloading AlphaFold2-ptm weights to /root/.cache/colabfold:  55%|█████▍    | 1.90G/3.47G [01:32<01:12, 23.2MB/s]\rDownloading AlphaFold2-ptm weights to /root/.cache/colabfold:  55%|█████▌    | 1.91G/3.47G [01:32<01:12, 23.2MB/s]\rDownloading AlphaFold2-ptm weights to /root/.cache/colabfold:  55%|█████▌    | 1.91G/3.47G [01:32<01:11, 23.2MB/s]\rDownloading AlphaFold2-ptm weights to /root/.cache/colabfold:  55%|█████▌    | 1.92G/3.47G [01:32<01:04, 25.8MB/s]\rDownloading AlphaFold2-ptm weights to /root/.cache/colabfold:  55%|█████▌    | 1.92G/3.47G [01:32<01:07, 24.5MB/s]\rDownloading AlphaFold2-ptm weights to /root/.cache/colabfold:  55%|█████▌    | 1.92G/3.47G [01:32<01:14, 22.3MB/s]\rDownloading AlphaFold2-ptm weights to /root/.cache/colabfold:  55%|█████▌    | 1.92G/3.47G [01:32<01:16, 21.6MB/s]\rDownloading AlphaFold2-ptm weights to /root/.cache/colabfold:  56%|█████▌    | 1.93G/3.47G [01:33<01:14, 22.1MB/s]\rDownloading AlphaFold2-ptm weights to /root/.cache/colabfold:  56%|█████▌    | 1.93G/3.47G [01:33<01:13, 22.5MB/s]\rDownloading AlphaFold2-ptm weights to /root/.cache/colabfold:  56%|█████▌    | 1.93G/3.47G [01:33<01:12, 22.7MB/s]\rDownloading AlphaFold2-ptm weights to /root/.cache/colabfold:  56%|█████▌    | 1.94G/3.47G [01:33<01:11, 22.9MB/s]\rDownloading AlphaFold2-ptm weights to /root/.cache/colabfold:  56%|█████▌    | 1.94G/3.47G [01:33<01:16, 21.5MB/s]\rDownloading AlphaFold2-ptm weights to /root/.cache/colabfold:  56%|█████▌    | 1.94G/3.47G [01:33<01:16, 21.3MB/s]\rDownloading AlphaFold2-ptm weights to /root/.cache/colabfold:  56%|█████▌    | 1.95G/3.47G [01:34<01:14, 21.8MB/s]\rDownloading AlphaFold2-ptm weights to /root/.cache/colabfold:  56%|█████▋    | 1.95G/3.47G [01:34<01:16, 21.2MB/s]\rDownloading AlphaFold2-ptm weights to /root/.cache/colabfold:  56%|█████▋    | 1.95G/3.47G [01:34<01:26, 18.9MB/s]\rDownloading AlphaFold2-ptm weights to /root/.cache/colabfold:  56%|█████▋    | 1.95G/3.47G [01:34<01:35, 17.1MB/s]\rDownloading AlphaFold2-ptm weights to /root/.cache/colabfold:  56%|█████▋    | 1.96G/3.47G [01:34<01:25, 19.0MB/s]\rDownloading AlphaFold2-ptm weights to /root/.cache/colabfold:  57%|█████▋    | 1.96G/3.47G [01:34<01:19, 20.2MB/s]\rDownloading AlphaFold2-ptm weights to /root/.cache/colabfold:  57%|█████▋    | 1.97G/3.47G [01:35<01:16, 21.1MB/s]\rDownloading AlphaFold2-ptm weights to /root/.cache/colabfold:  57%|█████▋    | 1.97G/3.47G [01:35<01:13, 21.7MB/s]\rDownloading AlphaFold2-ptm weights to /root/.cache/colabfold:  57%|█████▋    | 1.97G/3.47G [01:35<01:12, 22.2MB/s]\rDownloading AlphaFold2-ptm weights to /root/.cache/colabfold:  57%|█████▋    | 1.98G/3.47G [01:35<01:11, 22.5MB/s]\rDownloading AlphaFold2-ptm weights to /root/.cache/colabfold:  57%|█████▋    | 1.98G/3.47G [01:35<01:10, 22.7MB/s]\rDownloading AlphaFold2-ptm weights to /root/.cache/colabfold:  57%|█████▋    | 1.98G/3.47G [01:35<01:09, 22.9MB/s]\rDownloading AlphaFold2-ptm weights to /root/.cache/colabfold:  57%|█████▋    | 1.99G/3.47G [01:36<01:08, 23.0MB/s]\rDownloading AlphaFold2-ptm weights to /root/.cache/colabfold:  57%|█████▋    | 1.99G/3.47G [01:36<01:08, 23.1MB/s]\rDownloading AlphaFold2-ptm weights to /root/.cache/colabfold:  58%|█████▊    | 1.99G/3.47G [01:36<01:08, 23.1MB/s]\rDownloading AlphaFold2-ptm weights to /root/.cache/colabfold:  58%|█████▊    | 2.00G/3.47G [01:36<01:08, 23.1MB/s]\rDownloading AlphaFold2-ptm weights to /root/.cache/colabfold:  58%|█████▊    | 2.00G/3.47G [01:36<01:07, 23.2MB/s]\rDownloading AlphaFold2-ptm weights to /root/.cache/colabfold:  58%|█████▊    | 2.00G/3.47G [01:36<01:07, 23.2MB/s]\rDownloading AlphaFold2-ptm weights to /root/.cache/colabfold:  58%|█████▊    | 2.01G/3.47G [01:37<01:07, 23.1MB/s]\rDownloading AlphaFold2-ptm weights to /root/.cache/colabfold:  58%|█████▊    | 2.01G/3.47G [01:37<01:07, 23.1MB/s]\rDownloading AlphaFold2-ptm weights to /root/.cache/colabfold:  58%|█████▊    | 2.02G/3.47G [01:37<01:07, 23.2MB/s]\rDownloading AlphaFold2-ptm weights to /root/.cache/colabfold:  58%|█████▊    | 2.02G/3.47G [01:37<01:07, 23.2MB/s]\rDownloading AlphaFold2-ptm weights to /root/.cache/colabfold:  58%|█████▊    | 2.02G/3.47G [01:37<01:06, 23.2MB/s]\rDownloading AlphaFold2-ptm weights to /root/.cache/colabfold:  58%|█████▊    | 2.03G/3.47G [01:37<01:06, 23.2MB/s]\rDownloading AlphaFold2-ptm weights to /root/.cache/colabfold:  59%|█████▊    | 2.03G/3.47G [01:38<01:06, 23.1MB/s]\rDownloading AlphaFold2-ptm weights to /root/.cache/colabfold:  59%|█████▊    | 2.03G/3.47G [01:38<01:06, 23.1MB/s]\rDownloading AlphaFold2-ptm weights to /root/.cache/colabfold:  59%|█████▊    | 2.04G/3.47G [01:38<01:06, 23.1MB/s]\rDownloading AlphaFold2-ptm weights to /root/.cache/colabfold:  59%|█████▉    | 2.04G/3.47G [01:38<01:06, 23.1MB/s]\rDownloading AlphaFold2-ptm weights to /root/.cache/colabfold:  59%|█████▉    | 2.04G/3.47G [01:38<01:06, 23.1MB/s]\rDownloading AlphaFold2-ptm weights to /root/.cache/colabfold:  59%|█████▉    | 2.05G/3.47G [01:38<01:06, 23.1MB/s]\rDownloading AlphaFold2-ptm weights to /root/.cache/colabfold:  59%|█████▉    | 2.05G/3.47G [01:39<01:05, 23.1MB/s]\rDownloading AlphaFold2-ptm weights to /root/.cache/colabfold:  59%|█████▉    | 2.05G/3.47G [01:39<01:05, 23.1MB/s]\rDownloading AlphaFold2-ptm weights to /root/.cache/colabfold:  59%|█████▉    | 2.06G/3.47G [01:39<01:05, 23.1MB/s]\rDownloading AlphaFold2-ptm weights to /root/.cache/colabfold:  59%|█████▉    | 2.06G/3.47G [01:39<01:05, 23.2MB/s]\rDownloading AlphaFold2-ptm weights to /root/.cache/colabfold:  60%|█████▉    | 2.06G/3.47G [01:39<01:14, 20.3MB/s]\rDownloading AlphaFold2-ptm weights to /root/.cache/colabfold:  60%|█████▉    | 2.07G/3.47G [01:39<01:23, 18.0MB/s]\rDownloading AlphaFold2-ptm weights to /root/.cache/colabfold:  60%|█████▉    | 2.07G/3.47G [01:40<01:17, 19.4MB/s]\rDownloading AlphaFold2-ptm weights to /root/.cache/colabfold:  60%|█████▉    | 2.07G/3.47G [01:40<01:04, 23.1MB/s]\rDownloading AlphaFold2-ptm weights to /root/.cache/colabfold:  60%|█████▉    | 2.08G/3.47G [01:40<01:03, 23.7MB/s]\rDownloading AlphaFold2-ptm weights to /root/.cache/colabfold:  60%|█████▉    | 2.08G/3.47G [01:40<01:09, 21.6MB/s]\rDownloading AlphaFold2-ptm weights to /root/.cache/colabfold:  60%|█████▉    | 2.08G/3.47G [01:40<01:09, 21.5MB/s]\rDownloading AlphaFold2-ptm weights to /root/.cache/colabfold:  60%|██████    | 2.08G/3.47G [01:40<01:06, 22.3MB/s]\rDownloading AlphaFold2-ptm weights to /root/.cache/colabfold:  60%|██████    | 2.08G/3.47G [01:40<01:05, 22.8MB/s]\rDownloading AlphaFold2-ptm weights to /root/.cache/colabfold:  60%|██████    | 2.09G/3.47G [01:40<01:10, 21.1MB/s]\rDownloading AlphaFold2-ptm weights to /root/.cache/colabfold:  60%|██████    | 2.09G/3.47G [01:40<00:58, 25.2MB/s]\rDownloading AlphaFold2-ptm weights to /root/.cache/colabfold:  60%|██████    | 2.09G/3.47G [01:41<01:04, 22.8MB/s]\rDownloading AlphaFold2-ptm weights to /root/.cache/colabfold:  60%|██████    | 2.10G/3.47G [01:41<01:03, 23.2MB/s]\rDownloading AlphaFold2-ptm weights to /root/.cache/colabfold:  61%|██████    | 2.10G/3.47G [01:41<01:08, 21.3MB/s]\rDownloading AlphaFold2-ptm weights to /root/.cache/colabfold:  61%|██████    | 2.10G/3.47G [01:41<00:57, 25.4MB/s]\rDownloading AlphaFold2-ptm weights to /root/.cache/colabfold:  61%|██████    | 2.10G/3.47G [01:41<01:03, 23.0MB/s]\rDownloading AlphaFold2-ptm weights to /root/.cache/colabfold:  61%|██████    | 2.11G/3.47G [01:41<01:02, 23.2MB/s]\rDownloading AlphaFold2-ptm weights to /root/.cache/colabfold:  61%|██████    | 2.11G/3.47G [01:41<01:08, 21.4MB/s]\rDownloading AlphaFold2-ptm weights to /root/.cache/colabfold:  61%|██████    | 2.11G/3.47G [01:41<00:57, 25.4MB/s]\rDownloading AlphaFold2-ptm weights to /root/.cache/colabfold:  61%|██████    | 2.11G/3.47G [01:42<01:03, 23.0MB/s]\rDownloading AlphaFold2-ptm weights to /root/.cache/colabfold:  61%|██████    | 2.12G/3.47G [01:42<01:02, 23.2MB/s]\rDownloading AlphaFold2-ptm weights to /root/.cache/colabfold:  61%|██████    | 2.12G/3.47G [01:42<01:07, 21.4MB/s]\rDownloading AlphaFold2-ptm weights to /root/.cache/colabfold:  61%|██████    | 2.12G/3.47G [01:42<00:56, 25.4MB/s]\rDownloading AlphaFold2-ptm weights to /root/.cache/colabfold:  61%|██████▏   | 2.13G/3.47G [01:42<01:02, 23.0MB/s]\rDownloading AlphaFold2-ptm weights to /root/.cache/colabfold:  61%|██████▏   | 2.13G/3.47G [01:42<01:02, 23.2MB/s]\rDownloading AlphaFold2-ptm weights to /root/.cache/colabfold:  61%|██████▏   | 2.13G/3.47G [01:42<01:07, 21.4MB/s]\rDownloading AlphaFold2-ptm weights to /root/.cache/colabfold:  62%|██████▏   | 2.13G/3.47G [01:42<00:56, 25.4MB/s]\rDownloading AlphaFold2-ptm weights to /root/.cache/colabfold:  62%|██████▏   | 2.14G/3.47G [01:43<01:01, 23.1MB/s]\rDownloading AlphaFold2-ptm weights to /root/.cache/colabfold:  62%|██████▏   | 2.14G/3.47G [01:43<01:01, 23.2MB/s]\rDownloading AlphaFold2-ptm weights to /root/.cache/colabfold:  62%|██████▏   | 2.14G/3.47G [01:43<01:06, 21.4MB/s]\rDownloading AlphaFold2-ptm weights to /root/.cache/colabfold:  62%|██████▏   | 2.14G/3.47G [01:43<01:10, 20.1MB/s]\rDownloading AlphaFold2-ptm weights to /root/.cache/colabfold:  62%|██████▏   | 2.15G/3.47G [01:43<01:09, 20.5MB/s]\rDownloading AlphaFold2-ptm weights to /root/.cache/colabfold:  62%|██████▏   | 2.15G/3.47G [01:43<01:06, 21.4MB/s]\rDownloading AlphaFold2-ptm weights to /root/.cache/colabfold:  62%|██████▏   | 2.15G/3.47G [01:44<01:04, 21.9MB/s]\rDownloading AlphaFold2-ptm weights to /root/.cache/colabfold:  62%|██████▏   | 2.16G/3.47G [01:44<01:02, 22.3MB/s]\rDownloading AlphaFold2-ptm weights to /root/.cache/colabfold:  62%|██████▏   | 2.16G/3.47G [01:44<01:02, 22.6MB/s]\rDownloading AlphaFold2-ptm weights to /root/.cache/colabfold:  62%|██████▏   | 2.16G/3.47G [01:44<01:01, 22.8MB/s]\rDownloading AlphaFold2-ptm weights to /root/.cache/colabfold:  63%|██████▎   | 2.17G/3.47G [01:44<01:00, 22.9MB/s]\rDownloading AlphaFold2-ptm weights to /root/.cache/colabfold:  63%|██████▎   | 2.17G/3.47G [01:44<01:00, 23.0MB/s]\rDownloading AlphaFold2-ptm weights to /root/.cache/colabfold:  63%|██████▎   | 2.18G/3.47G [01:45<01:00, 23.0MB/s]\rDownloading AlphaFold2-ptm weights to /root/.cache/colabfold:  63%|██████▎   | 2.18G/3.47G [01:45<00:59, 23.1MB/s]\rDownloading AlphaFold2-ptm weights to /root/.cache/colabfold:  63%|██████▎   | 2.18G/3.47G [01:45<00:59, 23.2MB/s]\rDownloading AlphaFold2-ptm weights to /root/.cache/colabfold:  63%|██████▎   | 2.19G/3.47G [01:45<00:59, 23.2MB/s]\rDownloading AlphaFold2-ptm weights to /root/.cache/colabfold:  63%|██████▎   | 2.19G/3.47G [01:45<00:59, 23.2MB/s]\rDownloading AlphaFold2-ptm weights to /root/.cache/colabfold:  63%|██████▎   | 2.19G/3.47G [01:45<00:58, 23.2MB/s]\rDownloading AlphaFold2-ptm weights to /root/.cache/colabfold:  63%|██████▎   | 2.20G/3.47G [01:46<00:58, 23.2MB/s]\rDownloading AlphaFold2-ptm weights to /root/.cache/colabfold:  63%|██████▎   | 2.20G/3.47G [01:46<00:58, 23.2MB/s]\rDownloading AlphaFold2-ptm weights to /root/.cache/colabfold:  64%|██████▎   | 2.20G/3.47G [01:46<00:58, 23.2MB/s]\rDownloading AlphaFold2-ptm weights to /root/.cache/colabfold:  64%|██████▎   | 2.21G/3.47G [01:46<00:58, 23.3MB/s]\rDownloading AlphaFold2-ptm weights to /root/.cache/colabfold:  64%|██████▍   | 2.21G/3.47G [01:46<00:57, 23.3MB/s]\rDownloading AlphaFold2-ptm weights to /root/.cache/colabfold:  64%|██████▍   | 2.21G/3.47G [01:46<00:57, 23.3MB/s]\rDownloading AlphaFold2-ptm weights to /root/.cache/colabfold:  64%|██████▍   | 2.22G/3.47G [01:47<00:57, 23.3MB/s]\rDownloading AlphaFold2-ptm weights to /root/.cache/colabfold:  64%|██████▍   | 2.22G/3.47G [01:47<00:57, 23.2MB/s]\rDownloading AlphaFold2-ptm weights to /root/.cache/colabfold:  64%|██████▍   | 2.23G/3.47G [01:47<00:57, 23.3MB/s]\rDownloading AlphaFold2-ptm weights to /root/.cache/colabfold:  64%|██████▍   | 2.23G/3.47G [01:47<00:57, 23.3MB/s]\rDownloading AlphaFold2-ptm weights to /root/.cache/colabfold:  64%|██████▍   | 2.23G/3.47G [01:47<01:00, 21.8MB/s]\rDownloading AlphaFold2-ptm weights to /root/.cache/colabfold:  64%|██████▍   | 2.23G/3.47G [01:47<01:08, 19.4MB/s]\rDownloading AlphaFold2-ptm weights to /root/.cache/colabfold:  65%|██████▍   | 2.24G/3.47G [01:48<01:04, 20.4MB/s]\rDownloading AlphaFold2-ptm weights to /root/.cache/colabfold:  65%|██████▍   | 2.24G/3.47G [01:48<01:02, 21.2MB/s]\rDownloading AlphaFold2-ptm weights to /root/.cache/colabfold:  65%|██████▍   | 2.25G/3.47G [01:48<01:00, 21.8MB/s]\rDownloading AlphaFold2-ptm weights to /root/.cache/colabfold:  65%|██████▍   | 2.25G/3.47G [01:48<00:58, 22.2MB/s]\rDownloading AlphaFold2-ptm weights to /root/.cache/colabfold:  65%|██████▍   | 2.25G/3.47G [01:48<00:57, 22.5MB/s]\rDownloading AlphaFold2-ptm weights to /root/.cache/colabfold:  65%|██████▌   | 2.26G/3.47G [01:48<00:57, 22.7MB/s]\rDownloading AlphaFold2-ptm weights to /root/.cache/colabfold:  65%|██████▌   | 2.26G/3.47G [01:49<00:56, 22.8MB/s]\rDownloading AlphaFold2-ptm weights to /root/.cache/colabfold:  65%|██████▌   | 2.26G/3.47G [01:49<00:56, 23.0MB/s]\rDownloading AlphaFold2-ptm weights to /root/.cache/colabfold:  65%|██████▌   | 2.27G/3.47G [01:49<00:56, 23.0MB/s]\rDownloading AlphaFold2-ptm weights to /root/.cache/colabfold:  65%|██████▌   | 2.27G/3.47G [01:49<00:55, 23.1MB/s]\rDownloading AlphaFold2-ptm weights to /root/.cache/colabfold:  66%|██████▌   | 2.27G/3.47G [01:49<00:55, 23.0MB/s]\rDownloading AlphaFold2-ptm weights to /root/.cache/colabfold:  66%|██████▌   | 2.28G/3.47G [01:49<00:55, 23.1MB/s]\rDownloading AlphaFold2-ptm weights to /root/.cache/colabfold:  66%|██████▌   | 2.28G/3.47G [01:50<00:55, 23.2MB/s]\rDownloading AlphaFold2-ptm weights to /root/.cache/colabfold:  66%|██████▌   | 2.28G/3.47G [01:50<00:54, 23.2MB/s]\rDownloading AlphaFold2-ptm weights to /root/.cache/colabfold:  66%|██████▌   | 2.29G/3.47G [01:50<00:54, 23.2MB/s]\rDownloading AlphaFold2-ptm weights to /root/.cache/colabfold:  66%|██████▌   | 2.29G/3.47G [01:50<00:54, 23.2MB/s]\rDownloading AlphaFold2-ptm weights to /root/.cache/colabfold:  66%|██████▌   | 2.29G/3.47G [01:50<00:54, 23.2MB/s]\rDownloading AlphaFold2-ptm weights to /root/.cache/colabfold:  66%|██████▋   | 2.30G/3.47G [01:50<00:54, 23.2MB/s]\rDownloading AlphaFold2-ptm weights to /root/.cache/colabfold:  66%|██████▋   | 2.30G/3.47G [01:50<00:53, 23.2MB/s]\rDownloading AlphaFold2-ptm weights to /root/.cache/colabfold:  66%|██████▋   | 2.31G/3.47G [01:51<00:53, 23.2MB/s]\rDownloading AlphaFold2-ptm weights to /root/.cache/colabfold:  67%|██████▋   | 2.31G/3.47G [01:51<01:01, 20.4MB/s]\rDownloading AlphaFold2-ptm weights to /root/.cache/colabfold:  67%|██████▋   | 2.31G/3.47G [01:51<01:01, 20.2MB/s]\rDownloading AlphaFold2-ptm weights to /root/.cache/colabfold:  67%|██████▋   | 2.31G/3.47G [01:51<00:58, 21.1MB/s]\rDownloading AlphaFold2-ptm weights to /root/.cache/colabfold:  67%|██████▋   | 2.32G/3.47G [01:51<00:56, 21.7MB/s]\rDownloading AlphaFold2-ptm weights to /root/.cache/colabfold:  67%|██████▋   | 2.32G/3.47G [01:51<00:55, 22.2MB/s]\rDownloading AlphaFold2-ptm weights to /root/.cache/colabfold:  67%|██████▋   | 2.32G/3.47G [01:52<00:54, 22.5MB/s]\rDownloading AlphaFold2-ptm weights to /root/.cache/colabfold:  67%|██████▋   | 2.33G/3.47G [01:52<00:53, 22.7MB/s]\rDownloading AlphaFold2-ptm weights to /root/.cache/colabfold:  67%|██████▋   | 2.33G/3.47G [01:52<00:53, 22.9MB/s]\rDownloading AlphaFold2-ptm weights to /root/.cache/colabfold:  67%|██████▋   | 2.34G/3.47G [01:52<00:52, 22.9MB/s]\rDownloading AlphaFold2-ptm weights to /root/.cache/colabfold:  67%|██████▋   | 2.34G/3.47G [01:52<00:52, 23.0MB/s]\rDownloading AlphaFold2-ptm weights to /root/.cache/colabfold:  68%|██████▊   | 2.34G/3.47G [01:52<00:52, 23.1MB/s]\rDownloading AlphaFold2-ptm weights to /root/.cache/colabfold:  68%|██████▊   | 2.35G/3.47G [01:53<00:52, 23.1MB/s]\rDownloading AlphaFold2-ptm weights to /root/.cache/colabfold:  68%|██████▊   | 2.35G/3.47G [01:53<00:51, 23.2MB/s]\rDownloading AlphaFold2-ptm weights to /root/.cache/colabfold:  68%|██████▊   | 2.35G/3.47G [01:53<00:51, 23.2MB/s]\rDownloading AlphaFold2-ptm weights to /root/.cache/colabfold:  68%|██████▊   | 2.36G/3.47G [01:53<00:51, 23.2MB/s]\rDownloading AlphaFold2-ptm weights to /root/.cache/colabfold:  68%|██████▊   | 2.36G/3.47G [01:53<00:51, 23.2MB/s]\rDownloading AlphaFold2-ptm weights to /root/.cache/colabfold:  68%|██████▊   | 2.36G/3.47G [01:53<00:51, 23.2MB/s]\rDownloading AlphaFold2-ptm weights to /root/.cache/colabfold:  68%|██████▊   | 2.37G/3.47G [01:54<00:50, 23.2MB/s]\rDownloading AlphaFold2-ptm weights to /root/.cache/colabfold:  68%|██████▊   | 2.37G/3.47G [01:54<00:50, 23.2MB/s]\rDownloading AlphaFold2-ptm weights to /root/.cache/colabfold:  68%|██████▊   | 2.37G/3.47G [01:54<00:50, 23.2MB/s]\rDownloading AlphaFold2-ptm weights to /root/.cache/colabfold:  69%|██████▊   | 2.38G/3.47G [01:54<00:50, 23.2MB/s]\rDownloading AlphaFold2-ptm weights to /root/.cache/colabfold:  69%|██████▊   | 2.38G/3.47G [01:54<00:50, 23.2MB/s]\rDownloading AlphaFold2-ptm weights to /root/.cache/colabfold:  69%|██████▉   | 2.39G/3.47G [01:54<00:50, 23.2MB/s]\rDownloading AlphaFold2-ptm weights to /root/.cache/colabfold:  69%|██████▉   | 2.39G/3.47G [01:55<00:49, 23.2MB/s]\rDownloading AlphaFold2-ptm weights to /root/.cache/colabfold:  69%|██████▉   | 2.39G/3.47G [01:55<00:49, 23.2MB/s]\rDownloading AlphaFold2-ptm weights to /root/.cache/colabfold:  69%|██████▉   | 2.40G/3.47G [01:55<00:49, 23.2MB/s]\rDownloading AlphaFold2-ptm weights to /root/.cache/colabfold:  69%|██████▉   | 2.40G/3.47G [01:55<00:49, 23.2MB/s]\rDownloading AlphaFold2-ptm weights to /root/.cache/colabfold:  69%|██████▉   | 2.40G/3.47G [01:55<00:49, 23.2MB/s]\rDownloading AlphaFold2-ptm weights to /root/.cache/colabfold:  69%|██████▉   | 2.41G/3.47G [01:55<00:48, 23.3MB/s]\rDownloading AlphaFold2-ptm weights to /root/.cache/colabfold:  70%|██████▉   | 2.41G/3.47G [01:56<00:48, 23.2MB/s]\rDownloading AlphaFold2-ptm weights to /root/.cache/colabfold:  70%|██████▉   | 2.41G/3.47G [01:56<00:48, 23.2MB/s]\rDownloading AlphaFold2-ptm weights to /root/.cache/colabfold:  70%|██████▉   | 2.42G/3.47G [01:56<00:48, 23.2MB/s]\rDownloading AlphaFold2-ptm weights to /root/.cache/colabfold:  70%|██████▉   | 2.42G/3.47G [01:56<00:48, 23.2MB/s]\rDownloading AlphaFold2-ptm weights to /root/.cache/colabfold:  70%|██████▉   | 2.42G/3.47G [01:56<00:48, 23.2MB/s]\rDownloading AlphaFold2-ptm weights to /root/.cache/colabfold:  70%|███████   | 2.43G/3.47G [01:56<00:48, 23.2MB/s]\rDownloading AlphaFold2-ptm weights to /root/.cache/colabfold:  70%|███████   | 2.43G/3.47G [01:57<00:47, 23.2MB/s]\rDownloading AlphaFold2-ptm weights to /root/.cache/colabfold:  70%|███████   | 2.44G/3.47G [01:57<00:47, 23.2MB/s]\rDownloading AlphaFold2-ptm weights to /root/.cache/colabfold:  70%|███████   | 2.44G/3.47G [01:57<00:47, 23.2MB/s]\rDownloading AlphaFold2-ptm weights to /root/.cache/colabfold:  70%|███████   | 2.44G/3.47G [01:57<00:47, 23.2MB/s]\rDownloading AlphaFold2-ptm weights to /root/.cache/colabfold:  71%|███████   | 2.45G/3.47G [01:57<00:47, 23.3MB/s]\rDownloading AlphaFold2-ptm weights to /root/.cache/colabfold:  71%|███████   | 2.45G/3.47G [01:57<00:49, 21.9MB/s]\rDownloading AlphaFold2-ptm weights to /root/.cache/colabfold:  71%|███████   | 2.45G/3.47G [01:58<00:50, 21.6MB/s]\rDownloading AlphaFold2-ptm weights to /root/.cache/colabfold:  71%|███████   | 2.46G/3.47G [01:58<00:49, 22.1MB/s]\rDownloading AlphaFold2-ptm weights to /root/.cache/colabfold:  71%|███████   | 2.46G/3.47G [01:58<00:48, 22.4MB/s]\rDownloading AlphaFold2-ptm weights to /root/.cache/colabfold:  71%|███████   | 2.46G/3.47G [01:58<00:47, 22.6MB/s]\rDownloading AlphaFold2-ptm weights to /root/.cache/colabfold:  71%|███████   | 2.47G/3.47G [01:58<00:47, 22.8MB/s]\rDownloading AlphaFold2-ptm weights to /root/.cache/colabfold:  71%|███████▏  | 2.47G/3.47G [01:58<00:46, 22.9MB/s]\rDownloading AlphaFold2-ptm weights to /root/.cache/colabfold:  71%|███████▏  | 2.47G/3.47G [01:59<00:48, 21.9MB/s]\rDownloading AlphaFold2-ptm weights to /root/.cache/colabfold:  71%|███████▏  | 2.48G/3.47G [01:59<00:54, 19.4MB/s]\rDownloading AlphaFold2-ptm weights to /root/.cache/colabfold:  71%|███████▏  | 2.48G/3.47G [01:59<01:01, 17.4MB/s]\rDownloading AlphaFold2-ptm weights to /root/.cache/colabfold:  72%|███████▏  | 2.48G/3.47G [01:59<00:55, 19.2MB/s]\rDownloading AlphaFold2-ptm weights to /root/.cache/colabfold:  72%|███████▏  | 2.49G/3.47G [01:59<00:51, 20.3MB/s]\rDownloading AlphaFold2-ptm weights to /root/.cache/colabfold:  72%|███████▏  | 2.49G/3.47G [01:59<00:49, 21.1MB/s]\rDownloading AlphaFold2-ptm weights to /root/.cache/colabfold:  72%|███████▏  | 2.49G/3.47G [02:00<00:48, 21.8MB/s]\rDownloading AlphaFold2-ptm weights to /root/.cache/colabfold:  72%|███████▏  | 2.50G/3.47G [02:00<00:46, 22.2MB/s]\rDownloading AlphaFold2-ptm weights to /root/.cache/colabfold:  72%|███████▏  | 2.50G/3.47G [02:00<00:46, 22.5MB/s]\rDownloading AlphaFold2-ptm weights to /root/.cache/colabfold:  72%|███████▏  | 2.50G/3.47G [02:00<00:45, 22.7MB/s]\rDownloading AlphaFold2-ptm weights to /root/.cache/colabfold:  72%|███████▏  | 2.51G/3.47G [02:00<00:45, 22.9MB/s]\rDownloading AlphaFold2-ptm weights to /root/.cache/colabfold:  72%|███████▏  | 2.51G/3.47G [02:00<00:44, 23.0MB/s]\rDownloading AlphaFold2-ptm weights to /root/.cache/colabfold:  73%|███████▎  | 2.51G/3.47G [02:01<00:44, 23.1MB/s]\rDownloading AlphaFold2-ptm weights to /root/.cache/colabfold:  73%|███████▎  | 2.52G/3.47G [02:01<00:44, 23.1MB/s]\rDownloading AlphaFold2-ptm weights to /root/.cache/colabfold:  73%|███████▎  | 2.52G/3.47G [02:01<00:43, 23.2MB/s]\rDownloading AlphaFold2-ptm weights to /root/.cache/colabfold:  73%|███████▎  | 2.52G/3.47G [02:01<00:43, 23.1MB/s]\rDownloading AlphaFold2-ptm weights to /root/.cache/colabfold:  73%|███████▎  | 2.53G/3.47G [02:01<00:43, 23.2MB/s]\rDownloading AlphaFold2-ptm weights to /root/.cache/colabfold:  73%|███████▎  | 2.53G/3.47G [02:01<00:43, 23.2MB/s]\rDownloading AlphaFold2-ptm weights to /root/.cache/colabfold:  73%|███████▎  | 2.54G/3.47G [02:02<00:43, 23.2MB/s]\rDownloading AlphaFold2-ptm weights to /root/.cache/colabfold:  73%|███████▎  | 2.54G/3.47G [02:02<00:42, 23.2MB/s]\rDownloading AlphaFold2-ptm weights to /root/.cache/colabfold:  73%|███████▎  | 2.54G/3.47G [02:02<00:42, 23.2MB/s]\rDownloading AlphaFold2-ptm weights to /root/.cache/colabfold:  73%|███████▎  | 2.55G/3.47G [02:02<00:42, 23.2MB/s]\rDownloading AlphaFold2-ptm weights to /root/.cache/colabfold:  74%|███████▎  | 2.55G/3.47G [02:02<00:42, 23.2MB/s]\rDownloading AlphaFold2-ptm weights to /root/.cache/colabfold:  74%|███████▎  | 2.55G/3.47G [02:02<00:42, 23.2MB/s]\rDownloading AlphaFold2-ptm weights to /root/.cache/colabfold:  74%|███████▎  | 2.56G/3.47G [02:03<00:42, 23.2MB/s]\rDownloading AlphaFold2-ptm weights to /root/.cache/colabfold:  74%|███████▍  | 2.56G/3.47G [02:03<00:41, 23.2MB/s]\rDownloading AlphaFold2-ptm weights to /root/.cache/colabfold:  74%|███████▍  | 2.56G/3.47G [02:03<00:41, 23.2MB/s]\rDownloading AlphaFold2-ptm weights to /root/.cache/colabfold:  74%|███████▍  | 2.57G/3.47G [02:03<00:41, 23.2MB/s]\rDownloading AlphaFold2-ptm weights to /root/.cache/colabfold:  74%|███████▍  | 2.57G/3.47G [02:03<00:51, 18.6MB/s]\rDownloading AlphaFold2-ptm weights to /root/.cache/colabfold:  74%|███████▍  | 2.57G/3.47G [02:03<00:56, 16.9MB/s]\rDownloading AlphaFold2-ptm weights to /root/.cache/colabfold:  74%|███████▍  | 2.57G/3.47G [02:04<00:51, 18.8MB/s]\rDownloading AlphaFold2-ptm weights to /root/.cache/colabfold:  74%|███████▍  | 2.58G/3.47G [02:04<00:47, 20.1MB/s]\rDownloading AlphaFold2-ptm weights to /root/.cache/colabfold:  74%|███████▍  | 2.58G/3.47G [02:04<00:45, 21.0MB/s]\rDownloading AlphaFold2-ptm weights to /root/.cache/colabfold:  75%|███████▍  | 2.59G/3.47G [02:04<00:43, 21.7MB/s]\rDownloading AlphaFold2-ptm weights to /root/.cache/colabfold:  75%|███████▍  | 2.59G/3.47G [02:04<00:42, 22.1MB/s]\rDownloading AlphaFold2-ptm weights to /root/.cache/colabfold:  75%|███████▍  | 2.59G/3.47G [02:04<00:41, 22.5MB/s]\rDownloading AlphaFold2-ptm weights to /root/.cache/colabfold:  75%|███████▍  | 2.60G/3.47G [02:05<00:41, 22.7MB/s]\rDownloading AlphaFold2-ptm weights to /root/.cache/colabfold:  75%|███████▍  | 2.60G/3.47G [02:05<00:40, 22.8MB/s]\rDownloading AlphaFold2-ptm weights to /root/.cache/colabfold:  75%|███████▌  | 2.60G/3.47G [02:05<00:40, 22.9MB/s]\rDownloading AlphaFold2-ptm weights to /root/.cache/colabfold:  75%|███████▌  | 2.61G/3.47G [02:05<00:40, 23.0MB/s]\rDownloading AlphaFold2-ptm weights to /root/.cache/colabfold:  75%|███████▌  | 2.61G/3.47G [02:05<00:39, 23.1MB/s]\rDownloading AlphaFold2-ptm weights to /root/.cache/colabfold:  75%|███████▌  | 2.61G/3.47G [02:05<00:39, 23.1MB/s]\rDownloading AlphaFold2-ptm weights to /root/.cache/colabfold:  75%|███████▌  | 2.62G/3.47G [02:06<00:39, 23.2MB/s]\rDownloading AlphaFold2-ptm weights to /root/.cache/colabfold:  76%|███████▌  | 2.62G/3.47G [02:06<00:39, 23.2MB/s]\rDownloading AlphaFold2-ptm weights to /root/.cache/colabfold:  76%|███████▌  | 2.62G/3.47G [02:06<00:39, 23.1MB/s]\rDownloading AlphaFold2-ptm weights to /root/.cache/colabfold:  76%|███████▌  | 2.63G/3.47G [02:06<00:38, 23.2MB/s]\rDownloading AlphaFold2-ptm weights to /root/.cache/colabfold:  76%|███████▌  | 2.63G/3.47G [02:06<00:36, 24.6MB/s]\rDownloading AlphaFold2-ptm weights to /root/.cache/colabfold:  76%|███████▌  | 2.63G/3.47G [02:06<00:35, 25.0MB/s]\rDownloading AlphaFold2-ptm weights to /root/.cache/colabfold:  76%|███████▌  | 2.64G/3.47G [02:06<00:38, 23.0MB/s]\rDownloading AlphaFold2-ptm weights to /root/.cache/colabfold:  76%|███████▌  | 2.64G/3.47G [02:07<00:36, 24.6MB/s]\rDownloading AlphaFold2-ptm weights to /root/.cache/colabfold:  76%|███████▌  | 2.64G/3.47G [02:07<00:35, 25.3MB/s]\rDownloading AlphaFold2-ptm weights to /root/.cache/colabfold:  76%|███████▌  | 2.64G/3.47G [02:07<00:38, 23.1MB/s]\rDownloading AlphaFold2-ptm weights to /root/.cache/colabfold:  76%|███████▋  | 2.65G/3.47G [02:07<00:41, 21.3MB/s]\rDownloading AlphaFold2-ptm weights to /root/.cache/colabfold:  76%|███████▋  | 2.65G/3.47G [02:07<00:37, 23.4MB/s]\rDownloading AlphaFold2-ptm weights to /root/.cache/colabfold:  76%|███████▋  | 2.65G/3.47G [02:07<00:36, 24.2MB/s]\rDownloading AlphaFold2-ptm weights to /root/.cache/colabfold:  77%|███████▋  | 2.65G/3.47G [02:07<00:40, 21.8MB/s]\rDownloading AlphaFold2-ptm weights to /root/.cache/colabfold:  77%|███████▋  | 2.66G/3.47G [02:07<00:40, 21.5MB/s]\rDownloading AlphaFold2-ptm weights to /root/.cache/colabfold:  77%|███████▋  | 2.66G/3.47G [02:08<00:43, 19.9MB/s]\rDownloading AlphaFold2-ptm weights to /root/.cache/colabfold:  77%|███████▋  | 2.66G/3.47G [02:08<00:42, 20.1MB/s]\rDownloading AlphaFold2-ptm weights to /root/.cache/colabfold:  77%|███████▋  | 2.67G/3.47G [02:08<00:40, 21.1MB/s]\rDownloading AlphaFold2-ptm weights to /root/.cache/colabfold:  77%|███████▋  | 2.67G/3.47G [02:08<00:39, 21.8MB/s]\rDownloading AlphaFold2-ptm weights to /root/.cache/colabfold:  77%|███████▋  | 2.67G/3.47G [02:08<00:38, 22.2MB/s]\rDownloading AlphaFold2-ptm weights to /root/.cache/colabfold:  77%|███████▋  | 2.68G/3.47G [02:08<00:37, 22.5MB/s]\rDownloading AlphaFold2-ptm weights to /root/.cache/colabfold:  77%|███████▋  | 2.68G/3.47G [02:09<00:37, 22.7MB/s]\rDownloading AlphaFold2-ptm weights to /root/.cache/colabfold:  77%|███████▋  | 2.68G/3.47G [02:09<00:36, 22.9MB/s]\rDownloading AlphaFold2-ptm weights to /root/.cache/colabfold:  78%|███████▊  | 2.69G/3.47G [02:09<00:36, 23.0MB/s]\rDownloading AlphaFold2-ptm weights to /root/.cache/colabfold:  78%|███████▊  | 2.69G/3.47G [02:09<00:36, 23.0MB/s]\rDownloading AlphaFold2-ptm weights to /root/.cache/colabfold:  78%|███████▊  | 2.69G/3.47G [02:09<00:38, 21.8MB/s]\rDownloading AlphaFold2-ptm weights to /root/.cache/colabfold:  78%|███████▊  | 2.70G/3.47G [02:09<00:42, 19.3MB/s]\rDownloading AlphaFold2-ptm weights to /root/.cache/colabfold:  78%|███████▊  | 2.70G/3.47G [02:10<00:47, 17.3MB/s]\rDownloading AlphaFold2-ptm weights to /root/.cache/colabfold:  78%|███████▊  | 2.70G/3.47G [02:10<00:42, 19.1MB/s]\rDownloading AlphaFold2-ptm weights to /root/.cache/colabfold:  78%|███████▊  | 2.71G/3.47G [02:10<00:40, 20.4MB/s]\rDownloading AlphaFold2-ptm weights to /root/.cache/colabfold:  78%|███████▊  | 2.71G/3.47G [02:10<00:38, 21.2MB/s]\rDownloading AlphaFold2-ptm weights to /root/.cache/colabfold:  78%|███████▊  | 2.71G/3.47G [02:10<00:37, 21.8MB/s]\rDownloading AlphaFold2-ptm weights to /root/.cache/colabfold:  78%|███████▊  | 2.72G/3.47G [02:10<00:36, 22.2MB/s]\rDownloading AlphaFold2-ptm weights to /root/.cache/colabfold:  78%|███████▊  | 2.72G/3.47G [02:11<00:35, 22.5MB/s]\rDownloading AlphaFold2-ptm weights to /root/.cache/colabfold:  79%|███████▊  | 2.72G/3.47G [02:11<00:35, 22.7MB/s]\rDownloading AlphaFold2-ptm weights to /root/.cache/colabfold:  79%|███████▊  | 2.73G/3.47G [02:11<00:34, 22.9MB/s]\rDownloading AlphaFold2-ptm weights to /root/.cache/colabfold:  79%|███████▉  | 2.73G/3.47G [02:11<00:34, 23.0MB/s]\rDownloading AlphaFold2-ptm weights to /root/.cache/colabfold:  79%|███████▉  | 2.73G/3.47G [02:11<00:34, 23.0MB/s]\rDownloading AlphaFold2-ptm weights to /root/.cache/colabfold:  79%|███████▉  | 2.74G/3.47G [02:11<00:33, 23.1MB/s]\rDownloading AlphaFold2-ptm weights to /root/.cache/colabfold:  79%|███████▉  | 2.74G/3.47G [02:12<00:33, 23.1MB/s]\rDownloading AlphaFold2-ptm weights to /root/.cache/colabfold:  79%|███████▉  | 2.74G/3.47G [02:12<00:33, 23.1MB/s]\rDownloading AlphaFold2-ptm weights to /root/.cache/colabfold:  79%|███████▉  | 2.75G/3.47G [02:12<00:33, 23.2MB/s]\rDownloading AlphaFold2-ptm weights to /root/.cache/colabfold:  79%|███████▉  | 2.75G/3.47G [02:12<00:33, 23.2MB/s]\rDownloading AlphaFold2-ptm weights to /root/.cache/colabfold:  79%|███████▉  | 2.76G/3.47G [02:12<00:32, 23.2MB/s]\rDownloading AlphaFold2-ptm weights to /root/.cache/colabfold:  80%|███████▉  | 2.76G/3.47G [02:12<00:32, 23.2MB/s]\rDownloading AlphaFold2-ptm weights to /root/.cache/colabfold:  80%|███████▉  | 2.76G/3.47G [02:13<00:32, 23.2MB/s]\rDownloading AlphaFold2-ptm weights to /root/.cache/colabfold:  80%|███████▉  | 2.77G/3.47G [02:13<00:32, 23.2MB/s]\rDownloading AlphaFold2-ptm weights to /root/.cache/colabfold:  80%|███████▉  | 2.77G/3.47G [02:13<00:32, 23.2MB/s]\rDownloading AlphaFold2-ptm weights to /root/.cache/colabfold:  80%|███████▉  | 2.77G/3.47G [02:13<00:32, 23.2MB/s]\rDownloading AlphaFold2-ptm weights to /root/.cache/colabfold:  80%|████████  | 2.78G/3.47G [02:13<00:31, 23.2MB/s]\rDownloading AlphaFold2-ptm weights to /root/.cache/colabfold:  80%|████████  | 2.78G/3.47G [02:13<00:31, 23.2MB/s]\rDownloading AlphaFold2-ptm weights to /root/.cache/colabfold:  80%|████████  | 2.78G/3.47G [02:14<00:31, 23.2MB/s]\rDownloading AlphaFold2-ptm weights to /root/.cache/colabfold:  80%|████████  | 2.79G/3.47G [02:14<00:31, 23.2MB/s]\rDownloading AlphaFold2-ptm weights to /root/.cache/colabfold:  81%|████████  | 2.79G/3.47G [02:14<00:31, 23.2MB/s]\rDownloading AlphaFold2-ptm weights to /root/.cache/colabfold:  81%|████████  | 2.79G/3.47G [02:14<00:31, 23.2MB/s]\rDownloading AlphaFold2-ptm weights to /root/.cache/colabfold:  81%|████████  | 2.80G/3.47G [02:14<00:30, 23.2MB/s]\rDownloading AlphaFold2-ptm weights to /root/.cache/colabfold:  81%|████████  | 2.80G/3.47G [02:14<00:30, 23.2MB/s]\rDownloading AlphaFold2-ptm weights to /root/.cache/colabfold:  81%|████████  | 2.81G/3.47G [02:15<00:30, 23.2MB/s]\rDownloading AlphaFold2-ptm weights to /root/.cache/colabfold:  81%|████████  | 2.81G/3.47G [02:15<00:30, 23.2MB/s]\rDownloading AlphaFold2-ptm weights to /root/.cache/colabfold:  81%|████████  | 2.81G/3.47G [02:15<00:30, 23.2MB/s]\rDownloading AlphaFold2-ptm weights to /root/.cache/colabfold:  81%|████████  | 2.82G/3.47G [02:15<00:30, 23.3MB/s]\rDownloading AlphaFold2-ptm weights to /root/.cache/colabfold:  81%|████████▏ | 2.82G/3.47G [02:15<00:29, 23.3MB/s]\rDownloading AlphaFold2-ptm weights to /root/.cache/colabfold:  81%|████████▏ | 2.82G/3.47G [02:15<00:29, 23.3MB/s]\rDownloading AlphaFold2-ptm weights to /root/.cache/colabfold:  82%|████████▏ | 2.83G/3.47G [02:16<00:29, 23.3MB/s]\rDownloading AlphaFold2-ptm weights to /root/.cache/colabfold:  82%|████████▏ | 2.83G/3.47G [02:16<00:29, 23.3MB/s]\rDownloading AlphaFold2-ptm weights to /root/.cache/colabfold:  82%|████████▏ | 2.83G/3.47G [02:16<00:29, 23.2MB/s]\rDownloading AlphaFold2-ptm weights to /root/.cache/colabfold:  82%|████████▏ | 2.84G/3.47G [02:16<00:29, 23.3MB/s]\rDownloading AlphaFold2-ptm weights to /root/.cache/colabfold:  82%|████████▏ | 2.84G/3.47G [02:16<00:28, 23.3MB/s]\rDownloading AlphaFold2-ptm weights to /root/.cache/colabfold:  82%|████████▏ | 2.84G/3.47G [02:16<00:28, 23.3MB/s]\rDownloading AlphaFold2-ptm weights to /root/.cache/colabfold:  82%|████████▏ | 2.85G/3.47G [02:17<00:28, 23.3MB/s]\rDownloading AlphaFold2-ptm weights to /root/.cache/colabfold:  82%|████████▏ | 2.85G/3.47G [02:17<00:28, 23.3MB/s]\rDownloading AlphaFold2-ptm weights to /root/.cache/colabfold:  82%|████████▏ | 2.86G/3.47G [02:17<00:28, 23.3MB/s]\rDownloading AlphaFold2-ptm weights to /root/.cache/colabfold:  82%|████████▏ | 2.86G/3.47G [02:17<00:28, 23.3MB/s]\rDownloading AlphaFold2-ptm weights to /root/.cache/colabfold:  83%|████████▎ | 2.86G/3.47G [02:17<00:29, 22.2MB/s]\rDownloading AlphaFold2-ptm weights to /root/.cache/colabfold:  83%|████████▎ | 2.87G/3.47G [02:17<00:29, 21.7MB/s]\rDownloading AlphaFold2-ptm weights to /root/.cache/colabfold:  83%|████████▎ | 2.87G/3.47G [02:18<00:28, 22.1MB/s]\rDownloading AlphaFold2-ptm weights to /root/.cache/colabfold:  83%|████████▎ | 2.87G/3.47G [02:18<00:28, 22.5MB/s]\rDownloading AlphaFold2-ptm weights to /root/.cache/colabfold:  83%|████████▎ | 2.88G/3.47G [02:18<00:27, 22.7MB/s]\rDownloading AlphaFold2-ptm weights to /root/.cache/colabfold:  83%|████████▎ | 2.88G/3.47G [02:18<00:27, 22.8MB/s]\rDownloading AlphaFold2-ptm weights to /root/.cache/colabfold:  83%|████████▎ | 2.88G/3.47G [02:18<00:27, 22.9MB/s]\rDownloading AlphaFold2-ptm weights to /root/.cache/colabfold:  83%|████████▎ | 2.89G/3.47G [02:18<00:27, 23.1MB/s]\rDownloading AlphaFold2-ptm weights to /root/.cache/colabfold:  83%|████████▎ | 2.89G/3.47G [02:19<00:26, 23.1MB/s]\rDownloading AlphaFold2-ptm weights to /root/.cache/colabfold:  83%|████████▎ | 2.89G/3.47G [02:19<00:26, 23.1MB/s]\rDownloading AlphaFold2-ptm weights to /root/.cache/colabfold:  84%|████████▎ | 2.90G/3.47G [02:19<00:26, 23.2MB/s]\rDownloading AlphaFold2-ptm weights to /root/.cache/colabfold:  84%|████████▎ | 2.90G/3.47G [02:19<00:26, 23.2MB/s]\rDownloading AlphaFold2-ptm weights to /root/.cache/colabfold:  84%|████████▍ | 2.90G/3.47G [02:19<00:26, 23.2MB/s]\rDownloading AlphaFold2-ptm weights to /root/.cache/colabfold:  84%|████████▍ | 2.91G/3.47G [02:19<00:25, 23.2MB/s]\rDownloading AlphaFold2-ptm weights to /root/.cache/colabfold:  84%|████████▍ | 2.91G/3.47G [02:20<00:25, 23.2MB/s]\rDownloading AlphaFold2-ptm weights to /root/.cache/colabfold:  84%|████████▍ | 2.92G/3.47G [02:20<00:25, 23.2MB/s]\rDownloading AlphaFold2-ptm weights to /root/.cache/colabfold:  84%|████████▍ | 2.92G/3.47G [02:20<00:25, 23.2MB/s]\rDownloading AlphaFold2-ptm weights to /root/.cache/colabfold:  84%|████████▍ | 2.92G/3.47G [02:20<00:25, 23.2MB/s]\rDownloading AlphaFold2-ptm weights to /root/.cache/colabfold:  84%|████████▍ | 2.93G/3.47G [02:20<00:25, 23.2MB/s]\rDownloading AlphaFold2-ptm weights to /root/.cache/colabfold:  85%|████████▍ | 2.93G/3.47G [02:20<00:24, 23.2MB/s]\rDownloading AlphaFold2-ptm weights to /root/.cache/colabfold:  85%|████████▍ | 2.93G/3.47G [02:20<00:24, 23.2MB/s]\rDownloading AlphaFold2-ptm weights to /root/.cache/colabfold:  85%|████████▍ | 2.94G/3.47G [02:21<00:28, 20.4MB/s]\rDownloading AlphaFold2-ptm weights to /root/.cache/colabfold:  85%|████████▍ | 2.94G/3.47G [02:21<00:31, 18.2MB/s]\rDownloading AlphaFold2-ptm weights to /root/.cache/colabfold:  85%|████████▍ | 2.94G/3.47G [02:21<00:34, 16.6MB/s]\rDownloading AlphaFold2-ptm weights to /root/.cache/colabfold:  85%|████████▍ | 2.94G/3.47G [02:21<00:30, 18.7MB/s]\rDownloading AlphaFold2-ptm weights to /root/.cache/colabfold:  85%|████████▍ | 2.95G/3.47G [02:21<00:27, 20.0MB/s]\rDownloading AlphaFold2-ptm weights to /root/.cache/colabfold:  85%|████████▌ | 2.95G/3.47G [02:21<00:26, 20.9MB/s]\rDownloading AlphaFold2-ptm weights to /root/.cache/colabfold:  85%|████████▌ | 2.95G/3.47G [02:22<00:25, 21.6MB/s]\rDownloading AlphaFold2-ptm weights to /root/.cache/colabfold:  85%|████████▌ | 2.96G/3.47G [02:22<00:24, 22.1MB/s]\rDownloading AlphaFold2-ptm weights to /root/.cache/colabfold:  85%|████████▌ | 2.96G/3.47G [02:22<00:24, 22.4MB/s]\rDownloading AlphaFold2-ptm weights to /root/.cache/colabfold:  86%|████████▌ | 2.96G/3.47G [02:22<00:23, 22.6MB/s]\rDownloading AlphaFold2-ptm weights to /root/.cache/colabfold:  86%|████████▌ | 2.97G/3.47G [02:22<00:23, 22.8MB/s]\rDownloading AlphaFold2-ptm weights to /root/.cache/colabfold:  86%|████████▌ | 2.97G/3.47G [02:22<00:23, 22.9MB/s]\rDownloading AlphaFold2-ptm weights to /root/.cache/colabfold:  86%|████████▌ | 2.98G/3.47G [02:23<00:22, 23.0MB/s]\rDownloading AlphaFold2-ptm weights to /root/.cache/colabfold:  86%|████████▌ | 2.98G/3.47G [02:23<00:22, 23.1MB/s]\rDownloading AlphaFold2-ptm weights to /root/.cache/colabfold:  86%|████████▌ | 2.98G/3.47G [02:23<00:22, 23.1MB/s]\rDownloading AlphaFold2-ptm weights to /root/.cache/colabfold:  86%|████████▌ | 2.99G/3.47G [02:23<00:22, 23.2MB/s]\rDownloading AlphaFold2-ptm weights to /root/.cache/colabfold:  86%|████████▌ | 2.99G/3.47G [02:23<00:22, 23.2MB/s]\rDownloading AlphaFold2-ptm weights to /root/.cache/colabfold:  86%|████████▋ | 2.99G/3.47G [02:23<00:21, 23.2MB/s]\rDownloading AlphaFold2-ptm weights to /root/.cache/colabfold:  86%|████████▋ | 3.00G/3.47G [02:24<00:21, 23.2MB/s]\rDownloading AlphaFold2-ptm weights to /root/.cache/colabfold:  87%|████████▋ | 3.00G/3.47G [02:24<00:21, 23.2MB/s]\rDownloading AlphaFold2-ptm weights to /root/.cache/colabfold:  87%|████████▋ | 3.00G/3.47G [02:24<00:21, 23.2MB/s]\rDownloading AlphaFold2-ptm weights to /root/.cache/colabfold:  87%|████████▋ | 3.01G/3.47G [02:24<00:21, 23.2MB/s]\rDownloading AlphaFold2-ptm weights to /root/.cache/colabfold:  87%|████████▋ | 3.01G/3.47G [02:24<00:21, 23.2MB/s]\rDownloading AlphaFold2-ptm weights to /root/.cache/colabfold:  87%|████████▋ | 3.01G/3.47G [02:24<00:20, 23.2MB/s]\rDownloading AlphaFold2-ptm weights to /root/.cache/colabfold:  87%|████████▋ | 3.02G/3.47G [02:25<00:20, 23.2MB/s]\rDownloading AlphaFold2-ptm weights to /root/.cache/colabfold:  87%|████████▋ | 3.02G/3.47G [02:25<00:20, 23.2MB/s]\rDownloading AlphaFold2-ptm weights to /root/.cache/colabfold:  87%|████████▋ | 3.02G/3.47G [02:25<00:20, 23.2MB/s]\rDownloading AlphaFold2-ptm weights to /root/.cache/colabfold:  87%|████████▋ | 3.03G/3.47G [02:25<00:20, 23.2MB/s]\rDownloading AlphaFold2-ptm weights to /root/.cache/colabfold:  87%|████████▋ | 3.03G/3.47G [02:25<00:20, 23.2MB/s]\rDownloading AlphaFold2-ptm weights to /root/.cache/colabfold:  88%|████████▊ | 3.04G/3.47G [02:25<00:20, 23.1MB/s]\rDownloading AlphaFold2-ptm weights to /root/.cache/colabfold:  88%|████████▊ | 3.04G/3.47G [02:26<00:19, 23.2MB/s]\rDownloading AlphaFold2-ptm weights to /root/.cache/colabfold:  88%|████████▊ | 3.04G/3.47G [02:26<00:19, 23.2MB/s]\rDownloading AlphaFold2-ptm weights to /root/.cache/colabfold:  88%|████████▊ | 3.05G/3.47G [02:26<00:19, 23.2MB/s]\rDownloading AlphaFold2-ptm weights to /root/.cache/colabfold:  88%|████████▊ | 3.05G/3.47G [02:26<00:19, 23.2MB/s]\rDownloading AlphaFold2-ptm weights to /root/.cache/colabfold:  88%|████████▊ | 3.05G/3.47G [02:26<00:19, 23.2MB/s]\rDownloading AlphaFold2-ptm weights to /root/.cache/colabfold:  88%|████████▊ | 3.06G/3.47G [02:26<00:18, 23.2MB/s]\rDownloading AlphaFold2-ptm weights to /root/.cache/colabfold:  88%|████████▊ | 3.06G/3.47G [02:27<00:18, 23.2MB/s]\rDownloading AlphaFold2-ptm weights to /root/.cache/colabfold:  88%|████████▊ | 3.06G/3.47G [02:27<00:18, 23.2MB/s]\rDownloading AlphaFold2-ptm weights to /root/.cache/colabfold:  88%|████████▊ | 3.07G/3.47G [02:27<00:18, 23.2MB/s]\rDownloading AlphaFold2-ptm weights to /root/.cache/colabfold:  89%|████████▊ | 3.07G/3.47G [02:27<00:18, 23.2MB/s]\rDownloading AlphaFold2-ptm weights to /root/.cache/colabfold:  89%|████████▊ | 3.07G/3.47G [02:27<00:18, 23.2MB/s]\rDownloading AlphaFold2-ptm weights to /root/.cache/colabfold:  89%|████████▉ | 3.08G/3.47G [02:27<00:18, 23.2MB/s]\rDownloading AlphaFold2-ptm weights to /root/.cache/colabfold:  89%|████████▉ | 3.08G/3.47G [02:28<00:17, 23.2MB/s]\rDownloading AlphaFold2-ptm weights to /root/.cache/colabfold:  89%|████████▉ | 3.09G/3.47G [02:28<00:17, 23.2MB/s]\rDownloading AlphaFold2-ptm weights to /root/.cache/colabfold:  89%|████████▉ | 3.09G/3.47G [02:28<00:17, 23.2MB/s]\rDownloading AlphaFold2-ptm weights to /root/.cache/colabfold:  89%|████████▉ | 3.09G/3.47G [02:28<00:17, 23.2MB/s]\rDownloading AlphaFold2-ptm weights to /root/.cache/colabfold:  89%|████████▉ | 3.10G/3.47G [02:28<00:17, 23.2MB/s]\rDownloading AlphaFold2-ptm weights to /root/.cache/colabfold:  89%|████████▉ | 3.10G/3.47G [02:28<00:17, 23.2MB/s]\rDownloading AlphaFold2-ptm weights to /root/.cache/colabfold:  90%|████████▉ | 3.10G/3.47G [02:29<00:16, 23.2MB/s]\rDownloading AlphaFold2-ptm weights to /root/.cache/colabfold:  90%|████████▉ | 3.11G/3.47G [02:29<00:16, 23.2MB/s]\rDownloading AlphaFold2-ptm weights to /root/.cache/colabfold:  90%|████████▉ | 3.11G/3.47G [02:29<00:16, 23.2MB/s]\rDownloading AlphaFold2-ptm weights to /root/.cache/colabfold:  90%|████████▉ | 3.11G/3.47G [02:29<00:16, 23.2MB/s]\rDownloading AlphaFold2-ptm weights to /root/.cache/colabfold:  90%|████████▉ | 3.12G/3.47G [02:29<00:16, 23.2MB/s]\rDownloading AlphaFold2-ptm weights to /root/.cache/colabfold:  90%|████████▉ | 3.12G/3.47G [02:29<00:16, 22.6MB/s]\rDownloading AlphaFold2-ptm weights to /root/.cache/colabfold:  90%|█████████ | 3.12G/3.47G [02:29<00:13, 27.1MB/s]\rDownloading AlphaFold2-ptm weights to /root/.cache/colabfold:  90%|█████████ | 3.13G/3.47G [02:30<00:14, 24.8MB/s]\rDownloading AlphaFold2-ptm weights to /root/.cache/colabfold:  90%|█████████ | 3.13G/3.47G [02:30<00:15, 22.8MB/s]\rDownloading AlphaFold2-ptm weights to /root/.cache/colabfold:  90%|█████████ | 3.13G/3.47G [02:30<00:16, 21.9MB/s]\rDownloading AlphaFold2-ptm weights to /root/.cache/colabfold:  90%|█████████ | 3.14G/3.47G [02:30<00:15, 22.4MB/s]\rDownloading AlphaFold2-ptm weights to /root/.cache/colabfold:  91%|█████████ | 3.14G/3.47G [02:30<00:15, 22.6MB/s]\rDownloading AlphaFold2-ptm weights to /root/.cache/colabfold:  91%|█████████ | 3.14G/3.47G [02:30<00:15, 22.8MB/s]\rDownloading AlphaFold2-ptm weights to /root/.cache/colabfold:  91%|█████████ | 3.15G/3.47G [02:31<00:15, 22.9MB/s]\rDownloading AlphaFold2-ptm weights to /root/.cache/colabfold:  91%|█████████ | 3.15G/3.47G [02:31<00:14, 23.0MB/s]\rDownloading AlphaFold2-ptm weights to /root/.cache/colabfold:  91%|█████████ | 3.15G/3.47G [02:31<00:14, 23.1MB/s]\rDownloading AlphaFold2-ptm weights to /root/.cache/colabfold:  91%|█████████ | 3.16G/3.47G [02:31<00:14, 23.1MB/s]\rDownloading AlphaFold2-ptm weights to /root/.cache/colabfold:  91%|█████████ | 3.16G/3.47G [02:31<00:14, 23.2MB/s]\rDownloading AlphaFold2-ptm weights to /root/.cache/colabfold:  91%|█████████ | 3.16G/3.47G [02:31<00:14, 23.1MB/s]\rDownloading AlphaFold2-ptm weights to /root/.cache/colabfold:  91%|█████████▏| 3.17G/3.47G [02:32<00:13, 23.2MB/s]\rDownloading AlphaFold2-ptm weights to /root/.cache/colabfold:  91%|█████████▏| 3.17G/3.47G [02:32<00:13, 23.2MB/s]\rDownloading AlphaFold2-ptm weights to /root/.cache/colabfold:  92%|█████████▏| 3.17G/3.47G [02:32<00:13, 23.2MB/s]\rDownloading AlphaFold2-ptm weights to /root/.cache/colabfold:  92%|█████████▏| 3.18G/3.47G [02:32<00:13, 23.2MB/s]\rDownloading AlphaFold2-ptm weights to /root/.cache/colabfold:  92%|█████████▏| 3.18G/3.47G [02:32<00:13, 23.2MB/s]\rDownloading AlphaFold2-ptm weights to /root/.cache/colabfold:  92%|█████████▏| 3.19G/3.47G [02:32<00:13, 23.2MB/s]\rDownloading AlphaFold2-ptm weights to /root/.cache/colabfold:  92%|█████████▏| 3.19G/3.47G [02:33<00:12, 23.2MB/s]\rDownloading AlphaFold2-ptm weights to /root/.cache/colabfold:  92%|█████████▏| 3.19G/3.47G [02:33<00:12, 23.2MB/s]\rDownloading AlphaFold2-ptm weights to /root/.cache/colabfold:  92%|█████████▏| 3.20G/3.47G [02:33<00:12, 23.2MB/s]\rDownloading AlphaFold2-ptm weights to /root/.cache/colabfold:  92%|█████████▏| 3.20G/3.47G [02:33<00:12, 23.2MB/s]\rDownloading AlphaFold2-ptm weights to /root/.cache/colabfold:  92%|█████████▏| 3.20G/3.47G [02:33<00:12, 23.2MB/s]\rDownloading AlphaFold2-ptm weights to /root/.cache/colabfold:  92%|█████████▏| 3.21G/3.47G [02:33<00:12, 23.2MB/s]\rDownloading AlphaFold2-ptm weights to /root/.cache/colabfold:  93%|█████████▎| 3.21G/3.47G [02:34<00:11, 23.3MB/s]\rDownloading AlphaFold2-ptm weights to /root/.cache/colabfold:  93%|█████████▎| 3.21G/3.47G [02:34<00:12, 22.1MB/s]\rDownloading AlphaFold2-ptm weights to /root/.cache/colabfold:  93%|█████████▎| 3.22G/3.47G [02:34<00:13, 19.6MB/s]\rDownloading AlphaFold2-ptm weights to /root/.cache/colabfold:  93%|█████████▎| 3.22G/3.47G [02:34<00:12, 20.5MB/s]\rDownloading AlphaFold2-ptm weights to /root/.cache/colabfold:  93%|█████████▎| 3.22G/3.47G [02:34<00:12, 21.3MB/s]\rDownloading AlphaFold2-ptm weights to /root/.cache/colabfold:  93%|█████████▎| 3.23G/3.47G [02:34<00:11, 21.9MB/s]\rDownloading AlphaFold2-ptm weights to /root/.cache/colabfold:  93%|█████████▎| 3.23G/3.47G [02:35<00:11, 22.3MB/s]\rDownloading AlphaFold2-ptm weights to /root/.cache/colabfold:  93%|█████████▎| 3.23G/3.47G [02:35<00:11, 22.6MB/s]\rDownloading AlphaFold2-ptm weights to /root/.cache/colabfold:  93%|█████████▎| 3.24G/3.47G [02:35<00:10, 22.8MB/s]\rDownloading AlphaFold2-ptm weights to /root/.cache/colabfold:  93%|█████████▎| 3.24G/3.47G [02:35<00:10, 23.0MB/s]\rDownloading AlphaFold2-ptm weights to /root/.cache/colabfold:  94%|█████████▎| 3.24G/3.47G [02:35<00:10, 23.0MB/s]\rDownloading AlphaFold2-ptm weights to /root/.cache/colabfold:  94%|█████████▎| 3.25G/3.47G [02:35<00:10, 23.1MB/s]\rDownloading AlphaFold2-ptm weights to /root/.cache/colabfold:  94%|█████████▍| 3.25G/3.47G [02:36<00:10, 23.1MB/s]\rDownloading AlphaFold2-ptm weights to /root/.cache/colabfold:  94%|█████████▍| 3.25G/3.47G [02:36<00:09, 23.2MB/s]\rDownloading AlphaFold2-ptm weights to /root/.cache/colabfold:  94%|█████████▍| 3.26G/3.47G [02:36<00:09, 23.1MB/s]\rDownloading AlphaFold2-ptm weights to /root/.cache/colabfold:  94%|█████████▍| 3.26G/3.47G [02:36<00:09, 23.2MB/s]\rDownloading AlphaFold2-ptm weights to /root/.cache/colabfold:  94%|█████████▍| 3.27G/3.47G [02:36<00:09, 23.1MB/s]\rDownloading AlphaFold2-ptm weights to /root/.cache/colabfold:  94%|█████████▍| 3.27G/3.47G [02:36<00:09, 23.2MB/s]\rDownloading AlphaFold2-ptm weights to /root/.cache/colabfold:  94%|█████████▍| 3.27G/3.47G [02:37<00:09, 23.2MB/s]\rDownloading AlphaFold2-ptm weights to /root/.cache/colabfold:  94%|█████████▍| 3.28G/3.47G [02:37<00:08, 23.2MB/s]\rDownloading AlphaFold2-ptm weights to /root/.cache/colabfold:  95%|█████████▍| 3.28G/3.47G [02:37<00:08, 23.2MB/s]\rDownloading AlphaFold2-ptm weights to /root/.cache/colabfold:  95%|█████████▍| 3.28G/3.47G [02:37<00:08, 23.2MB/s]\rDownloading AlphaFold2-ptm weights to /root/.cache/colabfold:  95%|█████████▍| 3.29G/3.47G [02:37<00:08, 23.2MB/s]\rDownloading AlphaFold2-ptm weights to /root/.cache/colabfold:  95%|█████████▍| 3.29G/3.47G [02:37<00:08, 23.2MB/s]\rDownloading AlphaFold2-ptm weights to /root/.cache/colabfold:  95%|█████████▌| 3.29G/3.47G [02:38<00:08, 21.8MB/s]\rDownloading AlphaFold2-ptm weights to /root/.cache/colabfold:  95%|█████████▌| 3.30G/3.47G [02:38<00:08, 21.5MB/s]\rDownloading AlphaFold2-ptm weights to /root/.cache/colabfold:  95%|█████████▌| 3.30G/3.47G [02:38<00:08, 22.0MB/s]\rDownloading AlphaFold2-ptm weights to /root/.cache/colabfold:  95%|█████████▌| 3.30G/3.47G [02:38<00:07, 22.4MB/s]\rDownloading AlphaFold2-ptm weights to /root/.cache/colabfold:  95%|█████████▌| 3.31G/3.47G [02:38<00:07, 22.6MB/s]\rDownloading AlphaFold2-ptm weights to /root/.cache/colabfold:  96%|█████████▌| 3.31G/3.47G [02:38<00:07, 22.7MB/s]\rDownloading AlphaFold2-ptm weights to /root/.cache/colabfold:  96%|█████████▌| 3.31G/3.47G [02:39<00:07, 22.9MB/s]\rDownloading AlphaFold2-ptm weights to /root/.cache/colabfold:  96%|█████████▌| 3.32G/3.47G [02:39<00:06, 23.0MB/s]\rDownloading AlphaFold2-ptm weights to /root/.cache/colabfold:  96%|█████████▌| 3.32G/3.47G [02:39<00:06, 23.0MB/s]\rDownloading AlphaFold2-ptm weights to /root/.cache/colabfold:  96%|█████████▌| 3.33G/3.47G [02:39<00:06, 23.1MB/s]\rDownloading AlphaFold2-ptm weights to /root/.cache/colabfold:  96%|█████████▌| 3.33G/3.47G [02:39<00:06, 23.1MB/s]\rDownloading AlphaFold2-ptm weights to /root/.cache/colabfold:  96%|█████████▌| 3.33G/3.47G [02:39<00:06, 23.2MB/s]\rDownloading AlphaFold2-ptm weights to /root/.cache/colabfold:  96%|█████████▌| 3.34G/3.47G [02:40<00:06, 23.2MB/s]\rDownloading AlphaFold2-ptm weights to /root/.cache/colabfold:  96%|█████████▋| 3.34G/3.47G [02:40<00:05, 23.2MB/s]\rDownloading AlphaFold2-ptm weights to /root/.cache/colabfold:  96%|█████████▋| 3.34G/3.47G [02:40<00:05, 23.2MB/s]\rDownloading AlphaFold2-ptm weights to /root/.cache/colabfold:  97%|█████████▋| 3.35G/3.47G [02:40<00:05, 23.2MB/s]\rDownloading AlphaFold2-ptm weights to /root/.cache/colabfold:  97%|█████████▋| 3.35G/3.47G [02:40<00:05, 23.2MB/s]\rDownloading AlphaFold2-ptm weights to /root/.cache/colabfold:  97%|█████████▋| 3.35G/3.47G [02:40<00:05, 23.2MB/s]\rDownloading AlphaFold2-ptm weights to /root/.cache/colabfold:  97%|█████████▋| 3.36G/3.47G [02:40<00:05, 23.2MB/s]\rDownloading AlphaFold2-ptm weights to /root/.cache/colabfold:  97%|█████████▋| 3.36G/3.47G [02:41<00:04, 23.2MB/s]\rDownloading AlphaFold2-ptm weights to /root/.cache/colabfold:  97%|█████████▋| 3.36G/3.47G [02:41<00:04, 23.2MB/s]\rDownloading AlphaFold2-ptm weights to /root/.cache/colabfold:  97%|█████████▋| 3.37G/3.47G [02:41<00:04, 23.2MB/s]\rDownloading AlphaFold2-ptm weights to /root/.cache/colabfold:  97%|█████████▋| 3.37G/3.47G [02:41<00:04, 23.2MB/s]\rDownloading AlphaFold2-ptm weights to /root/.cache/colabfold:  97%|█████████▋| 3.38G/3.47G [02:41<00:04, 23.2MB/s]\rDownloading AlphaFold2-ptm weights to /root/.cache/colabfold:  97%|█████████▋| 3.38G/3.47G [02:41<00:04, 23.2MB/s]\rDownloading AlphaFold2-ptm weights to /root/.cache/colabfold:  98%|█████████▊| 3.38G/3.47G [02:42<00:03, 23.2MB/s]\rDownloading AlphaFold2-ptm weights to /root/.cache/colabfold:  98%|█████████▊| 3.39G/3.47G [02:42<00:03, 23.2MB/s]\rDownloading AlphaFold2-ptm weights to /root/.cache/colabfold:  98%|█████████▊| 3.39G/3.47G [02:42<00:03, 23.2MB/s]\rDownloading AlphaFold2-ptm weights to /root/.cache/colabfold:  98%|█████████▊| 3.39G/3.47G [02:42<00:03, 23.2MB/s]\rDownloading AlphaFold2-ptm weights to /root/.cache/colabfold:  98%|█████████▊| 3.40G/3.47G [02:42<00:03, 23.2MB/s]\rDownloading AlphaFold2-ptm weights to /root/.cache/colabfold:  98%|█████████▊| 3.40G/3.47G [02:42<00:03, 20.3MB/s]\rDownloading AlphaFold2-ptm weights to /root/.cache/colabfold:  98%|█████████▊| 3.40G/3.47G [02:43<00:03, 18.1MB/s]\rDownloading AlphaFold2-ptm weights to /root/.cache/colabfold:  98%|█████████▊| 3.40G/3.47G [02:43<00:04, 14.0MB/s]\rDownloading AlphaFold2-ptm weights to /root/.cache/colabfold:  98%|█████████▊| 3.41G/3.47G [02:43<00:03, 16.4MB/s]\rDownloading AlphaFold2-ptm weights to /root/.cache/colabfold:  98%|█████████▊| 3.41G/3.47G [02:43<00:03, 18.3MB/s]\rDownloading AlphaFold2-ptm weights to /root/.cache/colabfold:  98%|█████████▊| 3.41G/3.47G [02:43<00:02, 19.7MB/s]\rDownloading AlphaFold2-ptm weights to /root/.cache/colabfold:  99%|█████████▊| 3.42G/3.47G [02:44<00:02, 20.8MB/s]\rDownloading AlphaFold2-ptm weights to /root/.cache/colabfold:  99%|█████████▊| 3.42G/3.47G [02:44<00:02, 21.4MB/s]\rDownloading AlphaFold2-ptm weights to /root/.cache/colabfold:  99%|█████████▉| 3.42G/3.47G [02:44<00:02, 22.0MB/s]\rDownloading AlphaFold2-ptm weights to /root/.cache/colabfold:  99%|█████████▉| 3.43G/3.47G [02:44<00:01, 22.3MB/s]\rDownloading AlphaFold2-ptm weights to /root/.cache/colabfold:  99%|█████████▉| 3.43G/3.47G [02:44<00:01, 22.6MB/s]\rDownloading AlphaFold2-ptm weights to /root/.cache/colabfold:  99%|█████████▉| 3.43G/3.47G [02:44<00:01, 22.8MB/s]\rDownloading AlphaFold2-ptm weights to /root/.cache/colabfold:  99%|█████████▉| 3.44G/3.47G [02:45<00:01, 22.9MB/s]\rDownloading AlphaFold2-ptm weights to /root/.cache/colabfold:  99%|█████████▉| 3.44G/3.47G [02:45<00:01, 23.0MB/s]\rDownloading AlphaFold2-ptm weights to /root/.cache/colabfold:  99%|█████████▉| 3.45G/3.47G [02:45<00:01, 23.0MB/s]\rDownloading AlphaFold2-ptm weights to /root/.cache/colabfold:  99%|█████████▉| 3.45G/3.47G [02:45<00:00, 23.1MB/s]\rDownloading AlphaFold2-ptm weights to /root/.cache/colabfold: 100%|█████████▉| 3.45G/3.47G [02:45<00:00, 23.1MB/s]\rDownloading AlphaFold2-ptm weights to /root/.cache/colabfold: 100%|█████████▉| 3.46G/3.47G [02:45<00:00, 23.1MB/s]\rDownloading AlphaFold2-ptm weights to /root/.cache/colabfold: 100%|█████████▉| 3.46G/3.47G [02:46<00:00, 23.2MB/s]\rDownloading AlphaFold2-ptm weights to /root/.cache/colabfold: 100%|█████████▉| 3.46G/3.47G [02:46<00:00, 23.2MB/s]\rDownloading AlphaFold2-ptm weights to /root/.cache/colabfold: 100%|█████████▉| 3.47G/3.47G [02:46<00:00, 23.2MB/s]\rDownloading AlphaFold2-ptm weights to /root/.cache/colabfold: 100%|██████████| 3.47G/3.47G [02:46<00:00, 22.4MB/s]\n"
          ]
        }
      ]
    },
    {
      "cell_type": "code",
      "metadata": {
        "id": "hUYApPElB30u",
        "cellView": "form",
        "outputId": "c87e271c-76c9-4fd1-e111-c4b3bf965bc0",
        "colab": {
          "base_uri": "https://localhost:8080/"
        }
      },
      "source": [
        "#@title Run Prediction\n",
        "\n",
        "import sys\n",
        "\n",
        "from colabfold.batch import get_queries, run\n",
        "from colabfold.download import default_data_dir\n",
        "from colabfold.utils import setup_logging\n",
        "from pathlib import Path\n",
        "\n",
        "# For some reason we need that to get pdbfixer to import\n",
        "if use_amber and f\"/usr/local/lib/python{python_version}/site-packages/\" not in sys.path:\n",
        "    sys.path.insert(0, f\"/usr/local/lib/python{python_version}/site-packages/\")\n",
        "\n",
        "setup_logging(Path(result_dir).joinpath(\"log.txt\"))\n",
        "\n",
        "queries, is_complex = get_queries(input_dir)\n",
        "run(\n",
        "    queries=queries,\n",
        "    result_dir=result_dir,\n",
        "    use_templates=use_templates,\n",
        "    num_relax=num_relax,\n",
        "    relax_max_iterations=relax_max_iterations,\n",
        "    msa_mode=msa_mode,\n",
        "    model_type=\"auto\",\n",
        "    num_models=num_models,\n",
        "    num_recycles=num_recycles,\n",
        "    model_order=[1, 2, 3, 4, 5],\n",
        "    is_complex=is_complex,\n",
        "    data_dir=default_data_dir,\n",
        "    keep_existing_results=do_not_overwrite_results,\n",
        "    rank_by=\"auto\",\n",
        "    pair_mode=\"unpaired+paired\",\n",
        "    stop_at_score=stop_at_score,\n",
        "    zip_results=zip_results,\n",
        "    user_agent=\"colabfold/google-colab-batch\",\n",
        ")"
      ],
      "execution_count": 5,
      "outputs": [
        {
          "output_type": "stream",
          "name": "stdout",
          "text": [
            "2025-08-17 12:43:54,878 Running on GPU\n",
            "2025-08-17 12:43:55,354 Found 8 citations for tools or databases\n",
            "2025-08-17 12:43:55,355 Query 1/9: secretion_system_WP_011050482.1 (length 269)\n"
          ]
        },
        {
          "output_type": "stream",
          "name": "stderr",
          "text": [
            "PENDING:   0%|          | 0/150 [elapsed: 00:00 remaining: ?]"
          ]
        },
        {
          "output_type": "stream",
          "name": "stdout",
          "text": [
            "2025-08-17 12:43:56,056 Sleeping for 5s. Reason: PENDING\n"
          ]
        },
        {
          "output_type": "stream",
          "name": "stderr",
          "text": [
            "RUNNING:   3%|▎         | 5/150 [elapsed: 00:06 remaining: 03:05]"
          ]
        },
        {
          "output_type": "stream",
          "name": "stdout",
          "text": [
            "2025-08-17 12:44:01,749 Sleeping for 7s. Reason: RUNNING\n"
          ]
        },
        {
          "output_type": "stream",
          "name": "stderr",
          "text": [
            "RUNNING:   8%|▊         | 12/150 [elapsed: 00:14 remaining: 02:40]"
          ]
        },
        {
          "output_type": "stream",
          "name": "stdout",
          "text": [
            "2025-08-17 12:44:09,475 Sleeping for 10s. Reason: RUNNING\n"
          ]
        },
        {
          "output_type": "stream",
          "name": "stderr",
          "text": [
            "RUNNING:  15%|█▍        | 22/150 [elapsed: 00:24 remaining: 02:21]"
          ]
        },
        {
          "output_type": "stream",
          "name": "stdout",
          "text": [
            "2025-08-17 12:44:20,168 Sleeping for 7s. Reason: RUNNING\n"
          ]
        },
        {
          "output_type": "stream",
          "name": "stderr",
          "text": [
            "RUNNING:  19%|█▉        | 29/150 [elapsed: 00:32 remaining: 02:13]"
          ]
        },
        {
          "output_type": "stream",
          "name": "stdout",
          "text": [
            "2025-08-17 12:44:27,866 Sleeping for 7s. Reason: RUNNING\n"
          ]
        },
        {
          "output_type": "stream",
          "name": "stderr",
          "text": [
            "RUNNING:  24%|██▍       | 36/150 [elapsed: 00:40 remaining: 02:05]"
          ]
        },
        {
          "output_type": "stream",
          "name": "stdout",
          "text": [
            "2025-08-17 12:44:35,545 Sleeping for 7s. Reason: RUNNING\n"
          ]
        },
        {
          "output_type": "stream",
          "name": "stderr",
          "text": [
            "RUNNING:  29%|██▊       | 43/150 [elapsed: 00:47 remaining: 01:57]"
          ]
        },
        {
          "output_type": "stream",
          "name": "stdout",
          "text": [
            "2025-08-17 12:44:43,231 Sleeping for 7s. Reason: RUNNING\n"
          ]
        },
        {
          "output_type": "stream",
          "name": "stderr",
          "text": [
            "RUNNING:  33%|███▎      | 50/150 [elapsed: 00:55 remaining: 01:50]"
          ]
        },
        {
          "output_type": "stream",
          "name": "stdout",
          "text": [
            "2025-08-17 12:44:51,083 Sleeping for 5s. Reason: RUNNING\n"
          ]
        },
        {
          "output_type": "stream",
          "name": "stderr",
          "text": [
            "RUNNING:  37%|███▋      | 55/150 [elapsed: 01:01 remaining: 01:45]"
          ]
        },
        {
          "output_type": "stream",
          "name": "stdout",
          "text": [
            "2025-08-17 12:44:56,767 Sleeping for 8s. Reason: RUNNING\n"
          ]
        },
        {
          "output_type": "stream",
          "name": "stderr",
          "text": [
            "COMPLETE: 100%|██████████| 150/150 [elapsed: 01:11 remaining: 00:00]\n"
          ]
        },
        {
          "output_type": "stream",
          "name": "stdout",
          "text": [
            "2025-08-17 12:45:17,521 Sequence 0 found templates: ['5hj1_A', '5gnd_A', '5b6l_A', '3stj_D', '7oio_A', '3oss_C', '2lnv_A', '2i4s_A', '6nek_A', '4a9g_G', '4a8c_I', '2i6v_A', '3id2_B', '3id3_B', '4a9g_G', '4a8c_I', '2zpm_A', '7w71_A', '7w6x_A', '3id4_A']\n",
            "2025-08-17 12:45:44,017 Padding length to 279\n",
            "2025-08-17 12:46:47,030 alphafold2_ptm_model_1_seed_000 recycle=0 pLDDT=73.4 pTM=0.357\n",
            "2025-08-17 12:47:41,474 alphafold2_ptm_model_1_seed_000 recycle=1 pLDDT=73.1 pTM=0.373 tol=6.45\n",
            "2025-08-17 12:48:07,127 alphafold2_ptm_model_1_seed_000 recycle=2 pLDDT=72.8 pTM=0.374 tol=2.17\n",
            "2025-08-17 12:48:32,179 alphafold2_ptm_model_1_seed_000 recycle=3 pLDDT=72.8 pTM=0.372 tol=1.39\n",
            "2025-08-17 12:48:32,180 alphafold2_ptm_model_1_seed_000 took 168.2s (3 recycles)\n",
            "2025-08-17 12:48:57,447 alphafold2_ptm_model_2_seed_000 recycle=0 pLDDT=73.3 pTM=0.348\n",
            "2025-08-17 12:49:22,614 alphafold2_ptm_model_2_seed_000 recycle=1 pLDDT=72.2 pTM=0.35 tol=6.23\n",
            "2025-08-17 12:49:47,832 alphafold2_ptm_model_2_seed_000 recycle=2 pLDDT=73.1 pTM=0.356 tol=2.77\n",
            "2025-08-17 12:50:13,080 alphafold2_ptm_model_2_seed_000 recycle=3 pLDDT=73.4 pTM=0.356 tol=1.27\n",
            "2025-08-17 12:50:13,081 alphafold2_ptm_model_2_seed_000 took 100.7s (3 recycles)\n",
            "2025-08-17 12:51:00,616 alphafold2_ptm_model_3_seed_000 recycle=0 pLDDT=75.2 pTM=0.373\n",
            "2025-08-17 12:51:45,271 alphafold2_ptm_model_3_seed_000 recycle=1 pLDDT=73.7 pTM=0.375 tol=3.46\n",
            "2025-08-17 12:52:10,339 alphafold2_ptm_model_3_seed_000 recycle=2 pLDDT=72.9 pTM=0.37 tol=2.51\n",
            "2025-08-17 12:52:35,142 alphafold2_ptm_model_3_seed_000 recycle=3 pLDDT=73.2 pTM=0.374 tol=1.19\n",
            "2025-08-17 12:52:35,143 alphafold2_ptm_model_3_seed_000 took 142.0s (3 recycles)\n",
            "2025-08-17 12:52:35,237 reranking models by 'plddt' metric\n",
            "2025-08-17 12:52:35,238 rank_001_alphafold2_ptm_model_2_seed_000 pLDDT=73.4 pTM=0.356\n",
            "2025-08-17 12:52:35,241 rank_002_alphafold2_ptm_model_3_seed_000 pLDDT=73.2 pTM=0.374\n",
            "2025-08-17 12:52:35,244 rank_003_alphafold2_ptm_model_1_seed_000 pLDDT=72.8 pTM=0.372\n",
            "2025-08-17 12:52:36,207 Query 2/9: secretion_system_WP_003490495.1 (length 283)\n"
          ]
        },
        {
          "output_type": "stream",
          "name": "stderr",
          "text": [
            "PENDING:   0%|          | 0/150 [elapsed: 00:00 remaining: ?]"
          ]
        },
        {
          "output_type": "stream",
          "name": "stdout",
          "text": [
            "2025-08-17 12:52:36,918 Sleeping for 5s. Reason: PENDING\n"
          ]
        },
        {
          "output_type": "stream",
          "name": "stderr",
          "text": [
            "RUNNING:   3%|▎         | 5/150 [elapsed: 00:06 remaining: 03:05]"
          ]
        },
        {
          "output_type": "stream",
          "name": "stdout",
          "text": [
            "2025-08-17 12:52:42,615 Sleeping for 5s. Reason: RUNNING\n"
          ]
        },
        {
          "output_type": "stream",
          "name": "stderr",
          "text": [
            "RUNNING:   7%|▋         | 10/150 [elapsed: 00:12 remaining: 02:49]"
          ]
        },
        {
          "output_type": "stream",
          "name": "stdout",
          "text": [
            "2025-08-17 12:52:48,444 Sleeping for 7s. Reason: RUNNING\n"
          ]
        },
        {
          "output_type": "stream",
          "name": "stderr",
          "text": [
            "RUNNING:  11%|█▏        | 17/150 [elapsed: 00:19 remaining: 02:33]"
          ]
        },
        {
          "output_type": "stream",
          "name": "stdout",
          "text": [
            "2025-08-17 12:52:56,144 Sleeping for 6s. Reason: RUNNING\n"
          ]
        },
        {
          "output_type": "stream",
          "name": "stderr",
          "text": [
            "RUNNING:  15%|█▌        | 23/150 [elapsed: 00:26 remaining: 02:24]"
          ]
        },
        {
          "output_type": "stream",
          "name": "stdout",
          "text": [
            "2025-08-17 12:53:02,838 Sleeping for 6s. Reason: RUNNING\n"
          ]
        },
        {
          "output_type": "stream",
          "name": "stderr",
          "text": [
            "RUNNING:  19%|█▉        | 29/150 [elapsed: 00:33 remaining: 02:16]"
          ]
        },
        {
          "output_type": "stream",
          "name": "stdout",
          "text": [
            "2025-08-17 12:53:09,534 Sleeping for 8s. Reason: RUNNING\n"
          ]
        },
        {
          "output_type": "stream",
          "name": "stderr",
          "text": [
            "COMPLETE: 100%|██████████| 150/150 [elapsed: 00:43 remaining: 00:00]\n"
          ]
        },
        {
          "output_type": "stream",
          "name": "stdout",
          "text": [
            "2025-08-17 12:53:25,444 Sequence 0 found templates: ['6utu_F', '3ci0_K', '6utu_C', '5vtm_X', '6utu_I', '6utu_F', '6utu_C', '5vtm_X', '6utu_I', '3ci0_K']\n",
            "2025-08-17 12:53:34,037 Padding length to 293\n",
            "2025-08-17 12:54:43,910 alphafold2_ptm_model_1_seed_000 recycle=0 pLDDT=89.1 pTM=0.82\n",
            "2025-08-17 12:55:42,043 alphafold2_ptm_model_1_seed_000 recycle=1 pLDDT=89.8 pTM=0.834 tol=0.317\n",
            "2025-08-17 12:56:10,260 alphafold2_ptm_model_1_seed_000 recycle=2 pLDDT=90.1 pTM=0.835 tol=0.183\n",
            "2025-08-17 12:56:37,746 alphafold2_ptm_model_1_seed_000 recycle=3 pLDDT=90.4 pTM=0.837 tol=0.0939\n",
            "2025-08-17 12:56:37,747 alphafold2_ptm_model_1_seed_000 took 183.7s (3 recycles)\n",
            "2025-08-17 12:57:05,276 alphafold2_ptm_model_2_seed_000 recycle=0 pLDDT=88.8 pTM=0.815\n",
            "2025-08-17 12:57:33,031 alphafold2_ptm_model_2_seed_000 recycle=1 pLDDT=89.3 pTM=0.826 tol=0.549\n",
            "2025-08-17 12:58:00,559 alphafold2_ptm_model_2_seed_000 recycle=2 pLDDT=89.4 pTM=0.831 tol=0.254\n",
            "2025-08-17 12:58:28,065 alphafold2_ptm_model_2_seed_000 recycle=3 pLDDT=89.6 pTM=0.832 tol=0.15\n",
            "2025-08-17 12:58:28,066 alphafold2_ptm_model_2_seed_000 took 110.2s (3 recycles)\n",
            "2025-08-17 12:59:17,268 alphafold2_ptm_model_3_seed_000 recycle=0 pLDDT=89.9 pTM=0.83\n",
            "2025-08-17 13:00:04,213 alphafold2_ptm_model_3_seed_000 recycle=1 pLDDT=91.8 pTM=0.846 tol=0.675\n",
            "2025-08-17 13:00:31,243 alphafold2_ptm_model_3_seed_000 recycle=2 pLDDT=92.2 pTM=0.85 tol=0.227\n",
            "2025-08-17 13:00:57,878 alphafold2_ptm_model_3_seed_000 recycle=3 pLDDT=92.4 pTM=0.853 tol=0.0858\n",
            "2025-08-17 13:00:57,879 alphafold2_ptm_model_3_seed_000 took 149.7s (3 recycles)\n",
            "2025-08-17 13:00:57,965 reranking models by 'plddt' metric\n",
            "2025-08-17 13:00:57,966 rank_001_alphafold2_ptm_model_3_seed_000 pLDDT=92.4 pTM=0.853\n",
            "2025-08-17 13:00:57,982 rank_002_alphafold2_ptm_model_1_seed_000 pLDDT=90.4 pTM=0.837\n",
            "2025-08-17 13:00:57,985 rank_003_alphafold2_ptm_model_2_seed_000 pLDDT=89.6 pTM=0.832\n",
            "2025-08-17 13:00:58,907 Query 3/9: tonb_dependent_WP_011052701.1 (length 336)\n"
          ]
        },
        {
          "output_type": "stream",
          "name": "stderr",
          "text": [
            "PENDING:   0%|          | 0/150 [elapsed: 00:00 remaining: ?]"
          ]
        },
        {
          "output_type": "stream",
          "name": "stdout",
          "text": [
            "2025-08-17 13:00:59,610 Sleeping for 6s. Reason: PENDING\n"
          ]
        },
        {
          "output_type": "stream",
          "name": "stderr",
          "text": [
            "RUNNING:   4%|▍         | 6/150 [elapsed: 00:07 remaining: 02:57]"
          ]
        },
        {
          "output_type": "stream",
          "name": "stdout",
          "text": [
            "2025-08-17 13:01:06,313 Sleeping for 6s. Reason: RUNNING\n"
          ]
        },
        {
          "output_type": "stream",
          "name": "stderr",
          "text": [
            "RUNNING:   8%|▊         | 12/150 [elapsed: 00:14 remaining: 02:40]"
          ]
        },
        {
          "output_type": "stream",
          "name": "stdout",
          "text": [
            "2025-08-17 13:01:13,013 Sleeping for 8s. Reason: RUNNING\n"
          ]
        },
        {
          "output_type": "stream",
          "name": "stderr",
          "text": [
            "RUNNING:  13%|█▎        | 20/150 [elapsed: 00:22 remaining: 02:26]"
          ]
        },
        {
          "output_type": "stream",
          "name": "stdout",
          "text": [
            "2025-08-17 13:01:21,704 Sleeping for 5s. Reason: RUNNING\n"
          ]
        },
        {
          "output_type": "stream",
          "name": "stderr",
          "text": [
            "RUNNING:  17%|█▋        | 25/150 [elapsed: 00:28 remaining: 02:21]"
          ]
        },
        {
          "output_type": "stream",
          "name": "stdout",
          "text": [
            "2025-08-17 13:01:27,396 Sleeping for 7s. Reason: RUNNING\n"
          ]
        },
        {
          "output_type": "stream",
          "name": "stderr",
          "text": [
            "RUNNING:  21%|██▏       | 32/150 [elapsed: 00:36 remaining: 02:11]"
          ]
        },
        {
          "output_type": "stream",
          "name": "stdout",
          "text": [
            "2025-08-17 13:01:35,099 Sleeping for 9s. Reason: RUNNING\n"
          ]
        },
        {
          "output_type": "stream",
          "name": "stderr",
          "text": [
            "RUNNING:  27%|██▋       | 41/150 [elapsed: 00:45 remaining: 01:59]"
          ]
        },
        {
          "output_type": "stream",
          "name": "stdout",
          "text": [
            "2025-08-17 13:01:44,791 Sleeping for 10s. Reason: RUNNING\n"
          ]
        },
        {
          "output_type": "stream",
          "name": "stderr",
          "text": [
            "COMPLETE: 100%|██████████| 150/150 [elapsed: 00:58 remaining: 00:00]\n"
          ]
        },
        {
          "output_type": "stream",
          "name": "stdout",
          "text": [
            "2025-08-17 13:02:12,514 Sequence 0 found templates: ['2k9k_A', '1u07_B', '2grx_D', '1qxx_A', '1ihr_A', '6i97_E', '6fip_A', '7zc8_B', '5lw8_A', '6sly_A', '2m2k_A', '1na0_A', '1na3_B', '1na3_A', '3kd7_E', '1na0_B', '3kd7_B', '2wqh_A', '7obi_B', '3kd7_A']\n",
            "2025-08-17 13:02:26,382 Padding length to 346\n",
            "2025-08-17 13:03:51,077 alphafold2_ptm_model_1_seed_000 recycle=0 pLDDT=80.4 pTM=0.472\n",
            "2025-08-17 13:04:57,840 alphafold2_ptm_model_1_seed_000 recycle=1 pLDDT=81.1 pTM=0.489 tol=4.71\n",
            "2025-08-17 13:05:32,411 alphafold2_ptm_model_1_seed_000 recycle=2 pLDDT=81.3 pTM=0.491 tol=1.81\n",
            "2025-08-17 13:06:06,894 alphafold2_ptm_model_1_seed_000 recycle=3 pLDDT=81.2 pTM=0.497 tol=1.25\n",
            "2025-08-17 13:06:06,897 alphafold2_ptm_model_1_seed_000 took 220.5s (3 recycles)\n",
            "2025-08-17 13:06:42,374 alphafold2_ptm_model_2_seed_000 recycle=0 pLDDT=79.6 pTM=0.482\n",
            "2025-08-17 13:07:17,322 alphafold2_ptm_model_2_seed_000 recycle=1 pLDDT=81.1 pTM=0.503 tol=4.69\n",
            "2025-08-17 13:07:51,838 alphafold2_ptm_model_2_seed_000 recycle=2 pLDDT=81.1 pTM=0.498 tol=1.74\n",
            "2025-08-17 13:08:27,090 alphafold2_ptm_model_2_seed_000 recycle=3 pLDDT=81.1 pTM=0.504 tol=1.77\n",
            "2025-08-17 13:08:27,091 alphafold2_ptm_model_2_seed_000 took 139.9s (3 recycles)\n",
            "2025-08-17 13:09:24,675 alphafold2_ptm_model_3_seed_000 recycle=0 pLDDT=81.6 pTM=0.483\n",
            "2025-08-17 13:10:21,148 alphafold2_ptm_model_3_seed_000 recycle=1 pLDDT=81.8 pTM=0.494 tol=3.81\n",
            "2025-08-17 13:10:54,912 alphafold2_ptm_model_3_seed_000 recycle=2 pLDDT=82.1 pTM=0.498 tol=2.31\n",
            "2025-08-17 13:11:28,424 alphafold2_ptm_model_3_seed_000 recycle=3 pLDDT=81.6 pTM=0.5 tol=2.15\n",
            "2025-08-17 13:11:28,426 alphafold2_ptm_model_3_seed_000 took 181.1s (3 recycles)\n",
            "2025-08-17 13:11:28,637 reranking models by 'plddt' metric\n",
            "2025-08-17 13:11:28,637 rank_001_alphafold2_ptm_model_3_seed_000 pLDDT=81.6 pTM=0.5\n",
            "2025-08-17 13:11:28,643 rank_002_alphafold2_ptm_model_1_seed_000 pLDDT=81.2 pTM=0.497\n",
            "2025-08-17 13:11:28,647 rank_003_alphafold2_ptm_model_2_seed_000 pLDDT=81.1 pTM=0.504\n",
            "2025-08-17 13:11:30,078 Query 4/9: secretion_system_WP_011050301.1 (length 607)\n"
          ]
        },
        {
          "output_type": "stream",
          "name": "stderr",
          "text": [
            "PENDING:   0%|          | 0/150 [elapsed: 00:00 remaining: ?]"
          ]
        },
        {
          "output_type": "stream",
          "name": "stdout",
          "text": [
            "2025-08-17 13:11:30,797 Sleeping for 8s. Reason: PENDING\n"
          ]
        },
        {
          "output_type": "stream",
          "name": "stderr",
          "text": [
            "RUNNING:   5%|▌         | 8/150 [elapsed: 00:09 remaining: 02:47]"
          ]
        },
        {
          "output_type": "stream",
          "name": "stdout",
          "text": [
            "2025-08-17 13:11:39,522 Sleeping for 10s. Reason: RUNNING\n"
          ]
        },
        {
          "output_type": "stream",
          "name": "stderr",
          "text": [
            "RUNNING:  12%|█▏        | 18/150 [elapsed: 00:20 remaining: 02:26]"
          ]
        },
        {
          "output_type": "stream",
          "name": "stdout",
          "text": [
            "2025-08-17 13:11:50,222 Sleeping for 8s. Reason: RUNNING\n"
          ]
        },
        {
          "output_type": "stream",
          "name": "stderr",
          "text": [
            "RUNNING:  17%|█▋        | 26/150 [elapsed: 00:28 remaining: 02:16]"
          ]
        },
        {
          "output_type": "stream",
          "name": "stdout",
          "text": [
            "2025-08-17 13:11:58,908 Sleeping for 6s. Reason: RUNNING\n"
          ]
        },
        {
          "output_type": "stream",
          "name": "stderr",
          "text": [
            "RUNNING:  21%|██▏       | 32/150 [elapsed: 00:35 remaining: 02:10]"
          ]
        },
        {
          "output_type": "stream",
          "name": "stdout",
          "text": [
            "2025-08-17 13:12:05,615 Sleeping for 10s. Reason: RUNNING\n"
          ]
        },
        {
          "output_type": "stream",
          "name": "stderr",
          "text": [
            "RUNNING:  28%|██▊       | 42/150 [elapsed: 00:46 remaining: 01:57]"
          ]
        },
        {
          "output_type": "stream",
          "name": "stdout",
          "text": [
            "2025-08-17 13:12:16,312 Sleeping for 7s. Reason: RUNNING\n"
          ]
        },
        {
          "output_type": "stream",
          "name": "stderr",
          "text": [
            "RUNNING:  33%|███▎      | 49/150 [elapsed: 00:53 remaining: 01:50]"
          ]
        },
        {
          "output_type": "stream",
          "name": "stdout",
          "text": [
            "2025-08-17 13:12:23,995 Sleeping for 5s. Reason: RUNNING\n"
          ]
        },
        {
          "output_type": "stream",
          "name": "stderr",
          "text": [
            "RUNNING:  36%|███▌      | 54/150 [elapsed: 00:59 remaining: 01:45]"
          ]
        },
        {
          "output_type": "stream",
          "name": "stdout",
          "text": [
            "2025-08-17 13:12:29,704 Sleeping for 8s. Reason: RUNNING\n"
          ]
        },
        {
          "output_type": "stream",
          "name": "stderr",
          "text": [
            "RUNNING:  41%|████▏     | 62/150 [elapsed: 01:08 remaining: 01:36]"
          ]
        },
        {
          "output_type": "stream",
          "name": "stdout",
          "text": [
            "2025-08-17 13:12:38,439 Sleeping for 5s. Reason: RUNNING\n"
          ]
        },
        {
          "output_type": "stream",
          "name": "stderr",
          "text": [
            "RUNNING:  45%|████▍     | 67/150 [elapsed: 01:14 remaining: 01:31]"
          ]
        },
        {
          "output_type": "stream",
          "name": "stdout",
          "text": [
            "2025-08-17 13:12:44,120 Sleeping for 7s. Reason: RUNNING\n"
          ]
        },
        {
          "output_type": "stream",
          "name": "stderr",
          "text": [
            "RUNNING:  49%|████▉     | 74/150 [elapsed: 01:21 remaining: 01:24]"
          ]
        },
        {
          "output_type": "stream",
          "name": "stdout",
          "text": [
            "2025-08-17 13:12:51,825 Sleeping for 6s. Reason: RUNNING\n"
          ]
        },
        {
          "output_type": "stream",
          "name": "stderr",
          "text": [
            "RUNNING:  53%|█████▎    | 80/150 [elapsed: 01:28 remaining: 01:17]"
          ]
        },
        {
          "output_type": "stream",
          "name": "stdout",
          "text": [
            "2025-08-17 13:12:58,527 Sleeping for 10s. Reason: RUNNING\n"
          ]
        },
        {
          "output_type": "stream",
          "name": "stderr",
          "text": [
            "RUNNING:  60%|██████    | 90/150 [elapsed: 01:39 remaining: 01:05]"
          ]
        },
        {
          "output_type": "stream",
          "name": "stdout",
          "text": [
            "2025-08-17 13:13:09,229 Sleeping for 10s. Reason: RUNNING\n"
          ]
        },
        {
          "output_type": "stream",
          "name": "stderr",
          "text": [
            "COMPLETE: 100%|██████████| 150/150 [elapsed: 01:51 remaining: 00:00]\n"
          ]
        },
        {
          "output_type": "stream",
          "name": "stdout",
          "text": [
            "2025-08-17 13:15:19,268 Sequence 0 found templates: ['7ahi_5G', '7ah9_5C', '7ahi_5K', '7ah9_5J', '6q15_K', '7ah9_5D', '6q14_G', '7ah9_5P', '7ah9_5N', '5tcr_A', '6hcg_A', '5wq7_A', '5wln_G', '6i1y_A', '6i1x_B', '6w6m_A', '5wq8_A', '5wq9_A', '6ve4_A', '5zdh_A']\n",
            "2025-08-17 13:15:47,713 Padding length to 617\n",
            "2025-08-17 13:18:29,780 alphafold2_ptm_model_1_seed_000 recycle=0 pLDDT=74.8 pTM=0.509\n",
            "2025-08-17 13:20:36,331 alphafold2_ptm_model_1_seed_000 recycle=1 pLDDT=74.4 pTM=0.528 tol=3.83\n",
            "2025-08-17 13:22:13,806 alphafold2_ptm_model_1_seed_000 recycle=2 pLDDT=75.2 pTM=0.531 tol=2.66\n",
            "2025-08-17 13:23:51,148 alphafold2_ptm_model_1_seed_000 recycle=3 pLDDT=75.6 pTM=0.538 tol=3.11\n",
            "2025-08-17 13:23:51,152 alphafold2_ptm_model_1_seed_000 took 483.4s (3 recycles)\n",
            "2025-08-17 13:25:29,886 alphafold2_ptm_model_2_seed_000 recycle=0 pLDDT=73.9 pTM=0.469\n",
            "2025-08-17 13:27:07,498 alphafold2_ptm_model_2_seed_000 recycle=1 pLDDT=73.6 pTM=0.501 tol=7.45\n",
            "2025-08-17 13:28:45,717 alphafold2_ptm_model_2_seed_000 recycle=2 pLDDT=73.9 pTM=0.515 tol=2.33\n",
            "2025-08-17 13:30:23,637 alphafold2_ptm_model_2_seed_000 recycle=3 pLDDT=74.6 pTM=0.524 tol=1.84\n",
            "2025-08-17 13:30:23,642 alphafold2_ptm_model_2_seed_000 took 392.2s (3 recycles)\n",
            "2025-08-17 13:32:21,074 alphafold2_ptm_model_3_seed_000 recycle=0 pLDDT=71.1 pTM=0.484\n",
            "2025-08-17 13:34:15,873 alphafold2_ptm_model_3_seed_000 recycle=1 pLDDT=76.1 pTM=0.544 tol=9.74\n",
            "2025-08-17 13:35:49,419 alphafold2_ptm_model_3_seed_000 recycle=2 pLDDT=77.1 pTM=0.565 tol=3.1\n",
            "2025-08-17 13:37:22,551 alphafold2_ptm_model_3_seed_000 recycle=3 pLDDT=77.2 pTM=0.571 tol=1.96\n",
            "2025-08-17 13:37:22,556 alphafold2_ptm_model_3_seed_000 took 418.6s (3 recycles)\n",
            "2025-08-17 13:37:22,913 reranking models by 'plddt' metric\n",
            "2025-08-17 13:37:22,914 rank_001_alphafold2_ptm_model_3_seed_000 pLDDT=77.2 pTM=0.571\n",
            "2025-08-17 13:37:22,919 rank_002_alphafold2_ptm_model_1_seed_000 pLDDT=75.6 pTM=0.538\n",
            "2025-08-17 13:37:22,922 rank_003_alphafold2_ptm_model_2_seed_000 pLDDT=74.6 pTM=0.524\n",
            "2025-08-17 13:37:24,631 Query 5/9: tonb_dependent_WP_015471837.1 (length 691)\n"
          ]
        },
        {
          "output_type": "stream",
          "name": "stderr",
          "text": [
            "PENDING:   0%|          | 0/150 [elapsed: 00:00 remaining: ?]"
          ]
        },
        {
          "output_type": "stream",
          "name": "stdout",
          "text": [
            "2025-08-17 13:37:25,364 Sleeping for 9s. Reason: PENDING\n"
          ]
        },
        {
          "output_type": "stream",
          "name": "stderr",
          "text": [
            "RUNNING:   6%|▌         | 9/150 [elapsed: 00:10 remaining: 02:43]"
          ]
        },
        {
          "output_type": "stream",
          "name": "stdout",
          "text": [
            "2025-08-17 13:37:35,086 Sleeping for 5s. Reason: RUNNING\n"
          ]
        },
        {
          "output_type": "stream",
          "name": "stderr",
          "text": [
            "RUNNING:   9%|▉         | 14/150 [elapsed: 00:16 remaining: 02:36]"
          ]
        },
        {
          "output_type": "stream",
          "name": "stdout",
          "text": [
            "2025-08-17 13:37:40,766 Sleeping for 6s. Reason: RUNNING\n"
          ]
        },
        {
          "output_type": "stream",
          "name": "stderr",
          "text": [
            "RUNNING:  13%|█▎        | 20/150 [elapsed: 00:22 remaining: 02:27]"
          ]
        },
        {
          "output_type": "stream",
          "name": "stdout",
          "text": [
            "2025-08-17 13:37:47,459 Sleeping for 10s. Reason: RUNNING\n"
          ]
        },
        {
          "output_type": "stream",
          "name": "stderr",
          "text": [
            "RUNNING:  20%|██        | 30/150 [elapsed: 00:33 remaining: 02:12]"
          ]
        },
        {
          "output_type": "stream",
          "name": "stdout",
          "text": [
            "2025-08-17 13:37:58,163 Sleeping for 10s. Reason: RUNNING\n"
          ]
        },
        {
          "output_type": "stream",
          "name": "stderr",
          "text": [
            "RUNNING:  27%|██▋       | 40/150 [elapsed: 00:44 remaining: 01:59]"
          ]
        },
        {
          "output_type": "stream",
          "name": "stdout",
          "text": [
            "2025-08-17 13:38:08,874 Sleeping for 8s. Reason: RUNNING\n"
          ]
        },
        {
          "output_type": "stream",
          "name": "stderr",
          "text": [
            "RUNNING:  32%|███▏      | 48/150 [elapsed: 00:52 remaining: 01:51]"
          ]
        },
        {
          "output_type": "stream",
          "name": "stdout",
          "text": [
            "2025-08-17 13:38:17,567 Sleeping for 8s. Reason: RUNNING\n"
          ]
        },
        {
          "output_type": "stream",
          "name": "stderr",
          "text": [
            "RUNNING:  37%|███▋      | 56/150 [elapsed: 01:01 remaining: 01:42]"
          ]
        },
        {
          "output_type": "stream",
          "name": "stdout",
          "text": [
            "2025-08-17 13:38:26,257 Sleeping for 10s. Reason: RUNNING\n"
          ]
        },
        {
          "output_type": "stream",
          "name": "stderr",
          "text": [
            "RUNNING:  44%|████▍     | 66/150 [elapsed: 01:12 remaining: 01:30]"
          ]
        },
        {
          "output_type": "stream",
          "name": "stdout",
          "text": [
            "2025-08-17 13:38:36,958 Sleeping for 7s. Reason: RUNNING\n"
          ]
        },
        {
          "output_type": "stream",
          "name": "stderr",
          "text": [
            "RUNNING:  49%|████▊     | 73/150 [elapsed: 01:20 remaining: 01:23]"
          ]
        },
        {
          "output_type": "stream",
          "name": "stdout",
          "text": [
            "2025-08-17 13:38:44,740 Sleeping for 6s. Reason: RUNNING\n"
          ]
        },
        {
          "output_type": "stream",
          "name": "stderr",
          "text": [
            "RUNNING:  53%|█████▎    | 79/150 [elapsed: 01:26 remaining: 01:17]"
          ]
        },
        {
          "output_type": "stream",
          "name": "stdout",
          "text": [
            "2025-08-17 13:38:51,454 Sleeping for 10s. Reason: RUNNING\n"
          ]
        },
        {
          "output_type": "stream",
          "name": "stderr",
          "text": [
            "RUNNING:  59%|█████▉    | 89/150 [elapsed: 01:37 remaining: 01:06]"
          ]
        },
        {
          "output_type": "stream",
          "name": "stdout",
          "text": [
            "2025-08-17 13:39:02,156 Sleeping for 9s. Reason: RUNNING\n"
          ]
        },
        {
          "output_type": "stream",
          "name": "stderr",
          "text": [
            "RUNNING:  65%|██████▌   | 98/150 [elapsed: 01:47 remaining: 00:56]"
          ]
        },
        {
          "output_type": "stream",
          "name": "stdout",
          "text": [
            "2025-08-17 13:39:11,860 Sleeping for 10s. Reason: RUNNING\n"
          ]
        },
        {
          "output_type": "stream",
          "name": "stderr",
          "text": [
            "RUNNING:  72%|███████▏  | 108/150 [elapsed: 01:57 remaining: 00:45]"
          ]
        },
        {
          "output_type": "stream",
          "name": "stdout",
          "text": [
            "2025-08-17 13:39:22,547 Sleeping for 5s. Reason: RUNNING\n"
          ]
        },
        {
          "output_type": "stream",
          "name": "stderr",
          "text": [
            "RUNNING:  75%|███████▌  | 113/150 [elapsed: 02:03 remaining: 00:40]"
          ]
        },
        {
          "output_type": "stream",
          "name": "stdout",
          "text": [
            "2025-08-17 13:39:28,263 Sleeping for 5s. Reason: RUNNING\n"
          ]
        },
        {
          "output_type": "stream",
          "name": "stderr",
          "text": [
            "RUNNING:  79%|███████▊  | 118/150 [elapsed: 02:09 remaining: 00:35]"
          ]
        },
        {
          "output_type": "stream",
          "name": "stdout",
          "text": [
            "2025-08-17 13:39:33,981 Sleeping for 7s. Reason: RUNNING\n"
          ]
        },
        {
          "output_type": "stream",
          "name": "stderr",
          "text": [
            "RUNNING:  83%|████████▎ | 125/150 [elapsed: 02:17 remaining: 00:27]"
          ]
        },
        {
          "output_type": "stream",
          "name": "stdout",
          "text": [
            "2025-08-17 13:39:41,694 Sleeping for 9s. Reason: RUNNING\n"
          ]
        },
        {
          "output_type": "stream",
          "name": "stderr",
          "text": [
            "RUNNING:  89%|████████▉ | 134/150 [elapsed: 02:26 remaining: 00:17]"
          ]
        },
        {
          "output_type": "stream",
          "name": "stdout",
          "text": [
            "2025-08-17 13:39:51,382 Sleeping for 6s. Reason: RUNNING\n"
          ]
        },
        {
          "output_type": "stream",
          "name": "stderr",
          "text": [
            "RUNNING:  93%|█████████▎| 140/150 [elapsed: 02:33 remaining: 00:10]"
          ]
        },
        {
          "output_type": "stream",
          "name": "stdout",
          "text": [
            "2025-08-17 13:39:58,079 Sleeping for 7s. Reason: RUNNING\n"
          ]
        },
        {
          "output_type": "stream",
          "name": "stderr",
          "text": [
            "RUNNING:  98%|█████████▊| 147/150 [elapsed: 02:41 remaining: 00:03]"
          ]
        },
        {
          "output_type": "stream",
          "name": "stdout",
          "text": [
            "2025-08-17 13:40:05,782 Sleeping for 9s. Reason: RUNNING\n"
          ]
        },
        {
          "output_type": "stream",
          "name": "stderr",
          "text": [
            "RUNNING: |          | 156/? [elapsed: 02:50 remaining: 00:00]"
          ]
        },
        {
          "output_type": "stream",
          "name": "stdout",
          "text": [
            "2025-08-17 13:40:15,477 Sleeping for 5s. Reason: RUNNING\n"
          ]
        },
        {
          "output_type": "stream",
          "name": "stderr",
          "text": [
            "RUNNING: |          | 161/? [elapsed: 02:56 remaining: 00:00]"
          ]
        },
        {
          "output_type": "stream",
          "name": "stdout",
          "text": [
            "2025-08-17 13:40:21,191 Sleeping for 10s. Reason: RUNNING\n"
          ]
        },
        {
          "output_type": "stream",
          "name": "stderr",
          "text": [
            "RUNNING: |          | 171/? [elapsed: 03:07 remaining: 00:00]"
          ]
        },
        {
          "output_type": "stream",
          "name": "stdout",
          "text": [
            "2025-08-17 13:40:31,890 Sleeping for 9s. Reason: RUNNING\n"
          ]
        },
        {
          "output_type": "stream",
          "name": "stderr",
          "text": [
            "RUNNING: |          | 180/? [elapsed: 03:17 remaining: 00:00]"
          ]
        },
        {
          "output_type": "stream",
          "name": "stdout",
          "text": [
            "2025-08-17 13:40:41,774 Sleeping for 5s. Reason: RUNNING\n"
          ]
        },
        {
          "output_type": "stream",
          "name": "stderr",
          "text": [
            "RUNNING: |          | 185/? [elapsed: 03:22 remaining: 00:00]"
          ]
        },
        {
          "output_type": "stream",
          "name": "stdout",
          "text": [
            "2025-08-17 13:40:47,472 Sleeping for 8s. Reason: RUNNING\n"
          ]
        },
        {
          "output_type": "stream",
          "name": "stderr",
          "text": [
            "RUNNING: |          | 193/? [elapsed: 03:31 remaining: 00:00]"
          ]
        },
        {
          "output_type": "stream",
          "name": "stdout",
          "text": [
            "2025-08-17 13:40:56,159 Sleeping for 7s. Reason: RUNNING\n"
          ]
        },
        {
          "output_type": "stream",
          "name": "stderr",
          "text": [
            "RUNNING: |          | 200/? [elapsed: 03:39 remaining: 00:00]"
          ]
        },
        {
          "output_type": "stream",
          "name": "stdout",
          "text": [
            "2025-08-17 13:41:03,848 Sleeping for 9s. Reason: RUNNING\n"
          ]
        },
        {
          "output_type": "stream",
          "name": "stderr",
          "text": [
            "RUNNING: |          | 209/? [elapsed: 03:48 remaining: 00:00]"
          ]
        },
        {
          "output_type": "stream",
          "name": "stdout",
          "text": [
            "2025-08-17 13:41:13,552 Sleeping for 7s. Reason: RUNNING\n"
          ]
        },
        {
          "output_type": "stream",
          "name": "stderr",
          "text": [
            "RUNNING: |          | 216/? [elapsed: 03:56 remaining: 00:00]"
          ]
        },
        {
          "output_type": "stream",
          "name": "stdout",
          "text": [
            "2025-08-17 13:41:21,252 Sleeping for 10s. Reason: RUNNING\n"
          ]
        },
        {
          "output_type": "stream",
          "name": "stderr",
          "text": [
            "RUNNING: |          | 226/? [elapsed: 04:07 remaining: 00:00]"
          ]
        },
        {
          "output_type": "stream",
          "name": "stdout",
          "text": [
            "2025-08-17 13:41:31,940 Sleeping for 7s. Reason: RUNNING\n"
          ]
        },
        {
          "output_type": "stream",
          "name": "stderr",
          "text": [
            "RUNNING: |          | 233/? [elapsed: 04:15 remaining: 00:00]"
          ]
        },
        {
          "output_type": "stream",
          "name": "stdout",
          "text": [
            "2025-08-17 13:41:39,637 Sleeping for 7s. Reason: RUNNING\n"
          ]
        },
        {
          "output_type": "stream",
          "name": "stderr",
          "text": [
            "RUNNING: |          | 240/? [elapsed: 04:22 remaining: 00:00]"
          ]
        },
        {
          "output_type": "stream",
          "name": "stdout",
          "text": [
            "2025-08-17 13:41:47,360 Sleeping for 6s. Reason: RUNNING\n"
          ]
        },
        {
          "output_type": "stream",
          "name": "stderr",
          "text": [
            "RUNNING: |          | 246/? [elapsed: 04:29 remaining: 00:00]"
          ]
        },
        {
          "output_type": "stream",
          "name": "stdout",
          "text": [
            "2025-08-17 13:41:54,057 Sleeping for 5s. Reason: RUNNING\n"
          ]
        },
        {
          "output_type": "stream",
          "name": "stderr",
          "text": [
            "RUNNING: |          | 251/? [elapsed: 04:35 remaining: 00:00]"
          ]
        },
        {
          "output_type": "stream",
          "name": "stdout",
          "text": [
            "2025-08-17 13:41:59,769 Sleeping for 7s. Reason: RUNNING\n"
          ]
        },
        {
          "output_type": "stream",
          "name": "stderr",
          "text": [
            "RUNNING: |          | 258/? [elapsed: 04:42 remaining: 00:00]"
          ]
        },
        {
          "output_type": "stream",
          "name": "stdout",
          "text": [
            "2025-08-17 13:42:07,486 Sleeping for 5s. Reason: RUNNING\n"
          ]
        },
        {
          "output_type": "stream",
          "name": "stderr",
          "text": [
            "RUNNING: |          | 263/? [elapsed: 04:48 remaining: 00:00]"
          ]
        },
        {
          "output_type": "stream",
          "name": "stdout",
          "text": [
            "2025-08-17 13:42:13,198 Sleeping for 5s. Reason: RUNNING\n"
          ]
        },
        {
          "output_type": "stream",
          "name": "stderr",
          "text": [
            "RUNNING: |          | 268/? [elapsed: 04:54 remaining: 00:00]"
          ]
        },
        {
          "output_type": "stream",
          "name": "stdout",
          "text": [
            "2025-08-17 13:42:18,898 Sleeping for 6s. Reason: RUNNING\n"
          ]
        },
        {
          "output_type": "stream",
          "name": "stderr",
          "text": [
            "RUNNING: |          | 274/? [elapsed: 05:00 remaining: 00:00]"
          ]
        },
        {
          "output_type": "stream",
          "name": "stdout",
          "text": [
            "2025-08-17 13:42:25,602 Sleeping for 7s. Reason: RUNNING\n"
          ]
        },
        {
          "output_type": "stream",
          "name": "stderr",
          "text": [
            "RUNNING: |          | 281/? [elapsed: 05:08 remaining: 00:00]"
          ]
        },
        {
          "output_type": "stream",
          "name": "stdout",
          "text": [
            "2025-08-17 13:42:33,286 Sleeping for 9s. Reason: RUNNING\n"
          ]
        },
        {
          "output_type": "stream",
          "name": "stderr",
          "text": [
            "RUNNING: |          | 290/? [elapsed: 05:18 remaining: 00:00]"
          ]
        },
        {
          "output_type": "stream",
          "name": "stdout",
          "text": [
            "2025-08-17 13:42:42,988 Sleeping for 9s. Reason: RUNNING\n"
          ]
        },
        {
          "output_type": "stream",
          "name": "stderr",
          "text": [
            "RUNNING: |          | 299/? [elapsed: 05:28 remaining: 00:00]"
          ]
        },
        {
          "output_type": "stream",
          "name": "stdout",
          "text": [
            "2025-08-17 13:42:52,681 Sleeping for 7s. Reason: RUNNING\n"
          ]
        },
        {
          "output_type": "stream",
          "name": "stderr",
          "text": [
            "RUNNING: |          | 306/? [elapsed: 05:35 remaining: 00:00]"
          ]
        },
        {
          "output_type": "stream",
          "name": "stdout",
          "text": [
            "2025-08-17 13:43:00,388 Sleeping for 5s. Reason: RUNNING\n"
          ]
        },
        {
          "output_type": "stream",
          "name": "stderr",
          "text": [
            "RUNNING: |          | 311/? [elapsed: 05:41 remaining: 00:00]"
          ]
        },
        {
          "output_type": "stream",
          "name": "stdout",
          "text": [
            "2025-08-17 13:43:06,070 Sleeping for 8s. Reason: RUNNING\n"
          ]
        },
        {
          "output_type": "stream",
          "name": "stderr",
          "text": [
            "RUNNING: |          | 319/? [elapsed: 05:50 remaining: 00:00]"
          ]
        },
        {
          "output_type": "stream",
          "name": "stdout",
          "text": [
            "2025-08-17 13:43:14,765 Sleeping for 9s. Reason: RUNNING\n"
          ]
        },
        {
          "output_type": "stream",
          "name": "stderr",
          "text": [
            "RUNNING: |          | 328/? [elapsed: 05:59 remaining: 00:00]"
          ]
        },
        {
          "output_type": "stream",
          "name": "stdout",
          "text": [
            "2025-08-17 13:43:24,461 Sleeping for 7s. Reason: RUNNING\n"
          ]
        },
        {
          "output_type": "stream",
          "name": "stderr",
          "text": [
            "RUNNING: |          | 335/? [elapsed: 06:07 remaining: 00:00]"
          ]
        },
        {
          "output_type": "stream",
          "name": "stdout",
          "text": [
            "2025-08-17 13:43:32,331 Sleeping for 6s. Reason: RUNNING\n"
          ]
        },
        {
          "output_type": "stream",
          "name": "stderr",
          "text": [
            "RUNNING: |          | 341/? [elapsed: 06:14 remaining: 00:00]"
          ]
        },
        {
          "output_type": "stream",
          "name": "stdout",
          "text": [
            "2025-08-17 13:43:39,029 Sleeping for 5s. Reason: RUNNING\n"
          ]
        },
        {
          "output_type": "stream",
          "name": "stderr",
          "text": [
            "RUNNING: |          | 346/? [elapsed: 06:20 remaining: 00:00]"
          ]
        },
        {
          "output_type": "stream",
          "name": "stdout",
          "text": [
            "2025-08-17 13:43:44,728 Sleeping for 6s. Reason: RUNNING\n"
          ]
        },
        {
          "output_type": "stream",
          "name": "stderr",
          "text": [
            "RUNNING: |          | 352/? [elapsed: 06:26 remaining: 00:00]"
          ]
        },
        {
          "output_type": "stream",
          "name": "stdout",
          "text": [
            "2025-08-17 13:43:51,426 Sleeping for 7s. Reason: RUNNING\n"
          ]
        },
        {
          "output_type": "stream",
          "name": "stderr",
          "text": [
            "RUNNING: |          | 359/? [elapsed: 06:34 remaining: 00:00]"
          ]
        },
        {
          "output_type": "stream",
          "name": "stdout",
          "text": [
            "2025-08-17 13:43:59,121 Sleeping for 9s. Reason: RUNNING\n"
          ]
        },
        {
          "output_type": "stream",
          "name": "stderr",
          "text": [
            "COMPLETE: |          | 359/? [elapsed: 06:51 remaining: 00:00]\n"
          ]
        },
        {
          "output_type": "stream",
          "name": "stdout",
          "text": [
            "2025-08-17 13:44:36,620 Sequence 0 found templates: ['4rdt_B', '4rdt_A', '4rdr_A', '4rvw_A', '1fep_A', '2hdi_A', '1nqe_A', '3m8b_A', '3rgn_A', '2hdf_A', '2gsk_A', '1ujw_A', '1nqg_A', '3rgm_A', '1nqf_A', '1nqh_A', '2guf_A', '3m8d_A', '3fhh_A', '6v81_A']\n",
            "2025-08-17 13:44:58,247 Padding length to 701\n",
            "2025-08-17 13:48:11,969 alphafold2_ptm_model_1_seed_000 recycle=0 pLDDT=87.9 pTM=0.862\n",
            "2025-08-17 13:50:54,134 alphafold2_ptm_model_1_seed_000 recycle=1 pLDDT=87.1 pTM=0.86 tol=2.57\n",
            "2025-08-17 13:53:01,790 alphafold2_ptm_model_1_seed_000 recycle=2 pLDDT=87.2 pTM=0.864 tol=1.26\n",
            "2025-08-17 13:55:06,812 alphafold2_ptm_model_1_seed_000 recycle=3 pLDDT=87.1 pTM=0.865 tol=1.07\n",
            "2025-08-17 13:55:06,816 alphafold2_ptm_model_1_seed_000 took 608.6s (3 recycles)\n",
            "2025-08-17 13:57:13,516 alphafold2_ptm_model_2_seed_000 recycle=0 pLDDT=88.1 pTM=0.867\n",
            "2025-08-17 13:59:18,165 alphafold2_ptm_model_2_seed_000 recycle=1 pLDDT=87.6 pTM=0.871 tol=2.65\n",
            "2025-08-17 14:01:23,332 alphafold2_ptm_model_2_seed_000 recycle=2 pLDDT=87.6 pTM=0.871 tol=0.579\n",
            "2025-08-17 14:03:28,598 alphafold2_ptm_model_2_seed_000 recycle=3 pLDDT=87.8 pTM=0.871 tol=0.54\n",
            "2025-08-17 14:03:28,603 alphafold2_ptm_model_2_seed_000 took 499.2s (3 recycles)\n",
            "2025-08-17 14:05:54,123 alphafold2_ptm_model_3_seed_000 recycle=0 pLDDT=89 pTM=0.874\n",
            "2025-08-17 14:08:15,181 alphafold2_ptm_model_3_seed_000 recycle=1 pLDDT=89.4 pTM=0.881 tol=3.27\n",
            "2025-08-17 14:10:14,041 alphafold2_ptm_model_3_seed_000 recycle=2 pLDDT=89.2 pTM=0.878 tol=0.87\n",
            "2025-08-17 14:12:12,580 alphafold2_ptm_model_3_seed_000 recycle=3 pLDDT=89.2 pTM=0.879 tol=1.58\n",
            "2025-08-17 14:12:12,581 alphafold2_ptm_model_3_seed_000 took 522.1s (3 recycles)\n",
            "2025-08-17 14:12:13,016 reranking models by 'plddt' metric\n",
            "2025-08-17 14:12:13,017 rank_001_alphafold2_ptm_model_3_seed_000 pLDDT=89.2 pTM=0.879\n",
            "2025-08-17 14:12:13,021 rank_002_alphafold2_ptm_model_2_seed_000 pLDDT=87.8 pTM=0.871\n",
            "2025-08-17 14:12:13,024 rank_003_alphafold2_ptm_model_1_seed_000 pLDDT=87.1 pTM=0.865\n",
            "2025-08-17 14:12:14,685 Query 6/9: receptors_WP_191105149.1 (length 702)\n"
          ]
        },
        {
          "output_type": "stream",
          "name": "stderr",
          "text": [
            "PENDING:   0%|          | 0/150 [elapsed: 00:00 remaining: ?]"
          ]
        },
        {
          "output_type": "stream",
          "name": "stdout",
          "text": [
            "2025-08-17 14:12:15,404 Sleeping for 9s. Reason: PENDING\n"
          ]
        },
        {
          "output_type": "stream",
          "name": "stderr",
          "text": [
            "RUNNING:   6%|▌         | 9/150 [elapsed: 00:10 remaining: 02:43]"
          ]
        },
        {
          "output_type": "stream",
          "name": "stdout",
          "text": [
            "2025-08-17 14:12:25,107 Sleeping for 8s. Reason: RUNNING\n"
          ]
        },
        {
          "output_type": "stream",
          "name": "stderr",
          "text": [
            "RUNNING:  11%|█▏        | 17/150 [elapsed: 00:19 remaining: 02:28]"
          ]
        },
        {
          "output_type": "stream",
          "name": "stdout",
          "text": [
            "2025-08-17 14:12:33,818 Sleeping for 10s. Reason: RUNNING\n"
          ]
        },
        {
          "output_type": "stream",
          "name": "stderr",
          "text": [
            "RUNNING:  18%|█▊        | 27/150 [elapsed: 00:29 remaining: 02:14]"
          ]
        },
        {
          "output_type": "stream",
          "name": "stdout",
          "text": [
            "2025-08-17 14:12:44,514 Sleeping for 10s. Reason: RUNNING\n"
          ]
        },
        {
          "output_type": "stream",
          "name": "stderr",
          "text": [
            "RUNNING:  25%|██▍       | 37/150 [elapsed: 00:40 remaining: 02:02]"
          ]
        },
        {
          "output_type": "stream",
          "name": "stdout",
          "text": [
            "2025-08-17 14:12:55,206 Sleeping for 9s. Reason: RUNNING\n"
          ]
        },
        {
          "output_type": "stream",
          "name": "stderr",
          "text": [
            "RUNNING:  31%|███       | 46/150 [elapsed: 00:50 remaining: 01:52]"
          ]
        },
        {
          "output_type": "stream",
          "name": "stdout",
          "text": [
            "2025-08-17 14:13:04,951 Sleeping for 5s. Reason: RUNNING\n"
          ]
        },
        {
          "output_type": "stream",
          "name": "stderr",
          "text": [
            "RUNNING:  34%|███▍      | 51/150 [elapsed: 00:55 remaining: 01:48]"
          ]
        },
        {
          "output_type": "stream",
          "name": "stdout",
          "text": [
            "2025-08-17 14:13:10,647 Sleeping for 5s. Reason: RUNNING\n"
          ]
        },
        {
          "output_type": "stream",
          "name": "stderr",
          "text": [
            "RUNNING:  37%|███▋      | 56/150 [elapsed: 01:01 remaining: 01:44]"
          ]
        },
        {
          "output_type": "stream",
          "name": "stdout",
          "text": [
            "2025-08-17 14:13:16,355 Sleeping for 9s. Reason: RUNNING\n"
          ]
        },
        {
          "output_type": "stream",
          "name": "stderr",
          "text": [
            "RUNNING:  43%|████▎     | 65/150 [elapsed: 01:11 remaining: 01:33]"
          ]
        },
        {
          "output_type": "stream",
          "name": "stdout",
          "text": [
            "2025-08-17 14:13:26,054 Sleeping for 8s. Reason: RUNNING\n"
          ]
        },
        {
          "output_type": "stream",
          "name": "stderr",
          "text": [
            "RUNNING:  49%|████▊     | 73/150 [elapsed: 01:20 remaining: 01:24]"
          ]
        },
        {
          "output_type": "stream",
          "name": "stdout",
          "text": [
            "2025-08-17 14:13:34,748 Sleeping for 7s. Reason: RUNNING\n"
          ]
        },
        {
          "output_type": "stream",
          "name": "stderr",
          "text": [
            "RUNNING:  53%|█████▎    | 80/150 [elapsed: 01:27 remaining: 01:16]"
          ]
        },
        {
          "output_type": "stream",
          "name": "stdout",
          "text": [
            "2025-08-17 14:13:42,436 Sleeping for 8s. Reason: RUNNING\n"
          ]
        },
        {
          "output_type": "stream",
          "name": "stderr",
          "text": [
            "RUNNING:  59%|█████▊    | 88/150 [elapsed: 01:36 remaining: 01:07]"
          ]
        },
        {
          "output_type": "stream",
          "name": "stdout",
          "text": [
            "2025-08-17 14:13:51,132 Sleeping for 5s. Reason: RUNNING\n"
          ]
        },
        {
          "output_type": "stream",
          "name": "stderr",
          "text": [
            "RUNNING:  62%|██████▏   | 93/150 [elapsed: 01:42 remaining: 01:02]"
          ]
        },
        {
          "output_type": "stream",
          "name": "stdout",
          "text": [
            "2025-08-17 14:13:56,830 Sleeping for 10s. Reason: RUNNING\n"
          ]
        },
        {
          "output_type": "stream",
          "name": "stderr",
          "text": [
            "RUNNING:  69%|██████▊   | 103/150 [elapsed: 01:52 remaining: 00:51]"
          ]
        },
        {
          "output_type": "stream",
          "name": "stdout",
          "text": [
            "2025-08-17 14:14:07,510 Sleeping for 10s. Reason: RUNNING\n"
          ]
        },
        {
          "output_type": "stream",
          "name": "stderr",
          "text": [
            "RUNNING:  75%|███████▌  | 113/150 [elapsed: 02:03 remaining: 00:40]"
          ]
        },
        {
          "output_type": "stream",
          "name": "stdout",
          "text": [
            "2025-08-17 14:14:18,203 Sleeping for 5s. Reason: RUNNING\n"
          ]
        },
        {
          "output_type": "stream",
          "name": "stderr",
          "text": [
            "RUNNING:  79%|███████▊  | 118/150 [elapsed: 02:09 remaining: 00:34]"
          ]
        },
        {
          "output_type": "stream",
          "name": "stdout",
          "text": [
            "2025-08-17 14:14:23,896 Sleeping for 5s. Reason: RUNNING\n"
          ]
        },
        {
          "output_type": "stream",
          "name": "stderr",
          "text": [
            "RUNNING:  82%|████████▏ | 123/150 [elapsed: 02:14 remaining: 00:29]"
          ]
        },
        {
          "output_type": "stream",
          "name": "stdout",
          "text": [
            "2025-08-17 14:14:29,589 Sleeping for 8s. Reason: RUNNING\n"
          ]
        },
        {
          "output_type": "stream",
          "name": "stderr",
          "text": [
            "RUNNING:  87%|████████▋ | 131/150 [elapsed: 02:23 remaining: 00:20]"
          ]
        },
        {
          "output_type": "stream",
          "name": "stdout",
          "text": [
            "2025-08-17 14:14:38,287 Sleeping for 6s. Reason: RUNNING\n"
          ]
        },
        {
          "output_type": "stream",
          "name": "stderr",
          "text": [
            "RUNNING:  91%|█████████▏| 137/150 [elapsed: 02:30 remaining: 00:14]"
          ]
        },
        {
          "output_type": "stream",
          "name": "stdout",
          "text": [
            "2025-08-17 14:14:44,973 Sleeping for 8s. Reason: RUNNING\n"
          ]
        },
        {
          "output_type": "stream",
          "name": "stderr",
          "text": [
            "RUNNING:  97%|█████████▋| 145/150 [elapsed: 02:38 remaining: 00:05]"
          ]
        },
        {
          "output_type": "stream",
          "name": "stdout",
          "text": [
            "2025-08-17 14:14:53,679 Sleeping for 5s. Reason: RUNNING\n"
          ]
        },
        {
          "output_type": "stream",
          "name": "stderr",
          "text": [
            "RUNNING: 100%|██████████| 150/150 [elapsed: 02:44 remaining: 00:00]"
          ]
        },
        {
          "output_type": "stream",
          "name": "stdout",
          "text": [
            "2025-08-17 14:14:59,399 Sleeping for 7s. Reason: RUNNING\n"
          ]
        },
        {
          "output_type": "stream",
          "name": "stderr",
          "text": [
            "RUNNING: |          | 157/? [elapsed: 02:52 remaining: 00:00]"
          ]
        },
        {
          "output_type": "stream",
          "name": "stdout",
          "text": [
            "2025-08-17 14:15:07,098 Sleeping for 5s. Reason: RUNNING\n"
          ]
        },
        {
          "output_type": "stream",
          "name": "stderr",
          "text": [
            "RUNNING: |          | 162/? [elapsed: 02:58 remaining: 00:00]"
          ]
        },
        {
          "output_type": "stream",
          "name": "stdout",
          "text": [
            "2025-08-17 14:15:12,800 Sleeping for 5s. Reason: RUNNING\n"
          ]
        },
        {
          "output_type": "stream",
          "name": "stderr",
          "text": [
            "RUNNING: |          | 167/? [elapsed: 03:03 remaining: 00:00]"
          ]
        },
        {
          "output_type": "stream",
          "name": "stdout",
          "text": [
            "2025-08-17 14:15:18,497 Sleeping for 10s. Reason: RUNNING\n"
          ]
        },
        {
          "output_type": "stream",
          "name": "stderr",
          "text": [
            "RUNNING: |          | 177/? [elapsed: 03:14 remaining: 00:00]"
          ]
        },
        {
          "output_type": "stream",
          "name": "stdout",
          "text": [
            "2025-08-17 14:15:29,194 Sleeping for 8s. Reason: RUNNING\n"
          ]
        },
        {
          "output_type": "stream",
          "name": "stderr",
          "text": [
            "RUNNING: |          | 185/? [elapsed: 03:23 remaining: 00:00]"
          ]
        },
        {
          "output_type": "stream",
          "name": "stdout",
          "text": [
            "2025-08-17 14:15:37,889 Sleeping for 8s. Reason: RUNNING\n"
          ]
        },
        {
          "output_type": "stream",
          "name": "stderr",
          "text": [
            "RUNNING: |          | 193/? [elapsed: 03:31 remaining: 00:00]"
          ]
        },
        {
          "output_type": "stream",
          "name": "stdout",
          "text": [
            "2025-08-17 14:15:46,579 Sleeping for 6s. Reason: RUNNING\n"
          ]
        },
        {
          "output_type": "stream",
          "name": "stderr",
          "text": [
            "RUNNING: |          | 199/? [elapsed: 03:38 remaining: 00:00]"
          ]
        },
        {
          "output_type": "stream",
          "name": "stdout",
          "text": [
            "2025-08-17 14:15:53,286 Sleeping for 9s. Reason: RUNNING\n"
          ]
        },
        {
          "output_type": "stream",
          "name": "stderr",
          "text": [
            "RUNNING: |          | 208/? [elapsed: 03:48 remaining: 00:00]"
          ]
        },
        {
          "output_type": "stream",
          "name": "stdout",
          "text": [
            "2025-08-17 14:16:02,970 Sleeping for 9s. Reason: RUNNING\n"
          ]
        },
        {
          "output_type": "stream",
          "name": "stderr",
          "text": [
            "RUNNING: |          | 217/? [elapsed: 03:58 remaining: 00:00]"
          ]
        },
        {
          "output_type": "stream",
          "name": "stdout",
          "text": [
            "2025-08-17 14:16:12,707 Sleeping for 6s. Reason: RUNNING\n"
          ]
        },
        {
          "output_type": "stream",
          "name": "stderr",
          "text": [
            "RUNNING: |          | 223/? [elapsed: 04:04 remaining: 00:00]"
          ]
        },
        {
          "output_type": "stream",
          "name": "stdout",
          "text": [
            "2025-08-17 14:16:19,405 Sleeping for 10s. Reason: RUNNING\n"
          ]
        },
        {
          "output_type": "stream",
          "name": "stderr",
          "text": [
            "RUNNING: |          | 233/? [elapsed: 04:15 remaining: 00:00]"
          ]
        },
        {
          "output_type": "stream",
          "name": "stdout",
          "text": [
            "2025-08-17 14:16:30,093 Sleeping for 6s. Reason: RUNNING\n"
          ]
        },
        {
          "output_type": "stream",
          "name": "stderr",
          "text": [
            "RUNNING: |          | 239/? [elapsed: 04:22 remaining: 00:00]"
          ]
        },
        {
          "output_type": "stream",
          "name": "stdout",
          "text": [
            "2025-08-17 14:16:36,781 Sleeping for 7s. Reason: RUNNING\n"
          ]
        },
        {
          "output_type": "stream",
          "name": "stderr",
          "text": [
            "RUNNING: |          | 246/? [elapsed: 04:29 remaining: 00:00]"
          ]
        },
        {
          "output_type": "stream",
          "name": "stdout",
          "text": [
            "2025-08-17 14:16:44,491 Sleeping for 10s. Reason: RUNNING\n"
          ]
        },
        {
          "output_type": "stream",
          "name": "stderr",
          "text": [
            "RUNNING: |          | 256/? [elapsed: 04:40 remaining: 00:00]"
          ]
        },
        {
          "output_type": "stream",
          "name": "stdout",
          "text": [
            "2025-08-17 14:16:55,195 Sleeping for 10s. Reason: RUNNING\n"
          ]
        },
        {
          "output_type": "stream",
          "name": "stderr",
          "text": [
            "RUNNING: |          | 266/? [elapsed: 04:51 remaining: 00:00]"
          ]
        },
        {
          "output_type": "stream",
          "name": "stdout",
          "text": [
            "2025-08-17 14:17:05,895 Sleeping for 5s. Reason: RUNNING\n"
          ]
        },
        {
          "output_type": "stream",
          "name": "stderr",
          "text": [
            "RUNNING: |          | 271/? [elapsed: 04:56 remaining: 00:00]"
          ]
        },
        {
          "output_type": "stream",
          "name": "stdout",
          "text": [
            "2025-08-17 14:17:11,586 Sleeping for 8s. Reason: RUNNING\n"
          ]
        },
        {
          "output_type": "stream",
          "name": "stderr",
          "text": [
            "RUNNING: |          | 279/? [elapsed: 05:05 remaining: 00:00]"
          ]
        },
        {
          "output_type": "stream",
          "name": "stdout",
          "text": [
            "2025-08-17 14:17:20,280 Sleeping for 9s. Reason: RUNNING\n"
          ]
        },
        {
          "output_type": "stream",
          "name": "stderr",
          "text": [
            "RUNNING: |          | 288/? [elapsed: 05:15 remaining: 00:00]"
          ]
        },
        {
          "output_type": "stream",
          "name": "stdout",
          "text": [
            "2025-08-17 14:17:29,990 Sleeping for 9s. Reason: RUNNING\n"
          ]
        },
        {
          "output_type": "stream",
          "name": "stderr",
          "text": [
            "RUNNING: |          | 297/? [elapsed: 05:24 remaining: 00:00]"
          ]
        },
        {
          "output_type": "stream",
          "name": "stdout",
          "text": [
            "2025-08-17 14:17:39,686 Sleeping for 8s. Reason: RUNNING\n"
          ]
        },
        {
          "output_type": "stream",
          "name": "stderr",
          "text": [
            "RUNNING: |          | 305/? [elapsed: 05:33 remaining: 00:00]"
          ]
        },
        {
          "output_type": "stream",
          "name": "stdout",
          "text": [
            "2025-08-17 14:17:48,382 Sleeping for 10s. Reason: RUNNING\n"
          ]
        },
        {
          "output_type": "stream",
          "name": "stderr",
          "text": [
            "COMPLETE: |          | 305/? [elapsed: 05:47 remaining: 00:00]\n"
          ]
        },
        {
          "output_type": "stream",
          "name": "stdout",
          "text": [
            "2025-08-17 14:18:29,985 Sequence 0 found templates: ['6i97_A', '6i97_B', '6i98_A', '3qlb_A', '3qlb_B', '1by3_A', '8b14_A', '1fcp_A', '1qff_A', '4cu4_A', '8a60_A', '2grx_B', '6bpo_D', '1xkw_A', '5fp1_A', '5fok_B', '5fok_A', '5odw_B', '1xkh_A', '2w75_B']\n",
            "2025-08-17 14:18:47,773 Padding length to 712\n",
            "2025-08-17 14:21:42,397 alphafold2_ptm_model_1_seed_000 recycle=0 pLDDT=90 pTM=0.88\n",
            "2025-08-17 14:24:08,873 alphafold2_ptm_model_1_seed_000 recycle=1 pLDDT=91.3 pTM=0.888 tol=1.29\n",
            "2025-08-17 14:26:10,349 alphafold2_ptm_model_1_seed_000 recycle=2 pLDDT=91.6 pTM=0.889 tol=1.53\n",
            "2025-08-17 14:28:10,945 alphafold2_ptm_model_1_seed_000 recycle=3 pLDDT=91.8 pTM=0.889 tol=2.13\n",
            "2025-08-17 14:28:10,947 alphafold2_ptm_model_1_seed_000 took 563.2s (3 recycles)\n",
            "2025-08-17 14:30:14,332 alphafold2_ptm_model_2_seed_000 recycle=0 pLDDT=90 pTM=0.884\n",
            "2025-08-17 14:32:14,967 alphafold2_ptm_model_2_seed_000 recycle=1 pLDDT=91.3 pTM=0.891 tol=1.34\n",
            "2025-08-17 14:34:16,453 alphafold2_ptm_model_2_seed_000 recycle=2 pLDDT=91.5 pTM=0.891 tol=0.289\n",
            "2025-08-17 14:36:18,441 alphafold2_ptm_model_2_seed_000 recycle=3 pLDDT=91.7 pTM=0.89 tol=0.282\n",
            "2025-08-17 14:36:18,443 alphafold2_ptm_model_2_seed_000 took 485.0s (3 recycles)\n",
            "2025-08-17 14:38:34,026 alphafold2_ptm_model_3_seed_000 recycle=0 pLDDT=90.6 pTM=0.879\n",
            "2025-08-17 14:40:48,227 alphafold2_ptm_model_3_seed_000 recycle=1 pLDDT=91.3 pTM=0.888 tol=2.74\n",
            "2025-08-17 14:42:43,346 alphafold2_ptm_model_3_seed_000 recycle=2 pLDDT=91.4 pTM=0.89 tol=2.03\n",
            "2025-08-17 14:44:38,998 alphafold2_ptm_model_3_seed_000 recycle=3 pLDDT=91.6 pTM=0.891 tol=0.912\n",
            "2025-08-17 14:44:39,003 alphafold2_ptm_model_3_seed_000 took 499.6s (3 recycles)\n",
            "2025-08-17 14:44:40,966 reranking models by 'plddt' metric\n",
            "2025-08-17 14:44:40,967 rank_001_alphafold2_ptm_model_1_seed_000 pLDDT=91.8 pTM=0.889\n",
            "2025-08-17 14:44:40,970 rank_002_alphafold2_ptm_model_2_seed_000 pLDDT=91.7 pTM=0.89\n",
            "2025-08-17 14:44:40,973 rank_003_alphafold2_ptm_model_3_seed_000 pLDDT=91.6 pTM=0.891\n",
            "2025-08-17 14:44:42,601 Query 7/9: tonb_dependent_WP_015463573.1 (length 760)\n"
          ]
        },
        {
          "output_type": "stream",
          "name": "stderr",
          "text": [
            "PENDING:   0%|          | 0/150 [elapsed: 00:00 remaining: ?]"
          ]
        },
        {
          "output_type": "stream",
          "name": "stdout",
          "text": [
            "2025-08-17 14:44:43,311 Sleeping for 7s. Reason: PENDING\n"
          ]
        },
        {
          "output_type": "stream",
          "name": "stderr",
          "text": [
            "RUNNING:   5%|▍         | 7/150 [elapsed: 00:08 remaining: 02:51]"
          ]
        },
        {
          "output_type": "stream",
          "name": "stdout",
          "text": [
            "2025-08-17 14:44:51,019 Sleeping for 9s. Reason: RUNNING\n"
          ]
        },
        {
          "output_type": "stream",
          "name": "stderr",
          "text": [
            "RUNNING:  11%|█         | 16/150 [elapsed: 00:18 remaining: 02:30]"
          ]
        },
        {
          "output_type": "stream",
          "name": "stdout",
          "text": [
            "2025-08-17 14:45:00,731 Sleeping for 10s. Reason: RUNNING\n"
          ]
        },
        {
          "output_type": "stream",
          "name": "stderr",
          "text": [
            "RUNNING:  17%|█▋        | 26/150 [elapsed: 00:28 remaining: 02:15]"
          ]
        },
        {
          "output_type": "stream",
          "name": "stdout",
          "text": [
            "2025-08-17 14:45:11,428 Sleeping for 9s. Reason: RUNNING\n"
          ]
        },
        {
          "output_type": "stream",
          "name": "stderr",
          "text": [
            "RUNNING:  23%|██▎       | 35/150 [elapsed: 00:38 remaining: 02:05]"
          ]
        },
        {
          "output_type": "stream",
          "name": "stdout",
          "text": [
            "2025-08-17 14:45:21,132 Sleeping for 5s. Reason: RUNNING\n"
          ]
        },
        {
          "output_type": "stream",
          "name": "stderr",
          "text": [
            "RUNNING:  27%|██▋       | 40/150 [elapsed: 00:44 remaining: 02:01]"
          ]
        },
        {
          "output_type": "stream",
          "name": "stdout",
          "text": [
            "2025-08-17 14:45:26,828 Sleeping for 9s. Reason: RUNNING\n"
          ]
        },
        {
          "output_type": "stream",
          "name": "stderr",
          "text": [
            "RUNNING:  33%|███▎      | 49/150 [elapsed: 00:53 remaining: 01:50]"
          ]
        },
        {
          "output_type": "stream",
          "name": "stdout",
          "text": [
            "2025-08-17 14:45:36,530 Sleeping for 9s. Reason: RUNNING\n"
          ]
        },
        {
          "output_type": "stream",
          "name": "stderr",
          "text": [
            "RUNNING:  39%|███▊      | 58/150 [elapsed: 01:03 remaining: 01:40]"
          ]
        },
        {
          "output_type": "stream",
          "name": "stdout",
          "text": [
            "2025-08-17 14:45:46,228 Sleeping for 10s. Reason: RUNNING\n"
          ]
        },
        {
          "output_type": "stream",
          "name": "stderr",
          "text": [
            "RUNNING:  45%|████▌     | 68/150 [elapsed: 01:14 remaining: 01:28]"
          ]
        },
        {
          "output_type": "stream",
          "name": "stdout",
          "text": [
            "2025-08-17 14:45:56,923 Sleeping for 5s. Reason: RUNNING\n"
          ]
        },
        {
          "output_type": "stream",
          "name": "stderr",
          "text": [
            "RUNNING:  49%|████▊     | 73/150 [elapsed: 01:20 remaining: 01:24]"
          ]
        },
        {
          "output_type": "stream",
          "name": "stdout",
          "text": [
            "2025-08-17 14:46:02,627 Sleeping for 9s. Reason: RUNNING\n"
          ]
        },
        {
          "output_type": "stream",
          "name": "stderr",
          "text": [
            "RUNNING:  55%|█████▍    | 82/150 [elapsed: 01:29 remaining: 01:13]"
          ]
        },
        {
          "output_type": "stream",
          "name": "stdout",
          "text": [
            "2025-08-17 14:46:12,317 Sleeping for 9s. Reason: RUNNING\n"
          ]
        },
        {
          "output_type": "stream",
          "name": "stderr",
          "text": [
            "RUNNING:  61%|██████    | 91/150 [elapsed: 01:39 remaining: 01:03]"
          ]
        },
        {
          "output_type": "stream",
          "name": "stdout",
          "text": [
            "2025-08-17 14:46:22,024 Sleeping for 5s. Reason: RUNNING\n"
          ]
        },
        {
          "output_type": "stream",
          "name": "stderr",
          "text": [
            "RUNNING:  64%|██████▍   | 96/150 [elapsed: 01:45 remaining: 00:59]"
          ]
        },
        {
          "output_type": "stream",
          "name": "stdout",
          "text": [
            "2025-08-17 14:46:27,737 Sleeping for 10s. Reason: RUNNING\n"
          ]
        },
        {
          "output_type": "stream",
          "name": "stderr",
          "text": [
            "RUNNING:  71%|███████   | 106/150 [elapsed: 01:55 remaining: 00:47]"
          ]
        },
        {
          "output_type": "stream",
          "name": "stdout",
          "text": [
            "2025-08-17 14:46:38,448 Sleeping for 10s. Reason: RUNNING\n"
          ]
        },
        {
          "output_type": "stream",
          "name": "stderr",
          "text": [
            "RUNNING:  77%|███████▋  | 116/150 [elapsed: 02:06 remaining: 00:36]"
          ]
        },
        {
          "output_type": "stream",
          "name": "stdout",
          "text": [
            "2025-08-17 14:46:49,150 Sleeping for 9s. Reason: RUNNING\n"
          ]
        },
        {
          "output_type": "stream",
          "name": "stderr",
          "text": [
            "RUNNING:  83%|████████▎ | 125/150 [elapsed: 02:16 remaining: 00:27]"
          ]
        },
        {
          "output_type": "stream",
          "name": "stdout",
          "text": [
            "2025-08-17 14:46:58,870 Sleeping for 5s. Reason: RUNNING\n"
          ]
        },
        {
          "output_type": "stream",
          "name": "stderr",
          "text": [
            "RUNNING:  87%|████████▋ | 130/150 [elapsed: 02:21 remaining: 00:21]"
          ]
        },
        {
          "output_type": "stream",
          "name": "stdout",
          "text": [
            "2025-08-17 14:47:04,561 Sleeping for 9s. Reason: RUNNING\n"
          ]
        },
        {
          "output_type": "stream",
          "name": "stderr",
          "text": [
            "RUNNING:  93%|█████████▎| 139/150 [elapsed: 02:31 remaining: 00:11]"
          ]
        },
        {
          "output_type": "stream",
          "name": "stdout",
          "text": [
            "2025-08-17 14:47:14,261 Sleeping for 9s. Reason: RUNNING\n"
          ]
        },
        {
          "output_type": "stream",
          "name": "stderr",
          "text": [
            "RUNNING:  99%|█████████▊| 148/150 [elapsed: 02:41 remaining: 00:02]"
          ]
        },
        {
          "output_type": "stream",
          "name": "stdout",
          "text": [
            "2025-08-17 14:47:23,959 Sleeping for 7s. Reason: RUNNING\n"
          ]
        },
        {
          "output_type": "stream",
          "name": "stderr",
          "text": [
            "RUNNING: |          | 155/? [elapsed: 02:49 remaining: 00:00]"
          ]
        },
        {
          "output_type": "stream",
          "name": "stdout",
          "text": [
            "2025-08-17 14:47:31,650 Sleeping for 7s. Reason: RUNNING\n"
          ]
        },
        {
          "output_type": "stream",
          "name": "stderr",
          "text": [
            "RUNNING: |          | 162/? [elapsed: 02:56 remaining: 00:00]"
          ]
        },
        {
          "output_type": "stream",
          "name": "stdout",
          "text": [
            "2025-08-17 14:47:39,337 Sleeping for 7s. Reason: RUNNING\n"
          ]
        },
        {
          "output_type": "stream",
          "name": "stderr",
          "text": [
            "RUNNING: |          | 169/? [elapsed: 03:04 remaining: 00:00]"
          ]
        },
        {
          "output_type": "stream",
          "name": "stdout",
          "text": [
            "2025-08-17 14:47:47,039 Sleeping for 6s. Reason: RUNNING\n"
          ]
        },
        {
          "output_type": "stream",
          "name": "stderr",
          "text": [
            "RUNNING: |          | 175/? [elapsed: 03:11 remaining: 00:00]"
          ]
        },
        {
          "output_type": "stream",
          "name": "stdout",
          "text": [
            "2025-08-17 14:47:53,741 Sleeping for 8s. Reason: RUNNING\n"
          ]
        },
        {
          "output_type": "stream",
          "name": "stderr",
          "text": [
            "RUNNING: |          | 183/? [elapsed: 03:19 remaining: 00:00]"
          ]
        },
        {
          "output_type": "stream",
          "name": "stdout",
          "text": [
            "2025-08-17 14:48:02,444 Sleeping for 6s. Reason: RUNNING\n"
          ]
        },
        {
          "output_type": "stream",
          "name": "stderr",
          "text": [
            "RUNNING: |          | 189/? [elapsed: 03:26 remaining: 00:00]"
          ]
        },
        {
          "output_type": "stream",
          "name": "stdout",
          "text": [
            "2025-08-17 14:48:09,180 Sleeping for 8s. Reason: RUNNING\n"
          ]
        },
        {
          "output_type": "stream",
          "name": "stderr",
          "text": [
            "RUNNING: |          | 197/? [elapsed: 03:35 remaining: 00:00]"
          ]
        },
        {
          "output_type": "stream",
          "name": "stdout",
          "text": [
            "2025-08-17 14:48:17,875 Sleeping for 7s. Reason: RUNNING\n"
          ]
        },
        {
          "output_type": "stream",
          "name": "stderr",
          "text": [
            "RUNNING: |          | 204/? [elapsed: 03:42 remaining: 00:00]"
          ]
        },
        {
          "output_type": "stream",
          "name": "stdout",
          "text": [
            "2025-08-17 14:48:25,569 Sleeping for 8s. Reason: RUNNING\n"
          ]
        },
        {
          "output_type": "stream",
          "name": "stderr",
          "text": [
            "RUNNING: |          | 212/? [elapsed: 03:51 remaining: 00:00]"
          ]
        },
        {
          "output_type": "stream",
          "name": "stdout",
          "text": [
            "2025-08-17 14:48:34,263 Sleeping for 8s. Reason: RUNNING\n"
          ]
        },
        {
          "output_type": "stream",
          "name": "stderr",
          "text": [
            "RUNNING: |          | 220/? [elapsed: 04:00 remaining: 00:00]"
          ]
        },
        {
          "output_type": "stream",
          "name": "stdout",
          "text": [
            "2025-08-17 14:48:42,965 Sleeping for 9s. Reason: RUNNING\n"
          ]
        },
        {
          "output_type": "stream",
          "name": "stderr",
          "text": [
            "RUNNING: |          | 229/? [elapsed: 04:10 remaining: 00:00]"
          ]
        },
        {
          "output_type": "stream",
          "name": "stdout",
          "text": [
            "2025-08-17 14:48:52,665 Sleeping for 8s. Reason: RUNNING\n"
          ]
        },
        {
          "output_type": "stream",
          "name": "stderr",
          "text": [
            "RUNNING: |          | 237/? [elapsed: 04:18 remaining: 00:00]"
          ]
        },
        {
          "output_type": "stream",
          "name": "stdout",
          "text": [
            "2025-08-17 14:49:01,368 Sleeping for 6s. Reason: RUNNING\n"
          ]
        },
        {
          "output_type": "stream",
          "name": "stderr",
          "text": [
            "RUNNING: |          | 243/? [elapsed: 04:25 remaining: 00:00]"
          ]
        },
        {
          "output_type": "stream",
          "name": "stdout",
          "text": [
            "2025-08-17 14:49:08,064 Sleeping for 8s. Reason: RUNNING\n"
          ]
        },
        {
          "output_type": "stream",
          "name": "stderr",
          "text": [
            "RUNNING: |          | 251/? [elapsed: 04:34 remaining: 00:00]"
          ]
        },
        {
          "output_type": "stream",
          "name": "stdout",
          "text": [
            "2025-08-17 14:49:16,761 Sleeping for 8s. Reason: RUNNING\n"
          ]
        },
        {
          "output_type": "stream",
          "name": "stderr",
          "text": [
            "RUNNING: |          | 259/? [elapsed: 04:42 remaining: 00:00]"
          ]
        },
        {
          "output_type": "stream",
          "name": "stdout",
          "text": [
            "2025-08-17 14:49:25,459 Sleeping for 7s. Reason: RUNNING\n"
          ]
        },
        {
          "output_type": "stream",
          "name": "stderr",
          "text": [
            "RUNNING: |          | 266/? [elapsed: 04:50 remaining: 00:00]"
          ]
        },
        {
          "output_type": "stream",
          "name": "stdout",
          "text": [
            "2025-08-17 14:49:33,160 Sleeping for 6s. Reason: RUNNING\n"
          ]
        },
        {
          "output_type": "stream",
          "name": "stderr",
          "text": [
            "RUNNING: |          | 272/? [elapsed: 04:57 remaining: 00:00]"
          ]
        },
        {
          "output_type": "stream",
          "name": "stdout",
          "text": [
            "2025-08-17 14:49:39,875 Sleeping for 9s. Reason: RUNNING\n"
          ]
        },
        {
          "output_type": "stream",
          "name": "stderr",
          "text": [
            "RUNNING: |          | 281/? [elapsed: 05:06 remaining: 00:00]"
          ]
        },
        {
          "output_type": "stream",
          "name": "stdout",
          "text": [
            "2025-08-17 14:49:49,585 Sleeping for 10s. Reason: RUNNING\n"
          ]
        },
        {
          "output_type": "stream",
          "name": "stderr",
          "text": [
            "RUNNING: |          | 291/? [elapsed: 05:17 remaining: 00:00]"
          ]
        },
        {
          "output_type": "stream",
          "name": "stdout",
          "text": [
            "2025-08-17 14:50:00,284 Sleeping for 10s. Reason: RUNNING\n"
          ]
        },
        {
          "output_type": "stream",
          "name": "stderr",
          "text": [
            "RUNNING: |          | 301/? [elapsed: 05:28 remaining: 00:00]"
          ]
        },
        {
          "output_type": "stream",
          "name": "stdout",
          "text": [
            "2025-08-17 14:50:10,976 Sleeping for 8s. Reason: RUNNING\n"
          ]
        },
        {
          "output_type": "stream",
          "name": "stderr",
          "text": [
            "RUNNING: |          | 309/? [elapsed: 05:37 remaining: 00:00]"
          ]
        },
        {
          "output_type": "stream",
          "name": "stdout",
          "text": [
            "2025-08-17 14:50:19,683 Sleeping for 6s. Reason: RUNNING\n"
          ]
        },
        {
          "output_type": "stream",
          "name": "stderr",
          "text": [
            "RUNNING: |          | 315/? [elapsed: 05:43 remaining: 00:00]"
          ]
        },
        {
          "output_type": "stream",
          "name": "stdout",
          "text": [
            "2025-08-17 14:50:26,383 Sleeping for 10s. Reason: RUNNING\n"
          ]
        },
        {
          "output_type": "stream",
          "name": "stderr",
          "text": [
            "RUNNING: |          | 325/? [elapsed: 05:54 remaining: 00:00]"
          ]
        },
        {
          "output_type": "stream",
          "name": "stdout",
          "text": [
            "2025-08-17 14:50:37,073 Sleeping for 7s. Reason: RUNNING\n"
          ]
        },
        {
          "output_type": "stream",
          "name": "stderr",
          "text": [
            "RUNNING: |          | 332/? [elapsed: 06:02 remaining: 00:00]"
          ]
        },
        {
          "output_type": "stream",
          "name": "stdout",
          "text": [
            "2025-08-17 14:50:44,768 Sleeping for 9s. Reason: RUNNING\n"
          ]
        },
        {
          "output_type": "stream",
          "name": "stderr",
          "text": [
            "RUNNING: |          | 341/? [elapsed: 06:11 remaining: 00:00]"
          ]
        },
        {
          "output_type": "stream",
          "name": "stdout",
          "text": [
            "2025-08-17 14:50:54,477 Sleeping for 6s. Reason: RUNNING\n"
          ]
        },
        {
          "output_type": "stream",
          "name": "stderr",
          "text": [
            "RUNNING: |          | 347/? [elapsed: 06:18 remaining: 00:00]"
          ]
        },
        {
          "output_type": "stream",
          "name": "stdout",
          "text": [
            "2025-08-17 14:51:01,175 Sleeping for 5s. Reason: RUNNING\n"
          ]
        },
        {
          "output_type": "stream",
          "name": "stderr",
          "text": [
            "RUNNING: |          | 352/? [elapsed: 06:24 remaining: 00:00]"
          ]
        },
        {
          "output_type": "stream",
          "name": "stdout",
          "text": [
            "2025-08-17 14:51:06,855 Sleeping for 8s. Reason: RUNNING\n"
          ]
        },
        {
          "output_type": "stream",
          "name": "stderr",
          "text": [
            "RUNNING: |          | 360/? [elapsed: 06:32 remaining: 00:00]"
          ]
        },
        {
          "output_type": "stream",
          "name": "stdout",
          "text": [
            "2025-08-17 14:51:15,539 Sleeping for 7s. Reason: RUNNING\n"
          ]
        },
        {
          "output_type": "stream",
          "name": "stderr",
          "text": [
            "RUNNING: |          | 367/? [elapsed: 06:40 remaining: 00:00]"
          ]
        },
        {
          "output_type": "stream",
          "name": "stdout",
          "text": [
            "2025-08-17 14:51:23,238 Sleeping for 9s. Reason: RUNNING\n"
          ]
        },
        {
          "output_type": "stream",
          "name": "stderr",
          "text": [
            "RUNNING: |          | 376/? [elapsed: 06:50 remaining: 00:00]"
          ]
        },
        {
          "output_type": "stream",
          "name": "stdout",
          "text": [
            "2025-08-17 14:51:32,946 Sleeping for 5s. Reason: RUNNING\n"
          ]
        },
        {
          "output_type": "stream",
          "name": "stderr",
          "text": [
            "RUNNING: |          | 381/? [elapsed: 06:56 remaining: 00:00]"
          ]
        },
        {
          "output_type": "stream",
          "name": "stdout",
          "text": [
            "2025-08-17 14:51:38,628 Sleeping for 9s. Reason: RUNNING\n"
          ]
        },
        {
          "output_type": "stream",
          "name": "stderr",
          "text": [
            "RUNNING: |          | 390/? [elapsed: 07:05 remaining: 00:00]"
          ]
        },
        {
          "output_type": "stream",
          "name": "stdout",
          "text": [
            "2025-08-17 14:51:48,323 Sleeping for 9s. Reason: RUNNING\n"
          ]
        },
        {
          "output_type": "stream",
          "name": "stderr",
          "text": [
            "RUNNING: |          | 399/? [elapsed: 07:15 remaining: 00:00]"
          ]
        },
        {
          "output_type": "stream",
          "name": "stdout",
          "text": [
            "2025-08-17 14:51:58,022 Sleeping for 10s. Reason: RUNNING\n"
          ]
        },
        {
          "output_type": "stream",
          "name": "stderr",
          "text": [
            "RUNNING: |          | 409/? [elapsed: 07:26 remaining: 00:00]"
          ]
        },
        {
          "output_type": "stream",
          "name": "stdout",
          "text": [
            "2025-08-17 14:52:08,720 Sleeping for 5s. Reason: RUNNING\n"
          ]
        },
        {
          "output_type": "stream",
          "name": "stderr",
          "text": [
            "RUNNING: |          | 414/? [elapsed: 07:31 remaining: 00:00]"
          ]
        },
        {
          "output_type": "stream",
          "name": "stdout",
          "text": [
            "2025-08-17 14:52:14,430 Sleeping for 10s. Reason: RUNNING\n"
          ]
        },
        {
          "output_type": "stream",
          "name": "stderr",
          "text": [
            "RUNNING: |          | 424/? [elapsed: 07:42 remaining: 00:00]"
          ]
        },
        {
          "output_type": "stream",
          "name": "stdout",
          "text": [
            "2025-08-17 14:52:25,129 Sleeping for 6s. Reason: RUNNING\n"
          ]
        },
        {
          "output_type": "stream",
          "name": "stderr",
          "text": [
            "RUNNING: |          | 430/? [elapsed: 07:49 remaining: 00:00]"
          ]
        },
        {
          "output_type": "stream",
          "name": "stdout",
          "text": [
            "2025-08-17 14:52:31,822 Sleeping for 10s. Reason: RUNNING\n"
          ]
        },
        {
          "output_type": "stream",
          "name": "stderr",
          "text": [
            "RUNNING: |          | 440/? [elapsed: 07:59 remaining: 00:00]"
          ]
        },
        {
          "output_type": "stream",
          "name": "stdout",
          "text": [
            "2025-08-17 14:52:42,542 Sleeping for 5s. Reason: RUNNING\n"
          ]
        },
        {
          "output_type": "stream",
          "name": "stderr",
          "text": [
            "RUNNING: |          | 445/? [elapsed: 08:05 remaining: 00:00]"
          ]
        },
        {
          "output_type": "stream",
          "name": "stdout",
          "text": [
            "2025-08-17 14:52:48,227 Sleeping for 5s. Reason: RUNNING\n"
          ]
        },
        {
          "output_type": "stream",
          "name": "stderr",
          "text": [
            "RUNNING: |          | 450/? [elapsed: 08:11 remaining: 00:00]"
          ]
        },
        {
          "output_type": "stream",
          "name": "stdout",
          "text": [
            "2025-08-17 14:52:53,916 Sleeping for 7s. Reason: RUNNING\n"
          ]
        },
        {
          "output_type": "stream",
          "name": "stderr",
          "text": [
            "COMPLETE: |          | 450/? [elapsed: 08:20 remaining: 00:00]\n"
          ]
        },
        {
          "output_type": "stream",
          "name": "stdout",
          "text": [
            "2025-08-17 14:53:25,431 Sequence 0 found templates: ['6v81_A', '1kmp_A', '3qlb_B', '3qlb_A', '6i98_A', '6i97_B', '8a60_A', '6i97_A', '4cu4_A', '8b14_A', '2grx_B', '1fcp_A', '1qff_A', '1by3_A', '1xkw_A', '5fp1_A', '6e4v_A', '6r1f_A', '5out_A', '5mzs_A']\n",
            "2025-08-17 14:53:30,974 Padding length to 770\n",
            "2025-08-17 14:56:50,197 alphafold2_ptm_model_1_seed_000 recycle=0 pLDDT=84.9 pTM=0.852\n",
            "2025-08-17 14:59:52,838 alphafold2_ptm_model_1_seed_000 recycle=1 pLDDT=86.2 pTM=0.863 tol=2.8\n",
            "2025-08-17 15:02:20,888 alphafold2_ptm_model_1_seed_000 recycle=2 pLDDT=86.3 pTM=0.86 tol=3.17\n",
            "2025-08-17 15:04:49,777 alphafold2_ptm_model_1_seed_000 recycle=3 pLDDT=86.4 pTM=0.86 tol=2.01\n",
            "2025-08-17 15:04:49,789 alphafold2_ptm_model_1_seed_000 took 678.8s (3 recycles)\n",
            "2025-08-17 15:07:16,815 alphafold2_ptm_model_2_seed_000 recycle=0 pLDDT=86.1 pTM=0.858\n",
            "2025-08-17 15:09:46,447 alphafold2_ptm_model_2_seed_000 recycle=1 pLDDT=87.6 pTM=0.872 tol=5.05\n",
            "2025-08-17 15:12:13,353 alphafold2_ptm_model_2_seed_000 recycle=2 pLDDT=87.9 pTM=0.875 tol=1.1\n",
            "2025-08-17 15:14:44,842 alphafold2_ptm_model_2_seed_000 recycle=3 pLDDT=88.1 pTM=0.877 tol=0.508\n",
            "2025-08-17 15:14:44,851 alphafold2_ptm_model_2_seed_000 took 594.2s (3 recycles)\n",
            "2025-08-17 15:17:29,110 alphafold2_ptm_model_3_seed_000 recycle=0 pLDDT=87.1 pTM=0.871\n",
            "2025-08-17 15:20:12,864 alphafold2_ptm_model_3_seed_000 recycle=1 pLDDT=88.9 pTM=0.882 tol=2.15\n",
            "2025-08-17 15:22:31,901 alphafold2_ptm_model_3_seed_000 recycle=2 pLDDT=89.1 pTM=0.883 tol=2.33\n",
            "2025-08-17 15:24:55,153 alphafold2_ptm_model_3_seed_000 recycle=3 pLDDT=89 pTM=0.882 tol=1.8\n",
            "2025-08-17 15:24:55,162 alphafold2_ptm_model_3_seed_000 took 609.8s (3 recycles)\n",
            "2025-08-17 15:24:55,687 reranking models by 'plddt' metric\n",
            "2025-08-17 15:24:55,688 rank_001_alphafold2_ptm_model_3_seed_000 pLDDT=89 pTM=0.882\n",
            "2025-08-17 15:24:55,691 rank_002_alphafold2_ptm_model_2_seed_000 pLDDT=88.1 pTM=0.877\n",
            "2025-08-17 15:24:55,700 rank_003_alphafold2_ptm_model_1_seed_000 pLDDT=86.4 pTM=0.86\n",
            "2025-08-17 15:24:57,433 Query 8/9: tonb_dependent_WP_015463444.1 (length 772)\n"
          ]
        },
        {
          "output_type": "stream",
          "name": "stderr",
          "text": [
            "PENDING:   0%|          | 0/150 [elapsed: 00:00 remaining: ?]"
          ]
        },
        {
          "output_type": "stream",
          "name": "stdout",
          "text": [
            "2025-08-17 15:24:58,137 Sleeping for 9s. Reason: PENDING\n"
          ]
        },
        {
          "output_type": "stream",
          "name": "stderr",
          "text": [
            "RUNNING:   6%|▌         | 9/150 [elapsed: 00:10 remaining: 02:42]"
          ]
        },
        {
          "output_type": "stream",
          "name": "stdout",
          "text": [
            "2025-08-17 15:25:07,837 Sleeping for 7s. Reason: RUNNING\n"
          ]
        },
        {
          "output_type": "stream",
          "name": "stderr",
          "text": [
            "RUNNING:  11%|█         | 16/150 [elapsed: 00:18 remaining: 02:30]"
          ]
        },
        {
          "output_type": "stream",
          "name": "stdout",
          "text": [
            "2025-08-17 15:25:15,541 Sleeping for 10s. Reason: RUNNING\n"
          ]
        },
        {
          "output_type": "stream",
          "name": "stderr",
          "text": [
            "RUNNING:  17%|█▋        | 26/150 [elapsed: 00:28 remaining: 02:16]"
          ]
        },
        {
          "output_type": "stream",
          "name": "stdout",
          "text": [
            "2025-08-17 15:25:26,235 Sleeping for 10s. Reason: RUNNING\n"
          ]
        },
        {
          "output_type": "stream",
          "name": "stderr",
          "text": [
            "RUNNING:  24%|██▍       | 36/150 [elapsed: 00:39 remaining: 02:03]"
          ]
        },
        {
          "output_type": "stream",
          "name": "stdout",
          "text": [
            "2025-08-17 15:25:36,967 Sleeping for 10s. Reason: RUNNING\n"
          ]
        },
        {
          "output_type": "stream",
          "name": "stderr",
          "text": [
            "RUNNING:  31%|███       | 46/150 [elapsed: 00:50 remaining: 01:52]"
          ]
        },
        {
          "output_type": "stream",
          "name": "stdout",
          "text": [
            "2025-08-17 15:25:47,656 Sleeping for 8s. Reason: RUNNING\n"
          ]
        },
        {
          "output_type": "stream",
          "name": "stderr",
          "text": [
            "RUNNING:  36%|███▌      | 54/150 [elapsed: 00:58 remaining: 01:43]"
          ]
        },
        {
          "output_type": "stream",
          "name": "stdout",
          "text": [
            "2025-08-17 15:25:56,350 Sleeping for 10s. Reason: RUNNING\n"
          ]
        },
        {
          "output_type": "stream",
          "name": "stderr",
          "text": [
            "RUNNING:  43%|████▎     | 64/150 [elapsed: 01:09 remaining: 01:32]"
          ]
        },
        {
          "output_type": "stream",
          "name": "stdout",
          "text": [
            "2025-08-17 15:26:07,072 Sleeping for 10s. Reason: RUNNING\n"
          ]
        },
        {
          "output_type": "stream",
          "name": "stderr",
          "text": [
            "RUNNING:  49%|████▉     | 74/150 [elapsed: 01:20 remaining: 01:21]"
          ]
        },
        {
          "output_type": "stream",
          "name": "stdout",
          "text": [
            "2025-08-17 15:26:17,768 Sleeping for 7s. Reason: RUNNING\n"
          ]
        },
        {
          "output_type": "stream",
          "name": "stderr",
          "text": [
            "RUNNING:  54%|█████▍    | 81/150 [elapsed: 01:28 remaining: 01:14]"
          ]
        },
        {
          "output_type": "stream",
          "name": "stdout",
          "text": [
            "2025-08-17 15:26:25,467 Sleeping for 9s. Reason: RUNNING\n"
          ]
        },
        {
          "output_type": "stream",
          "name": "stderr",
          "text": [
            "RUNNING:  60%|██████    | 90/150 [elapsed: 01:37 remaining: 01:04]"
          ]
        },
        {
          "output_type": "stream",
          "name": "stdout",
          "text": [
            "2025-08-17 15:26:35,178 Sleeping for 6s. Reason: RUNNING\n"
          ]
        },
        {
          "output_type": "stream",
          "name": "stderr",
          "text": [
            "RUNNING:  64%|██████▍   | 96/150 [elapsed: 01:44 remaining: 00:58]"
          ]
        },
        {
          "output_type": "stream",
          "name": "stdout",
          "text": [
            "2025-08-17 15:26:41,874 Sleeping for 5s. Reason: RUNNING\n"
          ]
        },
        {
          "output_type": "stream",
          "name": "stderr",
          "text": [
            "RUNNING:  67%|██████▋   | 101/150 [elapsed: 01:50 remaining: 00:53]"
          ]
        },
        {
          "output_type": "stream",
          "name": "stdout",
          "text": [
            "2025-08-17 15:26:47,579 Sleeping for 10s. Reason: RUNNING\n"
          ]
        },
        {
          "output_type": "stream",
          "name": "stderr",
          "text": [
            "RUNNING:  74%|███████▍  | 111/150 [elapsed: 02:00 remaining: 00:42]"
          ]
        },
        {
          "output_type": "stream",
          "name": "stdout",
          "text": [
            "2025-08-17 15:26:58,269 Sleeping for 6s. Reason: RUNNING\n"
          ]
        },
        {
          "output_type": "stream",
          "name": "stderr",
          "text": [
            "RUNNING:  78%|███████▊  | 117/150 [elapsed: 02:07 remaining: 00:36]"
          ]
        },
        {
          "output_type": "stream",
          "name": "stdout",
          "text": [
            "2025-08-17 15:27:04,968 Sleeping for 6s. Reason: RUNNING\n"
          ]
        },
        {
          "output_type": "stream",
          "name": "stderr",
          "text": [
            "RUNNING:  82%|████████▏ | 123/150 [elapsed: 02:14 remaining: 00:29]"
          ]
        },
        {
          "output_type": "stream",
          "name": "stdout",
          "text": [
            "2025-08-17 15:27:11,647 Sleeping for 10s. Reason: RUNNING\n"
          ]
        },
        {
          "output_type": "stream",
          "name": "stderr",
          "text": [
            "RUNNING:  89%|████████▊ | 133/150 [elapsed: 02:24 remaining: 00:18]"
          ]
        },
        {
          "output_type": "stream",
          "name": "stdout",
          "text": [
            "2025-08-17 15:27:22,366 Sleeping for 7s. Reason: RUNNING\n"
          ]
        },
        {
          "output_type": "stream",
          "name": "stderr",
          "text": [
            "RUNNING:  93%|█████████▎| 140/150 [elapsed: 02:32 remaining: 00:10]"
          ]
        },
        {
          "output_type": "stream",
          "name": "stdout",
          "text": [
            "2025-08-17 15:27:30,073 Sleeping for 5s. Reason: RUNNING\n"
          ]
        },
        {
          "output_type": "stream",
          "name": "stderr",
          "text": [
            "RUNNING:  97%|█████████▋| 145/150 [elapsed: 02:38 remaining: 00:05]"
          ]
        },
        {
          "output_type": "stream",
          "name": "stdout",
          "text": [
            "2025-08-17 15:27:35,759 Sleeping for 6s. Reason: RUNNING\n"
          ]
        },
        {
          "output_type": "stream",
          "name": "stderr",
          "text": [
            "RUNNING: |          | 151/? [elapsed: 02:45 remaining: 00:00]"
          ]
        },
        {
          "output_type": "stream",
          "name": "stdout",
          "text": [
            "2025-08-17 15:27:42,454 Sleeping for 9s. Reason: RUNNING\n"
          ]
        },
        {
          "output_type": "stream",
          "name": "stderr",
          "text": [
            "RUNNING: |          | 160/? [elapsed: 02:54 remaining: 00:00]"
          ]
        },
        {
          "output_type": "stream",
          "name": "stdout",
          "text": [
            "2025-08-17 15:27:52,181 Sleeping for 9s. Reason: RUNNING\n"
          ]
        },
        {
          "output_type": "stream",
          "name": "stderr",
          "text": [
            "RUNNING: |          | 169/? [elapsed: 03:04 remaining: 00:00]"
          ]
        },
        {
          "output_type": "stream",
          "name": "stdout",
          "text": [
            "2025-08-17 15:28:01,906 Sleeping for 8s. Reason: RUNNING\n"
          ]
        },
        {
          "output_type": "stream",
          "name": "stderr",
          "text": [
            "RUNNING: |          | 177/? [elapsed: 03:13 remaining: 00:00]"
          ]
        },
        {
          "output_type": "stream",
          "name": "stdout",
          "text": [
            "2025-08-17 15:28:10,605 Sleeping for 10s. Reason: RUNNING\n"
          ]
        },
        {
          "output_type": "stream",
          "name": "stderr",
          "text": [
            "RUNNING: |          | 187/? [elapsed: 03:23 remaining: 00:00]"
          ]
        },
        {
          "output_type": "stream",
          "name": "stdout",
          "text": [
            "2025-08-17 15:28:21,288 Sleeping for 9s. Reason: RUNNING\n"
          ]
        },
        {
          "output_type": "stream",
          "name": "stderr",
          "text": [
            "RUNNING: |          | 196/? [elapsed: 03:33 remaining: 00:00]"
          ]
        },
        {
          "output_type": "stream",
          "name": "stdout",
          "text": [
            "2025-08-17 15:28:30,981 Sleeping for 6s. Reason: RUNNING\n"
          ]
        },
        {
          "output_type": "stream",
          "name": "stderr",
          "text": [
            "RUNNING: |          | 202/? [elapsed: 03:40 remaining: 00:00]"
          ]
        },
        {
          "output_type": "stream",
          "name": "stdout",
          "text": [
            "2025-08-17 15:28:37,686 Sleeping for 7s. Reason: RUNNING\n"
          ]
        },
        {
          "output_type": "stream",
          "name": "stderr",
          "text": [
            "RUNNING: |          | 209/? [elapsed: 03:47 remaining: 00:00]"
          ]
        },
        {
          "output_type": "stream",
          "name": "stdout",
          "text": [
            "2025-08-17 15:28:45,385 Sleeping for 10s. Reason: RUNNING\n"
          ]
        },
        {
          "output_type": "stream",
          "name": "stderr",
          "text": [
            "RUNNING: |          | 219/? [elapsed: 03:58 remaining: 00:00]"
          ]
        },
        {
          "output_type": "stream",
          "name": "stdout",
          "text": [
            "2025-08-17 15:28:56,096 Sleeping for 5s. Reason: RUNNING\n"
          ]
        },
        {
          "output_type": "stream",
          "name": "stderr",
          "text": [
            "RUNNING: |          | 224/? [elapsed: 04:04 remaining: 00:00]"
          ]
        },
        {
          "output_type": "stream",
          "name": "stdout",
          "text": [
            "2025-08-17 15:29:01,784 Sleeping for 5s. Reason: RUNNING\n"
          ]
        },
        {
          "output_type": "stream",
          "name": "stderr",
          "text": [
            "RUNNING: |          | 229/? [elapsed: 04:10 remaining: 00:00]"
          ]
        },
        {
          "output_type": "stream",
          "name": "stdout",
          "text": [
            "2025-08-17 15:29:07,474 Sleeping for 6s. Reason: RUNNING\n"
          ]
        },
        {
          "output_type": "stream",
          "name": "stderr",
          "text": [
            "RUNNING: |          | 235/? [elapsed: 04:16 remaining: 00:00]"
          ]
        },
        {
          "output_type": "stream",
          "name": "stdout",
          "text": [
            "2025-08-17 15:29:14,176 Sleeping for 10s. Reason: RUNNING\n"
          ]
        },
        {
          "output_type": "stream",
          "name": "stderr",
          "text": [
            "RUNNING: |          | 245/? [elapsed: 04:27 remaining: 00:00]"
          ]
        },
        {
          "output_type": "stream",
          "name": "stdout",
          "text": [
            "2025-08-17 15:29:24,877 Sleeping for 7s. Reason: RUNNING\n"
          ]
        },
        {
          "output_type": "stream",
          "name": "stderr",
          "text": [
            "RUNNING: |          | 252/? [elapsed: 04:35 remaining: 00:00]"
          ]
        },
        {
          "output_type": "stream",
          "name": "stdout",
          "text": [
            "2025-08-17 15:29:32,581 Sleeping for 6s. Reason: RUNNING\n"
          ]
        },
        {
          "output_type": "stream",
          "name": "stderr",
          "text": [
            "RUNNING: |          | 258/? [elapsed: 04:41 remaining: 00:00]"
          ]
        },
        {
          "output_type": "stream",
          "name": "stdout",
          "text": [
            "2025-08-17 15:29:39,288 Sleeping for 6s. Reason: RUNNING\n"
          ]
        },
        {
          "output_type": "stream",
          "name": "stderr",
          "text": [
            "RUNNING: |          | 264/? [elapsed: 04:48 remaining: 00:00]"
          ]
        },
        {
          "output_type": "stream",
          "name": "stdout",
          "text": [
            "2025-08-17 15:29:45,983 Sleeping for 6s. Reason: RUNNING\n"
          ]
        },
        {
          "output_type": "stream",
          "name": "stderr",
          "text": [
            "RUNNING: |          | 270/? [elapsed: 04:55 remaining: 00:00]"
          ]
        },
        {
          "output_type": "stream",
          "name": "stdout",
          "text": [
            "2025-08-17 15:29:52,680 Sleeping for 8s. Reason: RUNNING\n"
          ]
        },
        {
          "output_type": "stream",
          "name": "stderr",
          "text": [
            "RUNNING: |          | 278/? [elapsed: 05:03 remaining: 00:00]"
          ]
        },
        {
          "output_type": "stream",
          "name": "stdout",
          "text": [
            "2025-08-17 15:30:01,371 Sleeping for 10s. Reason: RUNNING\n"
          ]
        },
        {
          "output_type": "stream",
          "name": "stderr",
          "text": [
            "RUNNING: |          | 288/? [elapsed: 05:14 remaining: 00:00]"
          ]
        },
        {
          "output_type": "stream",
          "name": "stdout",
          "text": [
            "2025-08-17 15:30:12,068 Sleeping for 6s. Reason: RUNNING\n"
          ]
        },
        {
          "output_type": "stream",
          "name": "stderr",
          "text": [
            "RUNNING: |          | 294/? [elapsed: 05:21 remaining: 00:00]"
          ]
        },
        {
          "output_type": "stream",
          "name": "stdout",
          "text": [
            "2025-08-17 15:30:18,759 Sleeping for 6s. Reason: RUNNING\n"
          ]
        },
        {
          "output_type": "stream",
          "name": "stderr",
          "text": [
            "RUNNING: |          | 300/? [elapsed: 05:28 remaining: 00:00]"
          ]
        },
        {
          "output_type": "stream",
          "name": "stdout",
          "text": [
            "2025-08-17 15:30:25,446 Sleeping for 8s. Reason: RUNNING\n"
          ]
        },
        {
          "output_type": "stream",
          "name": "stderr",
          "text": [
            "RUNNING: |          | 308/? [elapsed: 05:36 remaining: 00:00]"
          ]
        },
        {
          "output_type": "stream",
          "name": "stdout",
          "text": [
            "2025-08-17 15:30:34,133 Sleeping for 6s. Reason: RUNNING\n"
          ]
        },
        {
          "output_type": "stream",
          "name": "stderr",
          "text": [
            "RUNNING: |          | 314/? [elapsed: 05:43 remaining: 00:00]"
          ]
        },
        {
          "output_type": "stream",
          "name": "stdout",
          "text": [
            "2025-08-17 15:30:40,827 Sleeping for 5s. Reason: RUNNING\n"
          ]
        },
        {
          "output_type": "stream",
          "name": "stderr",
          "text": [
            "RUNNING: |          | 319/? [elapsed: 05:49 remaining: 00:00]"
          ]
        },
        {
          "output_type": "stream",
          "name": "stdout",
          "text": [
            "2025-08-17 15:30:46,520 Sleeping for 10s. Reason: RUNNING\n"
          ]
        },
        {
          "output_type": "stream",
          "name": "stderr",
          "text": [
            "RUNNING: |          | 329/? [elapsed: 05:59 remaining: 00:00]"
          ]
        },
        {
          "output_type": "stream",
          "name": "stdout",
          "text": [
            "2025-08-17 15:30:57,228 Sleeping for 10s. Reason: RUNNING\n"
          ]
        },
        {
          "output_type": "stream",
          "name": "stderr",
          "text": [
            "RUNNING: |          | 339/? [elapsed: 06:10 remaining: 00:00]"
          ]
        },
        {
          "output_type": "stream",
          "name": "stdout",
          "text": [
            "2025-08-17 15:31:07,930 Sleeping for 5s. Reason: RUNNING\n"
          ]
        },
        {
          "output_type": "stream",
          "name": "stderr",
          "text": [
            "RUNNING: |          | 344/? [elapsed: 06:16 remaining: 00:00]"
          ]
        },
        {
          "output_type": "stream",
          "name": "stdout",
          "text": [
            "2025-08-17 15:31:13,636 Sleeping for 9s. Reason: RUNNING\n"
          ]
        },
        {
          "output_type": "stream",
          "name": "stderr",
          "text": [
            "RUNNING: |          | 353/? [elapsed: 06:25 remaining: 00:00]"
          ]
        },
        {
          "output_type": "stream",
          "name": "stdout",
          "text": [
            "2025-08-17 15:31:23,332 Sleeping for 7s. Reason: RUNNING\n"
          ]
        },
        {
          "output_type": "stream",
          "name": "stderr",
          "text": [
            "RUNNING: |          | 360/? [elapsed: 06:33 remaining: 00:00]"
          ]
        },
        {
          "output_type": "stream",
          "name": "stdout",
          "text": [
            "2025-08-17 15:31:31,013 Sleeping for 7s. Reason: RUNNING\n"
          ]
        },
        {
          "output_type": "stream",
          "name": "stderr",
          "text": [
            "RUNNING: |          | 367/? [elapsed: 06:41 remaining: 00:00]"
          ]
        },
        {
          "output_type": "stream",
          "name": "stdout",
          "text": [
            "2025-08-17 15:31:38,697 Sleeping for 8s. Reason: RUNNING\n"
          ]
        },
        {
          "output_type": "stream",
          "name": "stderr",
          "text": [
            "RUNNING: |          | 375/? [elapsed: 06:49 remaining: 00:00]"
          ]
        },
        {
          "output_type": "stream",
          "name": "stdout",
          "text": [
            "2025-08-17 15:31:47,398 Sleeping for 5s. Reason: RUNNING\n"
          ]
        },
        {
          "output_type": "stream",
          "name": "stderr",
          "text": [
            "COMPLETE: |          | 375/? [elapsed: 06:57 remaining: 00:00]\n"
          ]
        },
        {
          "output_type": "stream",
          "name": "stdout",
          "text": [
            "2025-08-17 15:32:19,190 Sequence 0 found templates: ['5fok_A', '5fok_B', '5nec_B', '6bpo_D', '5nec_A', '5fp1_A', '6bpn_A', '6i97_B', '6i97_A', '6i98_A', '3qlb_A', '3qlb_B', '1fcp_A', '4cu4_A', '8b14_A', '1qff_A', '1by3_A', '2grx_B', '8a60_A', '1xkw_A']\n",
            "2025-08-17 15:32:34,918 Padding length to 782\n",
            "2025-08-17 15:36:07,147 alphafold2_ptm_model_1_seed_000 recycle=0 pLDDT=87.2 pTM=0.871\n",
            "2025-08-17 15:39:11,414 alphafold2_ptm_model_1_seed_000 recycle=1 pLDDT=88.9 pTM=0.883 tol=1.74\n",
            "2025-08-17 15:41:42,865 alphafold2_ptm_model_1_seed_000 recycle=2 pLDDT=89.5 pTM=0.887 tol=2.3\n",
            "2025-08-17 15:44:16,882 alphafold2_ptm_model_1_seed_000 recycle=3 pLDDT=89.9 pTM=0.89 tol=0.904\n",
            "2025-08-17 15:44:16,890 alphafold2_ptm_model_1_seed_000 took 702.0s (3 recycles)\n",
            "2025-08-17 15:46:48,675 alphafold2_ptm_model_2_seed_000 recycle=0 pLDDT=87.4 pTM=0.875\n",
            "2025-08-17 15:49:26,349 alphafold2_ptm_model_2_seed_000 recycle=1 pLDDT=89.1 pTM=0.888 tol=1.92\n",
            "2025-08-17 15:52:00,936 alphafold2_ptm_model_2_seed_000 recycle=2 pLDDT=89.7 pTM=0.892 tol=1.42\n",
            "2025-08-17 15:54:36,687 alphafold2_ptm_model_2_seed_000 recycle=3 pLDDT=90.6 pTM=0.897 tol=0.557\n",
            "2025-08-17 15:54:36,696 alphafold2_ptm_model_2_seed_000 took 619.3s (3 recycles)\n",
            "2025-08-17 15:57:27,484 alphafold2_ptm_model_3_seed_000 recycle=0 pLDDT=88.4 pTM=0.869\n",
            "2025-08-17 16:00:14,945 alphafold2_ptm_model_3_seed_000 recycle=1 pLDDT=89.8 pTM=0.883 tol=3.33\n",
            "2025-08-17 16:02:42,293 alphafold2_ptm_model_3_seed_000 recycle=2 pLDDT=90.3 pTM=0.886 tol=0.623\n",
            "2025-08-17 16:05:10,275 alphafold2_ptm_model_3_seed_000 recycle=3 pLDDT=91.2 pTM=0.892 tol=0.379\n",
            "2025-08-17 16:05:10,283 alphafold2_ptm_model_3_seed_000 took 633.1s (3 recycles)\n",
            "2025-08-17 16:05:10,834 reranking models by 'plddt' metric\n",
            "2025-08-17 16:05:10,835 rank_001_alphafold2_ptm_model_3_seed_000 pLDDT=91.2 pTM=0.892\n",
            "2025-08-17 16:05:10,838 rank_002_alphafold2_ptm_model_2_seed_000 pLDDT=90.6 pTM=0.897\n",
            "2025-08-17 16:05:10,841 rank_003_alphafold2_ptm_model_1_seed_000 pLDDT=89.9 pTM=0.89\n",
            "2025-08-17 16:05:12,808 Query 9/9: tonb_dependent_WP_011050656.1 (length 806)\n"
          ]
        },
        {
          "output_type": "stream",
          "name": "stderr",
          "text": [
            "PENDING:   0%|          | 0/150 [elapsed: 00:00 remaining: ?]"
          ]
        },
        {
          "output_type": "stream",
          "name": "stdout",
          "text": [
            "2025-08-17 16:05:13,525 Sleeping for 10s. Reason: PENDING\n"
          ]
        },
        {
          "output_type": "stream",
          "name": "stderr",
          "text": [
            "RUNNING:   7%|▋         | 10/150 [elapsed: 00:11 remaining: 02:39]"
          ]
        },
        {
          "output_type": "stream",
          "name": "stdout",
          "text": [
            "2025-08-17 16:05:24,227 Sleeping for 10s. Reason: RUNNING\n"
          ]
        },
        {
          "output_type": "stream",
          "name": "stderr",
          "text": [
            "RUNNING:  13%|█▎        | 20/150 [elapsed: 00:22 remaining: 02:22]"
          ]
        },
        {
          "output_type": "stream",
          "name": "stdout",
          "text": [
            "2025-08-17 16:05:34,928 Sleeping for 7s. Reason: RUNNING\n"
          ]
        },
        {
          "output_type": "stream",
          "name": "stderr",
          "text": [
            "RUNNING:  18%|█▊        | 27/150 [elapsed: 00:30 remaining: 02:18]"
          ]
        },
        {
          "output_type": "stream",
          "name": "stdout",
          "text": [
            "2025-08-17 16:05:43,155 Sleeping for 5s. Reason: RUNNING\n"
          ]
        },
        {
          "output_type": "stream",
          "name": "stderr",
          "text": [
            "RUNNING:  21%|██▏       | 32/150 [elapsed: 00:36 remaining: 02:13]"
          ]
        },
        {
          "output_type": "stream",
          "name": "stdout",
          "text": [
            "2025-08-17 16:05:48,838 Sleeping for 9s. Reason: RUNNING\n"
          ]
        },
        {
          "output_type": "stream",
          "name": "stderr",
          "text": [
            "RUNNING:  27%|██▋       | 41/150 [elapsed: 00:45 remaining: 02:00]"
          ]
        },
        {
          "output_type": "stream",
          "name": "stdout",
          "text": [
            "2025-08-17 16:05:58,546 Sleeping for 8s. Reason: RUNNING\n"
          ]
        },
        {
          "output_type": "stream",
          "name": "stderr",
          "text": [
            "RUNNING:  33%|███▎      | 49/150 [elapsed: 00:54 remaining: 01:51]"
          ]
        },
        {
          "output_type": "stream",
          "name": "stdout",
          "text": [
            "2025-08-17 16:06:07,253 Sleeping for 7s. Reason: RUNNING\n"
          ]
        },
        {
          "output_type": "stream",
          "name": "stderr",
          "text": [
            "RUNNING:  37%|███▋      | 56/150 [elapsed: 01:02 remaining: 01:43]"
          ]
        },
        {
          "output_type": "stream",
          "name": "stdout",
          "text": [
            "2025-08-17 16:06:14,957 Sleeping for 8s. Reason: RUNNING\n"
          ]
        },
        {
          "output_type": "stream",
          "name": "stderr",
          "text": [
            "RUNNING:  43%|████▎     | 64/150 [elapsed: 01:10 remaining: 01:34]"
          ]
        },
        {
          "output_type": "stream",
          "name": "stdout",
          "text": [
            "2025-08-17 16:06:23,654 Sleeping for 6s. Reason: RUNNING\n"
          ]
        },
        {
          "output_type": "stream",
          "name": "stderr",
          "text": [
            "RUNNING:  47%|████▋     | 70/150 [elapsed: 01:17 remaining: 01:28]"
          ]
        },
        {
          "output_type": "stream",
          "name": "stdout",
          "text": [
            "2025-08-17 16:06:30,363 Sleeping for 5s. Reason: RUNNING\n"
          ]
        },
        {
          "output_type": "stream",
          "name": "stderr",
          "text": [
            "RUNNING:  50%|█████     | 75/150 [elapsed: 01:23 remaining: 01:23]"
          ]
        },
        {
          "output_type": "stream",
          "name": "stdout",
          "text": [
            "2025-08-17 16:06:36,071 Sleeping for 6s. Reason: RUNNING\n"
          ]
        },
        {
          "output_type": "stream",
          "name": "stderr",
          "text": [
            "RUNNING:  54%|█████▍    | 81/150 [elapsed: 01:29 remaining: 01:16]"
          ]
        },
        {
          "output_type": "stream",
          "name": "stdout",
          "text": [
            "2025-08-17 16:06:42,787 Sleeping for 10s. Reason: RUNNING\n"
          ]
        },
        {
          "output_type": "stream",
          "name": "stderr",
          "text": [
            "RUNNING:  61%|██████    | 91/150 [elapsed: 01:40 remaining: 01:04]"
          ]
        },
        {
          "output_type": "stream",
          "name": "stdout",
          "text": [
            "2025-08-17 16:06:53,487 Sleeping for 5s. Reason: RUNNING\n"
          ]
        },
        {
          "output_type": "stream",
          "name": "stderr",
          "text": [
            "RUNNING:  64%|██████▍   | 96/150 [elapsed: 01:46 remaining: 00:59]"
          ]
        },
        {
          "output_type": "stream",
          "name": "stdout",
          "text": [
            "2025-08-17 16:06:59,202 Sleeping for 6s. Reason: RUNNING\n"
          ]
        },
        {
          "output_type": "stream",
          "name": "stderr",
          "text": [
            "RUNNING:  68%|██████▊   | 102/150 [elapsed: 01:53 remaining: 00:53]"
          ]
        },
        {
          "output_type": "stream",
          "name": "stdout",
          "text": [
            "2025-08-17 16:07:05,916 Sleeping for 9s. Reason: RUNNING\n"
          ]
        },
        {
          "output_type": "stream",
          "name": "stderr",
          "text": [
            "RUNNING:  74%|███████▍  | 111/150 [elapsed: 02:02 remaining: 00:42]"
          ]
        },
        {
          "output_type": "stream",
          "name": "stdout",
          "text": [
            "2025-08-17 16:07:15,613 Sleeping for 8s. Reason: RUNNING\n"
          ]
        },
        {
          "output_type": "stream",
          "name": "stderr",
          "text": [
            "RUNNING:  79%|███████▉  | 119/150 [elapsed: 02:11 remaining: 00:34]"
          ]
        },
        {
          "output_type": "stream",
          "name": "stdout",
          "text": [
            "2025-08-17 16:07:24,473 Sleeping for 9s. Reason: RUNNING\n"
          ]
        },
        {
          "output_type": "stream",
          "name": "stderr",
          "text": [
            "RUNNING:  85%|████████▌ | 128/150 [elapsed: 02:21 remaining: 00:24]"
          ]
        },
        {
          "output_type": "stream",
          "name": "stdout",
          "text": [
            "2025-08-17 16:07:34,168 Sleeping for 9s. Reason: RUNNING\n"
          ]
        },
        {
          "output_type": "stream",
          "name": "stderr",
          "text": [
            "RUNNING:  91%|█████████▏| 137/150 [elapsed: 02:31 remaining: 00:14]"
          ]
        },
        {
          "output_type": "stream",
          "name": "stdout",
          "text": [
            "2025-08-17 16:07:43,875 Sleeping for 5s. Reason: RUNNING\n"
          ]
        },
        {
          "output_type": "stream",
          "name": "stderr",
          "text": [
            "RUNNING:  95%|█████████▍| 142/150 [elapsed: 02:36 remaining: 00:08]"
          ]
        },
        {
          "output_type": "stream",
          "name": "stdout",
          "text": [
            "2025-08-17 16:07:49,571 Sleeping for 9s. Reason: RUNNING\n"
          ]
        },
        {
          "output_type": "stream",
          "name": "stderr",
          "text": [
            "RUNNING: |          | 151/? [elapsed: 02:46 remaining: 00:00]"
          ]
        },
        {
          "output_type": "stream",
          "name": "stdout",
          "text": [
            "2025-08-17 16:07:59,276 Sleeping for 9s. Reason: RUNNING\n"
          ]
        },
        {
          "output_type": "stream",
          "name": "stderr",
          "text": [
            "RUNNING: |          | 160/? [elapsed: 02:56 remaining: 00:00]"
          ]
        },
        {
          "output_type": "stream",
          "name": "stdout",
          "text": [
            "2025-08-17 16:08:08,967 Sleeping for 10s. Reason: RUNNING\n"
          ]
        },
        {
          "output_type": "stream",
          "name": "stderr",
          "text": [
            "RUNNING: |          | 170/? [elapsed: 03:06 remaining: 00:00]"
          ]
        },
        {
          "output_type": "stream",
          "name": "stdout",
          "text": [
            "2025-08-17 16:08:19,670 Sleeping for 10s. Reason: RUNNING\n"
          ]
        },
        {
          "output_type": "stream",
          "name": "stderr",
          "text": [
            "RUNNING: |          | 180/? [elapsed: 03:17 remaining: 00:00]"
          ]
        },
        {
          "output_type": "stream",
          "name": "stdout",
          "text": [
            "2025-08-17 16:08:30,363 Sleeping for 10s. Reason: RUNNING\n"
          ]
        },
        {
          "output_type": "stream",
          "name": "stderr",
          "text": [
            "RUNNING: |          | 190/? [elapsed: 03:28 remaining: 00:00]"
          ]
        },
        {
          "output_type": "stream",
          "name": "stdout",
          "text": [
            "2025-08-17 16:08:41,051 Sleeping for 7s. Reason: RUNNING\n"
          ]
        },
        {
          "output_type": "stream",
          "name": "stderr",
          "text": [
            "RUNNING: |          | 197/? [elapsed: 03:35 remaining: 00:00]"
          ]
        },
        {
          "output_type": "stream",
          "name": "stdout",
          "text": [
            "2025-08-17 16:08:48,760 Sleeping for 7s. Reason: RUNNING\n"
          ]
        },
        {
          "output_type": "stream",
          "name": "stderr",
          "text": [
            "RUNNING: |          | 204/? [elapsed: 03:43 remaining: 00:00]"
          ]
        },
        {
          "output_type": "stream",
          "name": "stdout",
          "text": [
            "2025-08-17 16:08:56,477 Sleeping for 8s. Reason: RUNNING\n"
          ]
        },
        {
          "output_type": "stream",
          "name": "stderr",
          "text": [
            "RUNNING: |          | 212/? [elapsed: 03:52 remaining: 00:00]"
          ]
        },
        {
          "output_type": "stream",
          "name": "stdout",
          "text": [
            "2025-08-17 16:09:05,164 Sleeping for 6s. Reason: RUNNING\n"
          ]
        },
        {
          "output_type": "stream",
          "name": "stderr",
          "text": [
            "RUNNING: |          | 218/? [elapsed: 03:59 remaining: 00:00]"
          ]
        },
        {
          "output_type": "stream",
          "name": "stdout",
          "text": [
            "2025-08-17 16:09:11,850 Sleeping for 9s. Reason: RUNNING\n"
          ]
        },
        {
          "output_type": "stream",
          "name": "stderr",
          "text": [
            "RUNNING: |          | 227/? [elapsed: 04:08 remaining: 00:00]"
          ]
        },
        {
          "output_type": "stream",
          "name": "stdout",
          "text": [
            "2025-08-17 16:09:21,594 Sleeping for 5s. Reason: RUNNING\n"
          ]
        },
        {
          "output_type": "stream",
          "name": "stderr",
          "text": [
            "RUNNING: |          | 232/? [elapsed: 04:14 remaining: 00:00]"
          ]
        },
        {
          "output_type": "stream",
          "name": "stdout",
          "text": [
            "2025-08-17 16:09:27,311 Sleeping for 10s. Reason: RUNNING\n"
          ]
        },
        {
          "output_type": "stream",
          "name": "stderr",
          "text": [
            "RUNNING: |          | 242/? [elapsed: 04:25 remaining: 00:00]"
          ]
        },
        {
          "output_type": "stream",
          "name": "stdout",
          "text": [
            "2025-08-17 16:09:38,027 Sleeping for 9s. Reason: RUNNING\n"
          ]
        },
        {
          "output_type": "stream",
          "name": "stderr",
          "text": [
            "RUNNING: |          | 251/? [elapsed: 04:34 remaining: 00:00]"
          ]
        },
        {
          "output_type": "stream",
          "name": "stdout",
          "text": [
            "2025-08-17 16:09:47,710 Sleeping for 7s. Reason: RUNNING\n"
          ]
        },
        {
          "output_type": "stream",
          "name": "stderr",
          "text": [
            "RUNNING: |          | 258/? [elapsed: 04:42 remaining: 00:00]"
          ]
        },
        {
          "output_type": "stream",
          "name": "stdout",
          "text": [
            "2025-08-17 16:09:55,402 Sleeping for 10s. Reason: RUNNING\n"
          ]
        },
        {
          "output_type": "stream",
          "name": "stderr",
          "text": [
            "RUNNING: |          | 268/? [elapsed: 04:53 remaining: 00:00]"
          ]
        },
        {
          "output_type": "stream",
          "name": "stdout",
          "text": [
            "2025-08-17 16:10:06,115 Sleeping for 9s. Reason: RUNNING\n"
          ]
        },
        {
          "output_type": "stream",
          "name": "stderr",
          "text": [
            "RUNNING: |          | 277/? [elapsed: 05:02 remaining: 00:00]"
          ]
        },
        {
          "output_type": "stream",
          "name": "stdout",
          "text": [
            "2025-08-17 16:10:15,797 Sleeping for 7s. Reason: RUNNING\n"
          ]
        },
        {
          "output_type": "stream",
          "name": "stderr",
          "text": [
            "RUNNING: |          | 284/? [elapsed: 05:10 remaining: 00:00]"
          ]
        },
        {
          "output_type": "stream",
          "name": "stdout",
          "text": [
            "2025-08-17 16:10:23,506 Sleeping for 5s. Reason: RUNNING\n"
          ]
        },
        {
          "output_type": "stream",
          "name": "stderr",
          "text": [
            "RUNNING: |          | 289/? [elapsed: 05:16 remaining: 00:00]"
          ]
        },
        {
          "output_type": "stream",
          "name": "stdout",
          "text": [
            "2025-08-17 16:10:29,208 Sleeping for 5s. Reason: RUNNING\n"
          ]
        },
        {
          "output_type": "stream",
          "name": "stderr",
          "text": [
            "RUNNING: |          | 294/? [elapsed: 05:22 remaining: 00:00]"
          ]
        },
        {
          "output_type": "stream",
          "name": "stdout",
          "text": [
            "2025-08-17 16:10:34,909 Sleeping for 8s. Reason: RUNNING\n"
          ]
        },
        {
          "output_type": "stream",
          "name": "stderr",
          "text": [
            "RUNNING: |          | 302/? [elapsed: 05:30 remaining: 00:00]"
          ]
        },
        {
          "output_type": "stream",
          "name": "stdout",
          "text": [
            "2025-08-17 16:10:43,631 Sleeping for 9s. Reason: RUNNING\n"
          ]
        },
        {
          "output_type": "stream",
          "name": "stderr",
          "text": [
            "RUNNING: |          | 311/? [elapsed: 05:40 remaining: 00:00]"
          ]
        },
        {
          "output_type": "stream",
          "name": "stdout",
          "text": [
            "2025-08-17 16:10:53,359 Sleeping for 6s. Reason: RUNNING\n"
          ]
        },
        {
          "output_type": "stream",
          "name": "stderr",
          "text": [
            "RUNNING: |          | 317/? [elapsed: 05:47 remaining: 00:00]"
          ]
        },
        {
          "output_type": "stream",
          "name": "stdout",
          "text": [
            "2025-08-17 16:11:00,063 Sleeping for 7s. Reason: RUNNING\n"
          ]
        },
        {
          "output_type": "stream",
          "name": "stderr",
          "text": [
            "RUNNING: |          | 324/? [elapsed: 05:54 remaining: 00:00]"
          ]
        },
        {
          "output_type": "stream",
          "name": "stdout",
          "text": [
            "2025-08-17 16:11:07,782 Sleeping for 8s. Reason: RUNNING\n"
          ]
        },
        {
          "output_type": "stream",
          "name": "stderr",
          "text": [
            "RUNNING: |          | 332/? [elapsed: 06:03 remaining: 00:00]"
          ]
        },
        {
          "output_type": "stream",
          "name": "stdout",
          "text": [
            "2025-08-17 16:11:16,477 Sleeping for 10s. Reason: RUNNING\n"
          ]
        },
        {
          "output_type": "stream",
          "name": "stderr",
          "text": [
            "RUNNING: |          | 342/? [elapsed: 06:14 remaining: 00:00]"
          ]
        },
        {
          "output_type": "stream",
          "name": "stdout",
          "text": [
            "2025-08-17 16:11:27,192 Sleeping for 5s. Reason: RUNNING\n"
          ]
        },
        {
          "output_type": "stream",
          "name": "stderr",
          "text": [
            "RUNNING: |          | 347/? [elapsed: 06:20 remaining: 00:00]"
          ]
        },
        {
          "output_type": "stream",
          "name": "stdout",
          "text": [
            "2025-08-17 16:11:32,899 Sleeping for 9s. Reason: RUNNING\n"
          ]
        },
        {
          "output_type": "stream",
          "name": "stderr",
          "text": [
            "RUNNING: |          | 356/? [elapsed: 06:29 remaining: 00:00]"
          ]
        },
        {
          "output_type": "stream",
          "name": "stdout",
          "text": [
            "2025-08-17 16:11:42,616 Sleeping for 7s. Reason: RUNNING\n"
          ]
        },
        {
          "output_type": "stream",
          "name": "stderr",
          "text": [
            "RUNNING: |          | 363/? [elapsed: 06:37 remaining: 00:00]"
          ]
        },
        {
          "output_type": "stream",
          "name": "stdout",
          "text": [
            "2025-08-17 16:11:50,318 Sleeping for 5s. Reason: RUNNING\n"
          ]
        },
        {
          "output_type": "stream",
          "name": "stderr",
          "text": [
            "RUNNING: |          | 368/? [elapsed: 06:43 remaining: 00:00]"
          ]
        },
        {
          "output_type": "stream",
          "name": "stdout",
          "text": [
            "2025-08-17 16:11:56,008 Sleeping for 7s. Reason: RUNNING\n"
          ]
        },
        {
          "output_type": "stream",
          "name": "stderr",
          "text": [
            "RUNNING: |          | 375/? [elapsed: 06:50 remaining: 00:00]"
          ]
        },
        {
          "output_type": "stream",
          "name": "stdout",
          "text": [
            "2025-08-17 16:12:03,690 Sleeping for 9s. Reason: RUNNING\n"
          ]
        },
        {
          "output_type": "stream",
          "name": "stderr",
          "text": [
            "RUNNING: |          | 384/? [elapsed: 07:00 remaining: 00:00]"
          ]
        },
        {
          "output_type": "stream",
          "name": "stdout",
          "text": [
            "2025-08-17 16:12:13,443 Sleeping for 8s. Reason: RUNNING\n"
          ]
        },
        {
          "output_type": "stream",
          "name": "stderr",
          "text": [
            "RUNNING: |          | 392/? [elapsed: 07:09 remaining: 00:00]"
          ]
        },
        {
          "output_type": "stream",
          "name": "stdout",
          "text": [
            "2025-08-17 16:12:22,136 Sleeping for 8s. Reason: RUNNING\n"
          ]
        },
        {
          "output_type": "stream",
          "name": "stderr",
          "text": [
            "RUNNING: |          | 400/? [elapsed: 07:18 remaining: 00:00]"
          ]
        },
        {
          "output_type": "stream",
          "name": "stdout",
          "text": [
            "2025-08-17 16:12:30,819 Sleeping for 5s. Reason: RUNNING\n"
          ]
        },
        {
          "output_type": "stream",
          "name": "stderr",
          "text": [
            "RUNNING: |          | 405/? [elapsed: 07:23 remaining: 00:00]"
          ]
        },
        {
          "output_type": "stream",
          "name": "stdout",
          "text": [
            "2025-08-17 16:12:36,525 Sleeping for 6s. Reason: RUNNING\n"
          ]
        },
        {
          "output_type": "stream",
          "name": "stderr",
          "text": [
            "RUNNING: |          | 411/? [elapsed: 07:30 remaining: 00:00]"
          ]
        },
        {
          "output_type": "stream",
          "name": "stdout",
          "text": [
            "2025-08-17 16:12:43,205 Sleeping for 10s. Reason: RUNNING\n"
          ]
        },
        {
          "output_type": "stream",
          "name": "stderr",
          "text": [
            "RUNNING: |          | 421/? [elapsed: 07:41 remaining: 00:00]"
          ]
        },
        {
          "output_type": "stream",
          "name": "stdout",
          "text": [
            "2025-08-17 16:12:53,919 Sleeping for 9s. Reason: RUNNING\n"
          ]
        },
        {
          "output_type": "stream",
          "name": "stderr",
          "text": [
            "RUNNING: |          | 430/? [elapsed: 07:50 remaining: 00:00]"
          ]
        },
        {
          "output_type": "stream",
          "name": "stdout",
          "text": [
            "2025-08-17 16:13:03,614 Sleeping for 9s. Reason: RUNNING\n"
          ]
        },
        {
          "output_type": "stream",
          "name": "stderr",
          "text": [
            "RUNNING: |          | 439/? [elapsed: 08:00 remaining: 00:00]"
          ]
        },
        {
          "output_type": "stream",
          "name": "stdout",
          "text": [
            "2025-08-17 16:13:13,322 Sleeping for 8s. Reason: RUNNING\n"
          ]
        },
        {
          "output_type": "stream",
          "name": "stderr",
          "text": [
            "COMPLETE: |          | 439/? [elapsed: 08:10 remaining: 00:00]\n"
          ]
        },
        {
          "output_type": "stream",
          "name": "stdout",
          "text": [
            "2025-08-17 16:13:41,823 Sequence 0 found templates: ['6v81_A', '3qlb_B', '3qlb_A', '1xkw_A', '6i97_B', '6i98_A', '6i97_A', '8a60_A', '4cu4_A', '2grx_B', '8b14_A', '1fcp_A', '1qff_A', '1by3_A', '5fp1_A', '6bpo_D', '6r1f_A', '6z2n_AAA', '5out_A', '5mzs_A']\n",
            "2025-08-17 16:17:28,433 alphafold2_ptm_model_1_seed_000 recycle=0 pLDDT=83.8 pTM=0.823\n",
            "2025-08-17 16:20:38,200 alphafold2_ptm_model_1_seed_000 recycle=1 pLDDT=84.9 pTM=0.835 tol=4.08\n",
            "2025-08-17 16:23:16,947 alphafold2_ptm_model_1_seed_000 recycle=2 pLDDT=86.1 pTM=0.842 tol=2.59\n",
            "2025-08-17 16:25:56,219 alphafold2_ptm_model_1_seed_000 recycle=3 pLDDT=86.1 pTM=0.84 tol=1.28\n",
            "2025-08-17 16:25:56,226 alphafold2_ptm_model_1_seed_000 took 725.5s (3 recycles)\n",
            "2025-08-17 16:28:35,669 alphafold2_ptm_model_2_seed_000 recycle=0 pLDDT=83.6 pTM=0.824\n",
            "2025-08-17 16:31:15,141 alphafold2_ptm_model_2_seed_000 recycle=1 pLDDT=85.6 pTM=0.842 tol=5.45\n",
            "2025-08-17 16:33:53,660 alphafold2_ptm_model_2_seed_000 recycle=2 pLDDT=86.6 pTM=0.848 tol=0.655\n",
            "2025-08-17 16:36:33,584 alphafold2_ptm_model_2_seed_000 recycle=3 pLDDT=86.9 pTM=0.848 tol=0.645\n",
            "2025-08-17 16:36:33,591 alphafold2_ptm_model_2_seed_000 took 636.8s (3 recycles)\n",
            "2025-08-17 16:39:28,439 alphafold2_ptm_model_3_seed_000 recycle=0 pLDDT=85.4 pTM=0.843\n",
            "2025-08-17 16:42:20,369 alphafold2_ptm_model_3_seed_000 recycle=1 pLDDT=87.3 pTM=0.856 tol=7.02\n",
            "2025-08-17 16:44:52,505 alphafold2_ptm_model_3_seed_000 recycle=2 pLDDT=88.1 pTM=0.863 tol=1.62\n",
            "2025-08-17 16:47:24,465 alphafold2_ptm_model_3_seed_000 recycle=3 pLDDT=88.5 pTM=0.863 tol=0.435\n",
            "2025-08-17 16:47:24,485 alphafold2_ptm_model_3_seed_000 took 650.3s (3 recycles)\n",
            "2025-08-17 16:47:25,235 reranking models by 'plddt' metric\n",
            "2025-08-17 16:47:25,235 rank_001_alphafold2_ptm_model_3_seed_000 pLDDT=88.5 pTM=0.863\n",
            "2025-08-17 16:47:25,239 rank_002_alphafold2_ptm_model_2_seed_000 pLDDT=86.9 pTM=0.848\n",
            "2025-08-17 16:47:25,242 rank_003_alphafold2_ptm_model_1_seed_000 pLDDT=86.1 pTM=0.84\n",
            "2025-08-17 16:47:27,497 Done\n"
          ]
        },
        {
          "output_type": "execute_result",
          "data": {
            "text/plain": [
              "{'rank': [['rank_001_alphafold2_ptm_model_2_seed_000',\n",
              "   'rank_002_alphafold2_ptm_model_3_seed_000',\n",
              "   'rank_003_alphafold2_ptm_model_1_seed_000'],\n",
              "  ['rank_001_alphafold2_ptm_model_3_seed_000',\n",
              "   'rank_002_alphafold2_ptm_model_1_seed_000',\n",
              "   'rank_003_alphafold2_ptm_model_2_seed_000'],\n",
              "  ['rank_001_alphafold2_ptm_model_3_seed_000',\n",
              "   'rank_002_alphafold2_ptm_model_1_seed_000',\n",
              "   'rank_003_alphafold2_ptm_model_2_seed_000'],\n",
              "  ['rank_001_alphafold2_ptm_model_3_seed_000',\n",
              "   'rank_002_alphafold2_ptm_model_1_seed_000',\n",
              "   'rank_003_alphafold2_ptm_model_2_seed_000'],\n",
              "  ['rank_001_alphafold2_ptm_model_3_seed_000',\n",
              "   'rank_002_alphafold2_ptm_model_2_seed_000',\n",
              "   'rank_003_alphafold2_ptm_model_1_seed_000'],\n",
              "  ['rank_001_alphafold2_ptm_model_1_seed_000',\n",
              "   'rank_002_alphafold2_ptm_model_2_seed_000',\n",
              "   'rank_003_alphafold2_ptm_model_3_seed_000'],\n",
              "  ['rank_001_alphafold2_ptm_model_3_seed_000',\n",
              "   'rank_002_alphafold2_ptm_model_2_seed_000',\n",
              "   'rank_003_alphafold2_ptm_model_1_seed_000'],\n",
              "  ['rank_001_alphafold2_ptm_model_3_seed_000',\n",
              "   'rank_002_alphafold2_ptm_model_2_seed_000',\n",
              "   'rank_003_alphafold2_ptm_model_1_seed_000'],\n",
              "  ['rank_001_alphafold2_ptm_model_3_seed_000',\n",
              "   'rank_002_alphafold2_ptm_model_2_seed_000',\n",
              "   'rank_003_alphafold2_ptm_model_1_seed_000']],\n",
              " 'metric': [[{'mean_plddt': 73.4375,\n",
              "    'ptm': 0.35595703125,\n",
              "    'print_line': ' pLDDT=73.4 pTM=0.356'},\n",
              "   {'mean_plddt': 73.1875,\n",
              "    'ptm': 0.373779296875,\n",
              "    'print_line': ' pLDDT=73.2 pTM=0.374'},\n",
              "   {'mean_plddt': 72.8125,\n",
              "    'ptm': 0.3720703125,\n",
              "    'print_line': ' pLDDT=72.8 pTM=0.372'}],\n",
              "  [{'mean_plddt': 92.375,\n",
              "    'ptm': 0.85302734375,\n",
              "    'print_line': ' pLDDT=92.4 pTM=0.853'},\n",
              "   {'mean_plddt': 90.375,\n",
              "    'ptm': 0.83740234375,\n",
              "    'print_line': ' pLDDT=90.4 pTM=0.837'},\n",
              "   {'mean_plddt': 89.625,\n",
              "    'ptm': 0.83203125,\n",
              "    'print_line': ' pLDDT=89.6 pTM=0.832'}],\n",
              "  [{'mean_plddt': 81.5625,\n",
              "    'ptm': 0.49951171875,\n",
              "    'print_line': ' pLDDT=81.6 pTM=0.5'},\n",
              "   {'mean_plddt': 81.1875,\n",
              "    'ptm': 0.497314453125,\n",
              "    'print_line': ' pLDDT=81.2 pTM=0.497'},\n",
              "   {'mean_plddt': 81.125,\n",
              "    'ptm': 0.50439453125,\n",
              "    'print_line': ' pLDDT=81.1 pTM=0.504'}],\n",
              "  [{'mean_plddt': 77.25,\n",
              "    'ptm': 0.57080078125,\n",
              "    'print_line': ' pLDDT=77.2 pTM=0.571'},\n",
              "   {'mean_plddt': 75.5625,\n",
              "    'ptm': 0.5380859375,\n",
              "    'print_line': ' pLDDT=75.6 pTM=0.538'},\n",
              "   {'mean_plddt': 74.625,\n",
              "    'ptm': 0.52392578125,\n",
              "    'print_line': ' pLDDT=74.6 pTM=0.524'}],\n",
              "  [{'mean_plddt': 89.25,\n",
              "    'ptm': 0.87939453125,\n",
              "    'print_line': ' pLDDT=89.2 pTM=0.879'},\n",
              "   {'mean_plddt': 87.75,\n",
              "    'ptm': 0.87109375,\n",
              "    'print_line': ' pLDDT=87.8 pTM=0.871'},\n",
              "   {'mean_plddt': 87.125,\n",
              "    'ptm': 0.86474609375,\n",
              "    'print_line': ' pLDDT=87.1 pTM=0.865'}],\n",
              "  [{'mean_plddt': 91.75,\n",
              "    'ptm': 0.888671875,\n",
              "    'print_line': ' pLDDT=91.8 pTM=0.889'},\n",
              "   {'mean_plddt': 91.6875,\n",
              "    'ptm': 0.89013671875,\n",
              "    'print_line': ' pLDDT=91.7 pTM=0.89'},\n",
              "   {'mean_plddt': 91.5625,\n",
              "    'ptm': 0.89111328125,\n",
              "    'print_line': ' pLDDT=91.6 pTM=0.891'}],\n",
              "  [{'mean_plddt': 89.0,\n",
              "    'ptm': 0.8818359375,\n",
              "    'print_line': ' pLDDT=89 pTM=0.882'},\n",
              "   {'mean_plddt': 88.125,\n",
              "    'ptm': 0.87744140625,\n",
              "    'print_line': ' pLDDT=88.1 pTM=0.877'},\n",
              "   {'mean_plddt': 86.4375,\n",
              "    'ptm': 0.8603515625,\n",
              "    'print_line': ' pLDDT=86.4 pTM=0.86'}],\n",
              "  [{'mean_plddt': 91.25,\n",
              "    'ptm': 0.89208984375,\n",
              "    'print_line': ' pLDDT=91.2 pTM=0.892'},\n",
              "   {'mean_plddt': 90.625,\n",
              "    'ptm': 0.89697265625,\n",
              "    'print_line': ' pLDDT=90.6 pTM=0.897'},\n",
              "   {'mean_plddt': 89.9375,\n",
              "    'ptm': 0.89013671875,\n",
              "    'print_line': ' pLDDT=89.9 pTM=0.89'}],\n",
              "  [{'mean_plddt': 88.5,\n",
              "    'ptm': 0.86279296875,\n",
              "    'print_line': ' pLDDT=88.5 pTM=0.863'},\n",
              "   {'mean_plddt': 86.9375,\n",
              "    'ptm': 0.84814453125,\n",
              "    'print_line': ' pLDDT=86.9 pTM=0.848'},\n",
              "   {'mean_plddt': 86.0625,\n",
              "    'ptm': 0.84033203125,\n",
              "    'print_line': ' pLDDT=86.1 pTM=0.84'}]]}"
            ]
          },
          "metadata": {},
          "execution_count": 5
        }
      ]
    },
    {
      "cell_type": "markdown",
      "metadata": {
        "id": "UGUBLzB3C6WN"
      },
      "source": [
        "# Instructions <a name=\"Instructions\"></a>\n",
        "**Quick start**\n",
        "1. Upload your single fasta files to a folder in your Google Drive\n",
        "2. Define path to the fold containing the fasta files (`input_dir`) define an outdir (`output_dir`)\n",
        "3. Press \"Runtime\" -> \"Run all\".\n",
        "\n",
        "**Result zip file contents**\n",
        "\n",
        "At the end of the job a all results `jobname.result.zip` will be uploaded to your (`output_dir`) Google Drive. Each zip contains one protein.\n",
        "\n",
        "1. PDB formatted structures sorted by avg. pIDDT. (unrelaxed and relaxed if `use_amber` is enabled).\n",
        "2. Plots of the model quality.\n",
        "3. Plots of the MSA coverage.\n",
        "4. Parameter log file.\n",
        "5. A3M formatted input MSA.\n",
        "6. BibTeX file with citations for all used tools and databases.\n",
        "\n",
        "\n",
        "**Troubleshooting**\n",
        "* Check that the runtime type is set to GPU at \"Runtime\" -> \"Change runtime type\".\n",
        "* Try to restart the session \"Runtime\" -> \"Factory reset runtime\".\n",
        "* Check your input sequence.\n",
        "\n",
        "**Known issues**\n",
        "* Google Colab assigns different types of GPUs with varying amount of memory. Some might not have enough memory to predict the structure for a long sequence.\n",
        "* Google Colab assigns different types of GPUs with varying amount of memory. Some might not have enough memory to predict the structure for a long sequence.\n",
        "* Your browser can block the pop-up for downloading the result file. You can choose the `save_to_google_drive` option to upload to Google Drive instead or manually download the result file: Click on the little folder icon to the left, navigate to file: `jobname.result.zip`, right-click and select \\\"Download\\\" (see [screenshot](https://pbs.twimg.com/media/E6wRW2lWUAEOuoe?format=jpg&name=small)).\n",
        "\n",
        "**Limitations**\n",
        "* Computing resources: Our MMseqs2 API can handle ~20-50k requests per day.\n",
        "* MSAs: MMseqs2 is very precise and sensitive but might find less hits compared to HHblits/HMMer searched against BFD or Mgnify.\n",
        "* We recommend to additionally use the full [AlphaFold2 pipeline](https://github.com/deepmind/alphafold).\n",
        "\n",
        "**Description of the plots**\n",
        "*   **Number of sequences per position** - We want to see at least 30 sequences per position, for best performance, ideally 100 sequences.\n",
        "*   **Predicted lDDT per position** - model confidence (out of 100) at each position. The higher the better.\n",
        "*   **Predicted Alignment Error** - For homooligomers, this could be a useful metric to assess how confident the model is about the interface. The lower the better.\n",
        "\n",
        "**Bugs**\n",
        "- If you encounter any bugs, please report the issue to https://github.com/sokrypton/ColabFold/issues\n",
        "\n",
        "**License**\n",
        "\n",
        "The source code of ColabFold is licensed under [MIT](https://raw.githubusercontent.com/sokrypton/ColabFold/main/LICENSE). Additionally, this notebook uses AlphaFold2 source code and its parameters licensed under [Apache 2.0](https://raw.githubusercontent.com/deepmind/alphafold/main/LICENSE) and  [CC BY 4.0](https://creativecommons.org/licenses/by-sa/4.0/) respectively. Read more about the AlphaFold license [here](https://github.com/deepmind/alphafold).\n",
        "\n",
        "**Acknowledgments**\n",
        "- We thank the AlphaFold team for developing an excellent model and open sourcing the software.\n",
        "\n",
        "- Do-Yoon Kim for creating the ColabFold logo.\n",
        "\n",
        "- A colab by Sergey Ovchinnikov ([@sokrypton](https://twitter.com/sokrypton)), Milot Mirdita ([@milot_mirdita](https://twitter.com/milot_mirdita)) and Martin Steinegger ([@thesteinegger](https://twitter.com/thesteinegger)).\n"
      ]
    }
  ]
}